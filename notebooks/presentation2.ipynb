{
 "cells": [
  {
   "cell_type": "markdown",
   "metadata": {
    "slideshow": {
     "slide_type": "slide"
    }
   },
   "source": [
    "# Optimisation of LCA models\n",
    "\n",
    "* Minimise environment impact and/or cost of a network of processes \n",
    "* OpenLCA for lifecycle assessment data\n",
    "* Pyomo for mathematical optimisation\n",
    "* Jupyter notebooks for prototyping\n",
    "* **Qt GUI for configuration and solution**"
   ]
  },
  {
   "cell_type": "markdown",
   "metadata": {
    "slideshow": {
     "slide_type": "slide"
    }
   },
   "source": [
    "# OpenLCA\n",
    "\n",
    "* Java application built by Greendata\n",
    "* Front-end to life-cycle database of processes and flows\n",
    "* Ecoinvent system database has ~18000 processes ~7000 flows\n",
    "* System processes broken down into elementary flows\n",
    "* Contains methodologies to calculate impact of system\n",
    "* **Cannot feasibly optimise over multiple alternatives**"
   ]
  },
  {
   "cell_type": "markdown",
   "metadata": {
    "slideshow": {
     "slide_type": "slide"
    }
   },
   "source": [
    "# Pyomo\n",
    "\n",
    "* An algebraic modelling langugage like GAMS, AIMMS\n",
    "* Implemented as an object model in Python package `pyomo`\n",
    "* Eases translation of mathematical optimisation problem to actual implementation\n",
    "* Optimisation problems are formulated by building concrete or **abstract model**\n"
   ]
  },
  {
   "cell_type": "markdown",
   "metadata": {
    "slideshow": {
     "slide_type": "slide"
    }
   },
   "source": [
    "# Mola\n",
    "\n",
    "Python package to build optimisation models using openLCA data\n",
    "\n",
    "| Module | Description |\n",
    "| ------ | ----------- |\n",
    "| `mola.dataimport` | Convert openLCA Ecoinvent system db to sqlite |\n",
    "| `mola.dataview` | Build SQL to query sqlite db |\n",
    "| `mola.specificationv5` | Classes each containing abstract Pyomo model |\n",
    "| `mola.build` | Configure, populate, solve optimisation problem |\n",
    "| `mola.output` | Turn pyomo objects into Pandas DataFrames |"
   ]
  },
  {
   "cell_type": "markdown",
   "metadata": {
    "slideshow": {
     "slide_type": "subslide"
    }
   },
   "source": [
    "## Example\n",
    "\n",
    "`mola.dataview` is a module of functions to build SQL and a return Pandas DataFrame."
   ]
  },
  {
   "cell_type": "code",
   "execution_count": null,
   "metadata": {
    "slideshow": {
     "slide_type": "fragment"
    }
   },
   "outputs": [],
   "source": [
    "import mola.dataview as dv\n",
    "dbconn = dv.get_sqlite_connection()"
   ]
  },
  {
   "cell_type": "code",
   "execution_count": null,
   "metadata": {
    "slideshow": {
     "slide_type": "fragment"
    }
   },
   "outputs": [],
   "source": [
    "dv"
   ]
  },
  {
   "cell_type": "code",
   "execution_count": null,
   "metadata": {
    "slideshow": {
     "slide_type": "fragment"
    }
   },
   "outputs": [],
   "source": [
    "dv.get_processes(dbconn, name=['%lemon%'])"
   ]
  },
  {
   "cell_type": "markdown",
   "metadata": {
    "slideshow": {
     "slide_type": "subslide"
    }
   },
   "source": [
    "## Specification\n",
    "\n",
    "Decorates a `pyomo` abstract model so that we can build an interface using introspection\n",
    "```\n",
    "class TestSpecification(Specification):\n",
    "    name = 'Test Specification'\n",
    "    user_defined_sets = {'A': {'doc': 'test set', 'lookup': False}}\n",
    "    user_defined_parameters = {'Q': {'index': ['A'], 'doc': 'test parameters'}}\n",
    "\n",
    "    def __init__():\n",
    "        self.abstract_model = AbstractModel() # build user defined and db parameters\n",
    "        \n",
    "    def populate(json_files): # populates abstract model\n",
    "        dp = DataPortal()\n",
    "```"
   ]
  },
  {
   "cell_type": "markdown",
   "metadata": {
    "slideshow": {
     "slide_type": "slide"
    }
   },
   "source": [
    "# MolaQT\n",
    "\n",
    "* Front-end to Mola using `pyqt`\n",
    "* MolaQT is a data editor and execution environment\n",
    "* Mainly focused on using openLCA data for optimisation, but can be used more generally\n",
    "* There is (currently) separation between **model building** (Mola) and **model usage** (MolaQT)\n",
    "* Use Pyomo to formulate model `Specification` in Jupyter or script\n",
    "\n"
   ]
  },
  {
   "cell_type": "markdown",
   "metadata": {
    "slideshow": {
     "slide_type": "subslide"
    }
   },
   "source": [
    "## Abstract Controller\n",
    "\n",
    "MolaQT has a Controller object for each model. It is a collection widgets that manipulate model configuration data. \n",
    "\n",
    "```\n",
    "class Controller(QWidget):\n",
    "\n",
    "  def __init__(spec):\n",
    "      self.spec = spec\n",
    "      self.sets = spec.get_default_sets()\n",
    "      self.parameters = spec.get_default_parameters()\n",
    "      self.lookup = LookupTables(self.db) # if required\n",
    "\n",
    "  def get_config(self): # get current state\n",
    "```"
   ]
  },
  {
   "cell_type": "markdown",
   "metadata": {
    "slideshow": {
     "slide_type": "subslide"
    }
   },
   "source": [
    "## StandardController\n",
    "\n",
    "Aims to Mirror Pyomo modelling structure so flexible but low-level.\n",
    "\n",
    "```\n",
    "class StandardController(Controller):\n",
    "\n",
    "  def __init__(spec):\n",
    "       self.sets_editor = SetsEditor(self.sets, self.lookup)\n",
    "       self.parameters_editor = ParametersEditor(self.sets, self.parameters, self.lookup)\n",
    "       self.model_build = ModelBuild(self)\n",
    "       self.model_run = ModelRun(self.lookup)\n",
    "  \n",
    "```"
   ]
  },
  {
   "cell_type": "markdown",
   "metadata": {
    "slideshow": {
     "slide_type": "subslide"
    }
   },
   "source": [
    "## CustomController\n",
    "\n",
    "High-level widgets tied to a particular model and workflow. Hardcodes the model to the UI.\n",
    "\n",
    "```\n",
    "class CustomController(Controller):\n",
    "\n",
    "  def __init__(spec):\n",
    "       self.objectives = ObjectivesWidget(self.sets, self.lookup)\n",
    "       self.ProcessFlow = ProcessFlow(self.sets, self.parameters, self.lookup)\n",
    "       self.model_build = ModelBuild(self)\n",
    "       self.model_run = ModelRun(self.lookup)\n",
    " ```"
   ]
  },
  {
   "cell_type": "markdown",
   "metadata": {
    "slideshow": {
     "slide_type": "slide"
    }
   },
   "source": [
    "# Demo of molaqt\n",
    "\n",
    "* General overview: Github, DB, General Specification, Models\n",
    "* AIMMS tutorial problem: interface and model construction\n",
    "* Orange production and transport: openLCA data (StandardController)\n",
    "* Orange production and transport: openLCA data (CustomController)"
   ]
  },
  {
   "cell_type": "markdown",
   "metadata": {
    "slideshow": {
     "slide_type": "slide"
    }
   },
   "source": [
    "# Development work\n",
    "\n",
    "* Tasks: pyomo.network - MultiTaskController, ScheduleController, DashboardController\n",
    "* Storage: AIMMS advanced example, Sargent papers, STNs, RTNs\n",
    "* Expand `output` module to export data for graphing\n",
    "* More sophistical openLCA models e.g. oil to diesel conversion\n",
    "* Dynamic model generation"
   ]
  }
 ],
 "metadata": {
  "celltoolbar": "Slideshow",
  "kernelspec": {
   "display_name": "Python 3",
   "language": "python",
   "name": "python3"
  },
  "language_info": {
   "codemirror_mode": {
    "name": "ipython",
    "version": 3
   },
   "file_extension": ".py",
   "mimetype": "text/x-python",
   "name": "python",
   "nbconvert_exporter": "python",
   "pygments_lexer": "ipython3",
   "version": "3.7.9"
  },
  "rise": {
   "enable_chalkboard": true
  },
  "toc": {
   "base_numbering": 1,
   "nav_menu": {},
   "number_sections": true,
   "sideBar": true,
   "skip_h1_title": false,
   "title_cell": "Table of Contents",
   "title_sidebar": "Contents",
   "toc_cell": false,
   "toc_position": {},
   "toc_section_display": true,
   "toc_window_display": false
  },
  "varInspector": {
   "cols": {
    "lenName": 16,
    "lenType": 16,
    "lenVar": 40
   },
   "kernels_config": {
    "python": {
     "delete_cmd_postfix": "",
     "delete_cmd_prefix": "del ",
     "library": "var_list.py",
     "varRefreshCmd": "print(var_dic_list())"
    },
    "r": {
     "delete_cmd_postfix": ") ",
     "delete_cmd_prefix": "rm(",
     "library": "var_list.r",
     "varRefreshCmd": "cat(var_dic_list()) "
    }
   },
   "types_to_exclude": [
    "module",
    "function",
    "builtin_function_or_method",
    "instance",
    "_Feature"
   ],
   "window_display": false
  }
 },
 "nbformat": 4,
 "nbformat_minor": 4
}
