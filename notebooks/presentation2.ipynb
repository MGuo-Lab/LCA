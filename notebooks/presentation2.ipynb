{
 "cells": [
  {
   "cell_type": "markdown",
   "metadata": {
    "slideshow": {
     "slide_type": "slide"
    }
   },
   "source": [
    "# Optimisation of LCA models\n",
    "\n",
    "* Minimise environment impact and/or cost of a network of processes \n",
    "* OpenLCA for lifecycle assessment data\n",
    "* Pyomo for mathematical optimisation\n",
    "* Jupyter notebooks for prototyping\n",
    "* Qt GUI for configuration and solution"
   ]
  },
  {
   "cell_type": "markdown",
   "metadata": {
    "slideshow": {
     "slide_type": "slide"
    }
   },
   "source": [
    "# OpenLCA\n",
    "\n",
    "* Java application built by Greendata\n",
    "* Front-end to life-cycle database of processes and flows\n",
    "* Ecoinvent system database has ~18000 processes ~7000 flows\n",
    "* System processes broken down into elementary flows\n",
    "* Contains methodologies to calculate impact of system\n",
    "* Cannot feasibly optimise over multiple alternatives"
   ]
  },
  {
   "cell_type": "markdown",
   "metadata": {
    "slideshow": {
     "slide_type": "slide"
    }
   },
   "source": [
    "# Pyomo\n",
    "\n",
    "* An algebraic modelling langugage like GAMS, AIMMS\n",
    "* Implemented as an object model in Python package `pyomo`\n",
    "* Eases translation of mathematical optimisation problem to actual implementation\n",
    "* Optimisation problems are formulated by building concrete or abstract model\n"
   ]
  },
  {
   "cell_type": "markdown",
   "metadata": {
    "slideshow": {
     "slide_type": "slide"
    }
   },
   "source": [
    "# Mola\n",
    "\n",
    "* Python package builds optimisation models using openLCA data\n",
    "* `mola.dataview`: SQL queries to query SQLite database of openLCA data (Ecoinvent system db) \n",
    "* `mola.specificationv5`: `Specification` classes each containing abstract Pyomo model\n",
    "* `mola.build`: configure, populate, solve optimisation problem"
   ]
  },
  {
   "cell_type": "markdown",
   "metadata": {
    "slideshow": {
     "slide_type": "slide"
    }
   },
   "source": [
    "## Specification\n",
    "\n",
    "Decorates a `pyomo` abstract model so that we can build an interface using introspection.\n",
    "\n",
    "```\n",
    "class Specification():\n",
    "    user_defined_sets = {'A': {'doc': 'test set', 'lookup'=False}}\n",
    "    user_defined_parameters = {'Q': {'index': ['A'], 'doc'='test parameters'}}\n",
    "\n",
    "    def __init__():\n",
    "        self.abstract_model = AbstractModel()\n",
    "        # build user defined and db parameters\n",
    "        \n",
    "    def populate(json_files): # populates abstract model\n",
    "        dp = DataPortal()\n",
    "        \n",
    "```"
   ]
  },
  {
   "cell_type": "markdown",
   "metadata": {
    "slideshow": {
     "slide_type": "slide"
    }
   },
   "source": [
    "# MolaQT\n",
    "\n",
    "Front-end to Mola using `pyqt`. Built around a `Controller` object for each model\n",
    "\n",
    "```\n",
    "class Controller(QWidget):\n",
    "\n",
    "  def __init__(spec):\n",
    "      self.spec = spec\n",
    "      self.sets = spec.get_default_sets()\n",
    "      self.parameters = spec.get_default_parameters()\n",
    "      self.lookup = LookupTables(self.db) # if required\n",
    "  \n",
    "  def get_config(self): # get current state\n",
    "```"
   ]
  },
  {
   "cell_type": "markdown",
   "metadata": {
    "slideshow": {
     "slide_type": "slide"
    }
   },
   "source": [
    "## StandardController\n",
    "\n",
    "Aims to Mirror Pyomo modelling language using a collection of QtWidgets\n",
    "\n",
    "```\n",
    "class StandardController(Controller):\n",
    "\n",
    "  def __init__(spec):\n",
    "       self.sets_editor = SetsEditor(self.sets, self.lookup)\n",
    "       self.parameters_editor = ParametersEditor(self.sets, self.parameters, self.lookup)\n",
    "       self.model_build = ModelBuild(self)\n",
    "       self.model_run = ModelRun(self.lookup)\n",
    "  \n",
    "```"
   ]
  },
  {
   "cell_type": "markdown",
   "metadata": {
    "slideshow": {
     "slide_type": "slide"
    }
   },
   "source": [
    "## CustomController\n",
    "\n",
    "High-level widgets tied to a particular model and workflow. Hardcodes the model to the UI.\n",
    "\n",
    "```\n",
    "class StandardController(Controller):\n",
    "\n",
    "  def __init__(spec):\n",
    "       self.objectives = ObjectivesWidget(self.sets, self.lookup)\n",
    "       self.ProcessFlow = ProcessFlow(self.sets, self.parameters, self.lookup)\n",
    "       self.model_build = ModelBuild(self)\n",
    "       self.model_run = ModelRun(self.lookup)\n",
    " ```"
   ]
  },
  {
   "cell_type": "markdown",
   "metadata": {
    "slideshow": {
     "slide_type": "subslide"
    }
   },
   "source": [
    "## DashboardController\n",
    "\n",
    "* Not yet implemented\n",
    "* No need to use tabbed interface\n",
    "* Could create a single dashboard if model is sufficiently simple\n",
    "* Incorporate or export output"
   ]
  },
  {
   "cell_type": "markdown",
   "metadata": {
    "slideshow": {
     "slide_type": "slide"
    }
   },
   "source": [
    "# Demos\n",
    "\n",
    "* General overview: Github, DB, General Specification, Models\n",
    "* AIMMS tutorial problem: interface and model construction\n",
    "* Orange production and transport: openLCA data (StandardController)\n",
    "* Orange production and transport: openLCA data (CustomController)"
   ]
  },
  {
   "cell_type": "markdown",
   "metadata": {
    "slideshow": {
     "slide_type": "slide"
    }
   },
   "source": [
    "# Development work\n",
    "\n",
    "* Tasks: pyomo.network - MultiTaskController, ScheduleController, DashboardController\n",
    "* Storage: AIMMS advanced example, Sargent papers, STNs, RTNs\n",
    "* Output: current module to convert pyomo output to DataFrames for export, graphing\n",
    "* More sophistical openLCA models e.g. oil to diesel conversion\n",
    "* Dynamic model generation?"
   ]
  }
 ],
 "metadata": {
  "celltoolbar": "Slideshow",
  "kernelspec": {
   "display_name": "Python 3",
   "language": "python",
   "name": "python3"
  },
  "language_info": {
   "codemirror_mode": {
    "name": "ipython",
    "version": 3
   },
   "file_extension": ".py",
   "mimetype": "text/x-python",
   "name": "python",
   "nbconvert_exporter": "python",
   "pygments_lexer": "ipython3",
   "version": "3.7.9"
  },
  "rise": {
   "enable_chalkboard": true
  },
  "toc": {
   "base_numbering": 1,
   "nav_menu": {},
   "number_sections": true,
   "sideBar": true,
   "skip_h1_title": false,
   "title_cell": "Table of Contents",
   "title_sidebar": "Contents",
   "toc_cell": false,
   "toc_position": {},
   "toc_section_display": true,
   "toc_window_display": false
  },
  "varInspector": {
   "cols": {
    "lenName": 16,
    "lenType": 16,
    "lenVar": 40
   },
   "kernels_config": {
    "python": {
     "delete_cmd_postfix": "",
     "delete_cmd_prefix": "del ",
     "library": "var_list.py",
     "varRefreshCmd": "print(var_dic_list())"
    },
    "r": {
     "delete_cmd_postfix": ") ",
     "delete_cmd_prefix": "rm(",
     "library": "var_list.r",
     "varRefreshCmd": "cat(var_dic_list()) "
    }
   },
   "types_to_exclude": [
    "module",
    "function",
    "builtin_function_or_method",
    "instance",
    "_Feature"
   ],
   "window_display": false
  }
 },
 "nbformat": 4,
 "nbformat_minor": 4
}
