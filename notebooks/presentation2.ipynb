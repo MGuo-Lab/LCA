{
 "cells": [
  {
   "cell_type": "markdown",
   "metadata": {
    "slideshow": {
     "slide_type": "slide"
    }
   },
   "source": [
    "# Optimisation of LCA models\n",
    "\n",
    "* Minimise environment impact and/or cost of a network of processes \n",
    "* OpenLCA for lifecycle assessment data\n",
    "* Pyomo for mathematical optimisation\n",
    "* Jupyter notebooks for prototyping\n",
    "* Qt GUI for configuration and solution"
   ]
  },
  {
   "cell_type": "markdown",
   "metadata": {
    "slideshow": {
     "slide_type": "slide"
    }
   },
   "source": [
    "# OpenLCA\n",
    "\n",
    "* Java application built by Greendata\n",
    "* Front-end to life-cycle database of processes and flows\n",
    "* Ecoinvent system database has ~18000 processes ~7000 flows\n",
    "* System processes broken down into elementary flows\n",
    "* Contains methodologies to calculate impact of system\n",
    "* Cannot feasibly optimise over multiple alternatives"
   ]
  },
  {
   "cell_type": "markdown",
   "metadata": {
    "slideshow": {
     "slide_type": "slide"
    }
   },
   "source": [
    "# Pyomo\n",
    "\n",
    "* An algebraic modelling langugage like GAMS, AIMMS\n",
    "* Implemented as an object model in Python package `pyomo`\n",
    "* Eases translation of mathematical optimisation problem to actual implementation\n",
    "* Optimisation problems are formulated by building concrete or abstract model\n"
   ]
  },
  {
   "cell_type": "markdown",
   "metadata": {
    "slideshow": {
     "slide_type": "slide"
    }
   },
   "source": [
    "# Mola\n",
    "\n",
    "Python package builds optimisation models using openLCA data\n",
    "\n",
    "| Module | Description |\n",
    "| ------ | ----------- |\n",
    "| `mola.dataimport` | Convert openLCA Ecoinvent system db to sqlite |\n",
    "| `mola.dataview` | Build SQL to query sqlite db |\n",
    "| `mola.specificationv5` | Classes each containing abstract Pyomo model |\n",
    "| `mola.build` | Configure, populate, solve optimisation problem |"
   ]
  },
  {
   "cell_type": "markdown",
   "metadata": {
    "slideshow": {
     "slide_type": "slide"
    }
   },
   "source": [
    "## Example\n",
    "\n",
    "`mola.dataview` is a module of functions to build SQL and return Pandas DataFrame."
   ]
  },
  {
   "cell_type": "code",
   "execution_count": 3,
   "metadata": {
    "slideshow": {
     "slide_type": "fragment"
    }
   },
   "outputs": [],
   "source": [
    "import mola.dataview as dv\n",
    "dbconn = dv.get_sqlite_connection()"
   ]
  },
  {
   "cell_type": "code",
   "execution_count": 5,
   "metadata": {
    "slideshow": {
     "slide_type": "fragment"
    }
   },
   "outputs": [
    {
     "name": "stdout",
     "output_type": "stream",
     "text": [
      "SELECT \"TBL_PROCESSES\".\"ID\",\"TBL_PROCESSES\".\"REF_ID\",\"TBL_PROCESSES\".\"NAME\",\"TBL_PROCESSES\".\"PROCESS_TYPE\",\"TBL_LOCATIONS\".\"NAME\" \"LOCATION\",\"TBL_PROCESSES\".\"F_QUANTITATIVE_REFERENCE\" FROM \"TBL_PROCESSES\" LEFT JOIN \"TBL_LOCATIONS\" ON CAST(\"TBL_PROCESSES\".\"F_LOCATION\" AS INT)=\"TBL_LOCATIONS\".\"ID\" WHERE \"TBL_PROCESSES\".\"NAME\" LIKE '%orange%'\n"
     ]
    },
    {
     "data": {
      "text/html": [
       "<div>\n",
       "<style scoped>\n",
       "    .dataframe tbody tr th:only-of-type {\n",
       "        vertical-align: middle;\n",
       "    }\n",
       "\n",
       "    .dataframe tbody tr th {\n",
       "        vertical-align: top;\n",
       "    }\n",
       "\n",
       "    .dataframe thead th {\n",
       "        text-align: right;\n",
       "    }\n",
       "</style>\n",
       "<table border=\"1\" class=\"dataframe\">\n",
       "  <thead>\n",
       "    <tr style=\"text-align: right;\">\n",
       "      <th></th>\n",
       "      <th>ID</th>\n",
       "      <th>REF_ID</th>\n",
       "      <th>NAME</th>\n",
       "      <th>PROCESS_TYPE</th>\n",
       "      <th>LOCATION</th>\n",
       "      <th>F_QUANTITATIVE_REFERENCE</th>\n",
       "    </tr>\n",
       "  </thead>\n",
       "  <tbody>\n",
       "    <tr>\n",
       "      <th>0</th>\n",
       "      <td>527856</td>\n",
       "      <td>760f1858-b0ef-3280-930e-88ebe4645061</td>\n",
       "      <td>orange production, fresh grade | orange, fresh...</td>\n",
       "      <td>LCI_RESULT</td>\n",
       "      <td>Rest-of-World</td>\n",
       "      <td>527858</td>\n",
       "    </tr>\n",
       "    <tr>\n",
       "      <th>1</th>\n",
       "      <td>585243</td>\n",
       "      <td>a334aef7-747b-3ad9-a69a-58ffd56462e6</td>\n",
       "      <td>market for orange, fresh grade | orange, fresh...</td>\n",
       "      <td>LCI_RESULT</td>\n",
       "      <td>Global</td>\n",
       "      <td>585245</td>\n",
       "    </tr>\n",
       "    <tr>\n",
       "      <th>2</th>\n",
       "      <td>3730189</td>\n",
       "      <td>cfc3f58f-7bdf-3019-888b-c4f2dbc332e8</td>\n",
       "      <td>orange production, fresh grade | orange, fresh...</td>\n",
       "      <td>LCI_RESULT</td>\n",
       "      <td>United States</td>\n",
       "      <td>3730191</td>\n",
       "    </tr>\n",
       "    <tr>\n",
       "      <th>3</th>\n",
       "      <td>5834148</td>\n",
       "      <td>f22f5f6e-1bdc-3cb5-8f48-8a04d8f9b768</td>\n",
       "      <td>orange production, fresh grade | orange, fresh...</td>\n",
       "      <td>LCI_RESULT</td>\n",
       "      <td>South Africa</td>\n",
       "      <td>5834150</td>\n",
       "    </tr>\n",
       "    <tr>\n",
       "      <th>4</th>\n",
       "      <td>14457362</td>\n",
       "      <td>637362e8-7c01-3c4a-b3d0-2a8fd12f2954</td>\n",
       "      <td>orange production, processing grade | orange, ...</td>\n",
       "      <td>LCI_RESULT</td>\n",
       "      <td>United States</td>\n",
       "      <td>14457364</td>\n",
       "    </tr>\n",
       "    <tr>\n",
       "      <th>5</th>\n",
       "      <td>14949273</td>\n",
       "      <td>b284de8a-5397-3208-85a0-e3a4148bebac</td>\n",
       "      <td>market for orange, processing grade | orange, ...</td>\n",
       "      <td>LCI_RESULT</td>\n",
       "      <td>Global</td>\n",
       "      <td>14949275</td>\n",
       "    </tr>\n",
       "    <tr>\n",
       "      <th>6</th>\n",
       "      <td>17165213</td>\n",
       "      <td>f2bffdb7-d86c-3c11-b385-f3f18e8afbb1</td>\n",
       "      <td>orange production, processing grade | orange, ...</td>\n",
       "      <td>LCI_RESULT</td>\n",
       "      <td>Brazil</td>\n",
       "      <td>17165215</td>\n",
       "    </tr>\n",
       "    <tr>\n",
       "      <th>7</th>\n",
       "      <td>17667458</td>\n",
       "      <td>a5e1c349-0c5b-3dc6-a04e-6ebee14f5d8c</td>\n",
       "      <td>orange production, fresh grade | orange, fresh...</td>\n",
       "      <td>LCI_RESULT</td>\n",
       "      <td>Spain</td>\n",
       "      <td>17667460</td>\n",
       "    </tr>\n",
       "    <tr>\n",
       "      <th>8</th>\n",
       "      <td>28232925</td>\n",
       "      <td>c29a4516-eaba-391f-b91d-f1828b1d7939</td>\n",
       "      <td>orange production, processing grade | orange, ...</td>\n",
       "      <td>LCI_RESULT</td>\n",
       "      <td>Rest-of-World</td>\n",
       "      <td>28232927</td>\n",
       "    </tr>\n",
       "  </tbody>\n",
       "</table>\n",
       "</div>"
      ],
      "text/plain": [
       "         ID                                REF_ID  \\\n",
       "0    527856  760f1858-b0ef-3280-930e-88ebe4645061   \n",
       "1    585243  a334aef7-747b-3ad9-a69a-58ffd56462e6   \n",
       "2   3730189  cfc3f58f-7bdf-3019-888b-c4f2dbc332e8   \n",
       "3   5834148  f22f5f6e-1bdc-3cb5-8f48-8a04d8f9b768   \n",
       "4  14457362  637362e8-7c01-3c4a-b3d0-2a8fd12f2954   \n",
       "5  14949273  b284de8a-5397-3208-85a0-e3a4148bebac   \n",
       "6  17165213  f2bffdb7-d86c-3c11-b385-f3f18e8afbb1   \n",
       "7  17667458  a5e1c349-0c5b-3dc6-a04e-6ebee14f5d8c   \n",
       "8  28232925  c29a4516-eaba-391f-b91d-f1828b1d7939   \n",
       "\n",
       "                                                NAME PROCESS_TYPE  \\\n",
       "0  orange production, fresh grade | orange, fresh...   LCI_RESULT   \n",
       "1  market for orange, fresh grade | orange, fresh...   LCI_RESULT   \n",
       "2  orange production, fresh grade | orange, fresh...   LCI_RESULT   \n",
       "3  orange production, fresh grade | orange, fresh...   LCI_RESULT   \n",
       "4  orange production, processing grade | orange, ...   LCI_RESULT   \n",
       "5  market for orange, processing grade | orange, ...   LCI_RESULT   \n",
       "6  orange production, processing grade | orange, ...   LCI_RESULT   \n",
       "7  orange production, fresh grade | orange, fresh...   LCI_RESULT   \n",
       "8  orange production, processing grade | orange, ...   LCI_RESULT   \n",
       "\n",
       "        LOCATION  F_QUANTITATIVE_REFERENCE  \n",
       "0  Rest-of-World                    527858  \n",
       "1         Global                    585245  \n",
       "2  United States                   3730191  \n",
       "3   South Africa                   5834150  \n",
       "4  United States                  14457364  \n",
       "5         Global                  14949275  \n",
       "6         Brazil                  17165215  \n",
       "7          Spain                  17667460  \n",
       "8  Rest-of-World                  28232927  "
      ]
     },
     "execution_count": 5,
     "metadata": {},
     "output_type": "execute_result"
    }
   ],
   "source": [
    "dv.get_processes(dbconn, name=['%orange%'])"
   ]
  },
  {
   "cell_type": "markdown",
   "metadata": {
    "slideshow": {
     "slide_type": "slide"
    }
   },
   "source": [
    "## Specification\n",
    "\n",
    "Decorates a `pyomo` abstract model so that we can build an interface using introspection.\n",
    "\n",
    "```\n",
    "class TestSpecification(Specification):\n",
    "    name = 'Test Specification'\n",
    "    user_defined_sets = {'A': {'doc': 'test set', 'lookup': False}}\n",
    "    user_defined_parameters = {'Q': {'index': ['A'], 'doc': 'test parameters'}}\n",
    "\n",
    "    def __init__():\n",
    "        self.abstract_model = AbstractModel()\n",
    "        # build user defined and db parameters\n",
    "        \n",
    "    def populate(json_files): # populates abstract model\n",
    "        dp = DataPortal()\n",
    "        \n",
    "```"
   ]
  },
  {
   "cell_type": "markdown",
   "metadata": {
    "slideshow": {
     "slide_type": "slide"
    }
   },
   "source": [
    "# MolaQT\n",
    "\n",
    "Front-end to Mola using `pyqt`. The app is built around a `Controller` object for each model\n",
    "\n",
    "```\n",
    "class Controller(QWidget):\n",
    "\n",
    "  def __init__(spec):\n",
    "      self.spec = spec\n",
    "      self.sets = spec.get_default_sets()\n",
    "      self.parameters = spec.get_default_parameters()\n",
    "      self.lookup = LookupTables(self.db) # if required\n",
    "  \n",
    "  def get_config(self): # get current state\n",
    "```"
   ]
  },
  {
   "cell_type": "markdown",
   "metadata": {
    "slideshow": {
     "slide_type": "slide"
    }
   },
   "source": [
    "## StandardController\n",
    "\n",
    "Aims to Mirror Pyomo modelling language using a collection of Qt Widgets\n",
    "\n",
    "```\n",
    "class StandardController(Controller):\n",
    "\n",
    "  def __init__(spec):\n",
    "       self.sets_editor = SetsEditor(self.sets, self.lookup)\n",
    "       self.parameters_editor = ParametersEditor(self.sets, self.parameters, self.lookup)\n",
    "       self.model_build = ModelBuild(self)\n",
    "       self.model_run = ModelRun(self.lookup)\n",
    "  \n",
    "```"
   ]
  },
  {
   "cell_type": "markdown",
   "metadata": {
    "slideshow": {
     "slide_type": "slide"
    }
   },
   "source": [
    "## CustomController\n",
    "\n",
    "High-level widgets tied to a particular model and workflow. Hardcodes the model to the UI.\n",
    "\n",
    "```\n",
    "class StandardController(Controller):\n",
    "\n",
    "  def __init__(spec):\n",
    "       self.objectives = ObjectivesWidget(self.sets, self.lookup)\n",
    "       self.ProcessFlow = ProcessFlow(self.sets, self.parameters, self.lookup)\n",
    "       self.model_build = ModelBuild(self)\n",
    "       self.model_run = ModelRun(self.lookup)\n",
    " ```"
   ]
  },
  {
   "cell_type": "markdown",
   "metadata": {
    "slideshow": {
     "slide_type": "subslide"
    }
   },
   "source": [
    "## DashboardController\n",
    "\n",
    "* Not yet implemented\n",
    "* No need to use tabbed interface\n",
    "* Could create a single dashboard if model is sufficiently simple\n",
    "* Incorporate or export output"
   ]
  },
  {
   "cell_type": "markdown",
   "metadata": {
    "slideshow": {
     "slide_type": "slide"
    }
   },
   "source": [
    "# Demo of molaqt\n",
    "\n",
    "* General overview: Github, DB, General Specification, Models\n",
    "* AIMMS tutorial problem: interface and model construction\n",
    "* Orange production and transport: openLCA data (StandardController)\n",
    "* Orange production and transport: openLCA data (CustomController)"
   ]
  },
  {
   "cell_type": "markdown",
   "metadata": {
    "slideshow": {
     "slide_type": "slide"
    }
   },
   "source": [
    "# Development work\n",
    "\n",
    "* Tasks: pyomo.network - MultiTaskController, ScheduleController, DashboardController\n",
    "* Storage: AIMMS advanced example, Sargent papers, STNs, RTNs\n",
    "* Output: current module to convert pyomo output to DataFrames for export, graphing\n",
    "* More sophistical openLCA models e.g. oil to diesel conversion\n",
    "* Dynamic model generation?"
   ]
  }
 ],
 "metadata": {
  "celltoolbar": "Slideshow",
  "kernelspec": {
   "display_name": "Python 3",
   "language": "python",
   "name": "python3"
  },
  "language_info": {
   "codemirror_mode": {
    "name": "ipython",
    "version": 3
   },
   "file_extension": ".py",
   "mimetype": "text/x-python",
   "name": "python",
   "nbconvert_exporter": "python",
   "pygments_lexer": "ipython3",
   "version": "3.7.9"
  },
  "rise": {
   "enable_chalkboard": true
  },
  "toc": {
   "base_numbering": 1,
   "nav_menu": {},
   "number_sections": true,
   "sideBar": true,
   "skip_h1_title": false,
   "title_cell": "Table of Contents",
   "title_sidebar": "Contents",
   "toc_cell": false,
   "toc_position": {},
   "toc_section_display": true,
   "toc_window_display": false
  },
  "varInspector": {
   "cols": {
    "lenName": 16,
    "lenType": 16,
    "lenVar": 40
   },
   "kernels_config": {
    "python": {
     "delete_cmd_postfix": "",
     "delete_cmd_prefix": "del ",
     "library": "var_list.py",
     "varRefreshCmd": "print(var_dic_list())"
    },
    "r": {
     "delete_cmd_postfix": ") ",
     "delete_cmd_prefix": "rm(",
     "library": "var_list.r",
     "varRefreshCmd": "cat(var_dic_list()) "
    }
   },
   "types_to_exclude": [
    "module",
    "function",
    "builtin_function_or_method",
    "instance",
    "_Feature"
   ],
   "window_display": false
  }
 },
 "nbformat": 4,
 "nbformat_minor": 4
}
