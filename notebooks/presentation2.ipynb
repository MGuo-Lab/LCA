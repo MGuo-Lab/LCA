{
 "cells": [
  {
   "cell_type": "markdown",
   "metadata": {
    "slideshow": {
     "slide_type": "slide"
    }
   },
   "source": [
    "# Optimisation of LCA models\n",
    "\n",
    "* Minimise environment impact and/or cost of a network of processes \n",
    "* OpenLCA for lifecycle assessment data\n",
    "* Pyomo for mathematical optimisation\n",
    "* Jupyter notebooks for prototyping\n",
    "* Qt GUI for configuration and solution"
   ]
  },
  {
   "cell_type": "code",
   "execution_count": null,
   "metadata": {},
   "outputs": [],
   "source": []
  },
  {
   "cell_type": "markdown",
   "metadata": {
    "slideshow": {
     "slide_type": "slide"
    }
   },
   "source": [
    "# OpenLCA\n",
    "\n",
    "* Java application built by Greendata\n",
    "* Front-end to life-cycle database of processes and flows\n",
    "* Ecoinvent system database has ~18000 processes ~7000 flows\n",
    "* System processes broken down into elementary flows\n",
    "* Contains methodologies to calculate impact of system\n",
    "* Cannot feasibly optimise over multiple alternatives"
   ]
  },
  {
   "cell_type": "markdown",
   "metadata": {
    "slideshow": {
     "slide_type": "slide"
    }
   },
   "source": [
    "# Pyomo\n",
    "\n",
    "* An algebraic modelling langugage like GAMS, AIMMS\n",
    "* Implemented as an object model in Python package `pyomo`\n",
    "* Eases translation of mathematical optimisation problem to actual implementation\n",
    "* Optimisation problems are formulated by building concrete or abstract model\n"
   ]
  },
  {
   "cell_type": "markdown",
   "metadata": {
    "slideshow": {
     "slide_type": "slide"
    }
   },
   "source": [
    "# Mola\n",
    "\n",
    "Python package builds optimisation models using openLCA data\n",
    "\n",
    "| Module | Description |\n",
    "| ------ | ----------- |\n",
    "| `mola.dataimport` | Convert openLCA Ecoinvent system db to sqlite |\n",
    "| `mola.dataview` | Build SQL to query sqlite db |\n",
    "| `mola.specificationv5` | Classes each containing abstract Pyomo model |\n",
    "| `mola.build` | Configure, populate, solve optimisation problem |"
   ]
  },
  {
   "cell_type": "markdown",
   "metadata": {
    "slideshow": {
     "slide_type": "slide"
    }
   },
   "source": [
    "## Example\n",
    "\n",
    "`mola.dataview` is a module of functions to build SQL and return Pandas DataFrame."
   ]
  },
  {
   "cell_type": "code",
   "execution_count": 3,
   "metadata": {
    "slideshow": {
     "slide_type": "fragment"
    }
   },
   "outputs": [],
   "source": [
    "import mola.dataview as dv\n",
    "dbconn = dv.get_sqlite_connection()"
   ]
  },
  {
   "cell_type": "code",
   "execution_count": 5,
   "metadata": {
    "slideshow": {
     "slide_type": "fragment"
    }
   },
   "outputs": [
    {
     "name": "stdout",
     "output_type": "stream",
     "text": [
      "SELECT \"TBL_PROCESSES\".\"ID\",\"TBL_PROCESSES\".\"REF_ID\",\"TBL_PROCESSES\".\"NAME\",\"TBL_PROCESSES\".\"PROCESS_TYPE\",\"TBL_LOCATIONS\".\"NAME\" \"LOCATION\",\"TBL_PROCESSES\".\"F_QUANTITATIVE_REFERENCE\" FROM \"TBL_PROCESSES\" LEFT JOIN \"TBL_LOCATIONS\" ON CAST(\"TBL_PROCESSES\".\"F_LOCATION\" AS INT)=\"TBL_LOCATIONS\".\"ID\" WHERE \"TBL_PROCESSES\".\"NAME\" LIKE '%oil%'\n"
     ]
    },
    {
     "data": {
      "text/html": [
       "<div>\n",
       "<style scoped>\n",
       "    .dataframe tbody tr th:only-of-type {\n",
       "        vertical-align: middle;\n",
       "    }\n",
       "\n",
       "    .dataframe tbody tr th {\n",
       "        vertical-align: top;\n",
       "    }\n",
       "\n",
       "    .dataframe thead th {\n",
       "        text-align: right;\n",
       "    }\n",
       "</style>\n",
       "<table border=\"1\" class=\"dataframe\">\n",
       "  <thead>\n",
       "    <tr style=\"text-align: right;\">\n",
       "      <th></th>\n",
       "      <th>ID</th>\n",
       "      <th>REF_ID</th>\n",
       "      <th>NAME</th>\n",
       "      <th>PROCESS_TYPE</th>\n",
       "      <th>LOCATION</th>\n",
       "      <th>F_QUANTITATIVE_REFERENCE</th>\n",
       "    </tr>\n",
       "  </thead>\n",
       "  <tbody>\n",
       "    <tr>\n",
       "      <th>0</th>\n",
       "      <td>138081</td>\n",
       "      <td>956ebeef-370e-34bb-ac83-11a10bba21d1</td>\n",
       "      <td>ethylvinylacetate production, foil | ethylviny...</td>\n",
       "      <td>LCI_RESULT</td>\n",
       "      <td>Rest-of-World</td>\n",
       "      <td>138083</td>\n",
       "    </tr>\n",
       "    <tr>\n",
       "      <th>1</th>\n",
       "      <td>179089</td>\n",
       "      <td>cd35ba47-c9bd-34b3-9b1b-83a6dfd88dfe</td>\n",
       "      <td>coconut oil production, crude | coconut oil, c...</td>\n",
       "      <td>LCI_RESULT</td>\n",
       "      <td>Rest-of-World</td>\n",
       "      <td>179091</td>\n",
       "    </tr>\n",
       "    <tr>\n",
       "      <th>2</th>\n",
       "      <td>191391</td>\n",
       "      <td>71048d7d-a21a-3aec-8b28-7fe7831f806e</td>\n",
       "      <td>treatment of waste cooking oil, purified, este...</td>\n",
       "      <td>LCI_RESULT</td>\n",
       "      <td>France</td>\n",
       "      <td>191393</td>\n",
       "    </tr>\n",
       "    <tr>\n",
       "      <th>3</th>\n",
       "      <td>503149</td>\n",
       "      <td>d3d48e94-3144-3beb-99ff-f1a50026e355</td>\n",
       "      <td>heat and power co-generation, oil | electricit...</td>\n",
       "      <td>LCI_RESULT</td>\n",
       "      <td>Southwest Power Pool</td>\n",
       "      <td>503151</td>\n",
       "    </tr>\n",
       "    <tr>\n",
       "      <th>4</th>\n",
       "      <td>505198</td>\n",
       "      <td>35ef2809-6de5-3443-805a-3b8eb71d0e81</td>\n",
       "      <td>heat and power co-generation, oil | heat, dist...</td>\n",
       "      <td>LCI_RESULT</td>\n",
       "      <td>Southwest Power Pool</td>\n",
       "      <td>505200</td>\n",
       "    </tr>\n",
       "    <tr>\n",
       "      <th>...</th>\n",
       "      <td>...</td>\n",
       "      <td>...</td>\n",
       "      <td>...</td>\n",
       "      <td>...</td>\n",
       "      <td>...</td>\n",
       "      <td>...</td>\n",
       "    </tr>\n",
       "    <tr>\n",
       "      <th>599</th>\n",
       "      <td>35861212</td>\n",
       "      <td>e5f11aa5-33e1-333b-8bac-11e8bf56a53a</td>\n",
       "      <td>fatty acid production, from palm oil | fatty a...</td>\n",
       "      <td>LCI_RESULT</td>\n",
       "      <td>Europe</td>\n",
       "      <td>35861214</td>\n",
       "    </tr>\n",
       "    <tr>\n",
       "      <th>600</th>\n",
       "      <td>35877604</td>\n",
       "      <td>d27e06fd-e3c6-347d-aa19-6c28d21b2143</td>\n",
       "      <td>electricity production, oil | electricity, hig...</td>\n",
       "      <td>LCI_RESULT</td>\n",
       "      <td>China, Guizhou (贵州)</td>\n",
       "      <td>35877606</td>\n",
       "    </tr>\n",
       "    <tr>\n",
       "      <th>601</th>\n",
       "      <td>35980270</td>\n",
       "      <td>2414d79e-f597-4b2a-aad2-69527772b2b1</td>\n",
       "      <td>fishmeal and fish oil production, 63-65% prote...</td>\n",
       "      <td>LCI_RESULT</td>\n",
       "      <td>Rest-of-World</td>\n",
       "      <td>35980272</td>\n",
       "    </tr>\n",
       "    <tr>\n",
       "      <th>602</th>\n",
       "      <td>35982319</td>\n",
       "      <td>1abebbc3-317a-4de0-8b83-8c278f31a871</td>\n",
       "      <td>fishmeal and fish oil production, 63-65% prote...</td>\n",
       "      <td>LCI_RESULT</td>\n",
       "      <td>Rest-of-World</td>\n",
       "      <td>35982321</td>\n",
       "    </tr>\n",
       "    <tr>\n",
       "      <th>603</th>\n",
       "      <td>36084884</td>\n",
       "      <td>97bf8214-58d2-386d-98b5-e52bbaab52d0</td>\n",
       "      <td>treatment of spoil from lignite mining, in sur...</td>\n",
       "      <td>LCI_RESULT</td>\n",
       "      <td>Global</td>\n",
       "      <td>36084886</td>\n",
       "    </tr>\n",
       "  </tbody>\n",
       "</table>\n",
       "<p>604 rows × 6 columns</p>\n",
       "</div>"
      ],
      "text/plain": [
       "           ID                                REF_ID  \\\n",
       "0      138081  956ebeef-370e-34bb-ac83-11a10bba21d1   \n",
       "1      179089  cd35ba47-c9bd-34b3-9b1b-83a6dfd88dfe   \n",
       "2      191391  71048d7d-a21a-3aec-8b28-7fe7831f806e   \n",
       "3      503149  d3d48e94-3144-3beb-99ff-f1a50026e355   \n",
       "4      505198  35ef2809-6de5-3443-805a-3b8eb71d0e81   \n",
       "..        ...                                   ...   \n",
       "599  35861212  e5f11aa5-33e1-333b-8bac-11e8bf56a53a   \n",
       "600  35877604  d27e06fd-e3c6-347d-aa19-6c28d21b2143   \n",
       "601  35980270  2414d79e-f597-4b2a-aad2-69527772b2b1   \n",
       "602  35982319  1abebbc3-317a-4de0-8b83-8c278f31a871   \n",
       "603  36084884  97bf8214-58d2-386d-98b5-e52bbaab52d0   \n",
       "\n",
       "                                                  NAME PROCESS_TYPE  \\\n",
       "0    ethylvinylacetate production, foil | ethylviny...   LCI_RESULT   \n",
       "1    coconut oil production, crude | coconut oil, c...   LCI_RESULT   \n",
       "2    treatment of waste cooking oil, purified, este...   LCI_RESULT   \n",
       "3    heat and power co-generation, oil | electricit...   LCI_RESULT   \n",
       "4    heat and power co-generation, oil | heat, dist...   LCI_RESULT   \n",
       "..                                                 ...          ...   \n",
       "599  fatty acid production, from palm oil | fatty a...   LCI_RESULT   \n",
       "600  electricity production, oil | electricity, hig...   LCI_RESULT   \n",
       "601  fishmeal and fish oil production, 63-65% prote...   LCI_RESULT   \n",
       "602  fishmeal and fish oil production, 63-65% prote...   LCI_RESULT   \n",
       "603  treatment of spoil from lignite mining, in sur...   LCI_RESULT   \n",
       "\n",
       "                 LOCATION  F_QUANTITATIVE_REFERENCE  \n",
       "0           Rest-of-World                    138083  \n",
       "1           Rest-of-World                    179091  \n",
       "2                  France                    191393  \n",
       "3    Southwest Power Pool                    503151  \n",
       "4    Southwest Power Pool                    505200  \n",
       "..                    ...                       ...  \n",
       "599                Europe                  35861214  \n",
       "600   China, Guizhou (贵州)                  35877606  \n",
       "601         Rest-of-World                  35980272  \n",
       "602         Rest-of-World                  35982321  \n",
       "603                Global                  36084886  \n",
       "\n",
       "[604 rows x 6 columns]"
      ]
     },
     "execution_count": 5,
     "metadata": {},
     "output_type": "execute_result"
    }
   ],
   "source": [
    "dv.get_processes(dbconn, name=['%oil%'])"
   ]
  },
  {
   "cell_type": "markdown",
   "metadata": {
    "slideshow": {
     "slide_type": "slide"
    }
   },
   "source": [
    "## Specification\n",
    "\n",
    "Decorates a `pyomo` abstract model so that we can build an interface using introspection.\n",
    "\n",
    "```\n",
    "class Specification():\n",
    "    user_defined_sets = {'A': {'doc': 'test set', 'lookup': False}}\n",
    "    user_defined_parameters = {'Q': {'index': ['A'], 'doc': 'test parameters'}}\n",
    "\n",
    "    def __init__():\n",
    "        self.abstract_model = AbstractModel()\n",
    "        # build user defined and db parameters\n",
    "        \n",
    "    def populate(json_files): # populates abstract model\n",
    "        dp = DataPortal()\n",
    "        \n",
    "```"
   ]
  },
  {
   "cell_type": "markdown",
   "metadata": {
    "slideshow": {
     "slide_type": "slide"
    }
   },
   "source": [
    "# MolaQT\n",
    "\n",
    "Front-end to Mola using `pyqt`. Built around a `Controller` object for each model\n",
    "\n",
    "```\n",
    "class Controller(QWidget):\n",
    "\n",
    "  def __init__(spec):\n",
    "      self.spec = spec\n",
    "      self.sets = spec.get_default_sets()\n",
    "      self.parameters = spec.get_default_parameters()\n",
    "      self.lookup = LookupTables(self.db) # if required\n",
    "  \n",
    "  def get_config(self): # get current state\n",
    "```"
   ]
  },
  {
   "cell_type": "markdown",
   "metadata": {
    "slideshow": {
     "slide_type": "slide"
    }
   },
   "source": [
    "## StandardController\n",
    "\n",
    "Aims to Mirror Pyomo modelling language using a collection of Qt Widgets\n",
    "\n",
    "```\n",
    "class StandardController(Controller):\n",
    "\n",
    "  def __init__(spec):\n",
    "       self.sets_editor = SetsEditor(self.sets, self.lookup)\n",
    "       self.parameters_editor = ParametersEditor(self.sets, self.parameters, self.lookup)\n",
    "       self.model_build = ModelBuild(self)\n",
    "       self.model_run = ModelRun(self.lookup)\n",
    "  \n",
    "```"
   ]
  },
  {
   "cell_type": "markdown",
   "metadata": {
    "slideshow": {
     "slide_type": "slide"
    }
   },
   "source": [
    "## CustomController\n",
    "\n",
    "High-level widgets tied to a particular model and workflow. Hardcodes the model to the UI.\n",
    "\n",
    "```\n",
    "class StandardController(Controller):\n",
    "\n",
    "  def __init__(spec):\n",
    "       self.objectives = ObjectivesWidget(self.sets, self.lookup)\n",
    "       self.ProcessFlow = ProcessFlow(self.sets, self.parameters, self.lookup)\n",
    "       self.model_build = ModelBuild(self)\n",
    "       self.model_run = ModelRun(self.lookup)\n",
    " ```"
   ]
  },
  {
   "cell_type": "markdown",
   "metadata": {
    "slideshow": {
     "slide_type": "subslide"
    }
   },
   "source": [
    "## DashboardController\n",
    "\n",
    "* Not yet implemented\n",
    "* No need to use tabbed interface\n",
    "* Could create a single dashboard if model is sufficiently simple\n",
    "* Incorporate or export output"
   ]
  },
  {
   "cell_type": "markdown",
   "metadata": {
    "slideshow": {
     "slide_type": "slide"
    }
   },
   "source": [
    "# Demo of molaqt\n",
    "\n",
    "* General overview: Github, DB, General Specification, Models\n",
    "* AIMMS tutorial problem: interface and model construction\n",
    "* Orange production and transport: openLCA data (StandardController)\n",
    "* Orange production and transport: openLCA data (CustomController)"
   ]
  },
  {
   "cell_type": "markdown",
   "metadata": {
    "slideshow": {
     "slide_type": "slide"
    }
   },
   "source": [
    "# Development work\n",
    "\n",
    "* Tasks: pyomo.network - MultiTaskController, ScheduleController, DashboardController\n",
    "* Storage: AIMMS advanced example, Sargent papers, STNs, RTNs\n",
    "* Output: current module to convert pyomo output to DataFrames for export, graphing\n",
    "* More sophistical openLCA models e.g. oil to diesel conversion\n",
    "* Dynamic model generation?"
   ]
  }
 ],
 "metadata": {
  "celltoolbar": "Slideshow",
  "kernelspec": {
   "display_name": "Python 3",
   "language": "python",
   "name": "python3"
  },
  "language_info": {
   "codemirror_mode": {
    "name": "ipython",
    "version": 3
   },
   "file_extension": ".py",
   "mimetype": "text/x-python",
   "name": "python",
   "nbconvert_exporter": "python",
   "pygments_lexer": "ipython3",
   "version": "3.7.9"
  },
  "rise": {
   "enable_chalkboard": true
  },
  "toc": {
   "base_numbering": 1,
   "nav_menu": {},
   "number_sections": true,
   "sideBar": true,
   "skip_h1_title": false,
   "title_cell": "Table of Contents",
   "title_sidebar": "Contents",
   "toc_cell": false,
   "toc_position": {},
   "toc_section_display": true,
   "toc_window_display": false
  },
  "varInspector": {
   "cols": {
    "lenName": 16,
    "lenType": 16,
    "lenVar": 40
   },
   "kernels_config": {
    "python": {
     "delete_cmd_postfix": "",
     "delete_cmd_prefix": "del ",
     "library": "var_list.py",
     "varRefreshCmd": "print(var_dic_list())"
    },
    "r": {
     "delete_cmd_postfix": ") ",
     "delete_cmd_prefix": "rm(",
     "library": "var_list.r",
     "varRefreshCmd": "cat(var_dic_list()) "
    }
   },
   "types_to_exclude": [
    "module",
    "function",
    "builtin_function_or_method",
    "instance",
    "_Feature"
   ],
   "window_display": false
  }
 },
 "nbformat": 4,
 "nbformat_minor": 4
}
