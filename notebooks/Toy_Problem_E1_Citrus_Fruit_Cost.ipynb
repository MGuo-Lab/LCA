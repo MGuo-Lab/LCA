{
 "cells": [
  {
   "cell_type": "markdown",
   "metadata": {},
   "source": [
    "# Fruit Toy Problem E\n",
    "\n",
    "This problem illustrates the use of pricing data and storage in the openLCA database.\n",
    "\n",
    "## Problem Statement\n",
    " \n",
    "A citrus fruit producer wishes to purchase fruit over a 2 day period in order to minimise cost. The fruit supply options are globally sourced lemon, mandarins or oranges. The producer can choose when to purchase the fruit, but we assume the environmental impact of production and the transport of fruit to a processing plant is the same for each fruit and independent of time.\n",
    "\n",
    "Over a time horizon of 2 days, the producer is required to deliver 2 kg of fruit. The cost of producing 1kg of fruit is shown in the table below.\n",
    "\n",
    "| Fruit | Day 1 | Day 2 |\n",
    "| --- | --- | --- |\n",
    "| Lemon | £1 | £4 |\n",
    "| Orange | £2 | £3 |\n",
    "| Mandarin | £3 | £2 |\n",
    "\n",
    "The cost of storing 1kg of fruit at the processing plant is £1 per day."
   ]
  },
  {
   "cell_type": "markdown",
   "metadata": {},
   "source": [
    "## Simple specification\n",
    "\n",
    "In this problem, we minimise the cost of fruit production over a two day period $t\\in T=\\{1,2\\}$. We ignore the environmental impact of production and transport.\n",
    "\n",
    "The objective is\n",
    "\n",
    "$$\n",
    "\\min_{f_m, p_m, t}\\sum_{f_m, p_m, t} Flow_{f_m, p_m, t}\\phi_{f_m, p_m, t} + \\sum_{f_s, p_s, t} S_{f_s, p_s, t}\\phi_{f_s, p_s, t}.\n",
    "$$\n",
    "\n",
    "where the cost of producing 1kg of fruit in a day is given by $\\phi_{f_m, p_m, t}$ in the table above and the cost of storing each kg of fruit is $\\phi_{f_s, p_s, t}=1$.\n",
    "\n",
    "There is no initial stored fruit.\n",
    "\n",
    "There total demand is $D^{total}=2kg$ of fruit so\n",
    "\n",
    "$$\n",
    "\\sum_{f_m, p_m, t} Flow_{f_m, p_m, t} \\geq D^{total} = 2.\n",
    "$$\n",
    "\n",
    "All the material flow of fruit at time $1$, must be stored over time period 2 so we require \n",
    "\n",
    "$$\n",
    "S_{f_{s_i}, p_{s_i}, 2} = Flow_{f_{m_i}, p_{m_i}, 1}\n",
    "$$\n",
    "\n",
    "We also require $Flow_{f_m, p_m, t} \\geq 0$ and $S_{f_s, p_s, t}\\geq 0$."
   ]
  },
  {
   "cell_type": "markdown",
   "metadata": {},
   "source": [
    "## Pyomo implementation"
   ]
  },
  {
   "cell_type": "code",
   "execution_count": 1,
   "metadata": {},
   "outputs": [],
   "source": [
    "from pyomo.environ import * \n",
    "import pandas as pd"
   ]
  },
  {
   "cell_type": "markdown",
   "metadata": {},
   "source": [
    "### Create a concrete model"
   ]
  },
  {
   "cell_type": "code",
   "execution_count": 2,
   "metadata": {},
   "outputs": [],
   "source": [
    "model = ConcreteModel()"
   ]
  },
  {
   "cell_type": "markdown",
   "metadata": {},
   "source": [
    "### Define sets. Will come from mola, but currently hardcoded.\n",
    "\n",
    "Flows have units kg per day. Time has units of day."
   ]
  },
  {
   "cell_type": "code",
   "execution_count": 3,
   "metadata": {},
   "outputs": [],
   "source": [
    "model.t = Set(initialize=[1,2], doc='Time period')\n",
    "model.AF = Set(initialize=['Lemon', 'Orange', 'Mandarin'], doc='All flows')\n",
    "model.Fm = Set(initialize=['Lemon', 'Orange', 'Mandarin'], doc='Material flows to optimise')\n",
    "model.Fs = Set(initialize=['Lemon Storage', 'Orange Storage', 'Mandarin Storage'], doc='Service flows to optimise')"
   ]
  },
  {
   "cell_type": "markdown",
   "metadata": {},
   "source": [
    "### Define parameters."
   ]
  },
  {
   "cell_type": "markdown",
   "metadata": {},
   "source": [
    "#### Get cost parameters. Will come from mola, but currently hardcoded."
   ]
  },
  {
   "cell_type": "code",
   "execution_count": 4,
   "metadata": {},
   "outputs": [
    {
     "name": "stdout",
     "output_type": "stream",
     "text": [
      "phimt : Cost of material flow fm at time t\n",
      "    Size=6, Index=phimt_index, Domain=Any, Default=None, Mutable=False\n",
      "    Key             : Value\n",
      "       ('Lemon', 1) :     1\n",
      "       ('Lemon', 2) :     4\n",
      "    ('Mandarin', 1) :     3\n",
      "    ('Mandarin', 2) :     2\n",
      "      ('Orange', 1) :     2\n",
      "      ('Orange', 2) :     3\n"
     ]
    }
   ],
   "source": [
    "m = {}\n",
    "for i, f in enumerate(model.Fm):\n",
    "    m[f, 1] = i + 1\n",
    "    m[f, 2] = 4 - i\n",
    "model.phimt = Param(model.Fm, model.t, initialize=m, within=Any, doc='Cost of material flow fm at time t')\n",
    "model.phist = Param(model.Fs, model.t, initialize=1, within=Any, doc='Cost of material flow fm at time t')\n",
    "model.phimt.pprint()"
   ]
  },
  {
   "cell_type": "markdown",
   "metadata": {},
   "source": [
    "### Define continuous decision variables"
   ]
  },
  {
   "cell_type": "code",
   "execution_count": 5,
   "metadata": {},
   "outputs": [
    {
     "name": "stdout",
     "output_type": "stream",
     "text": [
      "y : Decision variables\n",
      "    Size=12, Index=y_index\n",
      "    Key                     : Lower : Value : Upper : Fixed : Stale : Domain\n",
      "               ('Lemon', 1) :     0 :  None :  None : False :  True : NonNegativeReals\n",
      "               ('Lemon', 2) :     0 :  None :  None : False :  True : NonNegativeReals\n",
      "       ('Lemon Storage', 1) :     0 :  None :  None : False :  True : NonNegativeReals\n",
      "       ('Lemon Storage', 2) :     0 :  None :  None : False :  True : NonNegativeReals\n",
      "            ('Mandarin', 1) :     0 :  None :  None : False :  True : NonNegativeReals\n",
      "            ('Mandarin', 2) :     0 :  None :  None : False :  True : NonNegativeReals\n",
      "    ('Mandarin Storage', 1) :     0 :  None :  None : False :  True : NonNegativeReals\n",
      "    ('Mandarin Storage', 2) :     0 :  None :  None : False :  True : NonNegativeReals\n",
      "              ('Orange', 1) :     0 :  None :  None : False :  True : NonNegativeReals\n",
      "              ('Orange', 2) :     0 :  None :  None : False :  True : NonNegativeReals\n",
      "      ('Orange Storage', 1) :     0 :  None :  None : False :  True : NonNegativeReals\n",
      "      ('Orange Storage', 2) :     0 :  None :  None : False :  True : NonNegativeReals\n"
     ]
    }
   ],
   "source": [
    "model.y = Var(model.Fm | model.Fs, model.t, within=NonNegativeReals, doc='Decision variables')\n",
    "model.y.pprint()"
   ]
  },
  {
   "cell_type": "markdown",
   "metadata": {},
   "source": [
    "### Define constraints"
   ]
  },
  {
   "cell_type": "code",
   "execution_count": 6,
   "metadata": {},
   "outputs": [
    {
     "name": "stdout",
     "output_type": "stream",
     "text": [
      "storage_constraint_list : Size=3, Index=storage_constraint_list_index, Active=True\n",
      "    Key : Lower : Body                                  : Upper : Active\n",
      "      1 :   0.0 :       y[Lemon,1] - y[Lemon Storage,2] :   0.0 :   True\n",
      "      2 :   0.0 :     y[Orange,1] - y[Orange Storage,2] :   0.0 :   True\n",
      "      3 :   0.0 : y[Mandarin,1] - y[Mandarin Storage,2] :   0.0 :   True\n"
     ]
    }
   ],
   "source": [
    "def demand_constraint(model):\n",
    "    s = sum(model.y[fm,t] for fm in model.Fm for t in model.t)\n",
    "    return s >= 2\n",
    "model.demand_constraint = Constraint(rule=demand_constraint)\n",
    "\n",
    "model.storage_constraint_list = ConstraintList()\n",
    "model.storage_constraint_list.add(model.y['Lemon',1] == model.y['Lemon Storage',2])\n",
    "model.storage_constraint_list.add(model.y['Orange',1] == model.y['Orange Storage',2])\n",
    "model.storage_constraint_list.add(model.y['Mandarin',1] == model.y['Mandarin Storage',2])\n",
    "model.storage_constraint_list.pprint()"
   ]
  },
  {
   "cell_type": "markdown",
   "metadata": {},
   "source": [
    "### Define objective"
   ]
  },
  {
   "cell_type": "code",
   "execution_count": 7,
   "metadata": {},
   "outputs": [
    {
     "name": "stdout",
     "output_type": "stream",
     "text": [
      "obj : Size=1, Index=None, Active=True\n",
      "    Key  : Active : Sense    : Expression\n",
      "    None :   True : minimize : y[Lemon,1] + 4*y[Lemon,2] + 2*y[Orange,1] + 3*y[Orange,2] + 3*y[Mandarin,1] + 2*y[Mandarin,2] + y[Lemon Storage,1] + y[Lemon Storage,2] + y[Orange Storage,1] + y[Orange Storage,2] + y[Mandarin Storage,1] + y[Mandarin Storage,2]\n"
     ]
    }
   ],
   "source": [
    "def objective_rule(model):\n",
    "    obj_material = sum(model.y[f,t]*model.phimt[f,t] for f in model.Fm for t in model.t)\n",
    "    obj_service = sum(model.y[f,t]*model.phist[f,t] for f in model.Fs for t in model.t)\n",
    "    return obj_material+obj_service\n",
    "model.obj = Objective(rule=objective_rule, sense=minimize)\n",
    "model.obj.pprint()"
   ]
  },
  {
   "cell_type": "markdown",
   "metadata": {},
   "source": [
    "### Apply solver"
   ]
  },
  {
   "cell_type": "code",
   "execution_count": 8,
   "metadata": {},
   "outputs": [
    {
     "name": "stdout",
     "output_type": "stream",
     "text": [
      "# ==========================================================\n",
      "# = Solver Results                                         =\n",
      "# ==========================================================\n",
      "# ----------------------------------------------------------\n",
      "#   Problem Information\n",
      "# ----------------------------------------------------------\n",
      "Problem: \n",
      "- Name: unknown\n",
      "  Lower bound: 4.0\n",
      "  Upper bound: 4.0\n",
      "  Number of objectives: 1\n",
      "  Number of constraints: 5\n",
      "  Number of variables: 13\n",
      "  Number of nonzeros: 13\n",
      "  Sense: minimize\n",
      "# ----------------------------------------------------------\n",
      "#   Solver Information\n",
      "# ----------------------------------------------------------\n",
      "Solver: \n",
      "- Status: ok\n",
      "  Termination condition: optimal\n",
      "  Statistics: \n",
      "    Branch and bound: \n",
      "      Number of bounded subproblems: 0\n",
      "      Number of created subproblems: 0\n",
      "  Error rc: 0\n",
      "  Time: 0.019842863082885742\n",
      "# ----------------------------------------------------------\n",
      "#   Solution Information\n",
      "# ----------------------------------------------------------\n",
      "Solution: \n",
      "- number of solutions: 0\n",
      "  number of solutions displayed: 0\n"
     ]
    }
   ],
   "source": [
    "opt = SolverFactory(\"glpk\")\n",
    "results = opt.solve(model)\n",
    "results.write()"
   ]
  },
  {
   "cell_type": "markdown",
   "metadata": {},
   "source": [
    "### Process results"
   ]
  },
  {
   "cell_type": "code",
   "execution_count": 9,
   "metadata": {},
   "outputs": [
    {
     "name": "stdout",
     "output_type": "stream",
     "text": [
      "y : Decision variables\n",
      "    Size=12, Index=y_index\n",
      "    Key                     : Lower : Value : Upper : Fixed : Stale : Domain\n",
      "               ('Lemon', 1) :     0 :   0.0 :  None : False : False : NonNegativeReals\n",
      "               ('Lemon', 2) :     0 :   0.0 :  None : False : False : NonNegativeReals\n",
      "       ('Lemon Storage', 1) :     0 :   0.0 :  None : False : False : NonNegativeReals\n",
      "       ('Lemon Storage', 2) :     0 :  -0.0 :  None : False : False : NonNegativeReals\n",
      "            ('Mandarin', 1) :     0 :   0.0 :  None : False : False : NonNegativeReals\n",
      "            ('Mandarin', 2) :     0 :   2.0 :  None : False : False : NonNegativeReals\n",
      "    ('Mandarin Storage', 1) :     0 :   0.0 :  None : False : False : NonNegativeReals\n",
      "    ('Mandarin Storage', 2) :     0 :  -0.0 :  None : False : False : NonNegativeReals\n",
      "              ('Orange', 1) :     0 :   0.0 :  None : False : False : NonNegativeReals\n",
      "              ('Orange', 2) :     0 :   0.0 :  None : False : False : NonNegativeReals\n",
      "      ('Orange Storage', 1) :     0 :   0.0 :  None : False : False : NonNegativeReals\n",
      "      ('Orange Storage', 2) :     0 :  -0.0 :  None : False : False : NonNegativeReals\n"
     ]
    }
   ],
   "source": [
    "model.y.pprint()"
   ]
  },
  {
   "cell_type": "code",
   "execution_count": 10,
   "metadata": {},
   "outputs": [
    {
     "name": "stdout",
     "output_type": "stream",
     "text": [
      "obj : Size=1, Index=None, Active=True\n",
      "    Key  : Active : Sense    : Expression\n",
      "    None :   True : minimize : y[Lemon,1] + 4*y[Lemon,2] + 2*y[Orange,1] + 3*y[Orange,2] + 3*y[Mandarin,1] + 2*y[Mandarin,2] + y[Lemon Storage,1] + y[Lemon Storage,2] + y[Orange Storage,1] + y[Orange Storage,2] + y[Mandarin Storage,1] + y[Mandarin Storage,2]\n",
      "WARNING: DEPRECATED: The .value property getter on SimpleObjective is\n",
      "    deprecated. Use the .expr property getter instead\n"
     ]
    },
    {
     "data": {
      "text/plain": [
       "4.0"
      ]
     },
     "execution_count": 10,
     "metadata": {},
     "output_type": "execute_result"
    }
   ],
   "source": [
    "model.obj.pprint()\n",
    "model.obj.value()"
   ]
  },
  {
   "cell_type": "markdown",
   "metadata": {},
   "source": [
    "# Using Mola Specification"
   ]
  },
  {
   "cell_type": "markdown",
   "metadata": {},
   "source": [
    "Next we try and rewrite this model using the built-in mola model specification v5. In the specification the service flow is related to the material storage flow by"
   ]
  },
  {
   "cell_type": "markdown",
   "metadata": {},
   "source": [
    "$$\n",
    "S_{f_s,p_s,t} = \\sum_{f_m, p_m} L_{f_m, p_m, f_s, p_s}S_{f_m, p_m, t},\n",
    "$$"
   ]
  },
  {
   "cell_type": "markdown",
   "metadata": {},
   "source": [
    "The service flow $S_{f_s, p_s, t}$ refers to the service process $p_s$ because in openLCA the process holds attributes like location rather than the flow. In this problem, there is only one material storage flow $S_{f_m, p_m, t}$ for each country and so there is a direct relationship:"
   ]
  },
  {
   "cell_type": "markdown",
   "metadata": {},
   "source": [
    "$$\n",
    "L_{f_m, p_m, f_s, p_s} = 1\n",
    "$$"
   ]
  },
  {
   "cell_type": "markdown",
   "metadata": {},
   "source": [
    "if the storage process $p_s$ is in the same country as $p_m$."
   ]
  },
  {
   "cell_type": "markdown",
   "metadata": {},
   "source": [
    "# Using openLCA data\n",
    "\n",
    "We aim to obtain the price of fruit from the openLCA database and use this in the optimisation problem. It not clear that we have relevant storage data, so we may have to invent this. Fruit prices are also likely to be static."
   ]
  },
  {
   "cell_type": "code",
   "execution_count": 11,
   "metadata": {},
   "outputs": [],
   "source": [
    "import qgrid\n",
    "#import importlib\n",
    "import mola.dataview as dv\n",
    "import mola.dataimport as di\n",
    "from importlib import reload\n",
    "reload(dv)\n",
    "\n",
    "dbconn = di.get_sqlite_connection()"
   ]
  },
  {
   "cell_type": "code",
   "execution_count": 12,
   "metadata": {},
   "outputs": [],
   "source": [
    "#dfr = dv.get_table(dbconn, 'TBL_EXCHANGES')\n",
    "#dfr"
   ]
  }
 ],
 "metadata": {
  "kernelspec": {
   "display_name": "Python 3",
   "language": "python",
   "name": "python3"
  },
  "language_info": {
   "codemirror_mode": {
    "name": "ipython",
    "version": 3
   },
   "file_extension": ".py",
   "mimetype": "text/x-python",
   "name": "python",
   "nbconvert_exporter": "python",
   "pygments_lexer": "ipython3",
   "version": "3.7.9"
  },
  "toc": {
   "base_numbering": 1,
   "nav_menu": {},
   "number_sections": true,
   "sideBar": true,
   "skip_h1_title": false,
   "title_cell": "Table of Contents",
   "title_sidebar": "Contents",
   "toc_cell": false,
   "toc_position": {
    "height": "calc(100% - 180px)",
    "left": "10px",
    "top": "150px",
    "width": "284.444px"
   },
   "toc_section_display": true,
   "toc_window_display": true
  },
  "varInspector": {
   "cols": {
    "lenName": 16,
    "lenType": 16,
    "lenVar": 40
   },
   "kernels_config": {
    "python": {
     "delete_cmd_postfix": "",
     "delete_cmd_prefix": "del ",
     "library": "var_list.py",
     "varRefreshCmd": "print(var_dic_list())"
    },
    "r": {
     "delete_cmd_postfix": ") ",
     "delete_cmd_prefix": "rm(",
     "library": "var_list.r",
     "varRefreshCmd": "cat(var_dic_list()) "
    }
   },
   "types_to_exclude": [
    "module",
    "function",
    "builtin_function_or_method",
    "instance",
    "_Feature"
   ],
   "window_display": false
  }
 },
 "nbformat": 4,
 "nbformat_minor": 4
}
