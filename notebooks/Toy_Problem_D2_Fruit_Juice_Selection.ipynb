{
 "cells": [
  {
   "cell_type": "markdown",
   "metadata": {},
   "source": [
    "# Fruit Juice Selection Toy Problem D\n",
    "\n",
    "The purpose of this example is to illustrate the use of the technology selection component of the optimisation problem contained within the `mola` package."
   ]
  },
  {
   "cell_type": "markdown",
   "metadata": {},
   "source": [
    "## Problem Statement\n",
    "\n",
    "A UK citrus fruit juice producer wishes to produce 100kg of fruit juice consisting of either oranges from the US, mandarins from South Africa or apples from Italy. In order to produce the juice, they need to transport the fruit from each country to their UK processing plant. Freight transport is provided by sea container ship from the US, lorry EURO1 >32 tonnes from South Africa and diesel freight train from Italy. \n",
    "\n",
    "The juice producer would like to choose the type of fruit juice that minimises the environmental impact of green house gases. It takes 2kg of fruit to produce 1kg of juice for each fruit.\n",
    "\n",
    "Assumptions\n",
    "* The cost of purchasing and transporting fruit is ignored."
   ]
  },
  {
   "cell_type": "markdown",
   "metadata": {},
   "source": [
    "## Specification\n",
    "\n",
    "In this notebook we use abstract specification v5 to solve this problem."
   ]
  },
  {
   "cell_type": "code",
   "execution_count": null,
   "metadata": {},
   "outputs": [],
   "source": [
    "import mola.specification5 as ms\n",
    "from importlib import reload\n",
    "spec = ms.ScheduleSpecification()\n",
    "spec.abstract_model.AP.pprint()"
   ]
  },
  {
   "cell_type": "markdown",
   "metadata": {},
   "source": [
    "# User Configuration"
   ]
  },
  {
   "cell_type": "markdown",
   "metadata": {},
   "source": [
    "We need to build a new set configuration file for the fruit processes and flows for the problem."
   ]
  },
  {
   "cell_type": "code",
   "execution_count": null,
   "metadata": {},
   "outputs": [],
   "source": [
    "import mola.pyomoio as pyoio\n",
    "selection_set_file_name = 'selection_set_data.json'\n",
    "user_sets = pyoio.get_model_user_sets(spec, selection_set_file_name)\n",
    "user_sets"
   ]
  },
  {
   "cell_type": "markdown",
   "metadata": {},
   "source": [
    "## Sets\n",
    "\n",
    "To configure the model we need lookup tables to select sets. These come from a database so part of the new model configuration is a link to a database."
   ]
  },
  {
   "cell_type": "code",
   "execution_count": null,
   "metadata": {},
   "outputs": [],
   "source": [
    "import mola.dataview as dv\n",
    "import mola.dataimport as di\n",
    "import pandas as pd\n",
    "from pyomo.environ import *\n",
    "conn = di.get_sqlite_connection()\n",
    "lookup = dv.LookupTables(conn)"
   ]
  },
  {
   "cell_type": "markdown",
   "metadata": {},
   "source": [
    "We show a widget that loads and saves the user configuration of sets in a tabbed interface. Existing user configuration data is loaded if there is a saved model data file."
   ]
  },
  {
   "cell_type": "code",
   "execution_count": null,
   "metadata": {},
   "outputs": [],
   "source": [
    "import mola.widgets as mw\n",
    "lookups = {'F_m': lookup.get('flows'), 'P_m': lookup.get('processes'), 'F_t': lookup.get('flows'), \n",
    "           'P_t': lookup.get('processes'), 'F_s': lookup.get('flows'), \n",
    "           'P_s': lookup.get('processes'), 'KPI': lookup.get('KPI')}\n",
    "vbox, tab = mw.get_sets(spec, lookups, selection_set_file_name)\n",
    "vbox"
   ]
  },
  {
   "cell_type": "markdown",
   "metadata": {},
   "source": [
    "Below, we load the sets defined from the JSON file."
   ]
  },
  {
   "cell_type": "code",
   "execution_count": null,
   "metadata": {},
   "outputs": [],
   "source": [
    "import json\n",
    "with open(selection_set_file_name) as s:\n",
    "    set_data = json.load(s)\n",
    "set_data"
   ]
  },
  {
   "cell_type": "markdown",
   "metadata": {},
   "source": [
    "## Parameters\n",
    "\n",
    "The parameters are defined using the widget below."
   ]
  },
  {
   "cell_type": "code",
   "execution_count": null,
   "metadata": {
    "scrolled": false
   },
   "outputs": [],
   "source": [
    "import qgrid\n",
    "selection_parameters_file_name = 'selection_parameters_data.json'\n",
    "param_dfr, param_dict = pyoio.get_model_user_parameters(spec, set_data, selection_parameters_file_name)\n",
    "mw.get_parameters(param_dfr, selection_parameters_file_name)"
   ]
  },
  {
   "cell_type": "markdown",
   "metadata": {},
   "source": [
    "Save the parameters above to the file system to persist any changes before proceeding. For reference, here is the contents of the model parameter file."
   ]
  },
  {
   "cell_type": "code",
   "execution_count": null,
   "metadata": {},
   "outputs": [],
   "source": [
    "with open(selection_parameters_file_name) as fp:\n",
    "    params_json = json.load(fp)\n",
    "params_json"
   ]
  },
  {
   "cell_type": "markdown",
   "metadata": {},
   "source": [
    "# Model Build\n",
    "\n",
    "To build the model we need to calculate the environmental impacts for each flow, process and KPI from the database. This is done as part in the `populate` method."
   ]
  },
  {
   "cell_type": "code",
   "execution_count": null,
   "metadata": {},
   "outputs": [],
   "source": [
    "json_files = ['selection_set_data.json', selection_parameters_file_name]\n",
    "#model_instance = spec.populate(db_file, json_files, elementary_flow_ref_ids=['e1', 'e2'])\n",
    "model_instance = spec.populate(json_files)\n",
    "model_instance.F_m.pprint()"
   ]
  },
  {
   "cell_type": "markdown",
   "metadata": {},
   "source": [
    "# Solver\n",
    "\n",
    "We need to activate an objective or form a weighted sum of objectives. For this problem we just need the first objective of minimising the environmental impact."
   ]
  },
  {
   "cell_type": "code",
   "execution_count": null,
   "metadata": {},
   "outputs": [],
   "source": [
    "model_instance.obj1.activate()\n",
    "model_instance.obj2.deactivate()\n",
    "model_instance.obj.deactivate()"
   ]
  },
  {
   "cell_type": "code",
   "execution_count": null,
   "metadata": {},
   "outputs": [],
   "source": [
    "opt = SolverFactory(\"glpk\")\n",
    "results = opt.solve(model_instance)\n",
    "results.write()"
   ]
  },
  {
   "cell_type": "markdown",
   "metadata": {},
   "source": [
    "The variable output is shown below"
   ]
  },
  {
   "cell_type": "code",
   "execution_count": null,
   "metadata": {},
   "outputs": [],
   "source": [
    "model_instance.Flow.pprint()"
   ]
  },
  {
   "cell_type": "code",
   "execution_count": null,
   "metadata": {},
   "outputs": [],
   "source": [
    "model_instance.Specific_Material_Transport_Flow.pprint()"
   ]
  },
  {
   "cell_type": "code",
   "execution_count": null,
   "metadata": {},
   "outputs": [],
   "source": [
    "model_instance.Specific_Transport_Flow.pprint()"
   ]
  },
  {
   "cell_type": "code",
   "execution_count": null,
   "metadata": {},
   "outputs": [],
   "source": [
    "model_instance.transport_constraint.pprint()"
   ]
  },
  {
   "cell_type": "markdown",
   "metadata": {},
   "source": [
    "# Output\n",
    "\n",
    "We use the `mola.output` module to prettify the output."
   ]
  },
  {
   "cell_type": "code",
   "execution_count": null,
   "metadata": {},
   "outputs": [],
   "source": [
    "import mola.output as mo\n",
    "lookup = dv.LookupTables(conn)"
   ]
  },
  {
   "cell_type": "code",
   "execution_count": null,
   "metadata": {},
   "outputs": [],
   "source": [
    "flows_dfr = mo.get_entity(model_instance.component('Flow'), lookup).reset_index(drop=True)\n",
    "flows_dfr"
   ]
  },
  {
   "cell_type": "code",
   "execution_count": null,
   "metadata": {},
   "outputs": [],
   "source": []
  }
 ],
 "metadata": {
  "kernelspec": {
   "display_name": "Python 3",
   "language": "python",
   "name": "python3"
  },
  "language_info": {
   "codemirror_mode": {
    "name": "ipython",
    "version": 3
   },
   "file_extension": ".py",
   "mimetype": "text/x-python",
   "name": "python",
   "nbconvert_exporter": "python",
   "pygments_lexer": "ipython3",
   "version": "3.7.9"
  },
  "toc": {
   "base_numbering": 1,
   "nav_menu": {},
   "number_sections": true,
   "sideBar": true,
   "skip_h1_title": false,
   "title_cell": "Table of Contents",
   "title_sidebar": "Contents",
   "toc_cell": false,
   "toc_position": {
    "height": "calc(100% - 180px)",
    "left": "10px",
    "top": "150px",
    "width": "284.438px"
   },
   "toc_section_display": true,
   "toc_window_display": true
  },
  "varInspector": {
   "cols": {
    "lenName": 16,
    "lenType": 16,
    "lenVar": 40
   },
   "kernels_config": {
    "python": {
     "delete_cmd_postfix": "",
     "delete_cmd_prefix": "del ",
     "library": "var_list.py",
     "varRefreshCmd": "print(var_dic_list())"
    },
    "r": {
     "delete_cmd_postfix": ") ",
     "delete_cmd_prefix": "rm(",
     "library": "var_list.r",
     "varRefreshCmd": "cat(var_dic_list()) "
    }
   },
   "types_to_exclude": [
    "module",
    "function",
    "builtin_function_or_method",
    "instance",
    "_Feature"
   ],
   "window_display": false
  }
 },
 "nbformat": 4,
 "nbformat_minor": 4
}
