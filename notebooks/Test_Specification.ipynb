{
 "cells": [
  {
   "cell_type": "markdown",
   "metadata": {},
   "source": [
    "# Translation of specification"
   ]
  },
  {
   "cell_type": "markdown",
   "metadata": {},
   "source": [
    "These are notes on how we translate a specification of an optimisation problem for MOLA into an abstract Pyomo model that one can subsequently make concrete."
   ]
  },
  {
   "cell_type": "markdown",
   "metadata": {},
   "source": [
    "\n",
    "\n",
    "# Specification"
   ]
  },
  {
   "cell_type": "markdown",
   "metadata": {},
   "source": [
    "This is the version 4 of the LP specification."
   ]
  },
  {
   "cell_type": "markdown",
   "metadata": {},
   "source": [
    "## Indices and sets\n",
    "\n",
    "The index is a label that identifies an element in a set. For simplicity, we shall use the index to refer to the element that it indexes."
   ]
  },
  {
   "cell_type": "markdown",
   "metadata": {},
   "source": [
    "* $af \\in AF$ is an index for an openLCA product flow imported from an openLCA database. This includes new flows that are defined by the user for the optimisation problem.\n",
    "* $f\\in F$ is an index for a user-defined flow.\n",
    "* $f_m \\in F_m \\subset F$ is an index for a user-defined material flow (e.g. energy, material) to be considered in the optimisation problem.\n",
    "* $f_s \\in F_s \\subset F$ is an index for an user-defined service flow (e.g. energy storage, transport) to be considered in the optimisation problem.\n",
    "* $f_{t} \\in F_{t} \\subset F$ is an index for transport service flow i.e. transport mode \\{road, train freight, air etc\\}.\n",
    "* $l\\in L$ location defined by Latitude and Longitude.\n",
    "* $e \\in E$ is an elementary flow index for elementary flows imported from an openLCA database. A system process in the openLCA database is by definition broken down into a set of these elementary flows.\n",
    "* $ap \\in AP$ is an index for a process in the set of all processes contained in an openLCA database. This include user-defined processes specifically designed for the optimisation tool.\n",
    "* $p\\in P\\subset AP$ is a process index for processes that make up the optimisation problem.\n",
    "* $t \\in T$ is the time interval by time discretization $\\{t_1, t_2, t_3, t_4 \\ldots t_n\\}$.\n",
    "* $k \\in K$ a task index $k$ in the set of all task indices $K$.\n",
    "* $d \\in D$ an index for a demand $d$ in the set of demand indices $D$. \n",
    "* $akpi \\in AKPI$ is an indexes for all key performance indicators $KPI$ in an openLCA database. This includes key performance indicators defined by the user of the optimisation tool that must be added to the openLCA database.\n",
    "* $kpi \\in KPI\\subset AKPI$ is an index that identifies those performance indicators that the user wish to use in the optimisation problem."
   ]
  },
  {
   "cell_type": "markdown",
   "metadata": {},
   "source": [
    "## Parameters"
   ]
  },
  {
   "cell_type": "markdown",
   "metadata": {},
   "source": [
    "### User-defined"
   ]
  },
  {
   "cell_type": "markdown",
   "metadata": {},
   "source": [
    "* $C_{f_m, k, d, t}$ Conversion factor for material flows to generate per unit of demand product/services $d$ at task $s$, time $t$. If not defined default value is 0.\n",
    "\n",
    "* $D_{d,k,t}$ Demand for final product/service $d$ for task $k$ at time $t$; If not defined, default value is 0.\n",
    "\n",
    "* $D_{d,k}^{total}$ Total demand for final product/service over the whole optimisation time period over multiple tasks.\n",
    "\n",
    "* $L_{f_m, f_s}$ Binary factor to link services flows to material flows e.g. energy storage, material storage, transport; If not defined, default value is 0.\n",
    "\n",
    "* $X_{k, t}$ Longitude for where the material flow $f_m$ is transported in task $k$.\n",
    "\n",
    "* $Y_{k, t}$ Latitude for where the material flow $f_m$ is transported in the task $k$.\n",
    "\n",
    "* $d_{p,f_m, k, t}$ Total travel distance between process $p$ (where material flow $f_m$ is produced) and task $k$ (where material flow $f_m$ is transported to) at time $t$\n",
    "\n",
    "$$\n",
    "d_{p,f_m,k,t}=M(X_{k,t},Y_{k,t},X_{p, f_m}^I,Y^I_{p, f_m})\n",
    "$$\n",
    "\n",
    "where $M$ is a function that measures this distance e.g. Haversine - see http://www.movable-type.co.uk/scripts/latlong.html\n",
    "\n",
    "\n",
    "* $\\phi_{f, p, t}$ Cost co-efficient for material, service and transport flows $f$ produced by $p$ at time t.\n"
   ]
  },
  {
   "cell_type": "markdown",
   "metadata": {},
   "source": [
    "### Imported from openLCA and model initialisation\n",
    "\n",
    "* $Ef_{akpi, e}$ Environmental impact characterisation factor for elementary flow $e$ and performance indicator $akpi$.\n",
    "\n",
    "* $EF_{e, f, p}$ Elementary flow $e$ to link with product flow $f$ through process $p$.\n",
    "\n",
    "* $EI_{akpi, f, ap}$ Calculated environmental impact for product flow $𝑓$ through process $ap$ and performance indicator $kpi$.\n",
    "\n",
    "* $X^I_{p,f_m}$ Longitude from the location table given in a process for material flow $f_m$.\n",
    "\n",
    "* $Y^I_{p,f_m}$ Latitude from the location table given in the process for material flow $f_m$."
   ]
  },
  {
   "cell_type": "markdown",
   "metadata": {},
   "source": [
    "### Continuous variables\n"
   ]
  },
  {
   "cell_type": "markdown",
   "metadata": {},
   "source": [
    "* $Obj_{kpi}$ Objective functions for the user-defined KPIs.\n",
    "* $Flow_{f_m, p,k, t}$ is the flow of material $f_m$ produced by process $p$ to task $k$ at time $t$.\n",
    "* $S_{f_s, k, t}$ is the temporary storage of service input flow $f_s$ at task $k$ and time $t$. **Perhaps call it $Service$ like $Flow$.**\n",
    "* $SF_{f_s, p, k, t}$ Specific service flow (e.g. storage) through process $p$ in task $k$ at time $t$.\n",
    "* $f_{f_m, p, f_t, k, t}$ Specific material and transport flow which is total quantity of materials $f_m$ produced in process $p$ transported through transport mode $f_t$ at task $k$ and time interval $t$ (unit: kg).\n",
    "* $T_{f_t,k,t}$ Transport flow which is quantity times distance of all materials transported through the transport mode $f_t$ at task $k$ and time interval $t$ (unit: kg km).\n",
    "* $t_{f_t,p,k,t}$ Specific transport flow which is quantity times distance of all materials transported through the transport mode $f_t$ and by process $p$ at task $k$ and time interval $t$ (unit: kg km)."
   ]
  },
  {
   "cell_type": "markdown",
   "metadata": {},
   "source": [
    "## Objective function"
   ]
  },
  {
   "cell_type": "markdown",
   "metadata": {},
   "source": [
    "Our objective is to minimise the environmental impact of elementary flows and the economic cost derived from a network of processes.\n",
    "\n",
    "Consequently, the objective is for a fixed impact category $kpi$"
   ]
  },
  {
   "cell_type": "markdown",
   "metadata": {},
   "source": [
    "$$\n",
    "\\min_D Obj_{kpi}\n",
    "$$\n",
    "\n",
    "and\n",
    "\n",
    "$$\n",
    "\\min_D Obj_{cost}\n",
    "$$\n",
    "\n",
    "where the decision variables are defined by the set \n",
    "\n",
    "$$\n",
    "D=\\cup_{F,P,K,T}\\{SF_{f_s, p, k, t}, f_{f_m,f_t,k,t}, t_{f_t, p, k, t}\\}\n",
    "$$\n",
    "\n",
    "and represent the specific service flows, the specific material flows using a mode of transport, and the specific transport flows."
   ]
  },
  {
   "cell_type": "markdown",
   "metadata": {},
   "source": [
    "The environmental impact is the sum of the environmental impacts arising from material, service flows, and transport flows:"
   ]
  },
  {
   "cell_type": "markdown",
   "metadata": {},
   "source": [
    "$$\n",
    "Obj_{kpi} = \\sum_{f_m, p_m, k, t} Flow_{f_m, p_m, k, t}EI_{kpi, f_m, p_m} + \n",
    "\\sum_{f_s, p_s, k ,t} SF_{f_s, p_s, k, t}EI_{kpi, f_s, p_s} +\n",
    "\\sum_{f_t, p_t, k, t}t_{f_t, p_t, k, t}EI_{kpi,f_t,p_t}.\n",
    "$$"
   ]
  },
  {
   "cell_type": "markdown",
   "metadata": {},
   "source": [
    "The economic impact is the sum of the economic impacts arising from material, service and transport flows:"
   ]
  },
  {
   "cell_type": "markdown",
   "metadata": {},
   "source": [
    "$$\n",
    "Obj_{cost} = \\sum_{f_m, p_m, k, t} Flow_{f_m, p_m, k, t}\\phi_{f_m, p_m, t} +\n",
    "\\sum_{f_s, p_s, k, t} SF_{f_s, p_s, k, t}\\phi_{f_s, p_s, t} +\n",
    "\\sum_{f_t, p_t, k, t}t_{f_t, p_t, k, t}\\phi_{f_t, p_t, t}\n",
    "$$"
   ]
  },
  {
   "cell_type": "markdown",
   "metadata": {},
   "source": [
    "Here the environmental impact of flow $f\\in F$ measured by impact factor $kpi$ is "
   ]
  },
  {
   "cell_type": "markdown",
   "metadata": {},
   "source": [
    "$$\n",
    "EI_{kpi, f, p} = \\sum_e Ef_{kpi, e}EF_{e, f, p}\n",
    "$$\n",
    "\n",
    "where the flow $f$ is the product flow for the process $p\\in P$. Here $Ef_{kpi, e}$ denotes the impact factor indexed by impact category $kpi$ and environmental flow $e$ and $EF_{e, f, p}$ is the quantity of elementary flow generated by the product flow $f$ by process $p$. If $f\\in F_m\\cup F_s\\cup F_t$ then the breakdown of flow into elementary flow amounts $EF_{e, f, p}$ must be calculated in openLCA by constructing a *system process*, which is then imported into the optimisation tool. Otherwise the flow is a product flow from an existing system process in openLCA so there already is a breakdown.\n"
   ]
  },
  {
   "cell_type": "markdown",
   "metadata": {},
   "source": [
    "## Constraints"
   ]
  },
  {
   "cell_type": "markdown",
   "metadata": {},
   "source": [
    "The binary parameter $L_{f_m, f_s}$ determines the linkage between storage service flow $S_{f_s, k,t}$ and the material \n",
    "storage flow $S_{f_m, k, t}$ at task $k$ and time $t$:\n",
    "\n",
    "$$\n",
    "S_{f_s,k,t} = \\sum_{f_m} L_{f_m, f_s}S_{f_m, k, t},\n",
    "$$\n",
    "\n",
    "where $L_{f_m, f_s}$ is a binary parameter than links the service flow $f_s$ to the material flow $f_m$  in task $k$ at time $t$.\n",
    "\n",
    "The service flow $S_{f_s, k,t}$ is the sum of the process specific service flows $SF_{f_m, p, k, t}$:\n",
    "\n",
    "$$\n",
    "S_{f_s,k,t} = \\sum_{f_m, p_m} SF_{f_m, p_m, k, t},\\quad \\text{needs an $f_s$ here?}\n",
    "$$\n",
    "\n",
    "For any material flow $f_m$ produced by $p$, the total quantity $Flow_{f_m,p,k,t}$ is dependent on the quantity of $f_m$ transported through transport mode $f_t$ at task $k$ and time interval $t$, which is denoted by $f_{f_m,p_m,f_t,k,t}$. \n",
    "\n",
    "$$\n",
    "Flow_{f_m,p_m,k,t}=\\sum_{f_t} f_{f_m,p_m,f_t,k,t}\n",
    "$$\n",
    "\n",
    "The transport flow $T_{f_t,k,t}$ is defined by the quantity of $f_m$ transported via transport mode $f_t$ at task $k$ and time interval $t$ and the transport distance for shipping $f_m$ from initial production location $(X^I_{p,f_m},Y^I_{p,f_m})$ to final task location $X_{k,t}, Y_{k,t}$.\n",
    "\n",
    "$$\n",
    "T_{f_t, k, t} = \\sum_{f_m, p_m} f_{f_m, p_m, f_t, k, t}d_{p, f_m, k, t}\n",
    "$$\n",
    "\n",
    "The transport flow is also the sum of the specific transport flows denoted by $t_{f_t, p_t, k, t}$:\n",
    "\n",
    "$$\n",
    "T_{f_t, k, t} = \\sum_{p_t} t_{f_t, p_t, k, t}\n",
    "$$\n",
    "\n",
    "The sum of material flows over each production process and the conversion of temporary storage to material flow must satisfy demand\n",
    "\n",
    "$$\n",
    "\\sum_{f_m, p} (Flow_{f_m, p, k, t} - S_{f_m, k, t} + S_{f_m, k, t-1})C_{f_m, k, t} \\geq D_{d,k,t}\n",
    "$$\n",
    "\n",
    "The total material flow minus final storage must satisfy the total demand over the time horizon so\n",
    "\n",
    "$$\n",
    "\\sum_{f_m,p,t} Flow_{f_m, p, k, t}C_{f_m, k, t}  \\geq D_{d,k}^{total}.\n",
    "$$\n",
    "\n",
    "Finally, we require\n",
    "\n",
    "$$\n",
    "SF_{f_s, k, t} \\geq 0,\n",
    "$$\n",
    "\n",
    "$$\n",
    "f_{f_m, p, f_t, k, t} \\geq 0,\n",
    "$$\n",
    "\n",
    "$$\n",
    "t_{f_t, p, k, t} \\geq 0.\n",
    "$$\n"
   ]
  },
  {
   "cell_type": "markdown",
   "metadata": {},
   "source": [
    "# Abstract Pyomo Model\n",
    "\n",
    "The specification is translated into an abstract pyomo model."
   ]
  },
  {
   "cell_type": "code",
   "execution_count": 1,
   "metadata": {},
   "outputs": [],
   "source": [
    "from importlib import reload\n",
    "from pyomo.environ import *\n",
    "abstract_model = AbstractModel()"
   ]
  },
  {
   "cell_type": "markdown",
   "metadata": {},
   "source": [
    "## Indices and sets"
   ]
  },
  {
   "cell_type": "markdown",
   "metadata": {},
   "source": [
    "There is no instantiation of sets just placeholders for data. Some of the data must be supplied by the user via a GUI or programmatically and some must come from a data source."
   ]
  },
  {
   "cell_type": "markdown",
   "metadata": {},
   "source": [
    "### User-defined\n",
    "\n",
    "These are placeholders for the GUI."
   ]
  },
  {
   "cell_type": "code",
   "execution_count": 2,
   "metadata": {},
   "outputs": [],
   "source": [
    "abstract_model.F = Set(doc='Flows to optimise')\n",
    "abstract_model.F_m = Set(doc='Material flows to optimise')\n",
    "abstract_model.F_s = Set(doc='Service flows to optimise')\n",
    "abstract_model.F_t = Set(doc='Transport flows to optimise')\n",
    "abstract_model.P = Set(doc='Processes in the optimisation problem')\n",
    "abstract_model.T = Set(doc='Time intervals')\n",
    "abstract_model.K = Set(doc='Tasks')\n",
    "abstract_model.D = Set(doc='Demands')\n",
    "abstract_model.KPI = Set(doc='Performance indicators for optimisation problem')"
   ]
  },
  {
   "cell_type": "markdown",
   "metadata": {},
   "source": [
    "### DB DataPortal\n",
    "\n",
    "These sets are populated by reference ids from openLCA."
   ]
  },
  {
   "cell_type": "code",
   "execution_count": 3,
   "metadata": {},
   "outputs": [],
   "source": [
    "abstract_model.AF = Set(doc='All flows in openLCA database')\n",
    "abstract_model.E = Set(doc='Elementary Flows in OpenLCA database')\n",
    "abstract_model.AP = Set(doc='All processes from in OpenLCA database')\n",
    "abstract_model.AKPI = Set(doc='All key performance indicators in an openLCA database')"
   ]
  },
  {
   "cell_type": "markdown",
   "metadata": {},
   "source": [
    "So to generate a new model instance in the GUI the user first needs to specify an openLCA database. This will populate dropdowns so the user can make choices. \n",
    "\n",
    "We use a DataPortal and to populate the sets."
   ]
  },
  {
   "cell_type": "code",
   "execution_count": 4,
   "metadata": {},
   "outputs": [],
   "source": [
    "olca_dp = DataPortal()\n",
    "db_file = '/mnt/disk1/data/openlca/sqlite/system/CSV_juice_ecoinvent_36_apos_lci_20200206_20201029-102818.sqlite'\n",
    "olca_dp.load(filename=db_file, using='sqlite3', query=\"SELECT REF_ID FROM TBL_FLOWS\", set=abstract_model.AF)\n",
    "olca_dp.load(filename=db_file, using='sqlite3', query=\"SELECT REF_ID FROM TBL_FLOWS WHERE FLOW_TYPE='ELEMENTARY_FLOW'\", set=abstract_model.E)\n",
    "olca_dp.load(filename=db_file, using='sqlite3', query=\"SELECT REF_ID FROM TBL_PROCESSES\", set=abstract_model.AP)\n",
    "olca_dp.load(filename=db_file, using='sqlite3', query=\"SELECT REF_ID FROM TBL_IMPACT_CATEGORIES\", set=abstract_model.AKPI)\n",
    "model_instance = abstract_model.create_instance(olca_dp)"
   ]
  },
  {
   "cell_type": "markdown",
   "metadata": {},
   "source": [
    "We shall also need flow/process names and categories and other data which may need more complicated queries that don't fall under the capabilities of a DataPortal. This supplementary data is obtained using a query builder. For example, the following function builds dictionaries for mapping reference ids to names."
   ]
  },
  {
   "cell_type": "code",
   "execution_count": 5,
   "metadata": {},
   "outputs": [
    {
     "name": "stdout",
     "output_type": "stream",
     "text": [
      "SELECT \"REF_ID\",\"NAME\" FROM \"TBL_FLOWS\"\n",
      "SELECT \"REF_ID\",\"NAME\" FROM \"TBL_PROCESSES\"\n",
      "SELECT \"REF_ID\",\"NAME\" FROM \"TBL_FLOWS\" WHERE \"FLOW_TYPE\"='PRODUCT_FLOW'\n"
     ]
    },
    {
     "data": {
      "text/plain": [
       "'Ammonia'"
      ]
     },
     "execution_count": 5,
     "metadata": {},
     "output_type": "execute_result"
    }
   ],
   "source": [
    "import mola.dataimport as di\n",
    "import mola.dataview as dv\n",
    "reload(dv)\n",
    "\n",
    "dbconn = di.get_sqlite_connection()\n",
    "d = dv.get_ref_id_dicts(dbconn, {'flows': 'TBL_FLOWS', 'processes': 'TBL_PROCESSES'})\n",
    "d['flows']['0f440cc0-0f74-446d-99d6-8ff0e97a2444']"
   ]
  },
  {
   "cell_type": "markdown",
   "metadata": {},
   "source": [
    "We might be able to use the existing DataPortal to load this data, but it is not\n",
    "clear if it is possible to load indexed sets from sqlite. We could load them into tuple sets and transform."
   ]
  },
  {
   "cell_type": "code",
   "execution_count": 6,
   "metadata": {},
   "outputs": [],
   "source": [
    "# model = AbstractModel()\n",
    "# model.I = Set()\n",
    "# model.A = Set(dimen=1)\n",
    "# data = DataPortal()\n",
    "# data.load(filename='A.tab', set=model.A, index=[1,2,3])\n",
    "# instance = model.create_instance(data)\n",
    "# instance.A.pprint()\n",
    "# instance.B = Set()\n",
    "\n",
    "# cmodel = ConcreteModel()\n",
    "# cmodel.B = Set(initialize=['b1', 'b2'])\n",
    "# cmodel.C = Set(cmodel.B, initialize={'b1':['c1'], 'b2': ['c4','c2']})\n",
    "# cmodel.C.pprint()\n",
    "# cmodel.C['b1'].pprint()"
   ]
  },
  {
   "cell_type": "code",
   "execution_count": 7,
   "metadata": {},
   "outputs": [],
   "source": [
    "# concrete_model = ConcreteModel()\n",
    "# concrete_model.AF1 = Set(initialize=model_instance.AF)\n",
    "# olca_dp.load(filename=db_file, using='sqlite3', query=\"SELECT NAME AS AF1 FROM TBL_FLOWS\", \n",
    "#              set=concrete_model.AF, index=concrete_model.AF)\n",
    "#concrete_model.AF1.pprint()"
   ]
  },
  {
   "cell_type": "markdown",
   "metadata": {},
   "source": [
    "## Parameters"
   ]
  },
  {
   "cell_type": "markdown",
   "metadata": {},
   "source": [
    "### User-defined\n",
    "\n",
    "These are defined by the GUI so they are placeholders."
   ]
  },
  {
   "cell_type": "code",
   "execution_count": 8,
   "metadata": {},
   "outputs": [],
   "source": [
    "abstract_model.C = Param(abstract_model.F_m, abstract_model.K, abstract_model.D, abstract_model.T,\n",
    "                         doc='Conversion factor for material flows')\n",
    "abstract_model.Demand = Param(abstract_model.D, abstract_model.K, abstract_model.T)\n",
    "abstract_model.Total_Demand = Param(abstract_model.D, abstract_model.K)\n",
    "abstract_model.L = Param(abstract_model.F_m, abstract_model.F_t)\n",
    "abstract_model.X = Param(abstract_model.K, abstract_model.T)\n",
    "abstract_model.Y = Param(abstract_model.K, abstract_model.T)\n",
    "abstract_model.d = Param(abstract_model.P, abstract_model.F_m, abstract_model.K, abstract_model.T)\n",
    "abstract_model.phi = Param(abstract_model.F, abstract_model.P, abstract_model.T)"
   ]
  },
  {
   "cell_type": "markdown",
   "metadata": {},
   "source": [
    "### DB DataPortal\n",
    "\n",
    "We cannot just load these when the database is specified because they depend on user input. They are completed in the model build phase after user definition."
   ]
  },
  {
   "cell_type": "code",
   "execution_count": 9,
   "metadata": {},
   "outputs": [],
   "source": [
    "abstract_model.Ef = Param(abstract_model.AKPI, abstract_model.E)\n",
    "abstract_model.EF = Param(abstract_model.E, abstract_model.F, abstract_model.P)\n",
    "abstract_model.EI = Param(abstract_model.AKPI, abstract_model.F, abstract_model.E)\n",
    "abstract_model.XI = Param(abstract_model.P, abstract_model.F_m)\n",
    "abstract_model.YI = Param(abstract_model.P, abstract_model.F_m)"
   ]
  },
  {
   "cell_type": "markdown",
   "metadata": {},
   "source": [
    "## Variables\n",
    "\n",
    "These can be defined in the abstract model, but we are likely to use linked sets to decrease the amount of redundancy."
   ]
  },
  {
   "cell_type": "code",
   "execution_count": 10,
   "metadata": {},
   "outputs": [],
   "source": [
    "abstract_model.Flow = Var(abstract_model.F_m, abstract_model.P, abstract_model.K, abstract_model.T)\n",
    "abstract_model.Storage = Var(abstract_model.F_s, abstract_model.K, abstract_model.T)\n",
    "abstract_model.Service_Flow = Var(abstract_model.F_s, abstract_model.P, abstract_model.K, abstract_model.T)\n",
    "abstract_model.Specific_Material_Transport_Flow = Var(abstract_model.F_m, abstract_model.P, abstract_model.F_t, \n",
    "                                             abstract_model.K, abstract_model.T)\n",
    "abstract_model.Transport_Flow = Var(abstract_model.F_t, abstract_model.K, abstract_model.T)\n",
    "abstract_model.Specific_Transport_Flow = Var(abstract_model.F_t, abstract_model.P, abstract_model.K, abstract_model.T)"
   ]
  },
  {
   "cell_type": "markdown",
   "metadata": {},
   "source": [
    "## Objective"
   ]
  },
  {
   "cell_type": "markdown",
   "metadata": {},
   "source": [
    "There are two objectives in the abstract model. They are constructed at build time."
   ]
  },
  {
   "cell_type": "code",
   "execution_count": 11,
   "metadata": {},
   "outputs": [
    {
     "name": "stdout",
     "output_type": "stream",
     "text": [
      "obj1 : Size=0, Index=KPI, Active=True\n",
      "    Not constructed\n",
      "obj2 : Size=0, Index=None, Active=True\n",
      "    Not constructed\n"
     ]
    }
   ],
   "source": [
    "def environment_objective_rule(model, kpi):\n",
    "    return sum(model.Flow[fm, p, k, t]*model.EI[kpi, fm, p]\n",
    "               for fm in model.F_m for p in model.P for k in model.K for t in model.T) + \\\n",
    "            sum(model.Service_Flow[fs, p, k, t] * model.EI[kpi, fs, p]\n",
    "                for fs in model.F_s for p in model.P for k in model.K for t in model.T) + \\\n",
    "            sum(model.Specific_Transport_Flow[ft, p, k, t] * model.EI[kpi, ft, p]\n",
    "                for ft in model.F_t for p in model.P for k in model.K for t in model.T)\n",
    "\n",
    "def cost_objective_rule(model):\n",
    "    return sum(model.Flow[fm, p, k, t]*model.phi[fm, p, t]\n",
    "               for fm in model.F_m for p in model.P for k in model.K for t in model.T) + \\\n",
    "            sum(model.Service_Flow[fs, p, k, t] * model.phi[fs, p, t]\n",
    "                for fs in model.F_s for p in model.P for k in model.K for t in model.T) + \\\n",
    "            sum(model.Specific_Transport_Flow[ft, p, k, t] * model.phi[ft, p, t]\n",
    "                for ft in model.F_t for p in model.P for k in model.K for t in model.T)\n",
    "\n",
    "abstract_model.obj1 = Objective(abstract_model.KPI, rule=environment_objective_rule)\n",
    "abstract_model.obj2 = Objective(rule=cost_objective_rule)\n",
    "abstract_model.obj1.pprint()\n",
    "abstract_model.obj2.pprint()"
   ]
  },
  {
   "cell_type": "markdown",
   "metadata": {},
   "source": [
    "## Constraints\n",
    "\n",
    "These are determined at build time from information in the GUI. There is no indexing of sets at present."
   ]
  },
  {
   "cell_type": "code",
   "execution_count": 12,
   "metadata": {},
   "outputs": [],
   "source": [
    "def flow_demand_rule(model, d, k):\n",
    "    total_demand = sum(\n",
    "        model.Flow[fm, pm, k, t] * model.C[fm, k, t] for fm in model.F_m for pm in model.P for t in model.T)\n",
    "    return total_demand >= model.Total_Demand[d, k]\n",
    "abstract_model.total_demand_constraint = Constraint(\n",
    "    abstract_model.D, abstract_model.K, rule=flow_demand_rule)\n",
    "\n",
    "def material_flow_rule(model, fm, pm):\n",
    "    return model.Flow[fm, pm, k, t] == sum(model.f[fm, pm, ft, k, t] for ft in model.ft)\n",
    "abstract_model.material_flow_constraint = Constraint(abstract_model.F_m, abstract_model.P, expr=material_flow_rule)\n",
    "\n",
    "abstract_model.transport_constraint = ConstraintList()\n",
    "abstract_model.specific_transport_constraint = ConstraintList()"
   ]
  },
  {
   "cell_type": "markdown",
   "metadata": {},
   "source": [
    "# User configuration\n",
    "\n",
    "The mola specification module contains a class called ScheduleSpecification that contains the above abstract model."
   ]
  },
  {
   "cell_type": "code",
   "execution_count": 13,
   "metadata": {},
   "outputs": [
    {
     "name": "stdout",
     "output_type": "stream",
     "text": [
      "33 Set Declarations\n",
      "    AF : All flows in openLCA database\n",
      "        Size=0, Index=None, Ordered=Insertion\n",
      "        Not constructed\n",
      "    AKPI : All key performance indicators in an openLCA database\n",
      "        Size=0, Index=None, Ordered=Insertion\n",
      "        Not constructed\n",
      "    AP : All processes from in OpenLCA database\n",
      "        Size=0, Index=None, Ordered=Insertion\n",
      "        Not constructed\n",
      "    C_index : Size=0, Index=None, Ordered=True\n",
      "        Not constructed\n",
      "    D : Demands\n",
      "        Size=0, Index=None, Ordered=Insertion\n",
      "        Not constructed\n",
      "    Demand_index : Size=0, Index=None, Ordered=True\n",
      "        Not constructed\n",
      "    E : Elementary Flows in OpenLCA database\n",
      "        Size=0, Index=None, Ordered=Insertion\n",
      "        Not constructed\n",
      "    EI_index : Size=0, Index=None, Ordered=True\n",
      "        Not constructed\n",
      "    F : Size=0, Index=None, Ordered=True\n",
      "        Not constructed\n",
      "    F_index_0 : Size=0, Index=None, Ordered=True\n",
      "        Not constructed\n",
      "    F_m : Material flows to optimise\n",
      "        Size=0, Index=None, Ordered=Insertion\n",
      "        Not constructed\n",
      "    F_s : Service flows to optimise\n",
      "        Size=0, Index=None, Ordered=Insertion\n",
      "        Not constructed\n",
      "    F_t : Transport flows to optimise\n",
      "        Size=0, Index=None, Ordered=Insertion\n",
      "        Not constructed\n",
      "    Flow_index : Size=0, Index=None, Ordered=True\n",
      "        Not constructed\n",
      "    K : Tasks\n",
      "        Size=0, Index=None, Ordered=Insertion\n",
      "        Not constructed\n",
      "    KPI : Performance indicators for optimisation problem\n",
      "        Size=0, Index=None, Ordered=Insertion\n",
      "        Not constructed\n",
      "    L_index : Size=0, Index=None, Ordered=True\n",
      "        Not constructed\n",
      "    P : Processes in the optimisation problem\n",
      "        Size=0, Index=None, Ordered=Insertion\n",
      "        Not constructed\n",
      "    Service_Flow_index : Size=0, Index=None, Ordered=True\n",
      "        Not constructed\n",
      "    Specific_Material_Transport_Flow_index : Size=0, Index=None, Ordered=True\n",
      "        Not constructed\n",
      "    Specific_Transport_Flow_index : Size=0, Index=None, Ordered=True\n",
      "        Not constructed\n",
      "    Storage_index : Size=0, Index=None, Ordered=True\n",
      "        Not constructed\n",
      "    T : Time intervals\n",
      "        Size=0, Index=None, Ordered=Insertion\n",
      "        Not constructed\n",
      "    Total_Demand_index : Size=0, Index=None, Ordered=True\n",
      "        Not constructed\n",
      "    Transport_Flow_index : Size=0, Index=None, Ordered=True\n",
      "        Not constructed\n",
      "    X_index : Size=0, Index=None, Ordered=True\n",
      "        Not constructed\n",
      "    Y_index : Size=0, Index=None, Ordered=True\n",
      "        Not constructed\n",
      "    d_index : Size=0, Index=None, Ordered=True\n",
      "        Not constructed\n",
      "    material_flow_constraint_index : Size=0, Index=None, Ordered=True\n",
      "        Not constructed\n",
      "    phi_index : Size=0, Index=None, Ordered=True\n",
      "        Not constructed\n",
      "    specific_transport_constraint_index : Size=0, Index=None, Ordered=True\n",
      "        Not constructed\n",
      "    total_demand_constraint_index : Size=0, Index=None, Ordered=True\n",
      "        Not constructed\n",
      "    transport_constraint_index : Size=0, Index=None, Ordered=True\n",
      "        Not constructed\n",
      "\n",
      "9 Param Declarations\n",
      "    C : Conversion factor for material flows\n",
      "        Size=0, Index=C_index, Domain=Any, Default=None, Mutable=False\n",
      "        Not constructed\n",
      "    Demand : Size=0, Index=Demand_index, Domain=Any, Default=None, Mutable=False\n",
      "        Not constructed\n",
      "    EI : Size=0, Index=EI_index, Domain=Any, Default=None, Mutable=False\n",
      "        Not constructed\n",
      "    L : Size=0, Index=L_index, Domain=Any, Default=None, Mutable=False\n",
      "        Not constructed\n",
      "    Total_Demand : Size=0, Index=Total_Demand_index, Domain=Any, Default=None, Mutable=False\n",
      "        Not constructed\n",
      "    X : Size=0, Index=X_index, Domain=Any, Default=None, Mutable=False\n",
      "        Not constructed\n",
      "    Y : Size=0, Index=Y_index, Domain=Any, Default=None, Mutable=False\n",
      "        Not constructed\n",
      "    d : Size=0, Index=d_index, Domain=Any, Default=None, Mutable=False\n",
      "        Not constructed\n",
      "    phi : Size=0, Index=phi_index, Domain=Any, Default=None, Mutable=False\n",
      "        Not constructed\n",
      "\n",
      "6 Var Declarations\n",
      "    Flow : Size=0, Index=Flow_index\n",
      "        Not constructed\n",
      "    Service_Flow : Size=0, Index=Service_Flow_index\n",
      "        Not constructed\n",
      "    Specific_Material_Transport_Flow : Size=0, Index=Specific_Material_Transport_Flow_index\n",
      "        Not constructed\n",
      "    Specific_Transport_Flow : Size=0, Index=Specific_Transport_Flow_index\n",
      "        Not constructed\n",
      "    Storage : Size=0, Index=Storage_index\n",
      "        Not constructed\n",
      "    Transport_Flow : Size=0, Index=Transport_Flow_index\n",
      "        Not constructed\n",
      "\n",
      "2 Objective Declarations\n",
      "    obj1 : Size=0, Index=KPI, Active=True\n",
      "        Not constructed\n",
      "    obj2 : Size=0, Index=None, Active=True\n",
      "        Not constructed\n",
      "\n",
      "4 Constraint Declarations\n",
      "    material_flow_constraint : Size=0, Index=material_flow_constraint_index, Active=True\n",
      "        Not constructed\n",
      "    specific_transport_constraint : Size=0, Index=specific_transport_constraint_index, Active=True\n",
      "        Not constructed\n",
      "    total_demand_constraint : Size=0, Index=total_demand_constraint_index, Active=True\n",
      "        Not constructed\n",
      "    transport_constraint : Size=0, Index=transport_constraint_index, Active=True\n",
      "        Not constructed\n",
      "\n",
      "54 Declarations: F_m F_s F_t F_index_0 F P T K D KPI AF E AP AKPI C_index C Demand_index Demand Total_Demand_index Total_Demand L_index L X_index X Y_index Y d_index d phi_index phi EI_index EI Flow_index Flow Storage_index Storage Service_Flow_index Service_Flow Specific_Material_Transport_Flow_index Specific_Material_Transport_Flow Transport_Flow_index Transport_Flow Specific_Transport_Flow_index Specific_Transport_Flow obj1 obj2 total_demand_constraint_index total_demand_constraint material_flow_constraint_index material_flow_constraint transport_constraint_index transport_constraint specific_transport_constraint_index specific_transport_constraint\n"
     ]
    }
   ],
   "source": [
    "import mola.specification as ms\n",
    "spec = ms.ScheduleSpecification()\n",
    "spec.abstract_model.pprint()"
   ]
  },
  {
   "cell_type": "markdown",
   "metadata": {},
   "source": [
    "The class contains a method to generate lookup tables."
   ]
  },
  {
   "cell_type": "code",
   "execution_count": 14,
   "metadata": {},
   "outputs": [
    {
     "name": "stdout",
     "output_type": "stream",
     "text": [
      "SELECT \"REF_ID\",\"NAME\" FROM \"TBL_FLOWS\"\n",
      "SELECT \"REF_ID\",\"NAME\" FROM \"TBL_PROCESSES\"\n",
      "SELECT \"REF_ID\",\"NAME\" FROM \"TBL_CATEGORIES\"\n",
      "SELECT \"REF_ID\",\"NAME\" FROM \"TBL_FLOWS\" WHERE \"FLOW_TYPE\"='PRODUCT_FLOW'\n"
     ]
    }
   ],
   "source": [
    "import mola.dataview as dv\n",
    "import mola.dataimport as di\n",
    "conn = di.get_sqlite_connection()\n",
    "lookup = dv.get_lookup_tables(conn)"
   ]
  },
  {
   "cell_type": "markdown",
   "metadata": {},
   "source": [
    "We can use the lookups to build a user interface. For example, we can populate a widget with all material flows and then ask a user to select a subset."
   ]
  },
  {
   "cell_type": "code",
   "execution_count": 15,
   "metadata": {},
   "outputs": [
    {
     "ename": "SyntaxError",
     "evalue": "invalid syntax (<ipython-input-15-4f2ab55b21f8>, line 4)",
     "output_type": "error",
     "traceback": [
      "\u001b[0;36m  File \u001b[0;32m\"<ipython-input-15-4f2ab55b21f8>\"\u001b[0;36m, line \u001b[0;32m4\u001b[0m\n\u001b[0;31m    in_qg =\u001b[0m\n\u001b[0m            ^\u001b[0m\n\u001b[0;31mSyntaxError\u001b[0m\u001b[0;31m:\u001b[0m invalid syntax\n"
     ]
    }
   ],
   "source": [
    "import pandas as pd, IPython.display as d, ipywidgets as widgets\n",
    "\n",
    "in_df = lookup['product_flows']\n",
    "in_qg = \n",
    "out_df = pd.DataFrame()\n",
    "out_qg =\n",
    "button1 = widgets.Button(description='Add to set')\n",
    "button2 = widgets.Button(description='Remove from set')\n",
    "\n",
    "def on_button_clicked1(b):\n",
    "    dfr = out_qg.df.append(in_qg.get_selected_df())\n",
    "    out_qg.df = dfr\n",
    "button1.on_click(on_button_clicked1)\n",
    "def on_button_clicked2(b):\n",
    "    dfr = out_qg.df.drop(out_qg.get_selected_rows())\n",
    "    out_qg.df = dfr\n",
    "button2.on_click(on_button_clicked2)\n",
    "\n",
    "d.display(button1)\n",
    "d.display(in_qg)\n",
    "d.display(button2)\n",
    "d.display(out_qg)"
   ]
  },
  {
   "cell_type": "code",
   "execution_count": null,
   "metadata": {},
   "outputs": [],
   "source": [
    "if len(out_qg.df) > 0:\n",
    "    F_m = out_qg.df.index.to_list()\n",
    "else:\n",
    "    F_m = ['f1', 'f2']"
   ]
  }
 ],
 "metadata": {
  "kernelspec": {
   "display_name": "Python 3",
   "language": "python",
   "name": "python3"
  },
  "language_info": {
   "codemirror_mode": {
    "name": "ipython",
    "version": 3
   },
   "file_extension": ".py",
   "mimetype": "text/x-python",
   "name": "python",
   "nbconvert_exporter": "python",
   "pygments_lexer": "ipython3",
   "version": "3.7.3"
  },
  "toc": {
   "base_numbering": 1,
   "nav_menu": {},
   "number_sections": true,
   "sideBar": true,
   "skip_h1_title": false,
   "title_cell": "Table of Contents",
   "title_sidebar": "Contents",
   "toc_cell": false,
   "toc_position": {
    "height": "calc(100% - 180px)",
    "left": "10px",
    "top": "150px",
    "width": "284.444px"
   },
   "toc_section_display": true,
   "toc_window_display": true
  },
  "varInspector": {
   "cols": {
    "lenName": 16,
    "lenType": 16,
    "lenVar": 40
   },
   "kernels_config": {
    "python": {
     "delete_cmd_postfix": "",
     "delete_cmd_prefix": "del ",
     "library": "var_list.py",
     "varRefreshCmd": "print(var_dic_list())"
    },
    "r": {
     "delete_cmd_postfix": ") ",
     "delete_cmd_prefix": "rm(",
     "library": "var_list.r",
     "varRefreshCmd": "cat(var_dic_list()) "
    }
   },
   "types_to_exclude": [
    "module",
    "function",
    "builtin_function_or_method",
    "instance",
    "_Feature"
   ],
   "window_display": false
  }
 },
 "nbformat": 4,
 "nbformat_minor": 4
}
