{
 "cells": [
  {
   "cell_type": "markdown",
   "metadata": {},
   "source": [
    "# Concrete translation of specification"
   ]
  },
  {
   "cell_type": "markdown",
   "metadata": {},
   "source": [
    "These are notes on how we will translate the general specification of the optimisation problem into an optimisation problem that our optimiser (Pyomo) can solve using its existing functionality."
   ]
  },
  {
   "cell_type": "markdown",
   "metadata": {},
   "source": [
    "# Specification"
   ]
  },
  {
   "cell_type": "markdown",
   "metadata": {},
   "source": [
    "This is the current problem specification in abstract terms."
   ]
  },
  {
   "cell_type": "markdown",
   "metadata": {},
   "source": [
    "## Indices and sets\n",
    "\n",
    "The index is a label that identifies an element in a set. For simplicity, we shall use the index to refer to the element that it indexes."
   ]
  },
  {
   "cell_type": "markdown",
   "metadata": {},
   "source": [
    "* $af \\in AF$ is an index for an openLCA product flow imported from an openLCA database. This includes new flows that are defined by the user for the optimisation problem.\n",
    "* $f\\in F$ is an index for a user-defined flow.\n",
    "* $f_m \\in F_m \\subset F$ is an index for a user-defined material flow (e.g. energy, material) to be considered in the optimisation problem.\n",
    "* $f_s \\in F_s \\subset F$ is an index for an user-defined service flow (e.g. energy storage, transport) to be considered in the optimisation problem.\n",
    "* $f_{t} \\in F_{t} \\subset F_s$ is an index for transport service flow i.e. transport mode \\{road, train freight, air etc\\}.\n",
    "* $e \\in E$ is an elementary flow index for elementary flows imported from an openLCA database. A system process in the openLCA database is by definition broken down into a set of these elementary flows.\n",
    "* $ap \\in AP$ is an index for a process in the set of all processes contained in an openLCA database. This include user-defined processes specifically designed for the optimisation tool.\n",
    "* $p\\in P\\subset AP$ is a process index for processes that make up the optimisation problem.\n",
    "* $t \\in T$ is the time interval by time discretization $\\{t_1, t_2, t_3, t_4 \\ldots t_n\\}$.\n",
    "* $k \\in K$ a task index $k$ in the set of all task indices $K$.\n",
    "* $d \\in D$ an index for a demand $d$ in the set of demand indices $D$. \n",
    "* $akpi \\in AKPI$ is an indexes for all key performance indicators $KPI$ in an openLCA database. This includes key performance indicators defined by the user of the optimisation tool that must be added to the openLCA database.\n",
    "* $kpi \\in KPI\\subset AKPI$ is an index that identifies those performance indicators that the user wish to use in the optimisation problem."
   ]
  },
  {
   "cell_type": "markdown",
   "metadata": {},
   "source": [
    "## Parameters"
   ]
  },
  {
   "cell_type": "markdown",
   "metadata": {},
   "source": [
    "### User-defined"
   ]
  },
  {
   "cell_type": "markdown",
   "metadata": {},
   "source": [
    "* $C_{f_m, k, d, t}$ Conversion factor for material flows to generate per unit of demand product/services $d$ at task $s$, time $t$. If not defined default value is 0.\n",
    "\n",
    "* $D_{d,t}$ Demand for final product/service $d$ at time t; If not defined, default value is 0.\n",
    "\n",
    "* $D_d^{total}$ Total demand for final product/service over the whole optimisation time period.\n",
    "\n",
    "* $L_{f_m, f_s}$ Binary factor to link services flows to material flows e.g. energy storage, material storage, transport; If not defined, default value is 0.\n",
    "\n",
    "* $d_{f_p, f_t}$ Travel distance of material $f_p$ by travel mode $f_t$.\n",
    "\n",
    "* $\\phi_{f, t}$ Cost co-efficient for material and service flows at time t\n"
   ]
  },
  {
   "cell_type": "markdown",
   "metadata": {},
   "source": [
    "### Imported from openLCA and model initialisation\n",
    "\n",
    "* $Ef_{akpi, e}$ Environmental impact characterisation factor for elementary flow $e$ and performance indicator $akpi$.\n",
    "\n",
    "* $EF_{e, f, p}$ Elementary flow $e$ to link with product flow $f$ through process $p$.\n",
    "\n",
    "* $EI_{akpi, f, ap}$ Calculated environmental impact for product flow $𝑓$ through process $ap$ and performance indicator $kpi$."
   ]
  },
  {
   "cell_type": "markdown",
   "metadata": {},
   "source": [
    "### Continuous variables"
   ]
  },
  {
   "cell_type": "markdown",
   "metadata": {},
   "source": [
    "* $Obj_{kpi}$ Objective functions for the user-defined KPIs.\n",
    "* $Flow_{f_m, k, t}$ is the flow of material input $f_m$ to task $k$ at time $t$.\n",
    "* $S_{f_s, k, t}$ is the temporary storage of service input flow $f_s$ at task $k$ and time $t$. **Perhaps call it $Service$ like $Flow$.**"
   ]
  },
  {
   "cell_type": "markdown",
   "metadata": {},
   "source": [
    "## Objective function"
   ]
  },
  {
   "cell_type": "markdown",
   "metadata": {},
   "source": [
    "Our objective is to minimise the environmental impact of elementary flows and the economic cost derived from a network of processes.\n",
    "\n",
    "Consequently, the objective is for a fixed impact category $kpi$"
   ]
  },
  {
   "cell_type": "markdown",
   "metadata": {},
   "source": [
    "$$\n",
    "\\min_{Flow_{f_m, k, t}, S_{f_s, k, t}} Obj_{kpi}\n",
    "$$\n",
    "\n",
    "and\n",
    "\n",
    "$$\n",
    "\\min_{Flow_{f_m, k, t}, S_{f_s, k, t}} Obj_{cost}\n",
    "$$"
   ]
  },
  {
   "cell_type": "markdown",
   "metadata": {},
   "source": [
    "The environmental impact is the sum of the environmental impacts arising from material and service flows:"
   ]
  },
  {
   "cell_type": "markdown",
   "metadata": {},
   "source": [
    "$$\n",
    "Obj_{kpi} = \\sum_{f_m, k, t} Flow_{f_m, k, t}EI_{kpi, f_m} + \\sum_{f_s, k ,t} S_{f_s, k, t}EI_{kpi, f_s}.\n",
    "$$"
   ]
  },
  {
   "cell_type": "markdown",
   "metadata": {},
   "source": [
    "The economic impact is the sum of the economic impacts arising from material and service flows:"
   ]
  },
  {
   "cell_type": "markdown",
   "metadata": {},
   "source": [
    "$$\n",
    "Obj_{cost} = \\sum_{f_m, k, t} Flow_{f_m, k, t}\\phi_{f_m, t} + \\sum_{f_s,k,t} S_{f_s, k,t}\\phi_{f_s, t}.\n",
    "$$"
   ]
  },
  {
   "cell_type": "markdown",
   "metadata": {},
   "source": [
    "Here the environmental impact of flow $f\\in F$ measured by impact factor $kpi$ is "
   ]
  },
  {
   "cell_type": "markdown",
   "metadata": {},
   "source": [
    "$$\n",
    "EI_{kpi, f} = \\sum_e Ef_{kpi, e}EF_{e, f, p}\n",
    "$$\n",
    "\n",
    "where the flow $f$ is the product flow for the process $p\\in P$. Here $Ef_{kpi, e}$ denotes the impact factor indexed by impact category $kpi$ and environmental flow $e$ and $EF_{e, f, p}$ is the amount of elementary flow generated by the product flow $f$ for $p$. If $f\\in F_m\\cup F_s$ then the breakdown of flow into elementary flow amounts $EF_{e, f, p}$ must be calculated in openLCA by constructing a *system process*, which is then imported into the optimisation tool. Otherwise the flow is a product flow from an existing system process in openLCA so there already is a breakdown.\n",
    "\n",
    "The quantity of service flow $S_{f_s,k,t}$ is assumed to be a weighted sum of the material flows at task $k$ and time $t$ i.e.\n",
    "\n",
    "$$\n",
    "S_{f_s,k,t} = \\sum_{f_m} L_{f_m, f_s}Flow_{f_m, k, t}d_{f_m,f_{s\\in F_t}},\n",
    "$$\n",
    "\n",
    "where $L_{f_m, f_s}$ is a parameter than links the service flow $f_s$ to the material flow $f_m$ in task $k$ at time $t$. In the case of transport of $f_m$ is enabled then $L_{f_m,f_s}=1$ and the variable $S_{f_s,k,t}$ is also\n",
    "dependent on the transport distance for shipping $f_m$ via transport mode $f_t$."
   ]
  },
  {
   "cell_type": "markdown",
   "metadata": {},
   "source": [
    "## Constraints"
   ]
  },
  {
   "cell_type": "markdown",
   "metadata": {},
   "source": [
    "The conversion of temporary storage to flow and demand requires\n",
    "\n",
    "$$\n",
    "Flow_{f_m, k, t} \\geq \\sum_d D_{d,t} C_{f_m, k, d, t} + S_{f_m, k, t} - S_{f_m, k, t-1}\n",
    "$$\n",
    "\n",
    "The total material flow minus final storage must satisfy the total demand over the time horizon so\n",
    "\n",
    "$$\n",
    "\\sum_t Flow_{f_m,k,t}  \\geq \\sum_{d,t} D_d^{total} C_{f_m, k, t} + S_{f_m,k,t_n}\n",
    "$$\n",
    "\n",
    "Finally, we require positive flows and storage\n",
    "\n",
    "$$\n",
    "F_{f_m, k, t} \\geq 0\n",
    "$$\n",
    "\n",
    "$$\n",
    "S_{f_s, k, t} \\geq 0\n",
    "$$"
   ]
  },
  {
   "cell_type": "markdown",
   "metadata": {},
   "source": [
    "## Network of processes and flows\n",
    "\n",
    "The aggregate flow quantity $EF_{e, f, p}$ is determined by its network of contributing flows. We can identify the set of flows linked to a process indexed by $p\\in P$ using the flow index set\n",
    "\n",
    "$$\n",
    "Z_p = \\{f\\in F\\ s.t.\\ \\sum_e EF_{e, f, p} > 0\\}.\n",
    "$$\n",
    "\n",
    "However, in practice it is impractical for a user to build a network by constructing these sets because there are thousands of elementary flows.\n"
   ]
  },
  {
   "cell_type": "markdown",
   "metadata": {},
   "source": [
    "# Problem definition"
   ]
  }
 ],
 "metadata": {
  "kernelspec": {
   "display_name": "Python 3",
   "language": "python",
   "name": "python3"
  },
  "language_info": {
   "codemirror_mode": {
    "name": "ipython",
    "version": 3
   },
   "file_extension": ".py",
   "mimetype": "text/x-python",
   "name": "python",
   "nbconvert_exporter": "python",
   "pygments_lexer": "ipython3",
   "version": "3.7.3"
  },
  "toc": {
   "base_numbering": 1,
   "nav_menu": {},
   "number_sections": true,
   "sideBar": true,
   "skip_h1_title": false,
   "title_cell": "Table of Contents",
   "title_sidebar": "Contents",
   "toc_cell": false,
   "toc_position": {},
   "toc_section_display": true,
   "toc_window_display": true
  }
 },
 "nbformat": 4,
 "nbformat_minor": 4
}
