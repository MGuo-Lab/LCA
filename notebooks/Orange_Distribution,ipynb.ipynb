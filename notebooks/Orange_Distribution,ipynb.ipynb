{
 "cells": [
  {
   "cell_type": "markdown",
   "metadata": {},
   "source": [
    "# Orange Distribution in Spain\n",
    "\n",
    "Suppose the objective is to minimise the environmental impact of transport from orange growing plants in Spain to customers.\n",
    "\n",
    "There are a number of plants indexed by $i$ each producing oranges using openLCA material process $p_m$ with material flow $f_m$. There is one transport process using openLCA process $p_t$ with transport flow $f_t$. Suppose each customer is indexed by $j$.\n",
    "\n",
    "For given $kpi$, the objective is to minimise\n",
    "\n",
    "$$\n",
    "Obj_{kpi} = \\sum_{i} Flow_{f_m, p_m, i}EI_{kpi, f_m, p_m} + \n",
    "\\sum_{i, j}t_{f_t, p_t, i, j}EI_{kpi, f_t, p_t}.\n",
    "$$\n",
    "\n",
    "where the transport flow variables $t_{f_t, p_t, i, j}$ satisfy\n",
    "\n",
    "$$\n",
    "t_{f_t, p_t, i, j} = J_{f_m, p_m, f_t, p_t, i, j} U_{f_m, f_t} f_{f_m, p_m, f_t, p_t, i, j} d_{p_m, f_m, i, j}\n",
    "$$\n",
    "\n",
    "and\n",
    "\n",
    "$$\n",
    "Flow_{f_m,p_m,i}=\\sum_{i, j} J_{f_m, p_m, f_t, p_t, j} f_{f_m, p_m, f_t, p_t ,i, j},\n",
    "$$\n",
    "\n",
    "where $f_{f_m, p_m, f_t, p_t, i, j}$ is the flow of oranges between plant $i$ and customer $j$\n",
    "\n",
    "Here $J_{f_m, p_m, f_t, p_t, i, j}$ links plant $i$ to $j$, $U_{f_m, f_t}$ converts units of material flow times distance to openLCA transport flow units and $d_{p_m, f_m, i, j}$ is the distance between plant $i$ and customer $j$.\n",
    "\n",
    "We suppose the given supply of oranges $S_i$ at each plant $i$ satisfies\n",
    "\n",
    "$$\n",
    "\\sum_j f_{f_m, p_m, f_t, p_t, i, j} <= S_i\n",
    "$$\n",
    "\n",
    "and the demand for oranges $D_j$ from each customer $j$ satisfies\n",
    "\n",
    "$$\n",
    "\\sum_i f_{f_m, p_m, f_t, p_t, i, j} >= D_j\n",
    "$$"
   ]
  }
 ],
 "metadata": {
  "kernelspec": {
   "display_name": "Python 3",
   "language": "python",
   "name": "python3"
  },
  "language_info": {
   "codemirror_mode": {
    "name": "ipython",
    "version": 3
   },
   "file_extension": ".py",
   "mimetype": "text/x-python",
   "name": "python",
   "nbconvert_exporter": "python",
   "pygments_lexer": "ipython3",
   "version": "3.7.9"
  },
  "toc": {
   "base_numbering": 1,
   "nav_menu": {},
   "number_sections": true,
   "sideBar": true,
   "skip_h1_title": false,
   "title_cell": "Table of Contents",
   "title_sidebar": "Contents",
   "toc_cell": false,
   "toc_position": {},
   "toc_section_display": true,
   "toc_window_display": false
  }
 },
 "nbformat": 4,
 "nbformat_minor": 4
}
