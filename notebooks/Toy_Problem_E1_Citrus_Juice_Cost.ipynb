{
 "cells": [
  {
   "cell_type": "markdown",
   "metadata": {},
   "source": [
    "# Juice Toy Problem E\n",
    "\n",
    "This problem illustrates the use of pricing data in the openLCA database.\n",
    "\n",
    "## Problem Statement\n",
    " \n",
    "A citrus fruit producer wishes to choose the optimal blend of fruit juice over a 2 day period that minimises cost. The fruit supply options are globally sources lemon, mandarins or oranges. The environmental impact production and the transport of fruit is the same for each fruit.\n",
    "\n",
    "Over the time horizon of 2 days, the producer is required to deliver 2 kg of blended juice. The cost of producing 1kg of fruit varies  and is shown in the table below.\n",
    "\n",
    "| Fruit | Day 1 | Day 2 |\n",
    "| --- | --- | --- |\n",
    "| Lemon | £1 | £4 |\n",
    "| Orange | £2 | £3 |\n",
    "| Mandarin | £3 | £2 |\n",
    "\n",
    "The cost of storing 1kg of fruit at the blending plant is £1 per day."
   ]
  },
  {
   "cell_type": "markdown",
   "metadata": {},
   "source": [
    "## Specification\n",
    "\n",
    "In this problem, we minimise the cost of blended juice production over a two day period $t\\in T=\\{1,2\\}$. We ignore the environmental impact of production and transport.\n",
    "\n",
    "The objective is\n",
    "\n",
    "$$\n",
    "\\min\\sum_{f_m, t} Flow_{f_{m}, t}\\phi_{f_m, t} + \\sum_{f_s, t} S_{f_s, t}\\phi_{f_s, t}.\n",
    "$$\n",
    "\n",
    "where the cost of producing 1kg of fruit in a day is given by $\\phi_{f_m, t}$ in the table above and the cost of storing each fruit is $\\phi_{f_s, t}=1$.\n",
    "\n",
    "There is no initial stored juice.\n",
    "\n",
    "There total demand is $D^{total}=2kg$ of blended fruit juice so\n",
    "\n",
    "$$\n",
    "\\sum_{f_m, t} Flow_{f_m, t} \\geq D^{total} = 2,\n",
    "$$\n",
    "\n",
    "and\n",
    "\n",
    "$$\n",
    "S_{f_{s_i}, 2} = Flow_{f_{m_i}, 1}\n",
    "$$\n",
    "\n",
    "We also require $Flow_{f_m, t} \\geq 0$ and $S_{f_s, t}\\geq 0$."
   ]
  },
  {
   "cell_type": "markdown",
   "metadata": {},
   "source": [
    "## Pyomo implementation"
   ]
  },
  {
   "cell_type": "code",
   "execution_count": 1,
   "metadata": {},
   "outputs": [],
   "source": [
    "from pyomo.environ import * \n",
    "import pandas as pd"
   ]
  },
  {
   "cell_type": "markdown",
   "metadata": {},
   "source": [
    "### Create a concrete model"
   ]
  },
  {
   "cell_type": "code",
   "execution_count": 2,
   "metadata": {},
   "outputs": [],
   "source": [
    "model_C = ConcreteModel()"
   ]
  },
  {
   "cell_type": "markdown",
   "metadata": {},
   "source": [
    "### Define sets. Will come from mola, but currently hardcoded.\n",
    "\n",
    "Flows have units kg per day. Time has units of day."
   ]
  },
  {
   "cell_type": "code",
   "execution_count": 3,
   "metadata": {},
   "outputs": [],
   "source": [
    "model_C.t = Set(initialize=[1,2], doc='Time period')\n",
    "model_C.AF = Set(initialize=['Lemon Juice', 'Orange Juice', 'Mandarin Juice'], doc='All flows')\n",
    "model_C.Fm = Set(initialize=['Lemon Juice', 'Orange Juice', 'Mandarin Juice'], doc='Material flows to optimise')\n",
    "model_C.Fs = Set(initialize=['Lemon Juice Storage', 'Orange Juice Storage', 'Mandarin Juice Storage'], doc='Service flows to optimise')"
   ]
  },
  {
   "cell_type": "markdown",
   "metadata": {},
   "source": [
    "### Define parameters."
   ]
  },
  {
   "cell_type": "markdown",
   "metadata": {},
   "source": [
    "#### Get cost parameters. Will come from mola, but currently hardcoded."
   ]
  },
  {
   "cell_type": "code",
   "execution_count": 4,
   "metadata": {},
   "outputs": [
    {
     "name": "stdout",
     "output_type": "stream",
     "text": [
      "phimt : Cost of material flow fm at time t\n",
      "    Size=6, Index=phimt_index, Domain=Any, Default=None, Mutable=False\n",
      "    Key                   : Value\n",
      "       ('Lemon Juice', 1) :     1\n",
      "       ('Lemon Juice', 2) :     4\n",
      "    ('Mandarin Juice', 1) :     3\n",
      "    ('Mandarin Juice', 2) :     2\n",
      "      ('Orange Juice', 1) :     2\n",
      "      ('Orange Juice', 2) :     3\n"
     ]
    }
   ],
   "source": [
    "m = {}\n",
    "for i, f in enumerate(model_C.Fm):\n",
    "    m[f, 1] = i + 1\n",
    "    m[f, 2] = 4 - i\n",
    "model_C.phimt = Param(model_C.Fm, model_C.t, initialize=m, within=Any, doc='Cost of material flow fm at time t')\n",
    "model_C.phist = Param(model_C.Fs, model_C.t, initialize=1, within=Any, doc='Cost of material flow fm at time t')\n",
    "model_C.phimt.pprint()"
   ]
  },
  {
   "cell_type": "markdown",
   "metadata": {},
   "source": [
    "### Define continuous decision variables"
   ]
  },
  {
   "cell_type": "code",
   "execution_count": 5,
   "metadata": {},
   "outputs": [
    {
     "name": "stdout",
     "output_type": "stream",
     "text": [
      "y : Decision variables\n",
      "    Size=12, Index=y_index\n",
      "    Key                           : Lower : Value : Upper : Fixed : Stale : Domain\n",
      "               ('Lemon Juice', 1) :     0 :  None :  None : False :  True : NonNegativeReals\n",
      "               ('Lemon Juice', 2) :     0 :  None :  None : False :  True : NonNegativeReals\n",
      "       ('Lemon Juice Storage', 1) :     0 :  None :  None : False :  True : NonNegativeReals\n",
      "       ('Lemon Juice Storage', 2) :     0 :  None :  None : False :  True : NonNegativeReals\n",
      "            ('Mandarin Juice', 1) :     0 :  None :  None : False :  True : NonNegativeReals\n",
      "            ('Mandarin Juice', 2) :     0 :  None :  None : False :  True : NonNegativeReals\n",
      "    ('Mandarin Juice Storage', 1) :     0 :  None :  None : False :  True : NonNegativeReals\n",
      "    ('Mandarin Juice Storage', 2) :     0 :  None :  None : False :  True : NonNegativeReals\n",
      "              ('Orange Juice', 1) :     0 :  None :  None : False :  True : NonNegativeReals\n",
      "              ('Orange Juice', 2) :     0 :  None :  None : False :  True : NonNegativeReals\n",
      "      ('Orange Juice Storage', 1) :     0 :  None :  None : False :  True : NonNegativeReals\n",
      "      ('Orange Juice Storage', 2) :     0 :  None :  None : False :  True : NonNegativeReals\n"
     ]
    }
   ],
   "source": [
    "model_C.y = Var(model_C.Fm | model_C.Fs, model_C.t, within=NonNegativeReals, doc='Decision variables')\n",
    "model_C.y.pprint()"
   ]
  },
  {
   "cell_type": "markdown",
   "metadata": {},
   "source": [
    "### Define constraints"
   ]
  },
  {
   "cell_type": "code",
   "execution_count": 6,
   "metadata": {},
   "outputs": [
    {
     "name": "stdout",
     "output_type": "stream",
     "text": [
      "storage_constraint_list : Size=3, Index=storage_constraint_list_index, Active=True\n",
      "    Key : Lower : Body                                              : Upper : Active\n",
      "      1 :   0.0 :       y[Lemon Juice,1] - y[Lemon Juice Storage,2] :   0.0 :   True\n",
      "      2 :   0.0 :     y[Orange Juice,1] - y[Orange Juice Storage,2] :   0.0 :   True\n",
      "      3 :   0.0 : y[Mandarin Juice,1] - y[Mandarin Juice Storage,2] :   0.0 :   True\n"
     ]
    }
   ],
   "source": [
    "def demand_constraint(model_C):\n",
    "    s = sum(model_C.y[fm,t] for fm in model_C.Fm for t in model_C.t)\n",
    "    return s >= 2\n",
    "model_C.demand_constraint = Constraint(rule=demand_constraint)\n",
    "\n",
    "model_C.storage_constraint_list = ConstraintList()\n",
    "model_C.storage_constraint_list.add(model_C.y['Lemon Juice',1] == model_C.y['Lemon Juice Storage',2])\n",
    "model_C.storage_constraint_list.add(model_C.y['Orange Juice',1] == model_C.y['Orange Juice Storage',2])\n",
    "model_C.storage_constraint_list.add(model_C.y['Mandarin Juice',1] == model_C.y['Mandarin Juice Storage',2])\n",
    "model_C.storage_constraint_list.pprint()"
   ]
  },
  {
   "cell_type": "markdown",
   "metadata": {},
   "source": [
    "### Define objective"
   ]
  },
  {
   "cell_type": "code",
   "execution_count": 7,
   "metadata": {},
   "outputs": [
    {
     "name": "stdout",
     "output_type": "stream",
     "text": [
      "obj : Size=1, Index=None, Active=True\n",
      "    Key  : Active : Sense    : Expression\n",
      "    None :   True : minimize : y[Lemon Juice,1] + 4*y[Lemon Juice,2] + 2*y[Orange Juice,1] + 3*y[Orange Juice,2] + 3*y[Mandarin Juice,1] + 2*y[Mandarin Juice,2] + y[Lemon Juice Storage,1] + y[Lemon Juice Storage,2] + y[Orange Juice Storage,1] + y[Orange Juice Storage,2] + y[Mandarin Juice Storage,1] + y[Mandarin Juice Storage,2]\n"
     ]
    }
   ],
   "source": [
    "def objective_rule(model_C):\n",
    "    obj_material = sum(model_C.y[f,t]*model_C.phimt[f,t] for f in model_C.Fm for t in model_C.t)\n",
    "    obj_service = sum(model_C.y[f,t]*model_C.phist[f,t] for f in model_C.Fs for t in model_C.t)\n",
    "    return obj_material+obj_service\n",
    "model_C.obj = Objective(rule=objective_rule, sense=minimize)\n",
    "model_C.obj.pprint()"
   ]
  },
  {
   "cell_type": "markdown",
   "metadata": {},
   "source": [
    "### Apply solver"
   ]
  },
  {
   "cell_type": "code",
   "execution_count": 8,
   "metadata": {},
   "outputs": [
    {
     "name": "stdout",
     "output_type": "stream",
     "text": [
      "# ==========================================================\n",
      "# = Solver Results                                         =\n",
      "# ==========================================================\n",
      "# ----------------------------------------------------------\n",
      "#   Problem Information\n",
      "# ----------------------------------------------------------\n",
      "Problem: \n",
      "- Name: unknown\n",
      "  Lower bound: 4.0\n",
      "  Upper bound: 4.0\n",
      "  Number of objectives: 1\n",
      "  Number of constraints: 5\n",
      "  Number of variables: 13\n",
      "  Number of nonzeros: 13\n",
      "  Sense: minimize\n",
      "# ----------------------------------------------------------\n",
      "#   Solver Information\n",
      "# ----------------------------------------------------------\n",
      "Solver: \n",
      "- Status: ok\n",
      "  Termination condition: optimal\n",
      "  Statistics: \n",
      "    Branch and bound: \n",
      "      Number of bounded subproblems: 0\n",
      "      Number of created subproblems: 0\n",
      "  Error rc: 0\n",
      "  Time: 0.020465850830078125\n",
      "# ----------------------------------------------------------\n",
      "#   Solution Information\n",
      "# ----------------------------------------------------------\n",
      "Solution: \n",
      "- number of solutions: 0\n",
      "  number of solutions displayed: 0\n"
     ]
    }
   ],
   "source": [
    "opt = SolverFactory(\"glpk\")\n",
    "results = opt.solve(model_C)\n",
    "results.write()"
   ]
  },
  {
   "cell_type": "markdown",
   "metadata": {},
   "source": [
    "### Process results"
   ]
  },
  {
   "cell_type": "code",
   "execution_count": 9,
   "metadata": {},
   "outputs": [
    {
     "name": "stdout",
     "output_type": "stream",
     "text": [
      "y : Decision variables\n",
      "    Size=12, Index=y_index\n",
      "    Key                           : Lower : Value : Upper : Fixed : Stale : Domain\n",
      "               ('Lemon Juice', 1) :     0 :   0.0 :  None : False : False : NonNegativeReals\n",
      "               ('Lemon Juice', 2) :     0 :   0.0 :  None : False : False : NonNegativeReals\n",
      "       ('Lemon Juice Storage', 1) :     0 :   0.0 :  None : False : False : NonNegativeReals\n",
      "       ('Lemon Juice Storage', 2) :     0 :  -0.0 :  None : False : False : NonNegativeReals\n",
      "            ('Mandarin Juice', 1) :     0 :   0.0 :  None : False : False : NonNegativeReals\n",
      "            ('Mandarin Juice', 2) :     0 :   2.0 :  None : False : False : NonNegativeReals\n",
      "    ('Mandarin Juice Storage', 1) :     0 :   0.0 :  None : False : False : NonNegativeReals\n",
      "    ('Mandarin Juice Storage', 2) :     0 :  -0.0 :  None : False : False : NonNegativeReals\n",
      "              ('Orange Juice', 1) :     0 :   0.0 :  None : False : False : NonNegativeReals\n",
      "              ('Orange Juice', 2) :     0 :   0.0 :  None : False : False : NonNegativeReals\n",
      "      ('Orange Juice Storage', 1) :     0 :   0.0 :  None : False : False : NonNegativeReals\n",
      "      ('Orange Juice Storage', 2) :     0 :  -0.0 :  None : False : False : NonNegativeReals\n"
     ]
    }
   ],
   "source": [
    "model_C.y.display()"
   ]
  },
  {
   "cell_type": "code",
   "execution_count": 10,
   "metadata": {},
   "outputs": [
    {
     "name": "stdout",
     "output_type": "stream",
     "text": [
      "obj : Size=1, Index=None, Active=True\n",
      "    Key  : Active : Sense    : Expression\n",
      "    None :   True : minimize : y[Lemon Juice,1] + 4*y[Lemon Juice,2] + 2*y[Orange Juice,1] + 3*y[Orange Juice,2] + 3*y[Mandarin Juice,1] + 2*y[Mandarin Juice,2] + y[Lemon Juice Storage,1] + y[Lemon Juice Storage,2] + y[Orange Juice Storage,1] + y[Orange Juice Storage,2] + y[Mandarin Juice Storage,1] + y[Mandarin Juice Storage,2]\n",
      "WARNING: DEPRECATED: The .value property getter on SimpleObjective is\n",
      "    deprecated. Use the .expr property getter instead\n"
     ]
    },
    {
     "data": {
      "text/plain": [
       "4.0"
      ]
     },
     "execution_count": 10,
     "metadata": {},
     "output_type": "execute_result"
    }
   ],
   "source": [
    "model_C.obj.pprint()\n",
    "model_C.obj.value()"
   ]
  },
  {
   "cell_type": "markdown",
   "metadata": {},
   "source": [
    "# Using openLCA data"
   ]
  },
  {
   "cell_type": "code",
   "execution_count": 11,
   "metadata": {},
   "outputs": [],
   "source": [
    "import qgrid\n",
    "#import importlib\n",
    "import mola.dataview as dv\n",
    "import mola.dataimport as di\n",
    "from importlib import reload\n",
    "reload(dv)\n",
    "\n",
    "dbconn = di.get_sqlite_connection()"
   ]
  },
  {
   "cell_type": "code",
   "execution_count": 12,
   "metadata": {},
   "outputs": [],
   "source": [
    "#dfr = dv.get_table(dbconn, 'TBL_EXCHANGES')\n",
    "#dfr"
   ]
  }
 ],
 "metadata": {
  "kernelspec": {
   "display_name": "Python 3",
   "language": "python",
   "name": "python3"
  },
  "language_info": {
   "codemirror_mode": {
    "name": "ipython",
    "version": 3
   },
   "file_extension": ".py",
   "mimetype": "text/x-python",
   "name": "python",
   "nbconvert_exporter": "python",
   "pygments_lexer": "ipython3",
   "version": "3.7.9"
  },
  "toc": {
   "base_numbering": 1,
   "nav_menu": {},
   "number_sections": true,
   "sideBar": true,
   "skip_h1_title": false,
   "title_cell": "Table of Contents",
   "title_sidebar": "Contents",
   "toc_cell": false,
   "toc_position": {
    "height": "calc(100% - 180px)",
    "left": "10px",
    "top": "150px",
    "width": "284.444px"
   },
   "toc_section_display": true,
   "toc_window_display": true
  },
  "varInspector": {
   "cols": {
    "lenName": 16,
    "lenType": 16,
    "lenVar": 40
   },
   "kernels_config": {
    "python": {
     "delete_cmd_postfix": "",
     "delete_cmd_prefix": "del ",
     "library": "var_list.py",
     "varRefreshCmd": "print(var_dic_list())"
    },
    "r": {
     "delete_cmd_postfix": ") ",
     "delete_cmd_prefix": "rm(",
     "library": "var_list.r",
     "varRefreshCmd": "cat(var_dic_list()) "
    }
   },
   "types_to_exclude": [
    "module",
    "function",
    "builtin_function_or_method",
    "instance",
    "_Feature"
   ],
   "window_display": false
  }
 },
 "nbformat": 4,
 "nbformat_minor": 4
}
