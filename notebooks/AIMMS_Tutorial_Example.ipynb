{
 "cells": [
  {
   "cell_type": "markdown",
   "metadata": {},
   "source": [
    "# AIMMS Tutorial Example\n",
    "\n",
    "The following problem is a [tutorial example taken from AIMMS](https://download.aimms.com/aimms/download/references/AIMMS_tutorial_beginner.pdf). It demonstrates the capabilities of Pyomo and how to construct a GUI using `molaqt` to solve the problem."
   ]
  },
  {
   "cell_type": "markdown",
   "metadata": {},
   "source": [
    "# Problem Statement\n",
    "\n",
    "Beer is shipped in lorries from two brewing plants (Haarlem, Eindhoven) to five customers (Amsterdam, Breda, Gouda, Amersfoort, Den Bosch) in a fixed time period. The objective is to minimise the cost of moving the beer such that the customer demand is met and shipments do not exceed the\n",
    "available supply from each brewery. \n",
    "\n",
    "The available supply at each plant and the required demand by each customer (measured in lorry loads) is shown in the table below. The cost associated with moving one lorry load from a plant to a\n",
    "customer is shown as a grid. .\n",
    "\n",
    "| | **Amsterdam** | **Breda** | **Gouda** | **Amersfoort** | **Den Bosch** | Supply |\n",
    "| --- | --- | --- | --- | --- | --- | --- |\n",
    "| **Haarlem** | 131 | 405 | 188 | 396 | 485 | 47 |\n",
    "| **Eindhoven** | 554 | 351 | 479 | 366 | 155 | 63 |\n",
    "| Demand | 28 | 16 | 22 | 31 | 12 |"
   ]
  },
  {
   "cell_type": "markdown",
   "metadata": {},
   "source": [
    "# Concrete Pyomo Implementation\n",
    "\n",
    "We build a concrete optimisation model using pyomo to solve this problem."
   ]
  },
  {
   "cell_type": "code",
   "execution_count": 1,
   "metadata": {},
   "outputs": [],
   "source": [
    "from pyomo.environ import *\n",
    "model = ConcreteModel()"
   ]
  },
  {
   "cell_type": "markdown",
   "metadata": {},
   "source": [
    "We adopt the following indices\n",
    "\n",
    "* $p\\in P$ plants\n",
    "* $c\\in C$ customers\n",
    "\n",
    "and implement them in the model using `Sets`."
   ]
  },
  {
   "cell_type": "code",
   "execution_count": 2,
   "metadata": {},
   "outputs": [],
   "source": [
    "model.P = Set(initialize=['Haarlem', 'Eindhoven'])\n",
    "model.C = Set(initialize=['Amsterdam', 'Breda', 'Gouda', 'Amersfoort', 'Den Bosch'])"
   ]
  },
  {
   "cell_type": "markdown",
   "metadata": {},
   "source": [
    "The model parameters are for supply, demand and unit cost:\n",
    "\n",
    "* $S_p$ supply at plant $p$\n",
    "* $D_c$ demand by customer $c$\n",
    "* $U_{p,c}$ unit transport cost from $p$ to $c$\n",
    "\n",
    "In Pyomo these are implemented using `Params`. To get the unit cost data into the model we use Pandas and convert a `DataFrame` to a `dict` indexed by (plant, customer)."
   ]
  },
  {
   "cell_type": "code",
   "execution_count": 3,
   "metadata": {},
   "outputs": [
    {
     "name": "stdout",
     "output_type": "stream",
     "text": [
      "U : Size=10, Index=U_index, Domain=Any, Default=None, Mutable=False\n",
      "    Key                         : Value\n",
      "    ('Eindhoven', 'Amersfoort') :   366\n",
      "     ('Eindhoven', 'Amsterdam') :   554\n",
      "         ('Eindhoven', 'Breda') :   351\n",
      "     ('Eindhoven', 'Den Bosch') :   155\n",
      "         ('Eindhoven', 'Gouda') :   479\n",
      "      ('Haarlem', 'Amersfoort') :   396\n",
      "       ('Haarlem', 'Amsterdam') :   131\n",
      "           ('Haarlem', 'Breda') :   405\n",
      "       ('Haarlem', 'Den Bosch') :   485\n",
      "           ('Haarlem', 'Gouda') :   188\n"
     ]
    }
   ],
   "source": [
    "import pandas as pd\n",
    "s_data = {'Haarlem': 47, 'Eindhoven': 63}\n",
    "model.S = Param(model.P, initialize=s_data)\n",
    "d_data = {'Amsterdam': 28, 'Breda': 16, 'Gouda': 22, 'Amersfoort': 31, 'Den Bosch': 12}\n",
    "model.D = Param(model.C, initialize=d_data)\n",
    "cost = [[131, 405, 188, 396, 485], [554, 351, 479, 366, 155]]\n",
    "cost_df = pd.DataFrame(cost, index=list(model.P), columns=list(model.C))\n",
    "model.U = Param(model.P, model.C, initialize=cost_df.stack().to_dict())\n",
    "model.U.pprint()"
   ]
  },
  {
   "cell_type": "markdown",
   "metadata": {},
   "source": [
    "The objective is to minimise the transport cost\n",
    "\n",
    "$$\n",
    "z = \\sum_{p,c} U_{p,c}x_{p,c}\n",
    "$$\n",
    "\n",
    "where $x_{p,c}$ is the transport from $p$ to $c$. We define the variable $x_{p, c}$ indexed by sets $P$ and $C$ below."
   ]
  },
  {
   "cell_type": "code",
   "execution_count": 4,
   "metadata": {},
   "outputs": [],
   "source": [
    "model.x = Var(model.P, model.C, domain=PositiveReals)"
   ]
  },
  {
   "cell_type": "markdown",
   "metadata": {},
   "source": [
    "We specify the domain of $x$ as the positive reals in order to satisfy the positive constraint\n",
    "\n",
    "$$\n",
    "x_{p,c} \\ge 0\n",
    "$$\n",
    "\n",
    "The objective is defined by"
   ]
  },
  {
   "cell_type": "code",
   "execution_count": 5,
   "metadata": {},
   "outputs": [],
   "source": [
    "model.z = Objective(expr=sum(model.U[p, c] * model.x[p, c] \n",
    "             for p in model.P for c in model.C), sense=minimize)"
   ]
  },
  {
   "cell_type": "markdown",
   "metadata": {},
   "source": [
    "The supply constraint is\n",
    "\n",
    "$$\n",
    "\\sum_c x_{p,c} \\leq S_p\n",
    "$$\n",
    "\n",
    "and it is implemented in pyomo using the following function:"
   ]
  },
  {
   "cell_type": "code",
   "execution_count": 6,
   "metadata": {},
   "outputs": [],
   "source": [
    "def supply_rule(model, p):\n",
    "    return sum([model.x[p, c] for c in model.C]) <= model.S[p]\n",
    "model.supply_constraint = Constraint(model.P, rule=supply_rule)"
   ]
  },
  {
   "cell_type": "markdown",
   "metadata": {},
   "source": [
    "The demand constraint is\n",
    "\n",
    "$$\n",
    "\\sum_p x_{p,c} \\geq D_c\n",
    "$$\n",
    "\n",
    "and it is implemented in pyomo using the following function:"
   ]
  },
  {
   "cell_type": "code",
   "execution_count": 7,
   "metadata": {},
   "outputs": [],
   "source": [
    "def demand_rule(model, c):\n",
    "    return sum([model.x[p, c] for p in model.P]) >= model.D[c]\n",
    "model.demand_constraint = Constraint(model.C, rule=demand_rule)"
   ]
  },
  {
   "cell_type": "markdown",
   "metadata": {},
   "source": [
    "# Solution\n",
    "\n",
    "We specify a solver and then call it."
   ]
  },
  {
   "cell_type": "code",
   "execution_count": 8,
   "metadata": {},
   "outputs": [
    {
     "name": "stdout",
     "output_type": "stream",
     "text": [
      "# ==========================================================\n",
      "# = Solver Results                                         =\n",
      "# ==========================================================\n",
      "# ----------------------------------------------------------\n",
      "#   Problem Information\n",
      "# ----------------------------------------------------------\n",
      "Problem: \n",
      "- Name: unknown\n",
      "  Lower bound: 27499.0\n",
      "  Upper bound: 27499.0\n",
      "  Number of objectives: 1\n",
      "  Number of constraints: 8\n",
      "  Number of variables: 11\n",
      "  Number of nonzeros: 21\n",
      "  Sense: minimize\n",
      "# ----------------------------------------------------------\n",
      "#   Solver Information\n",
      "# ----------------------------------------------------------\n",
      "Solver: \n",
      "- Status: ok\n",
      "  Termination condition: optimal\n",
      "  Statistics: \n",
      "    Branch and bound: \n",
      "      Number of bounded subproblems: 0\n",
      "      Number of created subproblems: 0\n",
      "  Error rc: 0\n",
      "  Time: 0.014623165130615234\n",
      "# ----------------------------------------------------------\n",
      "#   Solution Information\n",
      "# ----------------------------------------------------------\n",
      "Solution: \n",
      "- number of solutions: 0\n",
      "  number of solutions displayed: 0\n"
     ]
    }
   ],
   "source": [
    "opt = SolverFactory(\"glpk\")\n",
    "results = opt.solve(model)\n",
    "results.write()"
   ]
  },
  {
   "cell_type": "markdown",
   "metadata": {},
   "source": [
    "The optimal solution below agrees with the solution given in the AIMMS tutorial."
   ]
  },
  {
   "cell_type": "code",
   "execution_count": 9,
   "metadata": {},
   "outputs": [
    {
     "name": "stdout",
     "output_type": "stream",
     "text": [
      "x : Size=10, Index=x_index\n",
      "    Key                         : Lower : Value : Upper : Fixed : Stale : Domain\n",
      "    ('Eindhoven', 'Amersfoort') :     0 :  31.0 :  None : False : False : PositiveReals\n",
      "     ('Eindhoven', 'Amsterdam') :     0 :   0.0 :  None : False : False : PositiveReals\n",
      "         ('Eindhoven', 'Breda') :     0 :  16.0 :  None : False : False : PositiveReals\n",
      "     ('Eindhoven', 'Den Bosch') :     0 :  12.0 :  None : False : False : PositiveReals\n",
      "         ('Eindhoven', 'Gouda') :     0 :   3.0 :  None : False : False : PositiveReals\n",
      "      ('Haarlem', 'Amersfoort') :     0 :   0.0 :  None : False : False : PositiveReals\n",
      "       ('Haarlem', 'Amsterdam') :     0 :  28.0 :  None : False : False : PositiveReals\n",
      "           ('Haarlem', 'Breda') :     0 :   0.0 :  None : False : False : PositiveReals\n",
      "       ('Haarlem', 'Den Bosch') :     0 :   0.0 :  None : False : False : PositiveReals\n",
      "           ('Haarlem', 'Gouda') :     0 :  19.0 :  None : False : False : PositiveReals\n"
     ]
    }
   ],
   "source": [
    "model.x.pprint()"
   ]
  },
  {
   "cell_type": "markdown",
   "metadata": {},
   "source": [
    "# Mola Specification Class\n",
    "\n",
    "In `mola` we define an abstract Pyomo model in a subclass of `Specification`."
   ]
  },
  {
   "cell_type": "code",
   "execution_count": 10,
   "metadata": {},
   "outputs": [],
   "source": [
    "from mola.specification5 import Specification\n",
    "import pyomo.environ as pe\n",
    "class AIMMSExampleSpecification(Specification):\n",
    "    \"\"\"\n",
    "    A Mola Specification class containing an abstract model to solve the AIMMS simple tutorial problem.\n",
    "    \"\"\"\n",
    "    user_defined_sets = {\n",
    "        'P': 'Plants',\n",
    "        'C': 'Customers',\n",
    "    }\n",
    "    user_defined_parameters = {\n",
    "        'S': {'index': ['P'], 'doc': 'Supply available at plant p'},\n",
    "        'D': {'index': ['C'], 'doc': 'Demand required by customer c'},\n",
    "        'U': {'index': ['P', 'C'], 'doc': 'Cost per unit'},\n",
    "    }\n",
    "    # db parameters need to be constructed explicitly\n",
    "    controllers = {\"Standard\": \"StandardController\"}\n",
    "    default_settings = {\n",
    "    }\n",
    "\n",
    "    def __init__(self):\n",
    "\n",
    "        # instance object to hold just the setting values\n",
    "        self.settings = {k: v['value'] for k, v in self.default_settings.items()}\n",
    "\n",
    "        # setup abstract model\n",
    "        abstract_model = self.abstract_model = pe.AbstractModel()\n",
    "\n",
    "        # user-defined sets\n",
    "        for var, doc in self.user_defined_sets.items():\n",
    "            abstract_model.add_component(var, pe.Set(doc=doc))\n",
    "\n",
    "        # user-defined parameters\n",
    "        for param, val in self.user_defined_parameters.items():\n",
    "            idx = [abstract_model.component(i) for i in val['index']]\n",
    "            abstract_model.add_component(param, pe.Param(*idx, doc=val['doc'], within=pe.Reals))\n",
    "\n",
    "        # variables\n",
    "        abstract_model.x = pe.Var(abstract_model.P, abstract_model.C,\n",
    "                                     within=pe.NonNegativeReals, doc='Units')\n",
    "\n",
    "        # objective\n",
    "        def objective_rule(model):\n",
    "            return sum(model.U[p, c] * model.x[p, c] for p in model.P for c in model.C)\n",
    "        abstract_model.obj = pe.Objective(rule=objective_rule)\n",
    "\n",
    "        # constraints\n",
    "        def supply_rule(model, p):\n",
    "            return sum([model.x[p, c] for c in model.C]) <= model.S[p]\n",
    "        abstract_model.supply_constraint = Constraint(abstract_model.P, rule=supply_rule)\n",
    "\n",
    "        def demand_rule(model, c):\n",
    "            return sum([model.x[p, c] for p in model.P]) >= model.D[c]\n",
    "        abstract_model.demand_constraint = Constraint(abstract_model.C, rule=demand_rule)\n",
    "\n",
    "    def populate(self, json_files=None, elementary_flow_ref_ids=None, db_file=None):\n",
    "\n",
    "        olca_dp = pyod.DataPortal()\n",
    "\n",
    "        # user data\n",
    "        for json_file in json_files:\n",
    "            if json_file:\n",
    "                olca_dp.load(filename=json_file)\n",
    "\n",
    "        # use DataPortal to build concrete instance\n",
    "        model_instance = self.abstract_model.create_instance(olca_dp)\n",
    "\n",
    "        return model_instance\n",
    "\n",
    "    def get_default_sets(self, d=None):\n",
    "        user_sets = {\n",
    "            'P': [],\n",
    "            'C': [],\n",
    "        }\n",
    "        if d is not None:\n",
    "            user_sets.update(d)\n",
    "\n",
    "        return user_sets\n",
    "\n",
    "    def get_default_parameters(self, user_sets):\n",
    "        user_params = {\n",
    "            'S': [{'index': [p], 'value': 0} for p in user_sets['P']],\n",
    "            'D': [{'index': [c], 'value': 0} for c in user_sets['C']],\n",
    "            'U': [{'index': [p, c], 'value': 0}\n",
    "                  for p in user_sets['P'] for c in user_sets['C']],\n",
    "        }\n",
    "\n",
    "        return user_params\n"
   ]
  },
  {
   "cell_type": "code",
   "execution_count": 11,
   "metadata": {},
   "outputs": [],
   "source": [
    "spec = AIMMSExampleSpecification()"
   ]
  },
  {
   "cell_type": "markdown",
   "metadata": {},
   "source": [
    "The `mola.build` module allow us to build a concrete model from the `Specification` object using JSON files that contains the sets and parameters that we defined earlier.\n",
    "\n",
    "First we write the sets to a JSON file."
   ]
  },
  {
   "cell_type": "code",
   "execution_count": 12,
   "metadata": {},
   "outputs": [
    {
     "data": {
      "text/plain": [
       "{'P': ['Haarlem', 'Eindhoven'],\n",
       " 'C': ['Amsterdam', 'Breda', 'Gouda', 'Amersfoort', 'Den Bosch']}"
      ]
     },
     "execution_count": 12,
     "metadata": {},
     "output_type": "execute_result"
    }
   ],
   "source": [
    "import json\n",
    "sets = {'P': list(model.P), 'C':list(model.C)}\n",
    "sets_json_file = 'Configuration/AIMMS_sets.json'\n",
    "with open(sets_json_file, 'w') as fp:\n",
    "    json.dump(sets, fp, indent=4)\n",
    "sets"
   ]
  },
  {
   "cell_type": "markdown",
   "metadata": {},
   "source": [
    "Indexed parameter data on disk is stored in index-value form in JSON files. So we convert the parameter data to this form below."
   ]
  },
  {
   "cell_type": "code",
   "execution_count": 13,
   "metadata": {},
   "outputs": [],
   "source": [
    "p = spec.get_default_parameters(sets)\n",
    "for item in p['S']:\n",
    "    item['value'] = s_data[item['index'][0]]\n",
    "for item in p['D']:\n",
    "    item['value'] = d_data[item['index'][0]]\n",
    "for item in p['U']:\n",
    "    item['value'] = cost_df.loc[item['index'][0], item['index'][1]]"
   ]
  },
  {
   "cell_type": "markdown",
   "metadata": {},
   "source": [
    "These parameters are used to overwrite defaults in the specification. The parameters are then written to a JSON file."
   ]
  },
  {
   "cell_type": "code",
   "execution_count": 14,
   "metadata": {},
   "outputs": [
    {
     "name": "stdout",
     "output_type": "stream",
     "text": [
      "Supply available at plant p\n",
      "Demand required by customer c\n",
      "Cost per unit\n"
     ]
    }
   ],
   "source": [
    "import mola.build as mb\n",
    "import mola.utils as mu\n",
    "p = mb.build_parameters(sets, p, spec)\n",
    "parameters = mu.get_index_value_parameters(p)\n",
    "parameters_json_file = 'Configuration/AIMMS_parameters.json'\n",
    "with open(parameters_json_file, 'w') as fp: json.dump(parameters, fp, indent=4)"
   ]
  },
  {
   "cell_type": "markdown",
   "metadata": {},
   "source": [
    "The two JSON files are used to populate the abstract model in the specification object and generate a new concrete model."
   ]
  },
  {
   "cell_type": "code",
   "execution_count": 15,
   "metadata": {},
   "outputs": [],
   "source": [
    "import pyomo.dataportal as pyod\n",
    "model2 = spec.populate([sets_json_file, parameters_json_file])"
   ]
  },
  {
   "cell_type": "markdown",
   "metadata": {},
   "source": [
    "Finally, we solve this model using Pyomo and show the delivery plan."
   ]
  },
  {
   "cell_type": "code",
   "execution_count": 16,
   "metadata": {},
   "outputs": [
    {
     "name": "stdout",
     "output_type": "stream",
     "text": [
      "x : Units\n",
      "    Size=10, Index=x_index\n",
      "    Key                         : Lower : Value : Upper : Fixed : Stale : Domain\n",
      "    ('Eindhoven', 'Amersfoort') :     0 :  31.0 :  None : False : False : NonNegativeReals\n",
      "     ('Eindhoven', 'Amsterdam') :     0 :   0.0 :  None : False : False : NonNegativeReals\n",
      "         ('Eindhoven', 'Breda') :     0 :  16.0 :  None : False : False : NonNegativeReals\n",
      "     ('Eindhoven', 'Den Bosch') :     0 :  12.0 :  None : False : False : NonNegativeReals\n",
      "         ('Eindhoven', 'Gouda') :     0 :   3.0 :  None : False : False : NonNegativeReals\n",
      "      ('Haarlem', 'Amersfoort') :     0 :   0.0 :  None : False : False : NonNegativeReals\n",
      "       ('Haarlem', 'Amsterdam') :     0 :  28.0 :  None : False : False : NonNegativeReals\n",
      "           ('Haarlem', 'Breda') :     0 :   0.0 :  None : False : False : NonNegativeReals\n",
      "       ('Haarlem', 'Den Bosch') :     0 :   0.0 :  None : False : False : NonNegativeReals\n",
      "           ('Haarlem', 'Gouda') :     0 :  19.0 :  None : False : False : NonNegativeReals\n"
     ]
    }
   ],
   "source": [
    "results = opt.solve(model2)\n",
    "model2.x.pprint()"
   ]
  },
  {
   "cell_type": "markdown",
   "metadata": {},
   "source": [
    "Thus, we show how the model in the specification leads to the same solution as before."
   ]
  }
 ],
 "metadata": {
  "kernelspec": {
   "display_name": "Python 3",
   "language": "python",
   "name": "python3"
  },
  "language_info": {
   "codemirror_mode": {
    "name": "ipython",
    "version": 3
   },
   "file_extension": ".py",
   "mimetype": "text/x-python",
   "name": "python",
   "nbconvert_exporter": "python",
   "pygments_lexer": "ipython3",
   "version": "3.7.9"
  },
  "toc": {
   "base_numbering": 1,
   "nav_menu": {},
   "number_sections": true,
   "sideBar": true,
   "skip_h1_title": false,
   "title_cell": "Table of Contents",
   "title_sidebar": "Contents",
   "toc_cell": false,
   "toc_position": {},
   "toc_section_display": true,
   "toc_window_display": true
  }
 },
 "nbformat": 4,
 "nbformat_minor": 4
}
