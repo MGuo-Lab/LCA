{
 "cells": [
  {
   "cell_type": "markdown",
   "metadata": {},
   "source": [
    "# Translation of specification"
   ]
  },
  {
   "cell_type": "markdown",
   "metadata": {},
   "source": [
    "These are notes on how we translate a specification of an optimisation problem for MOLA into an abstract Pyomo model. The abstract model is made concrete using dummy data and then solved. The output does not correspond to a real optimisation problem."
   ]
  },
  {
   "cell_type": "markdown",
   "metadata": {},
   "source": [
    "\n",
    "\n",
    "# Specification"
   ]
  },
  {
   "cell_type": "markdown",
   "metadata": {},
   "source": [
    "This is the version 5 of the LP specification. It contains a modified transport service flow and a recipe selection binary variable."
   ]
  },
  {
   "cell_type": "markdown",
   "metadata": {},
   "source": [
    "## Indices and sets\n",
    "\n",
    "The index is a label that identifies an element in a set. For simplicity, we shall use the index to refer to the element that it indexes."
   ]
  },
  {
   "cell_type": "markdown",
   "metadata": {},
   "source": [
    "* $af \\in AF$ is an index for an openLCA product flow imported from an openLCA database. This includes new flows that are defined by the user for the optimisation problem.\n",
    "* $f\\in F$ is an index for a user-defined flow.\n",
    "* $f_m \\in F_m \\subset F$ is an index for a user-defined material flow (e.g. energy, material) to be considered in the optimisation problem.\n",
    "* $f_s \\in F_s \\subset F$ is an index for an user-defined service flow (e.g. energy storage, transport) to be considered in the optimisation problem.\n",
    "* $f_{t} \\in F_{t} \\subset F$ is an index for transport service flow i.e. transport mode \\{road, train freight, air etc\\}.\n",
    "* $l\\in L$ location defined by Latitude and Longitude.\n",
    "* $e \\in E$ is an elementary flow index for elementary flows imported from an openLCA database. A system process in the openLCA database is by definition broken down into a set of these elementary flows.\n",
    "* $ap \\in AP$ is an index for a process in the set of all processes contained in an openLCA database. This include user-defined processes specifically designed for the optimisation tool.\n",
    "* $p\\in P\\subset AP$ is a process index for processes that make up the optimisation problem.\n",
    "* $p_m\\in P_m\\subset P$ is a process index for processes with material flows that make up the optimisation problem.\n",
    "* $p_t\\in P_t\\subset P$ is a process index for processes with transport flows that make up the optimisation problem.\n",
    "* $t \\in T\\in\\{0, 1, \\ldots, n\\}$ is the time index.\n",
    "* $k \\in K$ a task index $k$ in the set of all task indices $K$.\n",
    "* $d \\in D$ an index for a demand $d$ in the set of demand indices $D$. \n",
    "* $akpi \\in AKPI$ is an indexes for all key performance indicators $KPI$ in an openLCA database. This includes key performance indicators defined by the user of the optimisation tool that must be added to the openLCA database.\n",
    "* $kpi \\in KPI\\subset AKPI$ is an index that identifies those performance indicators that the user wish to use in the optimisation problem."
   ]
  },
  {
   "cell_type": "markdown",
   "metadata": {},
   "source": [
    "## Parameters"
   ]
  },
  {
   "cell_type": "markdown",
   "metadata": {},
   "source": [
    "### User-defined"
   ]
  },
  {
   "cell_type": "markdown",
   "metadata": {},
   "source": [
    "* $C_{f_m, k, d, t}$ Conversion factor for material flows to generate per unit of demand product/services $d$ at task $k$, time $t$. If not defined default value is 0. Units are $[C_{f_m, k, d, t}]=[D_{d,k,t}]/[f_m]$ where $[f_m]$ is the unit of the material product flow.\n",
    "\n",
    "* $D_{d,k,t}$ Demand for final product/service $d$ for task $k$ at time $t$; If not defined, default value is 0. Units are $[D_{d,k,t}]$.\n",
    "\n",
    "* $D_{d,k}^{total}$ Total demand for final product/service over the whole optimisation time period over multiple tasks. Units are $[D_{d,k}^{total}]=[D_{d,k,t}]$.\n",
    "\n",
    "* $L_{f_m, p_m, f_s, p_s}$ Binary factor to link service flows to material flows e.g. energy storage, material storage; If not defined the default value is 0.\n",
    "\n",
    "* $X_{k, t}$ Longitude for where the material flow $f_m$ is transported in task $k$. Units are degrees.\n",
    "\n",
    "* $Y_{k, t}$ Latitude for where the material flow $f_m$ is transported in the task $k$. Units are degrees.\n",
    "\n",
    "* $d_{p,f_m, k, t}$ Total travel distance between process $p$ (where material flow $f_m$ is produced) and task $k$ (where material flow $f_m$ is transported to) at time $t$\n",
    "\n",
    "$$\n",
    "d_{p,f_m,k,t}=M(X_{k,t},Y_{k,t},X_{p, f_m}^I,Y^I_{p, f_m})\n",
    "$$\n",
    "\n",
    "where $M$ is a function that measures this distance e.g. Haversine - see http://www.movable-type.co.uk/scripts/latlong.html. Units are km.\n",
    "\n",
    "\n",
    "* $\\phi_{f, p, t}$ Cost co-efficient for material, service and transport flows $f$ produced by $p$ at time t. Units are $[\\phi_{f, p, t]=Euro/[f]$ where is the unit\n",
    "* $J_{f_m, p_m, f_t, p_t}$ binary factor linking material flow $f_m$ generated by process $p_m$ to transport flow $f_t$ generated by process $p_t$. If not defined the default value is 0.\n"
   ]
  },
  {
   "cell_type": "markdown",
   "metadata": {},
   "source": [
    "### Imported from openLCA and model initialisation\n",
    "\n",
    "* $Ef_{kpi, e}$ Environmental impact characterisation factor for elementary flow $e$ and performance indicator $kpi$. Units are $[Ef_{kpi, e}] = [kpi]/[e]$ where $[kpi]$ is the unit of the performance indicator (e.g. \n",
    "kg CO2 Eq or kg Oil eq) and $[e]$ is the unit of the elementary flow.\n",
    "\n",
    "* $EF_{e, f, p}$ Elementary flow $e$ to link with product flow $f$ through process $p$. Units are $[EF_{e, f, p}]=[e]$.\n",
    "\n",
    "* $EI_{kpi, f, p}$ Calculated environmental impact for product flow $𝑓$ through process $p$ and performance indicator $kpi$. Units are $[EI_{kpi, f, p}]=[kpi]$.\n",
    "\n",
    "* $X^I_{p,f_m}$ Longitude from the location table given in a process for material flow $f_m$. Units are degrees.\n",
    "\n",
    "* $Y^I_{p,f_m}$ Latitude from the location table given in the process for material flow $f_m$. Units are degrees."
   ]
  },
  {
   "cell_type": "markdown",
   "metadata": {},
   "source": [
    "## Continuous variables"
   ]
  },
  {
   "cell_type": "markdown",
   "metadata": {},
   "source": [
    "* $Obj_{kpi}$ Objective functions for the user-defined KPIs.\n",
    "* $Flow_{f_m, p,k, t}$ is the flow of material $f_m$ produced by process $p$ to task $k$ at time $t$.\n",
    "* $S_{f, p, k, t}$ is the temporary storage of service input flow $f$ from process $p$ at task $k$ and time $t$.\n",
    "* $f_{f_m, p_m, f_t, p_t, k, t}$ Specific material and transport flow which is total quantity of materials $f_m$ produced in material process $p_m$ transported through transport mode $f_t$ via transport process $p_t$ at task $k$ and time interval $t$ (unit: kg).\n",
    "* $t_{f_t,p_t,k,t}$ Specific transport flow which is quantity times distance of all materials transported through the transport mode $f_t$ and by transport process $p_t$ at task $k$ and time interval $t$ (unit: kg km)."
   ]
  },
  {
   "cell_type": "markdown",
   "metadata": {},
   "source": [
    "## Binary variables\n",
    "\n",
    "* $\\alpha_{d, k, t}$ Selection of demand product $d$ (recipe) at task $k$ and time $t$."
   ]
  },
  {
   "cell_type": "markdown",
   "metadata": {},
   "source": [
    "## Objective function"
   ]
  },
  {
   "cell_type": "markdown",
   "metadata": {},
   "source": [
    "Our objective is to minimise the environmental impact of elementary flows and the economic cost derived from a network of processes.\n",
    "\n",
    "Consequently, the objective is for a fixed impact category $kpi$"
   ]
  },
  {
   "cell_type": "markdown",
   "metadata": {},
   "source": [
    "$$\n",
    "\\min_D Obj_{kpi}\n",
    "$$\n",
    "\n",
    "and\n",
    "\n",
    "$$\n",
    "\\min_D Obj_{cost}\n",
    "$$\n",
    "\n",
    "where the decision variables are defined by the set \n",
    "\n",
    "$$\n",
    "\\cup_{F,P,K,T}\\{S_{f_s, p_s, k, t}, f_{f_m,p,f_t,p_t,k,t}, t_{f_t, p_t, k, t}\\}\n",
    "$$\n",
    "\n",
    "and represent the specific service flows, the specific material flows using a mode of transport, and the specific transport flows."
   ]
  },
  {
   "cell_type": "markdown",
   "metadata": {},
   "source": [
    "The environmental impact is the sum of the environmental impacts arising from material, service flows, and transport flows:"
   ]
  },
  {
   "cell_type": "markdown",
   "metadata": {},
   "source": [
    "$$\n",
    "Obj_{kpi} = \\sum_{f_m, p_m, k, t} Flow_{f_m, p_m, k, t}EI_{kpi, f_m, p_m} + \n",
    "\\sum_{f_s, p_s, k ,t} S_{f_s, p_s, k, t}EI_{kpi, f_s, p_s} +\n",
    "\\sum_{f_t, p_t, k, t}t_{f_t, p_t, k, t}EI_{kpi,f_t,p_t}.\n",
    "$$"
   ]
  },
  {
   "cell_type": "markdown",
   "metadata": {},
   "source": [
    "The economic impact is the sum of the economic impacts arising from material, service and transport flows:"
   ]
  },
  {
   "cell_type": "markdown",
   "metadata": {},
   "source": [
    "$$\n",
    "Obj_{cost} = \\sum_{f_m, p_m, k, t} Flow_{f_m, p_m, k, t}\\phi_{f_m, p_m, t} +\n",
    "\\sum_{f_s, p_s, k, t} S_{f_s, p_s, k, t}\\phi_{f_s, p_s, t} +\n",
    "\\sum_{f_t, p_t, k, t}t_{f_t, p_t, k, t}\\phi_{f_t, p_t, t}\n",
    "$$"
   ]
  },
  {
   "cell_type": "markdown",
   "metadata": {},
   "source": [
    "Here the environmental impact of flow $f\\in F$ measured by impact factor $kpi$ is "
   ]
  },
  {
   "cell_type": "markdown",
   "metadata": {},
   "source": [
    "$$\n",
    "EI_{kpi, f, p} = \\sum_e Ef_{kpi, e}EF_{e, f, p}\n",
    "$$\n",
    "\n",
    "where the flow $f$ is the product flow for the process $p\\in P$. Here $Ef_{kpi, e}$ denotes the impact factor indexed by impact category $kpi$ and environmental flow $e$ and $EF_{e, f, p}$ is the quantity of elementary flow generated by the product flow $f$ by process $p$. If $f\\in F_m\\cup F_s\\cup F_t$ then the breakdown of flow into elementary flow amounts $EF_{e, f, p}$ must be calculated in openLCA by constructing a *system process*, which is then imported into the optimisation tool. Otherwise the flow is a product flow from an existing system process in openLCA so there already is a breakdown.\n"
   ]
  },
  {
   "cell_type": "markdown",
   "metadata": {},
   "source": [
    "## Constraints"
   ]
  },
  {
   "cell_type": "markdown",
   "metadata": {},
   "source": [
    "The binary parameter $L_{f_m, p_m, f_s, p_s}$ determines the linkage between service flow $S_{f_s, p_s, k,t}$ and the material storage flow $S_{f_m, p_m, k, t}$ at task $k$ and time $t$:"
   ]
  },
  {
   "cell_type": "markdown",
   "metadata": {},
   "source": [
    "$$\n",
    "S_{f_s,p_s,k,t} = \\sum_{f_m, p_m} L_{f_m, p_m, f_s, p_s}S_{f_m, p_m, k, t},\n",
    "$$"
   ]
  },
  {
   "cell_type": "markdown",
   "metadata": {},
   "source": [
    "where $L_{f_m, p_m, f_s, p_s}$ is a binary parameter than links the service flow $f_s$ from process $p_s$ to the material flow $f_m$ from process $p_m$ in task $k$ at time $t$."
   ]
  },
  {
   "cell_type": "markdown",
   "metadata": {},
   "source": [
    "For any material flow $f_m$ produced by $p_m$, the total quantity of flow is $Flow_{f_m,p_m,k,t}$. This is the sum of the flow of $f_m$ transported through transport mode $f_t$ by transport process $p_t$ at task $k$ and time interval $t$ (denoted by $f_{f_m,p_m,f_t,p_tk,t}$) over all transport flows and processes linked to the material process. Thus we have "
   ]
  },
  {
   "cell_type": "markdown",
   "metadata": {},
   "source": [
    "$$\n",
    "Flow_{f_m,p_m,k,t}=\\sum_{f_t,p_t} J_{f_m, p_m, f_t, p_t} f_{f_m,p_m,f_t,p_t,k,t},\n",
    "$$"
   ]
  },
  {
   "cell_type": "markdown",
   "metadata": {},
   "source": [
    "where $J_{f_m, p_m, f_t, p_t}$ links the material flow $f_m$ generated by $p_m$ to the transport flow $f_t$ generated by $p_t$.\n",
    "\n",
    "The specfic transport flow $t_{f_t,p_t,k,t}$ is defined by the quantity of $f_m$ generated by $p_m$ and transported by mode $f_t$ from $p_t$ at task $k$ and time interval $t$ and the transport distance for shipping $f_m$ from initial production location $(X^I_{p,f_m},Y^I_{p,f_m})$ to final task location $X_{k,t}, Y_{k,t}$."
   ]
  },
  {
   "cell_type": "markdown",
   "metadata": {},
   "source": [
    "$$\n",
    "t_{f_t, p_t, k, t} = \\sum_{f_m, p_m} J_{f_m, p_m, f_t, p_t} U_{f_m, f_t} f_{f_m, p_m, f_t, p_t, k, t}d_{p, f_m, k, t}\n",
    "$$\n",
    "\n",
    "where $U_{f_m, f_t}$ is a parameter that converts the units of material flow $f_m$ in openLCA into the units of the transport flow $f_t$. "
   ]
  },
  {
   "cell_type": "markdown",
   "metadata": {},
   "source": [
    "The sum of material flows over each production process and the conversion of temporary storage to material flow must satisfy the selected demand"
   ]
  },
  {
   "cell_type": "markdown",
   "metadata": {},
   "source": [
    "$$\n",
    "\\sum_{f_m, p_m} (Flow_{f_m, p_m, k, t} - S_{f_m, p_m, k, t} + S_{f_m, p_m, k, t-1})C_{f_m, k, d, t} \\geq D_{d,k,t}\\alpha_{d, k, t}\n",
    "$$"
   ]
  },
  {
   "cell_type": "markdown",
   "metadata": {},
   "source": [
    "where the recipe selection variable satisfies\n",
    "\n",
    "$$\n",
    "\\sum_d \\alpha_{d, k ,t} = 1.\n",
    "$$"
   ]
  },
  {
   "cell_type": "markdown",
   "metadata": {},
   "source": [
    "The total material flow must satisfy the total demand over the time horizon so\n",
    "\n",
    "$$\n",
    "\\sum_{f_m,p_m,t} Flow_{f_m, p_m, k, t}C_{f_m, k, d, t}  \\geq D_{d,k}^{total}.\n",
    "$$"
   ]
  },
  {
   "cell_type": "markdown",
   "metadata": {},
   "source": [
    "Finally, we require\n",
    "\n",
    "$$\n",
    "S_{f, p, k, t} \\geq 0,\n",
    "$$\n",
    "\n",
    "$$\n",
    "f_{f_m, p_m, f_t, p_t, k, t} \\geq 0,\n",
    "$$\n",
    "\n",
    "$$\n",
    "t_{f_t, p, k, t} \\geq 0.\n",
    "$$"
   ]
  },
  {
   "cell_type": "markdown",
   "metadata": {},
   "source": [
    "# Abstract Pyomo Model\n",
    "\n",
    "The specification is translated into an abstract pyomo model contained in a `Specification` class. In the following sections we show how the abstract model relates to the mathematical specificaton above."
   ]
  },
  {
   "cell_type": "code",
   "execution_count": 1,
   "metadata": {},
   "outputs": [],
   "source": [
    "from importlib import reload\n",
    "import pandas as pd\n",
    "from pyomo.environ import *\n",
    "abstract_model = AbstractModel()"
   ]
  },
  {
   "cell_type": "markdown",
   "metadata": {},
   "source": [
    "## Indices and sets"
   ]
  },
  {
   "cell_type": "markdown",
   "metadata": {},
   "source": [
    "There is no instantiation of objects in the abstract model just placeholders for data. Some of the data must be supplied by the user and some must come from an openLCA database."
   ]
  },
  {
   "cell_type": "markdown",
   "metadata": {},
   "source": [
    "### User-defined\n",
    "\n",
    "The user needs to specify these sets."
   ]
  },
  {
   "cell_type": "code",
   "execution_count": 2,
   "metadata": {},
   "outputs": [],
   "source": [
    "abstract_model.F_m = Set(doc='Material flows to optimise')\n",
    "abstract_model.F_s = Set(doc='Service flows to optimise')\n",
    "abstract_model.F_t = Set(doc='Transport flows to optimise')\n",
    "abstract_model.F = abstract_model.F_m | abstract_model.F_t | abstract_model.F_s\n",
    "abstract_model.P = Set(doc='Processes in the optimisation problem')\n",
    "abstract_model.P_m = Set(doc='Processes with material product flows in the optimisation problem')\n",
    "abstract_model.P_s = Set(doc='Processes with service product flows in the optimisation problem')\n",
    "abstract_model.P_t = Set(doc='Processes with transport product flows in the optimisation problem')\n",
    "abstract_model.T = Set(doc='Time index')\n",
    "abstract_model.K = Set(doc='Tasks')\n",
    "abstract_model.D = Set(doc='Demands')\n",
    "abstract_model.KPI = Set(doc='Performance indicators for optimisation problem')"
   ]
  },
  {
   "cell_type": "markdown",
   "metadata": {},
   "source": [
    "A DataPortal can be used to load user configuration from a JSON file to persist user configuration. There is a method in the Specification class that constructs an example user data set"
   ]
  },
  {
   "cell_type": "markdown",
   "metadata": {},
   "source": [
    "### OpenLCA data\n",
    "\n",
    "These sets are populated by reference ids from an openLCA database."
   ]
  },
  {
   "cell_type": "code",
   "execution_count": 3,
   "metadata": {},
   "outputs": [],
   "source": [
    "abstract_model.AF = Set(doc='All flows in openLCA database')\n",
    "abstract_model.E = Set(doc='Elementary Flows in OpenLCA database')\n",
    "abstract_model.AP = Set(doc='All processes from in OpenLCA database')\n",
    "abstract_model.AKPI = Set(doc='All key performance indicators in an openLCA database')"
   ]
  },
  {
   "cell_type": "markdown",
   "metadata": {},
   "source": [
    "To generate a new model instance the user first needs to specify the database. We show how a pyomo DataPortal can be used to populate the sets from an example database. The number of processes in the database is output."
   ]
  },
  {
   "cell_type": "code",
   "execution_count": 4,
   "metadata": {},
   "outputs": [
    {
     "data": {
      "text/plain": [
       "18268"
      ]
     },
     "execution_count": 4,
     "metadata": {},
     "output_type": "execute_result"
    }
   ],
   "source": [
    "import mola.dataimport as di\n",
    "olca_dp = DataPortal()\n",
    "db_file = di.get_default_db_file()\n",
    "olca_dp.load(filename=db_file, using='sqlite3', query=\"SELECT REF_ID FROM TBL_FLOWS\", set=abstract_model.AF)\n",
    "olca_dp.load(filename=db_file, using='sqlite3', query=\"SELECT REF_ID FROM TBL_FLOWS WHERE FLOW_TYPE='ELEMENTARY_FLOW'\", set=abstract_model.E)\n",
    "olca_dp.load(filename=db_file, using='sqlite3', query=\"SELECT REF_ID FROM TBL_PROCESSES\", set=abstract_model.AP)\n",
    "olca_dp.load(filename=db_file, using='sqlite3', query=\"SELECT REF_ID FROM TBL_IMPACT_CATEGORIES\", set=abstract_model.AKPI)\n",
    "model_instance = abstract_model.create_instance(olca_dp)\n",
    "len(model_instance.AP)"
   ]
  },
  {
   "cell_type": "markdown",
   "metadata": {},
   "source": [
    "We shall also need flow/process names and categories and other data which is not part of the abstract model. This supplementary data is obtained using a query builder. For example, the following function builds a lookup table for mapping reference ids to names. The table for processes is shown below and it contains the location of the process."
   ]
  },
  {
   "cell_type": "code",
   "execution_count": 5,
   "metadata": {},
   "outputs": [
    {
     "name": "stdout",
     "output_type": "stream",
     "text": [
      "SELECT \"REF_ID\",\"NAME\" FROM \"TBL_CATEGORIES\"\n",
      "SELECT \"REF_ID\" \"FLOW_REF_ID\",\"NAME\" FROM \"TBL_FLOWS\"\n",
      "SELECT \"TBL_PROCESSES\".\"REF_ID\" \"PROCESS_REF_ID\",\"TBL_PROCESSES\".\"NAME\" \"PROCESS_NAME\",\"TBL_LOCATIONS\".\"NAME\" \"LOCATION_NAME\" FROM \"TBL_PROCESSES\" LEFT JOIN \"TBL_LOCATIONS\" ON CAST(\"TBL_PROCESSES\".\"F_LOCATION\" AS INT)=\"TBL_LOCATIONS\".\"ID\"\n",
      "SELECT \"REF_ID\",\"NAME\" FROM \"TBL_FLOWS\" WHERE \"FLOW_TYPE\"='PRODUCT_FLOW'\n",
      "SELECT \"TBL_IMPACT_METHODS\".\"NAME\" \"method_NAME\",\"TBL_IMPACT_CATEGORIES\".\"REF_ID\" \"REF_ID\",\"TBL_IMPACT_CATEGORIES\".\"NAME\" \"category_NAME\" FROM \"TBL_IMPACT_CATEGORIES\" LEFT JOIN \"TBL_IMPACT_METHODS\" ON \"TBL_IMPACT_CATEGORIES\".\"F_IMPACT_METHOD\"=\"TBL_IMPACT_METHODS\".\"ID\"\n"
     ]
    },
    {
     "data": {
      "text/html": [
       "<div>\n",
       "<style scoped>\n",
       "    .dataframe tbody tr th:only-of-type {\n",
       "        vertical-align: middle;\n",
       "    }\n",
       "\n",
       "    .dataframe tbody tr th {\n",
       "        vertical-align: top;\n",
       "    }\n",
       "\n",
       "    .dataframe thead th {\n",
       "        text-align: right;\n",
       "    }\n",
       "</style>\n",
       "<table border=\"1\" class=\"dataframe\">\n",
       "  <thead>\n",
       "    <tr style=\"text-align: right;\">\n",
       "      <th></th>\n",
       "      <th>PROCESS_NAME</th>\n",
       "      <th>LOCATION_NAME</th>\n",
       "    </tr>\n",
       "    <tr>\n",
       "      <th>PROCESS_REF_ID</th>\n",
       "      <th></th>\n",
       "      <th></th>\n",
       "    </tr>\n",
       "  </thead>\n",
       "  <tbody>\n",
       "    <tr>\n",
       "      <th>59e8d600-0acc-465d-8e6f-e092f03b1e52</th>\n",
       "      <td>market for waste polyethylene terephthalate | ...</td>\n",
       "      <td>Lithuania</td>\n",
       "    </tr>\n",
       "    <tr>\n",
       "      <th>956ebeef-370e-34bb-ac83-11a10bba21d1</th>\n",
       "      <td>ethylvinylacetate production, foil | ethylviny...</td>\n",
       "      <td>Rest-of-World</td>\n",
       "    </tr>\n",
       "    <tr>\n",
       "      <th>90695e4b-05f9-3f41-b03d-93bef747469a</th>\n",
       "      <td>Mannheim process | sodium sulfate, anhydrite |...</td>\n",
       "      <td>Europe</td>\n",
       "    </tr>\n",
       "    <tr>\n",
       "      <th>a1e42a9d-2e86-351b-a803-49a2392eb820</th>\n",
       "      <td>Mannheim process | hydrochloric acid, without ...</td>\n",
       "      <td>Europe</td>\n",
       "    </tr>\n",
       "    <tr>\n",
       "      <th>c9291945-f81f-3790-9a65-888287c32128</th>\n",
       "      <td>aluminium oxide factory construction | alumini...</td>\n",
       "      <td>Europe</td>\n",
       "    </tr>\n",
       "  </tbody>\n",
       "</table>\n",
       "</div>"
      ],
      "text/plain": [
       "                                                                           PROCESS_NAME  \\\n",
       "PROCESS_REF_ID                                                                            \n",
       "59e8d600-0acc-465d-8e6f-e092f03b1e52  market for waste polyethylene terephthalate | ...   \n",
       "956ebeef-370e-34bb-ac83-11a10bba21d1  ethylvinylacetate production, foil | ethylviny...   \n",
       "90695e4b-05f9-3f41-b03d-93bef747469a  Mannheim process | sodium sulfate, anhydrite |...   \n",
       "a1e42a9d-2e86-351b-a803-49a2392eb820  Mannheim process | hydrochloric acid, without ...   \n",
       "c9291945-f81f-3790-9a65-888287c32128  aluminium oxide factory construction | alumini...   \n",
       "\n",
       "                                      LOCATION_NAME  \n",
       "PROCESS_REF_ID                                       \n",
       "59e8d600-0acc-465d-8e6f-e092f03b1e52      Lithuania  \n",
       "956ebeef-370e-34bb-ac83-11a10bba21d1  Rest-of-World  \n",
       "90695e4b-05f9-3f41-b03d-93bef747469a         Europe  \n",
       "a1e42a9d-2e86-351b-a803-49a2392eb820         Europe  \n",
       "c9291945-f81f-3790-9a65-888287c32128         Europe  "
      ]
     },
     "execution_count": 5,
     "metadata": {},
     "output_type": "execute_result"
    }
   ],
   "source": [
    "import mola.dataimport as di\n",
    "import mola.dataview as dv\n",
    "dbconn = di.get_sqlite_connection()\n",
    "lookup = dv.get_lookup_tables(dbconn)\n",
    "lookup['processes'].head()"
   ]
  },
  {
   "cell_type": "markdown",
   "metadata": {},
   "source": [
    "## Parameters"
   ]
  },
  {
   "cell_type": "markdown",
   "metadata": {},
   "source": [
    "### User-defined\n",
    "\n",
    "These parameters must be specified by the user. Unlike sets, the user need to supply values or use functionality in the tool to\n",
    "populate the parameters."
   ]
  },
  {
   "cell_type": "code",
   "execution_count": 6,
   "metadata": {},
   "outputs": [],
   "source": [
    "abstract_model.C = Param(abstract_model.F_m, abstract_model.K, abstract_model.D, abstract_model.T,\n",
    "                         doc='Conversion factor for material flows')\n",
    "abstract_model.Demand = Param(abstract_model.D, abstract_model.K, abstract_model.T)\n",
    "abstract_model.Total_Demand = Param(abstract_model.D, abstract_model.K)\n",
    "abstract_model.L = Param(abstract_model.F_m, abstract_model.P_m, abstract_model.F_s, abstract_model.P_s)\n",
    "abstract_model.X = Param(abstract_model.K, abstract_model.T)\n",
    "abstract_model.Y = Param(abstract_model.K, abstract_model.T)\n",
    "abstract_model.d = Param(abstract_model.P, abstract_model.F_m, abstract_model.K, abstract_model.T)\n",
    "abstract_model.phi = Param(abstract_model.F, abstract_model.P, abstract_model.T)\n",
    "abstract_model.J = Param(abstract_model.F_m, abstract_model.P_m, abstract_model.F_t, abstract_model.P_t)"
   ]
  },
  {
   "cell_type": "markdown",
   "metadata": {},
   "source": [
    "### OpenLCA data\n",
    "\n",
    "We cannot just load the following parameters when the database is specified because they depend on user input. They are completed in the model build phase after the user supplies the relevant sets."
   ]
  },
  {
   "cell_type": "code",
   "execution_count": 7,
   "metadata": {},
   "outputs": [],
   "source": [
    "abstract_model.Ef = Param(abstract_model.KPI, abstract_model.E)\n",
    "abstract_model.EF = Param(abstract_model.E, abstract_model.F, abstract_model.P)\n",
    "def ei_rule(model, kpi, f, p):\n",
    "    return sum(model.Ef[kpi, e]*model.EF[e, f, p] for e in model.E)\n",
    "abstract_model.EI = Param(abstract_model.KPI, abstract_model.F, abstract_model.P, rule=ei_rule)\n",
    "abstract_model.XI = Param(abstract_model.P, abstract_model.F_m)\n",
    "abstract_model.YI = Param(abstract_model.P, abstract_model.F_m)"
   ]
  },
  {
   "cell_type": "markdown",
   "metadata": {},
   "source": [
    "## Variables\n",
    "\n",
    "These are defined in the abstract model to correspond to the specification, but we are likely to use linked sets to decrease the amount of redundancy."
   ]
  },
  {
   "cell_type": "code",
   "execution_count": 8,
   "metadata": {},
   "outputs": [],
   "source": [
    "abstract_model.Flow = Var(abstract_model.F_m, abstract_model.P, abstract_model.K, abstract_model.T)\n",
    "abstract_model.Storage_Service_Flow = Var(abstract_model.F, abstract_model.P, abstract_model.K, abstract_model.T)\n",
    "abstract_model.Specific_Material_Transport_Flow = Var(abstract_model.F_m, abstract_model.P_m, abstract_model.F_t, \n",
    "                                             abstract_model.P_t, abstract_model.K, abstract_model.T)\n",
    "abstract_model.Specific_Transport_Flow = Var(abstract_model.F_t, abstract_model.P_t, abstract_model.K, abstract_model.T)\n",
    "abstract_model.Demand_Selection = Var(abstract_model.D, abstract_model.K, abstract_model.T, within=Binary)"
   ]
  },
  {
   "cell_type": "markdown",
   "metadata": {},
   "source": [
    "## Objective"
   ]
  },
  {
   "cell_type": "markdown",
   "metadata": {},
   "source": [
    "There are two types of objective in the abstract model. They are made concrete at build time. The user needs to supply weights for each objective before pyomo can solve the optimisation problem."
   ]
  },
  {
   "cell_type": "code",
   "execution_count": 9,
   "metadata": {},
   "outputs": [],
   "source": [
    "def environment_objective_rule(model, kpi):\n",
    "    return sum(model.Flow[fm, pm, k, t]*model.EI[kpi, fm, pm]\n",
    "               for fm in model.F_m for pm in model.P_m for k in model.K for t in model.T) + \\\n",
    "            sum(model.Storage_Service_Flow[fs, ps, k, t] * model.EI[kpi, fs, ps]\n",
    "                for fs in model.F_s for ps in model.P_s for k in model.K for t in model.T) + \\\n",
    "            sum(model.Specific_Transport_Flow[ft, pt, k, t] * model.EI[kpi, ft, pt]\n",
    "                for ft in model.F_t for pt in model.Pt for k in model.K for t in model.T)\n",
    "\n",
    "def cost_objective_rule(model):\n",
    "    return sum(model.Flow[fm, pm, k, t]*model.phi[fm, pm, t]\n",
    "               for fm in model.F_m for pm in model.P_m for k in model.K for t in model.T) + \\\n",
    "            sum(model.Storage_Service_Flow[fs, ps, k, t] * model.phi[fs, ps, t]\n",
    "                for fs in model.F_s for ps in model.P_s for k in model.K for t in model.T) + \\\n",
    "            sum(model.Specific_Transport_Flow[ft, pt, k, t] * model.phi[ft, pt, t]\n",
    "                for ft in model.F_t for pt in model.P_t for k in model.K for t in model.T)\n",
    "\n",
    "abstract_model.obj1 = Objective(abstract_model.KPI, rule=environment_objective_rule, doc='Environment')\n",
    "abstract_model.obj2 = Objective(rule=cost_objective_rule, doc='Cost')"
   ]
  },
  {
   "cell_type": "markdown",
   "metadata": {},
   "source": [
    "## Constraints\n",
    "\n",
    "The constraints are determined at build time from information supplied by the user. One of the abstract constraints is shown below."
   ]
  },
  {
   "cell_type": "code",
   "execution_count": 10,
   "metadata": {},
   "outputs": [
    {
     "name": "stdout",
     "output_type": "stream",
     "text": [
      "total_demand_constraint : Size=0, Index=total_demand_constraint_index, Active=True\n",
      "    Not constructed\n"
     ]
    }
   ],
   "source": [
    "def flow_demand_rule(model, d, k):\n",
    "    total_demand = sum(\n",
    "        model.Flow[fm, pm, k, t] * model.C[fm, k, d, t] for fm in model.F_m for pm in model.P for t in model.T)\n",
    "    return total_demand >= model.Total_Demand[d, k]\n",
    "abstract_model.total_demand_constraint = Constraint(\n",
    "    abstract_model.D, abstract_model.K, rule=flow_demand_rule)\n",
    "abstract_model.total_demand_constraint.pprint()"
   ]
  },
  {
   "cell_type": "markdown",
   "metadata": {},
   "source": [
    "# User interface\n",
    "\n",
    "The mola specification module contains a class called ScheduleSpecification that contains the full abstract model defined in the specification above. One set of the abstract model is shown below."
   ]
  },
  {
   "cell_type": "code",
   "execution_count": 11,
   "metadata": {},
   "outputs": [
    {
     "name": "stdout",
     "output_type": "stream",
     "text": [
      "AF : All flows in openLCA database\n",
      "    Size=0, Index=None, Ordered=Insertion\n",
      "    Not constructed\n"
     ]
    }
   ],
   "source": [
    "import mola.specification5 as ms\n",
    "spec = ms.ScheduleSpecification()\n",
    "spec.abstract_model.AF.pprint()"
   ]
  },
  {
   "cell_type": "markdown",
   "metadata": {},
   "source": [
    "The indices to variables and parameters also define sets in pyomo. They are denoted with a suffix '_index'.\n",
    "\n",
    "The `dataview` module contains a function to generate lookup tables that we can use to build a user interface to generate data. It makes a number of SQL queries to the database. For example, we can populate a widget with all material flows and then ask a user to select a subset."
   ]
  },
  {
   "cell_type": "code",
   "execution_count": 12,
   "metadata": {},
   "outputs": [
    {
     "name": "stdout",
     "output_type": "stream",
     "text": [
      "SELECT \"REF_ID\",\"NAME\" FROM \"TBL_CATEGORIES\"\n",
      "SELECT \"REF_ID\" \"FLOW_REF_ID\",\"NAME\" FROM \"TBL_FLOWS\"\n",
      "SELECT \"TBL_PROCESSES\".\"REF_ID\" \"PROCESS_REF_ID\",\"TBL_PROCESSES\".\"NAME\" \"PROCESS_NAME\",\"TBL_LOCATIONS\".\"NAME\" \"LOCATION_NAME\" FROM \"TBL_PROCESSES\" LEFT JOIN \"TBL_LOCATIONS\" ON CAST(\"TBL_PROCESSES\".\"F_LOCATION\" AS INT)=\"TBL_LOCATIONS\".\"ID\"\n",
      "SELECT \"REF_ID\",\"NAME\" FROM \"TBL_FLOWS\" WHERE \"FLOW_TYPE\"='PRODUCT_FLOW'\n",
      "SELECT \"TBL_IMPACT_METHODS\".\"NAME\" \"method_NAME\",\"TBL_IMPACT_CATEGORIES\".\"REF_ID\" \"REF_ID\",\"TBL_IMPACT_CATEGORIES\".\"NAME\" \"category_NAME\" FROM \"TBL_IMPACT_CATEGORIES\" LEFT JOIN \"TBL_IMPACT_METHODS\" ON \"TBL_IMPACT_CATEGORIES\".\"F_IMPACT_METHOD\"=\"TBL_IMPACT_METHODS\".\"ID\"\n"
     ]
    },
    {
     "data": {
      "text/html": [
       "<div>\n",
       "<style scoped>\n",
       "    .dataframe tbody tr th:only-of-type {\n",
       "        vertical-align: middle;\n",
       "    }\n",
       "\n",
       "    .dataframe tbody tr th {\n",
       "        vertical-align: top;\n",
       "    }\n",
       "\n",
       "    .dataframe thead th {\n",
       "        text-align: right;\n",
       "    }\n",
       "</style>\n",
       "<table border=\"1\" class=\"dataframe\">\n",
       "  <thead>\n",
       "    <tr style=\"text-align: right;\">\n",
       "      <th></th>\n",
       "      <th>NAME</th>\n",
       "    </tr>\n",
       "    <tr>\n",
       "      <th>REF_ID</th>\n",
       "      <th></th>\n",
       "    </tr>\n",
       "  </thead>\n",
       "  <tbody>\n",
       "    <tr>\n",
       "      <th>4e735e76-09eb-493b-87b9-e22d9550e4ad</th>\n",
       "      <td>ethylvinylacetate, foil</td>\n",
       "    </tr>\n",
       "    <tr>\n",
       "      <th>2cfef82e-cb0d-4864-8163-9651fc6c25eb</th>\n",
       "      <td>sodium sulfate, anhydrite</td>\n",
       "    </tr>\n",
       "    <tr>\n",
       "      <th>3ab60559-40d3-42e4-9cac-476a519098fa</th>\n",
       "      <td>hydrochloric acid, without water, in 30% solut...</td>\n",
       "    </tr>\n",
       "    <tr>\n",
       "      <th>7abb1e42-78ba-41fc-b2d6-967b8480dfbe</th>\n",
       "      <td>aluminium oxide factory</td>\n",
       "    </tr>\n",
       "    <tr>\n",
       "      <th>20d649c2-db6b-4c9a-b529-409c9d43748e</th>\n",
       "      <td>sunflower seed</td>\n",
       "    </tr>\n",
       "  </tbody>\n",
       "</table>\n",
       "</div>"
      ],
      "text/plain": [
       "                                                                                   NAME\n",
       "REF_ID                                                                                 \n",
       "4e735e76-09eb-493b-87b9-e22d9550e4ad                            ethylvinylacetate, foil\n",
       "2cfef82e-cb0d-4864-8163-9651fc6c25eb                          sodium sulfate, anhydrite\n",
       "3ab60559-40d3-42e4-9cac-476a519098fa  hydrochloric acid, without water, in 30% solut...\n",
       "7abb1e42-78ba-41fc-b2d6-967b8480dfbe                            aluminium oxide factory\n",
       "20d649c2-db6b-4c9a-b529-409c9d43748e                                     sunflower seed"
      ]
     },
     "execution_count": 12,
     "metadata": {},
     "output_type": "execute_result"
    }
   ],
   "source": [
    "import mola.dataview as dv\n",
    "import mola.dataimport as di\n",
    "conn = di.get_sqlite_connection()\n",
    "lookup = dv.get_lookup_tables(conn)\n",
    "lookup['F_m'].head()"
   ]
  },
  {
   "cell_type": "markdown",
   "metadata": {},
   "source": [
    "## Sets \n",
    "\n",
    "The `widget` module contains a function to generate the notebook widget."
   ]
  },
  {
   "cell_type": "code",
   "execution_count": 13,
   "metadata": {},
   "outputs": [
    {
     "data": {
      "application/vnd.jupyter.widget-view+json": {
       "model_id": "325589695a0d4eb1b4e3b58a2b3ad3f8",
       "version_major": 2,
       "version_minor": 0
      },
      "text/plain": [
       "Button(description='Add to set', style=ButtonStyle())"
      ]
     },
     "metadata": {},
     "output_type": "display_data"
    },
    {
     "data": {
      "application/vnd.jupyter.widget-view+json": {
       "model_id": "cff703f6ea5d434493af33290bb1838f",
       "version_major": 2,
       "version_minor": 0
      },
      "text/plain": [
       "QgridWidget(grid_options={'fullWidthRows': True, 'syncColumnCellResize': True, 'forceFitColumns': True, 'defau…"
      ]
     },
     "metadata": {},
     "output_type": "display_data"
    },
    {
     "data": {
      "application/vnd.jupyter.widget-view+json": {
       "model_id": "3e30109fa7594cda9ab949a805ce2799",
       "version_major": 2,
       "version_minor": 0
      },
      "text/plain": [
       "Button(description='Remove from set', style=ButtonStyle())"
      ]
     },
     "metadata": {},
     "output_type": "display_data"
    },
    {
     "data": {
      "application/vnd.jupyter.widget-view+json": {
       "model_id": "cd839b23b9e54a1bafb90038919b89f6",
       "version_major": 2,
       "version_minor": 0
      },
      "text/plain": [
       "QgridWidget(grid_options={'fullWidthRows': True, 'syncColumnCellResize': True, 'forceFitColumns': True, 'defau…"
      ]
     },
     "metadata": {},
     "output_type": "display_data"
    }
   ],
   "source": [
    "import mola.widgets as mw\n",
    "fw = mw.get_set(lookup['flows'])"
   ]
  },
  {
   "cell_type": "markdown",
   "metadata": {},
   "source": [
    "If the user selects flows then they are assigned to $F_m$ otherwise defaults are used."
   ]
  },
  {
   "cell_type": "code",
   "execution_count": 14,
   "metadata": {},
   "outputs": [
    {
     "data": {
      "text/plain": [
       "['f1', 'f2']"
      ]
     },
     "execution_count": 14,
     "metadata": {},
     "output_type": "execute_result"
    }
   ],
   "source": [
    "if len(fw.df) > 0:\n",
    "    F_m = fw.df.index.to_list()\n",
    "else:\n",
    "    F_m = ['f1', 'f2']\n",
    "F_m"
   ]
  },
  {
   "cell_type": "markdown",
   "metadata": {},
   "source": [
    "We can then ask for the impact category. You can search on method and category."
   ]
  },
  {
   "cell_type": "code",
   "execution_count": 15,
   "metadata": {},
   "outputs": [
    {
     "data": {
      "application/vnd.jupyter.widget-view+json": {
       "model_id": "58af885ef5c0488f9786ab3eafec029d",
       "version_major": 2,
       "version_minor": 0
      },
      "text/plain": [
       "Button(description='Add to set', style=ButtonStyle())"
      ]
     },
     "metadata": {},
     "output_type": "display_data"
    },
    {
     "data": {
      "application/vnd.jupyter.widget-view+json": {
       "model_id": "874b858b633540fda5065dd9ffe1704f",
       "version_major": 2,
       "version_minor": 0
      },
      "text/plain": [
       "QgridWidget(grid_options={'fullWidthRows': True, 'syncColumnCellResize': True, 'forceFitColumns': True, 'defau…"
      ]
     },
     "metadata": {},
     "output_type": "display_data"
    },
    {
     "data": {
      "application/vnd.jupyter.widget-view+json": {
       "model_id": "88d621a7582342c2bd04e8925d68480f",
       "version_major": 2,
       "version_minor": 0
      },
      "text/plain": [
       "Button(description='Remove from set', style=ButtonStyle())"
      ]
     },
     "metadata": {},
     "output_type": "display_data"
    },
    {
     "data": {
      "application/vnd.jupyter.widget-view+json": {
       "model_id": "32d83a46594b450fa983dae0c6e84b2a",
       "version_major": 2,
       "version_minor": 0
      },
      "text/plain": [
       "QgridWidget(grid_options={'fullWidthRows': True, 'syncColumnCellResize': True, 'forceFitColumns': True, 'defau…"
      ]
     },
     "metadata": {},
     "output_type": "display_data"
    }
   ],
   "source": [
    "ic = mw.get_set(lookup['KPI'])"
   ]
  },
  {
   "cell_type": "markdown",
   "metadata": {},
   "source": [
    "Again, the $KPI$ set is defined or a default selected."
   ]
  },
  {
   "cell_type": "code",
   "execution_count": 16,
   "metadata": {},
   "outputs": [
    {
     "data": {
      "text/plain": [
       "['061b7db5-4f56-3368-bf50-9ff0fcc8dd1f']"
      ]
     },
     "execution_count": 16,
     "metadata": {},
     "output_type": "execute_result"
    }
   ],
   "source": [
    "if len(ic.df) > 0:\n",
    "    KPI = ic.df.index.to_list()\n",
    "else:\n",
    "    KPI = ['061b7db5-4f56-3368-bf50-9ff0fcc8dd1f']\n",
    "KPI"
   ]
  },
  {
   "cell_type": "markdown",
   "metadata": {},
   "source": [
    "## Dummy data"
   ]
  },
  {
   "cell_type": "markdown",
   "metadata": {},
   "source": [
    "We need some dummy data to do a complete instantiation of the abstract model. The Specificaton class has a method to return a suitable set of data. The model parameters are dependent on the sets that the user defines so the parameters need to be consistent. \n",
    "\n",
    "In practice, we want to persist the model so we store user data in a JSON file. The dummy data is shown below."
   ]
  },
  {
   "cell_type": "code",
   "execution_count": 17,
   "metadata": {},
   "outputs": [
    {
     "data": {
      "text/plain": [
       "{'F_m': ['f1', 'f2'],\n",
       " 'F_s': ['fs1'],\n",
       " 'F_t': ['ft1'],\n",
       " 'D': ['d1', 'd2'],\n",
       " 'T': ['t1'],\n",
       " 'K': ['k1'],\n",
       " 'P_m': ['pm1'],\n",
       " 'P_t': ['pt1'],\n",
       " 'P_s': ['ps1'],\n",
       " 'E': ['e1', 'e2', 'e3'],\n",
       " 'KPI': ['kpi1'],\n",
       " 'OBJ': ['environment', 'cost'],\n",
       " 'F': ['f1', 'f2', 'fs1', 'ft1'],\n",
       " 'P': ['pm1', 'ps1', 'pt1'],\n",
       " 'C': [{'index': ['f1', 'k1', 'd1', 't1'], 'value': 2},\n",
       "  {'index': ['f1', 'k1', 'd2', 't1'], 'value': 2},\n",
       "  {'index': ['f2', 'k1', 'd1', 't1'], 'value': 2},\n",
       "  {'index': ['f2', 'k1', 'd2', 't1'], 'value': 2}],\n",
       " 'U': [{'index': ['f1', 'ft1'], 'value': 2},\n",
       "  {'index': ['f2', 'ft1'], 'value': 2}],\n",
       " 'd': [{'index': ['pm1', 'f1', 'k1', 't1'], 'value': 2},\n",
       "  {'index': ['pm1', 'f2', 'k1', 't1'], 'value': 2}],\n",
       " 'Total_Demand': [{'index': ['d1', 'k1'], 'value': 1},\n",
       "  {'index': ['d2', 'k1'], 'value': 1}],\n",
       " 'Demand': [{'index': ['d1', 'k1', 't1'], 'value': 1},\n",
       "  {'index': ['d2', 'k1', 't1'], 'value': 1}],\n",
       " 'EI': [{'index': ['kpi1', 'f1', 'pm1'], 'value': 1},\n",
       "  {'index': ['kpi1', 'f1', 'ps1'], 'value': 1},\n",
       "  {'index': ['kpi1', 'f1', 'pt1'], 'value': 1},\n",
       "  {'index': ['kpi1', 'f2', 'pm1'], 'value': 1},\n",
       "  {'index': ['kpi1', 'f2', 'ps1'], 'value': 1},\n",
       "  {'index': ['kpi1', 'f2', 'pt1'], 'value': 1},\n",
       "  {'index': ['kpi1', 'fs1', 'pm1'], 'value': 1},\n",
       "  {'index': ['kpi1', 'fs1', 'ps1'], 'value': 1},\n",
       "  {'index': ['kpi1', 'fs1', 'pt1'], 'value': 1},\n",
       "  {'index': ['kpi1', 'ft1', 'pm1'], 'value': 1},\n",
       "  {'index': ['kpi1', 'ft1', 'ps1'], 'value': 1},\n",
       "  {'index': ['kpi1', 'ft1', 'pt1'], 'value': 1}],\n",
       " 'phi': [{'index': ['f1', 'pm1', 't1'], 'value': 1},\n",
       "  {'index': ['f1', 'ps1', 't1'], 'value': 1},\n",
       "  {'index': ['f1', 'pt1', 't1'], 'value': 1},\n",
       "  {'index': ['f2', 'pm1', 't1'], 'value': 1},\n",
       "  {'index': ['f2', 'ps1', 't1'], 'value': 1},\n",
       "  {'index': ['f2', 'pt1', 't1'], 'value': 1},\n",
       "  {'index': ['fs1', 'pm1', 't1'], 'value': 1},\n",
       "  {'index': ['fs1', 'ps1', 't1'], 'value': 1},\n",
       "  {'index': ['fs1', 'pt1', 't1'], 'value': 1},\n",
       "  {'index': ['ft1', 'pm1', 't1'], 'value': 1},\n",
       "  {'index': ['ft1', 'ps1', 't1'], 'value': 1},\n",
       "  {'index': ['ft1', 'pt1', 't1'], 'value': 1}],\n",
       " 'Ef': [{'index': ['kpi1', 'e1'], 'value': 4},\n",
       "  {'index': ['kpi1', 'e2'], 'value': 4},\n",
       "  {'index': ['kpi1', 'e3'], 'value': 4}],\n",
       " 'EF': [{'index': ['e1', 'f1', 'pm1'], 'value': 5},\n",
       "  {'index': ['e1', 'f1', 'ps1'], 'value': 5},\n",
       "  {'index': ['e1', 'f1', 'pt1'], 'value': 5},\n",
       "  {'index': ['e1', 'f2', 'pm1'], 'value': 5},\n",
       "  {'index': ['e1', 'f2', 'ps1'], 'value': 5},\n",
       "  {'index': ['e1', 'f2', 'pt1'], 'value': 5},\n",
       "  {'index': ['e1', 'fs1', 'pm1'], 'value': 5},\n",
       "  {'index': ['e1', 'fs1', 'ps1'], 'value': 5},\n",
       "  {'index': ['e1', 'fs1', 'pt1'], 'value': 5},\n",
       "  {'index': ['e1', 'ft1', 'pm1'], 'value': 5},\n",
       "  {'index': ['e1', 'ft1', 'ps1'], 'value': 5},\n",
       "  {'index': ['e1', 'ft1', 'pt1'], 'value': 5},\n",
       "  {'index': ['e2', 'f1', 'pm1'], 'value': 5},\n",
       "  {'index': ['e2', 'f1', 'ps1'], 'value': 5},\n",
       "  {'index': ['e2', 'f1', 'pt1'], 'value': 5},\n",
       "  {'index': ['e2', 'f2', 'pm1'], 'value': 5},\n",
       "  {'index': ['e2', 'f2', 'ps1'], 'value': 5},\n",
       "  {'index': ['e2', 'f2', 'pt1'], 'value': 5},\n",
       "  {'index': ['e2', 'fs1', 'pm1'], 'value': 5},\n",
       "  {'index': ['e2', 'fs1', 'ps1'], 'value': 5},\n",
       "  {'index': ['e2', 'fs1', 'pt1'], 'value': 5},\n",
       "  {'index': ['e2', 'ft1', 'pm1'], 'value': 5},\n",
       "  {'index': ['e2', 'ft1', 'ps1'], 'value': 5},\n",
       "  {'index': ['e2', 'ft1', 'pt1'], 'value': 5},\n",
       "  {'index': ['e3', 'f1', 'pm1'], 'value': 5},\n",
       "  {'index': ['e3', 'f1', 'ps1'], 'value': 5},\n",
       "  {'index': ['e3', 'f1', 'pt1'], 'value': 5},\n",
       "  {'index': ['e3', 'f2', 'pm1'], 'value': 5},\n",
       "  {'index': ['e3', 'f2', 'ps1'], 'value': 5},\n",
       "  {'index': ['e3', 'f2', 'pt1'], 'value': 5},\n",
       "  {'index': ['e3', 'fs1', 'pm1'], 'value': 5},\n",
       "  {'index': ['e3', 'fs1', 'ps1'], 'value': 5},\n",
       "  {'index': ['e3', 'fs1', 'pt1'], 'value': 5},\n",
       "  {'index': ['e3', 'ft1', 'pm1'], 'value': 5},\n",
       "  {'index': ['e3', 'ft1', 'ps1'], 'value': 5},\n",
       "  {'index': ['e3', 'ft1', 'pt1'], 'value': 5}],\n",
       " 'J': [{'index': ['f1', 'pm1', 'ft1', 'pt1'], 'value': 0},\n",
       "  {'index': ['f2', 'pm1', 'ft1', 'pt1'], 'value': 0}],\n",
       " 'L': [{'index': ['f1', 'pm1', 'fs1', 'ps1'], 'value': 1},\n",
       "  {'index': ['f2', 'pm1', 'fs1', 'ps1'], 'value': 1}],\n",
       " 'w': [{'index': ['environment'], 'value': 0},\n",
       "  {'index': ['cost'], 'value': 0}]}"
      ]
     },
     "execution_count": 17,
     "metadata": {},
     "output_type": "execute_result"
    }
   ],
   "source": [
    "import json\n",
    "user_data = spec.get_dummy_data({'F_m': F_m})\n",
    "json_file = 'Configuration/specification_user_data.json' \n",
    "with open(json_file, 'w') as fp:\n",
    "    json.dump(user_data, fp, indent=4)\n",
    "user_data"
   ]
  },
  {
   "cell_type": "markdown",
   "metadata": {},
   "source": [
    "## Parameters\n",
    "\n",
    "Given the dummy set data, we can ask for parameter values from the user. For example, we can request the `Total Demand` which depends on the sets $D$ and $K$."
   ]
  },
  {
   "cell_type": "code",
   "execution_count": 18,
   "metadata": {},
   "outputs": [
    {
     "name": "stdout",
     "output_type": "stream",
     "text": [
      "WARNING: DEPRECATED: Providing construction data to SetOperator objects is\n",
      "    deprecated.  This data is ignored and in a future version will not be\n",
      "    allowed  (deprecated in 5.7) (called from\n",
      "    /home/paul/anaconda3/envs/LCA/lib/python3.7/site-\n",
      "    packages/pyomo/core/base/set.py:2969)\n",
      "WARNING: DEPRECATED: Providing construction data to SetOperator objects is\n",
      "    deprecated.  This data is ignored and in a future version will not be\n",
      "    allowed  (deprecated in 5.7) (called from\n",
      "    /home/paul/anaconda3/envs/LCA/lib/python3.7/site-\n",
      "    packages/pyomo/core/base/set.py:2969)\n"
     ]
    },
    {
     "data": {
      "application/vnd.jupyter.widget-view+json": {
       "model_id": "e90603141d384c549a12cbb4343069bd",
       "version_major": 2,
       "version_minor": 0
      },
      "text/plain": [
       "QgridWidget(grid_options={'fullWidthRows': True, 'syncColumnCellResize': True, 'forceFitColumns': True, 'defau…"
      ]
     },
     "metadata": {},
     "output_type": "display_data"
    }
   ],
   "source": [
    "import qgrid\n",
    "import mola.utils as mu\n",
    "param_dfr = spec.get_param_dfr(json_file)\n",
    "unnested_param_dfr = mu.unnest(param_dfr, ['Index', 'Value'])\n",
    "param_qg = qgrid.show_grid(unnested_param_dfr, grid_options={'maxVisibleRows': 10})\n",
    "param_qg"
   ]
  },
  {
   "cell_type": "code",
   "execution_count": 19,
   "metadata": {},
   "outputs": [
    {
     "data": {
      "text/plain": [
       "{'C': [{'index': ('f1', 'k1', 'd1', 't1'), 'value': 2},\n",
       "  {'index': ('f1', 'k1', 'd2', 't1'), 'value': 2},\n",
       "  {'index': ('f2', 'k1', 'd1', 't1'), 'value': 2},\n",
       "  {'index': ('f2', 'k1', 'd2', 't1'), 'value': 2}],\n",
       " 'Demand': [{'index': ('d1', 'k1', 't1'), 'value': 1},\n",
       "  {'index': ('d2', 'k1', 't1'), 'value': 1}],\n",
       " 'J': [{'index': ('f1', 'pm1', 'ft1', 'pt1'), 'value': 0},\n",
       "  {'index': ('f2', 'pm1', 'ft1', 'pt1'), 'value': 0}],\n",
       " 'L': [{'index': ('f1', 'pm1', 'fs1', 'ps1'), 'value': 1},\n",
       "  {'index': ('f2', 'pm1', 'fs1', 'ps1'), 'value': 1}],\n",
       " 'Total_Demand': [{'index': ('d1', 'k1'), 'value': 1},\n",
       "  {'index': ('d2', 'k1'), 'value': 1}],\n",
       " 'U': [{'index': ('f1', 'ft1'), 'value': 2},\n",
       "  {'index': ('f2', 'ft1'), 'value': 2}],\n",
       " 'd': [{'index': ('pm1', 'f1', 'k1', 't1'), 'value': 2},\n",
       "  {'index': ('pm1', 'f2', 'k1', 't1'), 'value': 2}]}"
      ]
     },
     "execution_count": 19,
     "metadata": {},
     "output_type": "execute_result"
    }
   ],
   "source": [
    "dfr = param_qg.get_changed_df()[['Param', 'Index', 'Value']]\n",
    "dfr.set_index('Param').to_dict('split')\n",
    "def x(l):\n",
    "    return {'index': l[0], 'value':l[1]}\n",
    "updated_parameters_dict = dfr.groupby('Param')[['Index','Value']].apply(lambda g: list(map(x, g.values.tolist()))).to_dict()\n",
    "updated_parameters_dict"
   ]
  },
  {
   "cell_type": "markdown",
   "metadata": {},
   "source": [
    "We need to return the data to the JSON file."
   ]
  },
  {
   "cell_type": "code",
   "execution_count": 20,
   "metadata": {},
   "outputs": [
    {
     "data": {
      "text/plain": [
       "{'F_m': ['f1', 'f2'],\n",
       " 'F_s': ['fs1'],\n",
       " 'F_t': ['ft1'],\n",
       " 'D': ['d1', 'd2'],\n",
       " 'T': ['t1'],\n",
       " 'K': ['k1'],\n",
       " 'P_m': ['pm1'],\n",
       " 'P_t': ['pt1'],\n",
       " 'P_s': ['ps1'],\n",
       " 'E': ['e1', 'e2', 'e3'],\n",
       " 'KPI': ['kpi1'],\n",
       " 'OBJ': ['environment', 'cost'],\n",
       " 'F': ['f1', 'f2', 'fs1', 'ft1'],\n",
       " 'P': ['pm1', 'ps1', 'pt1'],\n",
       " 'C': [{'index': ('f1', 'k1', 'd1', 't1'), 'value': 2},\n",
       "  {'index': ('f1', 'k1', 'd2', 't1'), 'value': 2},\n",
       "  {'index': ('f2', 'k1', 'd1', 't1'), 'value': 2},\n",
       "  {'index': ('f2', 'k1', 'd2', 't1'), 'value': 2}],\n",
       " 'U': [{'index': ('f1', 'ft1'), 'value': 2},\n",
       "  {'index': ('f2', 'ft1'), 'value': 2}],\n",
       " 'd': [{'index': ('pm1', 'f1', 'k1', 't1'), 'value': 2},\n",
       "  {'index': ('pm1', 'f2', 'k1', 't1'), 'value': 2}],\n",
       " 'Total_Demand': [{'index': ('d1', 'k1'), 'value': 1},\n",
       "  {'index': ('d2', 'k1'), 'value': 1}],\n",
       " 'Demand': [{'index': ('d1', 'k1', 't1'), 'value': 1},\n",
       "  {'index': ('d2', 'k1', 't1'), 'value': 1}],\n",
       " 'EI': [{'index': ['kpi1', 'f1', 'pm1'], 'value': 1},\n",
       "  {'index': ['kpi1', 'f1', 'ps1'], 'value': 1},\n",
       "  {'index': ['kpi1', 'f1', 'pt1'], 'value': 1},\n",
       "  {'index': ['kpi1', 'f2', 'pm1'], 'value': 1},\n",
       "  {'index': ['kpi1', 'f2', 'ps1'], 'value': 1},\n",
       "  {'index': ['kpi1', 'f2', 'pt1'], 'value': 1},\n",
       "  {'index': ['kpi1', 'fs1', 'pm1'], 'value': 1},\n",
       "  {'index': ['kpi1', 'fs1', 'ps1'], 'value': 1},\n",
       "  {'index': ['kpi1', 'fs1', 'pt1'], 'value': 1},\n",
       "  {'index': ['kpi1', 'ft1', 'pm1'], 'value': 1},\n",
       "  {'index': ['kpi1', 'ft1', 'ps1'], 'value': 1},\n",
       "  {'index': ['kpi1', 'ft1', 'pt1'], 'value': 1}],\n",
       " 'phi': [{'index': ['f1', 'pm1', 't1'], 'value': 1},\n",
       "  {'index': ['f1', 'ps1', 't1'], 'value': 1},\n",
       "  {'index': ['f1', 'pt1', 't1'], 'value': 1},\n",
       "  {'index': ['f2', 'pm1', 't1'], 'value': 1},\n",
       "  {'index': ['f2', 'ps1', 't1'], 'value': 1},\n",
       "  {'index': ['f2', 'pt1', 't1'], 'value': 1},\n",
       "  {'index': ['fs1', 'pm1', 't1'], 'value': 1},\n",
       "  {'index': ['fs1', 'ps1', 't1'], 'value': 1},\n",
       "  {'index': ['fs1', 'pt1', 't1'], 'value': 1},\n",
       "  {'index': ['ft1', 'pm1', 't1'], 'value': 1},\n",
       "  {'index': ['ft1', 'ps1', 't1'], 'value': 1},\n",
       "  {'index': ['ft1', 'pt1', 't1'], 'value': 1}],\n",
       " 'Ef': [{'index': ['kpi1', 'e1'], 'value': 4},\n",
       "  {'index': ['kpi1', 'e2'], 'value': 4},\n",
       "  {'index': ['kpi1', 'e3'], 'value': 4}],\n",
       " 'EF': [{'index': ['e1', 'f1', 'pm1'], 'value': 5},\n",
       "  {'index': ['e1', 'f1', 'ps1'], 'value': 5},\n",
       "  {'index': ['e1', 'f1', 'pt1'], 'value': 5},\n",
       "  {'index': ['e1', 'f2', 'pm1'], 'value': 5},\n",
       "  {'index': ['e1', 'f2', 'ps1'], 'value': 5},\n",
       "  {'index': ['e1', 'f2', 'pt1'], 'value': 5},\n",
       "  {'index': ['e1', 'fs1', 'pm1'], 'value': 5},\n",
       "  {'index': ['e1', 'fs1', 'ps1'], 'value': 5},\n",
       "  {'index': ['e1', 'fs1', 'pt1'], 'value': 5},\n",
       "  {'index': ['e1', 'ft1', 'pm1'], 'value': 5},\n",
       "  {'index': ['e1', 'ft1', 'ps1'], 'value': 5},\n",
       "  {'index': ['e1', 'ft1', 'pt1'], 'value': 5},\n",
       "  {'index': ['e2', 'f1', 'pm1'], 'value': 5},\n",
       "  {'index': ['e2', 'f1', 'ps1'], 'value': 5},\n",
       "  {'index': ['e2', 'f1', 'pt1'], 'value': 5},\n",
       "  {'index': ['e2', 'f2', 'pm1'], 'value': 5},\n",
       "  {'index': ['e2', 'f2', 'ps1'], 'value': 5},\n",
       "  {'index': ['e2', 'f2', 'pt1'], 'value': 5},\n",
       "  {'index': ['e2', 'fs1', 'pm1'], 'value': 5},\n",
       "  {'index': ['e2', 'fs1', 'ps1'], 'value': 5},\n",
       "  {'index': ['e2', 'fs1', 'pt1'], 'value': 5},\n",
       "  {'index': ['e2', 'ft1', 'pm1'], 'value': 5},\n",
       "  {'index': ['e2', 'ft1', 'ps1'], 'value': 5},\n",
       "  {'index': ['e2', 'ft1', 'pt1'], 'value': 5},\n",
       "  {'index': ['e3', 'f1', 'pm1'], 'value': 5},\n",
       "  {'index': ['e3', 'f1', 'ps1'], 'value': 5},\n",
       "  {'index': ['e3', 'f1', 'pt1'], 'value': 5},\n",
       "  {'index': ['e3', 'f2', 'pm1'], 'value': 5},\n",
       "  {'index': ['e3', 'f2', 'ps1'], 'value': 5},\n",
       "  {'index': ['e3', 'f2', 'pt1'], 'value': 5},\n",
       "  {'index': ['e3', 'fs1', 'pm1'], 'value': 5},\n",
       "  {'index': ['e3', 'fs1', 'ps1'], 'value': 5},\n",
       "  {'index': ['e3', 'fs1', 'pt1'], 'value': 5},\n",
       "  {'index': ['e3', 'ft1', 'pm1'], 'value': 5},\n",
       "  {'index': ['e3', 'ft1', 'ps1'], 'value': 5},\n",
       "  {'index': ['e3', 'ft1', 'pt1'], 'value': 5}],\n",
       " 'J': [{'index': ('f1', 'pm1', 'ft1', 'pt1'), 'value': 0},\n",
       "  {'index': ('f2', 'pm1', 'ft1', 'pt1'), 'value': 0}],\n",
       " 'L': [{'index': ('f1', 'pm1', 'fs1', 'ps1'), 'value': 1},\n",
       "  {'index': ('f2', 'pm1', 'fs1', 'ps1'), 'value': 1}],\n",
       " 'w': [{'index': ['environment'], 'value': 0},\n",
       "  {'index': ['cost'], 'value': 0}]}"
      ]
     },
     "execution_count": 20,
     "metadata": {},
     "output_type": "execute_result"
    }
   ],
   "source": [
    "with open(json_file) as fp:\n",
    "    json_data = json.load(fp)\n",
    "json_data.update(updated_parameters_dict)\n",
    "with open(json_file, 'w') as fp:\n",
    "    json.dump(json_data, fp)\n",
    "json_data"
   ]
  },
  {
   "cell_type": "markdown",
   "metadata": {},
   "source": [
    "\n",
    "# Build Phase\n",
    "\n",
    "In this phase we add data to the abstract model so generate a concrete model instance. The `populate` method in the Specification class uses a database and a JSON file and returns the concrete model. Here, we specify three dummy elementary flows because our dummy data is not in the openLCA database. The output shows the concrete environmental objective in the model."
   ]
  },
  {
   "cell_type": "code",
   "execution_count": 21,
   "metadata": {},
   "outputs": [
    {
     "name": "stdout",
     "output_type": "stream",
     "text": [
      "WARNING: DEPRECATED: Providing construction data to SetOperator objects is\n",
      "    deprecated.  This data is ignored and in a future version will not be\n",
      "    allowed  (deprecated in 5.7) (called from\n",
      "    /home/paul/anaconda3/envs/LCA/lib/python3.7/site-\n",
      "    packages/pyomo/core/base/set.py:2969)\n",
      "WARNING: DEPRECATED: Providing construction data to SetOperator objects is\n",
      "    deprecated.  This data is ignored and in a future version will not be\n",
      "    allowed  (deprecated in 5.7) (called from\n",
      "    /home/paul/anaconda3/envs/LCA/lib/python3.7/site-\n",
      "    packages/pyomo/core/base/set.py:2969)\n",
      "obj1 : Size=1, Index=KPI, Active=True\n",
      "    Key  : Active : Sense    : Expression\n",
      "    kpi1 :   True : minimize : Flow[f1,pm1,k1,t1] + Flow[f2,pm1,k1,t1] + Storage_Service_Flow[fs1,ps1,k1,t1] + Specific_Transport_Flow[ft1,pt1,k1,t1]\n"
     ]
    }
   ],
   "source": [
    "model_instance = spec.populate([json_file], elementary_flow_ref_ids=['e1', 'e2', 'e3'])\n",
    "model_instance.obj1.pprint()"
   ]
  },
  {
   "cell_type": "markdown",
   "metadata": {},
   "source": [
    "## Sets \n",
    "We can examine the contents of the populated sets in the model instance."
   ]
  },
  {
   "cell_type": "code",
   "execution_count": 22,
   "metadata": {},
   "outputs": [
    {
     "data": {
      "text/html": [
       "<div>\n",
       "<style scoped>\n",
       "    .dataframe tbody tr th:only-of-type {\n",
       "        vertical-align: middle;\n",
       "    }\n",
       "\n",
       "    .dataframe tbody tr th {\n",
       "        vertical-align: top;\n",
       "    }\n",
       "\n",
       "    .dataframe thead th {\n",
       "        text-align: right;\n",
       "    }\n",
       "</style>\n",
       "<table border=\"1\" class=\"dataframe\">\n",
       "  <thead>\n",
       "    <tr style=\"text-align: right;\">\n",
       "      <th></th>\n",
       "      <th>Set</th>\n",
       "      <th>Description</th>\n",
       "      <th>Number of elements</th>\n",
       "    </tr>\n",
       "  </thead>\n",
       "  <tbody>\n",
       "    <tr>\n",
       "      <th>0</th>\n",
       "      <td>P_m</td>\n",
       "      <td>Processes producing material flows in the opti...</td>\n",
       "      <td>1</td>\n",
       "    </tr>\n",
       "    <tr>\n",
       "      <th>1</th>\n",
       "      <td>P_t</td>\n",
       "      <td>Processes producing transport flows in the opt...</td>\n",
       "      <td>1</td>\n",
       "    </tr>\n",
       "    <tr>\n",
       "      <th>2</th>\n",
       "      <td>P_s</td>\n",
       "      <td>Processes producing service flows in the optim...</td>\n",
       "      <td>1</td>\n",
       "    </tr>\n",
       "    <tr>\n",
       "      <th>3</th>\n",
       "      <td>F_m</td>\n",
       "      <td>Material flows to optimise</td>\n",
       "      <td>2</td>\n",
       "    </tr>\n",
       "    <tr>\n",
       "      <th>4</th>\n",
       "      <td>F_t</td>\n",
       "      <td>Transport flows to optimise</td>\n",
       "      <td>1</td>\n",
       "    </tr>\n",
       "    <tr>\n",
       "      <th>5</th>\n",
       "      <td>F_s</td>\n",
       "      <td>Service flows to optimise</td>\n",
       "      <td>1</td>\n",
       "    </tr>\n",
       "    <tr>\n",
       "      <th>6</th>\n",
       "      <td>T</td>\n",
       "      <td>Time intervals</td>\n",
       "      <td>1</td>\n",
       "    </tr>\n",
       "    <tr>\n",
       "      <th>7</th>\n",
       "      <td>K</td>\n",
       "      <td>Tasks</td>\n",
       "      <td>1</td>\n",
       "    </tr>\n",
       "    <tr>\n",
       "      <th>8</th>\n",
       "      <td>D</td>\n",
       "      <td>Demands</td>\n",
       "      <td>2</td>\n",
       "    </tr>\n",
       "    <tr>\n",
       "      <th>9</th>\n",
       "      <td>KPI</td>\n",
       "      <td>Performance indicators for optimisation problem</td>\n",
       "      <td>1</td>\n",
       "    </tr>\n",
       "    <tr>\n",
       "      <th>10</th>\n",
       "      <td>F_index_0</td>\n",
       "      <td>None</td>\n",
       "      <td>3</td>\n",
       "    </tr>\n",
       "    <tr>\n",
       "      <th>11</th>\n",
       "      <td>F</td>\n",
       "      <td>None</td>\n",
       "      <td>4</td>\n",
       "    </tr>\n",
       "    <tr>\n",
       "      <th>12</th>\n",
       "      <td>P_index_0</td>\n",
       "      <td>None</td>\n",
       "      <td>2</td>\n",
       "    </tr>\n",
       "    <tr>\n",
       "      <th>13</th>\n",
       "      <td>P</td>\n",
       "      <td>None</td>\n",
       "      <td>3</td>\n",
       "    </tr>\n",
       "    <tr>\n",
       "      <th>14</th>\n",
       "      <td>OBJ</td>\n",
       "      <td>Set of objective functions</td>\n",
       "      <td>2</td>\n",
       "    </tr>\n",
       "    <tr>\n",
       "      <th>15</th>\n",
       "      <td>AF</td>\n",
       "      <td>All flows in openLCA database</td>\n",
       "      <td>7033</td>\n",
       "    </tr>\n",
       "    <tr>\n",
       "      <th>16</th>\n",
       "      <td>E</td>\n",
       "      <td>Elementary Flows in OpenLCA database</td>\n",
       "      <td>3</td>\n",
       "    </tr>\n",
       "    <tr>\n",
       "      <th>17</th>\n",
       "      <td>AP</td>\n",
       "      <td>All processes from in OpenLCA database</td>\n",
       "      <td>18268</td>\n",
       "    </tr>\n",
       "    <tr>\n",
       "      <th>18</th>\n",
       "      <td>AKPI</td>\n",
       "      <td>All key performance indicators in an openLCA d...</td>\n",
       "      <td>878</td>\n",
       "    </tr>\n",
       "    <tr>\n",
       "      <th>19</th>\n",
       "      <td>C_index</td>\n",
       "      <td>None</td>\n",
       "      <td>4</td>\n",
       "    </tr>\n",
       "    <tr>\n",
       "      <th>20</th>\n",
       "      <td>U_index</td>\n",
       "      <td>None</td>\n",
       "      <td>2</td>\n",
       "    </tr>\n",
       "    <tr>\n",
       "      <th>21</th>\n",
       "      <td>Demand_index</td>\n",
       "      <td>None</td>\n",
       "      <td>2</td>\n",
       "    </tr>\n",
       "    <tr>\n",
       "      <th>22</th>\n",
       "      <td>Total_Demand_index</td>\n",
       "      <td>None</td>\n",
       "      <td>2</td>\n",
       "    </tr>\n",
       "    <tr>\n",
       "      <th>23</th>\n",
       "      <td>L_index</td>\n",
       "      <td>None</td>\n",
       "      <td>2</td>\n",
       "    </tr>\n",
       "    <tr>\n",
       "      <th>24</th>\n",
       "      <td>X_index</td>\n",
       "      <td>None</td>\n",
       "      <td>1</td>\n",
       "    </tr>\n",
       "    <tr>\n",
       "      <th>25</th>\n",
       "      <td>Y_index</td>\n",
       "      <td>None</td>\n",
       "      <td>1</td>\n",
       "    </tr>\n",
       "    <tr>\n",
       "      <th>26</th>\n",
       "      <td>d_index</td>\n",
       "      <td>None</td>\n",
       "      <td>6</td>\n",
       "    </tr>\n",
       "    <tr>\n",
       "      <th>27</th>\n",
       "      <td>J_index</td>\n",
       "      <td>None</td>\n",
       "      <td>2</td>\n",
       "    </tr>\n",
       "    <tr>\n",
       "      <th>28</th>\n",
       "      <td>Ef_index</td>\n",
       "      <td>None</td>\n",
       "      <td>3</td>\n",
       "    </tr>\n",
       "    <tr>\n",
       "      <th>29</th>\n",
       "      <td>EF_index</td>\n",
       "      <td>None</td>\n",
       "      <td>36</td>\n",
       "    </tr>\n",
       "    <tr>\n",
       "      <th>30</th>\n",
       "      <td>phi_index</td>\n",
       "      <td>None</td>\n",
       "      <td>12</td>\n",
       "    </tr>\n",
       "    <tr>\n",
       "      <th>31</th>\n",
       "      <td>EI_index</td>\n",
       "      <td>None</td>\n",
       "      <td>12</td>\n",
       "    </tr>\n",
       "    <tr>\n",
       "      <th>32</th>\n",
       "      <td>XI_index</td>\n",
       "      <td>None</td>\n",
       "      <td>2</td>\n",
       "    </tr>\n",
       "    <tr>\n",
       "      <th>33</th>\n",
       "      <td>YI_index</td>\n",
       "      <td>None</td>\n",
       "      <td>2</td>\n",
       "    </tr>\n",
       "    <tr>\n",
       "      <th>34</th>\n",
       "      <td>dd_index</td>\n",
       "      <td>None</td>\n",
       "      <td>2</td>\n",
       "    </tr>\n",
       "    <tr>\n",
       "      <th>35</th>\n",
       "      <td>Flow_index</td>\n",
       "      <td>None</td>\n",
       "      <td>2</td>\n",
       "    </tr>\n",
       "    <tr>\n",
       "      <th>36</th>\n",
       "      <td>Storage_Service_Flow_index</td>\n",
       "      <td>None</td>\n",
       "      <td>12</td>\n",
       "    </tr>\n",
       "    <tr>\n",
       "      <th>37</th>\n",
       "      <td>Specific_Material_Transport_Flow_index</td>\n",
       "      <td>None</td>\n",
       "      <td>2</td>\n",
       "    </tr>\n",
       "    <tr>\n",
       "      <th>38</th>\n",
       "      <td>Specific_Transport_Flow_index</td>\n",
       "      <td>None</td>\n",
       "      <td>1</td>\n",
       "    </tr>\n",
       "    <tr>\n",
       "      <th>39</th>\n",
       "      <td>Demand_Selection_index</td>\n",
       "      <td>None</td>\n",
       "      <td>2</td>\n",
       "    </tr>\n",
       "    <tr>\n",
       "      <th>40</th>\n",
       "      <td>total_demand_constraint_index</td>\n",
       "      <td>None</td>\n",
       "      <td>2</td>\n",
       "    </tr>\n",
       "    <tr>\n",
       "      <th>41</th>\n",
       "      <td>material_flow_constraint_index</td>\n",
       "      <td>None</td>\n",
       "      <td>2</td>\n",
       "    </tr>\n",
       "    <tr>\n",
       "      <th>42</th>\n",
       "      <td>transport_constraint_index</td>\n",
       "      <td>None</td>\n",
       "      <td>1</td>\n",
       "    </tr>\n",
       "    <tr>\n",
       "      <th>43</th>\n",
       "      <td>demand_selection_constraint_index</td>\n",
       "      <td>None</td>\n",
       "      <td>1</td>\n",
       "    </tr>\n",
       "    <tr>\n",
       "      <th>44</th>\n",
       "      <td>specific_demand_constraint_index</td>\n",
       "      <td>None</td>\n",
       "      <td>2</td>\n",
       "    </tr>\n",
       "    <tr>\n",
       "      <th>45</th>\n",
       "      <td>service_flow_link_constraint_index</td>\n",
       "      <td>None</td>\n",
       "      <td>1</td>\n",
       "    </tr>\n",
       "  </tbody>\n",
       "</table>\n",
       "</div>"
      ],
      "text/plain": [
       "                                       Set  \\\n",
       "0                                      P_m   \n",
       "1                                      P_t   \n",
       "2                                      P_s   \n",
       "3                                      F_m   \n",
       "4                                      F_t   \n",
       "5                                      F_s   \n",
       "6                                        T   \n",
       "7                                        K   \n",
       "8                                        D   \n",
       "9                                      KPI   \n",
       "10                               F_index_0   \n",
       "11                                       F   \n",
       "12                               P_index_0   \n",
       "13                                       P   \n",
       "14                                     OBJ   \n",
       "15                                      AF   \n",
       "16                                       E   \n",
       "17                                      AP   \n",
       "18                                    AKPI   \n",
       "19                                 C_index   \n",
       "20                                 U_index   \n",
       "21                            Demand_index   \n",
       "22                      Total_Demand_index   \n",
       "23                                 L_index   \n",
       "24                                 X_index   \n",
       "25                                 Y_index   \n",
       "26                                 d_index   \n",
       "27                                 J_index   \n",
       "28                                Ef_index   \n",
       "29                                EF_index   \n",
       "30                               phi_index   \n",
       "31                                EI_index   \n",
       "32                                XI_index   \n",
       "33                                YI_index   \n",
       "34                                dd_index   \n",
       "35                              Flow_index   \n",
       "36              Storage_Service_Flow_index   \n",
       "37  Specific_Material_Transport_Flow_index   \n",
       "38           Specific_Transport_Flow_index   \n",
       "39                  Demand_Selection_index   \n",
       "40           total_demand_constraint_index   \n",
       "41          material_flow_constraint_index   \n",
       "42              transport_constraint_index   \n",
       "43       demand_selection_constraint_index   \n",
       "44        specific_demand_constraint_index   \n",
       "45      service_flow_link_constraint_index   \n",
       "\n",
       "                                          Description  Number of elements  \n",
       "0   Processes producing material flows in the opti...                   1  \n",
       "1   Processes producing transport flows in the opt...                   1  \n",
       "2   Processes producing service flows in the optim...                   1  \n",
       "3                          Material flows to optimise                   2  \n",
       "4                         Transport flows to optimise                   1  \n",
       "5                           Service flows to optimise                   1  \n",
       "6                                      Time intervals                   1  \n",
       "7                                               Tasks                   1  \n",
       "8                                             Demands                   2  \n",
       "9     Performance indicators for optimisation problem                   1  \n",
       "10                                               None                   3  \n",
       "11                                               None                   4  \n",
       "12                                               None                   2  \n",
       "13                                               None                   3  \n",
       "14                         Set of objective functions                   2  \n",
       "15                      All flows in openLCA database                7033  \n",
       "16               Elementary Flows in OpenLCA database                   3  \n",
       "17             All processes from in OpenLCA database               18268  \n",
       "18  All key performance indicators in an openLCA d...                 878  \n",
       "19                                               None                   4  \n",
       "20                                               None                   2  \n",
       "21                                               None                   2  \n",
       "22                                               None                   2  \n",
       "23                                               None                   2  \n",
       "24                                               None                   1  \n",
       "25                                               None                   1  \n",
       "26                                               None                   6  \n",
       "27                                               None                   2  \n",
       "28                                               None                   3  \n",
       "29                                               None                  36  \n",
       "30                                               None                  12  \n",
       "31                                               None                  12  \n",
       "32                                               None                   2  \n",
       "33                                               None                   2  \n",
       "34                                               None                   2  \n",
       "35                                               None                   2  \n",
       "36                                               None                  12  \n",
       "37                                               None                   2  \n",
       "38                                               None                   1  \n",
       "39                                               None                   2  \n",
       "40                                               None                   2  \n",
       "41                                               None                   2  \n",
       "42                                               None                   1  \n",
       "43                                               None                   1  \n",
       "44                                               None                   2  \n",
       "45                                               None                   1  "
      ]
     },
     "execution_count": 22,
     "metadata": {},
     "output_type": "execute_result"
    }
   ],
   "source": [
    "sets_dfr = pd.DataFrame(\n",
    "    ([v.name, v.doc, len(v)] for v in model_instance.component_objects(Set, active=True)),\n",
    "    columns=['Set', 'Description', 'Number of elements']\n",
    ")\n",
    "sets_dfr"
   ]
  },
  {
   "cell_type": "markdown",
   "metadata": {},
   "source": [
    "## Parameters\n",
    "\n",
    "The built model parameters are shown below. these reflect the dummy data set that we are using as well as any user configuration."
   ]
  },
  {
   "cell_type": "code",
   "execution_count": 23,
   "metadata": {},
   "outputs": [
    {
     "data": {
      "application/vnd.jupyter.widget-view+json": {
       "model_id": "4acfd4fe5e444eb58b529df0d9d3c024",
       "version_major": 2,
       "version_minor": 0
      },
      "text/plain": [
       "QgridWidget(grid_options={'fullWidthRows': True, 'syncColumnCellResize': True, 'forceFitColumns': True, 'defau…"
      ]
     },
     "metadata": {},
     "output_type": "display_data"
    }
   ],
   "source": [
    "import qgrid\n",
    "param_dfr = pd.DataFrame(\n",
    "    ([o.name, o.doc, len(o), [index for index in o], [value(o[index]) for index in o]] for o in model_instance.component_objects(Param, active=True)),\n",
    "    columns=['Param', 'Description', 'Number of elements', 'Dimension', 'Value']\n",
    ")\n",
    "qgrid.show_grid(param_dfr)"
   ]
  },
  {
   "cell_type": "markdown",
   "metadata": {},
   "source": [
    "## Constraints\n",
    "\n",
    "We can also see the concrete constraints."
   ]
  },
  {
   "cell_type": "code",
   "execution_count": 24,
   "metadata": {},
   "outputs": [
    {
     "data": {
      "application/vnd.jupyter.widget-view+json": {
       "model_id": "056fc02aa55e4891a0834e6a1bfc675f",
       "version_major": 2,
       "version_minor": 0
      },
      "text/plain": [
       "QgridWidget(grid_options={'fullWidthRows': True, 'syncColumnCellResize': True, 'forceFitColumns': True, 'defau…"
      ]
     },
     "metadata": {},
     "output_type": "display_data"
    }
   ],
   "source": [
    "import qgrid\n",
    "dfr = pd.DataFrame(\n",
    "    ([v.name, v.expr] for v in model_instance.component_data_objects(Constraint, active=True)),\n",
    "    columns=['Constraint', 'Expression']\n",
    ")\n",
    "qgrid.show_grid(dfr)"
   ]
  },
  {
   "cell_type": "markdown",
   "metadata": {},
   "source": [
    "## Objectives\n",
    "\n",
    "We can also see the concrete objectives. These will need to be either activated or weight summed before solution before\n",
    "solution because pyomo only supports a single objective function."
   ]
  },
  {
   "cell_type": "code",
   "execution_count": 25,
   "metadata": {},
   "outputs": [
    {
     "data": {
      "application/vnd.jupyter.widget-view+json": {
       "model_id": "d5f1029978f44be1af3d77473908382d",
       "version_major": 2,
       "version_minor": 0
      },
      "text/plain": [
       "QgridWidget(grid_options={'fullWidthRows': True, 'syncColumnCellResize': True, 'forceFitColumns': True, 'defau…"
      ]
     },
     "metadata": {},
     "output_type": "display_data"
    }
   ],
   "source": [
    "dfr = pd.DataFrame(\n",
    "    ([v.name, v.expr] for v in model_instance.component_data_objects(Objective, active=True)),\n",
    "    columns=['Objective', 'Expression']\n",
    ")\n",
    "\n",
    "qgrid.show_grid(dfr)"
   ]
  },
  {
   "cell_type": "markdown",
   "metadata": {},
   "source": [
    "We activate the first environmental objective."
   ]
  },
  {
   "cell_type": "code",
   "execution_count": 26,
   "metadata": {},
   "outputs": [],
   "source": [
    "model_instance.obj.deactivate()\n",
    "model_instance.obj2.deactivate()\n",
    "model_instance.obj1.activate()"
   ]
  },
  {
   "cell_type": "markdown",
   "metadata": {},
   "source": [
    "# Apply Solver\n",
    "\n",
    "This is an artificial problem, but for completeness we can still apply a solver."
   ]
  },
  {
   "cell_type": "code",
   "execution_count": 27,
   "metadata": {},
   "outputs": [
    {
     "name": "stdout",
     "output_type": "stream",
     "text": [
      "# ==========================================================\n",
      "# = Solver Results                                         =\n",
      "# ==========================================================\n",
      "# ----------------------------------------------------------\n",
      "#   Problem Information\n",
      "# ----------------------------------------------------------\n",
      "Problem: \n",
      "- Name: unknown\n",
      "  Lower bound: -inf\n",
      "  Upper bound: inf\n",
      "  Number of objectives: 1\n",
      "  Number of constraints: 10\n",
      "  Number of variables: 9\n",
      "  Number of nonzeros: 19\n",
      "  Sense: minimize\n",
      "# ----------------------------------------------------------\n",
      "#   Solver Information\n",
      "# ----------------------------------------------------------\n",
      "Solver: \n",
      "- Status: ok\n",
      "  Termination condition: infeasible\n",
      "  Statistics: \n",
      "    Branch and bound: \n",
      "      Number of bounded subproblems: 0\n",
      "      Number of created subproblems: 0\n",
      "  Error rc: 0\n",
      "  Time: 0.019709110260009766\n"
     ]
    }
   ],
   "source": [
    "opt = SolverFactory(\"glpk\")\n",
    "results = opt.solve(model_instance)\n",
    "results.write()"
   ]
  },
  {
   "cell_type": "code",
   "execution_count": 28,
   "metadata": {},
   "outputs": [
    {
     "name": "stdout",
     "output_type": "stream",
     "text": [
      "Flow : Material flow\n",
      "    Size=2, Index=Flow_index\n",
      "    Key                       : Lower : Value : Upper : Fixed : Stale : Domain\n",
      "    ('f1', 'pm1', 'k1', 't1') :     0 :  None :  None : False :  True : NonNegativeReals\n",
      "    ('f2', 'pm1', 'k1', 't1') :     0 :  None :  None : False :  True : NonNegativeReals\n",
      "Specific_Material_Transport_Flow : Specific Material Transport Flow\n",
      "    Size=2, Index=Specific_Material_Transport_Flow_index\n",
      "    Key                                     : Lower : Value : Upper : Fixed : Stale : Domain\n",
      "    ('f1', 'pm1', 'ft1', 'pt1', 'k1', 't1') :     0 :  None :  None : False :  True : NonNegativeReals\n",
      "    ('f2', 'pm1', 'ft1', 'pt1', 'k1', 't1') :     0 :  None :  None : False :  True : NonNegativeReals\n",
      "Specific_Transport_Flow : Specific Transport Flow\n",
      "    Size=1, Index=Specific_Transport_Flow_index\n",
      "    Key                        : Lower : Value : Upper : Fixed : Stale : Domain\n",
      "    ('ft1', 'pt1', 'k1', 't1') :     0 :  None :  None : False :  True : NonNegativeReals\n"
     ]
    }
   ],
   "source": [
    "model_instance.Flow.display()\n",
    "model_instance.Specific_Material_Transport_Flow.display()\n",
    "model_instance.Specific_Transport_Flow.display()"
   ]
  },
  {
   "cell_type": "markdown",
   "metadata": {},
   "source": [
    "# Model output\n",
    "\n",
    "The `mola.output` module can be used to convert the pyomo concrete model to DataFrames."
   ]
  },
  {
   "cell_type": "code",
   "execution_count": 29,
   "metadata": {},
   "outputs": [],
   "source": [
    "import mola.output as mo"
   ]
  },
  {
   "cell_type": "markdown",
   "metadata": {},
   "source": [
    "For example, we can interrogate the model instance and show all the sets using a function call."
   ]
  },
  {
   "cell_type": "code",
   "execution_count": 30,
   "metadata": {},
   "outputs": [
    {
     "data": {
      "text/html": [
       "<div>\n",
       "<style scoped>\n",
       "    .dataframe tbody tr th:only-of-type {\n",
       "        vertical-align: middle;\n",
       "    }\n",
       "\n",
       "    .dataframe tbody tr th {\n",
       "        vertical-align: top;\n",
       "    }\n",
       "\n",
       "    .dataframe thead th {\n",
       "        text-align: right;\n",
       "    }\n",
       "</style>\n",
       "<table border=\"1\" class=\"dataframe\">\n",
       "  <thead>\n",
       "    <tr style=\"text-align: right;\">\n",
       "      <th></th>\n",
       "      <th>Set</th>\n",
       "      <th>Description</th>\n",
       "      <th>Number of elements</th>\n",
       "    </tr>\n",
       "  </thead>\n",
       "  <tbody>\n",
       "    <tr>\n",
       "      <th>0</th>\n",
       "      <td>P_m</td>\n",
       "      <td>Processes producing material flows in the opti...</td>\n",
       "      <td>1</td>\n",
       "    </tr>\n",
       "    <tr>\n",
       "      <th>1</th>\n",
       "      <td>P_t</td>\n",
       "      <td>Processes producing transport flows in the opt...</td>\n",
       "      <td>1</td>\n",
       "    </tr>\n",
       "    <tr>\n",
       "      <th>2</th>\n",
       "      <td>P_s</td>\n",
       "      <td>Processes producing service flows in the optim...</td>\n",
       "      <td>1</td>\n",
       "    </tr>\n",
       "    <tr>\n",
       "      <th>3</th>\n",
       "      <td>F_m</td>\n",
       "      <td>Material flows to optimise</td>\n",
       "      <td>2</td>\n",
       "    </tr>\n",
       "    <tr>\n",
       "      <th>4</th>\n",
       "      <td>F_t</td>\n",
       "      <td>Transport flows to optimise</td>\n",
       "      <td>1</td>\n",
       "    </tr>\n",
       "    <tr>\n",
       "      <th>5</th>\n",
       "      <td>F_s</td>\n",
       "      <td>Service flows to optimise</td>\n",
       "      <td>1</td>\n",
       "    </tr>\n",
       "    <tr>\n",
       "      <th>6</th>\n",
       "      <td>T</td>\n",
       "      <td>Time intervals</td>\n",
       "      <td>1</td>\n",
       "    </tr>\n",
       "    <tr>\n",
       "      <th>7</th>\n",
       "      <td>K</td>\n",
       "      <td>Tasks</td>\n",
       "      <td>1</td>\n",
       "    </tr>\n",
       "    <tr>\n",
       "      <th>8</th>\n",
       "      <td>D</td>\n",
       "      <td>Demands</td>\n",
       "      <td>2</td>\n",
       "    </tr>\n",
       "    <tr>\n",
       "      <th>9</th>\n",
       "      <td>KPI</td>\n",
       "      <td>Performance indicators for optimisation problem</td>\n",
       "      <td>1</td>\n",
       "    </tr>\n",
       "    <tr>\n",
       "      <th>10</th>\n",
       "      <td>F_index_0</td>\n",
       "      <td>None</td>\n",
       "      <td>3</td>\n",
       "    </tr>\n",
       "    <tr>\n",
       "      <th>11</th>\n",
       "      <td>F</td>\n",
       "      <td>None</td>\n",
       "      <td>4</td>\n",
       "    </tr>\n",
       "    <tr>\n",
       "      <th>12</th>\n",
       "      <td>P_index_0</td>\n",
       "      <td>None</td>\n",
       "      <td>2</td>\n",
       "    </tr>\n",
       "    <tr>\n",
       "      <th>13</th>\n",
       "      <td>P</td>\n",
       "      <td>None</td>\n",
       "      <td>3</td>\n",
       "    </tr>\n",
       "    <tr>\n",
       "      <th>14</th>\n",
       "      <td>OBJ</td>\n",
       "      <td>Set of objective functions</td>\n",
       "      <td>2</td>\n",
       "    </tr>\n",
       "    <tr>\n",
       "      <th>15</th>\n",
       "      <td>AF</td>\n",
       "      <td>All flows in openLCA database</td>\n",
       "      <td>7033</td>\n",
       "    </tr>\n",
       "    <tr>\n",
       "      <th>16</th>\n",
       "      <td>E</td>\n",
       "      <td>Elementary Flows in OpenLCA database</td>\n",
       "      <td>3</td>\n",
       "    </tr>\n",
       "    <tr>\n",
       "      <th>17</th>\n",
       "      <td>AP</td>\n",
       "      <td>All processes from in OpenLCA database</td>\n",
       "      <td>18268</td>\n",
       "    </tr>\n",
       "    <tr>\n",
       "      <th>18</th>\n",
       "      <td>AKPI</td>\n",
       "      <td>All key performance indicators in an openLCA d...</td>\n",
       "      <td>878</td>\n",
       "    </tr>\n",
       "    <tr>\n",
       "      <th>19</th>\n",
       "      <td>C_index</td>\n",
       "      <td>None</td>\n",
       "      <td>4</td>\n",
       "    </tr>\n",
       "    <tr>\n",
       "      <th>20</th>\n",
       "      <td>U_index</td>\n",
       "      <td>None</td>\n",
       "      <td>2</td>\n",
       "    </tr>\n",
       "    <tr>\n",
       "      <th>21</th>\n",
       "      <td>Demand_index</td>\n",
       "      <td>None</td>\n",
       "      <td>2</td>\n",
       "    </tr>\n",
       "    <tr>\n",
       "      <th>22</th>\n",
       "      <td>Total_Demand_index</td>\n",
       "      <td>None</td>\n",
       "      <td>2</td>\n",
       "    </tr>\n",
       "    <tr>\n",
       "      <th>23</th>\n",
       "      <td>L_index</td>\n",
       "      <td>None</td>\n",
       "      <td>2</td>\n",
       "    </tr>\n",
       "    <tr>\n",
       "      <th>24</th>\n",
       "      <td>X_index</td>\n",
       "      <td>None</td>\n",
       "      <td>1</td>\n",
       "    </tr>\n",
       "    <tr>\n",
       "      <th>25</th>\n",
       "      <td>Y_index</td>\n",
       "      <td>None</td>\n",
       "      <td>1</td>\n",
       "    </tr>\n",
       "    <tr>\n",
       "      <th>26</th>\n",
       "      <td>d_index</td>\n",
       "      <td>None</td>\n",
       "      <td>6</td>\n",
       "    </tr>\n",
       "    <tr>\n",
       "      <th>27</th>\n",
       "      <td>J_index</td>\n",
       "      <td>None</td>\n",
       "      <td>2</td>\n",
       "    </tr>\n",
       "    <tr>\n",
       "      <th>28</th>\n",
       "      <td>Ef_index</td>\n",
       "      <td>None</td>\n",
       "      <td>3</td>\n",
       "    </tr>\n",
       "    <tr>\n",
       "      <th>29</th>\n",
       "      <td>EF_index</td>\n",
       "      <td>None</td>\n",
       "      <td>36</td>\n",
       "    </tr>\n",
       "    <tr>\n",
       "      <th>30</th>\n",
       "      <td>phi_index</td>\n",
       "      <td>None</td>\n",
       "      <td>12</td>\n",
       "    </tr>\n",
       "    <tr>\n",
       "      <th>31</th>\n",
       "      <td>EI_index</td>\n",
       "      <td>None</td>\n",
       "      <td>12</td>\n",
       "    </tr>\n",
       "    <tr>\n",
       "      <th>32</th>\n",
       "      <td>XI_index</td>\n",
       "      <td>None</td>\n",
       "      <td>2</td>\n",
       "    </tr>\n",
       "    <tr>\n",
       "      <th>33</th>\n",
       "      <td>YI_index</td>\n",
       "      <td>None</td>\n",
       "      <td>2</td>\n",
       "    </tr>\n",
       "    <tr>\n",
       "      <th>34</th>\n",
       "      <td>dd_index</td>\n",
       "      <td>None</td>\n",
       "      <td>2</td>\n",
       "    </tr>\n",
       "    <tr>\n",
       "      <th>35</th>\n",
       "      <td>Flow_index</td>\n",
       "      <td>None</td>\n",
       "      <td>2</td>\n",
       "    </tr>\n",
       "    <tr>\n",
       "      <th>36</th>\n",
       "      <td>Storage_Service_Flow_index</td>\n",
       "      <td>None</td>\n",
       "      <td>12</td>\n",
       "    </tr>\n",
       "    <tr>\n",
       "      <th>37</th>\n",
       "      <td>Specific_Material_Transport_Flow_index</td>\n",
       "      <td>None</td>\n",
       "      <td>2</td>\n",
       "    </tr>\n",
       "    <tr>\n",
       "      <th>38</th>\n",
       "      <td>Specific_Transport_Flow_index</td>\n",
       "      <td>None</td>\n",
       "      <td>1</td>\n",
       "    </tr>\n",
       "    <tr>\n",
       "      <th>39</th>\n",
       "      <td>Demand_Selection_index</td>\n",
       "      <td>None</td>\n",
       "      <td>2</td>\n",
       "    </tr>\n",
       "    <tr>\n",
       "      <th>40</th>\n",
       "      <td>total_demand_constraint_index</td>\n",
       "      <td>None</td>\n",
       "      <td>2</td>\n",
       "    </tr>\n",
       "    <tr>\n",
       "      <th>41</th>\n",
       "      <td>material_flow_constraint_index</td>\n",
       "      <td>None</td>\n",
       "      <td>2</td>\n",
       "    </tr>\n",
       "    <tr>\n",
       "      <th>42</th>\n",
       "      <td>transport_constraint_index</td>\n",
       "      <td>None</td>\n",
       "      <td>1</td>\n",
       "    </tr>\n",
       "    <tr>\n",
       "      <th>43</th>\n",
       "      <td>demand_selection_constraint_index</td>\n",
       "      <td>None</td>\n",
       "      <td>1</td>\n",
       "    </tr>\n",
       "    <tr>\n",
       "      <th>44</th>\n",
       "      <td>specific_demand_constraint_index</td>\n",
       "      <td>None</td>\n",
       "      <td>2</td>\n",
       "    </tr>\n",
       "    <tr>\n",
       "      <th>45</th>\n",
       "      <td>service_flow_link_constraint_index</td>\n",
       "      <td>None</td>\n",
       "      <td>1</td>\n",
       "    </tr>\n",
       "  </tbody>\n",
       "</table>\n",
       "</div>"
      ],
      "text/plain": [
       "                                       Set  \\\n",
       "0                                      P_m   \n",
       "1                                      P_t   \n",
       "2                                      P_s   \n",
       "3                                      F_m   \n",
       "4                                      F_t   \n",
       "5                                      F_s   \n",
       "6                                        T   \n",
       "7                                        K   \n",
       "8                                        D   \n",
       "9                                      KPI   \n",
       "10                               F_index_0   \n",
       "11                                       F   \n",
       "12                               P_index_0   \n",
       "13                                       P   \n",
       "14                                     OBJ   \n",
       "15                                      AF   \n",
       "16                                       E   \n",
       "17                                      AP   \n",
       "18                                    AKPI   \n",
       "19                                 C_index   \n",
       "20                                 U_index   \n",
       "21                            Demand_index   \n",
       "22                      Total_Demand_index   \n",
       "23                                 L_index   \n",
       "24                                 X_index   \n",
       "25                                 Y_index   \n",
       "26                                 d_index   \n",
       "27                                 J_index   \n",
       "28                                Ef_index   \n",
       "29                                EF_index   \n",
       "30                               phi_index   \n",
       "31                                EI_index   \n",
       "32                                XI_index   \n",
       "33                                YI_index   \n",
       "34                                dd_index   \n",
       "35                              Flow_index   \n",
       "36              Storage_Service_Flow_index   \n",
       "37  Specific_Material_Transport_Flow_index   \n",
       "38           Specific_Transport_Flow_index   \n",
       "39                  Demand_Selection_index   \n",
       "40           total_demand_constraint_index   \n",
       "41          material_flow_constraint_index   \n",
       "42              transport_constraint_index   \n",
       "43       demand_selection_constraint_index   \n",
       "44        specific_demand_constraint_index   \n",
       "45      service_flow_link_constraint_index   \n",
       "\n",
       "                                          Description  Number of elements  \n",
       "0   Processes producing material flows in the opti...                   1  \n",
       "1   Processes producing transport flows in the opt...                   1  \n",
       "2   Processes producing service flows in the optim...                   1  \n",
       "3                          Material flows to optimise                   2  \n",
       "4                         Transport flows to optimise                   1  \n",
       "5                           Service flows to optimise                   1  \n",
       "6                                      Time intervals                   1  \n",
       "7                                               Tasks                   1  \n",
       "8                                             Demands                   2  \n",
       "9     Performance indicators for optimisation problem                   1  \n",
       "10                                               None                   3  \n",
       "11                                               None                   4  \n",
       "12                                               None                   2  \n",
       "13                                               None                   3  \n",
       "14                         Set of objective functions                   2  \n",
       "15                      All flows in openLCA database                7033  \n",
       "16               Elementary Flows in OpenLCA database                   3  \n",
       "17             All processes from in OpenLCA database               18268  \n",
       "18  All key performance indicators in an openLCA d...                 878  \n",
       "19                                               None                   4  \n",
       "20                                               None                   2  \n",
       "21                                               None                   2  \n",
       "22                                               None                   2  \n",
       "23                                               None                   2  \n",
       "24                                               None                   1  \n",
       "25                                               None                   1  \n",
       "26                                               None                   6  \n",
       "27                                               None                   2  \n",
       "28                                               None                   3  \n",
       "29                                               None                  36  \n",
       "30                                               None                  12  \n",
       "31                                               None                  12  \n",
       "32                                               None                   2  \n",
       "33                                               None                   2  \n",
       "34                                               None                   2  \n",
       "35                                               None                   2  \n",
       "36                                               None                  12  \n",
       "37                                               None                   2  \n",
       "38                                               None                   1  \n",
       "39                                               None                   2  \n",
       "40                                               None                   2  \n",
       "41                                               None                   2  \n",
       "42                                               None                   1  \n",
       "43                                               None                   1  \n",
       "44                                               None                   2  \n",
       "45                                               None                   1  "
      ]
     },
     "execution_count": 30,
     "metadata": {},
     "output_type": "execute_result"
    }
   ],
   "source": [
    "mo.get_sets_frame(model_instance)"
   ]
  },
  {
   "cell_type": "code",
   "execution_count": 31,
   "metadata": {},
   "outputs": [
    {
     "data": {
      "text/html": [
       "<div>\n",
       "<style scoped>\n",
       "    .dataframe tbody tr th:only-of-type {\n",
       "        vertical-align: middle;\n",
       "    }\n",
       "\n",
       "    .dataframe tbody tr th {\n",
       "        vertical-align: top;\n",
       "    }\n",
       "\n",
       "    .dataframe thead th {\n",
       "        text-align: right;\n",
       "    }\n",
       "</style>\n",
       "<table border=\"1\" class=\"dataframe\">\n",
       "  <thead>\n",
       "    <tr style=\"text-align: right;\">\n",
       "      <th></th>\n",
       "      <th></th>\n",
       "      <th></th>\n",
       "      <th></th>\n",
       "      <th>Flow</th>\n",
       "    </tr>\n",
       "    <tr>\n",
       "      <th>F_m</th>\n",
       "      <th>P_m</th>\n",
       "      <th>K</th>\n",
       "      <th>T</th>\n",
       "      <th></th>\n",
       "    </tr>\n",
       "  </thead>\n",
       "  <tbody>\n",
       "    <tr>\n",
       "      <th>f1</th>\n",
       "      <th>pm1</th>\n",
       "      <th>k1</th>\n",
       "      <th>t1</th>\n",
       "      <td>None</td>\n",
       "    </tr>\n",
       "    <tr>\n",
       "      <th>f2</th>\n",
       "      <th>pm1</th>\n",
       "      <th>k1</th>\n",
       "      <th>t1</th>\n",
       "      <td>None</td>\n",
       "    </tr>\n",
       "  </tbody>\n",
       "</table>\n",
       "</div>"
      ],
      "text/plain": [
       "               Flow\n",
       "F_m P_m K  T       \n",
       "f1  pm1 k1 t1  None\n",
       "f2  pm1 k1 t1  None"
      ]
     },
     "execution_count": 31,
     "metadata": {},
     "output_type": "execute_result"
    }
   ],
   "source": [
    "mo.get_entity(model_instance.component('Flow'))"
   ]
  },
  {
   "cell_type": "code",
   "execution_count": 32,
   "metadata": {},
   "outputs": [
    {
     "data": {
      "text/html": [
       "<div>\n",
       "<style scoped>\n",
       "    .dataframe tbody tr th:only-of-type {\n",
       "        vertical-align: middle;\n",
       "    }\n",
       "\n",
       "    .dataframe tbody tr th {\n",
       "        vertical-align: top;\n",
       "    }\n",
       "\n",
       "    .dataframe thead th {\n",
       "        text-align: right;\n",
       "    }\n",
       "</style>\n",
       "<table border=\"1\" class=\"dataframe\">\n",
       "  <thead>\n",
       "    <tr style=\"text-align: right;\">\n",
       "      <th></th>\n",
       "      <th></th>\n",
       "      <th></th>\n",
       "      <th></th>\n",
       "      <th>C</th>\n",
       "    </tr>\n",
       "    <tr>\n",
       "      <th>F_m</th>\n",
       "      <th>K</th>\n",
       "      <th>D</th>\n",
       "      <th>T</th>\n",
       "      <th></th>\n",
       "    </tr>\n",
       "  </thead>\n",
       "  <tbody>\n",
       "    <tr>\n",
       "      <th rowspan=\"2\" valign=\"top\">f1</th>\n",
       "      <th rowspan=\"2\" valign=\"top\">k1</th>\n",
       "      <th>d1</th>\n",
       "      <th>t1</th>\n",
       "      <td>2</td>\n",
       "    </tr>\n",
       "    <tr>\n",
       "      <th>d2</th>\n",
       "      <th>t1</th>\n",
       "      <td>2</td>\n",
       "    </tr>\n",
       "    <tr>\n",
       "      <th rowspan=\"2\" valign=\"top\">f2</th>\n",
       "      <th rowspan=\"2\" valign=\"top\">k1</th>\n",
       "      <th>d1</th>\n",
       "      <th>t1</th>\n",
       "      <td>2</td>\n",
       "    </tr>\n",
       "    <tr>\n",
       "      <th>d2</th>\n",
       "      <th>t1</th>\n",
       "      <td>2</td>\n",
       "    </tr>\n",
       "  </tbody>\n",
       "</table>\n",
       "</div>"
      ],
      "text/plain": [
       "              C\n",
       "F_m K  D  T    \n",
       "f1  k1 d1 t1  2\n",
       "       d2 t1  2\n",
       "f2  k1 d1 t1  2\n",
       "       d2 t1  2"
      ]
     },
     "execution_count": 32,
     "metadata": {},
     "output_type": "execute_result"
    }
   ],
   "source": [
    "mo.get_entity(model_instance.component('C'))"
   ]
  },
  {
   "cell_type": "code",
   "execution_count": 33,
   "metadata": {},
   "outputs": [
    {
     "data": {
      "text/html": [
       "<div>\n",
       "<style scoped>\n",
       "    .dataframe tbody tr th:only-of-type {\n",
       "        vertical-align: middle;\n",
       "    }\n",
       "\n",
       "    .dataframe tbody tr th {\n",
       "        vertical-align: top;\n",
       "    }\n",
       "\n",
       "    .dataframe thead th {\n",
       "        text-align: right;\n",
       "    }\n",
       "</style>\n",
       "<table border=\"1\" class=\"dataframe\">\n",
       "  <thead>\n",
       "    <tr style=\"text-align: right;\">\n",
       "      <th></th>\n",
       "      <th></th>\n",
       "      <th></th>\n",
       "      <th></th>\n",
       "      <th>L</th>\n",
       "    </tr>\n",
       "    <tr>\n",
       "      <th>F_m</th>\n",
       "      <th>P_m</th>\n",
       "      <th>F_s</th>\n",
       "      <th>P_s</th>\n",
       "      <th></th>\n",
       "    </tr>\n",
       "  </thead>\n",
       "  <tbody>\n",
       "    <tr>\n",
       "      <th>f1</th>\n",
       "      <th>pm1</th>\n",
       "      <th>fs1</th>\n",
       "      <th>ps1</th>\n",
       "      <td>1</td>\n",
       "    </tr>\n",
       "    <tr>\n",
       "      <th>f2</th>\n",
       "      <th>pm1</th>\n",
       "      <th>fs1</th>\n",
       "      <th>ps1</th>\n",
       "      <td>1</td>\n",
       "    </tr>\n",
       "  </tbody>\n",
       "</table>\n",
       "</div>"
      ],
      "text/plain": [
       "                 L\n",
       "F_m P_m F_s P_s   \n",
       "f1  pm1 fs1 ps1  1\n",
       "f2  pm1 fs1 ps1  1"
      ]
     },
     "execution_count": 33,
     "metadata": {},
     "output_type": "execute_result"
    }
   ],
   "source": [
    "mo.get_entity(model_instance.component('L'))"
   ]
  },
  {
   "cell_type": "code",
   "execution_count": 34,
   "metadata": {},
   "outputs": [
    {
     "data": {
      "text/html": [
       "<div>\n",
       "<style scoped>\n",
       "    .dataframe tbody tr th:only-of-type {\n",
       "        vertical-align: middle;\n",
       "    }\n",
       "\n",
       "    .dataframe tbody tr th {\n",
       "        vertical-align: top;\n",
       "    }\n",
       "\n",
       "    .dataframe thead th {\n",
       "        text-align: right;\n",
       "    }\n",
       "</style>\n",
       "<table border=\"1\" class=\"dataframe\">\n",
       "  <thead>\n",
       "    <tr style=\"text-align: right;\">\n",
       "      <th></th>\n",
       "      <th></th>\n",
       "      <th></th>\n",
       "      <th>Demand</th>\n",
       "    </tr>\n",
       "    <tr>\n",
       "      <th>D</th>\n",
       "      <th>K</th>\n",
       "      <th>T</th>\n",
       "      <th></th>\n",
       "    </tr>\n",
       "  </thead>\n",
       "  <tbody>\n",
       "    <tr>\n",
       "      <th>d1</th>\n",
       "      <th>k1</th>\n",
       "      <th>t1</th>\n",
       "      <td>1</td>\n",
       "    </tr>\n",
       "    <tr>\n",
       "      <th>d2</th>\n",
       "      <th>k1</th>\n",
       "      <th>t1</th>\n",
       "      <td>1</td>\n",
       "    </tr>\n",
       "  </tbody>\n",
       "</table>\n",
       "</div>"
      ],
      "text/plain": [
       "          Demand\n",
       "D  K  T         \n",
       "d1 k1 t1       1\n",
       "d2 k1 t1       1"
      ]
     },
     "execution_count": 34,
     "metadata": {},
     "output_type": "execute_result"
    }
   ],
   "source": [
    "mo.get_entity(model_instance.component('Demand'))"
   ]
  }
 ],
 "metadata": {
  "kernelspec": {
   "display_name": "Python 3",
   "language": "python",
   "name": "python3"
  },
  "language_info": {
   "codemirror_mode": {
    "name": "ipython",
    "version": 3
   },
   "file_extension": ".py",
   "mimetype": "text/x-python",
   "name": "python",
   "nbconvert_exporter": "python",
   "pygments_lexer": "ipython3",
   "version": "3.7.9"
  },
  "toc": {
   "base_numbering": 1,
   "nav_menu": {},
   "number_sections": true,
   "sideBar": true,
   "skip_h1_title": false,
   "title_cell": "Table of Contents",
   "title_sidebar": "Contents",
   "toc_cell": false,
   "toc_position": {
    "height": "calc(100% - 180px)",
    "left": "10px",
    "top": "150px",
    "width": "284.438px"
   },
   "toc_section_display": true,
   "toc_window_display": true
  },
  "varInspector": {
   "cols": {
    "lenName": 16,
    "lenType": 16,
    "lenVar": 40
   },
   "kernels_config": {
    "python": {
     "delete_cmd_postfix": "",
     "delete_cmd_prefix": "del ",
     "library": "var_list.py",
     "varRefreshCmd": "print(var_dic_list())"
    },
    "r": {
     "delete_cmd_postfix": ") ",
     "delete_cmd_prefix": "rm(",
     "library": "var_list.r",
     "varRefreshCmd": "cat(var_dic_list()) "
    }
   },
   "types_to_exclude": [
    "module",
    "function",
    "builtin_function_or_method",
    "instance",
    "_Feature"
   ],
   "window_display": false
  }
 },
 "nbformat": 4,
 "nbformat_minor": 4
}
