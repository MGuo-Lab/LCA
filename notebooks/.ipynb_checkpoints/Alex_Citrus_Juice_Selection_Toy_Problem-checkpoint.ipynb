{
 "cells": [
  {
   "cell_type": "markdown",
   "metadata": {},
   "source": [
    "# Problem Statement\n",
    "\n",
    "A citrus fruit producer wishes to choose the optimal fruit juice to make that minimises the environmental impact on climate change. The fruit supply options are lemons from Mexico, mandarins from South Africa and oranges from Brazil. The producer has not yet built their processing plant but the options for building sites would incur the following transportation distances by light commercial vehicles (rest of world process):\n",
    "\n",
    "Lemon, 12 km <BR>\n",
    "Mandarin, 8 km <BR>\n",
    "Orange, 15 km <BR>\n",
    "\n",
    "An optimisation problem can be posed as:\n",
    "\n",
    "$\n",
    "\\begin{align}\n",
    "  \\underset{y_{fruit}}{\\text{Minimize}} &\\hspace{0.5em} \\sum_{fruit} y_{fruit}D_{fruit}T + y_{fruit}I_{fruit} \\\\\n",
    "  \\text{Subject to} &\\hspace{0.5em} \\sum_{fruit} y_{fruit} = 1 \\\\\n",
    "  & \\hspace{0.5em} y_{fruit} \\in \\{0, 1\\} \\\\\n",
    "  & \\hspace{0.5em} D_{lemon} = 12, D_{mandarin} = 8, D_{orange} = 15 \\\\\n",
    "  & \\hspace{0.5em} T, I_{fruit} \\text{from openLCA} \\\\\n",
    "\\end{align}\n",
    "$\n",
    "\n",
    "where\n",
    "\n",
    "$y_{fruit}$ is a binary selection variable for choosing lemon, mandarin or orange. <BR>\n",
    "$D_{fruit}$ is a user defined distances for each fruit to its potential processing site, km <BR>\n",
    "$T$ openLCA data, is the climate change impact of light commercial vehicle transport, kgCO2e/(kg km) <BR>\n",
    "$I_{fruit}$ openLCA data, is the climate change impact of growing fruit, kgCO2e/kg\n",
    "\n",
    "Assumptions\n",
    "\n",
    "* 1 kg fruit to 1 kg juice yield for all fruits\n",
    "* Mono fruit juice – no mixing\n",
    "* Infinite supply and demand\n",
    "* Equal processing costs and plant building costs\n",
    "* All fruit transported by light commercial vehicle\n",
    "* A simple 1 process “network”\n"
   ]
  },
  {
   "cell_type": "markdown",
   "metadata": {},
   "source": [
    "## Pyomo implementation"
   ]
  },
  {
   "cell_type": "code",
   "execution_count": 1,
   "metadata": {},
   "outputs": [],
   "source": [
    "# Import of the pyomo module\n",
    "from pyomo.environ import *\n",
    " \n",
    "# Creation of a concrete model\n",
    "model = ConcreteModel()\n",
    "\n",
    "# Define sets\n",
    "model.fruit = Set(initialize=['Lemon', 'Mandarin', 'Orange'], doc='Fruits')\n",
    "\n",
    "# Define parameters\n",
    "D_dict = {'Lemon' : 12, 'Mandarin': 8, 'Orange': 15}\n",
    "model.D = Param(model.fruit, mutable=True, initialize=D_dict, doc='Distances for each fruit to its potential processing site in km')\n",
    "I_dict = {'Lemon' : 1, 'Mandarin': 1, 'Orange': 1}\n",
    "model.I = Param(model.fruit, initialize=I_dict, doc='climate change impact of growing fruit, kgCO2e/kg')\n",
    "model.T = 1\n",
    "\n",
    "# Define binary decision variables\n",
    "model.y = Var(model.fruit, within=Binary, doc='Select this fruit?')\n",
    "\n",
    "# Define constraints\n",
    "def one_fruit_rule(model):\n",
    "    return(sum(model.y[f] for f in model.fruit) == 1)\n",
    "model.one_fruit = Constraint(rule=one_fruit_rule)\n",
    "\n",
    "# Define objective\n",
    "def objective_rule(model):\n",
    "  return sum(model.y[f]*model.D[f]*model.T + model.y[f]*model.I[f] for f in model.fruit)\n",
    "model.obj = Objective(rule=objective_rule, sense=minimize)"
   ]
  },
  {
   "cell_type": "code",
   "execution_count": 2,
   "metadata": {},
   "outputs": [],
   "source": [
    "# Apply solver\n",
    "opt = SolverFactory(\"glpk\")\n",
    "results = opt.solve(model)"
   ]
  },
  {
   "cell_type": "code",
   "execution_count": 3,
   "metadata": {},
   "outputs": [
    {
     "name": "stdout",
     "output_type": "stream",
     "text": [
      "# ==========================================================\n",
      "# = Solver Results                                         =\n",
      "# ==========================================================\n",
      "# ----------------------------------------------------------\n",
      "#   Problem Information\n",
      "# ----------------------------------------------------------\n",
      "Problem: \n",
      "- Name: unknown\n",
      "  Lower bound: 9.0\n",
      "  Upper bound: 9.0\n",
      "  Number of objectives: 1\n",
      "  Number of constraints: 2\n",
      "  Number of variables: 4\n",
      "  Number of nonzeros: 4\n",
      "  Sense: minimize\n",
      "# ----------------------------------------------------------\n",
      "#   Solver Information\n",
      "# ----------------------------------------------------------\n",
      "Solver: \n",
      "- Status: ok\n",
      "  Termination condition: optimal\n",
      "  Statistics: \n",
      "    Branch and bound: \n",
      "      Number of bounded subproblems: 1\n",
      "      Number of created subproblems: 1\n",
      "  Error rc: 0\n",
      "  Time: 0.016032934188842773\n",
      "# ----------------------------------------------------------\n",
      "#   Solution Information\n",
      "# ----------------------------------------------------------\n",
      "Solution: \n",
      "- number of solutions: 0\n",
      "  number of solutions displayed: 0\n",
      "\n",
      "Displaying Solution\n",
      "------------------------------------------------------------\n",
      "y : Select this fruit?\n",
      "    Size=3, Index=fruit\n",
      "    Key      : Lower : Value : Upper : Fixed : Stale : Domain\n",
      "       Lemon :     0 :   0.0 :     1 : False : False : Binary\n",
      "    Mandarin :     0 :   1.0 :     1 : False : False : Binary\n",
      "      Orange :     0 :   0.0 :     1 : False : False : Binary\n"
     ]
    }
   ],
   "source": [
    "def pyomo_postprocess(options=None, instance=None, results=None):\n",
    "  model.y.display()\n",
    "\n",
    "results.write()\n",
    "print(\"\\nDisplaying Solution\\n\" + '-'*60)\n",
    "pyomo_postprocess(None, model, results)"
   ]
  },
  {
   "cell_type": "markdown",
   "metadata": {},
   "source": [
    "## Interactive implementation"
   ]
  },
  {
   "cell_type": "code",
   "execution_count": 4,
   "metadata": {},
   "outputs": [
    {
     "data": {
      "application/vnd.jupyter.widget-view+json": {
       "model_id": "958ac16d9d814ca7911e0226514ecd45",
       "version_major": 2,
       "version_minor": 0
      },
      "text/plain": [
       "interactive(children=(FloatSlider(value=12.0, description='lemon', max=20.0, min=0.5, step=0.05), FloatSlider(…"
      ]
     },
     "metadata": {},
     "output_type": "display_data"
    }
   ],
   "source": [
    "import ipywidgets as widgets\n",
    "D_widget = {k : widgets.FloatSlider(min=0.5, max=20.0, step=0.05, value=v) for (k,v) in D_dict.items()}\n",
    "\n",
    "def run_opt(lemon, mandarin, orange, model):\n",
    "    model.D['Lemon'] = lemon\n",
    "    model.D['Mandarin'] = mandarin\n",
    "    model.D['Orange'] = orange\n",
    "    print(\"\\nDisplaying Solution\\n\" + '-'*60)\n",
    "    results = opt.solve(model)\n",
    "    pyomo_postprocess(None, model, results)\n",
    "widgets.interact_manual(run_opt, lemon=D_widget['Lemon'], mandarin=D_widget['Mandarin'], orange=D_widget['Orange'], model=widgets.fixed(model));"
   ]
  },
  {
   "cell_type": "code",
   "execution_count": null,
   "metadata": {},
   "outputs": [],
   "source": []
  }
 ],
 "metadata": {
  "kernelspec": {
   "display_name": "Python 3",
   "language": "python",
   "name": "python3"
  },
  "language_info": {
   "codemirror_mode": {
    "name": "ipython",
    "version": 3
   },
   "file_extension": ".py",
   "mimetype": "text/x-python",
   "name": "python",
   "nbconvert_exporter": "python",
   "pygments_lexer": "ipython3",
   "version": "3.7.3"
  },
  "toc": {
   "base_numbering": 1,
   "nav_menu": {},
   "number_sections": true,
   "sideBar": true,
   "skip_h1_title": false,
   "title_cell": "Table of Contents",
   "title_sidebar": "Contents",
   "toc_cell": false,
   "toc_position": {},
   "toc_section_display": true,
   "toc_window_display": false
  }
 },
 "nbformat": 4,
 "nbformat_minor": 4
}
