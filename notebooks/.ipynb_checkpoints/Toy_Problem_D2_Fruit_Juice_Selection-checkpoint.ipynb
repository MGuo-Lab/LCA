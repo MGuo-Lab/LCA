{
 "cells": [
  {
   "cell_type": "markdown",
   "metadata": {},
   "source": [
    "# Fruit Juice Selection Toy Problem D\n",
    "\n",
    "The purpose of this example is to illustrate the use of the technology selection component of the optimisation problem contained within the `mola` package."
   ]
  },
  {
   "cell_type": "markdown",
   "metadata": {},
   "source": [
    "## Problem Statement\n",
    "\n",
    "A UK citrus fruit juice producer wishes to produce 100kg of fruit juice consisting of either oranges from the US, mandarins from South Africa or apples from Italy. In order to produce the juice, they need to transport the fruit from each country to their UK processing plant. Freight transport is provided by sea container ship from the US, lorry EURO1 >32 tonnes from South Africa and diesel freight train from Italy. \n",
    "\n",
    "The juice producer would like to choose the type of fruit juice that minimises the environmental impact of green house gases. It takes 2kg of fruit to produce 1kg of juice for each fruit.\n",
    "\n",
    "Assumptions\n",
    "* The cost of purchasing and transporting fruit is ignored."
   ]
  },
  {
   "cell_type": "markdown",
   "metadata": {},
   "source": [
    "## Specification\n",
    "\n",
    "In this notebook we use abstract specification v5 to solve this problem."
   ]
  },
  {
   "cell_type": "code",
   "execution_count": 1,
   "metadata": {},
   "outputs": [
    {
     "name": "stdout",
     "output_type": "stream",
     "text": [
      "AP : All processes from in OpenLCA database\n",
      "    Size=0, Index=None, Ordered=Insertion\n",
      "    Not constructed\n"
     ]
    }
   ],
   "source": [
    "import mola.specification5 as ms\n",
    "from importlib import reload\n",
    "spec = ms.GeneralSpecification()\n",
    "spec.abstract_model.AP.pprint()"
   ]
  },
  {
   "cell_type": "markdown",
   "metadata": {},
   "source": [
    "# User Configuration"
   ]
  },
  {
   "cell_type": "markdown",
   "metadata": {},
   "source": [
    "We need to build a new set configuration file for the fruit processes and flows for the problem."
   ]
  },
  {
   "cell_type": "code",
   "execution_count": 4,
   "metadata": {},
   "outputs": [
    {
     "name": "stdout",
     "output_type": "stream",
     "text": [
      "Model sets saved\n"
     ]
    },
    {
     "data": {
      "text/plain": [
       "{'F_m': ['1f7bbd3e-fcd1-412d-8608-035b855ea735',\n",
       "  '1c819f15-1202-4fa9-8ef9-72196c2dfb85',\n",
       "  '9c6b672a-661e-40c3-a9a0-902b33cc6871'],\n",
       " 'F_s': [],\n",
       " 'F_t': [],\n",
       " 'D': ['Blend_1', 'Blend_2'],\n",
       " 'T': ['t1'],\n",
       " 'K': ['k1'],\n",
       " 'P_m': ['cfc3f58f-7bdf-3019-888b-c4f2dbc332e8',\n",
       "  '1ee47b1f-7b9e-4f7e-b2ee-2820ff444c8b',\n",
       "  '8977f53b-5bd8-3eaf-8655-664538e40790'],\n",
       " 'P_t': [],\n",
       " 'P_s': [],\n",
       " 'KPI': ['061b7db5-4f56-3368-bf50-9ff0fcc8dd1f'],\n",
       " 'OBJ': ['environment', 'cost'],\n",
       " 'F': [],\n",
       " 'P': []}"
      ]
     },
     "execution_count": 4,
     "metadata": {},
     "output_type": "execute_result"
    }
   ],
   "source": [
    "import mola.input as mi\n",
    "selection_set_file_name = 'Configuration/selection_set_data.json'\n",
    "user_sets = mi.get_model_user_sets(spec, selection_set_file_name)\n",
    "user_sets"
   ]
  },
  {
   "cell_type": "markdown",
   "metadata": {},
   "source": [
    "## Sets\n",
    "\n",
    "To configure the model we need lookup tables to select sets. These come from a database so part of the new model configuration is a link to a database."
   ]
  },
  {
   "cell_type": "code",
   "execution_count": 5,
   "metadata": {},
   "outputs": [
    {
     "name": "stdout",
     "output_type": "stream",
     "text": [
      "SELECT \"REF_ID\",\"NAME\" FROM \"TBL_CATEGORIES\"\n",
      "SELECT \"REF_ID\" \"FLOW_REF_ID\",\"NAME\" FROM \"TBL_FLOWS\"\n",
      "SELECT \"TBL_PROCESSES\".\"REF_ID\" \"PROCESS_REF_ID\",\"TBL_PROCESSES\".\"NAME\" \"PROCESS_NAME\",\"TBL_LOCATIONS\".\"NAME\" \"LOCATION_NAME\" FROM \"TBL_PROCESSES\" LEFT JOIN \"TBL_LOCATIONS\" ON CAST(\"TBL_PROCESSES\".\"F_LOCATION\" AS INT)=\"TBL_LOCATIONS\".\"ID\"\n",
      "SELECT \"REF_ID\",\"NAME\" FROM \"TBL_FLOWS\" WHERE \"FLOW_TYPE\"='PRODUCT_FLOW'\n",
      "SELECT \"TBL_IMPACT_METHODS\".\"NAME\" \"method_NAME\",\"TBL_IMPACT_CATEGORIES\".\"REF_ID\" \"REF_ID\",\"TBL_IMPACT_CATEGORIES\".\"NAME\" \"category_NAME\" FROM \"TBL_IMPACT_CATEGORIES\" LEFT JOIN \"TBL_IMPACT_METHODS\" ON \"TBL_IMPACT_CATEGORIES\".\"F_IMPACT_METHOD\"=\"TBL_IMPACT_METHODS\".\"ID\"\n"
     ]
    }
   ],
   "source": [
    "import mola.dataview as dv\n",
    "import mola.dataimport as di\n",
    "import pandas as pd\n",
    "from pyomo.environ import *\n",
    "conn = di.get_sqlite_connection()\n",
    "lookup = dv.LookupTables(conn)"
   ]
  },
  {
   "cell_type": "markdown",
   "metadata": {},
   "source": [
    "We show a widget that loads and saves the user configuration of sets in a tabbed interface. Existing user configuration data is loaded if there is a saved model data file."
   ]
  },
  {
   "cell_type": "code",
   "execution_count": 6,
   "metadata": {},
   "outputs": [
    {
     "data": {
      "application/vnd.jupyter.widget-view+json": {
       "model_id": "e06bd68d49a74bd192d7344dcc4c1643",
       "version_major": 2,
       "version_minor": 0
      },
      "text/plain": [
       "VBox(children=(Button(description='Save configuration', style=ButtonStyle()), Tab(children=(AppLayout(children…"
      ]
     },
     "metadata": {},
     "output_type": "display_data"
    }
   ],
   "source": [
    "import mola.widgets as mw\n",
    "lookups = {'F_m': lookup.get('flows'), 'P_m': lookup.get('processes'), 'F_t': lookup.get('flows'), \n",
    "           'P_t': lookup.get('processes'), 'F_s': lookup.get('flows'), \n",
    "           'P_s': lookup.get('processes'), 'KPI': lookup.get('KPI')}\n",
    "vbox, tab = mw.get_sets(spec, lookups, selection_set_file_name)\n",
    "vbox"
   ]
  },
  {
   "cell_type": "markdown",
   "metadata": {},
   "source": [
    "Below, we load the sets defined from the JSON file."
   ]
  },
  {
   "cell_type": "code",
   "execution_count": 7,
   "metadata": {},
   "outputs": [
    {
     "data": {
      "text/plain": [
       "{'F_m': ['1f7bbd3e-fcd1-412d-8608-035b855ea735',\n",
       "  '1c819f15-1202-4fa9-8ef9-72196c2dfb85',\n",
       "  '9c6b672a-661e-40c3-a9a0-902b33cc6871'],\n",
       " 'F_s': [],\n",
       " 'F_t': [],\n",
       " 'D': ['Blend_1', 'Blend_2'],\n",
       " 'T': ['t1'],\n",
       " 'K': ['k1'],\n",
       " 'P_m': ['cfc3f58f-7bdf-3019-888b-c4f2dbc332e8',\n",
       "  '1ee47b1f-7b9e-4f7e-b2ee-2820ff444c8b',\n",
       "  '8977f53b-5bd8-3eaf-8655-664538e40790'],\n",
       " 'P_t': [],\n",
       " 'P_s': [],\n",
       " 'KPI': ['061b7db5-4f56-3368-bf50-9ff0fcc8dd1f'],\n",
       " 'OBJ': ['environment', 'cost'],\n",
       " 'F': [],\n",
       " 'P': []}"
      ]
     },
     "execution_count": 7,
     "metadata": {},
     "output_type": "execute_result"
    }
   ],
   "source": [
    "import json\n",
    "with open(selection_set_file_name) as s:\n",
    "    set_data = json.load(s)\n",
    "set_data"
   ]
  },
  {
   "cell_type": "markdown",
   "metadata": {},
   "source": [
    "## Parameters\n",
    "\n",
    "The parameters are defined using the widget below."
   ]
  },
  {
   "cell_type": "code",
   "execution_count": 8,
   "metadata": {
    "scrolled": false
   },
   "outputs": [
    {
     "data": {
      "application/vnd.jupyter.widget-view+json": {
       "model_id": "299e4b516ef0413c8a30e306a5998446",
       "version_major": 2,
       "version_minor": 0
      },
      "text/plain": [
       "VBox(children=(Box(children=(Button(description='Save configuration', style=ButtonStyle()),)), QgridWidget(gri…"
      ]
     },
     "metadata": {},
     "output_type": "display_data"
    }
   ],
   "source": [
    "import qgrid\n",
    "selection_parameters_file_name = 'Configuration/selection_parameters_data.json'\n",
    "param_dfr, param_dict = mi.get_model_user_parameters(spec, set_data, selection_parameters_file_name)\n",
    "mw.get_parameters(param_dfr, selection_parameters_file_name)"
   ]
  },
  {
   "cell_type": "markdown",
   "metadata": {},
   "source": [
    "Save the parameters above to the file system to persist any changes before proceeding. For reference, here is the contents of the model parameter file."
   ]
  },
  {
   "cell_type": "code",
   "execution_count": 9,
   "metadata": {},
   "outputs": [
    {
     "data": {
      "text/plain": [
       "{'C': [{'index': ['1f7bbd3e-fcd1-412d-8608-035b855ea735',\n",
       "    'k1',\n",
       "    'Blend_1',\n",
       "    't1'],\n",
       "   'value': 1.0},\n",
       "  {'index': ['1f7bbd3e-fcd1-412d-8608-035b855ea735', 'k1', 'Blend_2', 't1'],\n",
       "   'value': 1.0},\n",
       "  {'index': ['1c819f15-1202-4fa9-8ef9-72196c2dfb85', 'k1', 'Blend_1', 't1'],\n",
       "   'value': 1.0},\n",
       "  {'index': ['1c819f15-1202-4fa9-8ef9-72196c2dfb85', 'k1', 'Blend_2', 't1'],\n",
       "   'value': 1.0},\n",
       "  {'index': ['9c6b672a-661e-40c3-a9a0-902b33cc6871', 'k1', 'Blend_1', 't1'],\n",
       "   'value': 1.0},\n",
       "  {'index': ['9c6b672a-661e-40c3-a9a0-902b33cc6871', 'k1', 'Blend_2', 't1'],\n",
       "   'value': 1.0}],\n",
       " 'Demand': [{'index': ['Blend_1', 'k1', 't1'], 'value': 0.0},\n",
       "  {'index': ['Blend_2', 'k1', 't1'], 'value': 0.0}],\n",
       " 'Total_Demand': [{'index': ['Blend_1', 'k1'], 'value': 0.0},\n",
       "  {'index': ['Blend_2', 'k1'], 'value': 0.0}],\n",
       " 'X': [{'index': ['k1', 't1'], 'value': inf}],\n",
       " 'Y': [{'index': ['k1', 't1'], 'value': inf}],\n",
       " 'd': [{'index': ['cfc3f58f-7bdf-3019-888b-c4f2dbc332e8',\n",
       "    '1f7bbd3e-fcd1-412d-8608-035b855ea735',\n",
       "    'k1',\n",
       "    't1'],\n",
       "   'value': 0.0},\n",
       "  {'index': ['cfc3f58f-7bdf-3019-888b-c4f2dbc332e8',\n",
       "    '1c819f15-1202-4fa9-8ef9-72196c2dfb85',\n",
       "    'k1',\n",
       "    't1'],\n",
       "   'value': 0.0},\n",
       "  {'index': ['cfc3f58f-7bdf-3019-888b-c4f2dbc332e8',\n",
       "    '9c6b672a-661e-40c3-a9a0-902b33cc6871',\n",
       "    'k1',\n",
       "    't1'],\n",
       "   'value': 0.0},\n",
       "  {'index': ['1ee47b1f-7b9e-4f7e-b2ee-2820ff444c8b',\n",
       "    '1f7bbd3e-fcd1-412d-8608-035b855ea735',\n",
       "    'k1',\n",
       "    't1'],\n",
       "   'value': 0.0},\n",
       "  {'index': ['1ee47b1f-7b9e-4f7e-b2ee-2820ff444c8b',\n",
       "    '1c819f15-1202-4fa9-8ef9-72196c2dfb85',\n",
       "    'k1',\n",
       "    't1'],\n",
       "   'value': 0.0},\n",
       "  {'index': ['1ee47b1f-7b9e-4f7e-b2ee-2820ff444c8b',\n",
       "    '9c6b672a-661e-40c3-a9a0-902b33cc6871',\n",
       "    'k1',\n",
       "    't1'],\n",
       "   'value': 0.0},\n",
       "  {'index': ['8977f53b-5bd8-3eaf-8655-664538e40790',\n",
       "    '1f7bbd3e-fcd1-412d-8608-035b855ea735',\n",
       "    'k1',\n",
       "    't1'],\n",
       "   'value': 0.0},\n",
       "  {'index': ['8977f53b-5bd8-3eaf-8655-664538e40790',\n",
       "    '1c819f15-1202-4fa9-8ef9-72196c2dfb85',\n",
       "    'k1',\n",
       "    't1'],\n",
       "   'value': 0.0},\n",
       "  {'index': ['8977f53b-5bd8-3eaf-8655-664538e40790',\n",
       "    '9c6b672a-661e-40c3-a9a0-902b33cc6871',\n",
       "    'k1',\n",
       "    't1'],\n",
       "   'value': 0.0}],\n",
       " 'w': [{'index': ['environment'], 'value': 0.0},\n",
       "  {'index': ['cost'], 'value': 0.0}]}"
      ]
     },
     "execution_count": 9,
     "metadata": {},
     "output_type": "execute_result"
    }
   ],
   "source": [
    "with open(selection_parameters_file_name) as fp:\n",
    "    params_json = json.load(fp)\n",
    "params_json"
   ]
  },
  {
   "cell_type": "markdown",
   "metadata": {},
   "source": [
    "# Model Build\n",
    "\n",
    "To build the model we need to calculate the environmental impacts for each flow, process and KPI from the database. This is done as part in the `populate` method."
   ]
  },
  {
   "cell_type": "code",
   "execution_count": 10,
   "metadata": {},
   "outputs": [
    {
     "name": "stdout",
     "output_type": "stream",
     "text": [
      "F_m : Material flows to optimise\n",
      "    Size=1, Index=None, Ordered=Insertion\n",
      "    Key  : Dimen : Domain : Size : Members\n",
      "    None :     1 :    Any :    3 : {'1f7bbd3e-fcd1-412d-8608-035b855ea735', '1c819f15-1202-4fa9-8ef9-72196c2dfb85', '9c6b672a-661e-40c3-a9a0-902b33cc6871'}\n"
     ]
    }
   ],
   "source": [
    "json_files = [selection_set_file_name, selection_parameters_file_name]\n",
    "model_instance = spec.populate(json_files)\n",
    "model_instance.F_m.pprint()"
   ]
  },
  {
   "cell_type": "markdown",
   "metadata": {},
   "source": [
    "# Solver\n",
    "\n",
    "We need to activate an objective or form a weighted sum of objectives. For this problem we just need the first objective of minimising the environmental impact."
   ]
  },
  {
   "cell_type": "code",
   "execution_count": 11,
   "metadata": {},
   "outputs": [],
   "source": [
    "model_instance.obj1.activate()\n",
    "model_instance.obj2.deactivate()\n",
    "model_instance.obj.deactivate()"
   ]
  },
  {
   "cell_type": "code",
   "execution_count": 12,
   "metadata": {},
   "outputs": [
    {
     "name": "stdout",
     "output_type": "stream",
     "text": [
      "# ==========================================================\n",
      "# = Solver Results                                         =\n",
      "# ==========================================================\n",
      "# ----------------------------------------------------------\n",
      "#   Problem Information\n",
      "# ----------------------------------------------------------\n",
      "Problem: \n",
      "- Name: unknown\n",
      "  Lower bound: 0.0\n",
      "  Upper bound: 0.0\n",
      "  Number of objectives: 1\n",
      "  Number of constraints: 15\n",
      "  Number of variables: 12\n",
      "  Number of nonzeros: 48\n",
      "  Sense: minimize\n",
      "# ----------------------------------------------------------\n",
      "#   Solver Information\n",
      "# ----------------------------------------------------------\n",
      "Solver: \n",
      "- Status: ok\n",
      "  Termination condition: optimal\n",
      "  Statistics: \n",
      "    Branch and bound: \n",
      "      Number of bounded subproblems: 1\n",
      "      Number of created subproblems: 1\n",
      "  Error rc: 0\n",
      "  Time: 0.0170896053314209\n",
      "# ----------------------------------------------------------\n",
      "#   Solution Information\n",
      "# ----------------------------------------------------------\n",
      "Solution: \n",
      "- number of solutions: 0\n",
      "  number of solutions displayed: 0\n"
     ]
    }
   ],
   "source": [
    "opt = SolverFactory(\"glpk\")\n",
    "results = opt.solve(model_instance)\n",
    "results.write()"
   ]
  },
  {
   "cell_type": "markdown",
   "metadata": {},
   "source": [
    "The variable output is shown below"
   ]
  },
  {
   "cell_type": "code",
   "execution_count": 13,
   "metadata": {},
   "outputs": [
    {
     "name": "stdout",
     "output_type": "stream",
     "text": [
      "Flow : Material flow\n",
      "    Size=9, Index=Flow_index\n",
      "    Key                                                                                          : Lower : Value : Upper : Fixed : Stale : Domain\n",
      "    ('1c819f15-1202-4fa9-8ef9-72196c2dfb85', '1ee47b1f-7b9e-4f7e-b2ee-2820ff444c8b', 'k1', 't1') :     0 :   0.0 :  None : False : False : NonNegativeReals\n",
      "    ('1c819f15-1202-4fa9-8ef9-72196c2dfb85', '8977f53b-5bd8-3eaf-8655-664538e40790', 'k1', 't1') :     0 :   0.0 :  None : False : False : NonNegativeReals\n",
      "    ('1c819f15-1202-4fa9-8ef9-72196c2dfb85', 'cfc3f58f-7bdf-3019-888b-c4f2dbc332e8', 'k1', 't1') :     0 :   0.0 :  None : False : False : NonNegativeReals\n",
      "    ('1f7bbd3e-fcd1-412d-8608-035b855ea735', '1ee47b1f-7b9e-4f7e-b2ee-2820ff444c8b', 'k1', 't1') :     0 :   0.0 :  None : False : False : NonNegativeReals\n",
      "    ('1f7bbd3e-fcd1-412d-8608-035b855ea735', '8977f53b-5bd8-3eaf-8655-664538e40790', 'k1', 't1') :     0 :   0.0 :  None : False : False : NonNegativeReals\n",
      "    ('1f7bbd3e-fcd1-412d-8608-035b855ea735', 'cfc3f58f-7bdf-3019-888b-c4f2dbc332e8', 'k1', 't1') :     0 :   0.0 :  None : False : False : NonNegativeReals\n",
      "    ('9c6b672a-661e-40c3-a9a0-902b33cc6871', '1ee47b1f-7b9e-4f7e-b2ee-2820ff444c8b', 'k1', 't1') :     0 :   0.0 :  None : False : False : NonNegativeReals\n",
      "    ('9c6b672a-661e-40c3-a9a0-902b33cc6871', '8977f53b-5bd8-3eaf-8655-664538e40790', 'k1', 't1') :     0 :   0.0 :  None : False : False : NonNegativeReals\n",
      "    ('9c6b672a-661e-40c3-a9a0-902b33cc6871', 'cfc3f58f-7bdf-3019-888b-c4f2dbc332e8', 'k1', 't1') :     0 :   0.0 :  None : False : False : NonNegativeReals\n"
     ]
    }
   ],
   "source": [
    "model_instance.Flow.pprint()"
   ]
  },
  {
   "cell_type": "code",
   "execution_count": 14,
   "metadata": {},
   "outputs": [
    {
     "name": "stdout",
     "output_type": "stream",
     "text": [
      "Specific_Material_Transport_Flow : Specific Material Transport Flow\n",
      "    Size=0, Index=Specific_Material_Transport_Flow_index\n",
      "    Key : Lower : Value : Upper : Fixed : Stale : Domain\n"
     ]
    }
   ],
   "source": [
    "model_instance.Specific_Material_Transport_Flow.pprint()"
   ]
  },
  {
   "cell_type": "code",
   "execution_count": 15,
   "metadata": {},
   "outputs": [
    {
     "name": "stdout",
     "output_type": "stream",
     "text": [
      "Specific_Transport_Flow : Specific Transport Flow\n",
      "    Size=0, Index=Specific_Transport_Flow_index\n",
      "    Key : Lower : Value : Upper : Fixed : Stale : Domain\n"
     ]
    }
   ],
   "source": [
    "model_instance.Specific_Transport_Flow.pprint()"
   ]
  },
  {
   "cell_type": "code",
   "execution_count": 16,
   "metadata": {},
   "outputs": [
    {
     "name": "stdout",
     "output_type": "stream",
     "text": [
      "transport_constraint : Size=0, Index=transport_constraint_index, Active=True\n",
      "    Key : Lower : Body : Upper : Active\n"
     ]
    }
   ],
   "source": [
    "model_instance.transport_constraint.pprint()"
   ]
  },
  {
   "cell_type": "markdown",
   "metadata": {},
   "source": [
    "# Output\n",
    "\n",
    "We use the `mola.output` module to prettify the output."
   ]
  },
  {
   "cell_type": "code",
   "execution_count": 17,
   "metadata": {},
   "outputs": [
    {
     "name": "stdout",
     "output_type": "stream",
     "text": [
      "SELECT \"REF_ID\",\"NAME\" FROM \"TBL_CATEGORIES\"\n",
      "SELECT \"REF_ID\" \"FLOW_REF_ID\",\"NAME\" FROM \"TBL_FLOWS\"\n",
      "SELECT \"TBL_PROCESSES\".\"REF_ID\" \"PROCESS_REF_ID\",\"TBL_PROCESSES\".\"NAME\" \"PROCESS_NAME\",\"TBL_LOCATIONS\".\"NAME\" \"LOCATION_NAME\" FROM \"TBL_PROCESSES\" LEFT JOIN \"TBL_LOCATIONS\" ON CAST(\"TBL_PROCESSES\".\"F_LOCATION\" AS INT)=\"TBL_LOCATIONS\".\"ID\"\n",
      "SELECT \"REF_ID\",\"NAME\" FROM \"TBL_FLOWS\" WHERE \"FLOW_TYPE\"='PRODUCT_FLOW'\n",
      "SELECT \"TBL_IMPACT_METHODS\".\"NAME\" \"method_NAME\",\"TBL_IMPACT_CATEGORIES\".\"REF_ID\" \"REF_ID\",\"TBL_IMPACT_CATEGORIES\".\"NAME\" \"category_NAME\" FROM \"TBL_IMPACT_CATEGORIES\" LEFT JOIN \"TBL_IMPACT_METHODS\" ON \"TBL_IMPACT_CATEGORIES\".\"F_IMPACT_METHOD\"=\"TBL_IMPACT_METHODS\".\"ID\"\n"
     ]
    }
   ],
   "source": [
    "import mola.output as mo\n",
    "lookup = dv.LookupTables(conn)"
   ]
  },
  {
   "cell_type": "code",
   "execution_count": 18,
   "metadata": {},
   "outputs": [
    {
     "data": {
      "text/html": [
       "<div>\n",
       "<style scoped>\n",
       "    .dataframe tbody tr th:only-of-type {\n",
       "        vertical-align: middle;\n",
       "    }\n",
       "\n",
       "    .dataframe tbody tr th {\n",
       "        vertical-align: top;\n",
       "    }\n",
       "\n",
       "    .dataframe thead th {\n",
       "        text-align: right;\n",
       "    }\n",
       "</style>\n",
       "<table border=\"1\" class=\"dataframe\">\n",
       "  <thead>\n",
       "    <tr style=\"text-align: right;\">\n",
       "      <th></th>\n",
       "      <th>Flow</th>\n",
       "      <th>F_m</th>\n",
       "      <th>P_m</th>\n",
       "    </tr>\n",
       "  </thead>\n",
       "  <tbody>\n",
       "    <tr>\n",
       "      <th>0</th>\n",
       "      <td>0.0</td>\n",
       "      <td>orange, fresh grade</td>\n",
       "      <td>orange production, fresh grade | orange, fresh...</td>\n",
       "    </tr>\n",
       "    <tr>\n",
       "      <th>1</th>\n",
       "      <td>0.0</td>\n",
       "      <td>orange, fresh grade</td>\n",
       "      <td>mandarin production | mandarin | APOS, S | Sou...</td>\n",
       "    </tr>\n",
       "    <tr>\n",
       "      <th>2</th>\n",
       "      <td>0.0</td>\n",
       "      <td>orange, fresh grade</td>\n",
       "      <td>apple production | apple | APOS, S | Italy</td>\n",
       "    </tr>\n",
       "    <tr>\n",
       "      <th>3</th>\n",
       "      <td>0.0</td>\n",
       "      <td>apple</td>\n",
       "      <td>orange production, fresh grade | orange, fresh...</td>\n",
       "    </tr>\n",
       "    <tr>\n",
       "      <th>4</th>\n",
       "      <td>0.0</td>\n",
       "      <td>apple</td>\n",
       "      <td>mandarin production | mandarin | APOS, S | Sou...</td>\n",
       "    </tr>\n",
       "    <tr>\n",
       "      <th>5</th>\n",
       "      <td>0.0</td>\n",
       "      <td>apple</td>\n",
       "      <td>apple production | apple | APOS, S | Italy</td>\n",
       "    </tr>\n",
       "    <tr>\n",
       "      <th>6</th>\n",
       "      <td>0.0</td>\n",
       "      <td>mandarin</td>\n",
       "      <td>orange production, fresh grade | orange, fresh...</td>\n",
       "    </tr>\n",
       "    <tr>\n",
       "      <th>7</th>\n",
       "      <td>0.0</td>\n",
       "      <td>mandarin</td>\n",
       "      <td>mandarin production | mandarin | APOS, S | Sou...</td>\n",
       "    </tr>\n",
       "    <tr>\n",
       "      <th>8</th>\n",
       "      <td>0.0</td>\n",
       "      <td>mandarin</td>\n",
       "      <td>apple production | apple | APOS, S | Italy</td>\n",
       "    </tr>\n",
       "  </tbody>\n",
       "</table>\n",
       "</div>"
      ],
      "text/plain": [
       "   Flow                  F_m  \\\n",
       "0   0.0  orange, fresh grade   \n",
       "1   0.0  orange, fresh grade   \n",
       "2   0.0  orange, fresh grade   \n",
       "3   0.0                apple   \n",
       "4   0.0                apple   \n",
       "5   0.0                apple   \n",
       "6   0.0             mandarin   \n",
       "7   0.0             mandarin   \n",
       "8   0.0             mandarin   \n",
       "\n",
       "                                                 P_m  \n",
       "0  orange production, fresh grade | orange, fresh...  \n",
       "1  mandarin production | mandarin | APOS, S | Sou...  \n",
       "2         apple production | apple | APOS, S | Italy  \n",
       "3  orange production, fresh grade | orange, fresh...  \n",
       "4  mandarin production | mandarin | APOS, S | Sou...  \n",
       "5         apple production | apple | APOS, S | Italy  \n",
       "6  orange production, fresh grade | orange, fresh...  \n",
       "7  mandarin production | mandarin | APOS, S | Sou...  \n",
       "8         apple production | apple | APOS, S | Italy  "
      ]
     },
     "execution_count": 18,
     "metadata": {},
     "output_type": "execute_result"
    }
   ],
   "source": [
    "flows_dfr = mo.get_entity(model_instance.component('Flow'), lookup).reset_index(drop=True)\n",
    "flows_dfr"
   ]
  },
  {
   "cell_type": "code",
   "execution_count": null,
   "metadata": {},
   "outputs": [],
   "source": []
  },
  {
   "cell_type": "code",
   "execution_count": null,
   "metadata": {},
   "outputs": [],
   "source": []
  }
 ],
 "metadata": {
  "kernelspec": {
   "display_name": "Python 3",
   "language": "python",
   "name": "python3"
  },
  "language_info": {
   "codemirror_mode": {
    "name": "ipython",
    "version": 3
   },
   "file_extension": ".py",
   "mimetype": "text/x-python",
   "name": "python",
   "nbconvert_exporter": "python",
   "pygments_lexer": "ipython3",
   "version": "3.7.9"
  },
  "toc": {
   "base_numbering": 1,
   "nav_menu": {},
   "number_sections": true,
   "sideBar": true,
   "skip_h1_title": false,
   "title_cell": "Table of Contents",
   "title_sidebar": "Contents",
   "toc_cell": false,
   "toc_position": {
    "height": "calc(100% - 180px)",
    "left": "10px",
    "top": "150px",
    "width": "284.438px"
   },
   "toc_section_display": true,
   "toc_window_display": true
  },
  "varInspector": {
   "cols": {
    "lenName": 16,
    "lenType": 16,
    "lenVar": 40
   },
   "kernels_config": {
    "python": {
     "delete_cmd_postfix": "",
     "delete_cmd_prefix": "del ",
     "library": "var_list.py",
     "varRefreshCmd": "print(var_dic_list())"
    },
    "r": {
     "delete_cmd_postfix": ") ",
     "delete_cmd_prefix": "rm(",
     "library": "var_list.r",
     "varRefreshCmd": "cat(var_dic_list()) "
    }
   },
   "types_to_exclude": [
    "module",
    "function",
    "builtin_function_or_method",
    "instance",
    "_Feature"
   ],
   "window_display": false
  }
 },
 "nbformat": 4,
 "nbformat_minor": 4
}
