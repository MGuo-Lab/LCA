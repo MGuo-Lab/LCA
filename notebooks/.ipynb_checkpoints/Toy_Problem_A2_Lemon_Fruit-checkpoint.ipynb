{
 "cells": [
  {
   "cell_type": "markdown",
   "metadata": {},
   "source": [
    "# Lemon Toy Problem A\n",
    "\n",
    "This is an example optimisation problem that demonstrates the low-level functionality available in the `mola` package for manipulating openLCA data in a notebook.\n",
    "\n",
    "## Problem Statement\n",
    " \n",
    "A citrus fruit juice producer wishes to transport 1 tonne of lemons from Spain to their UK operation. They would like to choose a freight transport option that minimises the environmental impact on climate change. The freight transport options are by road in a light commercial vehicle, diesel train or sea tanker. \n",
    "\n",
    "Assumptions\n",
    "* All data can be sourced from openLCA\n",
    "* Each mode of transport leads to the same distance travelled.\n",
    "* The cost of the lemons and their transport can be ignored."
   ]
  },
  {
   "cell_type": "markdown",
   "metadata": {},
   "source": [
    "## Specification"
   ]
  },
  {
   "cell_type": "markdown",
   "metadata": {},
   "source": [
    "In this section we translate the problem statement into the general specification v5.\n",
    "\n",
    "We choose the system openLCA database EcoInvent to source data for the problem and we fix the environmental impact category as $kpi =\\text{\"climate change - GWP100, ReCiPe Midpoint (H) V1.13\"}$. \n",
    "\n",
    "There is no time dependence so we can drop the subscript $t$ and there is no temporary storage facility so $F_s=\\emptyset$ and $S_{f_s}=0$. There is a single task and demand so the subscripts $k$ and $d$ can be dropped.\n",
    "\n",
    "There is one material product flow with index in $f_m=$\\{'lemon'\\}. The material process index set for the problem is $P_m$=\\{'lemon production in Spain'\\}.\n",
    "\n",
    "The transport process index set is $P_t$=\\{'transport by road from Spain', 'transport by rail from Spain', 'transport by tanker from Spain'\\}. The transport flow index set is $F_t$=\\{'transport, freight, light commercial vehicle', 'transport, freight train','transport, freight, sea, container ship'\\}. \n",
    "\n",
    "The total demand for lemons is $D^{total}=1$tonne."
   ]
  },
  {
   "cell_type": "markdown",
   "metadata": {},
   "source": [
    "In this problem, we minimise the environmental impact of sourcing lemons from Spain using different modes of transport. The objective is\n",
    "\n",
    "$$\n",
    "\\min_{Flow_{f_m, p_m}, t_{f_t, p_t}, f_{f_m, p_m, f_t, p_t}}Flow_{f_m, p_m} EI_{kpi, f_m, p_m} + \\sum_{f_t, p_t}t_{f_t,p_t}EI_{kpi, f_t, p_t}.\n",
    "$$\n",
    "\n",
    "where $Flow_{f_m, p_m}$ is the material flow of lemons in kg, $t_{f_t, p_t}$ is the quantity of lemons times distance that they are transported in km, $f_t$ is the mode of transport and $p_t$ is the transport process."
   ]
  },
  {
   "cell_type": "markdown",
   "metadata": {},
   "source": [
    "The flow of lemons satisfies\n",
    "\n",
    "$$\n",
    "Flow_{f_m, p_m}=\\sum_{f_t, p_t}f_{f_m, p_m, f_t, p_t},\n",
    "$$\n",
    "\n",
    "where $f_{f_m, p_m, f_t, p_t}$ is the total quantity of lemons in kg transported by transport flow $f_t$ arising through transport process $p_t$. There is no need for a linking parameter for this problem because each transport process is linked to the material process."
   ]
  },
  {
   "cell_type": "markdown",
   "metadata": {},
   "source": [
    "The quantity of lemons transported by flow $f_t$ times the distance travelled is\n",
    "\n",
    "$$\n",
    "t_{f_t, p_t} = f_{f_m, p_m, f_t, p_t}d_{p_m, f_m},\n",
    "$$\n",
    "\n",
    "where $d_{p_m, f_m}$ is the distance in km travelled by lemons from the production process $p_m$ in Spain and London. We assume the distance travelled is the same for each transport mode. "
   ]
  },
  {
   "cell_type": "markdown",
   "metadata": {},
   "source": [
    "Thus\n",
    "\n",
    "$$\n",
    "d_{p_m,f_m}=\\text{Haversine}(Y, X, Y_{p_m, f_m}^I, X_{p_m, f_m}^I)\n",
    "$$\n",
    "\n",
    "where $(X,Y)$ is the Longitude and Latitude of the London in the UK, and $(X^I_{p_m,f_m}, Y^I_{p_m,f_m})$ is the longitude and latitude of Spain from openLCA location data. The Haversine formula calculates the great circle distance between points on the earth's surface."
   ]
  },
  {
   "cell_type": "markdown",
   "metadata": {},
   "source": [
    "The environmental impact of lemon fruit growth is\n",
    "\n",
    "$$\n",
    "EI_{kpi, f_m, p_m} = \\sum_e Ef_{kpi, e}EF_{e, f_m, p_m} \n",
    "$$\n",
    "\n",
    "where the set of environmental flows are indexed by $E$ and $p_m=$'Lemons grown in Spain'. This data can be sourced from openLCA."
   ]
  },
  {
   "cell_type": "markdown",
   "metadata": {},
   "source": [
    "The environmental impact of transporting lemons using mode $f_t$ is\n",
    "\n",
    "$$\n",
    "EI_{kpi, f_t, p_t} = \\sum_e Ef_{kpi, e}EF_{e, f_t, p_t},\n",
    "$$\n",
    "\n",
    "where $p\\in$ \\{'transport by road from Spain', 'transport by rail from Spain', 'transport by tanker from Spain'\\} using openLCA data."
   ]
  },
  {
   "cell_type": "markdown",
   "metadata": {},
   "source": [
    "We also have the constraint that the flow must be sufficient to satisfy the demand $D^{total}=1000$ kg of lemons.\n",
    "\n",
    "$$\n",
    "Flow_{f_m, p_m} C_{f_m} \\ge D^{total}.\n",
    "$$\n",
    "\n",
    "where the conversion factor from flow to demand is $C_{f_m}=1$ kg per kg.\n",
    "\n",
    "Each decision variable is non-negative."
   ]
  },
  {
   "cell_type": "markdown",
   "metadata": {},
   "source": [
    "## Analytical Solution\n",
    "\n",
    "We can ignore the impact of lemon growth in the objective and the distance between Spain and London in order to find the optimal solution because they do not vary with the decision of which transport mode to take. The objective is\n",
    "\n",
    "$$\n",
    "\\min_{f_{f_m, p_m, f_t, p_t}}\\sum_{f_t, p_t}f_{f_m, p_m, f_t, p_t}EI_{kpi, p, f_t},\n",
    "$$ \n",
    "\n",
    "where \n",
    "\n",
    "$$\n",
    "\\sum_{f_t} f_{f_m, p_m, f_t, p_t} \\ge 1000 \\,\\text{kg},\\quad f_{f_m, p_m, f_t, p_t}\\ge 0.\n",
    "$$\n",
    "\n",
    "So the solution is $f_{f_m, p_m, f_t, p_t}=1000$ kg for whichever tranport mode $f_t$ has smallest environmental impact $EI_{kpi, p_t, f_t}$ (assuming there is only one)."
   ]
  },
  {
   "cell_type": "markdown",
   "metadata": {},
   "source": [
    "# Using openLCA data"
   ]
  },
  {
   "cell_type": "markdown",
   "metadata": {},
   "source": [
    "The dataview module from the `mola` Python package provides simple functions to retrieve data from an openLCA database. "
   ]
  },
  {
   "cell_type": "markdown",
   "metadata": {},
   "source": [
    "## Low-level functions\n",
    "\n",
    "First we load the `mola` modules."
   ]
  },
  {
   "cell_type": "code",
   "execution_count": 1,
   "metadata": {},
   "outputs": [],
   "source": [
    "import mola.dataview as dv\n",
    "import mola.dataimport as di"
   ]
  },
  {
   "cell_type": "markdown",
   "metadata": {},
   "source": [
    "We get a connection to a pre-defined sqlite database built from an openLCA zolca using the following function."
   ]
  },
  {
   "cell_type": "code",
   "execution_count": 2,
   "metadata": {},
   "outputs": [],
   "source": [
    "dbconn = di.get_sqlite_connection()"
   ]
  },
  {
   "cell_type": "markdown",
   "metadata": {},
   "source": [
    "There are low-level functions to find the table names and then retrieve raw tables from the openlca database."
   ]
  },
  {
   "cell_type": "code",
   "execution_count": 3,
   "metadata": {},
   "outputs": [
    {
     "name": "stdout",
     "output_type": "stream",
     "text": [
      "SELECT \"name\" FROM \"sqlite_master\" WHERE \"type\"='table' AND \"name\" NOT LIKE 'sqlite_'\n"
     ]
    },
    {
     "data": {
      "text/plain": [
       "['TBL_ACTORS',\n",
       " 'TBL_CATEGORIES',\n",
       " 'TBL_CURRENCIES',\n",
       " 'TBL_DQ_INDICATORS',\n",
       " 'TBL_DQ_SCORES',\n",
       " 'TBL_DQ_SYSTEMS',\n",
       " 'TBL_EXCHANGES',\n",
       " 'TBL_FLOWS',\n",
       " 'TBL_FLOW_PROPERTIES',\n",
       " 'TBL_FLOW_PROPERTY_FACTORS',\n",
       " 'TBL_IMPACT_CATEGORIES',\n",
       " 'TBL_IMPACT_FACTORS',\n",
       " 'TBL_IMPACT_METHODS',\n",
       " 'TBL_LOCATIONS',\n",
       " 'TBL_PROCESSES',\n",
       " 'TBL_PROCESS_DOCS',\n",
       " 'TBL_PROCESS_LINKS',\n",
       " 'TBL_PRODUCT_SYSTEMS',\n",
       " 'TBL_PRODUCT_SYSTEM_PROCESSES',\n",
       " 'TBL_SOURCES',\n",
       " 'TBL_UNITS',\n",
       " 'TBL_UNIT_GROUPS']"
      ]
     },
     "execution_count": 3,
     "metadata": {},
     "output_type": "execute_result"
    }
   ],
   "source": [
    "dv.get_table_names(dbconn)"
   ]
  },
  {
   "cell_type": "code",
   "execution_count": 4,
   "metadata": {},
   "outputs": [
    {
     "name": "stdout",
     "output_type": "stream",
     "text": [
      "SELECT * FROM \"TBL_LOCATIONS\"\n"
     ]
    },
    {
     "data": {
      "text/html": [
       "<div>\n",
       "<style scoped>\n",
       "    .dataframe tbody tr th:only-of-type {\n",
       "        vertical-align: middle;\n",
       "    }\n",
       "\n",
       "    .dataframe tbody tr th {\n",
       "        vertical-align: top;\n",
       "    }\n",
       "\n",
       "    .dataframe thead th {\n",
       "        text-align: right;\n",
       "    }\n",
       "</style>\n",
       "<table border=\"1\" class=\"dataframe\">\n",
       "  <thead>\n",
       "    <tr style=\"text-align: right;\">\n",
       "      <th></th>\n",
       "      <th>ID</th>\n",
       "      <th>REF_ID</th>\n",
       "      <th>NAME</th>\n",
       "      <th>DESCRIPTION</th>\n",
       "      <th>VERSION</th>\n",
       "      <th>LAST_CHANGE</th>\n",
       "      <th>F_CATEGORY</th>\n",
       "      <th>LONGITUDE</th>\n",
       "      <th>LATITUDE</th>\n",
       "      <th>CODE</th>\n",
       "      <th>KMZ</th>\n",
       "    </tr>\n",
       "  </thead>\n",
       "  <tbody>\n",
       "    <tr>\n",
       "      <th>0</th>\n",
       "      <td>501</td>\n",
       "      <td>00c66f1a-036b-38f9-8b70-9cb8d925d3d9</td>\n",
       "      <td>Yemen</td>\n",
       "      <td>C:/data/CSV/system/juice_ecoinvent_36_apos_lci...</td>\n",
       "      <td>1.0</td>\n",
       "      <td>1.575970e+12</td>\n",
       "      <td>None</td>\n",
       "      <td>48.350000</td>\n",
       "      <td>15.800000</td>\n",
       "      <td>YE</td>\n",
       "      <td>C:/data/CSV/system/juice_ecoinvent_36_apos_lci...</td>\n",
       "    </tr>\n",
       "    <tr>\n",
       "      <th>1</th>\n",
       "      <td>502</td>\n",
       "      <td>01b6e203-44b6-3835-85ed-1ddedf20d531</td>\n",
       "      <td>Tonga</td>\n",
       "      <td>C:/data/CSV/system/juice_ecoinvent_36_apos_lci...</td>\n",
       "      <td>1.0</td>\n",
       "      <td>1.575970e+12</td>\n",
       "      <td>None</td>\n",
       "      <td>-175.180000</td>\n",
       "      <td>-21.200000</td>\n",
       "      <td>TO</td>\n",
       "      <td>C:/data/CSV/system/juice_ecoinvent_36_apos_lci...</td>\n",
       "    </tr>\n",
       "    <tr>\n",
       "      <th>2</th>\n",
       "      <td>503</td>\n",
       "      <td>0273c379-31a2-34e3-9d4a-351b4c0f4ef2</td>\n",
       "      <td>EU candidate countries 2007</td>\n",
       "      <td>C:/data/CSV/system/juice_ecoinvent_36_apos_lci...</td>\n",
       "      <td>NaN</td>\n",
       "      <td>NaN</td>\n",
       "      <td>None</td>\n",
       "      <td>0.000000</td>\n",
       "      <td>0.000000</td>\n",
       "      <td>EC-CC2007</td>\n",
       "      <td>C:/data/CSV/system/juice_ecoinvent_36_apos_lci...</td>\n",
       "    </tr>\n",
       "    <tr>\n",
       "      <th>3</th>\n",
       "      <td>504</td>\n",
       "      <td>0288bde0-c2d5-33f2-b576-6f61b826a650</td>\n",
       "      <td>Niue</td>\n",
       "      <td>C:/data/CSV/system/juice_ecoinvent_36_apos_lci...</td>\n",
       "      <td>1.0</td>\n",
       "      <td>1.575970e+12</td>\n",
       "      <td>None</td>\n",
       "      <td>-169.860000</td>\n",
       "      <td>-19.050000</td>\n",
       "      <td>NU</td>\n",
       "      <td>C:/data/CSV/system/juice_ecoinvent_36_apos_lci...</td>\n",
       "    </tr>\n",
       "    <tr>\n",
       "      <th>4</th>\n",
       "      <td>505</td>\n",
       "      <td>02cb9a5a-488d-3ea0-84d9-3ae7b315e386</td>\n",
       "      <td>Western Asia</td>\n",
       "      <td>C:/data/CSV/system/juice_ecoinvent_36_apos_lci...</td>\n",
       "      <td>1.0</td>\n",
       "      <td>1.575970e+12</td>\n",
       "      <td>None</td>\n",
       "      <td>43.360000</td>\n",
       "      <td>28.460000</td>\n",
       "      <td>UN-WASIA</td>\n",
       "      <td>C:/data/CSV/system/juice_ecoinvent_36_apos_lci...</td>\n",
       "    </tr>\n",
       "    <tr>\n",
       "      <th>...</th>\n",
       "      <td>...</td>\n",
       "      <td>...</td>\n",
       "      <td>...</td>\n",
       "      <td>...</td>\n",
       "      <td>...</td>\n",
       "      <td>...</td>\n",
       "      <td>...</td>\n",
       "      <td>...</td>\n",
       "      <td>...</td>\n",
       "      <td>...</td>\n",
       "      <td>...</td>\n",
       "    </tr>\n",
       "    <tr>\n",
       "      <th>573</th>\n",
       "      <td>36097873</td>\n",
       "      <td>3ac78d5e-cc6a-38b2-ad2c-18694933387a</td>\n",
       "      <td>India, Islands</td>\n",
       "      <td>C:/data/CSV/system/juice_ecoinvent_36_apos_lci...</td>\n",
       "      <td>0.0</td>\n",
       "      <td>1.575970e+12</td>\n",
       "      <td>None</td>\n",
       "      <td>92.880187</td>\n",
       "      <td>11.135444</td>\n",
       "      <td>IN-Islands</td>\n",
       "      <td>C:/data/CSV/system/juice_ecoinvent_36_apos_lci...</td>\n",
       "    </tr>\n",
       "    <tr>\n",
       "      <th>574</th>\n",
       "      <td>36097874</td>\n",
       "      <td>8088f809-4240-3a5f-b3ff-5ccad9f1e40f</td>\n",
       "      <td>Florida Reliability Coordinating Council</td>\n",
       "      <td>C:/data/CSV/system/juice_ecoinvent_36_apos_lci...</td>\n",
       "      <td>0.0</td>\n",
       "      <td>1.575970e+12</td>\n",
       "      <td>None</td>\n",
       "      <td>-81.902393</td>\n",
       "      <td>28.341743</td>\n",
       "      <td>US-FRCC</td>\n",
       "      <td>C:/data/CSV/system/juice_ecoinvent_36_apos_lci...</td>\n",
       "    </tr>\n",
       "    <tr>\n",
       "      <th>575</th>\n",
       "      <td>36097875</td>\n",
       "      <td>1662d8df-a168-3d22-a99f-9b180cc86f66</td>\n",
       "      <td>SERC Reliability Corporation</td>\n",
       "      <td>C:/data/CSV/system/juice_ecoinvent_36_apos_lci...</td>\n",
       "      <td>0.0</td>\n",
       "      <td>1.575970e+12</td>\n",
       "      <td>None</td>\n",
       "      <td>-86.471492</td>\n",
       "      <td>35.005265</td>\n",
       "      <td>US-SERC</td>\n",
       "      <td>C:/data/CSV/system/juice_ecoinvent_36_apos_lci...</td>\n",
       "    </tr>\n",
       "    <tr>\n",
       "      <th>576</th>\n",
       "      <td>36097876</td>\n",
       "      <td>2a47e9b9-c8a9-3aa8-851b-5f388e6dfdfc</td>\n",
       "      <td>Southwest Power Pool</td>\n",
       "      <td>C:/data/CSV/system/juice_ecoinvent_36_apos_lci...</td>\n",
       "      <td>0.0</td>\n",
       "      <td>1.575970e+12</td>\n",
       "      <td>None</td>\n",
       "      <td>-97.900958</td>\n",
       "      <td>36.185030</td>\n",
       "      <td>US-SPP</td>\n",
       "      <td>C:/data/CSV/system/juice_ecoinvent_36_apos_lci...</td>\n",
       "    </tr>\n",
       "    <tr>\n",
       "      <th>577</th>\n",
       "      <td>36097877</td>\n",
       "      <td>0cbcf9ee-a06a-3b2a-b9d6-1eca2f3a5565</td>\n",
       "      <td>Texas Regional Entity</td>\n",
       "      <td>C:/data/CSV/system/juice_ecoinvent_36_apos_lci...</td>\n",
       "      <td>0.0</td>\n",
       "      <td>1.575970e+12</td>\n",
       "      <td>None</td>\n",
       "      <td>-99.213397</td>\n",
       "      <td>30.929816</td>\n",
       "      <td>US-TRE</td>\n",
       "      <td>C:/data/CSV/system/juice_ecoinvent_36_apos_lci...</td>\n",
       "    </tr>\n",
       "  </tbody>\n",
       "</table>\n",
       "<p>578 rows × 11 columns</p>\n",
       "</div>"
      ],
      "text/plain": [
       "           ID                                REF_ID  \\\n",
       "0         501  00c66f1a-036b-38f9-8b70-9cb8d925d3d9   \n",
       "1         502  01b6e203-44b6-3835-85ed-1ddedf20d531   \n",
       "2         503  0273c379-31a2-34e3-9d4a-351b4c0f4ef2   \n",
       "3         504  0288bde0-c2d5-33f2-b576-6f61b826a650   \n",
       "4         505  02cb9a5a-488d-3ea0-84d9-3ae7b315e386   \n",
       "..        ...                                   ...   \n",
       "573  36097873  3ac78d5e-cc6a-38b2-ad2c-18694933387a   \n",
       "574  36097874  8088f809-4240-3a5f-b3ff-5ccad9f1e40f   \n",
       "575  36097875  1662d8df-a168-3d22-a99f-9b180cc86f66   \n",
       "576  36097876  2a47e9b9-c8a9-3aa8-851b-5f388e6dfdfc   \n",
       "577  36097877  0cbcf9ee-a06a-3b2a-b9d6-1eca2f3a5565   \n",
       "\n",
       "                                         NAME  \\\n",
       "0                                       Yemen   \n",
       "1                                       Tonga   \n",
       "2                 EU candidate countries 2007   \n",
       "3                                        Niue   \n",
       "4                                Western Asia   \n",
       "..                                        ...   \n",
       "573                            India, Islands   \n",
       "574  Florida Reliability Coordinating Council   \n",
       "575              SERC Reliability Corporation   \n",
       "576                      Southwest Power Pool   \n",
       "577                     Texas Regional Entity   \n",
       "\n",
       "                                           DESCRIPTION  VERSION   LAST_CHANGE  \\\n",
       "0    C:/data/CSV/system/juice_ecoinvent_36_apos_lci...      1.0  1.575970e+12   \n",
       "1    C:/data/CSV/system/juice_ecoinvent_36_apos_lci...      1.0  1.575970e+12   \n",
       "2    C:/data/CSV/system/juice_ecoinvent_36_apos_lci...      NaN           NaN   \n",
       "3    C:/data/CSV/system/juice_ecoinvent_36_apos_lci...      1.0  1.575970e+12   \n",
       "4    C:/data/CSV/system/juice_ecoinvent_36_apos_lci...      1.0  1.575970e+12   \n",
       "..                                                 ...      ...           ...   \n",
       "573  C:/data/CSV/system/juice_ecoinvent_36_apos_lci...      0.0  1.575970e+12   \n",
       "574  C:/data/CSV/system/juice_ecoinvent_36_apos_lci...      0.0  1.575970e+12   \n",
       "575  C:/data/CSV/system/juice_ecoinvent_36_apos_lci...      0.0  1.575970e+12   \n",
       "576  C:/data/CSV/system/juice_ecoinvent_36_apos_lci...      0.0  1.575970e+12   \n",
       "577  C:/data/CSV/system/juice_ecoinvent_36_apos_lci...      0.0  1.575970e+12   \n",
       "\n",
       "    F_CATEGORY   LONGITUDE   LATITUDE        CODE  \\\n",
       "0         None   48.350000  15.800000          YE   \n",
       "1         None -175.180000 -21.200000          TO   \n",
       "2         None    0.000000   0.000000   EC-CC2007   \n",
       "3         None -169.860000 -19.050000          NU   \n",
       "4         None   43.360000  28.460000    UN-WASIA   \n",
       "..         ...         ...        ...         ...   \n",
       "573       None   92.880187  11.135444  IN-Islands   \n",
       "574       None  -81.902393  28.341743     US-FRCC   \n",
       "575       None  -86.471492  35.005265     US-SERC   \n",
       "576       None  -97.900958  36.185030      US-SPP   \n",
       "577       None  -99.213397  30.929816      US-TRE   \n",
       "\n",
       "                                                   KMZ  \n",
       "0    C:/data/CSV/system/juice_ecoinvent_36_apos_lci...  \n",
       "1    C:/data/CSV/system/juice_ecoinvent_36_apos_lci...  \n",
       "2    C:/data/CSV/system/juice_ecoinvent_36_apos_lci...  \n",
       "3    C:/data/CSV/system/juice_ecoinvent_36_apos_lci...  \n",
       "4    C:/data/CSV/system/juice_ecoinvent_36_apos_lci...  \n",
       "..                                                 ...  \n",
       "573  C:/data/CSV/system/juice_ecoinvent_36_apos_lci...  \n",
       "574  C:/data/CSV/system/juice_ecoinvent_36_apos_lci...  \n",
       "575  C:/data/CSV/system/juice_ecoinvent_36_apos_lci...  \n",
       "576  C:/data/CSV/system/juice_ecoinvent_36_apos_lci...  \n",
       "577  C:/data/CSV/system/juice_ecoinvent_36_apos_lci...  \n",
       "\n",
       "[578 rows x 11 columns]"
      ]
     },
     "execution_count": 4,
     "metadata": {},
     "output_type": "execute_result"
    }
   ],
   "source": [
    "dfr = dv.get_table(dbconn, 'TBL_LOCATIONS')\n",
    "dfr"
   ]
  },
  {
   "cell_type": "markdown",
   "metadata": {},
   "source": [
    "## High-level functions\n",
    "\n",
    "Higher level functions provide views and joins of the raw table data in the database.\n",
    "\n",
    "The elementary flow table maps an ID to a elementary flow name. We can obtain a table of elementary flows using the following function."
   ]
  },
  {
   "cell_type": "code",
   "execution_count": 5,
   "metadata": {},
   "outputs": [
    {
     "name": "stdout",
     "output_type": "stream",
     "text": [
      "SELECT \"ID\",\"REF_ID\",\"NAME\" FROM \"TBL_FLOWS\" WHERE \"FLOW_TYPE\"='ELEMENTARY_FLOW'\n"
     ]
    },
    {
     "data": {
      "text/html": [
       "<div>\n",
       "<style scoped>\n",
       "    .dataframe tbody tr th:only-of-type {\n",
       "        vertical-align: middle;\n",
       "    }\n",
       "\n",
       "    .dataframe tbody tr th {\n",
       "        vertical-align: top;\n",
       "    }\n",
       "\n",
       "    .dataframe thead th {\n",
       "        text-align: right;\n",
       "    }\n",
       "</style>\n",
       "<table border=\"1\" class=\"dataframe\">\n",
       "  <thead>\n",
       "    <tr style=\"text-align: right;\">\n",
       "      <th></th>\n",
       "      <th>ID</th>\n",
       "      <th>REF_ID</th>\n",
       "      <th>NAME</th>\n",
       "    </tr>\n",
       "  </thead>\n",
       "  <tbody>\n",
       "    <tr>\n",
       "      <th>0</th>\n",
       "      <td>125157</td>\n",
       "      <td>0f440cc0-0f74-446d-99d6-8ff0e97a2444</td>\n",
       "      <td>Ammonia</td>\n",
       "    </tr>\n",
       "    <tr>\n",
       "      <th>1</th>\n",
       "      <td>125159</td>\n",
       "      <td>e336eee7-148a-4d1c-8027-780cbfafa12b</td>\n",
       "      <td>Copper</td>\n",
       "    </tr>\n",
       "    <tr>\n",
       "      <th>2</th>\n",
       "      <td>125161</td>\n",
       "      <td>e6551223-73b6-4289-b841-c5cdeb25abd9</td>\n",
       "      <td>Selenium</td>\n",
       "    </tr>\n",
       "    <tr>\n",
       "      <th>3</th>\n",
       "      <td>125163</td>\n",
       "      <td>33b38ccb-593b-4b11-b965-10d747ba3556</td>\n",
       "      <td>NMVOC, non-methane volatile organic compounds,...</td>\n",
       "    </tr>\n",
       "    <tr>\n",
       "      <th>4</th>\n",
       "      <td>125165</td>\n",
       "      <td>afd6d670-bbb0-4625-9730-04088a5b035e</td>\n",
       "      <td>Dinitrogen monoxide</td>\n",
       "    </tr>\n",
       "    <tr>\n",
       "      <th>...</th>\n",
       "      <td>...</td>\n",
       "      <td>...</td>\n",
       "      <td>...</td>\n",
       "    </tr>\n",
       "    <tr>\n",
       "      <th>3925</th>\n",
       "      <td>36101714</td>\n",
       "      <td>183f9856-03ab-464d-9366-8ef62077b510</td>\n",
       "      <td>Antimony</td>\n",
       "    </tr>\n",
       "    <tr>\n",
       "      <th>3926</th>\n",
       "      <td>36101716</td>\n",
       "      <td>0e7c1a7b-cd98-4f8d-a619-a687d3e2cb48</td>\n",
       "      <td>Ethene, trichloro-</td>\n",
       "    </tr>\n",
       "    <tr>\n",
       "      <th>3927</th>\n",
       "      <td>36101718</td>\n",
       "      <td>689ffb9a-b596-4191-b458-2908dc2d075c</td>\n",
       "      <td>Vanadium</td>\n",
       "    </tr>\n",
       "    <tr>\n",
       "      <th>3928</th>\n",
       "      <td>36101720</td>\n",
       "      <td>49803ad0-9ca2-4507-a5ea-f152d16c929d</td>\n",
       "      <td>Antimony</td>\n",
       "    </tr>\n",
       "    <tr>\n",
       "      <th>3929</th>\n",
       "      <td>36101722</td>\n",
       "      <td>05bfed24-3408-42a2-9208-daec1538905d</td>\n",
       "      <td>Cyanazine</td>\n",
       "    </tr>\n",
       "  </tbody>\n",
       "</table>\n",
       "<p>3930 rows × 3 columns</p>\n",
       "</div>"
      ],
      "text/plain": [
       "            ID                                REF_ID  \\\n",
       "0       125157  0f440cc0-0f74-446d-99d6-8ff0e97a2444   \n",
       "1       125159  e336eee7-148a-4d1c-8027-780cbfafa12b   \n",
       "2       125161  e6551223-73b6-4289-b841-c5cdeb25abd9   \n",
       "3       125163  33b38ccb-593b-4b11-b965-10d747ba3556   \n",
       "4       125165  afd6d670-bbb0-4625-9730-04088a5b035e   \n",
       "...        ...                                   ...   \n",
       "3925  36101714  183f9856-03ab-464d-9366-8ef62077b510   \n",
       "3926  36101716  0e7c1a7b-cd98-4f8d-a619-a687d3e2cb48   \n",
       "3927  36101718  689ffb9a-b596-4191-b458-2908dc2d075c   \n",
       "3928  36101720  49803ad0-9ca2-4507-a5ea-f152d16c929d   \n",
       "3929  36101722  05bfed24-3408-42a2-9208-daec1538905d   \n",
       "\n",
       "                                                   NAME  \n",
       "0                                               Ammonia  \n",
       "1                                                Copper  \n",
       "2                                              Selenium  \n",
       "3     NMVOC, non-methane volatile organic compounds,...  \n",
       "4                                   Dinitrogen monoxide  \n",
       "...                                                 ...  \n",
       "3925                                           Antimony  \n",
       "3926                                 Ethene, trichloro-  \n",
       "3927                                           Vanadium  \n",
       "3928                                           Antimony  \n",
       "3929                                          Cyanazine  \n",
       "\n",
       "[3930 rows x 3 columns]"
      ]
     },
     "execution_count": 5,
     "metadata": {},
     "output_type": "execute_result"
    }
   ],
   "source": [
    "dfr = dv.get_elementary_flows(dbconn)\n",
    "dfr"
   ]
  },
  {
   "cell_type": "markdown",
   "metadata": {},
   "source": [
    "There are around 18000 processes in the default Ecoinvent database. So the dataview module provides a function to search for processes by name and location. The percent character is a wildcard."
   ]
  },
  {
   "cell_type": "code",
   "execution_count": 6,
   "metadata": {},
   "outputs": [
    {
     "name": "stdout",
     "output_type": "stream",
     "text": [
      "SELECT \"TBL_PROCESSES\".\"ID\",\"TBL_PROCESSES\".\"REF_ID\",\"TBL_PROCESSES\".\"NAME\",\"TBL_PROCESSES\".\"PROCESS_TYPE\",\"TBL_LOCATIONS\".\"NAME\" \"LOCATION\",\"TBL_PROCESSES\".\"F_QUANTITATIVE_REFERENCE\" FROM \"TBL_PROCESSES\" LEFT JOIN \"TBL_LOCATIONS\" ON CAST(\"TBL_PROCESSES\".\"F_LOCATION\" AS INT)=\"TBL_LOCATIONS\".\"ID\" WHERE \"TBL_PROCESSES\".\"NAME\" LIKE '%Lemon%'\n"
     ]
    },
    {
     "data": {
      "text/html": [
       "<div>\n",
       "<style scoped>\n",
       "    .dataframe tbody tr th:only-of-type {\n",
       "        vertical-align: middle;\n",
       "    }\n",
       "\n",
       "    .dataframe tbody tr th {\n",
       "        vertical-align: top;\n",
       "    }\n",
       "\n",
       "    .dataframe thead th {\n",
       "        text-align: right;\n",
       "    }\n",
       "</style>\n",
       "<table border=\"1\" class=\"dataframe\">\n",
       "  <thead>\n",
       "    <tr style=\"text-align: right;\">\n",
       "      <th></th>\n",
       "      <th>ID</th>\n",
       "      <th>REF_ID</th>\n",
       "      <th>NAME</th>\n",
       "      <th>PROCESS_TYPE</th>\n",
       "      <th>LOCATION</th>\n",
       "      <th>F_QUANTITATIVE_REFERENCE</th>\n",
       "    </tr>\n",
       "  </thead>\n",
       "  <tbody>\n",
       "    <tr>\n",
       "      <th>0</th>\n",
       "      <td>4578980</td>\n",
       "      <td>14a094df-5988-3a57-96eb-cca3482628b0</td>\n",
       "      <td>market for lemon | lemon | APOS, S</td>\n",
       "      <td>LCI_RESULT</td>\n",
       "      <td>Global</td>\n",
       "      <td>4578982</td>\n",
       "    </tr>\n",
       "    <tr>\n",
       "      <th>1</th>\n",
       "      <td>5409534</td>\n",
       "      <td>64867712-23c4-3be5-a50e-3631e74571a6</td>\n",
       "      <td>lemon production | lemon | APOS, S</td>\n",
       "      <td>LCI_RESULT</td>\n",
       "      <td>Spain</td>\n",
       "      <td>5409536</td>\n",
       "    </tr>\n",
       "    <tr>\n",
       "      <th>2</th>\n",
       "      <td>5764475</td>\n",
       "      <td>4ce4cc23-c7be-3317-a9fb-45d4d4a0a8ab</td>\n",
       "      <td>lemon production | lemon | APOS, S</td>\n",
       "      <td>LCI_RESULT</td>\n",
       "      <td>Rest-of-World</td>\n",
       "      <td>5764477</td>\n",
       "    </tr>\n",
       "    <tr>\n",
       "      <th>3</th>\n",
       "      <td>12597999</td>\n",
       "      <td>9f6a92b7-80aa-3705-8cae-042e064e3090</td>\n",
       "      <td>lemon production | lemon | APOS, S</td>\n",
       "      <td>LCI_RESULT</td>\n",
       "      <td>Turkey</td>\n",
       "      <td>12598001</td>\n",
       "    </tr>\n",
       "    <tr>\n",
       "      <th>4</th>\n",
       "      <td>34323860</td>\n",
       "      <td>727a873a-27de-3274-a0ae-ecd2c90b122f</td>\n",
       "      <td>lemon production | lemon | APOS, S</td>\n",
       "      <td>LCI_RESULT</td>\n",
       "      <td>Mexico</td>\n",
       "      <td>34323862</td>\n",
       "    </tr>\n",
       "  </tbody>\n",
       "</table>\n",
       "</div>"
      ],
      "text/plain": [
       "         ID                                REF_ID  \\\n",
       "0   4578980  14a094df-5988-3a57-96eb-cca3482628b0   \n",
       "1   5409534  64867712-23c4-3be5-a50e-3631e74571a6   \n",
       "2   5764475  4ce4cc23-c7be-3317-a9fb-45d4d4a0a8ab   \n",
       "3  12597999  9f6a92b7-80aa-3705-8cae-042e064e3090   \n",
       "4  34323860  727a873a-27de-3274-a0ae-ecd2c90b122f   \n",
       "\n",
       "                                 NAME PROCESS_TYPE       LOCATION  \\\n",
       "0  market for lemon | lemon | APOS, S   LCI_RESULT         Global   \n",
       "1  lemon production | lemon | APOS, S   LCI_RESULT          Spain   \n",
       "2  lemon production | lemon | APOS, S   LCI_RESULT  Rest-of-World   \n",
       "3  lemon production | lemon | APOS, S   LCI_RESULT         Turkey   \n",
       "4  lemon production | lemon | APOS, S   LCI_RESULT         Mexico   \n",
       "\n",
       "   F_QUANTITATIVE_REFERENCE  \n",
       "0                   4578982  \n",
       "1                   5409536  \n",
       "2                   5764477  \n",
       "3                  12598001  \n",
       "4                  34323862  "
      ]
     },
     "execution_count": 6,
     "metadata": {},
     "output_type": "execute_result"
    }
   ],
   "source": [
    "dv.get_processes(dbconn, name=['%Lemon%'])"
   ]
  },
  {
   "cell_type": "markdown",
   "metadata": {},
   "source": [
    "The quantitative reference identifies an exchange that links the process to its reference flow."
   ]
  },
  {
   "cell_type": "code",
   "execution_count": 7,
   "metadata": {},
   "outputs": [
    {
     "name": "stdout",
     "output_type": "stream",
     "text": [
      "SELECT \"ID\",\"F_OWNER\",\"F_FLOW\",\"F_UNIT\",\"RESULTING_AMOUNT_VALUE\" FROM \"TBL_EXCHANGES\" WHERE \"ID\"=4578982\n"
     ]
    },
    {
     "data": {
      "text/html": [
       "<div>\n",
       "<style scoped>\n",
       "    .dataframe tbody tr th:only-of-type {\n",
       "        vertical-align: middle;\n",
       "    }\n",
       "\n",
       "    .dataframe tbody tr th {\n",
       "        vertical-align: top;\n",
       "    }\n",
       "\n",
       "    .dataframe thead th {\n",
       "        text-align: right;\n",
       "    }\n",
       "</style>\n",
       "<table border=\"1\" class=\"dataframe\">\n",
       "  <thead>\n",
       "    <tr style=\"text-align: right;\">\n",
       "      <th></th>\n",
       "      <th>ID</th>\n",
       "      <th>F_OWNER</th>\n",
       "      <th>F_FLOW</th>\n",
       "      <th>F_UNIT</th>\n",
       "      <th>RESULTING_AMOUNT_VALUE</th>\n",
       "    </tr>\n",
       "  </thead>\n",
       "  <tbody>\n",
       "    <tr>\n",
       "      <th>0</th>\n",
       "      <td>4578982</td>\n",
       "      <td>4578980</td>\n",
       "      <td>132016</td>\n",
       "      <td>1056</td>\n",
       "      <td>1.0</td>\n",
       "    </tr>\n",
       "  </tbody>\n",
       "</table>\n",
       "</div>"
      ],
      "text/plain": [
       "        ID  F_OWNER  F_FLOW  F_UNIT  RESULTING_AMOUNT_VALUE\n",
       "0  4578982  4578980  132016    1056                     1.0"
      ]
     },
     "execution_count": 7,
     "metadata": {},
     "output_type": "execute_result"
    }
   ],
   "source": [
    "dv.get_exchanges(dbconn, id=4578982)"
   ]
  },
  {
   "cell_type": "markdown",
   "metadata": {},
   "source": [
    "Here F_OWNER is the process id that owns the exchange, F_FLOW is the id of the reference flow and the resulting amount is the product flow amount in the unit referenced by F_UNIT. \n",
    "\n",
    "We can get back just the process REF_IDs from a search using"
   ]
  },
  {
   "cell_type": "code",
   "execution_count": 8,
   "metadata": {},
   "outputs": [
    {
     "name": "stdout",
     "output_type": "stream",
     "text": [
      "SELECT \"TBL_PROCESSES\".\"REF_ID\" FROM \"TBL_PROCESSES\" LEFT JOIN \"TBL_LOCATIONS\" ON CAST(\"TBL_PROCESSES\".\"F_LOCATION\" AS INT)=\"TBL_LOCATIONS\".\"ID\" WHERE \"TBL_PROCESSES\".\"NAME\" LIKE 'Lemon%'\n"
     ]
    },
    {
     "data": {
      "text/plain": [
       "['64867712-23c4-3be5-a50e-3631e74571a6',\n",
       " '4ce4cc23-c7be-3317-a9fb-45d4d4a0a8ab',\n",
       " '9f6a92b7-80aa-3705-8cae-042e064e3090',\n",
       " '727a873a-27de-3274-a0ae-ecd2c90b122f']"
      ]
     },
     "execution_count": 8,
     "metadata": {},
     "output_type": "execute_result"
    }
   ],
   "source": [
    "process_ref_ids = dv.get_process_ref_ids(dbconn, name=['Lemon%'])\n",
    "process_ref_ids"
   ]
  },
  {
   "cell_type": "markdown",
   "metadata": {},
   "source": [
    "There is a single unit process in the default database for reference."
   ]
  },
  {
   "cell_type": "code",
   "execution_count": 9,
   "metadata": {},
   "outputs": [
    {
     "name": "stdout",
     "output_type": "stream",
     "text": [
      "SELECT \"TBL_PROCESSES\".\"ID\",\"TBL_PROCESSES\".\"REF_ID\",\"TBL_PROCESSES\".\"NAME\",\"TBL_PROCESSES\".\"PROCESS_TYPE\",\"TBL_LOCATIONS\".\"NAME\" \"LOCATION\",\"TBL_PROCESSES\".\"F_QUANTITATIVE_REFERENCE\" FROM \"TBL_PROCESSES\" LEFT JOIN \"TBL_LOCATIONS\" ON CAST(\"TBL_PROCESSES\".\"F_LOCATION\" AS INT)=\"TBL_LOCATIONS\".\"ID\" WHERE \"TBL_PROCESSES\".\"NAME\" LIKE 'Process Z'\n"
     ]
    },
    {
     "data": {
      "text/html": [
       "<div>\n",
       "<style scoped>\n",
       "    .dataframe tbody tr th:only-of-type {\n",
       "        vertical-align: middle;\n",
       "    }\n",
       "\n",
       "    .dataframe tbody tr th {\n",
       "        vertical-align: top;\n",
       "    }\n",
       "\n",
       "    .dataframe thead th {\n",
       "        text-align: right;\n",
       "    }\n",
       "</style>\n",
       "<table border=\"1\" class=\"dataframe\">\n",
       "  <thead>\n",
       "    <tr style=\"text-align: right;\">\n",
       "      <th></th>\n",
       "      <th>ID</th>\n",
       "      <th>REF_ID</th>\n",
       "      <th>NAME</th>\n",
       "      <th>PROCESS_TYPE</th>\n",
       "      <th>LOCATION</th>\n",
       "      <th>F_QUANTITATIVE_REFERENCE</th>\n",
       "    </tr>\n",
       "  </thead>\n",
       "  <tbody>\n",
       "    <tr>\n",
       "      <th>0</th>\n",
       "      <td>36098004</td>\n",
       "      <td>48b9f68d-cb46-4fdd-a20b-95b5df78dfdf</td>\n",
       "      <td>Process Z</td>\n",
       "      <td>UNIT_PROCESS</td>\n",
       "      <td>None</td>\n",
       "      <td>36098006</td>\n",
       "    </tr>\n",
       "  </tbody>\n",
       "</table>\n",
       "</div>"
      ],
      "text/plain": [
       "         ID                                REF_ID       NAME  PROCESS_TYPE  \\\n",
       "0  36098004  48b9f68d-cb46-4fdd-a20b-95b5df78dfdf  Process Z  UNIT_PROCESS   \n",
       "\n",
       "  LOCATION  F_QUANTITATIVE_REFERENCE  \n",
       "0     None                  36098006  "
      ]
     },
     "execution_count": 9,
     "metadata": {},
     "output_type": "execute_result"
    }
   ],
   "source": [
    "dv.get_processes(dbconn, name=['Process Z'])"
   ]
  },
  {
   "cell_type": "code",
   "execution_count": 10,
   "metadata": {},
   "outputs": [
    {
     "name": "stdout",
     "output_type": "stream",
     "text": [
      "SELECT \"ID\",\"REF_ID\",\"NAME\" FROM \"TBL_FLOWS\" WHERE \"FLOW_TYPE\"='PRODUCT_FLOW' AND (\"name\" LIKE 'lemon%' OR \"name\" LIKE 'orange%' OR \"name\" LIKE 'mandarin%')\n"
     ]
    },
    {
     "data": {
      "text/html": [
       "<div>\n",
       "<style scoped>\n",
       "    .dataframe tbody tr th:only-of-type {\n",
       "        vertical-align: middle;\n",
       "    }\n",
       "\n",
       "    .dataframe tbody tr th {\n",
       "        vertical-align: top;\n",
       "    }\n",
       "\n",
       "    .dataframe thead th {\n",
       "        text-align: right;\n",
       "    }\n",
       "</style>\n",
       "<table border=\"1\" class=\"dataframe\">\n",
       "  <thead>\n",
       "    <tr style=\"text-align: right;\">\n",
       "      <th></th>\n",
       "      <th>ID</th>\n",
       "      <th>REF_ID</th>\n",
       "      <th>NAME</th>\n",
       "    </tr>\n",
       "  </thead>\n",
       "  <tbody>\n",
       "    <tr>\n",
       "      <th>0</th>\n",
       "      <td>129718</td>\n",
       "      <td>1f7bbd3e-fcd1-412d-8608-035b855ea735</td>\n",
       "      <td>orange, fresh grade</td>\n",
       "    </tr>\n",
       "    <tr>\n",
       "      <th>1</th>\n",
       "      <td>132016</td>\n",
       "      <td>9891d347-28f8-434d-896a-84a19a4c68a6</td>\n",
       "      <td>lemon</td>\n",
       "    </tr>\n",
       "    <tr>\n",
       "      <th>2</th>\n",
       "      <td>134705</td>\n",
       "      <td>ec4fd0d0-b3f5-4585-a2f9-98240429eac3</td>\n",
       "      <td>mandarin, processing grade</td>\n",
       "    </tr>\n",
       "    <tr>\n",
       "      <th>3</th>\n",
       "      <td>134735</td>\n",
       "      <td>01d3bb5a-645e-485c-9661-cdcebf93385c</td>\n",
       "      <td>orange, processing grade</td>\n",
       "    </tr>\n",
       "    <tr>\n",
       "      <th>4</th>\n",
       "      <td>135345</td>\n",
       "      <td>0b588bb3-b211-420e-80ed-f6f4fba01f8a</td>\n",
       "      <td>mandarin, fresh grade</td>\n",
       "    </tr>\n",
       "    <tr>\n",
       "      <th>5</th>\n",
       "      <td>135455</td>\n",
       "      <td>9c6b672a-661e-40c3-a9a0-902b33cc6871</td>\n",
       "      <td>mandarin</td>\n",
       "    </tr>\n",
       "  </tbody>\n",
       "</table>\n",
       "</div>"
      ],
      "text/plain": [
       "       ID                                REF_ID                        NAME\n",
       "0  129718  1f7bbd3e-fcd1-412d-8608-035b855ea735         orange, fresh grade\n",
       "1  132016  9891d347-28f8-434d-896a-84a19a4c68a6                       lemon\n",
       "2  134705  ec4fd0d0-b3f5-4585-a2f9-98240429eac3  mandarin, processing grade\n",
       "3  134735  01d3bb5a-645e-485c-9661-cdcebf93385c    orange, processing grade\n",
       "4  135345  0b588bb3-b211-420e-80ed-f6f4fba01f8a       mandarin, fresh grade\n",
       "5  135455  9c6b672a-661e-40c3-a9a0-902b33cc6871                    mandarin"
      ]
     },
     "execution_count": 10,
     "metadata": {},
     "output_type": "execute_result"
    }
   ],
   "source": [
    "dv.get_product_flows(dbconn, name=['lemon%', 'orange%', 'mandarin%'])"
   ]
  },
  {
   "cell_type": "code",
   "execution_count": 11,
   "metadata": {},
   "outputs": [
    {
     "name": "stdout",
     "output_type": "stream",
     "text": [
      "SELECT \"REF_ID\" FROM \"TBL_FLOWS\" WHERE \"FLOW_TYPE\"='PRODUCT_FLOW' AND (\"name\" LIKE 'lemon' OR \"name\" LIKE 'orange%p%' OR \"name\" LIKE 'mandarin%P%')\n"
     ]
    },
    {
     "data": {
      "text/plain": [
       "['9891d347-28f8-434d-896a-84a19a4c68a6',\n",
       " 'ec4fd0d0-b3f5-4585-a2f9-98240429eac3',\n",
       " '01d3bb5a-645e-485c-9661-cdcebf93385c']"
      ]
     },
     "execution_count": 11,
     "metadata": {},
     "output_type": "execute_result"
    }
   ],
   "source": [
    "product_ref_ids = dv.get_product_flow_ref_ids(dbconn, name=['lemon', 'orange%p%', 'mandarin%P%'])\n",
    "product_ref_ids"
   ]
  },
  {
   "cell_type": "markdown",
   "metadata": {},
   "source": [
    "We can get the breakdown of a product output flow from a process into elementary flows."
   ]
  },
  {
   "cell_type": "code",
   "execution_count": 12,
   "metadata": {},
   "outputs": [
    {
     "name": "stdout",
     "output_type": "stream",
     "text": [
      "SELECT \"e\".\"F_OWNER\",\"e\".\"F_FLOW\",\"e\".\"F_UNIT\",\"e\".\"RESULTING_AMOUNT_VALUE\",\"TBL_FLOWS\".\"FLOW_TYPE\",\"TBL_FLOWS\".\"REF_ID\" FROM (SELECT \"F_OWNER\",\"F_FLOW\",\"F_UNIT\",\"RESULTING_AMOUNT_VALUE\" FROM \"TBL_EXCHANGES\" WHERE \"F_OWNER\" IN (5409534,5764475,12597999,34323860)) \"e\" LEFT JOIN \"TBL_FLOWS\" ON \"TBL_FLOWS\".\"ID\"=\"e\".\"F_FLOW\" WHERE \"TBL_FLOWS\".\"FlOW_TYPE\"='ELEMENTARY_FLOW'\n"
     ]
    },
    {
     "data": {
      "text/html": [
       "<div>\n",
       "<style scoped>\n",
       "    .dataframe tbody tr th:only-of-type {\n",
       "        vertical-align: middle;\n",
       "    }\n",
       "\n",
       "    .dataframe tbody tr th {\n",
       "        vertical-align: top;\n",
       "    }\n",
       "\n",
       "    .dataframe thead th {\n",
       "        text-align: right;\n",
       "    }\n",
       "</style>\n",
       "<table border=\"1\" class=\"dataframe\">\n",
       "  <thead>\n",
       "    <tr style=\"text-align: right;\">\n",
       "      <th></th>\n",
       "      <th>64867712-23c4-3be5-a50e-3631e74571a6</th>\n",
       "      <th>4ce4cc23-c7be-3317-a9fb-45d4d4a0a8ab</th>\n",
       "      <th>9f6a92b7-80aa-3705-8cae-042e064e3090</th>\n",
       "      <th>727a873a-27de-3274-a0ae-ecd2c90b122f</th>\n",
       "    </tr>\n",
       "    <tr>\n",
       "      <th>REF_ID</th>\n",
       "      <th></th>\n",
       "      <th></th>\n",
       "      <th></th>\n",
       "      <th></th>\n",
       "    </tr>\n",
       "  </thead>\n",
       "  <tbody>\n",
       "    <tr>\n",
       "      <th>00012c0a-9bff-4787-a7eb-56c3d2f43692</th>\n",
       "      <td>3.315358e-11</td>\n",
       "      <td>3.537200e-11</td>\n",
       "      <td>7.379112e-11</td>\n",
       "      <td>2.143797e-11</td>\n",
       "    </tr>\n",
       "    <tr>\n",
       "      <th>0015ec22-72cb-4af1-8c7b-0ba0d041553c</th>\n",
       "      <td>3.310572e-11</td>\n",
       "      <td>9.230810e-11</td>\n",
       "      <td>7.169612e-11</td>\n",
       "      <td>1.202275e-10</td>\n",
       "    </tr>\n",
       "    <tr>\n",
       "      <th>0017271e-7df5-40bc-833a-36110c1fe5d5</th>\n",
       "      <td>2.314766e-08</td>\n",
       "      <td>2.739918e-08</td>\n",
       "      <td>1.928944e-08</td>\n",
       "      <td>3.124432e-08</td>\n",
       "    </tr>\n",
       "    <tr>\n",
       "      <th>001790f3-fd86-4a0d-a2a1-06c7099d90c8</th>\n",
       "      <td>1.216010e-05</td>\n",
       "      <td>1.236320e-05</td>\n",
       "      <td>8.304251e-06</td>\n",
       "      <td>2.156249e-05</td>\n",
       "    </tr>\n",
       "    <tr>\n",
       "      <th>0017ce28-9f7a-404b-ad55-d3f43ad13cae</th>\n",
       "      <td>8.560851e-14</td>\n",
       "      <td>6.166200e-14</td>\n",
       "      <td>1.592893e-13</td>\n",
       "      <td>1.611737e-14</td>\n",
       "    </tr>\n",
       "    <tr>\n",
       "      <th>...</th>\n",
       "      <td>...</td>\n",
       "      <td>...</td>\n",
       "      <td>...</td>\n",
       "      <td>...</td>\n",
       "    </tr>\n",
       "    <tr>\n",
       "      <th>ff36578b-f403-4656-b934-81d8d4e02dc8</th>\n",
       "      <td>5.983466e-09</td>\n",
       "      <td>1.028824e-08</td>\n",
       "      <td>7.814235e-09</td>\n",
       "      <td>8.067001e-09</td>\n",
       "    </tr>\n",
       "    <tr>\n",
       "      <th>ff65658c-2d39-44a2-b23e-7ec3c644f064</th>\n",
       "      <td>7.704246e-06</td>\n",
       "      <td>9.875376e-06</td>\n",
       "      <td>1.338127e-05</td>\n",
       "      <td>6.799632e-06</td>\n",
       "    </tr>\n",
       "    <tr>\n",
       "      <th>ff6dccc1-5ebd-42c3-9fd9-3d73db7a3dd2</th>\n",
       "      <td>2.270127e-10</td>\n",
       "      <td>1.969600e-10</td>\n",
       "      <td>3.703580e-10</td>\n",
       "      <td>1.010055e-10</td>\n",
       "    </tr>\n",
       "    <tr>\n",
       "      <th>ffaaffd3-5deb-4508-9e5f-e47f551ac2b8</th>\n",
       "      <td>1.224823e-12</td>\n",
       "      <td>3.121575e-12</td>\n",
       "      <td>2.678038e-12</td>\n",
       "      <td>3.933826e-12</td>\n",
       "    </tr>\n",
       "    <tr>\n",
       "      <th>ffbe8447-6d78-46dd-8378-47019a82ce82</th>\n",
       "      <td>3.046266e-11</td>\n",
       "      <td>4.446081e-11</td>\n",
       "      <td>3.686342e-11</td>\n",
       "      <td>5.419525e-11</td>\n",
       "    </tr>\n",
       "  </tbody>\n",
       "</table>\n",
       "<p>2046 rows × 4 columns</p>\n",
       "</div>"
      ],
      "text/plain": [
       "                                      64867712-23c4-3be5-a50e-3631e74571a6  \\\n",
       "REF_ID                                                                       \n",
       "00012c0a-9bff-4787-a7eb-56c3d2f43692                          3.315358e-11   \n",
       "0015ec22-72cb-4af1-8c7b-0ba0d041553c                          3.310572e-11   \n",
       "0017271e-7df5-40bc-833a-36110c1fe5d5                          2.314766e-08   \n",
       "001790f3-fd86-4a0d-a2a1-06c7099d90c8                          1.216010e-05   \n",
       "0017ce28-9f7a-404b-ad55-d3f43ad13cae                          8.560851e-14   \n",
       "...                                                                    ...   \n",
       "ff36578b-f403-4656-b934-81d8d4e02dc8                          5.983466e-09   \n",
       "ff65658c-2d39-44a2-b23e-7ec3c644f064                          7.704246e-06   \n",
       "ff6dccc1-5ebd-42c3-9fd9-3d73db7a3dd2                          2.270127e-10   \n",
       "ffaaffd3-5deb-4508-9e5f-e47f551ac2b8                          1.224823e-12   \n",
       "ffbe8447-6d78-46dd-8378-47019a82ce82                          3.046266e-11   \n",
       "\n",
       "                                      4ce4cc23-c7be-3317-a9fb-45d4d4a0a8ab  \\\n",
       "REF_ID                                                                       \n",
       "00012c0a-9bff-4787-a7eb-56c3d2f43692                          3.537200e-11   \n",
       "0015ec22-72cb-4af1-8c7b-0ba0d041553c                          9.230810e-11   \n",
       "0017271e-7df5-40bc-833a-36110c1fe5d5                          2.739918e-08   \n",
       "001790f3-fd86-4a0d-a2a1-06c7099d90c8                          1.236320e-05   \n",
       "0017ce28-9f7a-404b-ad55-d3f43ad13cae                          6.166200e-14   \n",
       "...                                                                    ...   \n",
       "ff36578b-f403-4656-b934-81d8d4e02dc8                          1.028824e-08   \n",
       "ff65658c-2d39-44a2-b23e-7ec3c644f064                          9.875376e-06   \n",
       "ff6dccc1-5ebd-42c3-9fd9-3d73db7a3dd2                          1.969600e-10   \n",
       "ffaaffd3-5deb-4508-9e5f-e47f551ac2b8                          3.121575e-12   \n",
       "ffbe8447-6d78-46dd-8378-47019a82ce82                          4.446081e-11   \n",
       "\n",
       "                                      9f6a92b7-80aa-3705-8cae-042e064e3090  \\\n",
       "REF_ID                                                                       \n",
       "00012c0a-9bff-4787-a7eb-56c3d2f43692                          7.379112e-11   \n",
       "0015ec22-72cb-4af1-8c7b-0ba0d041553c                          7.169612e-11   \n",
       "0017271e-7df5-40bc-833a-36110c1fe5d5                          1.928944e-08   \n",
       "001790f3-fd86-4a0d-a2a1-06c7099d90c8                          8.304251e-06   \n",
       "0017ce28-9f7a-404b-ad55-d3f43ad13cae                          1.592893e-13   \n",
       "...                                                                    ...   \n",
       "ff36578b-f403-4656-b934-81d8d4e02dc8                          7.814235e-09   \n",
       "ff65658c-2d39-44a2-b23e-7ec3c644f064                          1.338127e-05   \n",
       "ff6dccc1-5ebd-42c3-9fd9-3d73db7a3dd2                          3.703580e-10   \n",
       "ffaaffd3-5deb-4508-9e5f-e47f551ac2b8                          2.678038e-12   \n",
       "ffbe8447-6d78-46dd-8378-47019a82ce82                          3.686342e-11   \n",
       "\n",
       "                                      727a873a-27de-3274-a0ae-ecd2c90b122f  \n",
       "REF_ID                                                                      \n",
       "00012c0a-9bff-4787-a7eb-56c3d2f43692                          2.143797e-11  \n",
       "0015ec22-72cb-4af1-8c7b-0ba0d041553c                          1.202275e-10  \n",
       "0017271e-7df5-40bc-833a-36110c1fe5d5                          3.124432e-08  \n",
       "001790f3-fd86-4a0d-a2a1-06c7099d90c8                          2.156249e-05  \n",
       "0017ce28-9f7a-404b-ad55-d3f43ad13cae                          1.611737e-14  \n",
       "...                                                                    ...  \n",
       "ff36578b-f403-4656-b934-81d8d4e02dc8                          8.067001e-09  \n",
       "ff65658c-2d39-44a2-b23e-7ec3c644f064                          6.799632e-06  \n",
       "ff6dccc1-5ebd-42c3-9fd9-3d73db7a3dd2                          1.010055e-10  \n",
       "ffaaffd3-5deb-4508-9e5f-e47f551ac2b8                          3.933826e-12  \n",
       "ffbe8447-6d78-46dd-8378-47019a82ce82                          5.419525e-11  \n",
       "\n",
       "[2046 rows x 4 columns]"
      ]
     },
     "execution_count": 12,
     "metadata": {},
     "output_type": "execute_result"
    }
   ],
   "source": [
    "process_elementary_dfr = dv.get_process_elementary_flow(dbconn, ref_ids=process_ref_ids, limit_exchanges=None)\n",
    "process_elementary_dfr"
   ]
  },
  {
   "cell_type": "markdown",
   "metadata": {},
   "source": [
    "We cannot get a direct breakdown of a product flow into its elementary flows because of how the database\n",
    "is structured. A product flow can be linked to many different processes in TBL_EXCHANGES. For example, the lemon flow is linked to processes for each region of production and there is an elementary breakdown for each of these processes. Location is part of the process not the flow.\n",
    "\n",
    "We can see the processes that use a given product flow by using the function below."
   ]
  },
  {
   "cell_type": "code",
   "execution_count": 13,
   "metadata": {},
   "outputs": [
    {
     "name": "stdout",
     "output_type": "stream",
     "text": [
      "SELECT \"TBL_PROCESSES\".\"ID\" \"PROCESS_ID\",\"TBL_PROCESSES\".\"NAME\" \"PROCESS_NAME\",\"sq0\".\"F_FLOW\" \"FLOW_ID\",\"TBL_FLOWS\".\"NAME\" \"FLOW_NAME\",\"TBL_PROCESSES\".\"F_LOCATION\" \"PROCESS_LOCATION\" FROM (SELECT \"F_OWNER\",\"F_FLOW\",\"F_UNIT\",\"RESULTING_AMOUNT_VALUE\" FROM \"TBL_EXCHANGES\" WHERE \"F_FLOW\" IN (132016)) \"sq0\" LEFT JOIN \"TBL_PROCESSES\" ON \"TBL_PROCESSES\".\"ID\"=\"sq0\".\"F_OWNER\" LEFT JOIN \"TBL_FLOWS\" ON \"TBL_FLOWS\".\"ID\"=\"sq0\".\"F_FLOW\"\n"
     ]
    },
    {
     "data": {
      "text/html": [
       "<div>\n",
       "<style scoped>\n",
       "    .dataframe tbody tr th:only-of-type {\n",
       "        vertical-align: middle;\n",
       "    }\n",
       "\n",
       "    .dataframe tbody tr th {\n",
       "        vertical-align: top;\n",
       "    }\n",
       "\n",
       "    .dataframe thead th {\n",
       "        text-align: right;\n",
       "    }\n",
       "</style>\n",
       "<table border=\"1\" class=\"dataframe\">\n",
       "  <thead>\n",
       "    <tr style=\"text-align: right;\">\n",
       "      <th></th>\n",
       "      <th>PROCESS_ID</th>\n",
       "      <th>PROCESS_NAME</th>\n",
       "      <th>FLOW_ID</th>\n",
       "      <th>FLOW_NAME</th>\n",
       "      <th>PROCESS_LOCATION</th>\n",
       "    </tr>\n",
       "  </thead>\n",
       "  <tbody>\n",
       "    <tr>\n",
       "      <th>0</th>\n",
       "      <td>4578980</td>\n",
       "      <td>market for lemon | lemon | APOS, S</td>\n",
       "      <td>132016</td>\n",
       "      <td>lemon</td>\n",
       "      <td>668.0</td>\n",
       "    </tr>\n",
       "    <tr>\n",
       "      <th>1</th>\n",
       "      <td>5409534</td>\n",
       "      <td>lemon production | lemon | APOS, S</td>\n",
       "      <td>132016</td>\n",
       "      <td>lemon</td>\n",
       "      <td>537.0</td>\n",
       "    </tr>\n",
       "    <tr>\n",
       "      <th>2</th>\n",
       "      <td>5764475</td>\n",
       "      <td>lemon production | lemon | APOS, S</td>\n",
       "      <td>132016</td>\n",
       "      <td>lemon</td>\n",
       "      <td>955.0</td>\n",
       "    </tr>\n",
       "    <tr>\n",
       "      <th>3</th>\n",
       "      <td>12597999</td>\n",
       "      <td>lemon production | lemon | APOS, S</td>\n",
       "      <td>132016</td>\n",
       "      <td>lemon</td>\n",
       "      <td>936.0</td>\n",
       "    </tr>\n",
       "    <tr>\n",
       "      <th>4</th>\n",
       "      <td>34323860</td>\n",
       "      <td>lemon production | lemon | APOS, S</td>\n",
       "      <td>132016</td>\n",
       "      <td>lemon</td>\n",
       "      <td>620.0</td>\n",
       "    </tr>\n",
       "    <tr>\n",
       "      <th>5</th>\n",
       "      <td>36098004</td>\n",
       "      <td>Process Z</td>\n",
       "      <td>132016</td>\n",
       "      <td>lemon</td>\n",
       "      <td>NaN</td>\n",
       "    </tr>\n",
       "  </tbody>\n",
       "</table>\n",
       "</div>"
      ],
      "text/plain": [
       "   PROCESS_ID                        PROCESS_NAME  FLOW_ID FLOW_NAME  \\\n",
       "0     4578980  market for lemon | lemon | APOS, S   132016     lemon   \n",
       "1     5409534  lemon production | lemon | APOS, S   132016     lemon   \n",
       "2     5764475  lemon production | lemon | APOS, S   132016     lemon   \n",
       "3    12597999  lemon production | lemon | APOS, S   132016     lemon   \n",
       "4    34323860  lemon production | lemon | APOS, S   132016     lemon   \n",
       "5    36098004                           Process Z   132016     lemon   \n",
       "\n",
       "   PROCESS_LOCATION  \n",
       "0             668.0  \n",
       "1             537.0  \n",
       "2             955.0  \n",
       "3             936.0  \n",
       "4             620.0  \n",
       "5               NaN  "
      ]
     },
     "execution_count": 13,
     "metadata": {},
     "output_type": "execute_result"
    }
   ],
   "source": [
    "product_flow_in_process_dfr = dv.get_product_flow_in_process(dbconn, product_id=[132016], limit_exchanges=None)\n",
    "product_flow_in_process_dfr"
   ]
  },
  {
   "cell_type": "markdown",
   "metadata": {},
   "source": [
    "We can obtain a table of impact methodologies restricted by name."
   ]
  },
  {
   "cell_type": "code",
   "execution_count": 14,
   "metadata": {},
   "outputs": [
    {
     "name": "stdout",
     "output_type": "stream",
     "text": [
      "SELECT \"TBL_IMPACT_METHODS\".\"ID\" \"methods_ID\",\"TBL_IMPACT_METHODS\".\"REF_ID\" \"methods_REF_ID\",\"TBL_IMPACT_METHODS\".\"NAME\" \"methods_NAME\",\"TBL_IMPACT_CATEGORIES\".\"ID\" \"categories_ID\",\"TBL_IMPACT_CATEGORIES\".\"REF_ID\" \"categories_REF_ID\",\"TBL_IMPACT_CATEGORIES\".\"NAME\" \"categories_NAME\" FROM \"TBL_IMPACT_CATEGORIES\" LEFT JOIN \"TBL_IMPACT_METHODS\" ON \"TBL_IMPACT_CATEGORIES\".\"F_IMPACT_METHOD\"=\"TBL_IMPACT_METHODS\".\"ID\" WHERE \"TBL_IMPACT_METHODS\".\"name\" LIKE 'ReCiPe Midpoint (H) V1.13'\n"
     ]
    },
    {
     "data": {
      "text/html": [
       "<div>\n",
       "<style scoped>\n",
       "    .dataframe tbody tr th:only-of-type {\n",
       "        vertical-align: middle;\n",
       "    }\n",
       "\n",
       "    .dataframe tbody tr th {\n",
       "        vertical-align: top;\n",
       "    }\n",
       "\n",
       "    .dataframe thead th {\n",
       "        text-align: right;\n",
       "    }\n",
       "</style>\n",
       "<table border=\"1\" class=\"dataframe\">\n",
       "  <thead>\n",
       "    <tr style=\"text-align: right;\">\n",
       "      <th></th>\n",
       "      <th>methods_ID</th>\n",
       "      <th>methods_REF_ID</th>\n",
       "      <th>methods_NAME</th>\n",
       "      <th>categories_ID</th>\n",
       "      <th>categories_REF_ID</th>\n",
       "      <th>categories_NAME</th>\n",
       "    </tr>\n",
       "  </thead>\n",
       "  <tbody>\n",
       "    <tr>\n",
       "      <th>0</th>\n",
       "      <td>36132594</td>\n",
       "      <td>dc7995f0-623b-41a2-ad70-bf62a1b5e652</td>\n",
       "      <td>ReCiPe Midpoint (H) V1.13</td>\n",
       "      <td>36139392</td>\n",
       "      <td>515aa8fc-27aa-3ec8-9b0b-42a8bd26a26b</td>\n",
       "      <td>metal depletion - MDP</td>\n",
       "    </tr>\n",
       "    <tr>\n",
       "      <th>1</th>\n",
       "      <td>36132594</td>\n",
       "      <td>dc7995f0-623b-41a2-ad70-bf62a1b5e652</td>\n",
       "      <td>ReCiPe Midpoint (H) V1.13</td>\n",
       "      <td>36134269</td>\n",
       "      <td>8060a79a-473c-3834-b874-6d25239d06f3</td>\n",
       "      <td>marine ecotoxicity - METPinf</td>\n",
       "    </tr>\n",
       "    <tr>\n",
       "      <th>2</th>\n",
       "      <td>36132594</td>\n",
       "      <td>dc7995f0-623b-41a2-ad70-bf62a1b5e652</td>\n",
       "      <td>ReCiPe Midpoint (H) V1.13</td>\n",
       "      <td>36135829</td>\n",
       "      <td>42b1e910-3bd2-3741-85ce-a3966798440b</td>\n",
       "      <td>climate change - GWP100</td>\n",
       "    </tr>\n",
       "    <tr>\n",
       "      <th>3</th>\n",
       "      <td>36132594</td>\n",
       "      <td>dc7995f0-623b-41a2-ad70-bf62a1b5e652</td>\n",
       "      <td>ReCiPe Midpoint (H) V1.13</td>\n",
       "      <td>36132595</td>\n",
       "      <td>dea5d939-c042-300a-916c-dd903180575f</td>\n",
       "      <td>human toxicity - HTPinf</td>\n",
       "    </tr>\n",
       "    <tr>\n",
       "      <th>4</th>\n",
       "      <td>36132594</td>\n",
       "      <td>dc7995f0-623b-41a2-ad70-bf62a1b5e652</td>\n",
       "      <td>ReCiPe Midpoint (H) V1.13</td>\n",
       "      <td>36139540</td>\n",
       "      <td>3bb7b9c4-6934-325c-974c-12d2ed74407b</td>\n",
       "      <td>fossil depletion - FDP</td>\n",
       "    </tr>\n",
       "    <tr>\n",
       "      <th>5</th>\n",
       "      <td>36132594</td>\n",
       "      <td>dc7995f0-623b-41a2-ad70-bf62a1b5e652</td>\n",
       "      <td>ReCiPe Midpoint (H) V1.13</td>\n",
       "      <td>36134054</td>\n",
       "      <td>e762c963-e5e8-33eb-829c-bff1110c5ecd</td>\n",
       "      <td>water depletion - WDP</td>\n",
       "    </tr>\n",
       "    <tr>\n",
       "      <th>6</th>\n",
       "      <td>36132594</td>\n",
       "      <td>dc7995f0-623b-41a2-ad70-bf62a1b5e652</td>\n",
       "      <td>ReCiPe Midpoint (H) V1.13</td>\n",
       "      <td>36136043</td>\n",
       "      <td>e84190cb-0e34-34a8-aca6-78de883d7409</td>\n",
       "      <td>freshwater ecotoxicity - FETPinf</td>\n",
       "    </tr>\n",
       "    <tr>\n",
       "      <th>7</th>\n",
       "      <td>36132594</td>\n",
       "      <td>dc7995f0-623b-41a2-ad70-bf62a1b5e652</td>\n",
       "      <td>ReCiPe Midpoint (H) V1.13</td>\n",
       "      <td>36139181</td>\n",
       "      <td>fa0789f2-602a-35c6-a6f3-fabc100f21e4</td>\n",
       "      <td>photochemical oxidant formation - POFP</td>\n",
       "    </tr>\n",
       "    <tr>\n",
       "      <th>8</th>\n",
       "      <td>36132594</td>\n",
       "      <td>dc7995f0-623b-41a2-ad70-bf62a1b5e652</td>\n",
       "      <td>ReCiPe Midpoint (H) V1.13</td>\n",
       "      <td>36133837</td>\n",
       "      <td>f10f3229-9d8f-30dd-8ff9-51413d46f94d</td>\n",
       "      <td>ionising radiation - IRP_HE</td>\n",
       "    </tr>\n",
       "    <tr>\n",
       "      <th>9</th>\n",
       "      <td>36132594</td>\n",
       "      <td>dc7995f0-623b-41a2-ad70-bf62a1b5e652</td>\n",
       "      <td>ReCiPe Midpoint (H) V1.13</td>\n",
       "      <td>36139478</td>\n",
       "      <td>4fa0339d-af04-336e-9772-19fdc201afeb</td>\n",
       "      <td>urban land occupation - ULOP</td>\n",
       "    </tr>\n",
       "    <tr>\n",
       "      <th>10</th>\n",
       "      <td>36132594</td>\n",
       "      <td>dc7995f0-623b-41a2-ad70-bf62a1b5e652</td>\n",
       "      <td>ReCiPe Midpoint (H) V1.13</td>\n",
       "      <td>36134074</td>\n",
       "      <td>446d9408-01ff-3e5c-a4b0-2e07c5b8517b</td>\n",
       "      <td>natural land transformation - NLTP</td>\n",
       "    </tr>\n",
       "    <tr>\n",
       "      <th>11</th>\n",
       "      <td>36132594</td>\n",
       "      <td>dc7995f0-623b-41a2-ad70-bf62a1b5e652</td>\n",
       "      <td>ReCiPe Midpoint (H) V1.13</td>\n",
       "      <td>36134242</td>\n",
       "      <td>ecb568fa-94a5-3a0c-9f8e-61f43d6ac0c2</td>\n",
       "      <td>particulate matter formation - PMFP</td>\n",
       "    </tr>\n",
       "    <tr>\n",
       "      <th>12</th>\n",
       "      <td>36132594</td>\n",
       "      <td>dc7995f0-623b-41a2-ad70-bf62a1b5e652</td>\n",
       "      <td>ReCiPe Midpoint (H) V1.13</td>\n",
       "      <td>36134195</td>\n",
       "      <td>483dac29-100d-3b29-ab59-fe6ea273afbd</td>\n",
       "      <td>marine eutrophication - MEP</td>\n",
       "    </tr>\n",
       "    <tr>\n",
       "      <th>13</th>\n",
       "      <td>36132594</td>\n",
       "      <td>dc7995f0-623b-41a2-ad70-bf62a1b5e652</td>\n",
       "      <td>ReCiPe Midpoint (H) V1.13</td>\n",
       "      <td>36133820</td>\n",
       "      <td>3f8964fa-4ca7-3e65-9980-1a3c439fed67</td>\n",
       "      <td>terrestrial acidification - TAP100</td>\n",
       "    </tr>\n",
       "    <tr>\n",
       "      <th>14</th>\n",
       "      <td>36132594</td>\n",
       "      <td>dc7995f0-623b-41a2-ad70-bf62a1b5e652</td>\n",
       "      <td>ReCiPe Midpoint (H) V1.13</td>\n",
       "      <td>36139491</td>\n",
       "      <td>1aff4012-dc1f-389b-b159-dea32f6672f1</td>\n",
       "      <td>agricultural land occupation - ALOP</td>\n",
       "    </tr>\n",
       "    <tr>\n",
       "      <th>15</th>\n",
       "      <td>36132594</td>\n",
       "      <td>dc7995f0-623b-41a2-ad70-bf62a1b5e652</td>\n",
       "      <td>ReCiPe Midpoint (H) V1.13</td>\n",
       "      <td>36135985</td>\n",
       "      <td>ca66df4b-0715-3669-b188-3e056792c036</td>\n",
       "      <td>ozone depletion - ODPinf</td>\n",
       "    </tr>\n",
       "    <tr>\n",
       "      <th>16</th>\n",
       "      <td>36132594</td>\n",
       "      <td>dc7995f0-623b-41a2-ad70-bf62a1b5e652</td>\n",
       "      <td>ReCiPe Midpoint (H) V1.13</td>\n",
       "      <td>36137602</td>\n",
       "      <td>d61fe21d-eebc-320f-8329-e77421bac320</td>\n",
       "      <td>terrestrial ecotoxicity - TETPinf</td>\n",
       "    </tr>\n",
       "    <tr>\n",
       "      <th>17</th>\n",
       "      <td>36132594</td>\n",
       "      <td>dc7995f0-623b-41a2-ad70-bf62a1b5e652</td>\n",
       "      <td>ReCiPe Midpoint (H) V1.13</td>\n",
       "      <td>36134060</td>\n",
       "      <td>cb7138bf-75df-36b5-b75c-1b5dda0443a9</td>\n",
       "      <td>freshwater eutrophication - FEP</td>\n",
       "    </tr>\n",
       "  </tbody>\n",
       "</table>\n",
       "</div>"
      ],
      "text/plain": [
       "    methods_ID                        methods_REF_ID  \\\n",
       "0     36132594  dc7995f0-623b-41a2-ad70-bf62a1b5e652   \n",
       "1     36132594  dc7995f0-623b-41a2-ad70-bf62a1b5e652   \n",
       "2     36132594  dc7995f0-623b-41a2-ad70-bf62a1b5e652   \n",
       "3     36132594  dc7995f0-623b-41a2-ad70-bf62a1b5e652   \n",
       "4     36132594  dc7995f0-623b-41a2-ad70-bf62a1b5e652   \n",
       "5     36132594  dc7995f0-623b-41a2-ad70-bf62a1b5e652   \n",
       "6     36132594  dc7995f0-623b-41a2-ad70-bf62a1b5e652   \n",
       "7     36132594  dc7995f0-623b-41a2-ad70-bf62a1b5e652   \n",
       "8     36132594  dc7995f0-623b-41a2-ad70-bf62a1b5e652   \n",
       "9     36132594  dc7995f0-623b-41a2-ad70-bf62a1b5e652   \n",
       "10    36132594  dc7995f0-623b-41a2-ad70-bf62a1b5e652   \n",
       "11    36132594  dc7995f0-623b-41a2-ad70-bf62a1b5e652   \n",
       "12    36132594  dc7995f0-623b-41a2-ad70-bf62a1b5e652   \n",
       "13    36132594  dc7995f0-623b-41a2-ad70-bf62a1b5e652   \n",
       "14    36132594  dc7995f0-623b-41a2-ad70-bf62a1b5e652   \n",
       "15    36132594  dc7995f0-623b-41a2-ad70-bf62a1b5e652   \n",
       "16    36132594  dc7995f0-623b-41a2-ad70-bf62a1b5e652   \n",
       "17    36132594  dc7995f0-623b-41a2-ad70-bf62a1b5e652   \n",
       "\n",
       "                 methods_NAME  categories_ID  \\\n",
       "0   ReCiPe Midpoint (H) V1.13       36139392   \n",
       "1   ReCiPe Midpoint (H) V1.13       36134269   \n",
       "2   ReCiPe Midpoint (H) V1.13       36135829   \n",
       "3   ReCiPe Midpoint (H) V1.13       36132595   \n",
       "4   ReCiPe Midpoint (H) V1.13       36139540   \n",
       "5   ReCiPe Midpoint (H) V1.13       36134054   \n",
       "6   ReCiPe Midpoint (H) V1.13       36136043   \n",
       "7   ReCiPe Midpoint (H) V1.13       36139181   \n",
       "8   ReCiPe Midpoint (H) V1.13       36133837   \n",
       "9   ReCiPe Midpoint (H) V1.13       36139478   \n",
       "10  ReCiPe Midpoint (H) V1.13       36134074   \n",
       "11  ReCiPe Midpoint (H) V1.13       36134242   \n",
       "12  ReCiPe Midpoint (H) V1.13       36134195   \n",
       "13  ReCiPe Midpoint (H) V1.13       36133820   \n",
       "14  ReCiPe Midpoint (H) V1.13       36139491   \n",
       "15  ReCiPe Midpoint (H) V1.13       36135985   \n",
       "16  ReCiPe Midpoint (H) V1.13       36137602   \n",
       "17  ReCiPe Midpoint (H) V1.13       36134060   \n",
       "\n",
       "                       categories_REF_ID  \\\n",
       "0   515aa8fc-27aa-3ec8-9b0b-42a8bd26a26b   \n",
       "1   8060a79a-473c-3834-b874-6d25239d06f3   \n",
       "2   42b1e910-3bd2-3741-85ce-a3966798440b   \n",
       "3   dea5d939-c042-300a-916c-dd903180575f   \n",
       "4   3bb7b9c4-6934-325c-974c-12d2ed74407b   \n",
       "5   e762c963-e5e8-33eb-829c-bff1110c5ecd   \n",
       "6   e84190cb-0e34-34a8-aca6-78de883d7409   \n",
       "7   fa0789f2-602a-35c6-a6f3-fabc100f21e4   \n",
       "8   f10f3229-9d8f-30dd-8ff9-51413d46f94d   \n",
       "9   4fa0339d-af04-336e-9772-19fdc201afeb   \n",
       "10  446d9408-01ff-3e5c-a4b0-2e07c5b8517b   \n",
       "11  ecb568fa-94a5-3a0c-9f8e-61f43d6ac0c2   \n",
       "12  483dac29-100d-3b29-ab59-fe6ea273afbd   \n",
       "13  3f8964fa-4ca7-3e65-9980-1a3c439fed67   \n",
       "14  1aff4012-dc1f-389b-b159-dea32f6672f1   \n",
       "15  ca66df4b-0715-3669-b188-3e056792c036   \n",
       "16  d61fe21d-eebc-320f-8329-e77421bac320   \n",
       "17  cb7138bf-75df-36b5-b75c-1b5dda0443a9   \n",
       "\n",
       "                           categories_NAME  \n",
       "0                    metal depletion - MDP  \n",
       "1             marine ecotoxicity - METPinf  \n",
       "2                  climate change - GWP100  \n",
       "3                  human toxicity - HTPinf  \n",
       "4                   fossil depletion - FDP  \n",
       "5                    water depletion - WDP  \n",
       "6         freshwater ecotoxicity - FETPinf  \n",
       "7   photochemical oxidant formation - POFP  \n",
       "8              ionising radiation - IRP_HE  \n",
       "9             urban land occupation - ULOP  \n",
       "10      natural land transformation - NLTP  \n",
       "11     particulate matter formation - PMFP  \n",
       "12             marine eutrophication - MEP  \n",
       "13      terrestrial acidification - TAP100  \n",
       "14     agricultural land occupation - ALOP  \n",
       "15                ozone depletion - ODPinf  \n",
       "16       terrestrial ecotoxicity - TETPinf  \n",
       "17         freshwater eutrophication - FEP  "
      ]
     },
     "execution_count": 14,
     "metadata": {},
     "output_type": "execute_result"
    }
   ],
   "source": [
    "impact_category_dfr = dv.get_impact_categories(dbconn, method_name=['ReCiPe Midpoint (H) V1.13'])\n",
    "impact_category_dfr"
   ]
  },
  {
   "cell_type": "code",
   "execution_count": 15,
   "metadata": {},
   "outputs": [
    {
     "name": "stdout",
     "output_type": "stream",
     "text": [
      "SELECT \"TBL_IMPACT_METHODS\".\"ID\" \"methods_ID\",\"TBL_IMPACT_METHODS\".\"REF_ID\" \"methods_REF_ID\",\"TBL_IMPACT_METHODS\".\"NAME\" \"methods_NAME\",\"TBL_IMPACT_CATEGORIES\".\"ID\" \"categories_ID\",\"TBL_IMPACT_CATEGORIES\".\"REF_ID\" \"categories_REF_ID\",\"TBL_IMPACT_CATEGORIES\".\"NAME\" \"categories_NAME\" FROM \"TBL_IMPACT_CATEGORIES\" LEFT JOIN \"TBL_IMPACT_METHODS\" ON \"TBL_IMPACT_CATEGORIES\".\"F_IMPACT_METHOD\"=\"TBL_IMPACT_METHODS\".\"ID\" WHERE \"TBL_IMPACT_METHODS\".\"name\" LIKE 'ReCiPe Midpoint (H) V1.13' AND \"TBL_IMPACT_CATEGORIES\".\"name\" LIKE 'Climate change - GWP100%'\n"
     ]
    },
    {
     "data": {
      "text/html": [
       "<div>\n",
       "<style scoped>\n",
       "    .dataframe tbody tr th:only-of-type {\n",
       "        vertical-align: middle;\n",
       "    }\n",
       "\n",
       "    .dataframe tbody tr th {\n",
       "        vertical-align: top;\n",
       "    }\n",
       "\n",
       "    .dataframe thead th {\n",
       "        text-align: right;\n",
       "    }\n",
       "</style>\n",
       "<table border=\"1\" class=\"dataframe\">\n",
       "  <thead>\n",
       "    <tr style=\"text-align: right;\">\n",
       "      <th></th>\n",
       "      <th>methods_ID</th>\n",
       "      <th>methods_REF_ID</th>\n",
       "      <th>methods_NAME</th>\n",
       "      <th>categories_ID</th>\n",
       "      <th>categories_REF_ID</th>\n",
       "      <th>categories_NAME</th>\n",
       "    </tr>\n",
       "  </thead>\n",
       "  <tbody>\n",
       "    <tr>\n",
       "      <th>0</th>\n",
       "      <td>36132594</td>\n",
       "      <td>dc7995f0-623b-41a2-ad70-bf62a1b5e652</td>\n",
       "      <td>ReCiPe Midpoint (H) V1.13</td>\n",
       "      <td>36135829</td>\n",
       "      <td>42b1e910-3bd2-3741-85ce-a3966798440b</td>\n",
       "      <td>climate change - GWP100</td>\n",
       "    </tr>\n",
       "  </tbody>\n",
       "</table>\n",
       "</div>"
      ],
      "text/plain": [
       "   methods_ID                        methods_REF_ID  \\\n",
       "0    36132594  dc7995f0-623b-41a2-ad70-bf62a1b5e652   \n",
       "\n",
       "                methods_NAME  categories_ID  \\\n",
       "0  ReCiPe Midpoint (H) V1.13       36135829   \n",
       "\n",
       "                      categories_REF_ID          categories_NAME  \n",
       "0  42b1e910-3bd2-3741-85ce-a3966798440b  climate change - GWP100  "
      ]
     },
     "execution_count": 15,
     "metadata": {},
     "output_type": "execute_result"
    }
   ],
   "source": [
    "impact_category_dfr = dv.get_impact_categories(dbconn, method_name=['ReCiPe Midpoint (H) V1.13'], category_name=['Climate change - GWP100%'])\n",
    "impact_category_dfr"
   ]
  },
  {
   "cell_type": "markdown",
   "metadata": {},
   "source": [
    "We need one impact category REF_ID for this calculation."
   ]
  },
  {
   "cell_type": "code",
   "execution_count": 16,
   "metadata": {},
   "outputs": [
    {
     "name": "stdout",
     "output_type": "stream",
     "text": [
      "SELECT \"TBL_IMPACT_METHODS\".\"ID\" \"methods_ID\",\"TBL_IMPACT_METHODS\".\"REF_ID\" \"methods_REF_ID\",\"TBL_IMPACT_METHODS\".\"NAME\" \"methods_NAME\",\"TBL_IMPACT_CATEGORIES\".\"REF_ID\" \"categories_REF_ID\" FROM \"TBL_IMPACT_CATEGORIES\" LEFT JOIN \"TBL_IMPACT_METHODS\" ON \"TBL_IMPACT_CATEGORIES\".\"F_IMPACT_METHOD\"=\"TBL_IMPACT_METHODS\".\"ID\" WHERE \"TBL_IMPACT_METHODS\".\"name\" LIKE 'ReCiPe Midpoint (H) V1.13' AND \"TBL_IMPACT_CATEGORIES\".\"name\" LIKE 'Climate change - GWP100%'\n"
     ]
    },
    {
     "data": {
      "text/plain": [
       "['42b1e910-3bd2-3741-85ce-a3966798440b']"
      ]
     },
     "execution_count": 16,
     "metadata": {},
     "output_type": "execute_result"
    }
   ],
   "source": [
    "impact_ref_ids = dv.get_impact_category_ref_ids(dbconn, method_name=['ReCiPe Midpoint (H) V1.13'], category_name=['Climate change - GWP100%'])\n",
    "impact_ref_ids"
   ]
  },
  {
   "cell_type": "markdown",
   "metadata": {},
   "source": [
    "The following function gets the impact factors for a methodology for a given list of category reference ids. The Dataframe returned has rows indexed by elementary flow reference id. The column names are reference ids for the impact category in the openLCA database."
   ]
  },
  {
   "cell_type": "code",
   "execution_count": 17,
   "metadata": {},
   "outputs": [
    {
     "name": "stdout",
     "output_type": "stream",
     "text": [
      "SELECT \"ic\".\"REF_ID\" \"IMPACT_CATEGORY_REF_ID\",\"TBL_FLOWS\".\"REF_ID\" \"FLOW_REF_ID\",\"TBL_IMPACT_FACTORS\".\"value\" FROM (SELECT \"ID\",\"REF_ID\" FROM \"TBL_IMPACT_CATEGORIES\" WHERE \"REF_ID\" IN ('42b1e910-3bd2-3741-85ce-a3966798440b')) \"ic\" LEFT JOIN \"TBL_IMPACT_FACTORS\" ON \"TBL_IMPACT_FACTORS\".\"F_IMPACT_CATEGORY\"=\"ic\".\"ID\" LEFT JOIN \"TBL_FLOWS\" ON \"TBL_IMPACT_FACTORS\".\"F_FLOW\"=\"TBL_FLOWS\".\"ID\"\n"
     ]
    },
    {
     "data": {
      "text/html": [
       "<div>\n",
       "<style scoped>\n",
       "    .dataframe tbody tr th:only-of-type {\n",
       "        vertical-align: middle;\n",
       "    }\n",
       "\n",
       "    .dataframe tbody tr th {\n",
       "        vertical-align: top;\n",
       "    }\n",
       "\n",
       "    .dataframe thead th {\n",
       "        text-align: right;\n",
       "    }\n",
       "</style>\n",
       "<table border=\"1\" class=\"dataframe\">\n",
       "  <thead>\n",
       "    <tr style=\"text-align: right;\">\n",
       "      <th>IMPACT_CATEGORY_REF_ID</th>\n",
       "      <th>42b1e910-3bd2-3741-85ce-a3966798440b</th>\n",
       "    </tr>\n",
       "    <tr>\n",
       "      <th>FLOW_REF_ID</th>\n",
       "      <th></th>\n",
       "    </tr>\n",
       "  </thead>\n",
       "  <tbody>\n",
       "    <tr>\n",
       "      <th>033d3a16-e1a2-4ce8-8769-f4ea867801ca</th>\n",
       "      <td>725.0</td>\n",
       "    </tr>\n",
       "    <tr>\n",
       "      <th>04a6edb8-624a-484e-8f85-d771657adae7</th>\n",
       "      <td>151.0</td>\n",
       "    </tr>\n",
       "    <tr>\n",
       "      <th>050da0cd-2957-45a9-ae7a-ace372083fe5</th>\n",
       "      <td>77.0</td>\n",
       "    </tr>\n",
       "    <tr>\n",
       "      <th>06a4fedf-dab4-4ef1-90df-1d0ce8fe6477</th>\n",
       "      <td>1890.0</td>\n",
       "    </tr>\n",
       "    <tr>\n",
       "      <th>0795345f-c7ae-410c-ad25-1845784c75f5</th>\n",
       "      <td>25.0</td>\n",
       "    </tr>\n",
       "    <tr>\n",
       "      <th>...</th>\n",
       "      <td>...</td>\n",
       "    </tr>\n",
       "    <tr>\n",
       "      <th>f8cf5fd7-9f94-4870-9e6a-768deae9b766</th>\n",
       "      <td>17200.0</td>\n",
       "    </tr>\n",
       "    <tr>\n",
       "      <th>f9749677-9c9f-4678-ab55-c607dfdc2cb9</th>\n",
       "      <td>1.0</td>\n",
       "    </tr>\n",
       "    <tr>\n",
       "      <th>fa0c2bee-8dd9-4f8a-8489-b1f3b43de958</th>\n",
       "      <td>1430.0</td>\n",
       "    </tr>\n",
       "    <tr>\n",
       "      <th>fbf6ab3a-74e3-4cbe-b61d-959728bdce46</th>\n",
       "      <td>31.0</td>\n",
       "    </tr>\n",
       "    <tr>\n",
       "      <th>fdf090d7-ee05-4f33-8b7f-5504c718c3cd</th>\n",
       "      <td>17200.0</td>\n",
       "    </tr>\n",
       "  </tbody>\n",
       "</table>\n",
       "<p>155 rows × 1 columns</p>\n",
       "</div>"
      ],
      "text/plain": [
       "IMPACT_CATEGORY_REF_ID                42b1e910-3bd2-3741-85ce-a3966798440b\n",
       "FLOW_REF_ID                                                               \n",
       "033d3a16-e1a2-4ce8-8769-f4ea867801ca                                 725.0\n",
       "04a6edb8-624a-484e-8f85-d771657adae7                                 151.0\n",
       "050da0cd-2957-45a9-ae7a-ace372083fe5                                  77.0\n",
       "06a4fedf-dab4-4ef1-90df-1d0ce8fe6477                                1890.0\n",
       "0795345f-c7ae-410c-ad25-1845784c75f5                                  25.0\n",
       "...                                                                    ...\n",
       "f8cf5fd7-9f94-4870-9e6a-768deae9b766                               17200.0\n",
       "f9749677-9c9f-4678-ab55-c607dfdc2cb9                                   1.0\n",
       "fa0c2bee-8dd9-4f8a-8489-b1f3b43de958                                1430.0\n",
       "fbf6ab3a-74e3-4cbe-b61d-959728bdce46                                  31.0\n",
       "fdf090d7-ee05-4f33-8b7f-5504c718c3cd                               17200.0\n",
       "\n",
       "[155 rows x 1 columns]"
      ]
     },
     "execution_count": 17,
     "metadata": {},
     "output_type": "execute_result"
    }
   ],
   "source": [
    "impact_element_dfr = dv.get_impact_category_elementary_flow(dbconn, ref_ids=impact_ref_ids, limit_factors=None)\n",
    "impact_element_dfr"
   ]
  },
  {
   "cell_type": "markdown",
   "metadata": {},
   "source": [
    "# Pyomo implementation"
   ]
  },
  {
   "cell_type": "code",
   "execution_count": 18,
   "metadata": {},
   "outputs": [],
   "source": [
    "from pyomo.environ import * \n",
    "from pyomo.environ import units as u\n",
    "import pandas as pd\n",
    "olca_model_A = ConcreteModel()"
   ]
  },
  {
   "cell_type": "markdown",
   "metadata": {},
   "source": [
    "## Define sets"
   ]
  },
  {
   "cell_type": "markdown",
   "metadata": {},
   "source": [
    "Set are defined using openLCA reference ids. The relevant openLCA transport flows are shown below."
   ]
  },
  {
   "cell_type": "code",
   "execution_count": 19,
   "metadata": {},
   "outputs": [
    {
     "name": "stdout",
     "output_type": "stream",
     "text": [
      "SELECT \"ID\",\"REF_ID\",\"NAME\" FROM \"TBL_FLOWS\" WHERE \"FLOW_TYPE\"='PRODUCT_FLOW' AND (\"name\" LIKE 'transport, freight, light commercial vehicle' OR \"name\" LIKE 'transport, freight train' OR \"name\" LIKE 'transport, freight, sea, container ship')\n"
     ]
    },
    {
     "data": {
      "text/html": [
       "<div>\n",
       "<style scoped>\n",
       "    .dataframe tbody tr th:only-of-type {\n",
       "        vertical-align: middle;\n",
       "    }\n",
       "\n",
       "    .dataframe tbody tr th {\n",
       "        vertical-align: top;\n",
       "    }\n",
       "\n",
       "    .dataframe thead th {\n",
       "        text-align: right;\n",
       "    }\n",
       "</style>\n",
       "<table border=\"1\" class=\"dataframe\">\n",
       "  <thead>\n",
       "    <tr style=\"text-align: right;\">\n",
       "      <th></th>\n",
       "      <th>ID</th>\n",
       "      <th>REF_ID</th>\n",
       "      <th>NAME</th>\n",
       "    </tr>\n",
       "  </thead>\n",
       "  <tbody>\n",
       "    <tr>\n",
       "      <th>0</th>\n",
       "      <td>130167</td>\n",
       "      <td>0ace02fa-eca5-482d-a829-c18e46a52db4</td>\n",
       "      <td>transport, freight train</td>\n",
       "    </tr>\n",
       "    <tr>\n",
       "      <th>1</th>\n",
       "      <td>131603</td>\n",
       "      <td>090f56b8-6a83-48c1-ae26-234d04771e53</td>\n",
       "      <td>transport, freight, light commercial vehicle</td>\n",
       "    </tr>\n",
       "    <tr>\n",
       "      <th>2</th>\n",
       "      <td>135867</td>\n",
       "      <td>2741cea8-327f-4e0f-9401-b10858dc68f8</td>\n",
       "      <td>transport, freight, sea, container ship</td>\n",
       "    </tr>\n",
       "  </tbody>\n",
       "</table>\n",
       "</div>"
      ],
      "text/plain": [
       "       ID                                REF_ID  \\\n",
       "0  130167  0ace02fa-eca5-482d-a829-c18e46a52db4   \n",
       "1  131603  090f56b8-6a83-48c1-ae26-234d04771e53   \n",
       "2  135867  2741cea8-327f-4e0f-9401-b10858dc68f8   \n",
       "\n",
       "                                           NAME  \n",
       "0                      transport, freight train  \n",
       "1  transport, freight, light commercial vehicle  \n",
       "2       transport, freight, sea, container ship  "
      ]
     },
     "execution_count": 19,
     "metadata": {},
     "output_type": "execute_result"
    }
   ],
   "source": [
    "dfr = dv.get_product_flows(dbconn, name=['transport, freight, light commercial vehicle',\n",
    "                                   'transport, freight train', \n",
    "                                   'transport, freight, sea, container ship'])\n",
    "flow_ref_ids = dfr['REF_ID'].to_list()\n",
    "dfr"
   ]
  },
  {
   "cell_type": "markdown",
   "metadata": {},
   "source": [
    "The relevant processes for the problem are shown below. "
   ]
  },
  {
   "cell_type": "code",
   "execution_count": 20,
   "metadata": {},
   "outputs": [
    {
     "name": "stdout",
     "output_type": "stream",
     "text": [
      "SELECT \"TBL_PROCESSES\".\"ID\",\"TBL_PROCESSES\".\"REF_ID\",\"TBL_PROCESSES\".\"NAME\",\"TBL_PROCESSES\".\"PROCESS_TYPE\",\"TBL_LOCATIONS\".\"NAME\" \"LOCATION\",\"TBL_PROCESSES\".\"F_QUANTITATIVE_REFERENCE\" FROM \"TBL_PROCESSES\" LEFT JOIN \"TBL_LOCATIONS\" ON CAST(\"TBL_PROCESSES\".\"F_LOCATION\" AS INT)=\"TBL_LOCATIONS\".\"ID\" WHERE \"TBL_PROCESSES\".\"NAME\" LIKE 'lemon production%' AND \"TBL_LOCATIONS\".\"NAME\" LIKE 'Spain'\n"
     ]
    },
    {
     "data": {
      "text/html": [
       "<div>\n",
       "<style scoped>\n",
       "    .dataframe tbody tr th:only-of-type {\n",
       "        vertical-align: middle;\n",
       "    }\n",
       "\n",
       "    .dataframe tbody tr th {\n",
       "        vertical-align: top;\n",
       "    }\n",
       "\n",
       "    .dataframe thead th {\n",
       "        text-align: right;\n",
       "    }\n",
       "</style>\n",
       "<table border=\"1\" class=\"dataframe\">\n",
       "  <thead>\n",
       "    <tr style=\"text-align: right;\">\n",
       "      <th></th>\n",
       "      <th>ID</th>\n",
       "      <th>REF_ID</th>\n",
       "      <th>NAME</th>\n",
       "      <th>PROCESS_TYPE</th>\n",
       "      <th>LOCATION</th>\n",
       "      <th>F_QUANTITATIVE_REFERENCE</th>\n",
       "    </tr>\n",
       "  </thead>\n",
       "  <tbody>\n",
       "    <tr>\n",
       "      <th>0</th>\n",
       "      <td>5409534</td>\n",
       "      <td>64867712-23c4-3be5-a50e-3631e74571a6</td>\n",
       "      <td>lemon production | lemon | APOS, S</td>\n",
       "      <td>LCI_RESULT</td>\n",
       "      <td>Spain</td>\n",
       "      <td>5409536</td>\n",
       "    </tr>\n",
       "  </tbody>\n",
       "</table>\n",
       "</div>"
      ],
      "text/plain": [
       "        ID                                REF_ID  \\\n",
       "0  5409534  64867712-23c4-3be5-a50e-3631e74571a6   \n",
       "\n",
       "                                 NAME PROCESS_TYPE LOCATION  \\\n",
       "0  lemon production | lemon | APOS, S   LCI_RESULT    Spain   \n",
       "\n",
       "   F_QUANTITATIVE_REFERENCE  \n",
       "0                   5409536  "
      ]
     },
     "execution_count": 20,
     "metadata": {},
     "output_type": "execute_result"
    }
   ],
   "source": [
    "production_dfr = dv.get_processes(dbconn, name=['lemon production%'], location=['Spain'])\n",
    "production_dfr"
   ]
  },
  {
   "cell_type": "code",
   "execution_count": 21,
   "metadata": {},
   "outputs": [
    {
     "name": "stdout",
     "output_type": "stream",
     "text": [
      "SELECT \"TBL_PROCESSES\".\"ID\",\"TBL_PROCESSES\".\"REF_ID\",\"TBL_PROCESSES\".\"NAME\",\"TBL_PROCESSES\".\"PROCESS_TYPE\",\"TBL_LOCATIONS\".\"NAME\" \"LOCATION\",\"TBL_PROCESSES\".\"F_QUANTITATIVE_REFERENCE\" FROM \"TBL_PROCESSES\" LEFT JOIN \"TBL_LOCATIONS\" ON CAST(\"TBL_PROCESSES\".\"F_LOCATION\" AS INT)=\"TBL_LOCATIONS\".\"ID\" WHERE (\"TBL_PROCESSES\".\"NAME\" LIKE 'transport, freight, light commercial vehicle | transport, freight, light commercial vehicle | APOS, S' OR \"TBL_PROCESSES\".\"NAME\" LIKE 'transport, freight train, diesel | transport, freight train | APOS, S') AND \"TBL_LOCATIONS\".\"NAME\" LIKE 'Europe without Switzerland'\n",
      "SELECT \"TBL_PROCESSES\".\"ID\",\"TBL_PROCESSES\".\"REF_ID\",\"TBL_PROCESSES\".\"NAME\",\"TBL_PROCESSES\".\"PROCESS_TYPE\",\"TBL_LOCATIONS\".\"NAME\" \"LOCATION\",\"TBL_PROCESSES\".\"F_QUANTITATIVE_REFERENCE\" FROM \"TBL_PROCESSES\" LEFT JOIN \"TBL_LOCATIONS\" ON CAST(\"TBL_PROCESSES\".\"F_LOCATION\" AS INT)=\"TBL_LOCATIONS\".\"ID\" WHERE \"TBL_PROCESSES\".\"NAME\" LIKE 'transport, freight, sea, container ship | transport, freight, sea, container ship | APOS, S' AND \"TBL_LOCATIONS\".\"NAME\" LIKE 'Global'\n"
     ]
    },
    {
     "data": {
      "text/html": [
       "<div>\n",
       "<style scoped>\n",
       "    .dataframe tbody tr th:only-of-type {\n",
       "        vertical-align: middle;\n",
       "    }\n",
       "\n",
       "    .dataframe tbody tr th {\n",
       "        vertical-align: top;\n",
       "    }\n",
       "\n",
       "    .dataframe thead th {\n",
       "        text-align: right;\n",
       "    }\n",
       "</style>\n",
       "<table border=\"1\" class=\"dataframe\">\n",
       "  <thead>\n",
       "    <tr style=\"text-align: right;\">\n",
       "      <th></th>\n",
       "      <th>ID</th>\n",
       "      <th>REF_ID</th>\n",
       "      <th>NAME</th>\n",
       "      <th>PROCESS_TYPE</th>\n",
       "      <th>LOCATION</th>\n",
       "      <th>F_QUANTITATIVE_REFERENCE</th>\n",
       "    </tr>\n",
       "  </thead>\n",
       "  <tbody>\n",
       "    <tr>\n",
       "      <th>0</th>\n",
       "      <td>10990570</td>\n",
       "      <td>b0d5d6ec-77f4-3213-b613-2391089d5f96</td>\n",
       "      <td>transport, freight train, diesel | transport, ...</td>\n",
       "      <td>LCI_RESULT</td>\n",
       "      <td>Europe without Switzerland</td>\n",
       "      <td>10990572</td>\n",
       "    </tr>\n",
       "    <tr>\n",
       "      <th>1</th>\n",
       "      <td>33642886</td>\n",
       "      <td>13e79207-71e6-36c9-be76-716700ea1e81</td>\n",
       "      <td>transport, freight, light commercial vehicle |...</td>\n",
       "      <td>LCI_RESULT</td>\n",
       "      <td>Europe without Switzerland</td>\n",
       "      <td>33642888</td>\n",
       "    </tr>\n",
       "    <tr>\n",
       "      <th>0</th>\n",
       "      <td>25967156</td>\n",
       "      <td>3886c7a5-bb83-41d8-9b20-41c0df9742ce</td>\n",
       "      <td>transport, freight, sea, container ship | tran...</td>\n",
       "      <td>LCI_RESULT</td>\n",
       "      <td>Global</td>\n",
       "      <td>25967158</td>\n",
       "    </tr>\n",
       "  </tbody>\n",
       "</table>\n",
       "</div>"
      ],
      "text/plain": [
       "         ID                                REF_ID  \\\n",
       "0  10990570  b0d5d6ec-77f4-3213-b613-2391089d5f96   \n",
       "1  33642886  13e79207-71e6-36c9-be76-716700ea1e81   \n",
       "0  25967156  3886c7a5-bb83-41d8-9b20-41c0df9742ce   \n",
       "\n",
       "                                                NAME PROCESS_TYPE  \\\n",
       "0  transport, freight train, diesel | transport, ...   LCI_RESULT   \n",
       "1  transport, freight, light commercial vehicle |...   LCI_RESULT   \n",
       "0  transport, freight, sea, container ship | tran...   LCI_RESULT   \n",
       "\n",
       "                     LOCATION  F_QUANTITATIVE_REFERENCE  \n",
       "0  Europe without Switzerland                  10990572  \n",
       "1  Europe without Switzerland                  33642888  \n",
       "0                      Global                  25967158  "
      ]
     },
     "execution_count": 21,
     "metadata": {},
     "output_type": "execute_result"
    }
   ],
   "source": [
    "transport1_dfr = dv.get_processes(dbconn, name=[\n",
    "    'transport, freight, light commercial vehicle | transport, freight, light commercial vehicle | APOS, S',\n",
    "    'transport, freight train, diesel | transport, freight train | APOS, S'], location=['Europe without Switzerland'])\n",
    "transport2_dfr = dv.get_processes(dbconn, name=[\n",
    "    'transport, freight, sea, container ship | transport, freight, sea, container ship | APOS, S'], location=['Global'])\n",
    "transport_ref_ids = transport1_dfr['REF_ID'].to_list() + transport2_dfr['REF_ID'].to_list()\n",
    "material_ref_ids = production_dfr['REF_ID'].to_list()\n",
    "process_ref_ids = material_ref_ids + transport_ref_ids\n",
    "transport1_dfr.append(transport2_dfr)"
   ]
  },
  {
   "cell_type": "code",
   "execution_count": 22,
   "metadata": {},
   "outputs": [
    {
     "name": "stdout",
     "output_type": "stream",
     "text": [
      "SELECT \"REF_ID\" FROM \"TBL_FLOWS\" WHERE \"FLOW_TYPE\"='PRODUCT_FLOW'\n",
      "SELECT \"REF_ID\" FROM \"TBL_FLOWS\" WHERE \"FLOW_TYPE\"='PRODUCT_FLOW' AND \"name\" LIKE 'lemon'\n",
      "SELECT \"REF_ID\" FROM \"TBL_FLOWS\" WHERE \"FLOW_TYPE\"='ELEMENTARY_FLOW'\n",
      "P : Processes in the optimisation problem\n",
      "    Size=1, Index=None, Ordered=Insertion\n",
      "    Key  : Dimen : Domain : Size : Members\n",
      "    None :     1 :    Any :    4 : {'64867712-23c4-3be5-a50e-3631e74571a6', 'b0d5d6ec-77f4-3213-b613-2391089d5f96', '13e79207-71e6-36c9-be76-716700ea1e81', '3886c7a5-bb83-41d8-9b20-41c0df9742ce'}\n"
     ]
    }
   ],
   "source": [
    "all_flow_ids = dv.get_product_flow_ref_ids(dbconn)\n",
    "olca_model_A.AF = Set(initialize=all_flow_ids, doc='All flows')\n",
    "olca_model_A.Fm = Set(initialize=dv.get_product_flow_ref_ids(dbconn, name=['lemon']), doc='Material flows to optimise')\n",
    "olca_model_A.Ft = Set(initialize=flow_ref_ids, doc='Transport flows to optimise')\n",
    "olca_model_A.P = Set(initialize=process_ref_ids, doc='Processes in the optimisation problem')\n",
    "olca_model_A.Pm = Set(initialize=material_ref_ids, doc='Processes with material output flows')\n",
    "olca_model_A.Pt = Set(initialize=transport_ref_ids, doc='Processes with transport output flows')\n",
    "olca_model_A.E = Set(initialize=dv.get_elementary_flow_ref_ids(dbconn), doc='Elementary Flows from OpenLCA database')\n",
    "olca_model_A.P.pprint()"
   ]
  },
  {
   "cell_type": "markdown",
   "metadata": {},
   "source": [
    "We find an impact category reference id and use it so set the $kpi$ in the model."
   ]
  },
  {
   "cell_type": "code",
   "execution_count": 23,
   "metadata": {},
   "outputs": [
    {
     "name": "stdout",
     "output_type": "stream",
     "text": [
      "SELECT \"TBL_IMPACT_METHODS\".\"ID\" \"methods_ID\",\"TBL_IMPACT_METHODS\".\"REF_ID\" \"methods_REF_ID\",\"TBL_IMPACT_METHODS\".\"NAME\" \"methods_NAME\",\"TBL_IMPACT_CATEGORIES\".\"REF_ID\" \"categories_REF_ID\" FROM \"TBL_IMPACT_CATEGORIES\" LEFT JOIN \"TBL_IMPACT_METHODS\" ON \"TBL_IMPACT_CATEGORIES\".\"F_IMPACT_METHOD\"=\"TBL_IMPACT_METHODS\".\"ID\" WHERE \"TBL_IMPACT_METHODS\".\"name\" LIKE 'ReCiPe Midpoint (H) V1.13' AND \"TBL_IMPACT_CATEGORIES\".\"name\" LIKE 'Climate change - GWP100%'\n",
      "kpi : KPI for optimisation\n",
      "    Size=1, Index=None, Ordered=Insertion\n",
      "    Key  : Dimen : Domain : Size : Members\n",
      "    None :     1 :    Any :    1 : {'42b1e910-3bd2-3741-85ce-a3966798440b',}\n"
     ]
    }
   ],
   "source": [
    "# Set the KPI\n",
    "kpi_ref_id = dv.get_impact_category_ref_ids(dbconn, method_name=['ReCiPe Midpoint (H) V1.13'], \n",
    "                                            category_name=['Climate change - GWP100%'])\n",
    "olca_model_A.kpi = Set(initialize=kpi_ref_id, doc='KPI for optimisation')\n",
    "olca_model_A.kpi.pprint()"
   ]
  },
  {
   "cell_type": "markdown",
   "metadata": {},
   "source": [
    "## Define parameters"
   ]
  },
  {
   "cell_type": "markdown",
   "metadata": {},
   "source": [
    "### Total demand"
   ]
  },
  {
   "cell_type": "code",
   "execution_count": 24,
   "metadata": {},
   "outputs": [],
   "source": [
    "olca_model_A.C = Param(olca_model_A.Fm, initialize={'9891d347-28f8-434d-896a-84a19a4c68a6': 1}, doc='Conversion factors')\n",
    "olca_model_A.D_total = 1000"
   ]
  },
  {
   "cell_type": "markdown",
   "metadata": {},
   "source": [
    "### Get impact factors"
   ]
  },
  {
   "cell_type": "markdown",
   "metadata": {},
   "source": [
    "We obtain the breakdown of the $kpi$ in terms of elementary flows."
   ]
  },
  {
   "cell_type": "code",
   "execution_count": 25,
   "metadata": {},
   "outputs": [
    {
     "name": "stdout",
     "output_type": "stream",
     "text": [
      "SELECT \"ic\".\"REF_ID\" \"IMPACT_CATEGORY_REF_ID\",\"TBL_FLOWS\".\"REF_ID\" \"FLOW_REF_ID\",\"TBL_IMPACT_FACTORS\".\"value\" FROM (SELECT \"ID\",\"REF_ID\" FROM \"TBL_IMPACT_CATEGORIES\" WHERE \"REF_ID\" IN ('42b1e910-3bd2-3741-85ce-a3966798440b')) \"ic\" LEFT JOIN \"TBL_IMPACT_FACTORS\" ON \"TBL_IMPACT_FACTORS\".\"F_IMPACT_CATEGORY\"=\"ic\".\"ID\" LEFT JOIN \"TBL_FLOWS\" ON \"TBL_IMPACT_FACTORS\".\"F_FLOW\"=\"TBL_FLOWS\".\"ID\"\n"
     ]
    }
   ],
   "source": [
    "recipe_climate_impact_factors = dv.get_impact_category_elementary_flow(dbconn, ref_ids=kpi_ref_id)\n",
    "olca_model_A.Ef = Param(olca_model_A.E, olca_model_A.kpi, initialize=recipe_climate_impact_factors.stack().to_dict(),\n",
    "                        within=Any, doc='Impact category for each elementary flow', default = 0)"
   ]
  },
  {
   "cell_type": "markdown",
   "metadata": {},
   "source": [
    "### Get environmental flow parameters.\n",
    "\n",
    "We also need an elementary flow breakdown for each product flow in $F_m$ and $F_t$."
   ]
  },
  {
   "cell_type": "code",
   "execution_count": 26,
   "metadata": {},
   "outputs": [
    {
     "name": "stdout",
     "output_type": "stream",
     "text": [
      "SELECT \"e\".\"F_OWNER\",\"e\".\"F_FLOW\",\"e\".\"F_UNIT\",\"e\".\"RESULTING_AMOUNT_VALUE\",\"TBL_FLOWS\".\"FLOW_TYPE\",\"TBL_FLOWS\".\"REF_ID\" FROM (SELECT \"F_OWNER\",\"F_FLOW\",\"F_UNIT\",\"RESULTING_AMOUNT_VALUE\" FROM \"TBL_EXCHANGES\" WHERE \"F_OWNER\" IN (5409534)) \"e\" LEFT JOIN \"TBL_FLOWS\" ON \"TBL_FLOWS\".\"ID\"=\"e\".\"F_FLOW\" WHERE \"TBL_FLOWS\".\"FlOW_TYPE\"='ELEMENTARY_FLOW'\n"
     ]
    },
    {
     "data": {
      "text/html": [
       "<div>\n",
       "<style scoped>\n",
       "    .dataframe tbody tr th:only-of-type {\n",
       "        vertical-align: middle;\n",
       "    }\n",
       "\n",
       "    .dataframe tbody tr th {\n",
       "        vertical-align: top;\n",
       "    }\n",
       "\n",
       "    .dataframe thead th {\n",
       "        text-align: right;\n",
       "    }\n",
       "</style>\n",
       "<table border=\"1\" class=\"dataframe\">\n",
       "  <thead>\n",
       "    <tr style=\"text-align: right;\">\n",
       "      <th></th>\n",
       "      <th>64867712-23c4-3be5-a50e-3631e74571a6</th>\n",
       "    </tr>\n",
       "    <tr>\n",
       "      <th>REF_ID</th>\n",
       "      <th></th>\n",
       "    </tr>\n",
       "  </thead>\n",
       "  <tbody>\n",
       "    <tr>\n",
       "      <th>00012c0a-9bff-4787-a7eb-56c3d2f43692</th>\n",
       "      <td>3.315358e-11</td>\n",
       "    </tr>\n",
       "    <tr>\n",
       "      <th>0015ec22-72cb-4af1-8c7b-0ba0d041553c</th>\n",
       "      <td>3.310572e-11</td>\n",
       "    </tr>\n",
       "    <tr>\n",
       "      <th>0017271e-7df5-40bc-833a-36110c1fe5d5</th>\n",
       "      <td>2.314766e-08</td>\n",
       "    </tr>\n",
       "    <tr>\n",
       "      <th>001790f3-fd86-4a0d-a2a1-06c7099d90c8</th>\n",
       "      <td>1.216010e-05</td>\n",
       "    </tr>\n",
       "    <tr>\n",
       "      <th>0017ce28-9f7a-404b-ad55-d3f43ad13cae</th>\n",
       "      <td>8.560851e-14</td>\n",
       "    </tr>\n",
       "    <tr>\n",
       "      <th>...</th>\n",
       "      <td>...</td>\n",
       "    </tr>\n",
       "    <tr>\n",
       "      <th>ff36578b-f403-4656-b934-81d8d4e02dc8</th>\n",
       "      <td>5.983466e-09</td>\n",
       "    </tr>\n",
       "    <tr>\n",
       "      <th>ff65658c-2d39-44a2-b23e-7ec3c644f064</th>\n",
       "      <td>7.704246e-06</td>\n",
       "    </tr>\n",
       "    <tr>\n",
       "      <th>ff6dccc1-5ebd-42c3-9fd9-3d73db7a3dd2</th>\n",
       "      <td>2.270127e-10</td>\n",
       "    </tr>\n",
       "    <tr>\n",
       "      <th>ffaaffd3-5deb-4508-9e5f-e47f551ac2b8</th>\n",
       "      <td>1.224823e-12</td>\n",
       "    </tr>\n",
       "    <tr>\n",
       "      <th>ffbe8447-6d78-46dd-8378-47019a82ce82</th>\n",
       "      <td>3.046266e-11</td>\n",
       "    </tr>\n",
       "  </tbody>\n",
       "</table>\n",
       "<p>2046 rows × 1 columns</p>\n",
       "</div>"
      ],
      "text/plain": [
       "                                      64867712-23c4-3be5-a50e-3631e74571a6\n",
       "REF_ID                                                                    \n",
       "00012c0a-9bff-4787-a7eb-56c3d2f43692                          3.315358e-11\n",
       "0015ec22-72cb-4af1-8c7b-0ba0d041553c                          3.310572e-11\n",
       "0017271e-7df5-40bc-833a-36110c1fe5d5                          2.314766e-08\n",
       "001790f3-fd86-4a0d-a2a1-06c7099d90c8                          1.216010e-05\n",
       "0017ce28-9f7a-404b-ad55-d3f43ad13cae                          8.560851e-14\n",
       "...                                                                    ...\n",
       "ff36578b-f403-4656-b934-81d8d4e02dc8                          5.983466e-09\n",
       "ff65658c-2d39-44a2-b23e-7ec3c644f064                          7.704246e-06\n",
       "ff6dccc1-5ebd-42c3-9fd9-3d73db7a3dd2                          2.270127e-10\n",
       "ffaaffd3-5deb-4508-9e5f-e47f551ac2b8                          1.224823e-12\n",
       "ffbe8447-6d78-46dd-8378-47019a82ce82                          3.046266e-11\n",
       "\n",
       "[2046 rows x 1 columns]"
      ]
     },
     "execution_count": 26,
     "metadata": {},
     "output_type": "execute_result"
    }
   ],
   "source": [
    "material_process_elementary_dfr = dv.get_process_elementary_flow(dbconn, ref_ids=production_dfr['REF_ID'].to_list(), limit_exchanges=None)\n",
    "material_process_elementary_dfr"
   ]
  },
  {
   "cell_type": "code",
   "execution_count": 27,
   "metadata": {},
   "outputs": [
    {
     "name": "stdout",
     "output_type": "stream",
     "text": [
      "SELECT \"e\".\"F_OWNER\",\"e\".\"F_FLOW\",\"e\".\"F_UNIT\",\"e\".\"RESULTING_AMOUNT_VALUE\",\"TBL_FLOWS\".\"FLOW_TYPE\",\"TBL_FLOWS\".\"REF_ID\" FROM (SELECT \"F_OWNER\",\"F_FLOW\",\"F_UNIT\",\"RESULTING_AMOUNT_VALUE\" FROM \"TBL_EXCHANGES\" WHERE \"F_OWNER\" IN (10990570,25967156,33642886)) \"e\" LEFT JOIN \"TBL_FLOWS\" ON \"TBL_FLOWS\".\"ID\"=\"e\".\"F_FLOW\" WHERE \"TBL_FLOWS\".\"FlOW_TYPE\"='ELEMENTARY_FLOW'\n"
     ]
    },
    {
     "data": {
      "text/html": [
       "<div>\n",
       "<style scoped>\n",
       "    .dataframe tbody tr th:only-of-type {\n",
       "        vertical-align: middle;\n",
       "    }\n",
       "\n",
       "    .dataframe tbody tr th {\n",
       "        vertical-align: top;\n",
       "    }\n",
       "\n",
       "    .dataframe thead th {\n",
       "        text-align: right;\n",
       "    }\n",
       "</style>\n",
       "<table border=\"1\" class=\"dataframe\">\n",
       "  <thead>\n",
       "    <tr style=\"text-align: right;\">\n",
       "      <th></th>\n",
       "      <th>b0d5d6ec-77f4-3213-b613-2391089d5f96</th>\n",
       "      <th>3886c7a5-bb83-41d8-9b20-41c0df9742ce</th>\n",
       "      <th>13e79207-71e6-36c9-be76-716700ea1e81</th>\n",
       "    </tr>\n",
       "    <tr>\n",
       "      <th>REF_ID</th>\n",
       "      <th></th>\n",
       "      <th></th>\n",
       "      <th></th>\n",
       "    </tr>\n",
       "  </thead>\n",
       "  <tbody>\n",
       "    <tr>\n",
       "      <th>00012c0a-9bff-4787-a7eb-56c3d2f43692</th>\n",
       "      <td>3.483849e-14</td>\n",
       "      <td>1.065112e-15</td>\n",
       "      <td>1.343178e-12</td>\n",
       "    </tr>\n",
       "    <tr>\n",
       "      <th>0015ec22-72cb-4af1-8c7b-0ba0d041553c</th>\n",
       "      <td>2.219304e-14</td>\n",
       "      <td>4.672549e-16</td>\n",
       "      <td>5.893830e-13</td>\n",
       "    </tr>\n",
       "    <tr>\n",
       "      <th>0017271e-7df5-40bc-833a-36110c1fe5d5</th>\n",
       "      <td>1.925405e-08</td>\n",
       "      <td>1.270445e-09</td>\n",
       "      <td>3.141943e-07</td>\n",
       "    </tr>\n",
       "    <tr>\n",
       "      <th>001790f3-fd86-4a0d-a2a1-06c7099d90c8</th>\n",
       "      <td>3.069829e-06</td>\n",
       "      <td>1.130097e-07</td>\n",
       "      <td>1.571742e-04</td>\n",
       "    </tr>\n",
       "    <tr>\n",
       "      <th>0017ce28-9f7a-404b-ad55-d3f43ad13cae</th>\n",
       "      <td>1.561346e-16</td>\n",
       "      <td>6.389158e-18</td>\n",
       "      <td>9.859565e-15</td>\n",
       "    </tr>\n",
       "    <tr>\n",
       "      <th>...</th>\n",
       "      <td>...</td>\n",
       "      <td>...</td>\n",
       "      <td>...</td>\n",
       "    </tr>\n",
       "    <tr>\n",
       "      <th>ff36578b-f403-4656-b934-81d8d4e02dc8</th>\n",
       "      <td>3.301364e-09</td>\n",
       "      <td>1.808864e-10</td>\n",
       "      <td>1.065688e-07</td>\n",
       "    </tr>\n",
       "    <tr>\n",
       "      <th>ff65658c-2d39-44a2-b23e-7ec3c644f064</th>\n",
       "      <td>1.464274e-06</td>\n",
       "      <td>6.263453e-08</td>\n",
       "      <td>6.750265e-05</td>\n",
       "    </tr>\n",
       "    <tr>\n",
       "      <th>ff6dccc1-5ebd-42c3-9fd9-3d73db7a3dd2</th>\n",
       "      <td>9.328170e-12</td>\n",
       "      <td>3.999789e-13</td>\n",
       "      <td>2.801591e-10</td>\n",
       "    </tr>\n",
       "    <tr>\n",
       "      <th>ffaaffd3-5deb-4508-9e5f-e47f551ac2b8</th>\n",
       "      <td>1.788079e-14</td>\n",
       "      <td>7.680476e-15</td>\n",
       "      <td>7.796265e-13</td>\n",
       "    </tr>\n",
       "    <tr>\n",
       "      <th>ffbe8447-6d78-46dd-8378-47019a82ce82</th>\n",
       "      <td>5.815804e-11</td>\n",
       "      <td>2.034394e-12</td>\n",
       "      <td>2.570178e-09</td>\n",
       "    </tr>\n",
       "  </tbody>\n",
       "</table>\n",
       "<p>2046 rows × 3 columns</p>\n",
       "</div>"
      ],
      "text/plain": [
       "                                      b0d5d6ec-77f4-3213-b613-2391089d5f96  \\\n",
       "REF_ID                                                                       \n",
       "00012c0a-9bff-4787-a7eb-56c3d2f43692                          3.483849e-14   \n",
       "0015ec22-72cb-4af1-8c7b-0ba0d041553c                          2.219304e-14   \n",
       "0017271e-7df5-40bc-833a-36110c1fe5d5                          1.925405e-08   \n",
       "001790f3-fd86-4a0d-a2a1-06c7099d90c8                          3.069829e-06   \n",
       "0017ce28-9f7a-404b-ad55-d3f43ad13cae                          1.561346e-16   \n",
       "...                                                                    ...   \n",
       "ff36578b-f403-4656-b934-81d8d4e02dc8                          3.301364e-09   \n",
       "ff65658c-2d39-44a2-b23e-7ec3c644f064                          1.464274e-06   \n",
       "ff6dccc1-5ebd-42c3-9fd9-3d73db7a3dd2                          9.328170e-12   \n",
       "ffaaffd3-5deb-4508-9e5f-e47f551ac2b8                          1.788079e-14   \n",
       "ffbe8447-6d78-46dd-8378-47019a82ce82                          5.815804e-11   \n",
       "\n",
       "                                      3886c7a5-bb83-41d8-9b20-41c0df9742ce  \\\n",
       "REF_ID                                                                       \n",
       "00012c0a-9bff-4787-a7eb-56c3d2f43692                          1.065112e-15   \n",
       "0015ec22-72cb-4af1-8c7b-0ba0d041553c                          4.672549e-16   \n",
       "0017271e-7df5-40bc-833a-36110c1fe5d5                          1.270445e-09   \n",
       "001790f3-fd86-4a0d-a2a1-06c7099d90c8                          1.130097e-07   \n",
       "0017ce28-9f7a-404b-ad55-d3f43ad13cae                          6.389158e-18   \n",
       "...                                                                    ...   \n",
       "ff36578b-f403-4656-b934-81d8d4e02dc8                          1.808864e-10   \n",
       "ff65658c-2d39-44a2-b23e-7ec3c644f064                          6.263453e-08   \n",
       "ff6dccc1-5ebd-42c3-9fd9-3d73db7a3dd2                          3.999789e-13   \n",
       "ffaaffd3-5deb-4508-9e5f-e47f551ac2b8                          7.680476e-15   \n",
       "ffbe8447-6d78-46dd-8378-47019a82ce82                          2.034394e-12   \n",
       "\n",
       "                                      13e79207-71e6-36c9-be76-716700ea1e81  \n",
       "REF_ID                                                                      \n",
       "00012c0a-9bff-4787-a7eb-56c3d2f43692                          1.343178e-12  \n",
       "0015ec22-72cb-4af1-8c7b-0ba0d041553c                          5.893830e-13  \n",
       "0017271e-7df5-40bc-833a-36110c1fe5d5                          3.141943e-07  \n",
       "001790f3-fd86-4a0d-a2a1-06c7099d90c8                          1.571742e-04  \n",
       "0017ce28-9f7a-404b-ad55-d3f43ad13cae                          9.859565e-15  \n",
       "...                                                                    ...  \n",
       "ff36578b-f403-4656-b934-81d8d4e02dc8                          1.065688e-07  \n",
       "ff65658c-2d39-44a2-b23e-7ec3c644f064                          6.750265e-05  \n",
       "ff6dccc1-5ebd-42c3-9fd9-3d73db7a3dd2                          2.801591e-10  \n",
       "ffaaffd3-5deb-4508-9e5f-e47f551ac2b8                          7.796265e-13  \n",
       "ffbe8447-6d78-46dd-8378-47019a82ce82                          2.570178e-09  \n",
       "\n",
       "[2046 rows x 3 columns]"
      ]
     },
     "execution_count": 27,
     "metadata": {},
     "output_type": "execute_result"
    }
   ],
   "source": [
    "transport_process_elementary_dfr = dv.get_process_elementary_flow(dbconn, ref_ids=transport_ref_ids, limit_exchanges=None)\n",
    "transport_process_elementary_dfr"
   ]
  },
  {
   "cell_type": "code",
   "execution_count": 28,
   "metadata": {},
   "outputs": [
    {
     "data": {
      "text/plain": [
       "REF_ID                                                                    \n",
       "00012c0a-9bff-4787-a7eb-56c3d2f43692  64867712-23c4-3be5-a50e-3631e74571a6    3.315358e-11\n",
       "0015ec22-72cb-4af1-8c7b-0ba0d041553c  64867712-23c4-3be5-a50e-3631e74571a6    3.310572e-11\n",
       "0017271e-7df5-40bc-833a-36110c1fe5d5  64867712-23c4-3be5-a50e-3631e74571a6    2.314766e-08\n",
       "001790f3-fd86-4a0d-a2a1-06c7099d90c8  64867712-23c4-3be5-a50e-3631e74571a6    1.216010e-05\n",
       "0017ce28-9f7a-404b-ad55-d3f43ad13cae  64867712-23c4-3be5-a50e-3631e74571a6    8.560851e-14\n",
       "                                                                                  ...     \n",
       "ffaaffd3-5deb-4508-9e5f-e47f551ac2b8  3886c7a5-bb83-41d8-9b20-41c0df9742ce    7.680476e-15\n",
       "                                      13e79207-71e6-36c9-be76-716700ea1e81    7.796265e-13\n",
       "ffbe8447-6d78-46dd-8378-47019a82ce82  b0d5d6ec-77f4-3213-b613-2391089d5f96    5.815804e-11\n",
       "                                      3886c7a5-bb83-41d8-9b20-41c0df9742ce    2.034394e-12\n",
       "                                      13e79207-71e6-36c9-be76-716700ea1e81    2.570178e-09\n",
       "Length: 8184, dtype: float64"
      ]
     },
     "execution_count": 28,
     "metadata": {},
     "output_type": "execute_result"
    }
   ],
   "source": [
    "material_process_elementary_dfr.stack().append(\n",
    "transport_process_elementary_dfr.stack())"
   ]
  },
  {
   "cell_type": "code",
   "execution_count": 29,
   "metadata": {},
   "outputs": [],
   "source": [
    "olca_model_A.EF_Pm = Param(olca_model_A.E, olca_model_A.Pm, initialize=material_process_elementary_dfr.stack().to_dict(),\n",
    "                        within=Any, doc='Breakdown of material flows into elementary flows', default = 0)\n",
    "olca_model_A.EF_Pt = Param(olca_model_A.E, olca_model_A.Pt, initialize=transport_process_elementary_dfr.stack().to_dict(),\n",
    "                        within=Any, doc='Breakdown of transport flows into elementary flows', default = 0)"
   ]
  },
  {
   "cell_type": "markdown",
   "metadata": {},
   "source": [
    "Next we calculate the environmental impact of each of these flows."
   ]
  },
  {
   "cell_type": "code",
   "execution_count": 30,
   "metadata": {},
   "outputs": [
    {
     "name": "stdout",
     "output_type": "stream",
     "text": [
      "EI_Pm : Environment Impact of flow from material process\n",
      "    Size=1, Index=Pm, Domain=Any, Default=None, Mutable=False\n",
      "    Key                                  : Value\n",
      "    64867712-23c4-3be5-a50e-3631e74571a6 : 0.13944742151786754\n",
      "EI_Pt : Environment Impact of flow from transport process\n",
      "    Size=3, Index=Pt, Domain=Any, Default=None, Mutable=False\n",
      "    Key                                  : Value\n",
      "    13e79207-71e6-36c9-be76-716700ea1e81 :     1.84302999202496\n",
      "    3886c7a5-bb83-41d8-9b20-41c0df9742ce : 0.009366999860024065\n",
      "    b0d5d6ec-77f4-3213-b613-2391089d5f96 : 0.056119557120436626\n"
     ]
    }
   ],
   "source": [
    "I_Pm_dict = {p: sum(olca_model_A.Ef[e, kpi_ref_id[0]]*olca_model_A.EF_Pm[e, p] for e in olca_model_A.E) for p in olca_model_A.Pm}\n",
    "I_Pt_dict = {p: sum(olca_model_A.Ef[e, kpi_ref_id[0]]*olca_model_A.EF_Pt[e, p] for e in olca_model_A.E) for p in olca_model_A.Pt}\n",
    "olca_model_A.EI_Pm = Param(olca_model_A.Pm, initialize=I_Pm_dict, doc='Environment Impact of flow from material process')\n",
    "olca_model_A.EI_Pt = Param(olca_model_A.Pt, initialize=I_Pt_dict, doc='Environment Impact of flow from transport process')\n",
    "olca_model_A.EI_Pm.pprint()\n",
    "olca_model_A.EI_Pt.pprint()"
   ]
  },
  {
   "cell_type": "markdown",
   "metadata": {},
   "source": [
    "### Distances"
   ]
  },
  {
   "cell_type": "markdown",
   "metadata": {},
   "source": [
    "For each process in $P$ we need to identify the corresponding product flow in $F$. The following function does this."
   ]
  },
  {
   "cell_type": "code",
   "execution_count": 31,
   "metadata": {},
   "outputs": [
    {
     "name": "stdout",
     "output_type": "stream",
     "text": [
      "SELECT \"TBL_PROCESSES\".\"REF_ID\" \"PROCESS_REF_ID\",\"TBL_PROCESSES\".\"NAME\" \"PROCESS_NAME\",\"TBL_LOCATIONS\".\"NAME\" \"LOCATION\",\"TBL_FLOWS\".\"REF_ID\" \"FLOW_REF_ID\",\"TBL_FLOWS\".\"NAME\" \"FLOW_NAME\" FROM (SELECT \"F_OWNER\",\"F_FLOW\",\"F_UNIT\",\"RESULTING_AMOUNT_VALUE\" FROM \"TBL_EXCHANGES\" WHERE \"F_OWNER\" IN (5409534,10990570,25967156,33642886)) \"e\" LEFT JOIN \"TBL_FLOWS\" ON \"TBL_FLOWS\".\"ID\"=\"e\".\"F_FLOW\" LEFT JOIN \"TBL_PROCESSES\" ON \"TBL_PROCESSES\".\"ID\"=\"e\".\"F_OWNER\" LEFT JOIN \"TBL_LOCATIONS\" ON CAST(\"TBL_PROCESSES\".\"F_LOCATION\" AS INT)=\"TBL_LOCATIONS\".\"ID\" WHERE \"TBL_FLOWS\".\"FlOW_TYPE\"='PRODUCT_FLOW'\n"
     ]
    },
    {
     "data": {
      "text/html": [
       "<div>\n",
       "<style scoped>\n",
       "    .dataframe tbody tr th:only-of-type {\n",
       "        vertical-align: middle;\n",
       "    }\n",
       "\n",
       "    .dataframe tbody tr th {\n",
       "        vertical-align: top;\n",
       "    }\n",
       "\n",
       "    .dataframe thead th {\n",
       "        text-align: right;\n",
       "    }\n",
       "</style>\n",
       "<table border=\"1\" class=\"dataframe\">\n",
       "  <thead>\n",
       "    <tr style=\"text-align: right;\">\n",
       "      <th></th>\n",
       "      <th>PROCESS_REF_ID</th>\n",
       "      <th>PROCESS_NAME</th>\n",
       "      <th>LOCATION</th>\n",
       "      <th>FLOW_REF_ID</th>\n",
       "      <th>FLOW_NAME</th>\n",
       "    </tr>\n",
       "  </thead>\n",
       "  <tbody>\n",
       "    <tr>\n",
       "      <th>0</th>\n",
       "      <td>64867712-23c4-3be5-a50e-3631e74571a6</td>\n",
       "      <td>lemon production | lemon | APOS, S</td>\n",
       "      <td>Spain</td>\n",
       "      <td>9891d347-28f8-434d-896a-84a19a4c68a6</td>\n",
       "      <td>lemon</td>\n",
       "    </tr>\n",
       "    <tr>\n",
       "      <th>1</th>\n",
       "      <td>b0d5d6ec-77f4-3213-b613-2391089d5f96</td>\n",
       "      <td>transport, freight train, diesel | transport, ...</td>\n",
       "      <td>Europe without Switzerland</td>\n",
       "      <td>0ace02fa-eca5-482d-a829-c18e46a52db4</td>\n",
       "      <td>transport, freight train</td>\n",
       "    </tr>\n",
       "    <tr>\n",
       "      <th>2</th>\n",
       "      <td>3886c7a5-bb83-41d8-9b20-41c0df9742ce</td>\n",
       "      <td>transport, freight, sea, container ship | tran...</td>\n",
       "      <td>Global</td>\n",
       "      <td>2741cea8-327f-4e0f-9401-b10858dc68f8</td>\n",
       "      <td>transport, freight, sea, container ship</td>\n",
       "    </tr>\n",
       "    <tr>\n",
       "      <th>3</th>\n",
       "      <td>13e79207-71e6-36c9-be76-716700ea1e81</td>\n",
       "      <td>transport, freight, light commercial vehicle |...</td>\n",
       "      <td>Europe without Switzerland</td>\n",
       "      <td>090f56b8-6a83-48c1-ae26-234d04771e53</td>\n",
       "      <td>transport, freight, light commercial vehicle</td>\n",
       "    </tr>\n",
       "  </tbody>\n",
       "</table>\n",
       "</div>"
      ],
      "text/plain": [
       "                         PROCESS_REF_ID  \\\n",
       "0  64867712-23c4-3be5-a50e-3631e74571a6   \n",
       "1  b0d5d6ec-77f4-3213-b613-2391089d5f96   \n",
       "2  3886c7a5-bb83-41d8-9b20-41c0df9742ce   \n",
       "3  13e79207-71e6-36c9-be76-716700ea1e81   \n",
       "\n",
       "                                        PROCESS_NAME  \\\n",
       "0                 lemon production | lemon | APOS, S   \n",
       "1  transport, freight train, diesel | transport, ...   \n",
       "2  transport, freight, sea, container ship | tran...   \n",
       "3  transport, freight, light commercial vehicle |...   \n",
       "\n",
       "                     LOCATION                           FLOW_REF_ID  \\\n",
       "0                       Spain  9891d347-28f8-434d-896a-84a19a4c68a6   \n",
       "1  Europe without Switzerland  0ace02fa-eca5-482d-a829-c18e46a52db4   \n",
       "2                      Global  2741cea8-327f-4e0f-9401-b10858dc68f8   \n",
       "3  Europe without Switzerland  090f56b8-6a83-48c1-ae26-234d04771e53   \n",
       "\n",
       "                                      FLOW_NAME  \n",
       "0                                         lemon  \n",
       "1                      transport, freight train  \n",
       "2       transport, freight, sea, container ship  \n",
       "3  transport, freight, light commercial vehicle  "
      ]
     },
     "execution_count": 31,
     "metadata": {},
     "output_type": "execute_result"
    }
   ],
   "source": [
    "process_dfr = dv.get_process_product_flow(dbconn, ref_ids=material_ref_ids + transport_ref_ids)\n",
    "process = dict(zip(process_dfr['FLOW_REF_ID'], process_dfr['PROCESS_REF_ID']))\n",
    "process_dfr"
   ]
  },
  {
   "cell_type": "markdown",
   "metadata": {},
   "source": [
    "We calculate the distance between the UK and Spain using openLCA data. We only want the lemon production location because that's where the lemon originate. Positive latitude is N, positive longitude is E."
   ]
  },
  {
   "cell_type": "code",
   "execution_count": 32,
   "metadata": {},
   "outputs": [
    {
     "name": "stdout",
     "output_type": "stream",
     "text": [
      "SELECT \"TBL_PROCESSES\".\"REF_ID\",\"TBL_PROCESSES\".\"NAME\",\"TBL_LOCATIONS\".\"LATITUDE\",\"TBL_LOCATIONS\".\"LONGITUDE\" FROM \"TBL_PROCESSES\" LEFT JOIN \"TBL_LOCATIONS\" ON CAST(\"TBL_PROCESSES\".\"F_LOCATION\" AS INT)=\"TBL_LOCATIONS\".\"ID\" WHERE \"TBL_PROCESSES\".\"REF_ID\" IN ('64867712-23c4-3be5-a50e-3631e74571a6','b0d5d6ec-77f4-3213-b613-2391089d5f96','3886c7a5-bb83-41d8-9b20-41c0df9742ce','13e79207-71e6-36c9-be76-716700ea1e81')\n"
     ]
    },
    {
     "data": {
      "text/html": [
       "<div>\n",
       "<style scoped>\n",
       "    .dataframe tbody tr th:only-of-type {\n",
       "        vertical-align: middle;\n",
       "    }\n",
       "\n",
       "    .dataframe tbody tr th {\n",
       "        vertical-align: top;\n",
       "    }\n",
       "\n",
       "    .dataframe thead th {\n",
       "        text-align: right;\n",
       "    }\n",
       "</style>\n",
       "<table border=\"1\" class=\"dataframe\">\n",
       "  <thead>\n",
       "    <tr style=\"text-align: right;\">\n",
       "      <th></th>\n",
       "      <th>REF_ID</th>\n",
       "      <th>NAME</th>\n",
       "      <th>LATITUDE</th>\n",
       "      <th>LONGITUDE</th>\n",
       "    </tr>\n",
       "  </thead>\n",
       "  <tbody>\n",
       "    <tr>\n",
       "      <th>0</th>\n",
       "      <td>64867712-23c4-3be5-a50e-3631e74571a6</td>\n",
       "      <td>lemon production | lemon | APOS, S</td>\n",
       "      <td>40.220000</td>\n",
       "      <td>-3.640000</td>\n",
       "    </tr>\n",
       "    <tr>\n",
       "      <th>1</th>\n",
       "      <td>b0d5d6ec-77f4-3213-b613-2391089d5f96</td>\n",
       "      <td>transport, freight train, diesel | transport, ...</td>\n",
       "      <td>48.597508</td>\n",
       "      <td>6.421103</td>\n",
       "    </tr>\n",
       "    <tr>\n",
       "      <th>2</th>\n",
       "      <td>3886c7a5-bb83-41d8-9b20-41c0df9742ce</td>\n",
       "      <td>transport, freight, sea, container ship | tran...</td>\n",
       "      <td>0.000000</td>\n",
       "      <td>0.000000</td>\n",
       "    </tr>\n",
       "    <tr>\n",
       "      <th>3</th>\n",
       "      <td>13e79207-71e6-36c9-be76-716700ea1e81</td>\n",
       "      <td>transport, freight, light commercial vehicle |...</td>\n",
       "      <td>48.597508</td>\n",
       "      <td>6.421103</td>\n",
       "    </tr>\n",
       "  </tbody>\n",
       "</table>\n",
       "</div>"
      ],
      "text/plain": [
       "                                 REF_ID  \\\n",
       "0  64867712-23c4-3be5-a50e-3631e74571a6   \n",
       "1  b0d5d6ec-77f4-3213-b613-2391089d5f96   \n",
       "2  3886c7a5-bb83-41d8-9b20-41c0df9742ce   \n",
       "3  13e79207-71e6-36c9-be76-716700ea1e81   \n",
       "\n",
       "                                                NAME   LATITUDE  LONGITUDE  \n",
       "0                 lemon production | lemon | APOS, S  40.220000  -3.640000  \n",
       "1  transport, freight train, diesel | transport, ...  48.597508   6.421103  \n",
       "2  transport, freight, sea, container ship | tran...   0.000000   0.000000  \n",
       "3  transport, freight, light commercial vehicle |...  48.597508   6.421103  "
      ]
     },
     "execution_count": 32,
     "metadata": {},
     "output_type": "execute_result"
    }
   ],
   "source": [
    "locations = dv.get_process_locations(dbconn, list(process.values()))\n",
    "locations"
   ]
  },
  {
   "cell_type": "markdown",
   "metadata": {},
   "source": [
    "We also need the location of the UK which is part of the Task. Currently, this is hardcoded. We use a package\n",
    "to calculate the distance in km between latitudes and longitudes using a Haversine formula."
   ]
  },
  {
   "cell_type": "code",
   "execution_count": 33,
   "metadata": {},
   "outputs": [
    {
     "data": {
      "text/html": [
       "<div>\n",
       "<style scoped>\n",
       "    .dataframe tbody tr th:only-of-type {\n",
       "        vertical-align: middle;\n",
       "    }\n",
       "\n",
       "    .dataframe tbody tr th {\n",
       "        vertical-align: top;\n",
       "    }\n",
       "\n",
       "    .dataframe thead th {\n",
       "        text-align: right;\n",
       "    }\n",
       "</style>\n",
       "<table border=\"1\" class=\"dataframe\">\n",
       "  <thead>\n",
       "    <tr style=\"text-align: right;\">\n",
       "      <th></th>\n",
       "      <th>REF_ID</th>\n",
       "      <th>NAME</th>\n",
       "      <th>LATITUDE</th>\n",
       "      <th>LONGITUDE</th>\n",
       "      <th>dist</th>\n",
       "    </tr>\n",
       "  </thead>\n",
       "  <tbody>\n",
       "    <tr>\n",
       "      <th>0</th>\n",
       "      <td>64867712-23c4-3be5-a50e-3631e74571a6</td>\n",
       "      <td>lemon production | lemon | APOS, S</td>\n",
       "      <td>40.220000</td>\n",
       "      <td>-3.640000</td>\n",
       "      <td>1283.834155</td>\n",
       "    </tr>\n",
       "    <tr>\n",
       "      <th>1</th>\n",
       "      <td>b0d5d6ec-77f4-3213-b613-2391089d5f96</td>\n",
       "      <td>transport, freight train, diesel | transport, ...</td>\n",
       "      <td>48.597508</td>\n",
       "      <td>6.421103</td>\n",
       "      <td>568.268672</td>\n",
       "    </tr>\n",
       "    <tr>\n",
       "      <th>2</th>\n",
       "      <td>3886c7a5-bb83-41d8-9b20-41c0df9742ce</td>\n",
       "      <td>transport, freight, sea, container ship | tran...</td>\n",
       "      <td>0.000000</td>\n",
       "      <td>0.000000</td>\n",
       "      <td>5727.382053</td>\n",
       "    </tr>\n",
       "    <tr>\n",
       "      <th>3</th>\n",
       "      <td>13e79207-71e6-36c9-be76-716700ea1e81</td>\n",
       "      <td>transport, freight, light commercial vehicle |...</td>\n",
       "      <td>48.597508</td>\n",
       "      <td>6.421103</td>\n",
       "      <td>568.268672</td>\n",
       "    </tr>\n",
       "  </tbody>\n",
       "</table>\n",
       "</div>"
      ],
      "text/plain": [
       "                                 REF_ID  \\\n",
       "0  64867712-23c4-3be5-a50e-3631e74571a6   \n",
       "1  b0d5d6ec-77f4-3213-b613-2391089d5f96   \n",
       "2  3886c7a5-bb83-41d8-9b20-41c0df9742ce   \n",
       "3  13e79207-71e6-36c9-be76-716700ea1e81   \n",
       "\n",
       "                                                NAME   LATITUDE  LONGITUDE  \\\n",
       "0                 lemon production | lemon | APOS, S  40.220000  -3.640000   \n",
       "1  transport, freight train, diesel | transport, ...  48.597508   6.421103   \n",
       "2  transport, freight, sea, container ship | tran...   0.000000   0.000000   \n",
       "3  transport, freight, light commercial vehicle |...  48.597508   6.421103   \n",
       "\n",
       "          dist  \n",
       "0  1283.834155  \n",
       "1   568.268672  \n",
       "2  5727.382053  \n",
       "3   568.268672  "
      ]
     },
     "execution_count": 33,
     "metadata": {},
     "output_type": "execute_result"
    }
   ],
   "source": [
    "import pygeodesy.formy as pygeo \n",
    "# London, UK\n",
    "uk_latitude = 51.5074 # N\n",
    "uk_longitude = -0.1278 # E\n",
    "\n",
    "def dist(row):\n",
    "    return pygeo.haversine(uk_latitude, uk_longitude, row['LATITUDE'], row['LONGITUDE']) / 1000\n",
    "locations['dist'] = locations.apply(dist, axis=1)\n",
    "locations"
   ]
  },
  {
   "cell_type": "code",
   "execution_count": 34,
   "metadata": {},
   "outputs": [
    {
     "name": "stdout",
     "output_type": "stream",
     "text": [
      "dist : Distance\n",
      "    Size=1, Index=Pm, Domain=NonNegativeReals, Default=None, Mutable=False\n",
      "    Key                                  : Value\n",
      "    64867712-23c4-3be5-a50e-3631e74571a6 : 1283.834155118865\n"
     ]
    }
   ],
   "source": [
    "dist_init = {'64867712-23c4-3be5-a50e-3631e74571a6': \n",
    "         locations.loc[locations['REF_ID']=='64867712-23c4-3be5-a50e-3631e74571a6', 'dist'].values[0]}\n",
    "olca_model_A.dist = Param(olca_model_A.Pm, within=NonNegativeReals, initialize = dist_init, doc='Distance')\n",
    "olca_model_A.dist.pprint()"
   ]
  },
  {
   "cell_type": "markdown",
   "metadata": {},
   "source": [
    "## Define continuous decision variables"
   ]
  },
  {
   "cell_type": "code",
   "execution_count": 35,
   "metadata": {},
   "outputs": [
    {
     "name": "stdout",
     "output_type": "stream",
     "text": [
      "Flow : Material flow\n",
      "    Size=1, Index=Flow_index\n",
      "    Key                                                                              : Lower : Value : Upper : Fixed : Stale : Domain\n",
      "    ('9891d347-28f8-434d-896a-84a19a4c68a6', '64867712-23c4-3be5-a50e-3631e74571a6') :     0 :  None :  None : False :  True : NonNegativeReals\n",
      "t : Transport Service flow\n",
      "    Size=9, Index=t_index\n",
      "    Key                                                                              : Lower : Value : Upper : Fixed : Stale : Domain\n",
      "    ('090f56b8-6a83-48c1-ae26-234d04771e53', '13e79207-71e6-36c9-be76-716700ea1e81') :     0 :  None :  None : False :  True : NonNegativeReals\n",
      "    ('090f56b8-6a83-48c1-ae26-234d04771e53', '3886c7a5-bb83-41d8-9b20-41c0df9742ce') :     0 :  None :  None : False :  True : NonNegativeReals\n",
      "    ('090f56b8-6a83-48c1-ae26-234d04771e53', 'b0d5d6ec-77f4-3213-b613-2391089d5f96') :     0 :  None :  None : False :  True : NonNegativeReals\n",
      "    ('0ace02fa-eca5-482d-a829-c18e46a52db4', '13e79207-71e6-36c9-be76-716700ea1e81') :     0 :  None :  None : False :  True : NonNegativeReals\n",
      "    ('0ace02fa-eca5-482d-a829-c18e46a52db4', '3886c7a5-bb83-41d8-9b20-41c0df9742ce') :     0 :  None :  None : False :  True : NonNegativeReals\n",
      "    ('0ace02fa-eca5-482d-a829-c18e46a52db4', 'b0d5d6ec-77f4-3213-b613-2391089d5f96') :     0 :  None :  None : False :  True : NonNegativeReals\n",
      "    ('2741cea8-327f-4e0f-9401-b10858dc68f8', '13e79207-71e6-36c9-be76-716700ea1e81') :     0 :  None :  None : False :  True : NonNegativeReals\n",
      "    ('2741cea8-327f-4e0f-9401-b10858dc68f8', '3886c7a5-bb83-41d8-9b20-41c0df9742ce') :     0 :  None :  None : False :  True : NonNegativeReals\n",
      "    ('2741cea8-327f-4e0f-9401-b10858dc68f8', 'b0d5d6ec-77f4-3213-b613-2391089d5f96') :     0 :  None :  None : False :  True : NonNegativeReals\n",
      "f : Transport flow\n",
      "    Size=9, Index=f_index\n",
      "    Key                                                                                                                                                              : Lower : Value : Upper : Fixed : Stale : Domain\n",
      "    ('9891d347-28f8-434d-896a-84a19a4c68a6', '64867712-23c4-3be5-a50e-3631e74571a6', '090f56b8-6a83-48c1-ae26-234d04771e53', '13e79207-71e6-36c9-be76-716700ea1e81') :     0 :  None :  None : False :  True : NonNegativeReals\n",
      "    ('9891d347-28f8-434d-896a-84a19a4c68a6', '64867712-23c4-3be5-a50e-3631e74571a6', '090f56b8-6a83-48c1-ae26-234d04771e53', '3886c7a5-bb83-41d8-9b20-41c0df9742ce') :     0 :  None :  None : False :  True : NonNegativeReals\n",
      "    ('9891d347-28f8-434d-896a-84a19a4c68a6', '64867712-23c4-3be5-a50e-3631e74571a6', '090f56b8-6a83-48c1-ae26-234d04771e53', 'b0d5d6ec-77f4-3213-b613-2391089d5f96') :     0 :  None :  None : False :  True : NonNegativeReals\n",
      "    ('9891d347-28f8-434d-896a-84a19a4c68a6', '64867712-23c4-3be5-a50e-3631e74571a6', '0ace02fa-eca5-482d-a829-c18e46a52db4', '13e79207-71e6-36c9-be76-716700ea1e81') :     0 :  None :  None : False :  True : NonNegativeReals\n",
      "    ('9891d347-28f8-434d-896a-84a19a4c68a6', '64867712-23c4-3be5-a50e-3631e74571a6', '0ace02fa-eca5-482d-a829-c18e46a52db4', '3886c7a5-bb83-41d8-9b20-41c0df9742ce') :     0 :  None :  None : False :  True : NonNegativeReals\n",
      "    ('9891d347-28f8-434d-896a-84a19a4c68a6', '64867712-23c4-3be5-a50e-3631e74571a6', '0ace02fa-eca5-482d-a829-c18e46a52db4', 'b0d5d6ec-77f4-3213-b613-2391089d5f96') :     0 :  None :  None : False :  True : NonNegativeReals\n",
      "    ('9891d347-28f8-434d-896a-84a19a4c68a6', '64867712-23c4-3be5-a50e-3631e74571a6', '2741cea8-327f-4e0f-9401-b10858dc68f8', '13e79207-71e6-36c9-be76-716700ea1e81') :     0 :  None :  None : False :  True : NonNegativeReals\n",
      "    ('9891d347-28f8-434d-896a-84a19a4c68a6', '64867712-23c4-3be5-a50e-3631e74571a6', '2741cea8-327f-4e0f-9401-b10858dc68f8', '3886c7a5-bb83-41d8-9b20-41c0df9742ce') :     0 :  None :  None : False :  True : NonNegativeReals\n",
      "    ('9891d347-28f8-434d-896a-84a19a4c68a6', '64867712-23c4-3be5-a50e-3631e74571a6', '2741cea8-327f-4e0f-9401-b10858dc68f8', 'b0d5d6ec-77f4-3213-b613-2391089d5f96') :     0 :  None :  None : False :  True : NonNegativeReals\n"
     ]
    }
   ],
   "source": [
    "olca_model_A.Flow = Var(olca_model_A.Fm, olca_model_A.Pm, within=NonNegativeReals, doc='Material flow')\n",
    "olca_model_A.t = Var(olca_model_A.Ft, olca_model_A.Pt, within=NonNegativeReals, doc='Transport Service flow')\n",
    "olca_model_A.f = Var(olca_model_A.Fm, olca_model_A.Pm, olca_model_A.Ft, olca_model_A.Pt, within=NonNegativeReals, doc='Transport flow')\n",
    "olca_model_A.Flow.pprint()\n",
    "olca_model_A.t.pprint()\n",
    "olca_model_A.f.pprint()"
   ]
  },
  {
   "cell_type": "markdown",
   "metadata": {},
   "source": [
    "## Define constraints"
   ]
  },
  {
   "cell_type": "code",
   "execution_count": 36,
   "metadata": {},
   "outputs": [
    {
     "name": "stdout",
     "output_type": "stream",
     "text": [
      "demand_constraint : Size=1, Index=demand_constraint_index, Active=True\n",
      "    Key                                                                              : Lower  : Body                                                                            : Upper : Active\n",
      "    ('9891d347-28f8-434d-896a-84a19a4c68a6', '64867712-23c4-3be5-a50e-3631e74571a6') : 1000.0 : Flow[9891d347-28f8-434d-896a-84a19a4c68a6,64867712-23c4-3be5-a50e-3631e74571a6] :  +Inf :   True\n"
     ]
    }
   ],
   "source": [
    "def flow_demand_rule(model, fm, pm):\n",
    "    return model.Flow[fm, pm] * model.C[fm] >= model.D_total\n",
    "olca_model_A.demand_constraint = Constraint(olca_model_A.Fm, olca_model_A.Pm, rule=flow_demand_rule)\n",
    "olca_model_A.demand_constraint.pprint()"
   ]
  },
  {
   "cell_type": "code",
   "execution_count": 37,
   "metadata": {},
   "outputs": [
    {
     "name": "stdout",
     "output_type": "stream",
     "text": [
      "transport_constraint : Size=9, Index=transport_constraint_index, Active=True\n",
      "    Key                                                                              : Lower : Body                                                                                                                                                                                                                                                    : Upper : Active\n",
      "    ('090f56b8-6a83-48c1-ae26-234d04771e53', '13e79207-71e6-36c9-be76-716700ea1e81') :   0.0 : t[090f56b8-6a83-48c1-ae26-234d04771e53,13e79207-71e6-36c9-be76-716700ea1e81] - 1283.834155118865*f[9891d347-28f8-434d-896a-84a19a4c68a6,64867712-23c4-3be5-a50e-3631e74571a6,090f56b8-6a83-48c1-ae26-234d04771e53,13e79207-71e6-36c9-be76-716700ea1e81] :   0.0 :   True\n",
      "    ('090f56b8-6a83-48c1-ae26-234d04771e53', '3886c7a5-bb83-41d8-9b20-41c0df9742ce') :   0.0 : t[090f56b8-6a83-48c1-ae26-234d04771e53,3886c7a5-bb83-41d8-9b20-41c0df9742ce] - 1283.834155118865*f[9891d347-28f8-434d-896a-84a19a4c68a6,64867712-23c4-3be5-a50e-3631e74571a6,090f56b8-6a83-48c1-ae26-234d04771e53,3886c7a5-bb83-41d8-9b20-41c0df9742ce] :   0.0 :   True\n",
      "    ('090f56b8-6a83-48c1-ae26-234d04771e53', 'b0d5d6ec-77f4-3213-b613-2391089d5f96') :   0.0 : t[090f56b8-6a83-48c1-ae26-234d04771e53,b0d5d6ec-77f4-3213-b613-2391089d5f96] - 1283.834155118865*f[9891d347-28f8-434d-896a-84a19a4c68a6,64867712-23c4-3be5-a50e-3631e74571a6,090f56b8-6a83-48c1-ae26-234d04771e53,b0d5d6ec-77f4-3213-b613-2391089d5f96] :   0.0 :   True\n",
      "    ('0ace02fa-eca5-482d-a829-c18e46a52db4', '13e79207-71e6-36c9-be76-716700ea1e81') :   0.0 : t[0ace02fa-eca5-482d-a829-c18e46a52db4,13e79207-71e6-36c9-be76-716700ea1e81] - 1283.834155118865*f[9891d347-28f8-434d-896a-84a19a4c68a6,64867712-23c4-3be5-a50e-3631e74571a6,0ace02fa-eca5-482d-a829-c18e46a52db4,13e79207-71e6-36c9-be76-716700ea1e81] :   0.0 :   True\n",
      "    ('0ace02fa-eca5-482d-a829-c18e46a52db4', '3886c7a5-bb83-41d8-9b20-41c0df9742ce') :   0.0 : t[0ace02fa-eca5-482d-a829-c18e46a52db4,3886c7a5-bb83-41d8-9b20-41c0df9742ce] - 1283.834155118865*f[9891d347-28f8-434d-896a-84a19a4c68a6,64867712-23c4-3be5-a50e-3631e74571a6,0ace02fa-eca5-482d-a829-c18e46a52db4,3886c7a5-bb83-41d8-9b20-41c0df9742ce] :   0.0 :   True\n",
      "    ('0ace02fa-eca5-482d-a829-c18e46a52db4', 'b0d5d6ec-77f4-3213-b613-2391089d5f96') :   0.0 : t[0ace02fa-eca5-482d-a829-c18e46a52db4,b0d5d6ec-77f4-3213-b613-2391089d5f96] - 1283.834155118865*f[9891d347-28f8-434d-896a-84a19a4c68a6,64867712-23c4-3be5-a50e-3631e74571a6,0ace02fa-eca5-482d-a829-c18e46a52db4,b0d5d6ec-77f4-3213-b613-2391089d5f96] :   0.0 :   True\n",
      "    ('2741cea8-327f-4e0f-9401-b10858dc68f8', '13e79207-71e6-36c9-be76-716700ea1e81') :   0.0 : t[2741cea8-327f-4e0f-9401-b10858dc68f8,13e79207-71e6-36c9-be76-716700ea1e81] - 1283.834155118865*f[9891d347-28f8-434d-896a-84a19a4c68a6,64867712-23c4-3be5-a50e-3631e74571a6,2741cea8-327f-4e0f-9401-b10858dc68f8,13e79207-71e6-36c9-be76-716700ea1e81] :   0.0 :   True\n",
      "    ('2741cea8-327f-4e0f-9401-b10858dc68f8', '3886c7a5-bb83-41d8-9b20-41c0df9742ce') :   0.0 : t[2741cea8-327f-4e0f-9401-b10858dc68f8,3886c7a5-bb83-41d8-9b20-41c0df9742ce] - 1283.834155118865*f[9891d347-28f8-434d-896a-84a19a4c68a6,64867712-23c4-3be5-a50e-3631e74571a6,2741cea8-327f-4e0f-9401-b10858dc68f8,3886c7a5-bb83-41d8-9b20-41c0df9742ce] :   0.0 :   True\n",
      "    ('2741cea8-327f-4e0f-9401-b10858dc68f8', 'b0d5d6ec-77f4-3213-b613-2391089d5f96') :   0.0 : t[2741cea8-327f-4e0f-9401-b10858dc68f8,b0d5d6ec-77f4-3213-b613-2391089d5f96] - 1283.834155118865*f[9891d347-28f8-434d-896a-84a19a4c68a6,64867712-23c4-3be5-a50e-3631e74571a6,2741cea8-327f-4e0f-9401-b10858dc68f8,b0d5d6ec-77f4-3213-b613-2391089d5f96] :   0.0 :   True\n"
     ]
    }
   ],
   "source": [
    "def transport_flow_rule(model, ft, pt):\n",
    "    return model.t[ft, pt] == sum(model.f[fm, pm, ft, pt]*model.dist[process[fm]] \n",
    "                                  for fm in olca_model_A.Fm for pm in olca_model_A.Pm)\n",
    "olca_model_A.transport_constraint = Constraint(olca_model_A.Ft, olca_model_A.Pt, rule=transport_flow_rule)\n",
    "olca_model_A.transport_constraint.pprint()"
   ]
  },
  {
   "cell_type": "code",
   "execution_count": 38,
   "metadata": {},
   "outputs": [
    {
     "name": "stdout",
     "output_type": "stream",
     "text": [
      "flow_constraint : Size=1, Index=flow_constraint_index, Active=True\n",
      "    Key                                                                              : Lower : Body                                                                                                                                                                                                                                                                                                                                                                                                                                                                                                                                                                                                                                                                                                                                                                                                                                                                                                                                                                                                                                                                                                                                                                                                                                                                                                                                                                                                                                                                                                               : Upper : Active\n",
      "    ('9891d347-28f8-434d-896a-84a19a4c68a6', '64867712-23c4-3be5-a50e-3631e74571a6') :   0.0 : Flow[9891d347-28f8-434d-896a-84a19a4c68a6,64867712-23c4-3be5-a50e-3631e74571a6] - (f[9891d347-28f8-434d-896a-84a19a4c68a6,64867712-23c4-3be5-a50e-3631e74571a6,0ace02fa-eca5-482d-a829-c18e46a52db4,b0d5d6ec-77f4-3213-b613-2391089d5f96] + f[9891d347-28f8-434d-896a-84a19a4c68a6,64867712-23c4-3be5-a50e-3631e74571a6,0ace02fa-eca5-482d-a829-c18e46a52db4,13e79207-71e6-36c9-be76-716700ea1e81] + f[9891d347-28f8-434d-896a-84a19a4c68a6,64867712-23c4-3be5-a50e-3631e74571a6,0ace02fa-eca5-482d-a829-c18e46a52db4,3886c7a5-bb83-41d8-9b20-41c0df9742ce] + f[9891d347-28f8-434d-896a-84a19a4c68a6,64867712-23c4-3be5-a50e-3631e74571a6,090f56b8-6a83-48c1-ae26-234d04771e53,b0d5d6ec-77f4-3213-b613-2391089d5f96] + f[9891d347-28f8-434d-896a-84a19a4c68a6,64867712-23c4-3be5-a50e-3631e74571a6,090f56b8-6a83-48c1-ae26-234d04771e53,13e79207-71e6-36c9-be76-716700ea1e81] + f[9891d347-28f8-434d-896a-84a19a4c68a6,64867712-23c4-3be5-a50e-3631e74571a6,090f56b8-6a83-48c1-ae26-234d04771e53,3886c7a5-bb83-41d8-9b20-41c0df9742ce] + f[9891d347-28f8-434d-896a-84a19a4c68a6,64867712-23c4-3be5-a50e-3631e74571a6,2741cea8-327f-4e0f-9401-b10858dc68f8,b0d5d6ec-77f4-3213-b613-2391089d5f96] + f[9891d347-28f8-434d-896a-84a19a4c68a6,64867712-23c4-3be5-a50e-3631e74571a6,2741cea8-327f-4e0f-9401-b10858dc68f8,13e79207-71e6-36c9-be76-716700ea1e81] + f[9891d347-28f8-434d-896a-84a19a4c68a6,64867712-23c4-3be5-a50e-3631e74571a6,2741cea8-327f-4e0f-9401-b10858dc68f8,3886c7a5-bb83-41d8-9b20-41c0df9742ce]) :   0.0 :   True\n"
     ]
    }
   ],
   "source": [
    "def flow_rule(model, fm, pm):\n",
    "    return model.Flow[fm, pm] == sum(model.f[fm, pm, ft, pt] \n",
    "                                 for ft in olca_model_A.Ft for pt in olca_model_A.Pt)\n",
    "olca_model_A.flow_constraint = Constraint(olca_model_A.Fm, olca_model_A.Pm, rule=flow_rule)\n",
    "olca_model_A.flow_constraint.pprint()"
   ]
  },
  {
   "cell_type": "markdown",
   "metadata": {},
   "source": [
    "## Define objective"
   ]
  },
  {
   "cell_type": "code",
   "execution_count": 39,
   "metadata": {},
   "outputs": [
    {
     "name": "stdout",
     "output_type": "stream",
     "text": [
      "obj : Size=1, Index=None, Active=True\n",
      "    Key  : Active : Sense    : Expression\n",
      "    None :   True : minimize : 0.056119557120436626*t[0ace02fa-eca5-482d-a829-c18e46a52db4,b0d5d6ec-77f4-3213-b613-2391089d5f96] + 0.056119557120436626*t[0ace02fa-eca5-482d-a829-c18e46a52db4,13e79207-71e6-36c9-be76-716700ea1e81] + 0.056119557120436626*t[0ace02fa-eca5-482d-a829-c18e46a52db4,3886c7a5-bb83-41d8-9b20-41c0df9742ce] + 1.84302999202496*t[090f56b8-6a83-48c1-ae26-234d04771e53,b0d5d6ec-77f4-3213-b613-2391089d5f96] + 1.84302999202496*t[090f56b8-6a83-48c1-ae26-234d04771e53,13e79207-71e6-36c9-be76-716700ea1e81] + 1.84302999202496*t[090f56b8-6a83-48c1-ae26-234d04771e53,3886c7a5-bb83-41d8-9b20-41c0df9742ce] + 0.009366999860024065*t[2741cea8-327f-4e0f-9401-b10858dc68f8,b0d5d6ec-77f4-3213-b613-2391089d5f96] + 0.009366999860024065*t[2741cea8-327f-4e0f-9401-b10858dc68f8,13e79207-71e6-36c9-be76-716700ea1e81] + 0.009366999860024065*t[2741cea8-327f-4e0f-9401-b10858dc68f8,3886c7a5-bb83-41d8-9b20-41c0df9742ce] + 0.13944742151786754*Flow[9891d347-28f8-434d-896a-84a19a4c68a6,64867712-23c4-3be5-a50e-3631e74571a6]\n"
     ]
    }
   ],
   "source": [
    "olca_model_A.obj = Objective(\n",
    "    expr=sum(olca_model_A.Flow[fm, pm] * olca_model_A.EI_Pm[process[fm]] \n",
    "             for fm in olca_model_A.Fm for pm in olca_model_A.Pm) + \n",
    "    sum(olca_model_A.t[ft, pt] * olca_model_A.EI_Pt[process[ft]] \n",
    "        for ft in olca_model_A.Ft for pt in olca_model_A.Pt), sense=minimize)\n",
    "olca_model_A.obj.pprint()"
   ]
  },
  {
   "cell_type": "markdown",
   "metadata": {},
   "source": [
    "## Apply solver"
   ]
  },
  {
   "cell_type": "code",
   "execution_count": 40,
   "metadata": {},
   "outputs": [
    {
     "name": "stdout",
     "output_type": "stream",
     "text": [
      "# ==========================================================\n",
      "# = Solver Results                                         =\n",
      "# ==========================================================\n",
      "# ----------------------------------------------------------\n",
      "#   Problem Information\n",
      "# ----------------------------------------------------------\n",
      "Problem: \n",
      "- Name: unknown\n",
      "  Lower bound: 12165.1217728104\n",
      "  Upper bound: 12165.1217728104\n",
      "  Number of objectives: 1\n",
      "  Number of constraints: 12\n",
      "  Number of variables: 20\n",
      "  Number of nonzeros: 30\n",
      "  Sense: minimize\n",
      "# ----------------------------------------------------------\n",
      "#   Solver Information\n",
      "# ----------------------------------------------------------\n",
      "Solver: \n",
      "- Status: ok\n",
      "  Termination condition: optimal\n",
      "  Statistics: \n",
      "    Branch and bound: \n",
      "      Number of bounded subproblems: 0\n",
      "      Number of created subproblems: 0\n",
      "  Error rc: 0\n",
      "  Time: 0.021490812301635742\n",
      "# ----------------------------------------------------------\n",
      "#   Solution Information\n",
      "# ----------------------------------------------------------\n",
      "Solution: \n",
      "- number of solutions: 0\n",
      "  number of solutions displayed: 0\n"
     ]
    }
   ],
   "source": [
    "opt = SolverFactory(\"glpk\")\n",
    "results = opt.solve(olca_model_A)\n",
    "results.write()"
   ]
  },
  {
   "cell_type": "markdown",
   "metadata": {},
   "source": [
    "## Generate results"
   ]
  },
  {
   "cell_type": "code",
   "execution_count": 41,
   "metadata": {},
   "outputs": [
    {
     "name": "stdout",
     "output_type": "stream",
     "text": [
      "Flow : Material flow\n",
      "    Size=1, Index=Flow_index\n",
      "    Key                                                                              : Lower : Value  : Upper : Fixed : Stale : Domain\n",
      "    ('9891d347-28f8-434d-896a-84a19a4c68a6', '64867712-23c4-3be5-a50e-3631e74571a6') :     0 : 1000.0 :  None : False : False : NonNegativeReals\n",
      "t : Transport Service flow\n",
      "    Size=9, Index=t_index\n",
      "    Key                                                                              : Lower : Value            : Upper : Fixed : Stale : Domain\n",
      "    ('090f56b8-6a83-48c1-ae26-234d04771e53', '13e79207-71e6-36c9-be76-716700ea1e81') :     0 :              0.0 :  None : False : False : NonNegativeReals\n",
      "    ('090f56b8-6a83-48c1-ae26-234d04771e53', '3886c7a5-bb83-41d8-9b20-41c0df9742ce') :     0 :              0.0 :  None : False : False : NonNegativeReals\n",
      "    ('090f56b8-6a83-48c1-ae26-234d04771e53', 'b0d5d6ec-77f4-3213-b613-2391089d5f96') :     0 :              0.0 :  None : False : False : NonNegativeReals\n",
      "    ('0ace02fa-eca5-482d-a829-c18e46a52db4', '13e79207-71e6-36c9-be76-716700ea1e81') :     0 :              0.0 :  None : False : False : NonNegativeReals\n",
      "    ('0ace02fa-eca5-482d-a829-c18e46a52db4', '3886c7a5-bb83-41d8-9b20-41c0df9742ce') :     0 :              0.0 :  None : False : False : NonNegativeReals\n",
      "    ('0ace02fa-eca5-482d-a829-c18e46a52db4', 'b0d5d6ec-77f4-3213-b613-2391089d5f96') :     0 :              0.0 :  None : False : False : NonNegativeReals\n",
      "    ('2741cea8-327f-4e0f-9401-b10858dc68f8', '13e79207-71e6-36c9-be76-716700ea1e81') :     0 :              0.0 :  None : False : False : NonNegativeReals\n",
      "    ('2741cea8-327f-4e0f-9401-b10858dc68f8', '3886c7a5-bb83-41d8-9b20-41c0df9742ce') :     0 :              0.0 :  None : False : False : NonNegativeReals\n",
      "    ('2741cea8-327f-4e0f-9401-b10858dc68f8', 'b0d5d6ec-77f4-3213-b613-2391089d5f96') :     0 : 1283834.15511886 :  None : False : False : NonNegativeReals\n",
      "f : Transport flow\n",
      "    Size=9, Index=f_index\n",
      "    Key                                                                                                                                                              : Lower : Value  : Upper : Fixed : Stale : Domain\n",
      "    ('9891d347-28f8-434d-896a-84a19a4c68a6', '64867712-23c4-3be5-a50e-3631e74571a6', '090f56b8-6a83-48c1-ae26-234d04771e53', '13e79207-71e6-36c9-be76-716700ea1e81') :     0 :    0.0 :  None : False : False : NonNegativeReals\n",
      "    ('9891d347-28f8-434d-896a-84a19a4c68a6', '64867712-23c4-3be5-a50e-3631e74571a6', '090f56b8-6a83-48c1-ae26-234d04771e53', '3886c7a5-bb83-41d8-9b20-41c0df9742ce') :     0 :    0.0 :  None : False : False : NonNegativeReals\n",
      "    ('9891d347-28f8-434d-896a-84a19a4c68a6', '64867712-23c4-3be5-a50e-3631e74571a6', '090f56b8-6a83-48c1-ae26-234d04771e53', 'b0d5d6ec-77f4-3213-b613-2391089d5f96') :     0 :    0.0 :  None : False : False : NonNegativeReals\n",
      "    ('9891d347-28f8-434d-896a-84a19a4c68a6', '64867712-23c4-3be5-a50e-3631e74571a6', '0ace02fa-eca5-482d-a829-c18e46a52db4', '13e79207-71e6-36c9-be76-716700ea1e81') :     0 :    0.0 :  None : False : False : NonNegativeReals\n",
      "    ('9891d347-28f8-434d-896a-84a19a4c68a6', '64867712-23c4-3be5-a50e-3631e74571a6', '0ace02fa-eca5-482d-a829-c18e46a52db4', '3886c7a5-bb83-41d8-9b20-41c0df9742ce') :     0 :    0.0 :  None : False : False : NonNegativeReals\n",
      "    ('9891d347-28f8-434d-896a-84a19a4c68a6', '64867712-23c4-3be5-a50e-3631e74571a6', '0ace02fa-eca5-482d-a829-c18e46a52db4', 'b0d5d6ec-77f4-3213-b613-2391089d5f96') :     0 :    0.0 :  None : False : False : NonNegativeReals\n",
      "    ('9891d347-28f8-434d-896a-84a19a4c68a6', '64867712-23c4-3be5-a50e-3631e74571a6', '2741cea8-327f-4e0f-9401-b10858dc68f8', '13e79207-71e6-36c9-be76-716700ea1e81') :     0 :    0.0 :  None : False : False : NonNegativeReals\n",
      "    ('9891d347-28f8-434d-896a-84a19a4c68a6', '64867712-23c4-3be5-a50e-3631e74571a6', '2741cea8-327f-4e0f-9401-b10858dc68f8', '3886c7a5-bb83-41d8-9b20-41c0df9742ce') :     0 :    0.0 :  None : False : False : NonNegativeReals\n",
      "    ('9891d347-28f8-434d-896a-84a19a4c68a6', '64867712-23c4-3be5-a50e-3631e74571a6', '2741cea8-327f-4e0f-9401-b10858dc68f8', 'b0d5d6ec-77f4-3213-b613-2391089d5f96') :     0 : 1000.0 :  None : False : False : NonNegativeReals\n"
     ]
    }
   ],
   "source": [
    "olca_model_A.Flow.display()\n",
    "olca_model_A.t.display()\n",
    "olca_model_A.f.display()"
   ]
  },
  {
   "cell_type": "markdown",
   "metadata": {},
   "source": [
    "The following function that we used earlier allows us to see the mapping between processes and flow reference ids and their names."
   ]
  },
  {
   "cell_type": "code",
   "execution_count": 42,
   "metadata": {},
   "outputs": [
    {
     "name": "stdout",
     "output_type": "stream",
     "text": [
      "SELECT \"TBL_PROCESSES\".\"REF_ID\" \"PROCESS_REF_ID\",\"TBL_PROCESSES\".\"NAME\" \"PROCESS_NAME\",\"TBL_LOCATIONS\".\"NAME\" \"LOCATION\",\"TBL_FLOWS\".\"REF_ID\" \"FLOW_REF_ID\",\"TBL_FLOWS\".\"NAME\" \"FLOW_NAME\" FROM (SELECT \"F_OWNER\",\"F_FLOW\",\"F_UNIT\",\"RESULTING_AMOUNT_VALUE\" FROM \"TBL_EXCHANGES\" WHERE \"F_OWNER\" IN (5409534,10990570,25967156,33642886)) \"e\" LEFT JOIN \"TBL_FLOWS\" ON \"TBL_FLOWS\".\"ID\"=\"e\".\"F_FLOW\" LEFT JOIN \"TBL_PROCESSES\" ON \"TBL_PROCESSES\".\"ID\"=\"e\".\"F_OWNER\" LEFT JOIN \"TBL_LOCATIONS\" ON CAST(\"TBL_PROCESSES\".\"F_LOCATION\" AS INT)=\"TBL_LOCATIONS\".\"ID\" WHERE \"TBL_FLOWS\".\"FlOW_TYPE\"='PRODUCT_FLOW'\n"
     ]
    },
    {
     "data": {
      "text/html": [
       "<div>\n",
       "<style scoped>\n",
       "    .dataframe tbody tr th:only-of-type {\n",
       "        vertical-align: middle;\n",
       "    }\n",
       "\n",
       "    .dataframe tbody tr th {\n",
       "        vertical-align: top;\n",
       "    }\n",
       "\n",
       "    .dataframe thead th {\n",
       "        text-align: right;\n",
       "    }\n",
       "</style>\n",
       "<table border=\"1\" class=\"dataframe\">\n",
       "  <thead>\n",
       "    <tr style=\"text-align: right;\">\n",
       "      <th></th>\n",
       "      <th>PROCESS_REF_ID</th>\n",
       "      <th>PROCESS_NAME</th>\n",
       "      <th>LOCATION</th>\n",
       "      <th>FLOW_REF_ID</th>\n",
       "      <th>FLOW_NAME</th>\n",
       "    </tr>\n",
       "  </thead>\n",
       "  <tbody>\n",
       "    <tr>\n",
       "      <th>0</th>\n",
       "      <td>64867712-23c4-3be5-a50e-3631e74571a6</td>\n",
       "      <td>lemon production | lemon | APOS, S</td>\n",
       "      <td>Spain</td>\n",
       "      <td>9891d347-28f8-434d-896a-84a19a4c68a6</td>\n",
       "      <td>lemon</td>\n",
       "    </tr>\n",
       "    <tr>\n",
       "      <th>1</th>\n",
       "      <td>b0d5d6ec-77f4-3213-b613-2391089d5f96</td>\n",
       "      <td>transport, freight train, diesel | transport, ...</td>\n",
       "      <td>Europe without Switzerland</td>\n",
       "      <td>0ace02fa-eca5-482d-a829-c18e46a52db4</td>\n",
       "      <td>transport, freight train</td>\n",
       "    </tr>\n",
       "    <tr>\n",
       "      <th>2</th>\n",
       "      <td>3886c7a5-bb83-41d8-9b20-41c0df9742ce</td>\n",
       "      <td>transport, freight, sea, container ship | tran...</td>\n",
       "      <td>Global</td>\n",
       "      <td>2741cea8-327f-4e0f-9401-b10858dc68f8</td>\n",
       "      <td>transport, freight, sea, container ship</td>\n",
       "    </tr>\n",
       "    <tr>\n",
       "      <th>3</th>\n",
       "      <td>13e79207-71e6-36c9-be76-716700ea1e81</td>\n",
       "      <td>transport, freight, light commercial vehicle |...</td>\n",
       "      <td>Europe without Switzerland</td>\n",
       "      <td>090f56b8-6a83-48c1-ae26-234d04771e53</td>\n",
       "      <td>transport, freight, light commercial vehicle</td>\n",
       "    </tr>\n",
       "  </tbody>\n",
       "</table>\n",
       "</div>"
      ],
      "text/plain": [
       "                         PROCESS_REF_ID  \\\n",
       "0  64867712-23c4-3be5-a50e-3631e74571a6   \n",
       "1  b0d5d6ec-77f4-3213-b613-2391089d5f96   \n",
       "2  3886c7a5-bb83-41d8-9b20-41c0df9742ce   \n",
       "3  13e79207-71e6-36c9-be76-716700ea1e81   \n",
       "\n",
       "                                        PROCESS_NAME  \\\n",
       "0                 lemon production | lemon | APOS, S   \n",
       "1  transport, freight train, diesel | transport, ...   \n",
       "2  transport, freight, sea, container ship | tran...   \n",
       "3  transport, freight, light commercial vehicle |...   \n",
       "\n",
       "                     LOCATION                           FLOW_REF_ID  \\\n",
       "0                       Spain  9891d347-28f8-434d-896a-84a19a4c68a6   \n",
       "1  Europe without Switzerland  0ace02fa-eca5-482d-a829-c18e46a52db4   \n",
       "2                      Global  2741cea8-327f-4e0f-9401-b10858dc68f8   \n",
       "3  Europe without Switzerland  090f56b8-6a83-48c1-ae26-234d04771e53   \n",
       "\n",
       "                                      FLOW_NAME  \n",
       "0                                         lemon  \n",
       "1                      transport, freight train  \n",
       "2       transport, freight, sea, container ship  \n",
       "3  transport, freight, light commercial vehicle  "
      ]
     },
     "execution_count": 42,
     "metadata": {},
     "output_type": "execute_result"
    }
   ],
   "source": [
    " dv.get_process_product_flow(dbconn, ref_ids=material_ref_ids + transport_ref_ids)"
   ]
  },
  {
   "cell_type": "markdown",
   "metadata": {},
   "source": [
    "# Mola specification\n",
    "\n",
    "The `mola` python package has an abstract pyomo model built into its `GeneralSpecification` class. In this section, we use the abstract model to solve the optimisation problem again."
   ]
  },
  {
   "cell_type": "markdown",
   "metadata": {},
   "source": [
    "First we create a Specification object."
   ]
  },
  {
   "cell_type": "code",
   "execution_count": 43,
   "metadata": {},
   "outputs": [],
   "source": [
    "import mola.specification5 as ms\n",
    "from importlib import reload\n",
    "spec = ms.GeneralSpecification()"
   ]
  },
  {
   "cell_type": "markdown",
   "metadata": {},
   "source": [
    "## Configuration"
   ]
  },
  {
   "cell_type": "markdown",
   "metadata": {},
   "source": [
    "We create a dictionary of default sets using the specification."
   ]
  },
  {
   "cell_type": "code",
   "execution_count": 44,
   "metadata": {},
   "outputs": [],
   "source": [
    "user_sets = spec.get_default_sets()"
   ]
  },
  {
   "cell_type": "markdown",
   "metadata": {},
   "source": [
    "We build the sets using the previous data queries in this notebook."
   ]
  },
  {
   "cell_type": "code",
   "execution_count": 45,
   "metadata": {},
   "outputs": [
    {
     "data": {
      "text/plain": [
       "{'F_m': ['9891d347-28f8-434d-896a-84a19a4c68a6'],\n",
       " 'F_s': [],\n",
       " 'F_t': ['0ace02fa-eca5-482d-a829-c18e46a52db4',\n",
       "  '090f56b8-6a83-48c1-ae26-234d04771e53',\n",
       "  '2741cea8-327f-4e0f-9401-b10858dc68f8'],\n",
       " 'D': ['d1'],\n",
       " 'T': ['t1'],\n",
       " 'K': ['k1'],\n",
       " 'P_m': ['64867712-23c4-3be5-a50e-3631e74571a6'],\n",
       " 'P_t': ['b0d5d6ec-77f4-3213-b613-2391089d5f96',\n",
       "  '13e79207-71e6-36c9-be76-716700ea1e81',\n",
       "  '3886c7a5-bb83-41d8-9b20-41c0df9742ce'],\n",
       " 'P_s': [],\n",
       " 'KPI': ['42b1e910-3bd2-3741-85ce-a3966798440b'],\n",
       " 'OBJ': ['environment', 'cost'],\n",
       " 'F': ['9891d347-28f8-434d-896a-84a19a4c68a6',\n",
       "  '0ace02fa-eca5-482d-a829-c18e46a52db4',\n",
       "  '090f56b8-6a83-48c1-ae26-234d04771e53',\n",
       "  '2741cea8-327f-4e0f-9401-b10858dc68f8'],\n",
       " 'P': ['64867712-23c4-3be5-a50e-3631e74571a6',\n",
       "  'b0d5d6ec-77f4-3213-b613-2391089d5f96',\n",
       "  '13e79207-71e6-36c9-be76-716700ea1e81',\n",
       "  '3886c7a5-bb83-41d8-9b20-41c0df9742ce']}"
      ]
     },
     "execution_count": 45,
     "metadata": {},
     "output_type": "execute_result"
    }
   ],
   "source": [
    "user_sets['F_m'] = list(olca_model_A.Fm)\n",
    "user_sets['P_m'] = list(olca_model_A.Pm)\n",
    "user_sets['F_t'] = list(olca_model_A.Ft)\n",
    "user_sets['P_t'] = list(olca_model_A.Pt)\n",
    "user_sets['KPI'] = list(olca_model_A.kpi)\n",
    "user_sets['F'] = list(olca_model_A.Fm) + list(olca_model_A.Ft)\n",
    "user_sets['P'] = list(olca_model_A.Pm) + list(olca_model_A.Pt)\n",
    "user_sets"
   ]
  },
  {
   "cell_type": "markdown",
   "metadata": {},
   "source": [
    "The sets are saved to the file system because a DataPortal needs data in json files."
   ]
  },
  {
   "cell_type": "code",
   "execution_count": 46,
   "metadata": {},
   "outputs": [],
   "source": [
    "lemon_set_file_name = 'lemon_set_data.json'\n",
    "import json\n",
    "with open(lemon_set_file_name, 'w') as s:\n",
    "    json.dump(user_sets, s, indent=4)"
   ]
  },
  {
   "cell_type": "markdown",
   "metadata": {},
   "source": [
    "Then we do the same with the model parameters previously identified."
   ]
  },
  {
   "cell_type": "code",
   "execution_count": 47,
   "metadata": {},
   "outputs": [
    {
     "data": {
      "text/plain": [
       "{'C': [{'index': ['9891d347-28f8-434d-896a-84a19a4c68a6', 'k1', 'd1', 't1'],\n",
       "   'value': 1}],\n",
       " 'd': [{'index': ['64867712-23c4-3be5-a50e-3631e74571a6',\n",
       "    '9891d347-28f8-434d-896a-84a19a4c68a6',\n",
       "    'k1',\n",
       "    't1'],\n",
       "   'value': 0}],\n",
       " 'X': [{'index': ['k1', 't1'], 'value': inf}],\n",
       " 'Y': [{'index': ['k1', 't1'], 'value': inf}],\n",
       " 'Demand': [{'index': ['d1', 'k1', 't1'], 'value': 0}],\n",
       " 'Total_Demand': [{'index': ['d1', 'k1'], 'value': 0}],\n",
       " 'J': [{'index': ['9891d347-28f8-434d-896a-84a19a4c68a6',\n",
       "    '64867712-23c4-3be5-a50e-3631e74571a6',\n",
       "    '0ace02fa-eca5-482d-a829-c18e46a52db4',\n",
       "    'b0d5d6ec-77f4-3213-b613-2391089d5f96'],\n",
       "   'value': 0},\n",
       "  {'index': ['9891d347-28f8-434d-896a-84a19a4c68a6',\n",
       "    '64867712-23c4-3be5-a50e-3631e74571a6',\n",
       "    '0ace02fa-eca5-482d-a829-c18e46a52db4',\n",
       "    '13e79207-71e6-36c9-be76-716700ea1e81'],\n",
       "   'value': 0},\n",
       "  {'index': ['9891d347-28f8-434d-896a-84a19a4c68a6',\n",
       "    '64867712-23c4-3be5-a50e-3631e74571a6',\n",
       "    '0ace02fa-eca5-482d-a829-c18e46a52db4',\n",
       "    '3886c7a5-bb83-41d8-9b20-41c0df9742ce'],\n",
       "   'value': 0},\n",
       "  {'index': ['9891d347-28f8-434d-896a-84a19a4c68a6',\n",
       "    '64867712-23c4-3be5-a50e-3631e74571a6',\n",
       "    '090f56b8-6a83-48c1-ae26-234d04771e53',\n",
       "    'b0d5d6ec-77f4-3213-b613-2391089d5f96'],\n",
       "   'value': 0},\n",
       "  {'index': ['9891d347-28f8-434d-896a-84a19a4c68a6',\n",
       "    '64867712-23c4-3be5-a50e-3631e74571a6',\n",
       "    '090f56b8-6a83-48c1-ae26-234d04771e53',\n",
       "    '13e79207-71e6-36c9-be76-716700ea1e81'],\n",
       "   'value': 0},\n",
       "  {'index': ['9891d347-28f8-434d-896a-84a19a4c68a6',\n",
       "    '64867712-23c4-3be5-a50e-3631e74571a6',\n",
       "    '090f56b8-6a83-48c1-ae26-234d04771e53',\n",
       "    '3886c7a5-bb83-41d8-9b20-41c0df9742ce'],\n",
       "   'value': 0},\n",
       "  {'index': ['9891d347-28f8-434d-896a-84a19a4c68a6',\n",
       "    '64867712-23c4-3be5-a50e-3631e74571a6',\n",
       "    '2741cea8-327f-4e0f-9401-b10858dc68f8',\n",
       "    'b0d5d6ec-77f4-3213-b613-2391089d5f96'],\n",
       "   'value': 0},\n",
       "  {'index': ['9891d347-28f8-434d-896a-84a19a4c68a6',\n",
       "    '64867712-23c4-3be5-a50e-3631e74571a6',\n",
       "    '2741cea8-327f-4e0f-9401-b10858dc68f8',\n",
       "    '13e79207-71e6-36c9-be76-716700ea1e81'],\n",
       "   'value': 0},\n",
       "  {'index': ['9891d347-28f8-434d-896a-84a19a4c68a6',\n",
       "    '64867712-23c4-3be5-a50e-3631e74571a6',\n",
       "    '2741cea8-327f-4e0f-9401-b10858dc68f8',\n",
       "    '3886c7a5-bb83-41d8-9b20-41c0df9742ce'],\n",
       "   'value': 0}],\n",
       " 'L': [],\n",
       " 'w': [{'index': ['environment'], 'value': 0},\n",
       "  {'index': ['cost'], 'value': 0}]}"
      ]
     },
     "execution_count": 47,
     "metadata": {},
     "output_type": "execute_result"
    }
   ],
   "source": [
    "user_parameters = spec.get_default_parameters(user_sets)\n",
    "user_parameters"
   ]
  },
  {
   "cell_type": "markdown",
   "metadata": {},
   "source": [
    "For binary parameter $J$, we need to ensure that the transport flow is the product flow of the relevant transport process. Otherwise we will optimise over possibilities that do not exist in the openLCA database."
   ]
  },
  {
   "cell_type": "code",
   "execution_count": 48,
   "metadata": {},
   "outputs": [
    {
     "name": "stdout",
     "output_type": "stream",
     "text": [
      "SELECT \"TBL_PROCESSES\".\"REF_ID\" \"PROCESS_REF_ID\",\"TBL_PROCESSES\".\"NAME\" \"PROCESS_NAME\",\"TBL_LOCATIONS\".\"NAME\" \"LOCATION\",\"TBL_FLOWS\".\"REF_ID\" \"FLOW_REF_ID\",\"TBL_FLOWS\".\"NAME\" \"FLOW_NAME\" FROM (SELECT \"F_OWNER\",\"F_FLOW\",\"F_UNIT\",\"RESULTING_AMOUNT_VALUE\" FROM \"TBL_EXCHANGES\" WHERE \"F_OWNER\" IN (10990570,25967156,33642886)) \"e\" LEFT JOIN \"TBL_FLOWS\" ON \"TBL_FLOWS\".\"ID\"=\"e\".\"F_FLOW\" LEFT JOIN \"TBL_PROCESSES\" ON \"TBL_PROCESSES\".\"ID\"=\"e\".\"F_OWNER\" LEFT JOIN \"TBL_LOCATIONS\" ON CAST(\"TBL_PROCESSES\".\"F_LOCATION\" AS INT)=\"TBL_LOCATIONS\".\"ID\" WHERE \"TBL_FLOWS\".\"FlOW_TYPE\"='PRODUCT_FLOW'\n"
     ]
    },
    {
     "data": {
      "text/plain": [
       "{'C': [{'index': ['9891d347-28f8-434d-896a-84a19a4c68a6', 'k1', 'd1', 't1'],\n",
       "   'value': 1}],\n",
       " 'd': [{'index': ['64867712-23c4-3be5-a50e-3631e74571a6',\n",
       "    '9891d347-28f8-434d-896a-84a19a4c68a6',\n",
       "    'k1',\n",
       "    't1'],\n",
       "   'value': 0}],\n",
       " 'X': [{'index': ['k1', 't1'], 'value': -0.1278}],\n",
       " 'Y': [{'index': ['k1', 't1'], 'value': 51.5074}],\n",
       " 'Demand': [{'index': ['d1', 'k1', 't1'], 'value': 0}],\n",
       " 'Total_Demand': [{'index': ['d1', 'k1'], 'value': 1000}],\n",
       " 'J': [{'index': ['9891d347-28f8-434d-896a-84a19a4c68a6',\n",
       "    '64867712-23c4-3be5-a50e-3631e74571a6',\n",
       "    '0ace02fa-eca5-482d-a829-c18e46a52db4',\n",
       "    'b0d5d6ec-77f4-3213-b613-2391089d5f96'],\n",
       "   'value': 1},\n",
       "  {'index': ['9891d347-28f8-434d-896a-84a19a4c68a6',\n",
       "    '64867712-23c4-3be5-a50e-3631e74571a6',\n",
       "    '0ace02fa-eca5-482d-a829-c18e46a52db4',\n",
       "    '13e79207-71e6-36c9-be76-716700ea1e81'],\n",
       "   'value': 0},\n",
       "  {'index': ['9891d347-28f8-434d-896a-84a19a4c68a6',\n",
       "    '64867712-23c4-3be5-a50e-3631e74571a6',\n",
       "    '0ace02fa-eca5-482d-a829-c18e46a52db4',\n",
       "    '3886c7a5-bb83-41d8-9b20-41c0df9742ce'],\n",
       "   'value': 0},\n",
       "  {'index': ['9891d347-28f8-434d-896a-84a19a4c68a6',\n",
       "    '64867712-23c4-3be5-a50e-3631e74571a6',\n",
       "    '090f56b8-6a83-48c1-ae26-234d04771e53',\n",
       "    'b0d5d6ec-77f4-3213-b613-2391089d5f96'],\n",
       "   'value': 0},\n",
       "  {'index': ['9891d347-28f8-434d-896a-84a19a4c68a6',\n",
       "    '64867712-23c4-3be5-a50e-3631e74571a6',\n",
       "    '090f56b8-6a83-48c1-ae26-234d04771e53',\n",
       "    '13e79207-71e6-36c9-be76-716700ea1e81'],\n",
       "   'value': 1},\n",
       "  {'index': ['9891d347-28f8-434d-896a-84a19a4c68a6',\n",
       "    '64867712-23c4-3be5-a50e-3631e74571a6',\n",
       "    '090f56b8-6a83-48c1-ae26-234d04771e53',\n",
       "    '3886c7a5-bb83-41d8-9b20-41c0df9742ce'],\n",
       "   'value': 0},\n",
       "  {'index': ['9891d347-28f8-434d-896a-84a19a4c68a6',\n",
       "    '64867712-23c4-3be5-a50e-3631e74571a6',\n",
       "    '2741cea8-327f-4e0f-9401-b10858dc68f8',\n",
       "    'b0d5d6ec-77f4-3213-b613-2391089d5f96'],\n",
       "   'value': 0},\n",
       "  {'index': ['9891d347-28f8-434d-896a-84a19a4c68a6',\n",
       "    '64867712-23c4-3be5-a50e-3631e74571a6',\n",
       "    '2741cea8-327f-4e0f-9401-b10858dc68f8',\n",
       "    '13e79207-71e6-36c9-be76-716700ea1e81'],\n",
       "   'value': 0},\n",
       "  {'index': ['9891d347-28f8-434d-896a-84a19a4c68a6',\n",
       "    '64867712-23c4-3be5-a50e-3631e74571a6',\n",
       "    '2741cea8-327f-4e0f-9401-b10858dc68f8',\n",
       "    '3886c7a5-bb83-41d8-9b20-41c0df9742ce'],\n",
       "   'value': 1}],\n",
       " 'L': [],\n",
       " 'w': [{'index': ['environment'], 'value': 1},\n",
       "  {'index': ['cost'], 'value': 0}]}"
      ]
     },
     "execution_count": 48,
     "metadata": {},
     "output_type": "execute_result"
    }
   ],
   "source": [
    "user_parameters['C'][0]['value'] = [value(olca_model_A.C[i]) for i in olca_model_A.C][0]\n",
    "user_parameters['Total_Demand'][0]['value'] = value(olca_model_A.D_total)\n",
    "user_parameters['w'][0]['value'] = 1\n",
    "link_df = dv.get_process_product_flow(dbconn, ref_ids=transport_ref_ids)[['PROCESS_REF_ID', 'FLOW_REF_ID']]\n",
    "for j in user_parameters['J']:\n",
    "    fm, pm, ft, pt = j['index']\n",
    "    for index, row in link_df.iterrows():\n",
    "        if ft == row['FLOW_REF_ID'] and pt == row['PROCESS_REF_ID']:\n",
    "            j['value'] = 1\n",
    "user_parameters['X'][0]['value'] = uk_longitude\n",
    "user_parameters['Y'][0]['value'] = uk_latitude\n",
    "user_parameters"
   ]
  },
  {
   "cell_type": "code",
   "execution_count": 49,
   "metadata": {},
   "outputs": [],
   "source": [
    "lemon_parameter_file_name = 'lemon_parameter_data.json'\n",
    "import json\n",
    "with open(lemon_parameter_file_name, 'w') as p:\n",
    "    json.dump(user_parameters, p, indent=4)"
   ]
  },
  {
   "cell_type": "markdown",
   "metadata": {},
   "source": [
    "## Populate specification\n",
    "\n",
    "We populate the specification and create a concrete model using the json files containing the sets and parameters."
   ]
  },
  {
   "cell_type": "markdown",
   "metadata": {},
   "source": [
    "There is a flag in the Specification object to indicate that the distance parameter $d_{f_m, p_m}$ should be set from openLCA location data rather than specified by the user."
   ]
  },
  {
   "cell_type": "code",
   "execution_count": 50,
   "metadata": {},
   "outputs": [
    {
     "name": "stdout",
     "output_type": "stream",
     "text": [
      "WARNING: DEPRECATED: Providing construction data to SetOperator objects is\n",
      "    deprecated.  This data is ignored and in a future version will not be\n",
      "    allowed  (deprecated in 5.7) (called from\n",
      "    /home/paul/anaconda3/envs/LCA/lib/python3.7/site-\n",
      "    packages/pyomo/core/base/set.py:2969)\n",
      "WARNING: DEPRECATED: Providing construction data to SetOperator objects is\n",
      "    deprecated.  This data is ignored and in a future version will not be\n",
      "    allowed  (deprecated in 5.7) (called from\n",
      "    /home/paul/anaconda3/envs/LCA/lib/python3.7/site-\n",
      "    packages/pyomo/core/base/set.py:2969)\n"
     ]
    },
    {
     "data": {
      "text/plain": [
       "{'distance_calculated': True, 'test_setting': False}"
      ]
     },
     "execution_count": 50,
     "metadata": {},
     "output_type": "execute_result"
    }
   ],
   "source": [
    "spec.settings['distance_calculated'] = True\n",
    "concrete_model = spec.populate(['lemon_set_data.json', 'lemon_parameter_data.json'])\n",
    "spec.settings"
   ]
  },
  {
   "cell_type": "markdown",
   "metadata": {},
   "source": [
    "The longitude and latitude data of the production process has been populated using openLCA data."
   ]
  },
  {
   "cell_type": "code",
   "execution_count": 51,
   "metadata": {},
   "outputs": [
    {
     "name": "stdout",
     "output_type": "stream",
     "text": [
      "XI : Longitude\n",
      "    Size=1, Index=XI_index, Domain=Any, Default=None, Mutable=True\n",
      "    Key                                                                              : Value\n",
      "    ('64867712-23c4-3be5-a50e-3631e74571a6', '9891d347-28f8-434d-896a-84a19a4c68a6') : -3.64\n",
      "YI : Latitude\n",
      "    Size=1, Index=YI_index, Domain=Any, Default=None, Mutable=True\n",
      "    Key                                                                              : Value\n",
      "    ('64867712-23c4-3be5-a50e-3631e74571a6', '9891d347-28f8-434d-896a-84a19a4c68a6') : 40.22\n"
     ]
    }
   ],
   "source": [
    "concrete_model.XI.pprint()\n",
    "concrete_model.YI.pprint()"
   ]
  },
  {
   "cell_type": "markdown",
   "metadata": {},
   "source": [
    "We check that the distance parameter has been correctly determined from openLCA data."
   ]
  },
  {
   "cell_type": "code",
   "execution_count": 52,
   "metadata": {},
   "outputs": [
    {
     "name": "stdout",
     "output_type": "stream",
     "text": [
      "d : Distance\n",
      "    Size=1, Index=d_index, Domain=Reals, Default=None, Mutable=True\n",
      "    Key                                                                                          : Value\n",
      "    ('64867712-23c4-3be5-a50e-3631e74571a6', '9891d347-28f8-434d-896a-84a19a4c68a6', 'k1', 't1') :     0\n"
     ]
    }
   ],
   "source": [
    "concrete_model.d.pprint()"
   ]
  },
  {
   "cell_type": "code",
   "execution_count": 53,
   "metadata": {},
   "outputs": [
    {
     "name": "stdout",
     "output_type": "stream",
     "text": [
      "dd : Calculated distance\n",
      "    Size=1, Index=dd_index, Domain=Any, Default=None, Mutable=True\n",
      "    Key                                                                                          : Value\n",
      "    ('64867712-23c4-3be5-a50e-3631e74571a6', '9891d347-28f8-434d-896a-84a19a4c68a6', 'k1', 't1') : 1283.834155118865\n"
     ]
    }
   ],
   "source": [
    "concrete_model.dd.pprint()"
   ]
  },
  {
   "cell_type": "code",
   "execution_count": 54,
   "metadata": {},
   "outputs": [
    {
     "name": "stdout",
     "output_type": "stream",
     "text": [
      "Total_Demand : Total demand\n",
      "    Size=1, Index=Total_Demand_index, Domain=Reals, Default=None, Mutable=True\n",
      "    Key          : Value\n",
      "    ('d1', 'k1') :  1000\n"
     ]
    }
   ],
   "source": [
    "concrete_model.Total_Demand.pprint()"
   ]
  },
  {
   "cell_type": "markdown",
   "metadata": {},
   "source": [
    "## Solution\n",
    "\n",
    "We only set the environment objective function as active."
   ]
  },
  {
   "cell_type": "code",
   "execution_count": 55,
   "metadata": {},
   "outputs": [
    {
     "name": "stdout",
     "output_type": "stream",
     "text": [
      "# ==========================================================\n",
      "# = Solver Results                                         =\n",
      "# ==========================================================\n",
      "# ----------------------------------------------------------\n",
      "#   Problem Information\n",
      "# ----------------------------------------------------------\n",
      "Problem: \n",
      "- Name: unknown\n",
      "  Lower bound: 12165.1217728104\n",
      "  Upper bound: 12165.1217728104\n",
      "  Number of objectives: 1\n",
      "  Number of constraints: 14\n",
      "  Number of variables: 15\n",
      "  Number of nonzeros: 20\n",
      "  Sense: minimize\n",
      "# ----------------------------------------------------------\n",
      "#   Solver Information\n",
      "# ----------------------------------------------------------\n",
      "Solver: \n",
      "- Status: ok\n",
      "  Termination condition: optimal\n",
      "  Statistics: \n",
      "    Branch and bound: \n",
      "      Number of bounded subproblems: 1\n",
      "      Number of created subproblems: 1\n",
      "  Error rc: 0\n",
      "  Time: 0.0224606990814209\n",
      "# ----------------------------------------------------------\n",
      "#   Solution Information\n",
      "# ----------------------------------------------------------\n",
      "Solution: \n",
      "- number of solutions: 0\n",
      "  number of solutions displayed: 0\n"
     ]
    }
   ],
   "source": [
    "concrete_model.obj1.activate()\n",
    "concrete_model.obj.deactivate()\n",
    "concrete_model.obj2.deactivate()\n",
    "results = opt.solve(concrete_model)\n",
    "results.write()"
   ]
  },
  {
   "cell_type": "code",
   "execution_count": 56,
   "metadata": {},
   "outputs": [
    {
     "name": "stdout",
     "output_type": "stream",
     "text": [
      "Flow : Material flow\n",
      "    Size=1, Index=Flow_index\n",
      "    Key                                                                                          : Lower : Value  : Upper : Fixed : Stale : Domain\n",
      "    ('9891d347-28f8-434d-896a-84a19a4c68a6', '64867712-23c4-3be5-a50e-3631e74571a6', 'k1', 't1') :     0 : 1000.0 :  None : False : False : NonNegativeReals\n"
     ]
    }
   ],
   "source": [
    "concrete_model.Flow.pprint()"
   ]
  },
  {
   "cell_type": "code",
   "execution_count": 57,
   "metadata": {},
   "outputs": [
    {
     "name": "stdout",
     "output_type": "stream",
     "text": [
      "Specific_Transport_Flow : Specific Transport Flow\n",
      "    Size=9, Index=Specific_Transport_Flow_index\n",
      "    Key                                                                                          : Lower : Value            : Upper : Fixed : Stale : Domain\n",
      "    ('090f56b8-6a83-48c1-ae26-234d04771e53', '13e79207-71e6-36c9-be76-716700ea1e81', 'k1', 't1') :     0 :              0.0 :  None : False : False : NonNegativeReals\n",
      "    ('090f56b8-6a83-48c1-ae26-234d04771e53', '3886c7a5-bb83-41d8-9b20-41c0df9742ce', 'k1', 't1') :     0 :              0.0 :  None : False : False : NonNegativeReals\n",
      "    ('090f56b8-6a83-48c1-ae26-234d04771e53', 'b0d5d6ec-77f4-3213-b613-2391089d5f96', 'k1', 't1') :     0 :              0.0 :  None : False : False : NonNegativeReals\n",
      "    ('0ace02fa-eca5-482d-a829-c18e46a52db4', '13e79207-71e6-36c9-be76-716700ea1e81', 'k1', 't1') :     0 :              0.0 :  None : False : False : NonNegativeReals\n",
      "    ('0ace02fa-eca5-482d-a829-c18e46a52db4', '3886c7a5-bb83-41d8-9b20-41c0df9742ce', 'k1', 't1') :     0 :              0.0 :  None : False : False : NonNegativeReals\n",
      "    ('0ace02fa-eca5-482d-a829-c18e46a52db4', 'b0d5d6ec-77f4-3213-b613-2391089d5f96', 'k1', 't1') :     0 :              0.0 :  None : False : False : NonNegativeReals\n",
      "    ('2741cea8-327f-4e0f-9401-b10858dc68f8', '13e79207-71e6-36c9-be76-716700ea1e81', 'k1', 't1') :     0 :              0.0 :  None : False : False : NonNegativeReals\n",
      "    ('2741cea8-327f-4e0f-9401-b10858dc68f8', '3886c7a5-bb83-41d8-9b20-41c0df9742ce', 'k1', 't1') :     0 : 1283834.15511886 :  None : False : False : NonNegativeReals\n",
      "    ('2741cea8-327f-4e0f-9401-b10858dc68f8', 'b0d5d6ec-77f4-3213-b613-2391089d5f96', 'k1', 't1') :     0 :              0.0 :  None : False : False : NonNegativeReals\n"
     ]
    }
   ],
   "source": [
    "concrete_model.Specific_Transport_Flow.pprint()"
   ]
  },
  {
   "cell_type": "code",
   "execution_count": 58,
   "metadata": {},
   "outputs": [
    {
     "name": "stdout",
     "output_type": "stream",
     "text": [
      "Specific_Material_Transport_Flow : Specific Material Transport Flow\n",
      "    Size=9, Index=Specific_Material_Transport_Flow_index\n",
      "    Key                                                                                                                                                                          : Lower : Value  : Upper : Fixed : Stale : Domain\n",
      "    ('9891d347-28f8-434d-896a-84a19a4c68a6', '64867712-23c4-3be5-a50e-3631e74571a6', '090f56b8-6a83-48c1-ae26-234d04771e53', '13e79207-71e6-36c9-be76-716700ea1e81', 'k1', 't1') :     0 :    0.0 :  None : False : False : NonNegativeReals\n",
      "    ('9891d347-28f8-434d-896a-84a19a4c68a6', '64867712-23c4-3be5-a50e-3631e74571a6', '090f56b8-6a83-48c1-ae26-234d04771e53', '3886c7a5-bb83-41d8-9b20-41c0df9742ce', 'k1', 't1') :     0 :   None :  None : False :  True : NonNegativeReals\n",
      "    ('9891d347-28f8-434d-896a-84a19a4c68a6', '64867712-23c4-3be5-a50e-3631e74571a6', '090f56b8-6a83-48c1-ae26-234d04771e53', 'b0d5d6ec-77f4-3213-b613-2391089d5f96', 'k1', 't1') :     0 :   None :  None : False :  True : NonNegativeReals\n",
      "    ('9891d347-28f8-434d-896a-84a19a4c68a6', '64867712-23c4-3be5-a50e-3631e74571a6', '0ace02fa-eca5-482d-a829-c18e46a52db4', '13e79207-71e6-36c9-be76-716700ea1e81', 'k1', 't1') :     0 :   None :  None : False :  True : NonNegativeReals\n",
      "    ('9891d347-28f8-434d-896a-84a19a4c68a6', '64867712-23c4-3be5-a50e-3631e74571a6', '0ace02fa-eca5-482d-a829-c18e46a52db4', '3886c7a5-bb83-41d8-9b20-41c0df9742ce', 'k1', 't1') :     0 :   None :  None : False :  True : NonNegativeReals\n",
      "    ('9891d347-28f8-434d-896a-84a19a4c68a6', '64867712-23c4-3be5-a50e-3631e74571a6', '0ace02fa-eca5-482d-a829-c18e46a52db4', 'b0d5d6ec-77f4-3213-b613-2391089d5f96', 'k1', 't1') :     0 :    0.0 :  None : False : False : NonNegativeReals\n",
      "    ('9891d347-28f8-434d-896a-84a19a4c68a6', '64867712-23c4-3be5-a50e-3631e74571a6', '2741cea8-327f-4e0f-9401-b10858dc68f8', '13e79207-71e6-36c9-be76-716700ea1e81', 'k1', 't1') :     0 :   None :  None : False :  True : NonNegativeReals\n",
      "    ('9891d347-28f8-434d-896a-84a19a4c68a6', '64867712-23c4-3be5-a50e-3631e74571a6', '2741cea8-327f-4e0f-9401-b10858dc68f8', '3886c7a5-bb83-41d8-9b20-41c0df9742ce', 'k1', 't1') :     0 : 1000.0 :  None : False : False : NonNegativeReals\n",
      "    ('9891d347-28f8-434d-896a-84a19a4c68a6', '64867712-23c4-3be5-a50e-3631e74571a6', '2741cea8-327f-4e0f-9401-b10858dc68f8', 'b0d5d6ec-77f4-3213-b613-2391089d5f96', 'k1', 't1') :     0 :   None :  None : False :  True : NonNegativeReals\n"
     ]
    }
   ],
   "source": [
    "concrete_model.Specific_Material_Transport_Flow.pprint()"
   ]
  }
 ],
 "metadata": {
  "kernelspec": {
   "display_name": "Python 3",
   "language": "python",
   "name": "python3"
  },
  "language_info": {
   "codemirror_mode": {
    "name": "ipython",
    "version": 3
   },
   "file_extension": ".py",
   "mimetype": "text/x-python",
   "name": "python",
   "nbconvert_exporter": "python",
   "pygments_lexer": "ipython3",
   "version": "3.7.9"
  },
  "toc": {
   "base_numbering": 1,
   "nav_menu": {},
   "number_sections": true,
   "sideBar": true,
   "skip_h1_title": false,
   "title_cell": "Table of Contents",
   "title_sidebar": "Contents",
   "toc_cell": false,
   "toc_position": {
    "height": "calc(100% - 180px)",
    "left": "10px",
    "top": "150px",
    "width": "284.444px"
   },
   "toc_section_display": true,
   "toc_window_display": true
  },
  "varInspector": {
   "cols": {
    "lenName": 16,
    "lenType": 16,
    "lenVar": 40
   },
   "kernels_config": {
    "python": {
     "delete_cmd_postfix": "",
     "delete_cmd_prefix": "del ",
     "library": "var_list.py",
     "varRefreshCmd": "print(var_dic_list())"
    },
    "r": {
     "delete_cmd_postfix": ") ",
     "delete_cmd_prefix": "rm(",
     "library": "var_list.r",
     "varRefreshCmd": "cat(var_dic_list()) "
    }
   },
   "position": {
    "height": "350.185px",
    "left": "1052.25px",
    "right": "20px",
    "top": "120px",
    "width": "349.988px"
   },
   "types_to_exclude": [
    "module",
    "function",
    "builtin_function_or_method",
    "instance",
    "_Feature"
   ],
   "window_display": false
  }
 },
 "nbformat": 4,
 "nbformat_minor": 4
}
