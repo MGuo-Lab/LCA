{
 "cells": [
  {
   "cell_type": "markdown",
   "metadata": {},
   "source": [
    "# Juice Toy Problem C\n",
    "\n",
    "## Problem Statement\n",
    " \n",
    "A citrus fruit producer wishes to choose the optimal blend of fruit juice over a 2 day period that minimises cost. The fruit supply options are lemons from Mexico, mandarins from South Africa and oranges from Brazil. The environmental impact of and the cost of building each fruit production plant and the transport of fruit is the same for each fruit.\n",
    "\n",
    "Over the time horizon of 2 days, the producer is required to deliver 2 kg of blended juice. The cost of producing 1kg of fruit varies  and is shown in the table below.\n",
    "\n",
    "| Fruit | Day 1 | Day 2 |\n",
    "| --- | --- | --- |\n",
    "| Lemon | £1 | £4 |\n",
    "| Orange | £2 | £3 |\n",
    "| Mandarin | £3 | £2 |\n",
    "\n",
    "The cost of storing 1kg of fruit at the blending plant is £1 per day."
   ]
  },
  {
   "cell_type": "markdown",
   "metadata": {},
   "source": [
    "## Specification\n",
    "\n",
    "In this problem, we minimise the cost of blended juice production over a two day period $t\\in T=\\{1,2\\}$. We ignore the environmental impact of production and transport.\n",
    "\n",
    "The objective is\n",
    "\n",
    "$$\n",
    "\\min\\sum_{f_m, t} Flow_{f_{m}, t}\\phi_{f_m, t} + \\sum_{f_m,t} S_{f_s, t}\\phi_{f_s, t}.\n",
    "$$\n",
    "\n",
    "where the cost of producing 1kg of fruit in a day is given by $\\phi_{f_m, t}$ in the table above and the cost of storing each fruit is $\\phi_{f_s, t}=1$.\n",
    "\n",
    "and there is no initial stored juice.\n",
    "\n",
    "There total demand is $D^{total}=2kg$ of blended fruit juice so\n",
    "\n",
    "$$\n",
    "\\sum_{f_m, t} Flow_{f_m, t} \\geq D^{total} = 2,\n",
    "$$\n",
    "\n",
    "Note that we require the sum over fruit here. \n",
    "\n",
    "We also require $Flow_{f_m, t} \\geq 0$ and $S_{f_s, t}\\geq 0$."
   ]
  },
  {
   "cell_type": "markdown",
   "metadata": {},
   "source": [
    "## Pyomo implementation"
   ]
  },
  {
   "cell_type": "code",
   "execution_count": 1,
   "metadata": {},
   "outputs": [],
   "source": [
    "from pyomo.environ import * \n",
    "import pandas as pd"
   ]
  },
  {
   "cell_type": "markdown",
   "metadata": {},
   "source": [
    "### Create a concrete model"
   ]
  },
  {
   "cell_type": "code",
   "execution_count": 2,
   "metadata": {},
   "outputs": [],
   "source": [
    "model_C = ConcreteModel()"
   ]
  },
  {
   "cell_type": "markdown",
   "metadata": {},
   "source": [
    "### Define sets. Will come from mola, but currently hardcoded.\n",
    "\n",
    "Flows have units kg per day. Time has units of day."
   ]
  },
  {
   "cell_type": "code",
   "execution_count": 3,
   "metadata": {},
   "outputs": [],
   "source": [
    "model_C.t = Set(initialize=[1,2], doc='Time period')\n",
    "model_C.AF = Set(initialize=['Lemon Juice', 'Orange Juice', 'Mandarin Juice'], doc='All flows')\n",
    "model_C.Fm = Set(initialize=['Lemon Juice', 'Orange Juice', 'Mandarin Juice'], doc='Material flows to optimise')\n",
    "model_C.Fs = Set(initialize=['Lemon Juice Storage', 'Orange Juice Storage', 'Orange Mandarin Storage'], doc='Service flows to optimise')"
   ]
  },
  {
   "cell_type": "markdown",
   "metadata": {},
   "source": [
    "### Define parameters."
   ]
  },
  {
   "cell_type": "markdown",
   "metadata": {},
   "source": [
    "#### Get cost parameters. Will come from mola, but currently hardcoded."
   ]
  },
  {
   "cell_type": "code",
   "execution_count": 4,
   "metadata": {},
   "outputs": [
    {
     "ename": "NameError",
     "evalue": "name 'w' is not defined",
     "output_type": "error",
     "traceback": [
      "\u001b[0;31m---------------------------------------------------------------------------\u001b[0m",
      "\u001b[0;31mNameError\u001b[0m                                 Traceback (most recent call last)",
      "\u001b[0;32m<ipython-input-4-1482d0cd092e>\u001b[0m in \u001b[0;36m<module>\u001b[0;34m\u001b[0m\n\u001b[1;32m      7\u001b[0m     \u001b[0ms\u001b[0m\u001b[0;34m[\u001b[0m\u001b[0mk\u001b[0m\u001b[0;34m]\u001b[0m \u001b[0;34m=\u001b[0m \u001b[0mv\u001b[0m \u001b[0;34m+\u001b[0m \u001b[0;36m1\u001b[0m\u001b[0;34m\u001b[0m\u001b[0;34m\u001b[0m\u001b[0m\n\u001b[1;32m      8\u001b[0m \u001b[0mmodel_C\u001b[0m\u001b[0;34m.\u001b[0m\u001b[0mphimt\u001b[0m \u001b[0;34m=\u001b[0m \u001b[0mParam\u001b[0m\u001b[0;34m(\u001b[0m\u001b[0mmodel_C\u001b[0m\u001b[0;34m.\u001b[0m\u001b[0mFm\u001b[0m\u001b[0;34m,\u001b[0m \u001b[0mmodel_C\u001b[0m\u001b[0;34m.\u001b[0m\u001b[0mt\u001b[0m\u001b[0;34m,\u001b[0m \u001b[0minitialize\u001b[0m\u001b[0;34m=\u001b[0m\u001b[0mm\u001b[0m\u001b[0;34m,\u001b[0m \u001b[0mwithin\u001b[0m\u001b[0;34m=\u001b[0m\u001b[0mAny\u001b[0m\u001b[0;34m,\u001b[0m \u001b[0mdoc\u001b[0m\u001b[0;34m=\u001b[0m\u001b[0;34m'Cost of material flow fm at time t'\u001b[0m\u001b[0;34m)\u001b[0m\u001b[0;34m\u001b[0m\u001b[0;34m\u001b[0m\u001b[0m\n\u001b[0;32m----> 9\u001b[0;31m \u001b[0mmodel_C\u001b[0m\u001b[0;34m.\u001b[0m\u001b[0mphist\u001b[0m \u001b[0;34m=\u001b[0m \u001b[0mParam\u001b[0m\u001b[0;34m(\u001b[0m\u001b[0mmodel_C\u001b[0m\u001b[0;34m.\u001b[0m\u001b[0mFs\u001b[0m\u001b[0;34m,\u001b[0m \u001b[0mmodel_C\u001b[0m\u001b[0;34m.\u001b[0m\u001b[0mt\u001b[0m\u001b[0;34m,\u001b[0m \u001b[0minitialize\u001b[0m\u001b[0;34m=\u001b[0m\u001b[0mw\u001b[0m\u001b[0;34m,\u001b[0m \u001b[0mwithin\u001b[0m\u001b[0;34m=\u001b[0m\u001b[0mAny\u001b[0m\u001b[0;34m,\u001b[0m \u001b[0mdoc\u001b[0m\u001b[0;34m=\u001b[0m\u001b[0;34m'Cost of material flow fm at time t'\u001b[0m\u001b[0;34m)\u001b[0m\u001b[0;34m\u001b[0m\u001b[0;34m\u001b[0m\u001b[0m\n\u001b[0m\u001b[1;32m     10\u001b[0m \u001b[0mmodel_C\u001b[0m\u001b[0;34m.\u001b[0m\u001b[0mphimt\u001b[0m\u001b[0;34m.\u001b[0m\u001b[0mpprint\u001b[0m\u001b[0;34m(\u001b[0m\u001b[0;34m)\u001b[0m\u001b[0;34m\u001b[0m\u001b[0;34m\u001b[0m\u001b[0m\n",
      "\u001b[0;31mNameError\u001b[0m: name 'w' is not defined"
     ]
    }
   ],
   "source": [
    "m = {}\n",
    "for i, f in enumerate(model_C.Fm):\n",
    "    m[f, 1] = i + 1\n",
    "    m[f, 2] = 4 - i\n",
    "s = {}\n",
    "for k, v in m.items():\n",
    "    s[k] = v + 1\n",
    "model_C.phimt = Param(model_C.Fm, model_C.t, initialize=m, within=Any, doc='Cost of material flow fm at time t')\n",
    "model_C.phist = Param(model_C.Fs, model_C.t, initialize=w, within=Any, doc='Cost of material flow fm at time t')\n",
    "model_C.phimt.pprint()"
   ]
  },
  {
   "cell_type": "markdown",
   "metadata": {},
   "source": [
    "### Define continuous decision variables"
   ]
  },
  {
   "cell_type": "code",
   "execution_count": null,
   "metadata": {},
   "outputs": [],
   "source": [
    "model_C.y = Var(model_C.Fm | model_C.Fs, model_C.t, within=NonNegativeReals, doc='Decision variables')\n",
    "model_C.y.pprint()"
   ]
  },
  {
   "cell_type": "markdown",
   "metadata": {},
   "source": [
    "### Define constraints"
   ]
  },
  {
   "cell_type": "code",
   "execution_count": null,
   "metadata": {},
   "outputs": [],
   "source": [
    "model_C.demand_constraint = Constraint(expr=sum(model_C.y[f,t] for f in model_C.Fm for t in model_C.t) >= 2)\n",
    "def storage_constraint(model_C, fm, fs):\n",
    "    return model_C.y[fm, 1] == model_C.y[fs, 2] \n",
    "model_C.storage_constraint_list = Constraint(model_C.Fm, model_C.Fs, rule=storage_constraint)"
   ]
  },
  {
   "cell_type": "markdown",
   "metadata": {},
   "source": [
    "### Define objective"
   ]
  },
  {
   "cell_type": "code",
   "execution_count": null,
   "metadata": {},
   "outputs": [],
   "source": [
    "def objective_rule(model_C):\n",
    "    obj_material = sum(model_C.y[f,t]*model_C.phimt[f,t] for f in model_C.Fm for t in model_C.t)\n",
    "    obj_service = sum(model_C.y[f,t]*model_C.phist[f,t] for f in model_C.Fs for t in model_C.t)\n",
    "    return obj_material+obj_service\n",
    "model_C.obj = Objective(rule=objective_rule, sense=minimize)"
   ]
  },
  {
   "cell_type": "markdown",
   "metadata": {},
   "source": [
    "### Apply solver"
   ]
  },
  {
   "cell_type": "code",
   "execution_count": null,
   "metadata": {},
   "outputs": [],
   "source": [
    "opt = SolverFactory(\"glpk\")\n",
    "results = opt.solve(model_C)\n",
    "results.write()"
   ]
  },
  {
   "cell_type": "markdown",
   "metadata": {},
   "source": [
    "### Process results"
   ]
  },
  {
   "cell_type": "code",
   "execution_count": null,
   "metadata": {},
   "outputs": [],
   "source": [
    "model_C.y.display()"
   ]
  },
  {
   "cell_type": "code",
   "execution_count": null,
   "metadata": {},
   "outputs": [],
   "source": [
    "model_C.obj.pprint()\n",
    "model_C.obj.value()"
   ]
  },
  {
   "cell_type": "code",
   "execution_count": null,
   "metadata": {},
   "outputs": [],
   "source": [
    "model_C.storage_constraint_list.pprint()"
   ]
  },
  {
   "cell_type": "code",
   "execution_count": null,
   "metadata": {},
   "outputs": [],
   "source": []
  }
 ],
 "metadata": {
  "kernelspec": {
   "display_name": "Python 3",
   "language": "python",
   "name": "python3"
  },
  "language_info": {
   "codemirror_mode": {
    "name": "ipython",
    "version": 3
   },
   "file_extension": ".py",
   "mimetype": "text/x-python",
   "name": "python",
   "nbconvert_exporter": "python",
   "pygments_lexer": "ipython3",
   "version": "3.7.3"
  },
  "toc": {
   "base_numbering": 1,
   "nav_menu": {},
   "number_sections": true,
   "sideBar": true,
   "skip_h1_title": false,
   "title_cell": "Table of Contents",
   "title_sidebar": "Contents",
   "toc_cell": false,
   "toc_position": {
    "height": "calc(100% - 180px)",
    "left": "10px",
    "top": "150px",
    "width": "284.444px"
   },
   "toc_section_display": true,
   "toc_window_display": true
  }
 },
 "nbformat": 4,
 "nbformat_minor": 4
}
