{
 "cells": [
  {
   "cell_type": "markdown",
   "metadata": {},
   "source": [
    "# Orange Juice Toy Problem C\n",
    "\n",
    "This toy problem illustrates how we can use the abstract model built into the `mola` package in order to solve an optimisation problem based on openLCA data."
   ]
  },
  {
   "cell_type": "markdown",
   "metadata": {},
   "source": [
    "## Problem Statement\n",
    "\n",
    "A citrus fruit juice producer in wishes to produce 100kg of fresh orange juice in either the US, South Africa or RoW. In order to produce the juice, they need to source local oranges and transport them to their local processing plant. It takes 2 kg of oranges produce 1 kg of orange juice. The distance between fruit production and processing plant in each country is shown in the table below. The options for freight transport in each country are diesel train, electric train, 16-32 ton lorry EURO1 and 16-32 ton lorry EURO2. \n",
    "\n",
    "They would like to choose where to produce orange juice and the means of transport of oranges in order to minimise the environmental impact of green house gases.\n",
    "\n",
    "Country | Distance / km\n",
    "-- | --\n",
    "US | 200\n",
    "South Africa | 600\n",
    "RoW | 400\n",
    "\n",
    "Assumptions\n",
    "* The distance travelled is independent of the mode of transport.\n",
    "* The environmental impact of converting oranges to juice is the same in each country.\n",
    "* If relevant openLCA data does not exist then we neither use a proxy nor create a new system process."
   ]
  },
  {
   "cell_type": "markdown",
   "metadata": {},
   "source": [
    "## Specification\n",
    "\n",
    "In this notebook we use the full model to solve the orange juice problem in Problem B using the abstract specification v5.\n",
    "\n"
   ]
  },
  {
   "cell_type": "code",
   "execution_count": null,
   "metadata": {},
   "outputs": [],
   "source": [
    "import mola.specification5 as ms\n",
    "from importlib import reload\n",
    "spec = ms.GeneralSpecification()\n",
    "spec.abstract_model.AP.pprint()"
   ]
  },
  {
   "cell_type": "markdown",
   "metadata": {},
   "source": [
    "# User Configuration"
   ]
  },
  {
   "cell_type": "markdown",
   "metadata": {},
   "source": [
    "If there is no existing user set configuration then create a new empty model set configuration with the abstract model specification."
   ]
  },
  {
   "cell_type": "code",
   "execution_count": null,
   "metadata": {},
   "outputs": [],
   "source": [
    "import mola.input as mi\n",
    "model_set_file_name = 'model_set_data.json'\n",
    "user_sets = mi.get_model_user_sets(spec, model_set_file_name)\n",
    "user_sets"
   ]
  },
  {
   "cell_type": "markdown",
   "metadata": {},
   "source": [
    "## Sets\n",
    "\n",
    "To configure the model we need lookup tables to select sets. These come from a database so part of the new model configuration is a link to a database."
   ]
  },
  {
   "cell_type": "code",
   "execution_count": null,
   "metadata": {},
   "outputs": [],
   "source": [
    "import mola.dataview as dv\n",
    "import mola.dataimport as di\n",
    "import pandas as pd\n",
    "from pyomo.environ import *\n",
    "conn = di.get_sqlite_connection()\n",
    "lookup = dv.get_lookup_tables(conn)"
   ]
  },
  {
   "cell_type": "markdown",
   "metadata": {},
   "source": [
    "We show a widget that loads and saves the user configuration of sets in a tabbed interface. Existing user configuration data is loaded if there is a saved model data file."
   ]
  },
  {
   "cell_type": "code",
   "execution_count": null,
   "metadata": {},
   "outputs": [],
   "source": [
    "# any way to distinquish material flows from transport flows in openLCA? fix a group of categories in lookup?\n",
    "import mola.widgets as mw\n",
    "reload(mw)\n",
    "lookups = {'F_m': lookup['flows'], 'P_m': lookup['processes'], 'F_t': lookup['flows'], \n",
    "           'P_t': lookup['processes'], 'F_s': lookup['flows'], \n",
    "           'P_s': lookup['processes'], 'KPI': lookup['KPI']}\n",
    "vbox, tab = mw.get_sets(spec, lookups, model_set_file_name)\n",
    "vbox"
   ]
  },
  {
   "cell_type": "markdown",
   "metadata": {},
   "source": [
    "The content of the json set file is shown below."
   ]
  },
  {
   "cell_type": "code",
   "execution_count": null,
   "metadata": {},
   "outputs": [],
   "source": [
    "import json\n",
    "with open(model_set_file_name) as s:\n",
    "    set_data = json.load(s)\n",
    "set_data"
   ]
  },
  {
   "cell_type": "markdown",
   "metadata": {},
   "source": [
    "## Parameters\n",
    "\n",
    "The number of model parameters depends on the elements in the sets. At the moment, there is a DataFrame interface for setting these parameters. The current parameter set held in a file is restored if set combinations in its definition are still applicable."
   ]
  },
  {
   "cell_type": "code",
   "execution_count": null,
   "metadata": {
    "scrolled": false
   },
   "outputs": [],
   "source": [
    "import qgrid\n",
    "model_parameters_file_name = 'model_parameters_data.json'\n",
    "param_dfr, param_dict = mi.get_model_user_parameters(spec, set_data, model_parameters_file_name)\n",
    "mw.get_parameters(param_dfr, model_parameters_file_name)"
   ]
  },
  {
   "cell_type": "markdown",
   "metadata": {},
   "source": [
    "Save the parameters above to the file system to persist any changes before proceeding. For reference here is the contents of the model parameter file."
   ]
  },
  {
   "cell_type": "code",
   "execution_count": null,
   "metadata": {},
   "outputs": [],
   "source": [
    "with open(model_parameters_file_name) as fp:\n",
    "    params_json = json.load(fp)\n",
    "params_json"
   ]
  },
  {
   "cell_type": "markdown",
   "metadata": {},
   "source": [
    "# Model Build\n",
    "\n",
    "To build the model we need to calculate the environmental impacts for each flow, process and KPI from the database. This is done as part in the `populate` method."
   ]
  },
  {
   "cell_type": "code",
   "execution_count": null,
   "metadata": {},
   "outputs": [],
   "source": [
    "json_files = ['model_set_data.json', model_parameters_file_name]\n",
    "model_instance = spec.populate(json_files)\n",
    "model_instance.F_m.pprint()"
   ]
  },
  {
   "cell_type": "markdown",
   "metadata": {},
   "source": [
    "In the following sections we illustrate how the problem data has populated the abstract model to generate a concrete model instance."
   ]
  },
  {
   "cell_type": "markdown",
   "metadata": {},
   "source": [
    "## Sets"
   ]
  },
  {
   "cell_type": "code",
   "execution_count": null,
   "metadata": {},
   "outputs": [],
   "source": [
    "sets_dfr = pd.DataFrame(\n",
    "    ([v.name, v.doc, len(v)] for v in model_instance.component_objects(Set, active=True)),\n",
    "    columns=['Set', 'Description', 'Number of elements']\n",
    ")\n",
    "sets_dfr"
   ]
  },
  {
   "cell_type": "markdown",
   "metadata": {},
   "source": [
    "## Parameters"
   ]
  },
  {
   "cell_type": "code",
   "execution_count": null,
   "metadata": {},
   "outputs": [],
   "source": [
    "param_dfr = pd.DataFrame(\n",
    "    ([o.name, o.doc, len(o), [index for index in o], [value(o[index]) for index in o]] for o in model_instance.component_objects(Param, active=True)),\n",
    "    columns=['Param', 'Description', 'Number of elements', 'Dimension', 'Value']\n",
    ")\n",
    "qgrid.show_grid(param_dfr)"
   ]
  },
  {
   "cell_type": "markdown",
   "metadata": {},
   "source": [
    "## Constraints"
   ]
  },
  {
   "cell_type": "code",
   "execution_count": null,
   "metadata": {},
   "outputs": [],
   "source": [
    "import qgrid\n",
    "dfr = pd.DataFrame(\n",
    "    ([v.name, v.expr] for v in model_instance.component_data_objects(Constraint, active=True)),\n",
    "    columns=['Constraint', 'Expression']\n",
    ")\n",
    "qgrid.show_grid(dfr)"
   ]
  },
  {
   "cell_type": "code",
   "execution_count": null,
   "metadata": {},
   "outputs": [],
   "source": [
    "print(dfr.iloc[0,0])\n",
    "print(dfr.iloc[0,1])"
   ]
  },
  {
   "cell_type": "markdown",
   "metadata": {},
   "source": [
    "## Objectives"
   ]
  },
  {
   "cell_type": "code",
   "execution_count": null,
   "metadata": {},
   "outputs": [],
   "source": [
    "dfr = pd.DataFrame(\n",
    "    ([v.name, v.expr] for v in model_instance.component_data_objects(Objective, active=True)),\n",
    "    columns=['Objective', 'Expression']\n",
    ")\n",
    "\n",
    "qgrid.show_grid(dfr)"
   ]
  },
  {
   "cell_type": "markdown",
   "metadata": {},
   "source": [
    "# Solver\n",
    "\n",
    "We need to activate an objective or form a weighted sum of objectives. For the orange problem we just need the first objective of minimising the environmental impact."
   ]
  },
  {
   "cell_type": "code",
   "execution_count": null,
   "metadata": {},
   "outputs": [],
   "source": [
    "model_instance.obj1.activate()\n",
    "model_instance.obj2.deactivate()\n",
    "model_instance.obj.deactivate()"
   ]
  },
  {
   "cell_type": "code",
   "execution_count": null,
   "metadata": {},
   "outputs": [],
   "source": [
    "opt = SolverFactory(\"glpk\")\n",
    "results = opt.solve(model_instance)\n",
    "results.write()"
   ]
  },
  {
   "cell_type": "markdown",
   "metadata": {},
   "source": [
    "The variable output is shown below"
   ]
  },
  {
   "cell_type": "code",
   "execution_count": null,
   "metadata": {},
   "outputs": [],
   "source": [
    "model_instance.Flow.pprint()"
   ]
  },
  {
   "cell_type": "code",
   "execution_count": null,
   "metadata": {},
   "outputs": [],
   "source": [
    "model_instance.Specific_Material_Transport_Flow.pprint()"
   ]
  },
  {
   "cell_type": "code",
   "execution_count": null,
   "metadata": {},
   "outputs": [],
   "source": [
    "model_instance.Specific_Transport_Flow.pprint()"
   ]
  },
  {
   "cell_type": "code",
   "execution_count": null,
   "metadata": {},
   "outputs": [],
   "source": [
    "model_instance.transport_constraint.pprint()"
   ]
  },
  {
   "cell_type": "markdown",
   "metadata": {},
   "source": [
    "# Prettified output\n",
    "\n",
    "We use the `mola.output` module to prettify the output."
   ]
  },
  {
   "cell_type": "code",
   "execution_count": null,
   "metadata": {},
   "outputs": [],
   "source": [
    "import mola.output as mo\n",
    "lookup = dv.LookupTables(conn)\n",
    "pd.set_option('display.max_colwidth', 1000)"
   ]
  },
  {
   "cell_type": "code",
   "execution_count": null,
   "metadata": {},
   "outputs": [],
   "source": [
    "flows_dfr = mo.get_entity(model_instance.component('Flow'), lookup, drop=True, units=['P_m'])\n",
    "flows_dfr"
   ]
  },
  {
   "cell_type": "code",
   "execution_count": null,
   "metadata": {},
   "outputs": [],
   "source": [
    "f_dfr = mo.get_entity(model_instance.component('Specific_Material_Transport_Flow'), lookup, drop=True, units=['P_t']).dropna()\n",
    "f_dfr[['Specific_Material_Transport_Flow', 'P_t', 'UNITS']]"
   ]
  },
  {
   "cell_type": "code",
   "execution_count": null,
   "metadata": {},
   "outputs": [],
   "source": [
    "t_dfr = mo.get_entity(model_instance.component('Specific_Transport_Flow'), lookup, drop=True, units=['P_t']).dropna()\n",
    "t_dfr[['Specific_Transport_Flow', 'P_t', 'UNITS']]"
   ]
  },
  {
   "cell_type": "code",
   "execution_count": null,
   "metadata": {},
   "outputs": [],
   "source": []
  }
 ],
 "metadata": {
  "kernelspec": {
   "display_name": "Python 3",
   "language": "python",
   "name": "python3"
  },
  "language_info": {
   "codemirror_mode": {
    "name": "ipython",
    "version": 3
   },
   "file_extension": ".py",
   "mimetype": "text/x-python",
   "name": "python",
   "nbconvert_exporter": "python",
   "pygments_lexer": "ipython3",
   "version": "3.7.9"
  },
  "toc": {
   "base_numbering": 1,
   "nav_menu": {},
   "number_sections": true,
   "sideBar": true,
   "skip_h1_title": false,
   "title_cell": "Table of Contents",
   "title_sidebar": "Contents",
   "toc_cell": false,
   "toc_position": {
    "height": "calc(100% - 180px)",
    "left": "10px",
    "top": "150px",
    "width": "284.438px"
   },
   "toc_section_display": true,
   "toc_window_display": true
  },
  "varInspector": {
   "cols": {
    "lenName": 16,
    "lenType": 16,
    "lenVar": 40
   },
   "kernels_config": {
    "python": {
     "delete_cmd_postfix": "",
     "delete_cmd_prefix": "del ",
     "library": "var_list.py",
     "varRefreshCmd": "print(var_dic_list())"
    },
    "r": {
     "delete_cmd_postfix": ") ",
     "delete_cmd_prefix": "rm(",
     "library": "var_list.r",
     "varRefreshCmd": "cat(var_dic_list()) "
    }
   },
   "types_to_exclude": [
    "module",
    "function",
    "builtin_function_or_method",
    "instance",
    "_Feature"
   ],
   "window_display": false
  }
 },
 "nbformat": 4,
 "nbformat_minor": 4
}
