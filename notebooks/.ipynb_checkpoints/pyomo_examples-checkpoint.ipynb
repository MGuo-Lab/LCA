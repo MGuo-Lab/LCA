{
 "cells": [
  {
   "cell_type": "markdown",
   "metadata": {},
   "source": [
    "# The Transport Problem"
   ]
  },
  {
   "cell_type": "markdown",
   "metadata": {},
   "source": [
    "## Load pyomo python library"
   ]
  },
  {
   "cell_type": "code",
   "execution_count": 1,
   "metadata": {},
   "outputs": [],
   "source": [
    "# load pyomo\n",
    "import pyomo"
   ]
  },
  {
   "cell_type": "markdown",
   "metadata": {},
   "source": [
    "## Create a model"
   ]
  },
  {
   "cell_type": "code",
   "execution_count": 2,
   "metadata": {},
   "outputs": [],
   "source": [
    "# Import of the pyomo module\n",
    "from pyomo.environ import *\n",
    " \n",
    "# Creation of a Concrete Model\n",
    "model = ConcreteModel()"
   ]
  },
  {
   "cell_type": "markdown",
   "metadata": {},
   "source": [
    "## Define sets"
   ]
  },
  {
   "cell_type": "code",
   "execution_count": 3,
   "metadata": {},
   "outputs": [],
   "source": [
    "#  Sets\n",
    "#       i   canning plants   / seattle, san-diego /\n",
    "#       j   markets          / new-york, chicago, topeka / ;\n",
    "model.i = Set(initialize=['seattle','san-diego'], doc='Canning plans')\n",
    "model.j = Set(initialize=['new-york','chicago', 'topeka'], doc='Markets')"
   ]
  },
  {
   "cell_type": "markdown",
   "metadata": {},
   "source": [
    "## Define parameters"
   ]
  },
  {
   "cell_type": "code",
   "execution_count": 4,
   "metadata": {},
   "outputs": [],
   "source": [
    "#   Parameters\n",
    "#       a(i)  capacity of plant i in cases\n",
    "#         /    seattle     350\n",
    "#              san-diego   600  /\n",
    "#       b(j)  demand at market j in cases\n",
    "#         /    new-york    325\n",
    "#              chicago     300\n",
    "#              topeka      275  / ;\n",
    "model.a = Param(model.i, initialize={'seattle':350,'san-diego':600}, doc='Capacity of plant i in cases')\n",
    "model.b = Param(model.j, initialize={'new-york':325,'chicago':300,'topeka':275}, doc='Demand at market j in cases')"
   ]
  },
  {
   "cell_type": "code",
   "execution_count": 5,
   "metadata": {},
   "outputs": [],
   "source": [
    "#  Table d(i,j)  distance in thousands of miles\n",
    "#                    new-york       chicago      topeka\n",
    "#      seattle          2.5           1.7          1.8\n",
    "#      san-diego        2.5           1.8          1.4  ;\n",
    "dtab = {\n",
    "    ('seattle',  'new-york') : 2.5,\n",
    "    ('seattle',  'chicago')  : 1.7,\n",
    "    ('seattle',  'topeka')   : 1.8,\n",
    "    ('san-diego','new-york') : 2.5,\n",
    "    ('san-diego','chicago')  : 1.8,\n",
    "    ('san-diego','topeka')   : 1.4,\n",
    "    }\n",
    "model.d = Param(model.i, model.j, initialize=dtab, doc='Distance in thousands of miles')\n",
    "#  Scalar f  freight in dollars per case per thousand miles  /90/ ;\n",
    "model.f = Param(initialize=90, doc='Freight in dollars per case per thousand miles')"
   ]
  },
  {
   "cell_type": "code",
   "execution_count": 6,
   "metadata": {},
   "outputs": [],
   "source": [
    "#  Parameter c(i,j)  transport cost in thousands of dollars per case ;\n",
    "#            c(i,j) = f * d(i,j) / 1000 ;\n",
    "def c_init(model, i, j):\n",
    "  return model.f * model.d[i,j] / 1000\n",
    "model.c = Param(model.i, model.j, initialize=c_init, doc='Transport cost in thousands of dollar per case')"
   ]
  },
  {
   "cell_type": "code",
   "execution_count": 7,
   "metadata": {},
   "outputs": [],
   "source": [
    "## Define variables ##\n",
    "#  Variables\n",
    "#       x(i,j)  shipment quantities in cases\n",
    "#       z       total transportation costs in thousands of dollars ;\n",
    "#  Positive Variable x ;\n",
    "model.x = Var(model.i, model.j, bounds=(0.0,None), doc='Shipment quantities in case')"
   ]
  },
  {
   "cell_type": "code",
   "execution_count": 8,
   "metadata": {},
   "outputs": [],
   "source": [
    "# supply(i)   observe supply limit at plant i\n",
    "# supply(i) .. sum (j, x(i,j)) =l= a(i)\n",
    "def supply_rule(model, i):\n",
    "  return sum(model.x[i,j] for j in model.j) <= model.a[i]\n",
    "model.supply = Constraint(model.i, rule=supply_rule, doc='Observe supply limit at plant i')\n",
    "# demand(j)   satisfy demand at market j ;  \n",
    "# demand(j) .. sum(i, x(i,j)) =g= b(j);\n",
    "def demand_rule(model, j):\n",
    "  return sum(model.x[i,j] for i in model.i) >= model.b[j]  \n",
    "model.demand = Constraint(model.j, rule=demand_rule, doc='Satisfy demand at market j')"
   ]
  },
  {
   "cell_type": "markdown",
   "metadata": {},
   "source": [
    "## Objective"
   ]
  },
  {
   "cell_type": "code",
   "execution_count": 9,
   "metadata": {},
   "outputs": [],
   "source": [
    "## Define Objective and solve ##\n",
    "#  cost        define objective function\n",
    "#  cost ..        z  =e=  sum((i,j), c(i,j)*x(i,j)) ;\n",
    "#  Model transport /all/ ;\n",
    "def objective_rule(model):\n",
    "  return sum(model.c[i,j]*model.x[i,j] for i in model.i for j in model.j)"
   ]
  },
  {
   "cell_type": "code",
   "execution_count": 10,
   "metadata": {},
   "outputs": [],
   "source": [
    "#  Solve transport using lp minimizing z ;\n",
    "model.objective = Objective(rule=objective_rule, sense=minimize, doc='Define objective function')"
   ]
  },
  {
   "cell_type": "code",
   "execution_count": 11,
   "metadata": {},
   "outputs": [],
   "source": [
    "# Apply solver\n",
    "opt = SolverFactory(\"glpk\")\n",
    "results = opt.solve(model)"
   ]
  },
  {
   "cell_type": "code",
   "execution_count": 12,
   "metadata": {},
   "outputs": [],
   "source": [
    "## Display of the output ##\n",
    "# Display x.l, x.m ;\n",
    "def pyomo_postprocess(options=None, instance=None, results=None):\n",
    "  model.x.display()"
   ]
  },
  {
   "cell_type": "code",
   "execution_count": 13,
   "metadata": {},
   "outputs": [
    {
     "name": "stdout",
     "output_type": "stream",
     "text": [
      "# ==========================================================\n",
      "# = Solver Results                                         =\n",
      "# ==========================================================\n",
      "# ----------------------------------------------------------\n",
      "#   Problem Information\n",
      "# ----------------------------------------------------------\n",
      "Problem: \n",
      "- Name: unknown\n",
      "  Lower bound: 153.675\n",
      "  Upper bound: 153.675\n",
      "  Number of objectives: 1\n",
      "  Number of constraints: 6\n",
      "  Number of variables: 7\n",
      "  Number of nonzeros: 13\n",
      "  Sense: minimize\n",
      "# ----------------------------------------------------------\n",
      "#   Solver Information\n",
      "# ----------------------------------------------------------\n",
      "Solver: \n",
      "- Status: ok\n",
      "  Termination condition: optimal\n",
      "  Statistics: \n",
      "    Branch and bound: \n",
      "      Number of bounded subproblems: 0\n",
      "      Number of created subproblems: 0\n",
      "  Error rc: 0\n",
      "  Time: 0.01907062530517578\n",
      "# ----------------------------------------------------------\n",
      "#   Solution Information\n",
      "# ----------------------------------------------------------\n",
      "Solution: \n",
      "- number of solutions: 0\n",
      "  number of solutions displayed: 0\n",
      "\n",
      "Displaying Solution\n",
      "------------------------------------------------------------\n",
      "x : Shipment quantities in case\n",
      "    Size=6, Index=x_index\n",
      "    Key                       : Lower : Value : Upper : Fixed : Stale : Domain\n",
      "     ('san-diego', 'chicago') :   0.0 :   0.0 :  None : False : False :  Reals\n",
      "    ('san-diego', 'new-york') :   0.0 : 325.0 :  None : False : False :  Reals\n",
      "      ('san-diego', 'topeka') :   0.0 : 275.0 :  None : False : False :  Reals\n",
      "       ('seattle', 'chicago') :   0.0 : 300.0 :  None : False : False :  Reals\n",
      "      ('seattle', 'new-york') :   0.0 :   0.0 :  None : False : False :  Reals\n",
      "        ('seattle', 'topeka') :   0.0 :   0.0 :  None : False : False :  Reals\n"
     ]
    }
   ],
   "source": [
    "results.write()\n",
    "print(\"\\nDisplaying Solution\\n\" + '-'*60)\n",
    "pyomo_postprocess(None, model, results)"
   ]
  },
  {
   "cell_type": "markdown",
   "metadata": {},
   "source": [
    "# Min-cost problem"
   ]
  },
  {
   "cell_type": "code",
   "execution_count": 14,
   "metadata": {},
   "outputs": [],
   "source": [
    "class MinCostFlow:\n",
    "    \"\"\"This class implements a standard min-cost-flow model.  \n",
    "    \n",
    "    It takes as input two csv files, providing data for the nodes and the arcs of the network.  The nodes file should have columns:\n",
    "    \n",
    "    Node, Imbalance\n",
    "\n",
    "    that specify the node name and the flow imbalance at the node.  The arcs file should have columns:\n",
    "\n",
    "    Start, End, Cost, UpperBound, LowerBound\n",
    "\n",
    "    that specify an arc start node, an arc end node, a cost for the arc, and upper and lower bounds for the flow.\"\"\"\n",
    "    def __init__(self, nodesfile, arcsfile):\n",
    "        \"\"\"Read in the csv data.\"\"\"\n",
    "        # Read in the nodes file\n",
    "        self.node_data = pandas.read_csv('nodes.csv')\n",
    "        self.node_data.set_index(['Node'], inplace=True)\n",
    "        self.node_data.sort_index(inplace=True)\n",
    "        # Read in the arcs file\n",
    "        self.arc_data = pandas.read_csv('arcs.csv')\n",
    "        self.arc_data.set_index(['Start','End'], inplace=True)\n",
    "        self.arc_data.sort_index(inplace=True)\n",
    "\n",
    "        self.node_set = self.node_data.index.unique()\n",
    "        self.arc_set = self.arc_data.index.unique()\n",
    "\n",
    "        self.createModel()\n",
    "\n",
    "    def createModel(self):\n",
    "        \"\"\"Create the pyomo model given the csv data.\"\"\"\n",
    "        self.m = pe.ConcreteModel()\n",
    "\n",
    "        # Create sets\n",
    "        self.m.node_set = pe.Set( initialize=self.node_set )\n",
    "        self.m.arc_set = pe.Set( initialize=self.arc_set , dimen=2)\n",
    "\n",
    "        # Create variables\n",
    "        self.m.Y = pe.Var(self.m.arc_set, domain=pe.NonNegativeReals)\n",
    "\n",
    "        # Create objective\n",
    "        def obj_rule(m):\n",
    "            return sum(m.Y[e] * self.arc_data.ix[e,'Cost'] for e in self.arc_set)\n",
    "        self.m.OBJ = pe.Objective(rule=obj_rule, sense=pe.minimize)\n",
    "        \n",
    "        # Flow Ballance rule\n",
    "        def flow_bal_rule(m, n):\n",
    "            arcs = self.arc_data.reset_index()\n",
    "            preds = arcs[ arcs.End == n ]['Start']\n",
    "            succs = arcs[ arcs.Start == n ]['End']\n",
    "            return sum(m.Y[(p,n)] for p in preds) - sum(m.Y[(n,s)] for s in succs) == self.node_data.ix[n,'Imbalance']\n",
    "        self.m.FlowBal = pe.Constraint(self.m.node_set, rule=flow_bal_rule)\n",
    "\n",
    "        # Upper bounds rule\n",
    "        def upper_bounds_rule(m, n1, n2):\n",
    "            e = (n1,n2)\n",
    "            if self.arc_data.ix[e, 'UpperBound'] < 0:\n",
    "                return pe.Constraint.Skip\n",
    "            return m.Y[e] <= self.arc_data.ix[e, 'UpperBound']\n",
    "        self.m.UpperBound = pe.Constraint(self.m.arc_set, rule=upper_bounds_rule)\n",
    "        \n",
    "        # Lower bounds rule\n",
    "        def lower_bounds_rule(m, n1, n2):\n",
    "            e = (n1,n2)\n",
    "            if self.arc_data.ix[e, 'LowerBound'] < 0:\n",
    "                return pe.Constraint.Skip\n",
    "            return m.Y[e] >= self.arc_data.ix[e, 'LowerBound']\n",
    "        self.m.LowerBound = pe.Constraint(self.m.arc_set, rule=lower_bounds_rule)\n",
    "\n",
    "    def solve(self):\n",
    "        \"\"\"Solve the model.\"\"\"\n",
    "        solver = pyomo.opt.SolverFactory('gurobi')\n",
    "        results = solver.solve(self.m, tee=True, keepfiles=False, options_string=\"mip_tolerances_integrality=1e-9 mip_tolerances_mipgap=0\")\n",
    "\n",
    "        if (results.solver.status != pyomo.opt.SolverStatus.ok):\n",
    "            logging.warning('Check solver not ok?')\n",
    "        if (results.solver.termination_condition != pyomo.opt.TerminationCondition.optimal):  \n",
    "            logging.warning('Check solver optimality?') "
   ]
  },
  {
   "cell_type": "markdown",
   "metadata": {},
   "source": [
    "# Diet problem"
   ]
  },
  {
   "cell_type": "markdown",
   "metadata": {},
   "source": [
    "This is an example of using an `AbstractModel` in `pyomo`. There is an annotated step by step guide on the wiki."
   ]
  },
  {
   "cell_type": "code",
   "execution_count": 15,
   "metadata": {},
   "outputs": [],
   "source": [
    "from pyomo.environ import *\n",
    "infinity = float('inf')\n",
    "\n",
    "model = AbstractModel()\n",
    "\n",
    "# Foods\n",
    "model.F = Set()\n",
    "# Nutrients\n",
    "model.N = Set()\n",
    "\n",
    "# Cost of each food\n",
    "model.c    = Param(model.F, within=PositiveReals)\n",
    "# Amount of nutrient in each food\n",
    "model.a    = Param(model.F, model.N, within=NonNegativeReals)\n",
    "# Lower and upper bound on each nutrient\n",
    "model.Nmin = Param(model.N, within=NonNegativeReals, default=0.0)\n",
    "model.Nmax = Param(model.N, within=NonNegativeReals, default=infinity)\n",
    "# Volume per serving of food\n",
    "model.V    = Param(model.F, within=PositiveReals)\n",
    "# Maximum volume of food consumed\n",
    "model.Vmax = Param(within=PositiveReals)\n",
    "\n",
    "# Number of servings consumed of each food\n",
    "model.x = Var(model.F, within=NonNegativeIntegers)\n",
    "\n",
    "# Minimize the cost of food that is consumed\n",
    "def cost_rule(model):\n",
    "    return sum(model.c[i]*model.x[i] for i in model.F)\n",
    "model.cost = Objective(rule=cost_rule)\n",
    "\n",
    "# Limit nutrient consumption for each nutrient\n",
    "def nutrient_rule(model, j):\n",
    "    value = sum(model.a[i,j]*model.x[i] for i in model.F)\n",
    "    return model.Nmin[j] <= value <= model.Nmax[j]\n",
    "model.nutrient_limit = Constraint(model.N, rule=nutrient_rule)\n",
    "\n",
    "# Limit the volume of food consumed\n",
    "def volume_rule(model):\n",
    "    return sum(model.V[i]*model.x[i] for i in model.F) <= model.Vmax\n",
    "model.volume = Constraint(rule=volume_rule)"
   ]
  },
  {
   "cell_type": "markdown",
   "metadata": {},
   "source": [
    "# Knapsack problem"
   ]
  },
  {
   "cell_type": "markdown",
   "metadata": {},
   "source": [
    "# Mixed integer nonlinear optimisation problem"
   ]
  },
  {
   "cell_type": "code",
   "execution_count": null,
   "metadata": {},
   "outputs": [],
   "source": []
  }
 ],
 "metadata": {
  "kernelspec": {
   "display_name": "Python 3",
   "language": "python",
   "name": "python3"
  },
  "language_info": {
   "codemirror_mode": {
    "name": "ipython",
    "version": 3
   },
   "file_extension": ".py",
   "mimetype": "text/x-python",
   "name": "python",
   "nbconvert_exporter": "python",
   "pygments_lexer": "ipython3",
   "version": "3.7.3"
  },
  "toc": {
   "base_numbering": 1,
   "nav_menu": {},
   "number_sections": true,
   "sideBar": true,
   "skip_h1_title": false,
   "title_cell": "Table of Contents",
   "title_sidebar": "Contents",
   "toc_cell": false,
   "toc_position": {},
   "toc_section_display": true,
   "toc_window_display": false
  }
 },
 "nbformat": 4,
 "nbformat_minor": 4
}
