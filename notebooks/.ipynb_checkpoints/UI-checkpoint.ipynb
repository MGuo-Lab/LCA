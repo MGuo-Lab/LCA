{
 "cells": [
  {
   "cell_type": "code",
   "execution_count": 1,
   "metadata": {},
   "outputs": [
    {
     "data": {
      "text/plain": [
       "{'C': {'index': ['F_m', 'K', 'D', 'T'],\n",
       "  'doc': 'Conversion factor for material flows'},\n",
       " 'Demand': {'index': ['D', 'K', 'T'], 'doc': 'Specific demand'},\n",
       " 'Total_Demand': {'index': ['D', 'K'], 'doc': 'Total demand'},\n",
       " 'L': {'index': ['F_m', 'F_t'],\n",
       "  'doc': 'Binary conversion factor between material and transport flows'},\n",
       " 'X': {'index': ['K', 'T'], 'doc': 'Latitude'},\n",
       " 'Y': {'index': ['K', 'T'], 'doc': 'Longitude'},\n",
       " 'd': {'index': ['P', 'F_m', 'K', 'T'], 'doc': 'Distance'},\n",
       " 'phi': {'index': ['F', 'P', 'T'], 'doc': 'Cost impact factor'},\n",
       " 'J': {'index': ['F_m', 'P_m', 'F_t', 'P_t'],\n",
       "  'doc': 'Binary conversion factor between material and transport flows'}}"
      ]
     },
     "execution_count": 1,
     "metadata": {},
     "output_type": "execute_result"
    }
   ],
   "source": [
    "import json\n",
    "import ipyaggrid as pg\n",
    "import mola.specification4a as ms\n",
    "model_parameters_file_name = 'model_parameters_data.json'\n",
    "model_sets_file_name = 'model_set_data.json'\n",
    "with open(model_parameters_file_name) as fp:\n",
    "    params_json = json.load(fp)\n",
    "with open(model_sets_file_name) as fp:\n",
    "    sets_json = json.load(fp)\n",
    "spec = ms.ScheduleSpecification()\n",
    "spec.user_defined_parameters"
   ]
  },
  {
   "cell_type": "code",
   "execution_count": 2,
   "metadata": {},
   "outputs": [
    {
     "name": "stdout",
     "output_type": "stream",
     "text": [
      "SELECT \"REF_ID\",\"NAME\" FROM \"TBL_CATEGORIES\"\n",
      "SELECT \"REF_ID\" \"FLOW_REF_ID\",\"NAME\" FROM \"TBL_FLOWS\"\n",
      "SELECT \"TBL_PROCESSES\".\"REF_ID\" \"PROCESS_REF_ID\",\"TBL_PROCESSES\".\"NAME\" \"PROCESS_NAME\",\"TBL_LOCATIONS\".\"NAME\" \"LOCATION_NAME\" FROM \"TBL_PROCESSES\" LEFT JOIN \"TBL_LOCATIONS\" ON CAST(\"TBL_PROCESSES\".\"F_LOCATION\" AS INT)=\"TBL_LOCATIONS\".\"ID\"\n",
      "SELECT \"REF_ID\",\"NAME\" FROM \"TBL_FLOWS\" WHERE \"FLOW_TYPE\"='PRODUCT_FLOW'\n",
      "SELECT \"TBL_IMPACT_METHODS\".\"NAME\" \"method_NAME\",\"TBL_IMPACT_CATEGORIES\".\"REF_ID\" \"category_REF_ID\",\"TBL_IMPACT_CATEGORIES\".\"NAME\" \"category_NAME\" FROM \"TBL_IMPACT_CATEGORIES\" LEFT JOIN \"TBL_IMPACT_METHODS\" ON \"TBL_IMPACT_CATEGORIES\".\"F_IMPACT_METHOD\"=\"TBL_IMPACT_METHODS\".\"ID\"\n"
     ]
    }
   ],
   "source": [
    "import mola.dataview as dv\n",
    "import mola.dataimport as di\n",
    "import pandas as pd\n",
    "conn = di.get_sqlite_connection()\n",
    "lookup = dv.get_lookup_tables(conn, single_column=True)"
   ]
  },
  {
   "cell_type": "code",
   "execution_count": 3,
   "metadata": {},
   "outputs": [
    {
     "data": {
      "application/vnd.jupyter.widget-view+json": {
       "model_id": "de7a863f87094e4a871243c3f6d021ed",
       "version_major": 2,
       "version_minor": 0
      },
      "text/plain": [
       "Dropdown(description='Parameter:', index=1, options=('C', 'J', 'Total_Demand', 'd', 'phi'), value='J')"
      ]
     },
     "metadata": {},
     "output_type": "display_data"
    },
    {
     "data": {
      "application/vnd.jupyter.widget-view+json": {
       "model_id": "e118455a630645cf841f2bbc8af11e30",
       "version_major": 2,
       "version_minor": 0
      },
      "text/plain": [
       "Grid(columns_fit='size_to_fit', compress_data=True, export_mode='disabled', height='350px', menu={'buttons': […"
      ]
     },
     "metadata": {},
     "output_type": "display_data"
    }
   ],
   "source": [
    "import ipywidgets as widgets\n",
    "from IPython.display import clear_output\n",
    "current_param = 'J'\n",
    "dropdown = widgets.Dropdown(\n",
    "    options=params_json.keys(),\n",
    "    description='Parameter:',\n",
    "    value=current_param\n",
    ")\n",
    "def change_parameter(change):\n",
    "    clear_output(wait=True)\n",
    "    display(dropdown)\n",
    "    current_param = change.new\n",
    "    df = pd.DataFrame(params_json[current_param])\n",
    "    index_sets = spec.user_defined_parameters[current_param]['index']\n",
    "    df[index_sets] = pd.DataFrame(df[\"index\"].to_list(), columns=index_sets)\n",
    "    df = df.drop('index', axis=1)\n",
    "    for k in index_sets:\n",
    "        if k in lookup.keys():\n",
    "            df[k] = df[k].map(lookup[k]['NAME'])\n",
    "    g = pg.Grid(grid_data=df, grid_options={'columnDefs' : [{'field': c} for c in df.columns]}, show_toggle_edit=True)\n",
    "    display(g)\n",
    "    \n",
    "dropdown.observe(change_parameter, names='value')\n",
    "display(dropdown)\n",
    "df = pd.DataFrame(params_json[current_param])\n",
    "index_sets = spec.user_defined_parameters[current_param]['index']\n",
    "df[index_sets] = pd.DataFrame(df[\"index\"].to_list(), columns=index_sets)\n",
    "df = df.drop('index', axis=1)\n",
    "for k in index_sets:\n",
    "    if k in lookup.keys():\n",
    "        df[k] = df[k].map(lookup[k]['NAME'])\n",
    "g = pg.Grid(grid_data=df, grid_options={'columnDefs' : [{'field': c} for c in df.columns]}, show_toggle_edit=True)\n",
    "display(g)"
   ]
  },
  {
   "cell_type": "code",
   "execution_count": 4,
   "metadata": {},
   "outputs": [
    {
     "data": {
      "text/plain": [
       "{'F_m': ['1f7bbd3e-fcd1-412d-8608-035b855ea735'],\n",
       " 'F_s': [],\n",
       " 'F_t': ['0ace02fa-eca5-482d-a829-c18e46a52db4',\n",
       "  '4ecf1190-7028-4038-89b0-79adeb3e98cc',\n",
       "  '559d5695-102a-4beb-9f7f-3db334c9b51d'],\n",
       " 'D': ['d1'],\n",
       " 'T': ['t1'],\n",
       " 'K': ['k1'],\n",
       " 'P_m': ['f22f5f6e-1bdc-3cb5-8f48-8a04d8f9b768',\n",
       "  'cfc3f58f-7bdf-3019-888b-c4f2dbc332e8',\n",
       "  '760f1858-b0ef-3280-930e-88ebe4645061'],\n",
       " 'P_t': ['44ad59ca-4fe0-394c-a6d9-5dea68783c23',\n",
       "  'f615ae37-fa6d-4a47-958c-23234c986400',\n",
       "  '9106bf8d-869d-425f-b8ee-0bf9a78bcf65',\n",
       "  '97aa2533-ae98-3f8f-b3e2-3acb9d66a010',\n",
       "  'b37252a8-fbb5-47cb-a3aa-1485d090bdfd',\n",
       "  '660ba3fe-d7a5-4c43-8777-27d331934edf',\n",
       "  'fe7d1840-4341-40fd-ba6d-fbba126ca7d3'],\n",
       " 'P_s': [],\n",
       " 'KPI': ['061b7db5-4f56-3368-bf50-9ff0fcc8dd1f'],\n",
       " 'OBJ': ['environment', 'cost'],\n",
       " 'F': [],\n",
       " 'P': []}"
      ]
     },
     "execution_count": 4,
     "metadata": {},
     "output_type": "execute_result"
    }
   ],
   "source": [
    "from pyvis.network import Network\n",
    "import networkx as ns\n",
    "df = pd.DataFrame(params_json['J'])\n",
    "df[index_sets] = pd.DataFrame(df[\"index\"].to_list(), columns=index_sets)\n",
    "df = df.drop('index', axis=1)\n",
    "index_sets = spec.user_defined_parameters['J']['index']\n",
    "node_links = {col: df[col].drop_duplicates().to_list() for col in index_sets}\n",
    "node_links\n",
    "sets_json"
   ]
  },
  {
   "cell_type": "code",
   "execution_count": 5,
   "metadata": {},
   "outputs": [],
   "source": [
    "g = Network(width='100%', heading='Material Transport Network', notebook=True)\n",
    "nodes = sets_json['P_m'] + sets_json['P_t']\n",
    "titles = [lookup['P']['NAME'][n] for n in nodes]\n",
    "titles = [t.replace('|', '\\n') for t in titles]\n",
    "colors = ['#FF9999'  if n in sets_json['P_m'] else '#9999FF' for n in nodes]\n",
    "levels = [0  if n in sets_json['P_m'] else 1 for n in nodes]\n",
    "nodes += ['output']\n",
    "titles += ['output']\n",
    "colors += ['black']\n",
    "levels += [2]\n",
    "#g.add_nodes(nodes, title = titles, color=colors, level=levels)\n",
    "for i in range(len(nodes)):\n",
    "    g.add_node(nodes[i], title=nodes[i], label=titles[i], color=colors[i], level=levels[i], mass=2)"
   ]
  },
  {
   "cell_type": "code",
   "execution_count": 6,
   "metadata": {},
   "outputs": [
    {
     "data": {
      "text/html": [
       "\n",
       "        <iframe\n",
       "            width=\"100%\"\n",
       "            height=\"500px\"\n",
       "            src=\"material_transport_network.html\"\n",
       "            frameborder=\"0\"\n",
       "            allowfullscreen\n",
       "        ></iframe>\n",
       "        "
      ],
      "text/plain": [
       "<IPython.lib.display.IFrame at 0x7f9a96d6d940>"
      ]
     },
     "execution_count": 6,
     "metadata": {},
     "output_type": "execute_result"
    }
   ],
   "source": [
    "edges = []\n",
    "for index, row in df.iterrows():\n",
    "    if row['value']:\n",
    "        g.add_edge(row['P_m'], row['P_t'], title=row['F_m'])\n",
    "        g.add_edge(row['P_t'], 'output', title=row['F_t'])\n",
    "\n",
    "g.set_options(\"\"\"\n",
    "var options = {\n",
    "  \"edges\": {\n",
    "    \"color\": {\n",
    "      \"inherit\": true\n",
    "    },\n",
    "    \"smooth\": false\n",
    "  },\n",
    "  \"layout\": {\n",
    "    \"hierarchical\": {\n",
    "      \"enabled\": true,\n",
    "      \"direction\": \"UD\"\n",
    "    }\n",
    "  },\n",
    "  \"physics\": {\n",
    "    \"hierarchicalRepulsion\": {\n",
    "      \"centralGravity\": 0\n",
    "    },\n",
    "    \"minVelocity\": 0.75,\n",
    "    \"solver\": \"hierarchicalRepulsion\"\n",
    "  }\n",
    "}\n",
    "\"\"\")\n",
    "g.show(\"material_transport_network.html\")\n"
   ]
  },
  {
   "cell_type": "code",
   "execution_count": null,
   "metadata": {},
   "outputs": [],
   "source": []
  },
  {
   "cell_type": "code",
   "execution_count": null,
   "metadata": {},
   "outputs": [],
   "source": []
  }
 ],
 "metadata": {
  "kernelspec": {
   "display_name": "Python 3",
   "language": "python",
   "name": "python3"
  },
  "language_info": {
   "codemirror_mode": {
    "name": "ipython",
    "version": 3
   },
   "file_extension": ".py",
   "mimetype": "text/x-python",
   "name": "python",
   "nbconvert_exporter": "python",
   "pygments_lexer": "ipython3",
   "version": "3.7.3"
  },
  "toc": {
   "base_numbering": 1,
   "nav_menu": {},
   "number_sections": true,
   "sideBar": true,
   "skip_h1_title": false,
   "title_cell": "Table of Contents",
   "title_sidebar": "Contents",
   "toc_cell": false,
   "toc_position": {},
   "toc_section_display": true,
   "toc_window_display": false
  },
  "varInspector": {
   "cols": {
    "lenName": 16,
    "lenType": 16,
    "lenVar": 40
   },
   "kernels_config": {
    "python": {
     "delete_cmd_postfix": "",
     "delete_cmd_prefix": "del ",
     "library": "var_list.py",
     "varRefreshCmd": "print(var_dic_list())"
    },
    "r": {
     "delete_cmd_postfix": ") ",
     "delete_cmd_prefix": "rm(",
     "library": "var_list.r",
     "varRefreshCmd": "cat(var_dic_list()) "
    }
   },
   "types_to_exclude": [
    "module",
    "function",
    "builtin_function_or_method",
    "instance",
    "_Feature"
   ],
   "window_display": false
  }
 },
 "nbformat": 4,
 "nbformat_minor": 4
}
