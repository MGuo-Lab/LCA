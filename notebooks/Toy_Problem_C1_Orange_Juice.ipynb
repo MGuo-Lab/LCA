{
 "cells": [
  {
   "cell_type": "markdown",
   "metadata": {},
   "source": [
    "# Orange Juice Toy Problem C\n",
    "\n",
    "This toy problem illustrates how we can use the abstract model built into the `mola` package in order to solve an optimisation problem based on openLCA data."
   ]
  },
  {
   "cell_type": "markdown",
   "metadata": {},
   "source": [
    "## Problem Statement\n",
    "\n",
    "A citrus fruit juice producer in wishes to produce 100kg of fresh orange juice in either the US, South Africa or RoW. In order to produce the juice, they need to source local oranges and transport them to their local processing plant. It takes 2 kg of oranges produce 1 kg of orange juice. The distance between fruit production and processing plant in each country is shown in the table below. The options for freight transport in each country are diesel train, electric train, 16-32 ton lorry EURO1 and 16-32 ton lorry EURO2. \n",
    "\n",
    "They would like to choose where to produce orange juice and the means of transport of oranges in order to minimise the environmental impact of green house gases.\n",
    "\n",
    "Country | Distance / km\n",
    "-- | --\n",
    "US | 200\n",
    "South Africa | 600\n",
    "RoW | 400\n",
    "\n",
    "Assumptions\n",
    "* The distance travelled is independent of the mode of transport.\n",
    "* The environmental impact of converting oranges to juice is the same in each country.\n",
    "* If relevant openLCA data does not exist then we neither use a proxy nor create a new system process."
   ]
  },
  {
   "cell_type": "markdown",
   "metadata": {},
   "source": [
    "## Specification\n",
    "\n",
    "In this notebook we use the full model to solve the orange juice problem in Problem B using the abstract specification v5.\n",
    "\n"
   ]
  },
  {
   "cell_type": "code",
   "execution_count": 1,
   "metadata": {},
   "outputs": [
    {
     "name": "stdout",
     "output_type": "stream",
     "text": [
      "AP : All processes from in OpenLCA database\n",
      "    Size=0, Index=None, Ordered=Insertion\n",
      "    Not constructed\n"
     ]
    }
   ],
   "source": [
    "import mola.specification5 as ms\n",
    "from importlib import reload\n",
    "spec = ms.ScheduleSpecification()\n",
    "spec.abstract_model.AP.pprint()"
   ]
  },
  {
   "cell_type": "markdown",
   "metadata": {},
   "source": [
    "# User Configuration"
   ]
  },
  {
   "cell_type": "markdown",
   "metadata": {},
   "source": [
    "If there is no existing user set configuration then create a new empty model set configuration with the abstract model specification."
   ]
  },
  {
   "cell_type": "code",
   "execution_count": 2,
   "metadata": {},
   "outputs": [
    {
     "name": "stdout",
     "output_type": "stream",
     "text": [
      "Model sets saved\n"
     ]
    },
    {
     "data": {
      "text/plain": [
       "{'F_m': ['1f7bbd3e-fcd1-412d-8608-035b855ea735'],\n",
       " 'F_s': [],\n",
       " 'F_t': ['0ace02fa-eca5-482d-a829-c18e46a52db4',\n",
       "  '4ecf1190-7028-4038-89b0-79adeb3e98cc',\n",
       "  '559d5695-102a-4beb-9f7f-3db334c9b51d'],\n",
       " 'D': ['d1'],\n",
       " 'T': ['t1'],\n",
       " 'K': ['k1'],\n",
       " 'P_m': ['f22f5f6e-1bdc-3cb5-8f48-8a04d8f9b768',\n",
       "  'cfc3f58f-7bdf-3019-888b-c4f2dbc332e8',\n",
       "  '760f1858-b0ef-3280-930e-88ebe4645061'],\n",
       " 'P_t': ['44ad59ca-4fe0-394c-a6d9-5dea68783c23',\n",
       "  'f615ae37-fa6d-4a47-958c-23234c986400',\n",
       "  '9106bf8d-869d-425f-b8ee-0bf9a78bcf65',\n",
       "  '97aa2533-ae98-3f8f-b3e2-3acb9d66a010',\n",
       "  'b37252a8-fbb5-47cb-a3aa-1485d090bdfd',\n",
       "  '660ba3fe-d7a5-4c43-8777-27d331934edf',\n",
       "  'fe7d1840-4341-40fd-ba6d-fbba126ca7d3'],\n",
       " 'P_s': [],\n",
       " 'KPI': ['061b7db5-4f56-3368-bf50-9ff0fcc8dd1f'],\n",
       " 'OBJ': ['environment', 'cost'],\n",
       " 'F': [],\n",
       " 'P': []}"
      ]
     },
     "execution_count": 2,
     "metadata": {},
     "output_type": "execute_result"
    }
   ],
   "source": [
    "import mola.pyomoio as pyoio\n",
    "model_set_file_name = 'model_set_data.json'\n",
    "user_sets = pyoio.get_model_user_sets(spec, model_set_file_name)\n",
    "user_sets"
   ]
  },
  {
   "cell_type": "markdown",
   "metadata": {},
   "source": [
    "## Sets\n",
    "\n",
    "To configure the model we need lookup tables to select sets. These come from a database so part of the new model configuration is a link to a database."
   ]
  },
  {
   "cell_type": "code",
   "execution_count": 3,
   "metadata": {},
   "outputs": [
    {
     "name": "stdout",
     "output_type": "stream",
     "text": [
      "SELECT \"REF_ID\",\"NAME\" FROM \"TBL_CATEGORIES\"\n",
      "SELECT \"REF_ID\" \"FLOW_REF_ID\",\"NAME\" FROM \"TBL_FLOWS\"\n",
      "SELECT \"TBL_PROCESSES\".\"REF_ID\" \"PROCESS_REF_ID\",\"TBL_PROCESSES\".\"NAME\" \"PROCESS_NAME\",\"TBL_LOCATIONS\".\"NAME\" \"LOCATION_NAME\" FROM \"TBL_PROCESSES\" LEFT JOIN \"TBL_LOCATIONS\" ON CAST(\"TBL_PROCESSES\".\"F_LOCATION\" AS INT)=\"TBL_LOCATIONS\".\"ID\"\n",
      "SELECT \"REF_ID\",\"NAME\" FROM \"TBL_FLOWS\" WHERE \"FLOW_TYPE\"='PRODUCT_FLOW'\n",
      "SELECT \"TBL_IMPACT_METHODS\".\"NAME\" \"method_NAME\",\"TBL_IMPACT_CATEGORIES\".\"REF_ID\" \"REF_ID\",\"TBL_IMPACT_CATEGORIES\".\"NAME\" \"category_NAME\" FROM \"TBL_IMPACT_CATEGORIES\" LEFT JOIN \"TBL_IMPACT_METHODS\" ON \"TBL_IMPACT_CATEGORIES\".\"F_IMPACT_METHOD\"=\"TBL_IMPACT_METHODS\".\"ID\"\n"
     ]
    }
   ],
   "source": [
    "import mola.dataview as dv\n",
    "import mola.dataimport as di\n",
    "import pandas as pd\n",
    "from pyomo.environ import *\n",
    "conn = di.get_sqlite_connection()\n",
    "lookup = dv.get_lookup_tables(conn)"
   ]
  },
  {
   "cell_type": "markdown",
   "metadata": {},
   "source": [
    "We show a widget that loads and saves the user configuration of sets in a tabbed interface. Existing user configuration data is loaded if there is a saved model data file."
   ]
  },
  {
   "cell_type": "code",
   "execution_count": 4,
   "metadata": {},
   "outputs": [
    {
     "data": {
      "application/vnd.jupyter.widget-view+json": {
       "model_id": "024cb8b111bf41d3b26f87eafd68a469",
       "version_major": 2,
       "version_minor": 0
      },
      "text/plain": [
       "VBox(children=(Button(description='Save configuration', style=ButtonStyle()), Tab(children=(AppLayout(children…"
      ]
     },
     "metadata": {},
     "output_type": "display_data"
    }
   ],
   "source": [
    "# any way to distinquish material flows from transport flows in openLCA? fix a group of categories in lookup?\n",
    "import mola.widgets as mw\n",
    "reload(mw)\n",
    "lookups = {'F_m': lookup['flows'], 'P_m': lookup['processes'], 'F_t': lookup['flows'], \n",
    "           'P_t': lookup['processes'], 'F_s': lookup['flows'], \n",
    "           'P_s': lookup['processes'], 'KPI': lookup['KPI']}\n",
    "vbox, tab = mw.get_sets(spec, lookups, model_set_file_name)\n",
    "vbox"
   ]
  },
  {
   "cell_type": "markdown",
   "metadata": {},
   "source": [
    "The content of the json set file is shown below."
   ]
  },
  {
   "cell_type": "code",
   "execution_count": 5,
   "metadata": {},
   "outputs": [
    {
     "data": {
      "text/plain": [
       "{'F_m': ['1f7bbd3e-fcd1-412d-8608-035b855ea735'],\n",
       " 'F_s': [],\n",
       " 'F_t': ['0ace02fa-eca5-482d-a829-c18e46a52db4',\n",
       "  '4ecf1190-7028-4038-89b0-79adeb3e98cc',\n",
       "  '559d5695-102a-4beb-9f7f-3db334c9b51d'],\n",
       " 'D': ['d1'],\n",
       " 'T': ['t1'],\n",
       " 'K': ['k1'],\n",
       " 'P_m': ['f22f5f6e-1bdc-3cb5-8f48-8a04d8f9b768',\n",
       "  'cfc3f58f-7bdf-3019-888b-c4f2dbc332e8',\n",
       "  '760f1858-b0ef-3280-930e-88ebe4645061'],\n",
       " 'P_t': ['44ad59ca-4fe0-394c-a6d9-5dea68783c23',\n",
       "  'f615ae37-fa6d-4a47-958c-23234c986400',\n",
       "  '9106bf8d-869d-425f-b8ee-0bf9a78bcf65',\n",
       "  '97aa2533-ae98-3f8f-b3e2-3acb9d66a010',\n",
       "  'b37252a8-fbb5-47cb-a3aa-1485d090bdfd',\n",
       "  '660ba3fe-d7a5-4c43-8777-27d331934edf',\n",
       "  'fe7d1840-4341-40fd-ba6d-fbba126ca7d3'],\n",
       " 'P_s': [],\n",
       " 'KPI': ['061b7db5-4f56-3368-bf50-9ff0fcc8dd1f'],\n",
       " 'OBJ': ['environment', 'cost'],\n",
       " 'F': [],\n",
       " 'P': []}"
      ]
     },
     "execution_count": 5,
     "metadata": {},
     "output_type": "execute_result"
    }
   ],
   "source": [
    "import json\n",
    "with open(model_set_file_name) as s:\n",
    "    set_data = json.load(s)\n",
    "set_data"
   ]
  },
  {
   "cell_type": "markdown",
   "metadata": {},
   "source": [
    "## Parameters\n",
    "\n",
    "The number of model parameters depends on the elements in the sets. At the moment, there is a DataFrame interface for setting these parameters. The current parameter set held in a file is restored if set combinations in its definition are still applicable."
   ]
  },
  {
   "cell_type": "code",
   "execution_count": 6,
   "metadata": {
    "scrolled": false
   },
   "outputs": [
    {
     "data": {
      "application/vnd.jupyter.widget-view+json": {
       "model_id": "815d004dcf2b41c18bffebcc9b2cd2dc",
       "version_major": 2,
       "version_minor": 0
      },
      "text/plain": [
       "VBox(children=(Box(children=(Button(description='Save configuration', style=ButtonStyle()),)), QgridWidget(gri…"
      ]
     },
     "metadata": {},
     "output_type": "display_data"
    }
   ],
   "source": [
    "import qgrid\n",
    "reload(pyoio)\n",
    "reload(mw)\n",
    "model_parameters_file_name = 'model_parameters_data.json'\n",
    "param_dfr, param_dict = pyoio.get_model_user_parameters(spec, set_data, model_parameters_file_name)\n",
    "mw.get_parameters(param_dfr, model_parameters_file_name)"
   ]
  },
  {
   "cell_type": "markdown",
   "metadata": {},
   "source": [
    "Save the parameters above to the file system to persist any changes before proceeding. For reference here is the contents of the model parameter file."
   ]
  },
  {
   "cell_type": "code",
   "execution_count": 7,
   "metadata": {},
   "outputs": [
    {
     "data": {
      "text/plain": [
       "{'C': [{'index': ['1f7bbd3e-fcd1-412d-8608-035b855ea735', 'k1', 'd1', 't1'],\n",
       "   'value': 0.5}],\n",
       " 'Demand': [{'index': ['d1', 'k1', 't1'], 'value': 0.0}],\n",
       " 'J': [{'index': ['1f7bbd3e-fcd1-412d-8608-035b855ea735',\n",
       "    'f22f5f6e-1bdc-3cb5-8f48-8a04d8f9b768',\n",
       "    '0ace02fa-eca5-482d-a829-c18e46a52db4',\n",
       "    '44ad59ca-4fe0-394c-a6d9-5dea68783c23'],\n",
       "   'value': 0.0},\n",
       "  {'index': ['1f7bbd3e-fcd1-412d-8608-035b855ea735',\n",
       "    'f22f5f6e-1bdc-3cb5-8f48-8a04d8f9b768',\n",
       "    '0ace02fa-eca5-482d-a829-c18e46a52db4',\n",
       "    'f615ae37-fa6d-4a47-958c-23234c986400'],\n",
       "   'value': 0.0},\n",
       "  {'index': ['1f7bbd3e-fcd1-412d-8608-035b855ea735',\n",
       "    'f22f5f6e-1bdc-3cb5-8f48-8a04d8f9b768',\n",
       "    '0ace02fa-eca5-482d-a829-c18e46a52db4',\n",
       "    '9106bf8d-869d-425f-b8ee-0bf9a78bcf65'],\n",
       "   'value': 1.0},\n",
       "  {'index': ['1f7bbd3e-fcd1-412d-8608-035b855ea735',\n",
       "    'f22f5f6e-1bdc-3cb5-8f48-8a04d8f9b768',\n",
       "    '0ace02fa-eca5-482d-a829-c18e46a52db4',\n",
       "    '97aa2533-ae98-3f8f-b3e2-3acb9d66a010'],\n",
       "   'value': 0.0},\n",
       "  {'index': ['1f7bbd3e-fcd1-412d-8608-035b855ea735',\n",
       "    'f22f5f6e-1bdc-3cb5-8f48-8a04d8f9b768',\n",
       "    '0ace02fa-eca5-482d-a829-c18e46a52db4',\n",
       "    'b37252a8-fbb5-47cb-a3aa-1485d090bdfd'],\n",
       "   'value': 1.0},\n",
       "  {'index': ['1f7bbd3e-fcd1-412d-8608-035b855ea735',\n",
       "    'f22f5f6e-1bdc-3cb5-8f48-8a04d8f9b768',\n",
       "    '0ace02fa-eca5-482d-a829-c18e46a52db4',\n",
       "    '660ba3fe-d7a5-4c43-8777-27d331934edf'],\n",
       "   'value': 0.0},\n",
       "  {'index': ['1f7bbd3e-fcd1-412d-8608-035b855ea735',\n",
       "    'f22f5f6e-1bdc-3cb5-8f48-8a04d8f9b768',\n",
       "    '0ace02fa-eca5-482d-a829-c18e46a52db4',\n",
       "    'fe7d1840-4341-40fd-ba6d-fbba126ca7d3'],\n",
       "   'value': 0.0},\n",
       "  {'index': ['1f7bbd3e-fcd1-412d-8608-035b855ea735',\n",
       "    'f22f5f6e-1bdc-3cb5-8f48-8a04d8f9b768',\n",
       "    '4ecf1190-7028-4038-89b0-79adeb3e98cc',\n",
       "    '44ad59ca-4fe0-394c-a6d9-5dea68783c23'],\n",
       "   'value': 0.0},\n",
       "  {'index': ['1f7bbd3e-fcd1-412d-8608-035b855ea735',\n",
       "    'f22f5f6e-1bdc-3cb5-8f48-8a04d8f9b768',\n",
       "    '4ecf1190-7028-4038-89b0-79adeb3e98cc',\n",
       "    'f615ae37-fa6d-4a47-958c-23234c986400'],\n",
       "   'value': 0.0},\n",
       "  {'index': ['1f7bbd3e-fcd1-412d-8608-035b855ea735',\n",
       "    'f22f5f6e-1bdc-3cb5-8f48-8a04d8f9b768',\n",
       "    '4ecf1190-7028-4038-89b0-79adeb3e98cc',\n",
       "    '9106bf8d-869d-425f-b8ee-0bf9a78bcf65'],\n",
       "   'value': 0.0},\n",
       "  {'index': ['1f7bbd3e-fcd1-412d-8608-035b855ea735',\n",
       "    'f22f5f6e-1bdc-3cb5-8f48-8a04d8f9b768',\n",
       "    '4ecf1190-7028-4038-89b0-79adeb3e98cc',\n",
       "    '97aa2533-ae98-3f8f-b3e2-3acb9d66a010'],\n",
       "   'value': 0.0},\n",
       "  {'index': ['1f7bbd3e-fcd1-412d-8608-035b855ea735',\n",
       "    'f22f5f6e-1bdc-3cb5-8f48-8a04d8f9b768',\n",
       "    '4ecf1190-7028-4038-89b0-79adeb3e98cc',\n",
       "    'b37252a8-fbb5-47cb-a3aa-1485d090bdfd'],\n",
       "   'value': 0.0},\n",
       "  {'index': ['1f7bbd3e-fcd1-412d-8608-035b855ea735',\n",
       "    'f22f5f6e-1bdc-3cb5-8f48-8a04d8f9b768',\n",
       "    '4ecf1190-7028-4038-89b0-79adeb3e98cc',\n",
       "    '660ba3fe-d7a5-4c43-8777-27d331934edf'],\n",
       "   'value': 1.0},\n",
       "  {'index': ['1f7bbd3e-fcd1-412d-8608-035b855ea735',\n",
       "    'f22f5f6e-1bdc-3cb5-8f48-8a04d8f9b768',\n",
       "    '4ecf1190-7028-4038-89b0-79adeb3e98cc',\n",
       "    'fe7d1840-4341-40fd-ba6d-fbba126ca7d3'],\n",
       "   'value': 0.0},\n",
       "  {'index': ['1f7bbd3e-fcd1-412d-8608-035b855ea735',\n",
       "    'f22f5f6e-1bdc-3cb5-8f48-8a04d8f9b768',\n",
       "    '559d5695-102a-4beb-9f7f-3db334c9b51d',\n",
       "    '44ad59ca-4fe0-394c-a6d9-5dea68783c23'],\n",
       "   'value': 0.0},\n",
       "  {'index': ['1f7bbd3e-fcd1-412d-8608-035b855ea735',\n",
       "    'f22f5f6e-1bdc-3cb5-8f48-8a04d8f9b768',\n",
       "    '559d5695-102a-4beb-9f7f-3db334c9b51d',\n",
       "    'f615ae37-fa6d-4a47-958c-23234c986400'],\n",
       "   'value': 0.0},\n",
       "  {'index': ['1f7bbd3e-fcd1-412d-8608-035b855ea735',\n",
       "    'f22f5f6e-1bdc-3cb5-8f48-8a04d8f9b768',\n",
       "    '559d5695-102a-4beb-9f7f-3db334c9b51d',\n",
       "    '9106bf8d-869d-425f-b8ee-0bf9a78bcf65'],\n",
       "   'value': 0.0},\n",
       "  {'index': ['1f7bbd3e-fcd1-412d-8608-035b855ea735',\n",
       "    'f22f5f6e-1bdc-3cb5-8f48-8a04d8f9b768',\n",
       "    '559d5695-102a-4beb-9f7f-3db334c9b51d',\n",
       "    '97aa2533-ae98-3f8f-b3e2-3acb9d66a010'],\n",
       "   'value': 0.0},\n",
       "  {'index': ['1f7bbd3e-fcd1-412d-8608-035b855ea735',\n",
       "    'f22f5f6e-1bdc-3cb5-8f48-8a04d8f9b768',\n",
       "    '559d5695-102a-4beb-9f7f-3db334c9b51d',\n",
       "    'b37252a8-fbb5-47cb-a3aa-1485d090bdfd'],\n",
       "   'value': 0.0},\n",
       "  {'index': ['1f7bbd3e-fcd1-412d-8608-035b855ea735',\n",
       "    'f22f5f6e-1bdc-3cb5-8f48-8a04d8f9b768',\n",
       "    '559d5695-102a-4beb-9f7f-3db334c9b51d',\n",
       "    '660ba3fe-d7a5-4c43-8777-27d331934edf'],\n",
       "   'value': 0.0},\n",
       "  {'index': ['1f7bbd3e-fcd1-412d-8608-035b855ea735',\n",
       "    'f22f5f6e-1bdc-3cb5-8f48-8a04d8f9b768',\n",
       "    '559d5695-102a-4beb-9f7f-3db334c9b51d',\n",
       "    'fe7d1840-4341-40fd-ba6d-fbba126ca7d3'],\n",
       "   'value': 1.0},\n",
       "  {'index': ['1f7bbd3e-fcd1-412d-8608-035b855ea735',\n",
       "    'cfc3f58f-7bdf-3019-888b-c4f2dbc332e8',\n",
       "    '0ace02fa-eca5-482d-a829-c18e46a52db4',\n",
       "    '44ad59ca-4fe0-394c-a6d9-5dea68783c23'],\n",
       "   'value': 1.0},\n",
       "  {'index': ['1f7bbd3e-fcd1-412d-8608-035b855ea735',\n",
       "    'cfc3f58f-7bdf-3019-888b-c4f2dbc332e8',\n",
       "    '0ace02fa-eca5-482d-a829-c18e46a52db4',\n",
       "    'f615ae37-fa6d-4a47-958c-23234c986400'],\n",
       "   'value': 0.0},\n",
       "  {'index': ['1f7bbd3e-fcd1-412d-8608-035b855ea735',\n",
       "    'cfc3f58f-7bdf-3019-888b-c4f2dbc332e8',\n",
       "    '0ace02fa-eca5-482d-a829-c18e46a52db4',\n",
       "    '9106bf8d-869d-425f-b8ee-0bf9a78bcf65'],\n",
       "   'value': 0.0},\n",
       "  {'index': ['1f7bbd3e-fcd1-412d-8608-035b855ea735',\n",
       "    'cfc3f58f-7bdf-3019-888b-c4f2dbc332e8',\n",
       "    '0ace02fa-eca5-482d-a829-c18e46a52db4',\n",
       "    '97aa2533-ae98-3f8f-b3e2-3acb9d66a010'],\n",
       "   'value': 0.0},\n",
       "  {'index': ['1f7bbd3e-fcd1-412d-8608-035b855ea735',\n",
       "    'cfc3f58f-7bdf-3019-888b-c4f2dbc332e8',\n",
       "    '0ace02fa-eca5-482d-a829-c18e46a52db4',\n",
       "    'b37252a8-fbb5-47cb-a3aa-1485d090bdfd'],\n",
       "   'value': 0.0},\n",
       "  {'index': ['1f7bbd3e-fcd1-412d-8608-035b855ea735',\n",
       "    'cfc3f58f-7bdf-3019-888b-c4f2dbc332e8',\n",
       "    '0ace02fa-eca5-482d-a829-c18e46a52db4',\n",
       "    '660ba3fe-d7a5-4c43-8777-27d331934edf'],\n",
       "   'value': 0.0},\n",
       "  {'index': ['1f7bbd3e-fcd1-412d-8608-035b855ea735',\n",
       "    'cfc3f58f-7bdf-3019-888b-c4f2dbc332e8',\n",
       "    '0ace02fa-eca5-482d-a829-c18e46a52db4',\n",
       "    'fe7d1840-4341-40fd-ba6d-fbba126ca7d3'],\n",
       "   'value': 0.0},\n",
       "  {'index': ['1f7bbd3e-fcd1-412d-8608-035b855ea735',\n",
       "    'cfc3f58f-7bdf-3019-888b-c4f2dbc332e8',\n",
       "    '4ecf1190-7028-4038-89b0-79adeb3e98cc',\n",
       "    '44ad59ca-4fe0-394c-a6d9-5dea68783c23'],\n",
       "   'value': 0.0},\n",
       "  {'index': ['1f7bbd3e-fcd1-412d-8608-035b855ea735',\n",
       "    'cfc3f58f-7bdf-3019-888b-c4f2dbc332e8',\n",
       "    '4ecf1190-7028-4038-89b0-79adeb3e98cc',\n",
       "    'f615ae37-fa6d-4a47-958c-23234c986400'],\n",
       "   'value': 0.0},\n",
       "  {'index': ['1f7bbd3e-fcd1-412d-8608-035b855ea735',\n",
       "    'cfc3f58f-7bdf-3019-888b-c4f2dbc332e8',\n",
       "    '4ecf1190-7028-4038-89b0-79adeb3e98cc',\n",
       "    '9106bf8d-869d-425f-b8ee-0bf9a78bcf65'],\n",
       "   'value': 0.0},\n",
       "  {'index': ['1f7bbd3e-fcd1-412d-8608-035b855ea735',\n",
       "    'cfc3f58f-7bdf-3019-888b-c4f2dbc332e8',\n",
       "    '4ecf1190-7028-4038-89b0-79adeb3e98cc',\n",
       "    '97aa2533-ae98-3f8f-b3e2-3acb9d66a010'],\n",
       "   'value': 0.0},\n",
       "  {'index': ['1f7bbd3e-fcd1-412d-8608-035b855ea735',\n",
       "    'cfc3f58f-7bdf-3019-888b-c4f2dbc332e8',\n",
       "    '4ecf1190-7028-4038-89b0-79adeb3e98cc',\n",
       "    'b37252a8-fbb5-47cb-a3aa-1485d090bdfd'],\n",
       "   'value': 0.0},\n",
       "  {'index': ['1f7bbd3e-fcd1-412d-8608-035b855ea735',\n",
       "    'cfc3f58f-7bdf-3019-888b-c4f2dbc332e8',\n",
       "    '4ecf1190-7028-4038-89b0-79adeb3e98cc',\n",
       "    '660ba3fe-d7a5-4c43-8777-27d331934edf'],\n",
       "   'value': 0.0},\n",
       "  {'index': ['1f7bbd3e-fcd1-412d-8608-035b855ea735',\n",
       "    'cfc3f58f-7bdf-3019-888b-c4f2dbc332e8',\n",
       "    '4ecf1190-7028-4038-89b0-79adeb3e98cc',\n",
       "    'fe7d1840-4341-40fd-ba6d-fbba126ca7d3'],\n",
       "   'value': 0.0},\n",
       "  {'index': ['1f7bbd3e-fcd1-412d-8608-035b855ea735',\n",
       "    'cfc3f58f-7bdf-3019-888b-c4f2dbc332e8',\n",
       "    '559d5695-102a-4beb-9f7f-3db334c9b51d',\n",
       "    '44ad59ca-4fe0-394c-a6d9-5dea68783c23'],\n",
       "   'value': 0.0},\n",
       "  {'index': ['1f7bbd3e-fcd1-412d-8608-035b855ea735',\n",
       "    'cfc3f58f-7bdf-3019-888b-c4f2dbc332e8',\n",
       "    '559d5695-102a-4beb-9f7f-3db334c9b51d',\n",
       "    'f615ae37-fa6d-4a47-958c-23234c986400'],\n",
       "   'value': 0.0},\n",
       "  {'index': ['1f7bbd3e-fcd1-412d-8608-035b855ea735',\n",
       "    'cfc3f58f-7bdf-3019-888b-c4f2dbc332e8',\n",
       "    '559d5695-102a-4beb-9f7f-3db334c9b51d',\n",
       "    '9106bf8d-869d-425f-b8ee-0bf9a78bcf65'],\n",
       "   'value': 0.0},\n",
       "  {'index': ['1f7bbd3e-fcd1-412d-8608-035b855ea735',\n",
       "    'cfc3f58f-7bdf-3019-888b-c4f2dbc332e8',\n",
       "    '559d5695-102a-4beb-9f7f-3db334c9b51d',\n",
       "    '97aa2533-ae98-3f8f-b3e2-3acb9d66a010'],\n",
       "   'value': 0.0},\n",
       "  {'index': ['1f7bbd3e-fcd1-412d-8608-035b855ea735',\n",
       "    'cfc3f58f-7bdf-3019-888b-c4f2dbc332e8',\n",
       "    '559d5695-102a-4beb-9f7f-3db334c9b51d',\n",
       "    'b37252a8-fbb5-47cb-a3aa-1485d090bdfd'],\n",
       "   'value': 0.0},\n",
       "  {'index': ['1f7bbd3e-fcd1-412d-8608-035b855ea735',\n",
       "    'cfc3f58f-7bdf-3019-888b-c4f2dbc332e8',\n",
       "    '559d5695-102a-4beb-9f7f-3db334c9b51d',\n",
       "    '660ba3fe-d7a5-4c43-8777-27d331934edf'],\n",
       "   'value': 0.0},\n",
       "  {'index': ['1f7bbd3e-fcd1-412d-8608-035b855ea735',\n",
       "    'cfc3f58f-7bdf-3019-888b-c4f2dbc332e8',\n",
       "    '559d5695-102a-4beb-9f7f-3db334c9b51d',\n",
       "    'fe7d1840-4341-40fd-ba6d-fbba126ca7d3'],\n",
       "   'value': 0.0},\n",
       "  {'index': ['1f7bbd3e-fcd1-412d-8608-035b855ea735',\n",
       "    '760f1858-b0ef-3280-930e-88ebe4645061',\n",
       "    '0ace02fa-eca5-482d-a829-c18e46a52db4',\n",
       "    '44ad59ca-4fe0-394c-a6d9-5dea68783c23'],\n",
       "   'value': 0.0},\n",
       "  {'index': ['1f7bbd3e-fcd1-412d-8608-035b855ea735',\n",
       "    '760f1858-b0ef-3280-930e-88ebe4645061',\n",
       "    '0ace02fa-eca5-482d-a829-c18e46a52db4',\n",
       "    'f615ae37-fa6d-4a47-958c-23234c986400'],\n",
       "   'value': 1.0},\n",
       "  {'index': ['1f7bbd3e-fcd1-412d-8608-035b855ea735',\n",
       "    '760f1858-b0ef-3280-930e-88ebe4645061',\n",
       "    '0ace02fa-eca5-482d-a829-c18e46a52db4',\n",
       "    '9106bf8d-869d-425f-b8ee-0bf9a78bcf65'],\n",
       "   'value': 0.0},\n",
       "  {'index': ['1f7bbd3e-fcd1-412d-8608-035b855ea735',\n",
       "    '760f1858-b0ef-3280-930e-88ebe4645061',\n",
       "    '0ace02fa-eca5-482d-a829-c18e46a52db4',\n",
       "    '97aa2533-ae98-3f8f-b3e2-3acb9d66a010'],\n",
       "   'value': 1.0},\n",
       "  {'index': ['1f7bbd3e-fcd1-412d-8608-035b855ea735',\n",
       "    '760f1858-b0ef-3280-930e-88ebe4645061',\n",
       "    '0ace02fa-eca5-482d-a829-c18e46a52db4',\n",
       "    'b37252a8-fbb5-47cb-a3aa-1485d090bdfd'],\n",
       "   'value': 0.0},\n",
       "  {'index': ['1f7bbd3e-fcd1-412d-8608-035b855ea735',\n",
       "    '760f1858-b0ef-3280-930e-88ebe4645061',\n",
       "    '0ace02fa-eca5-482d-a829-c18e46a52db4',\n",
       "    '660ba3fe-d7a5-4c43-8777-27d331934edf'],\n",
       "   'value': 0.0},\n",
       "  {'index': ['1f7bbd3e-fcd1-412d-8608-035b855ea735',\n",
       "    '760f1858-b0ef-3280-930e-88ebe4645061',\n",
       "    '0ace02fa-eca5-482d-a829-c18e46a52db4',\n",
       "    'fe7d1840-4341-40fd-ba6d-fbba126ca7d3'],\n",
       "   'value': 0.0},\n",
       "  {'index': ['1f7bbd3e-fcd1-412d-8608-035b855ea735',\n",
       "    '760f1858-b0ef-3280-930e-88ebe4645061',\n",
       "    '4ecf1190-7028-4038-89b0-79adeb3e98cc',\n",
       "    '44ad59ca-4fe0-394c-a6d9-5dea68783c23'],\n",
       "   'value': 0.0},\n",
       "  {'index': ['1f7bbd3e-fcd1-412d-8608-035b855ea735',\n",
       "    '760f1858-b0ef-3280-930e-88ebe4645061',\n",
       "    '4ecf1190-7028-4038-89b0-79adeb3e98cc',\n",
       "    'f615ae37-fa6d-4a47-958c-23234c986400'],\n",
       "   'value': 0.0},\n",
       "  {'index': ['1f7bbd3e-fcd1-412d-8608-035b855ea735',\n",
       "    '760f1858-b0ef-3280-930e-88ebe4645061',\n",
       "    '4ecf1190-7028-4038-89b0-79adeb3e98cc',\n",
       "    '9106bf8d-869d-425f-b8ee-0bf9a78bcf65'],\n",
       "   'value': 0.0},\n",
       "  {'index': ['1f7bbd3e-fcd1-412d-8608-035b855ea735',\n",
       "    '760f1858-b0ef-3280-930e-88ebe4645061',\n",
       "    '4ecf1190-7028-4038-89b0-79adeb3e98cc',\n",
       "    '97aa2533-ae98-3f8f-b3e2-3acb9d66a010'],\n",
       "   'value': 0.0},\n",
       "  {'index': ['1f7bbd3e-fcd1-412d-8608-035b855ea735',\n",
       "    '760f1858-b0ef-3280-930e-88ebe4645061',\n",
       "    '4ecf1190-7028-4038-89b0-79adeb3e98cc',\n",
       "    'b37252a8-fbb5-47cb-a3aa-1485d090bdfd'],\n",
       "   'value': 0.0},\n",
       "  {'index': ['1f7bbd3e-fcd1-412d-8608-035b855ea735',\n",
       "    '760f1858-b0ef-3280-930e-88ebe4645061',\n",
       "    '4ecf1190-7028-4038-89b0-79adeb3e98cc',\n",
       "    '660ba3fe-d7a5-4c43-8777-27d331934edf'],\n",
       "   'value': 0.0},\n",
       "  {'index': ['1f7bbd3e-fcd1-412d-8608-035b855ea735',\n",
       "    '760f1858-b0ef-3280-930e-88ebe4645061',\n",
       "    '4ecf1190-7028-4038-89b0-79adeb3e98cc',\n",
       "    'fe7d1840-4341-40fd-ba6d-fbba126ca7d3'],\n",
       "   'value': 0.0},\n",
       "  {'index': ['1f7bbd3e-fcd1-412d-8608-035b855ea735',\n",
       "    '760f1858-b0ef-3280-930e-88ebe4645061',\n",
       "    '559d5695-102a-4beb-9f7f-3db334c9b51d',\n",
       "    '44ad59ca-4fe0-394c-a6d9-5dea68783c23'],\n",
       "   'value': 0.0},\n",
       "  {'index': ['1f7bbd3e-fcd1-412d-8608-035b855ea735',\n",
       "    '760f1858-b0ef-3280-930e-88ebe4645061',\n",
       "    '559d5695-102a-4beb-9f7f-3db334c9b51d',\n",
       "    'f615ae37-fa6d-4a47-958c-23234c986400'],\n",
       "   'value': 0.0},\n",
       "  {'index': ['1f7bbd3e-fcd1-412d-8608-035b855ea735',\n",
       "    '760f1858-b0ef-3280-930e-88ebe4645061',\n",
       "    '559d5695-102a-4beb-9f7f-3db334c9b51d',\n",
       "    '9106bf8d-869d-425f-b8ee-0bf9a78bcf65'],\n",
       "   'value': 0.0},\n",
       "  {'index': ['1f7bbd3e-fcd1-412d-8608-035b855ea735',\n",
       "    '760f1858-b0ef-3280-930e-88ebe4645061',\n",
       "    '559d5695-102a-4beb-9f7f-3db334c9b51d',\n",
       "    '97aa2533-ae98-3f8f-b3e2-3acb9d66a010'],\n",
       "   'value': 0.0},\n",
       "  {'index': ['1f7bbd3e-fcd1-412d-8608-035b855ea735',\n",
       "    '760f1858-b0ef-3280-930e-88ebe4645061',\n",
       "    '559d5695-102a-4beb-9f7f-3db334c9b51d',\n",
       "    'b37252a8-fbb5-47cb-a3aa-1485d090bdfd'],\n",
       "   'value': 0.0},\n",
       "  {'index': ['1f7bbd3e-fcd1-412d-8608-035b855ea735',\n",
       "    '760f1858-b0ef-3280-930e-88ebe4645061',\n",
       "    '559d5695-102a-4beb-9f7f-3db334c9b51d',\n",
       "    '660ba3fe-d7a5-4c43-8777-27d331934edf'],\n",
       "   'value': 0.0},\n",
       "  {'index': ['1f7bbd3e-fcd1-412d-8608-035b855ea735',\n",
       "    '760f1858-b0ef-3280-930e-88ebe4645061',\n",
       "    '559d5695-102a-4beb-9f7f-3db334c9b51d',\n",
       "    'fe7d1840-4341-40fd-ba6d-fbba126ca7d3'],\n",
       "   'value': 0.0}],\n",
       " 'Total_Demand': [{'index': ['d1', 'k1'], 'value': 100.0}],\n",
       " 'd': [{'index': ['f22f5f6e-1bdc-3cb5-8f48-8a04d8f9b768',\n",
       "    '1f7bbd3e-fcd1-412d-8608-035b855ea735',\n",
       "    'k1',\n",
       "    't1'],\n",
       "   'value': 600.0},\n",
       "  {'index': ['cfc3f58f-7bdf-3019-888b-c4f2dbc332e8',\n",
       "    '1f7bbd3e-fcd1-412d-8608-035b855ea735',\n",
       "    'k1',\n",
       "    't1'],\n",
       "   'value': 200.0},\n",
       "  {'index': ['760f1858-b0ef-3280-930e-88ebe4645061',\n",
       "    '1f7bbd3e-fcd1-412d-8608-035b855ea735',\n",
       "    'k1',\n",
       "    't1'],\n",
       "   'value': 400.0}],\n",
       " 'w': [{'index': ['environment'], 'value': 1.0},\n",
       "  {'index': ['cost'], 'value': 0.0}]}"
      ]
     },
     "execution_count": 7,
     "metadata": {},
     "output_type": "execute_result"
    }
   ],
   "source": [
    "with open(model_parameters_file_name) as fp:\n",
    "    params_json = json.load(fp)\n",
    "params_json"
   ]
  },
  {
   "cell_type": "markdown",
   "metadata": {},
   "source": [
    "# Model Build\n",
    "\n",
    "To build the model we need to calculate the environmental impacts for each flow, process and KPI from the database. This is done as part in the `populate` method."
   ]
  },
  {
   "cell_type": "code",
   "execution_count": 8,
   "metadata": {},
   "outputs": [
    {
     "name": "stdout",
     "output_type": "stream",
     "text": [
      "F_m : Material flows to optimise\n",
      "    Size=1, Index=None, Ordered=Insertion\n",
      "    Key  : Dimen : Domain : Size : Members\n",
      "    None :     1 :    Any :    1 : {'1f7bbd3e-fcd1-412d-8608-035b855ea735',}\n"
     ]
    }
   ],
   "source": [
    "json_files = ['model_set_data.json', model_parameters_file_name]\n",
    "#model_instance = spec.populate(db_file, json_files, elementary_flow_ref_ids=['e1', 'e2'])\n",
    "model_instance = spec.populate(json_files)\n",
    "model_instance.F_m.pprint()"
   ]
  },
  {
   "cell_type": "markdown",
   "metadata": {},
   "source": [
    "In the following sections we illustrate how the problem data has populated the abstract model to generate a concrete model instance."
   ]
  },
  {
   "cell_type": "markdown",
   "metadata": {},
   "source": [
    "## Sets"
   ]
  },
  {
   "cell_type": "code",
   "execution_count": 9,
   "metadata": {},
   "outputs": [
    {
     "data": {
      "text/html": [
       "<div>\n",
       "<style scoped>\n",
       "    .dataframe tbody tr th:only-of-type {\n",
       "        vertical-align: middle;\n",
       "    }\n",
       "\n",
       "    .dataframe tbody tr th {\n",
       "        vertical-align: top;\n",
       "    }\n",
       "\n",
       "    .dataframe thead th {\n",
       "        text-align: right;\n",
       "    }\n",
       "</style>\n",
       "<table border=\"1\" class=\"dataframe\">\n",
       "  <thead>\n",
       "    <tr style=\"text-align: right;\">\n",
       "      <th></th>\n",
       "      <th>Set</th>\n",
       "      <th>Description</th>\n",
       "      <th>Number of elements</th>\n",
       "    </tr>\n",
       "  </thead>\n",
       "  <tbody>\n",
       "    <tr>\n",
       "      <th>0</th>\n",
       "      <td>P_m</td>\n",
       "      <td>Processes producing material flows in the opti...</td>\n",
       "      <td>3</td>\n",
       "    </tr>\n",
       "    <tr>\n",
       "      <th>1</th>\n",
       "      <td>P_t</td>\n",
       "      <td>Processes producing transport flows in the opt...</td>\n",
       "      <td>7</td>\n",
       "    </tr>\n",
       "    <tr>\n",
       "      <th>2</th>\n",
       "      <td>P_s</td>\n",
       "      <td>Processes producing service flows in the optim...</td>\n",
       "      <td>0</td>\n",
       "    </tr>\n",
       "    <tr>\n",
       "      <th>3</th>\n",
       "      <td>F_m</td>\n",
       "      <td>Material flows to optimise</td>\n",
       "      <td>1</td>\n",
       "    </tr>\n",
       "    <tr>\n",
       "      <th>4</th>\n",
       "      <td>F_t</td>\n",
       "      <td>Transport flows to optimise</td>\n",
       "      <td>3</td>\n",
       "    </tr>\n",
       "    <tr>\n",
       "      <th>5</th>\n",
       "      <td>F_s</td>\n",
       "      <td>Service flows to optimise</td>\n",
       "      <td>0</td>\n",
       "    </tr>\n",
       "    <tr>\n",
       "      <th>6</th>\n",
       "      <td>T</td>\n",
       "      <td>Time intervals</td>\n",
       "      <td>1</td>\n",
       "    </tr>\n",
       "    <tr>\n",
       "      <th>7</th>\n",
       "      <td>K</td>\n",
       "      <td>Tasks</td>\n",
       "      <td>1</td>\n",
       "    </tr>\n",
       "    <tr>\n",
       "      <th>8</th>\n",
       "      <td>D</td>\n",
       "      <td>Demands</td>\n",
       "      <td>1</td>\n",
       "    </tr>\n",
       "    <tr>\n",
       "      <th>9</th>\n",
       "      <td>KPI</td>\n",
       "      <td>Performance indicators for optimisation problem</td>\n",
       "      <td>1</td>\n",
       "    </tr>\n",
       "    <tr>\n",
       "      <th>10</th>\n",
       "      <td>F_index_0</td>\n",
       "      <td>None</td>\n",
       "      <td>4</td>\n",
       "    </tr>\n",
       "    <tr>\n",
       "      <th>11</th>\n",
       "      <td>F</td>\n",
       "      <td>None</td>\n",
       "      <td>4</td>\n",
       "    </tr>\n",
       "    <tr>\n",
       "      <th>12</th>\n",
       "      <td>P_index_0</td>\n",
       "      <td>None</td>\n",
       "      <td>10</td>\n",
       "    </tr>\n",
       "    <tr>\n",
       "      <th>13</th>\n",
       "      <td>P</td>\n",
       "      <td>None</td>\n",
       "      <td>10</td>\n",
       "    </tr>\n",
       "    <tr>\n",
       "      <th>14</th>\n",
       "      <td>OBJ</td>\n",
       "      <td>Set of objective functions</td>\n",
       "      <td>2</td>\n",
       "    </tr>\n",
       "    <tr>\n",
       "      <th>15</th>\n",
       "      <td>AF</td>\n",
       "      <td>All flows in openLCA database</td>\n",
       "      <td>7033</td>\n",
       "    </tr>\n",
       "    <tr>\n",
       "      <th>16</th>\n",
       "      <td>E</td>\n",
       "      <td>Elementary Flows in OpenLCA database</td>\n",
       "      <td>3930</td>\n",
       "    </tr>\n",
       "    <tr>\n",
       "      <th>17</th>\n",
       "      <td>AP</td>\n",
       "      <td>All processes from in OpenLCA database</td>\n",
       "      <td>18268</td>\n",
       "    </tr>\n",
       "    <tr>\n",
       "      <th>18</th>\n",
       "      <td>AKPI</td>\n",
       "      <td>All key performance indicators in an openLCA d...</td>\n",
       "      <td>878</td>\n",
       "    </tr>\n",
       "    <tr>\n",
       "      <th>19</th>\n",
       "      <td>C_index</td>\n",
       "      <td>None</td>\n",
       "      <td>1</td>\n",
       "    </tr>\n",
       "    <tr>\n",
       "      <th>20</th>\n",
       "      <td>Demand_index</td>\n",
       "      <td>None</td>\n",
       "      <td>1</td>\n",
       "    </tr>\n",
       "    <tr>\n",
       "      <th>21</th>\n",
       "      <td>Total_Demand_index</td>\n",
       "      <td>None</td>\n",
       "      <td>1</td>\n",
       "    </tr>\n",
       "    <tr>\n",
       "      <th>22</th>\n",
       "      <td>L_index</td>\n",
       "      <td>None</td>\n",
       "      <td>0</td>\n",
       "    </tr>\n",
       "    <tr>\n",
       "      <th>23</th>\n",
       "      <td>X_index</td>\n",
       "      <td>None</td>\n",
       "      <td>1</td>\n",
       "    </tr>\n",
       "    <tr>\n",
       "      <th>24</th>\n",
       "      <td>Y_index</td>\n",
       "      <td>None</td>\n",
       "      <td>1</td>\n",
       "    </tr>\n",
       "    <tr>\n",
       "      <th>25</th>\n",
       "      <td>d_index</td>\n",
       "      <td>None</td>\n",
       "      <td>10</td>\n",
       "    </tr>\n",
       "    <tr>\n",
       "      <th>26</th>\n",
       "      <td>J_index</td>\n",
       "      <td>None</td>\n",
       "      <td>63</td>\n",
       "    </tr>\n",
       "    <tr>\n",
       "      <th>27</th>\n",
       "      <td>Ef_index</td>\n",
       "      <td>None</td>\n",
       "      <td>3930</td>\n",
       "    </tr>\n",
       "    <tr>\n",
       "      <th>28</th>\n",
       "      <td>EF_index</td>\n",
       "      <td>None</td>\n",
       "      <td>157200</td>\n",
       "    </tr>\n",
       "    <tr>\n",
       "      <th>29</th>\n",
       "      <td>phi_index</td>\n",
       "      <td>None</td>\n",
       "      <td>40</td>\n",
       "    </tr>\n",
       "    <tr>\n",
       "      <th>30</th>\n",
       "      <td>EI_index</td>\n",
       "      <td>None</td>\n",
       "      <td>40</td>\n",
       "    </tr>\n",
       "    <tr>\n",
       "      <th>31</th>\n",
       "      <td>XI_index</td>\n",
       "      <td>None</td>\n",
       "      <td>3</td>\n",
       "    </tr>\n",
       "    <tr>\n",
       "      <th>32</th>\n",
       "      <td>YI_index</td>\n",
       "      <td>None</td>\n",
       "      <td>3</td>\n",
       "    </tr>\n",
       "    <tr>\n",
       "      <th>33</th>\n",
       "      <td>dd_index</td>\n",
       "      <td>None</td>\n",
       "      <td>3</td>\n",
       "    </tr>\n",
       "    <tr>\n",
       "      <th>34</th>\n",
       "      <td>Flow_index</td>\n",
       "      <td>None</td>\n",
       "      <td>3</td>\n",
       "    </tr>\n",
       "    <tr>\n",
       "      <th>35</th>\n",
       "      <td>Storage_Service_Flow_index</td>\n",
       "      <td>None</td>\n",
       "      <td>40</td>\n",
       "    </tr>\n",
       "    <tr>\n",
       "      <th>36</th>\n",
       "      <td>Specific_Material_Transport_Flow_index</td>\n",
       "      <td>None</td>\n",
       "      <td>63</td>\n",
       "    </tr>\n",
       "    <tr>\n",
       "      <th>37</th>\n",
       "      <td>Specific_Transport_Flow_index</td>\n",
       "      <td>None</td>\n",
       "      <td>21</td>\n",
       "    </tr>\n",
       "    <tr>\n",
       "      <th>38</th>\n",
       "      <td>Demand_Selection_index</td>\n",
       "      <td>None</td>\n",
       "      <td>1</td>\n",
       "    </tr>\n",
       "    <tr>\n",
       "      <th>39</th>\n",
       "      <td>total_demand_constraint_index</td>\n",
       "      <td>None</td>\n",
       "      <td>1</td>\n",
       "    </tr>\n",
       "    <tr>\n",
       "      <th>40</th>\n",
       "      <td>material_flow_constraint_index</td>\n",
       "      <td>None</td>\n",
       "      <td>3</td>\n",
       "    </tr>\n",
       "    <tr>\n",
       "      <th>41</th>\n",
       "      <td>transport_constraint_index</td>\n",
       "      <td>None</td>\n",
       "      <td>21</td>\n",
       "    </tr>\n",
       "    <tr>\n",
       "      <th>42</th>\n",
       "      <td>demand_selection_constraint_index</td>\n",
       "      <td>None</td>\n",
       "      <td>1</td>\n",
       "    </tr>\n",
       "    <tr>\n",
       "      <th>43</th>\n",
       "      <td>specific_demand_constraint_index</td>\n",
       "      <td>None</td>\n",
       "      <td>1</td>\n",
       "    </tr>\n",
       "    <tr>\n",
       "      <th>44</th>\n",
       "      <td>service_flow_link_constraint_index</td>\n",
       "      <td>None</td>\n",
       "      <td>0</td>\n",
       "    </tr>\n",
       "  </tbody>\n",
       "</table>\n",
       "</div>"
      ],
      "text/plain": [
       "                                       Set  \\\n",
       "0                                      P_m   \n",
       "1                                      P_t   \n",
       "2                                      P_s   \n",
       "3                                      F_m   \n",
       "4                                      F_t   \n",
       "5                                      F_s   \n",
       "6                                        T   \n",
       "7                                        K   \n",
       "8                                        D   \n",
       "9                                      KPI   \n",
       "10                               F_index_0   \n",
       "11                                       F   \n",
       "12                               P_index_0   \n",
       "13                                       P   \n",
       "14                                     OBJ   \n",
       "15                                      AF   \n",
       "16                                       E   \n",
       "17                                      AP   \n",
       "18                                    AKPI   \n",
       "19                                 C_index   \n",
       "20                            Demand_index   \n",
       "21                      Total_Demand_index   \n",
       "22                                 L_index   \n",
       "23                                 X_index   \n",
       "24                                 Y_index   \n",
       "25                                 d_index   \n",
       "26                                 J_index   \n",
       "27                                Ef_index   \n",
       "28                                EF_index   \n",
       "29                               phi_index   \n",
       "30                                EI_index   \n",
       "31                                XI_index   \n",
       "32                                YI_index   \n",
       "33                                dd_index   \n",
       "34                              Flow_index   \n",
       "35              Storage_Service_Flow_index   \n",
       "36  Specific_Material_Transport_Flow_index   \n",
       "37           Specific_Transport_Flow_index   \n",
       "38                  Demand_Selection_index   \n",
       "39           total_demand_constraint_index   \n",
       "40          material_flow_constraint_index   \n",
       "41              transport_constraint_index   \n",
       "42       demand_selection_constraint_index   \n",
       "43        specific_demand_constraint_index   \n",
       "44      service_flow_link_constraint_index   \n",
       "\n",
       "                                          Description  Number of elements  \n",
       "0   Processes producing material flows in the opti...                   3  \n",
       "1   Processes producing transport flows in the opt...                   7  \n",
       "2   Processes producing service flows in the optim...                   0  \n",
       "3                          Material flows to optimise                   1  \n",
       "4                         Transport flows to optimise                   3  \n",
       "5                           Service flows to optimise                   0  \n",
       "6                                      Time intervals                   1  \n",
       "7                                               Tasks                   1  \n",
       "8                                             Demands                   1  \n",
       "9     Performance indicators for optimisation problem                   1  \n",
       "10                                               None                   4  \n",
       "11                                               None                   4  \n",
       "12                                               None                  10  \n",
       "13                                               None                  10  \n",
       "14                         Set of objective functions                   2  \n",
       "15                      All flows in openLCA database                7033  \n",
       "16               Elementary Flows in OpenLCA database                3930  \n",
       "17             All processes from in OpenLCA database               18268  \n",
       "18  All key performance indicators in an openLCA d...                 878  \n",
       "19                                               None                   1  \n",
       "20                                               None                   1  \n",
       "21                                               None                   1  \n",
       "22                                               None                   0  \n",
       "23                                               None                   1  \n",
       "24                                               None                   1  \n",
       "25                                               None                  10  \n",
       "26                                               None                  63  \n",
       "27                                               None                3930  \n",
       "28                                               None              157200  \n",
       "29                                               None                  40  \n",
       "30                                               None                  40  \n",
       "31                                               None                   3  \n",
       "32                                               None                   3  \n",
       "33                                               None                   3  \n",
       "34                                               None                   3  \n",
       "35                                               None                  40  \n",
       "36                                               None                  63  \n",
       "37                                               None                  21  \n",
       "38                                               None                   1  \n",
       "39                                               None                   1  \n",
       "40                                               None                   3  \n",
       "41                                               None                  21  \n",
       "42                                               None                   1  \n",
       "43                                               None                   1  \n",
       "44                                               None                   0  "
      ]
     },
     "execution_count": 9,
     "metadata": {},
     "output_type": "execute_result"
    }
   ],
   "source": [
    "sets_dfr = pd.DataFrame(\n",
    "    ([v.name, v.doc, len(v)] for v in model_instance.component_objects(Set, active=True)),\n",
    "    columns=['Set', 'Description', 'Number of elements']\n",
    ")\n",
    "sets_dfr"
   ]
  },
  {
   "cell_type": "markdown",
   "metadata": {},
   "source": [
    "## Parameters"
   ]
  },
  {
   "cell_type": "code",
   "execution_count": 10,
   "metadata": {},
   "outputs": [
    {
     "data": {
      "application/vnd.jupyter.widget-view+json": {
       "model_id": "a9e2d6ec1cce4f8fa7d5c3478f635624",
       "version_major": 2,
       "version_minor": 0
      },
      "text/plain": [
       "QgridWidget(grid_options={'fullWidthRows': True, 'syncColumnCellResize': True, 'forceFitColumns': True, 'defau…"
      ]
     },
     "metadata": {},
     "output_type": "display_data"
    }
   ],
   "source": [
    "param_dfr = pd.DataFrame(\n",
    "    ([o.name, o.doc, len(o), [index for index in o], [value(o[index]) for index in o]] for o in model_instance.component_objects(Param, active=True)),\n",
    "    columns=['Param', 'Description', 'Number of elements', 'Dimension', 'Value']\n",
    ")\n",
    "qgrid.show_grid(param_dfr)"
   ]
  },
  {
   "cell_type": "markdown",
   "metadata": {},
   "source": [
    "## Constraints"
   ]
  },
  {
   "cell_type": "code",
   "execution_count": 11,
   "metadata": {},
   "outputs": [
    {
     "data": {
      "application/vnd.jupyter.widget-view+json": {
       "model_id": "c5f44e5f7c1847c585ffaa4e41e9a198",
       "version_major": 2,
       "version_minor": 0
      },
      "text/plain": [
       "QgridWidget(grid_options={'fullWidthRows': True, 'syncColumnCellResize': True, 'forceFitColumns': True, 'defau…"
      ]
     },
     "metadata": {},
     "output_type": "display_data"
    }
   ],
   "source": [
    "import qgrid\n",
    "dfr = pd.DataFrame(\n",
    "    ([v.name, v.expr] for v in model_instance.component_data_objects(Constraint, active=True)),\n",
    "    columns=['Constraint', 'Expression']\n",
    ")\n",
    "qgrid.show_grid(dfr)"
   ]
  },
  {
   "cell_type": "code",
   "execution_count": 12,
   "metadata": {},
   "outputs": [
    {
     "name": "stdout",
     "output_type": "stream",
     "text": [
      "total_demand_constraint[d1,k1]\n",
      "Total_Demand[d1,k1]  <=  C[1f7bbd3e-fcd1-412d-8608-035b855ea735,k1,d1,t1]*Flow[1f7bbd3e-fcd1-412d-8608-035b855ea735,f22f5f6e-1bdc-3cb5-8f48-8a04d8f9b768,k1,t1] + C[1f7bbd3e-fcd1-412d-8608-035b855ea735,k1,d1,t1]*Flow[1f7bbd3e-fcd1-412d-8608-035b855ea735,cfc3f58f-7bdf-3019-888b-c4f2dbc332e8,k1,t1] + C[1f7bbd3e-fcd1-412d-8608-035b855ea735,k1,d1,t1]*Flow[1f7bbd3e-fcd1-412d-8608-035b855ea735,760f1858-b0ef-3280-930e-88ebe4645061,k1,t1]\n"
     ]
    }
   ],
   "source": [
    "print(dfr.iloc[0,0])\n",
    "print(dfr.iloc[0,1])"
   ]
  },
  {
   "cell_type": "markdown",
   "metadata": {},
   "source": [
    "## Objectives"
   ]
  },
  {
   "cell_type": "code",
   "execution_count": 13,
   "metadata": {},
   "outputs": [
    {
     "data": {
      "application/vnd.jupyter.widget-view+json": {
       "model_id": "31e34c79960b4a4ab6f9f66a6f9fe1b1",
       "version_major": 2,
       "version_minor": 0
      },
      "text/plain": [
       "QgridWidget(grid_options={'fullWidthRows': True, 'syncColumnCellResize': True, 'forceFitColumns': True, 'defau…"
      ]
     },
     "metadata": {},
     "output_type": "display_data"
    }
   ],
   "source": [
    "dfr = pd.DataFrame(\n",
    "    ([v.name, v.expr] for v in model_instance.component_data_objects(Objective, active=True)),\n",
    "    columns=['Objective', 'Expression']\n",
    ")\n",
    "\n",
    "qgrid.show_grid(dfr)"
   ]
  },
  {
   "cell_type": "markdown",
   "metadata": {},
   "source": [
    "# Solver\n",
    "\n",
    "We need to activate an objective or form a weighted sum of objectives. For the orange problem we just need the first objective of minimising the environmental impact."
   ]
  },
  {
   "cell_type": "code",
   "execution_count": 14,
   "metadata": {},
   "outputs": [],
   "source": [
    "model_instance.obj1.activate()\n",
    "model_instance.obj2.deactivate()\n",
    "model_instance.obj.deactivate()"
   ]
  },
  {
   "cell_type": "code",
   "execution_count": 15,
   "metadata": {},
   "outputs": [
    {
     "name": "stdout",
     "output_type": "stream",
     "text": [
      "# ==========================================================\n",
      "# = Solver Results                                         =\n",
      "# ==========================================================\n",
      "# ----------------------------------------------------------\n",
      "#   Problem Information\n",
      "# ----------------------------------------------------------\n",
      "Problem: \n",
      "- Name: unknown\n",
      "  Lower bound: 2235.00606936757\n",
      "  Upper bound: 2235.00606936757\n",
      "  Number of objectives: 1\n",
      "  Number of constraints: 28\n",
      "  Number of variables: 33\n",
      "  Number of nonzeros: 46\n",
      "  Sense: minimize\n",
      "# ----------------------------------------------------------\n",
      "#   Solver Information\n",
      "# ----------------------------------------------------------\n",
      "Solver: \n",
      "- Status: ok\n",
      "  Termination condition: optimal\n",
      "  Statistics: \n",
      "    Branch and bound: \n",
      "      Number of bounded subproblems: 1\n",
      "      Number of created subproblems: 1\n",
      "  Error rc: 0\n",
      "  Time: 0.020490169525146484\n",
      "# ----------------------------------------------------------\n",
      "#   Solution Information\n",
      "# ----------------------------------------------------------\n",
      "Solution: \n",
      "- number of solutions: 0\n",
      "  number of solutions displayed: 0\n"
     ]
    }
   ],
   "source": [
    "opt = SolverFactory(\"glpk\")\n",
    "results = opt.solve(model_instance)\n",
    "results.write()"
   ]
  },
  {
   "cell_type": "markdown",
   "metadata": {},
   "source": [
    "The variable output is shown below"
   ]
  },
  {
   "cell_type": "code",
   "execution_count": 16,
   "metadata": {},
   "outputs": [
    {
     "name": "stdout",
     "output_type": "stream",
     "text": [
      "Flow : Material flow\n",
      "    Size=3, Index=Flow_index\n",
      "    Key                                                                                          : Lower : Value : Upper : Fixed : Stale : Domain\n",
      "    ('1f7bbd3e-fcd1-412d-8608-035b855ea735', '760f1858-b0ef-3280-930e-88ebe4645061', 'k1', 't1') :     0 :   0.0 :  None : False : False : NonNegativeReals\n",
      "    ('1f7bbd3e-fcd1-412d-8608-035b855ea735', 'cfc3f58f-7bdf-3019-888b-c4f2dbc332e8', 'k1', 't1') :     0 : 200.0 :  None : False : False : NonNegativeReals\n",
      "    ('1f7bbd3e-fcd1-412d-8608-035b855ea735', 'f22f5f6e-1bdc-3cb5-8f48-8a04d8f9b768', 'k1', 't1') :     0 :   0.0 :  None : False : False : NonNegativeReals\n"
     ]
    }
   ],
   "source": [
    "model_instance.Flow.pprint()"
   ]
  },
  {
   "cell_type": "code",
   "execution_count": 17,
   "metadata": {},
   "outputs": [
    {
     "name": "stdout",
     "output_type": "stream",
     "text": [
      "Specific_Material_Transport_Flow : Specific Material Transport Flow\n",
      "    Size=63, Index=Specific_Material_Transport_Flow_index\n",
      "    Key                                                                                                                                                                          : Lower : Value : Upper : Fixed : Stale : Domain\n",
      "    ('1f7bbd3e-fcd1-412d-8608-035b855ea735', '760f1858-b0ef-3280-930e-88ebe4645061', '0ace02fa-eca5-482d-a829-c18e46a52db4', '44ad59ca-4fe0-394c-a6d9-5dea68783c23', 'k1', 't1') :     0 :  None :  None : False :  True : NonNegativeReals\n",
      "    ('1f7bbd3e-fcd1-412d-8608-035b855ea735', '760f1858-b0ef-3280-930e-88ebe4645061', '0ace02fa-eca5-482d-a829-c18e46a52db4', '660ba3fe-d7a5-4c43-8777-27d331934edf', 'k1', 't1') :     0 :  None :  None : False :  True : NonNegativeReals\n",
      "    ('1f7bbd3e-fcd1-412d-8608-035b855ea735', '760f1858-b0ef-3280-930e-88ebe4645061', '0ace02fa-eca5-482d-a829-c18e46a52db4', '9106bf8d-869d-425f-b8ee-0bf9a78bcf65', 'k1', 't1') :     0 :  None :  None : False :  True : NonNegativeReals\n",
      "    ('1f7bbd3e-fcd1-412d-8608-035b855ea735', '760f1858-b0ef-3280-930e-88ebe4645061', '0ace02fa-eca5-482d-a829-c18e46a52db4', '97aa2533-ae98-3f8f-b3e2-3acb9d66a010', 'k1', 't1') :     0 :  -0.0 :  None : False : False : NonNegativeReals\n",
      "    ('1f7bbd3e-fcd1-412d-8608-035b855ea735', '760f1858-b0ef-3280-930e-88ebe4645061', '0ace02fa-eca5-482d-a829-c18e46a52db4', 'b37252a8-fbb5-47cb-a3aa-1485d090bdfd', 'k1', 't1') :     0 :  None :  None : False :  True : NonNegativeReals\n",
      "    ('1f7bbd3e-fcd1-412d-8608-035b855ea735', '760f1858-b0ef-3280-930e-88ebe4645061', '0ace02fa-eca5-482d-a829-c18e46a52db4', 'f615ae37-fa6d-4a47-958c-23234c986400', 'k1', 't1') :     0 :   0.0 :  None : False : False : NonNegativeReals\n",
      "    ('1f7bbd3e-fcd1-412d-8608-035b855ea735', '760f1858-b0ef-3280-930e-88ebe4645061', '0ace02fa-eca5-482d-a829-c18e46a52db4', 'fe7d1840-4341-40fd-ba6d-fbba126ca7d3', 'k1', 't1') :     0 :  None :  None : False :  True : NonNegativeReals\n",
      "    ('1f7bbd3e-fcd1-412d-8608-035b855ea735', '760f1858-b0ef-3280-930e-88ebe4645061', '4ecf1190-7028-4038-89b0-79adeb3e98cc', '44ad59ca-4fe0-394c-a6d9-5dea68783c23', 'k1', 't1') :     0 :  None :  None : False :  True : NonNegativeReals\n",
      "    ('1f7bbd3e-fcd1-412d-8608-035b855ea735', '760f1858-b0ef-3280-930e-88ebe4645061', '4ecf1190-7028-4038-89b0-79adeb3e98cc', '660ba3fe-d7a5-4c43-8777-27d331934edf', 'k1', 't1') :     0 :  None :  None : False :  True : NonNegativeReals\n",
      "    ('1f7bbd3e-fcd1-412d-8608-035b855ea735', '760f1858-b0ef-3280-930e-88ebe4645061', '4ecf1190-7028-4038-89b0-79adeb3e98cc', '9106bf8d-869d-425f-b8ee-0bf9a78bcf65', 'k1', 't1') :     0 :  None :  None : False :  True : NonNegativeReals\n",
      "    ('1f7bbd3e-fcd1-412d-8608-035b855ea735', '760f1858-b0ef-3280-930e-88ebe4645061', '4ecf1190-7028-4038-89b0-79adeb3e98cc', '97aa2533-ae98-3f8f-b3e2-3acb9d66a010', 'k1', 't1') :     0 :  None :  None : False :  True : NonNegativeReals\n",
      "    ('1f7bbd3e-fcd1-412d-8608-035b855ea735', '760f1858-b0ef-3280-930e-88ebe4645061', '4ecf1190-7028-4038-89b0-79adeb3e98cc', 'b37252a8-fbb5-47cb-a3aa-1485d090bdfd', 'k1', 't1') :     0 :  None :  None : False :  True : NonNegativeReals\n",
      "    ('1f7bbd3e-fcd1-412d-8608-035b855ea735', '760f1858-b0ef-3280-930e-88ebe4645061', '4ecf1190-7028-4038-89b0-79adeb3e98cc', 'f615ae37-fa6d-4a47-958c-23234c986400', 'k1', 't1') :     0 :  None :  None : False :  True : NonNegativeReals\n",
      "    ('1f7bbd3e-fcd1-412d-8608-035b855ea735', '760f1858-b0ef-3280-930e-88ebe4645061', '4ecf1190-7028-4038-89b0-79adeb3e98cc', 'fe7d1840-4341-40fd-ba6d-fbba126ca7d3', 'k1', 't1') :     0 :  None :  None : False :  True : NonNegativeReals\n",
      "    ('1f7bbd3e-fcd1-412d-8608-035b855ea735', '760f1858-b0ef-3280-930e-88ebe4645061', '559d5695-102a-4beb-9f7f-3db334c9b51d', '44ad59ca-4fe0-394c-a6d9-5dea68783c23', 'k1', 't1') :     0 :  None :  None : False :  True : NonNegativeReals\n",
      "    ('1f7bbd3e-fcd1-412d-8608-035b855ea735', '760f1858-b0ef-3280-930e-88ebe4645061', '559d5695-102a-4beb-9f7f-3db334c9b51d', '660ba3fe-d7a5-4c43-8777-27d331934edf', 'k1', 't1') :     0 :  None :  None : False :  True : NonNegativeReals\n",
      "    ('1f7bbd3e-fcd1-412d-8608-035b855ea735', '760f1858-b0ef-3280-930e-88ebe4645061', '559d5695-102a-4beb-9f7f-3db334c9b51d', '9106bf8d-869d-425f-b8ee-0bf9a78bcf65', 'k1', 't1') :     0 :  None :  None : False :  True : NonNegativeReals\n",
      "    ('1f7bbd3e-fcd1-412d-8608-035b855ea735', '760f1858-b0ef-3280-930e-88ebe4645061', '559d5695-102a-4beb-9f7f-3db334c9b51d', '97aa2533-ae98-3f8f-b3e2-3acb9d66a010', 'k1', 't1') :     0 :  None :  None : False :  True : NonNegativeReals\n",
      "    ('1f7bbd3e-fcd1-412d-8608-035b855ea735', '760f1858-b0ef-3280-930e-88ebe4645061', '559d5695-102a-4beb-9f7f-3db334c9b51d', 'b37252a8-fbb5-47cb-a3aa-1485d090bdfd', 'k1', 't1') :     0 :  None :  None : False :  True : NonNegativeReals\n",
      "    ('1f7bbd3e-fcd1-412d-8608-035b855ea735', '760f1858-b0ef-3280-930e-88ebe4645061', '559d5695-102a-4beb-9f7f-3db334c9b51d', 'f615ae37-fa6d-4a47-958c-23234c986400', 'k1', 't1') :     0 :  None :  None : False :  True : NonNegativeReals\n",
      "    ('1f7bbd3e-fcd1-412d-8608-035b855ea735', '760f1858-b0ef-3280-930e-88ebe4645061', '559d5695-102a-4beb-9f7f-3db334c9b51d', 'fe7d1840-4341-40fd-ba6d-fbba126ca7d3', 'k1', 't1') :     0 :  None :  None : False :  True : NonNegativeReals\n",
      "    ('1f7bbd3e-fcd1-412d-8608-035b855ea735', 'cfc3f58f-7bdf-3019-888b-c4f2dbc332e8', '0ace02fa-eca5-482d-a829-c18e46a52db4', '44ad59ca-4fe0-394c-a6d9-5dea68783c23', 'k1', 't1') :     0 : 200.0 :  None : False : False : NonNegativeReals\n",
      "    ('1f7bbd3e-fcd1-412d-8608-035b855ea735', 'cfc3f58f-7bdf-3019-888b-c4f2dbc332e8', '0ace02fa-eca5-482d-a829-c18e46a52db4', '660ba3fe-d7a5-4c43-8777-27d331934edf', 'k1', 't1') :     0 :  None :  None : False :  True : NonNegativeReals\n",
      "    ('1f7bbd3e-fcd1-412d-8608-035b855ea735', 'cfc3f58f-7bdf-3019-888b-c4f2dbc332e8', '0ace02fa-eca5-482d-a829-c18e46a52db4', '9106bf8d-869d-425f-b8ee-0bf9a78bcf65', 'k1', 't1') :     0 :  None :  None : False :  True : NonNegativeReals\n",
      "    ('1f7bbd3e-fcd1-412d-8608-035b855ea735', 'cfc3f58f-7bdf-3019-888b-c4f2dbc332e8', '0ace02fa-eca5-482d-a829-c18e46a52db4', '97aa2533-ae98-3f8f-b3e2-3acb9d66a010', 'k1', 't1') :     0 :  None :  None : False :  True : NonNegativeReals\n",
      "    ('1f7bbd3e-fcd1-412d-8608-035b855ea735', 'cfc3f58f-7bdf-3019-888b-c4f2dbc332e8', '0ace02fa-eca5-482d-a829-c18e46a52db4', 'b37252a8-fbb5-47cb-a3aa-1485d090bdfd', 'k1', 't1') :     0 :  None :  None : False :  True : NonNegativeReals\n",
      "    ('1f7bbd3e-fcd1-412d-8608-035b855ea735', 'cfc3f58f-7bdf-3019-888b-c4f2dbc332e8', '0ace02fa-eca5-482d-a829-c18e46a52db4', 'f615ae37-fa6d-4a47-958c-23234c986400', 'k1', 't1') :     0 :  None :  None : False :  True : NonNegativeReals\n",
      "    ('1f7bbd3e-fcd1-412d-8608-035b855ea735', 'cfc3f58f-7bdf-3019-888b-c4f2dbc332e8', '0ace02fa-eca5-482d-a829-c18e46a52db4', 'fe7d1840-4341-40fd-ba6d-fbba126ca7d3', 'k1', 't1') :     0 :  None :  None : False :  True : NonNegativeReals\n",
      "    ('1f7bbd3e-fcd1-412d-8608-035b855ea735', 'cfc3f58f-7bdf-3019-888b-c4f2dbc332e8', '4ecf1190-7028-4038-89b0-79adeb3e98cc', '44ad59ca-4fe0-394c-a6d9-5dea68783c23', 'k1', 't1') :     0 :  None :  None : False :  True : NonNegativeReals\n",
      "    ('1f7bbd3e-fcd1-412d-8608-035b855ea735', 'cfc3f58f-7bdf-3019-888b-c4f2dbc332e8', '4ecf1190-7028-4038-89b0-79adeb3e98cc', '660ba3fe-d7a5-4c43-8777-27d331934edf', 'k1', 't1') :     0 :  None :  None : False :  True : NonNegativeReals\n",
      "    ('1f7bbd3e-fcd1-412d-8608-035b855ea735', 'cfc3f58f-7bdf-3019-888b-c4f2dbc332e8', '4ecf1190-7028-4038-89b0-79adeb3e98cc', '9106bf8d-869d-425f-b8ee-0bf9a78bcf65', 'k1', 't1') :     0 :  None :  None : False :  True : NonNegativeReals\n",
      "    ('1f7bbd3e-fcd1-412d-8608-035b855ea735', 'cfc3f58f-7bdf-3019-888b-c4f2dbc332e8', '4ecf1190-7028-4038-89b0-79adeb3e98cc', '97aa2533-ae98-3f8f-b3e2-3acb9d66a010', 'k1', 't1') :     0 :  None :  None : False :  True : NonNegativeReals\n",
      "    ('1f7bbd3e-fcd1-412d-8608-035b855ea735', 'cfc3f58f-7bdf-3019-888b-c4f2dbc332e8', '4ecf1190-7028-4038-89b0-79adeb3e98cc', 'b37252a8-fbb5-47cb-a3aa-1485d090bdfd', 'k1', 't1') :     0 :  None :  None : False :  True : NonNegativeReals\n",
      "    ('1f7bbd3e-fcd1-412d-8608-035b855ea735', 'cfc3f58f-7bdf-3019-888b-c4f2dbc332e8', '4ecf1190-7028-4038-89b0-79adeb3e98cc', 'f615ae37-fa6d-4a47-958c-23234c986400', 'k1', 't1') :     0 :  None :  None : False :  True : NonNegativeReals\n",
      "    ('1f7bbd3e-fcd1-412d-8608-035b855ea735', 'cfc3f58f-7bdf-3019-888b-c4f2dbc332e8', '4ecf1190-7028-4038-89b0-79adeb3e98cc', 'fe7d1840-4341-40fd-ba6d-fbba126ca7d3', 'k1', 't1') :     0 :  None :  None : False :  True : NonNegativeReals\n",
      "    ('1f7bbd3e-fcd1-412d-8608-035b855ea735', 'cfc3f58f-7bdf-3019-888b-c4f2dbc332e8', '559d5695-102a-4beb-9f7f-3db334c9b51d', '44ad59ca-4fe0-394c-a6d9-5dea68783c23', 'k1', 't1') :     0 :  None :  None : False :  True : NonNegativeReals\n",
      "    ('1f7bbd3e-fcd1-412d-8608-035b855ea735', 'cfc3f58f-7bdf-3019-888b-c4f2dbc332e8', '559d5695-102a-4beb-9f7f-3db334c9b51d', '660ba3fe-d7a5-4c43-8777-27d331934edf', 'k1', 't1') :     0 :  None :  None : False :  True : NonNegativeReals\n",
      "    ('1f7bbd3e-fcd1-412d-8608-035b855ea735', 'cfc3f58f-7bdf-3019-888b-c4f2dbc332e8', '559d5695-102a-4beb-9f7f-3db334c9b51d', '9106bf8d-869d-425f-b8ee-0bf9a78bcf65', 'k1', 't1') :     0 :  None :  None : False :  True : NonNegativeReals\n",
      "    ('1f7bbd3e-fcd1-412d-8608-035b855ea735', 'cfc3f58f-7bdf-3019-888b-c4f2dbc332e8', '559d5695-102a-4beb-9f7f-3db334c9b51d', '97aa2533-ae98-3f8f-b3e2-3acb9d66a010', 'k1', 't1') :     0 :  None :  None : False :  True : NonNegativeReals\n",
      "    ('1f7bbd3e-fcd1-412d-8608-035b855ea735', 'cfc3f58f-7bdf-3019-888b-c4f2dbc332e8', '559d5695-102a-4beb-9f7f-3db334c9b51d', 'b37252a8-fbb5-47cb-a3aa-1485d090bdfd', 'k1', 't1') :     0 :  None :  None : False :  True : NonNegativeReals\n",
      "    ('1f7bbd3e-fcd1-412d-8608-035b855ea735', 'cfc3f58f-7bdf-3019-888b-c4f2dbc332e8', '559d5695-102a-4beb-9f7f-3db334c9b51d', 'f615ae37-fa6d-4a47-958c-23234c986400', 'k1', 't1') :     0 :  None :  None : False :  True : NonNegativeReals\n",
      "    ('1f7bbd3e-fcd1-412d-8608-035b855ea735', 'cfc3f58f-7bdf-3019-888b-c4f2dbc332e8', '559d5695-102a-4beb-9f7f-3db334c9b51d', 'fe7d1840-4341-40fd-ba6d-fbba126ca7d3', 'k1', 't1') :     0 :  None :  None : False :  True : NonNegativeReals\n",
      "    ('1f7bbd3e-fcd1-412d-8608-035b855ea735', 'f22f5f6e-1bdc-3cb5-8f48-8a04d8f9b768', '0ace02fa-eca5-482d-a829-c18e46a52db4', '44ad59ca-4fe0-394c-a6d9-5dea68783c23', 'k1', 't1') :     0 :  None :  None : False :  True : NonNegativeReals\n",
      "    ('1f7bbd3e-fcd1-412d-8608-035b855ea735', 'f22f5f6e-1bdc-3cb5-8f48-8a04d8f9b768', '0ace02fa-eca5-482d-a829-c18e46a52db4', '660ba3fe-d7a5-4c43-8777-27d331934edf', 'k1', 't1') :     0 :  None :  None : False :  True : NonNegativeReals\n",
      "    ('1f7bbd3e-fcd1-412d-8608-035b855ea735', 'f22f5f6e-1bdc-3cb5-8f48-8a04d8f9b768', '0ace02fa-eca5-482d-a829-c18e46a52db4', '9106bf8d-869d-425f-b8ee-0bf9a78bcf65', 'k1', 't1') :     0 :  -0.0 :  None : False : False : NonNegativeReals\n",
      "    ('1f7bbd3e-fcd1-412d-8608-035b855ea735', 'f22f5f6e-1bdc-3cb5-8f48-8a04d8f9b768', '0ace02fa-eca5-482d-a829-c18e46a52db4', '97aa2533-ae98-3f8f-b3e2-3acb9d66a010', 'k1', 't1') :     0 :  None :  None : False :  True : NonNegativeReals\n",
      "    ('1f7bbd3e-fcd1-412d-8608-035b855ea735', 'f22f5f6e-1bdc-3cb5-8f48-8a04d8f9b768', '0ace02fa-eca5-482d-a829-c18e46a52db4', 'b37252a8-fbb5-47cb-a3aa-1485d090bdfd', 'k1', 't1') :     0 :   0.0 :  None : False : False : NonNegativeReals\n",
      "    ('1f7bbd3e-fcd1-412d-8608-035b855ea735', 'f22f5f6e-1bdc-3cb5-8f48-8a04d8f9b768', '0ace02fa-eca5-482d-a829-c18e46a52db4', 'f615ae37-fa6d-4a47-958c-23234c986400', 'k1', 't1') :     0 :  None :  None : False :  True : NonNegativeReals\n",
      "    ('1f7bbd3e-fcd1-412d-8608-035b855ea735', 'f22f5f6e-1bdc-3cb5-8f48-8a04d8f9b768', '0ace02fa-eca5-482d-a829-c18e46a52db4', 'fe7d1840-4341-40fd-ba6d-fbba126ca7d3', 'k1', 't1') :     0 :  None :  None : False :  True : NonNegativeReals\n",
      "    ('1f7bbd3e-fcd1-412d-8608-035b855ea735', 'f22f5f6e-1bdc-3cb5-8f48-8a04d8f9b768', '4ecf1190-7028-4038-89b0-79adeb3e98cc', '44ad59ca-4fe0-394c-a6d9-5dea68783c23', 'k1', 't1') :     0 :  None :  None : False :  True : NonNegativeReals\n",
      "    ('1f7bbd3e-fcd1-412d-8608-035b855ea735', 'f22f5f6e-1bdc-3cb5-8f48-8a04d8f9b768', '4ecf1190-7028-4038-89b0-79adeb3e98cc', '660ba3fe-d7a5-4c43-8777-27d331934edf', 'k1', 't1') :     0 :   0.0 :  None : False : False : NonNegativeReals\n",
      "    ('1f7bbd3e-fcd1-412d-8608-035b855ea735', 'f22f5f6e-1bdc-3cb5-8f48-8a04d8f9b768', '4ecf1190-7028-4038-89b0-79adeb3e98cc', '9106bf8d-869d-425f-b8ee-0bf9a78bcf65', 'k1', 't1') :     0 :  None :  None : False :  True : NonNegativeReals\n",
      "    ('1f7bbd3e-fcd1-412d-8608-035b855ea735', 'f22f5f6e-1bdc-3cb5-8f48-8a04d8f9b768', '4ecf1190-7028-4038-89b0-79adeb3e98cc', '97aa2533-ae98-3f8f-b3e2-3acb9d66a010', 'k1', 't1') :     0 :  None :  None : False :  True : NonNegativeReals\n",
      "    ('1f7bbd3e-fcd1-412d-8608-035b855ea735', 'f22f5f6e-1bdc-3cb5-8f48-8a04d8f9b768', '4ecf1190-7028-4038-89b0-79adeb3e98cc', 'b37252a8-fbb5-47cb-a3aa-1485d090bdfd', 'k1', 't1') :     0 :  None :  None : False :  True : NonNegativeReals\n",
      "    ('1f7bbd3e-fcd1-412d-8608-035b855ea735', 'f22f5f6e-1bdc-3cb5-8f48-8a04d8f9b768', '4ecf1190-7028-4038-89b0-79adeb3e98cc', 'f615ae37-fa6d-4a47-958c-23234c986400', 'k1', 't1') :     0 :  None :  None : False :  True : NonNegativeReals\n",
      "    ('1f7bbd3e-fcd1-412d-8608-035b855ea735', 'f22f5f6e-1bdc-3cb5-8f48-8a04d8f9b768', '4ecf1190-7028-4038-89b0-79adeb3e98cc', 'fe7d1840-4341-40fd-ba6d-fbba126ca7d3', 'k1', 't1') :     0 :  None :  None : False :  True : NonNegativeReals\n",
      "    ('1f7bbd3e-fcd1-412d-8608-035b855ea735', 'f22f5f6e-1bdc-3cb5-8f48-8a04d8f9b768', '559d5695-102a-4beb-9f7f-3db334c9b51d', '44ad59ca-4fe0-394c-a6d9-5dea68783c23', 'k1', 't1') :     0 :  None :  None : False :  True : NonNegativeReals\n",
      "    ('1f7bbd3e-fcd1-412d-8608-035b855ea735', 'f22f5f6e-1bdc-3cb5-8f48-8a04d8f9b768', '559d5695-102a-4beb-9f7f-3db334c9b51d', '660ba3fe-d7a5-4c43-8777-27d331934edf', 'k1', 't1') :     0 :  None :  None : False :  True : NonNegativeReals\n",
      "    ('1f7bbd3e-fcd1-412d-8608-035b855ea735', 'f22f5f6e-1bdc-3cb5-8f48-8a04d8f9b768', '559d5695-102a-4beb-9f7f-3db334c9b51d', '9106bf8d-869d-425f-b8ee-0bf9a78bcf65', 'k1', 't1') :     0 :  None :  None : False :  True : NonNegativeReals\n",
      "    ('1f7bbd3e-fcd1-412d-8608-035b855ea735', 'f22f5f6e-1bdc-3cb5-8f48-8a04d8f9b768', '559d5695-102a-4beb-9f7f-3db334c9b51d', '97aa2533-ae98-3f8f-b3e2-3acb9d66a010', 'k1', 't1') :     0 :  None :  None : False :  True : NonNegativeReals\n",
      "    ('1f7bbd3e-fcd1-412d-8608-035b855ea735', 'f22f5f6e-1bdc-3cb5-8f48-8a04d8f9b768', '559d5695-102a-4beb-9f7f-3db334c9b51d', 'b37252a8-fbb5-47cb-a3aa-1485d090bdfd', 'k1', 't1') :     0 :  None :  None : False :  True : NonNegativeReals\n",
      "    ('1f7bbd3e-fcd1-412d-8608-035b855ea735', 'f22f5f6e-1bdc-3cb5-8f48-8a04d8f9b768', '559d5695-102a-4beb-9f7f-3db334c9b51d', 'f615ae37-fa6d-4a47-958c-23234c986400', 'k1', 't1') :     0 :  None :  None : False :  True : NonNegativeReals\n",
      "    ('1f7bbd3e-fcd1-412d-8608-035b855ea735', 'f22f5f6e-1bdc-3cb5-8f48-8a04d8f9b768', '559d5695-102a-4beb-9f7f-3db334c9b51d', 'fe7d1840-4341-40fd-ba6d-fbba126ca7d3', 'k1', 't1') :     0 :   0.0 :  None : False : False : NonNegativeReals\n"
     ]
    }
   ],
   "source": [
    "model_instance.Specific_Material_Transport_Flow.pprint()"
   ]
  },
  {
   "cell_type": "code",
   "execution_count": 18,
   "metadata": {},
   "outputs": [
    {
     "name": "stdout",
     "output_type": "stream",
     "text": [
      "Specific_Transport_Flow : Specific Transport Flow\n",
      "    Size=21, Index=Specific_Transport_Flow_index\n",
      "    Key                                                                                          : Lower : Value   : Upper : Fixed : Stale : Domain\n",
      "    ('0ace02fa-eca5-482d-a829-c18e46a52db4', '44ad59ca-4fe0-394c-a6d9-5dea68783c23', 'k1', 't1') :     0 : 40000.0 :  None : False : False : NonNegativeReals\n",
      "    ('0ace02fa-eca5-482d-a829-c18e46a52db4', '660ba3fe-d7a5-4c43-8777-27d331934edf', 'k1', 't1') :     0 :     0.0 :  None : False : False : NonNegativeReals\n",
      "    ('0ace02fa-eca5-482d-a829-c18e46a52db4', '9106bf8d-869d-425f-b8ee-0bf9a78bcf65', 'k1', 't1') :     0 :     0.0 :  None : False : False : NonNegativeReals\n",
      "    ('0ace02fa-eca5-482d-a829-c18e46a52db4', '97aa2533-ae98-3f8f-b3e2-3acb9d66a010', 'k1', 't1') :     0 :     0.0 :  None : False : False : NonNegativeReals\n",
      "    ('0ace02fa-eca5-482d-a829-c18e46a52db4', 'b37252a8-fbb5-47cb-a3aa-1485d090bdfd', 'k1', 't1') :     0 :     0.0 :  None : False : False : NonNegativeReals\n",
      "    ('0ace02fa-eca5-482d-a829-c18e46a52db4', 'f615ae37-fa6d-4a47-958c-23234c986400', 'k1', 't1') :     0 :     0.0 :  None : False : False : NonNegativeReals\n",
      "    ('0ace02fa-eca5-482d-a829-c18e46a52db4', 'fe7d1840-4341-40fd-ba6d-fbba126ca7d3', 'k1', 't1') :     0 :     0.0 :  None : False : False : NonNegativeReals\n",
      "    ('4ecf1190-7028-4038-89b0-79adeb3e98cc', '44ad59ca-4fe0-394c-a6d9-5dea68783c23', 'k1', 't1') :     0 :     0.0 :  None : False : False : NonNegativeReals\n",
      "    ('4ecf1190-7028-4038-89b0-79adeb3e98cc', '660ba3fe-d7a5-4c43-8777-27d331934edf', 'k1', 't1') :     0 :     0.0 :  None : False : False : NonNegativeReals\n",
      "    ('4ecf1190-7028-4038-89b0-79adeb3e98cc', '9106bf8d-869d-425f-b8ee-0bf9a78bcf65', 'k1', 't1') :     0 :     0.0 :  None : False : False : NonNegativeReals\n",
      "    ('4ecf1190-7028-4038-89b0-79adeb3e98cc', '97aa2533-ae98-3f8f-b3e2-3acb9d66a010', 'k1', 't1') :     0 :     0.0 :  None : False : False : NonNegativeReals\n",
      "    ('4ecf1190-7028-4038-89b0-79adeb3e98cc', 'b37252a8-fbb5-47cb-a3aa-1485d090bdfd', 'k1', 't1') :     0 :     0.0 :  None : False : False : NonNegativeReals\n",
      "    ('4ecf1190-7028-4038-89b0-79adeb3e98cc', 'f615ae37-fa6d-4a47-958c-23234c986400', 'k1', 't1') :     0 :     0.0 :  None : False : False : NonNegativeReals\n",
      "    ('4ecf1190-7028-4038-89b0-79adeb3e98cc', 'fe7d1840-4341-40fd-ba6d-fbba126ca7d3', 'k1', 't1') :     0 :     0.0 :  None : False : False : NonNegativeReals\n",
      "    ('559d5695-102a-4beb-9f7f-3db334c9b51d', '44ad59ca-4fe0-394c-a6d9-5dea68783c23', 'k1', 't1') :     0 :     0.0 :  None : False : False : NonNegativeReals\n",
      "    ('559d5695-102a-4beb-9f7f-3db334c9b51d', '660ba3fe-d7a5-4c43-8777-27d331934edf', 'k1', 't1') :     0 :     0.0 :  None : False : False : NonNegativeReals\n",
      "    ('559d5695-102a-4beb-9f7f-3db334c9b51d', '9106bf8d-869d-425f-b8ee-0bf9a78bcf65', 'k1', 't1') :     0 :     0.0 :  None : False : False : NonNegativeReals\n",
      "    ('559d5695-102a-4beb-9f7f-3db334c9b51d', '97aa2533-ae98-3f8f-b3e2-3acb9d66a010', 'k1', 't1') :     0 :     0.0 :  None : False : False : NonNegativeReals\n",
      "    ('559d5695-102a-4beb-9f7f-3db334c9b51d', 'b37252a8-fbb5-47cb-a3aa-1485d090bdfd', 'k1', 't1') :     0 :     0.0 :  None : False : False : NonNegativeReals\n",
      "    ('559d5695-102a-4beb-9f7f-3db334c9b51d', 'f615ae37-fa6d-4a47-958c-23234c986400', 'k1', 't1') :     0 :     0.0 :  None : False : False : NonNegativeReals\n",
      "    ('559d5695-102a-4beb-9f7f-3db334c9b51d', 'fe7d1840-4341-40fd-ba6d-fbba126ca7d3', 'k1', 't1') :     0 :     0.0 :  None : False : False : NonNegativeReals\n"
     ]
    }
   ],
   "source": [
    "model_instance.Specific_Transport_Flow.pprint()"
   ]
  },
  {
   "cell_type": "code",
   "execution_count": 19,
   "metadata": {},
   "outputs": [
    {
     "name": "stdout",
     "output_type": "stream",
     "text": [
      "transport_constraint : Size=21, Index=transport_constraint_index, Active=True\n",
      "    Key                                                                                          : Lower : Body                                                                                                                                                                                                                                                                                                                                                                                       : Upper : Active\n",
      "    ('0ace02fa-eca5-482d-a829-c18e46a52db4', '44ad59ca-4fe0-394c-a6d9-5dea68783c23', 'k1', 't1') :   0.0 : Specific_Transport_Flow[0ace02fa-eca5-482d-a829-c18e46a52db4,44ad59ca-4fe0-394c-a6d9-5dea68783c23,k1,t1] - dd[cfc3f58f-7bdf-3019-888b-c4f2dbc332e8,1f7bbd3e-fcd1-412d-8608-035b855ea735,k1,t1]*Specific_Material_Transport_Flow[1f7bbd3e-fcd1-412d-8608-035b855ea735,cfc3f58f-7bdf-3019-888b-c4f2dbc332e8,0ace02fa-eca5-482d-a829-c18e46a52db4,44ad59ca-4fe0-394c-a6d9-5dea68783c23,k1,t1] :   0.0 :   True\n",
      "    ('0ace02fa-eca5-482d-a829-c18e46a52db4', '660ba3fe-d7a5-4c43-8777-27d331934edf', 'k1', 't1') :   0.0 :                                                                                                                                                                                                                                                                                   Specific_Transport_Flow[0ace02fa-eca5-482d-a829-c18e46a52db4,660ba3fe-d7a5-4c43-8777-27d331934edf,k1,t1] :   0.0 :   True\n",
      "    ('0ace02fa-eca5-482d-a829-c18e46a52db4', '9106bf8d-869d-425f-b8ee-0bf9a78bcf65', 'k1', 't1') :   0.0 : Specific_Transport_Flow[0ace02fa-eca5-482d-a829-c18e46a52db4,9106bf8d-869d-425f-b8ee-0bf9a78bcf65,k1,t1] - dd[f22f5f6e-1bdc-3cb5-8f48-8a04d8f9b768,1f7bbd3e-fcd1-412d-8608-035b855ea735,k1,t1]*Specific_Material_Transport_Flow[1f7bbd3e-fcd1-412d-8608-035b855ea735,f22f5f6e-1bdc-3cb5-8f48-8a04d8f9b768,0ace02fa-eca5-482d-a829-c18e46a52db4,9106bf8d-869d-425f-b8ee-0bf9a78bcf65,k1,t1] :   0.0 :   True\n",
      "    ('0ace02fa-eca5-482d-a829-c18e46a52db4', '97aa2533-ae98-3f8f-b3e2-3acb9d66a010', 'k1', 't1') :   0.0 : Specific_Transport_Flow[0ace02fa-eca5-482d-a829-c18e46a52db4,97aa2533-ae98-3f8f-b3e2-3acb9d66a010,k1,t1] - dd[760f1858-b0ef-3280-930e-88ebe4645061,1f7bbd3e-fcd1-412d-8608-035b855ea735,k1,t1]*Specific_Material_Transport_Flow[1f7bbd3e-fcd1-412d-8608-035b855ea735,760f1858-b0ef-3280-930e-88ebe4645061,0ace02fa-eca5-482d-a829-c18e46a52db4,97aa2533-ae98-3f8f-b3e2-3acb9d66a010,k1,t1] :   0.0 :   True\n",
      "    ('0ace02fa-eca5-482d-a829-c18e46a52db4', 'b37252a8-fbb5-47cb-a3aa-1485d090bdfd', 'k1', 't1') :   0.0 : Specific_Transport_Flow[0ace02fa-eca5-482d-a829-c18e46a52db4,b37252a8-fbb5-47cb-a3aa-1485d090bdfd,k1,t1] - dd[f22f5f6e-1bdc-3cb5-8f48-8a04d8f9b768,1f7bbd3e-fcd1-412d-8608-035b855ea735,k1,t1]*Specific_Material_Transport_Flow[1f7bbd3e-fcd1-412d-8608-035b855ea735,f22f5f6e-1bdc-3cb5-8f48-8a04d8f9b768,0ace02fa-eca5-482d-a829-c18e46a52db4,b37252a8-fbb5-47cb-a3aa-1485d090bdfd,k1,t1] :   0.0 :   True\n",
      "    ('0ace02fa-eca5-482d-a829-c18e46a52db4', 'f615ae37-fa6d-4a47-958c-23234c986400', 'k1', 't1') :   0.0 : Specific_Transport_Flow[0ace02fa-eca5-482d-a829-c18e46a52db4,f615ae37-fa6d-4a47-958c-23234c986400,k1,t1] - dd[760f1858-b0ef-3280-930e-88ebe4645061,1f7bbd3e-fcd1-412d-8608-035b855ea735,k1,t1]*Specific_Material_Transport_Flow[1f7bbd3e-fcd1-412d-8608-035b855ea735,760f1858-b0ef-3280-930e-88ebe4645061,0ace02fa-eca5-482d-a829-c18e46a52db4,f615ae37-fa6d-4a47-958c-23234c986400,k1,t1] :   0.0 :   True\n",
      "    ('0ace02fa-eca5-482d-a829-c18e46a52db4', 'fe7d1840-4341-40fd-ba6d-fbba126ca7d3', 'k1', 't1') :   0.0 :                                                                                                                                                                                                                                                                                   Specific_Transport_Flow[0ace02fa-eca5-482d-a829-c18e46a52db4,fe7d1840-4341-40fd-ba6d-fbba126ca7d3,k1,t1] :   0.0 :   True\n",
      "    ('4ecf1190-7028-4038-89b0-79adeb3e98cc', '44ad59ca-4fe0-394c-a6d9-5dea68783c23', 'k1', 't1') :   0.0 :                                                                                                                                                                                                                                                                                   Specific_Transport_Flow[4ecf1190-7028-4038-89b0-79adeb3e98cc,44ad59ca-4fe0-394c-a6d9-5dea68783c23,k1,t1] :   0.0 :   True\n",
      "    ('4ecf1190-7028-4038-89b0-79adeb3e98cc', '660ba3fe-d7a5-4c43-8777-27d331934edf', 'k1', 't1') :   0.0 : Specific_Transport_Flow[4ecf1190-7028-4038-89b0-79adeb3e98cc,660ba3fe-d7a5-4c43-8777-27d331934edf,k1,t1] - dd[f22f5f6e-1bdc-3cb5-8f48-8a04d8f9b768,1f7bbd3e-fcd1-412d-8608-035b855ea735,k1,t1]*Specific_Material_Transport_Flow[1f7bbd3e-fcd1-412d-8608-035b855ea735,f22f5f6e-1bdc-3cb5-8f48-8a04d8f9b768,4ecf1190-7028-4038-89b0-79adeb3e98cc,660ba3fe-d7a5-4c43-8777-27d331934edf,k1,t1] :   0.0 :   True\n",
      "    ('4ecf1190-7028-4038-89b0-79adeb3e98cc', '9106bf8d-869d-425f-b8ee-0bf9a78bcf65', 'k1', 't1') :   0.0 :                                                                                                                                                                                                                                                                                   Specific_Transport_Flow[4ecf1190-7028-4038-89b0-79adeb3e98cc,9106bf8d-869d-425f-b8ee-0bf9a78bcf65,k1,t1] :   0.0 :   True\n",
      "    ('4ecf1190-7028-4038-89b0-79adeb3e98cc', '97aa2533-ae98-3f8f-b3e2-3acb9d66a010', 'k1', 't1') :   0.0 :                                                                                                                                                                                                                                                                                   Specific_Transport_Flow[4ecf1190-7028-4038-89b0-79adeb3e98cc,97aa2533-ae98-3f8f-b3e2-3acb9d66a010,k1,t1] :   0.0 :   True\n",
      "    ('4ecf1190-7028-4038-89b0-79adeb3e98cc', 'b37252a8-fbb5-47cb-a3aa-1485d090bdfd', 'k1', 't1') :   0.0 :                                                                                                                                                                                                                                                                                   Specific_Transport_Flow[4ecf1190-7028-4038-89b0-79adeb3e98cc,b37252a8-fbb5-47cb-a3aa-1485d090bdfd,k1,t1] :   0.0 :   True\n",
      "    ('4ecf1190-7028-4038-89b0-79adeb3e98cc', 'f615ae37-fa6d-4a47-958c-23234c986400', 'k1', 't1') :   0.0 :                                                                                                                                                                                                                                                                                   Specific_Transport_Flow[4ecf1190-7028-4038-89b0-79adeb3e98cc,f615ae37-fa6d-4a47-958c-23234c986400,k1,t1] :   0.0 :   True\n",
      "    ('4ecf1190-7028-4038-89b0-79adeb3e98cc', 'fe7d1840-4341-40fd-ba6d-fbba126ca7d3', 'k1', 't1') :   0.0 :                                                                                                                                                                                                                                                                                   Specific_Transport_Flow[4ecf1190-7028-4038-89b0-79adeb3e98cc,fe7d1840-4341-40fd-ba6d-fbba126ca7d3,k1,t1] :   0.0 :   True\n",
      "    ('559d5695-102a-4beb-9f7f-3db334c9b51d', '44ad59ca-4fe0-394c-a6d9-5dea68783c23', 'k1', 't1') :   0.0 :                                                                                                                                                                                                                                                                                   Specific_Transport_Flow[559d5695-102a-4beb-9f7f-3db334c9b51d,44ad59ca-4fe0-394c-a6d9-5dea68783c23,k1,t1] :   0.0 :   True\n",
      "    ('559d5695-102a-4beb-9f7f-3db334c9b51d', '660ba3fe-d7a5-4c43-8777-27d331934edf', 'k1', 't1') :   0.0 :                                                                                                                                                                                                                                                                                   Specific_Transport_Flow[559d5695-102a-4beb-9f7f-3db334c9b51d,660ba3fe-d7a5-4c43-8777-27d331934edf,k1,t1] :   0.0 :   True\n",
      "    ('559d5695-102a-4beb-9f7f-3db334c9b51d', '9106bf8d-869d-425f-b8ee-0bf9a78bcf65', 'k1', 't1') :   0.0 :                                                                                                                                                                                                                                                                                   Specific_Transport_Flow[559d5695-102a-4beb-9f7f-3db334c9b51d,9106bf8d-869d-425f-b8ee-0bf9a78bcf65,k1,t1] :   0.0 :   True\n",
      "    ('559d5695-102a-4beb-9f7f-3db334c9b51d', '97aa2533-ae98-3f8f-b3e2-3acb9d66a010', 'k1', 't1') :   0.0 :                                                                                                                                                                                                                                                                                   Specific_Transport_Flow[559d5695-102a-4beb-9f7f-3db334c9b51d,97aa2533-ae98-3f8f-b3e2-3acb9d66a010,k1,t1] :   0.0 :   True\n",
      "    ('559d5695-102a-4beb-9f7f-3db334c9b51d', 'b37252a8-fbb5-47cb-a3aa-1485d090bdfd', 'k1', 't1') :   0.0 :                                                                                                                                                                                                                                                                                   Specific_Transport_Flow[559d5695-102a-4beb-9f7f-3db334c9b51d,b37252a8-fbb5-47cb-a3aa-1485d090bdfd,k1,t1] :   0.0 :   True\n",
      "    ('559d5695-102a-4beb-9f7f-3db334c9b51d', 'f615ae37-fa6d-4a47-958c-23234c986400', 'k1', 't1') :   0.0 :                                                                                                                                                                                                                                                                                   Specific_Transport_Flow[559d5695-102a-4beb-9f7f-3db334c9b51d,f615ae37-fa6d-4a47-958c-23234c986400,k1,t1] :   0.0 :   True\n",
      "    ('559d5695-102a-4beb-9f7f-3db334c9b51d', 'fe7d1840-4341-40fd-ba6d-fbba126ca7d3', 'k1', 't1') :   0.0 : Specific_Transport_Flow[559d5695-102a-4beb-9f7f-3db334c9b51d,fe7d1840-4341-40fd-ba6d-fbba126ca7d3,k1,t1] - dd[f22f5f6e-1bdc-3cb5-8f48-8a04d8f9b768,1f7bbd3e-fcd1-412d-8608-035b855ea735,k1,t1]*Specific_Material_Transport_Flow[1f7bbd3e-fcd1-412d-8608-035b855ea735,f22f5f6e-1bdc-3cb5-8f48-8a04d8f9b768,559d5695-102a-4beb-9f7f-3db334c9b51d,fe7d1840-4341-40fd-ba6d-fbba126ca7d3,k1,t1] :   0.0 :   True\n"
     ]
    }
   ],
   "source": [
    "model_instance.transport_constraint.pprint()"
   ]
  },
  {
   "cell_type": "markdown",
   "metadata": {},
   "source": [
    "# Prettified output\n",
    "\n",
    "We use the `mola.output` module to prettify the output."
   ]
  },
  {
   "cell_type": "code",
   "execution_count": 20,
   "metadata": {},
   "outputs": [
    {
     "name": "stdout",
     "output_type": "stream",
     "text": [
      "SELECT \"REF_ID\",\"NAME\" FROM \"TBL_CATEGORIES\"\n",
      "SELECT \"REF_ID\" \"FLOW_REF_ID\",\"NAME\" FROM \"TBL_FLOWS\"\n",
      "SELECT \"TBL_PROCESSES\".\"REF_ID\" \"PROCESS_REF_ID\",\"TBL_PROCESSES\".\"NAME\" \"PROCESS_NAME\",\"TBL_LOCATIONS\".\"NAME\" \"LOCATION_NAME\" FROM \"TBL_PROCESSES\" LEFT JOIN \"TBL_LOCATIONS\" ON CAST(\"TBL_PROCESSES\".\"F_LOCATION\" AS INT)=\"TBL_LOCATIONS\".\"ID\"\n",
      "SELECT \"REF_ID\",\"NAME\" FROM \"TBL_FLOWS\" WHERE \"FLOW_TYPE\"='PRODUCT_FLOW'\n",
      "SELECT \"TBL_IMPACT_METHODS\".\"NAME\" \"method_NAME\",\"TBL_IMPACT_CATEGORIES\".\"REF_ID\" \"REF_ID\",\"TBL_IMPACT_CATEGORIES\".\"NAME\" \"category_NAME\" FROM \"TBL_IMPACT_CATEGORIES\" LEFT JOIN \"TBL_IMPACT_METHODS\" ON \"TBL_IMPACT_CATEGORIES\".\"F_IMPACT_METHOD\"=\"TBL_IMPACT_METHODS\".\"ID\"\n"
     ]
    }
   ],
   "source": [
    "import mola.output as mo\n",
    "lookup = dv.LookupTables(conn)"
   ]
  },
  {
   "cell_type": "code",
   "execution_count": 21,
   "metadata": {},
   "outputs": [
    {
     "data": {
      "application/vnd.jupyter.widget-view+json": {
       "model_id": "22c1cc2cfb304da0a482c0fd414bcb89",
       "version_major": 2,
       "version_minor": 0
      },
      "text/plain": [
       "QgridWidget(grid_options={'fullWidthRows': True, 'syncColumnCellResize': True, 'forceFitColumns': True, 'defau…"
      ]
     },
     "metadata": {},
     "output_type": "display_data"
    }
   ],
   "source": [
    "flows_dfr = mo.get_entity(model_instance.component('Flow'), lookup).reset_index(drop=True)\n",
    "qgrid.show_grid(flows_dfr)"
   ]
  },
  {
   "cell_type": "code",
   "execution_count": 22,
   "metadata": {},
   "outputs": [
    {
     "data": {
      "application/vnd.jupyter.widget-view+json": {
       "model_id": "c8f1661b0053412b9da3a5f157f7c4a5",
       "version_major": 2,
       "version_minor": 0
      },
      "text/plain": [
       "QgridWidget(grid_options={'fullWidthRows': True, 'syncColumnCellResize': True, 'forceFitColumns': True, 'defau…"
      ]
     },
     "metadata": {},
     "output_type": "display_data"
    }
   ],
   "source": [
    "f_dfr = mo.get_entity(model_instance.component('Specific_Material_Transport_Flow'), lookup).reset_index(drop=True).dropna()\n",
    "qgrid.show_grid(f_dfr[['Specific_Material_Transport_Flow', 'P_t']])"
   ]
  },
  {
   "cell_type": "code",
   "execution_count": 23,
   "metadata": {},
   "outputs": [
    {
     "data": {
      "application/vnd.jupyter.widget-view+json": {
       "model_id": "8f01824ca1f84b9bb25a25473961d25b",
       "version_major": 2,
       "version_minor": 0
      },
      "text/plain": [
       "QgridWidget(grid_options={'fullWidthRows': True, 'syncColumnCellResize': True, 'forceFitColumns': True, 'defau…"
      ]
     },
     "metadata": {},
     "output_type": "display_data"
    }
   ],
   "source": [
    "t_dfr = mo.get_entity(model_instance.component('Specific_Transport_Flow'), lookup).reset_index(drop=True).dropna()\n",
    "qgrid.show_grid(t_dfr[['Specific_Transport_Flow', 'P_t']])"
   ]
  },
  {
   "cell_type": "code",
   "execution_count": null,
   "metadata": {},
   "outputs": [],
   "source": []
  }
 ],
 "metadata": {
  "kernelspec": {
   "display_name": "Python 3",
   "language": "python",
   "name": "python3"
  },
  "language_info": {
   "codemirror_mode": {
    "name": "ipython",
    "version": 3
   },
   "file_extension": ".py",
   "mimetype": "text/x-python",
   "name": "python",
   "nbconvert_exporter": "python",
   "pygments_lexer": "ipython3",
   "version": "3.7.9"
  },
  "toc": {
   "base_numbering": 1,
   "nav_menu": {},
   "number_sections": true,
   "sideBar": true,
   "skip_h1_title": false,
   "title_cell": "Table of Contents",
   "title_sidebar": "Contents",
   "toc_cell": false,
   "toc_position": {
    "height": "calc(100% - 180px)",
    "left": "10px",
    "top": "150px",
    "width": "284.438px"
   },
   "toc_section_display": true,
   "toc_window_display": true
  },
  "varInspector": {
   "cols": {
    "lenName": 16,
    "lenType": 16,
    "lenVar": 40
   },
   "kernels_config": {
    "python": {
     "delete_cmd_postfix": "",
     "delete_cmd_prefix": "del ",
     "library": "var_list.py",
     "varRefreshCmd": "print(var_dic_list())"
    },
    "r": {
     "delete_cmd_postfix": ") ",
     "delete_cmd_prefix": "rm(",
     "library": "var_list.r",
     "varRefreshCmd": "cat(var_dic_list()) "
    }
   },
   "types_to_exclude": [
    "module",
    "function",
    "builtin_function_or_method",
    "instance",
    "_Feature"
   ],
   "window_display": false
  }
 },
 "nbformat": 4,
 "nbformat_minor": 4
}
