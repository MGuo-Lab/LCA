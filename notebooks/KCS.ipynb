{
 "cells": [
  {
   "cell_type": "markdown",
   "metadata": {},
   "source": [
    "# State Task Networks\n",
    "\n",
    "This notebook implements in Pyomo the state task network described in Section 3 of Kondili, Pantelides & Sargent (1993)."
   ]
  },
  {
   "cell_type": "code",
   "execution_count": 1,
   "metadata": {},
   "outputs": [],
   "source": [
    "from pyomo.environ import *\n",
    "import itertools"
   ]
  },
  {
   "cell_type": "code",
   "execution_count": 2,
   "metadata": {},
   "outputs": [],
   "source": [
    "model = ConcreteModel()"
   ]
  },
  {
   "cell_type": "markdown",
   "metadata": {},
   "source": [
    "# Notation\n",
    "\n",
    "The time discretisation is defined by"
   ]
  },
  {
   "cell_type": "code",
   "execution_count": 3,
   "metadata": {},
   "outputs": [
    {
     "name": "stdout",
     "output_type": "stream",
     "text": [
      "T : Time Periods\n",
      "    Size=1, Index=None, Ordered=Insertion\n",
      "    Key  : Dimen : Domain : Size : Members\n",
      "    None :     1 :    Any :    5 : {1, 2, 3, 4, 5}\n"
     ]
    }
   ],
   "source": [
    "model.H = 4\n",
    "model.T = Set(initialize=RangeSet(model.H + 1), doc='Time Periods')\n",
    "model.T.pprint()"
   ]
  },
  {
   "cell_type": "markdown",
   "metadata": {},
   "source": [
    "States, tasks and units are defined by"
   ]
  },
  {
   "cell_type": "code",
   "execution_count": 4,
   "metadata": {},
   "outputs": [],
   "source": [
    "model.States = Set(initialize=['S1', 'S2', 'S3'], doc='States')\n",
    "model.I = Set(initialize=['I1', 'I2'], doc='Tasks')\n",
    "model.J = Set(initialize=['J1', 'J2'], doc='Units')"
   ]
  },
  {
   "cell_type": "markdown",
   "metadata": {},
   "source": [
    "## Task definition\n",
    "\n",
    "Task $i$ is defined by index sets, but we cannot initialize parameters or variables by indexed sets in Pyomo so we use an indexed set and tuples. We could just use the map directly, but it may be easier to specify the index set for the GUI. The user defines the index set and `mola` builds the tuples."
   ]
  },
  {
   "cell_type": "code",
   "execution_count": 5,
   "metadata": {},
   "outputs": [
    {
     "name": "stdout",
     "output_type": "stream",
     "text": [
      "S_I : States that feed task i\n",
      "    Size=1, Index=None, Ordered=Insertion\n",
      "    Key  : Dimen : Domain     : Size : Members\n",
      "    None :     2 : S_I_domain :    4 : {('S1', 'I1'), ('S2', 'I1'), ('S3', 'I1'), ('S3', 'I2')}\n"
     ]
    }
   ],
   "source": [
    "map_S_I = {'I1': ['S1', 'S2', 'S3'],\n",
    "           'I2': ['S3']}\n",
    "model.SI = Set(model.I, initialize=map_S_I, within=model.States)\n",
    "model.S_I = Set(within=model.States * model.I, initialize=[(s, i) for i in model.I for s in model.SI[i]], \n",
    "                doc='States that feed task i')\n",
    "model.S_I.pprint()"
   ]
  },
  {
   "cell_type": "code",
   "execution_count": 6,
   "metadata": {},
   "outputs": [
    {
     "name": "stdout",
     "output_type": "stream",
     "text": [
      "S_bar_I : States produced by task i\n",
      "    Size=1, Index=None, Ordered=Insertion\n",
      "    Key  : Dimen : Domain         : Size : Members\n",
      "    None :     2 : S_bar_I_domain :    3 : {('S1', 'I1'), ('S2', 'I1'), ('S3', 'I2')}\n"
     ]
    }
   ],
   "source": [
    "map_S_bar_I = {'I1': ['S1', 'S2'],\n",
    "              'I2': ['S3']}\n",
    "model.S_barI = Set(model.I, initialize=map_S_bar_I, within=model.States)\n",
    "model.S_bar_I = Set(within=model.States * model.I, initialize=[(s, i) for i in model.I for s in model.S_barI[i]],\n",
    "                   doc='States produced by task i')\n",
    "model.S_bar_I.pprint()"
   ]
  },
  {
   "cell_type": "code",
   "execution_count": 7,
   "metadata": {},
   "outputs": [
    {
     "name": "stdout",
     "output_type": "stream",
     "text": [
      "rho : Proportion of input of task i from state s\n",
      "    Size=4, Index=S_I, Domain=Any, Default=None, Mutable=False\n",
      "    Key          : Value\n",
      "    ('S1', 'I1') : 0.3333333333333333\n",
      "    ('S2', 'I1') : 0.3333333333333333\n",
      "    ('S3', 'I1') : 0.3333333333333333\n",
      "    ('S3', 'I2') :                1.0\n"
     ]
    }
   ],
   "source": [
    "def rho_initialize(model, s, i):\n",
    "    return 1/len(model.SI[i])\n",
    "model.rho = Param(model.S_I, initialize=rho_initialize, doc='Proportion of input of task i from state s')\n",
    "model.rho.pprint()"
   ]
  },
  {
   "cell_type": "code",
   "execution_count": 8,
   "metadata": {},
   "outputs": [
    {
     "name": "stdout",
     "output_type": "stream",
     "text": [
      "rho_bar : Proportion of output of task i to state s\n",
      "    Size=3, Index=S_bar_I, Domain=Any, Default=None, Mutable=False\n",
      "    Key          : Value\n",
      "    ('S1', 'I1') : 0.3333333333333333\n",
      "    ('S2', 'I1') : 0.3333333333333333\n",
      "    ('S3', 'I2') :                1.0\n"
     ]
    }
   ],
   "source": [
    "def rho_bar_initialize(model, s, i):\n",
    "    return 1/len(model.SI[i])\n",
    "model.rho_bar = Param(model.S_bar_I, initialize=rho_bar_initialize, doc='Proportion of output of task i to state s')\n",
    "model.rho_bar.pprint()"
   ]
  },
  {
   "cell_type": "code",
   "execution_count": 9,
   "metadata": {},
   "outputs": [],
   "source": [
    "model.P = Param(model.S_bar_I, initialize=1, doc='Processing time for the output of task i to state s')"
   ]
  },
  {
   "cell_type": "code",
   "execution_count": 10,
   "metadata": {},
   "outputs": [
    {
     "name": "stdout",
     "output_type": "stream",
     "text": [
      "p : Completion time for task i\n",
      "    Size=2, Index=I, Domain=Any, Default=None, Mutable=False\n",
      "    Key : Value\n",
      "     I1 :     1\n",
      "     I2 :     1\n"
     ]
    }
   ],
   "source": [
    "def p_rule(model, i):\n",
    "    return max(model.P[s, i] for s in model.S_barI[i])\n",
    "model.p = Param(model.I, initialize=p_rule, doc='Completion time for task i')\n",
    "model.p.pprint()"
   ]
  },
  {
   "cell_type": "code",
   "execution_count": 11,
   "metadata": {},
   "outputs": [],
   "source": [
    "map_K_I = {'I1': ['J1', 'J2'],\n",
    "           'I2': ['J2']}\n",
    "model.KI = Set(model.I, initialize=map_K_I, within=model.J)\n",
    "model.K_I = Set(within=model.J * model.I, initialize=[(j, i) for i in model.I for j in model.KI[i]], \n",
    "                doc='Units capable of performing task i')"
   ]
  },
  {
   "cell_type": "markdown",
   "metadata": {},
   "source": [
    "## State definition\n",
    "\n",
    "The set $T_s$ is the set of tasks that receive material from state $s$. It is the inversion of the set $S_i$."
   ]
  },
  {
   "cell_type": "code",
   "execution_count": 12,
   "metadata": {},
   "outputs": [
    {
     "data": {
      "text/plain": [
       "{'S1': ['I1'], 'S2': ['I1'], 'S3': ['I1', 'I2']}"
      ]
     },
     "execution_count": 12,
     "metadata": {},
     "output_type": "execute_result"
    }
   ],
   "source": [
    "map_T_S = {}\n",
    "for s, i in model.S_I:\n",
    "    map_T_S.setdefault(s, []).append(i)\n",
    "\n",
    "map_T_S"
   ]
  },
  {
   "cell_type": "code",
   "execution_count": 13,
   "metadata": {},
   "outputs": [],
   "source": [
    "model.TS = Set(model.States, initialize=map_T_S, within=model.I)\n",
    "model.T_S = Set(within=model.I * model.States, initialize=[(i, s) for s in model.States for i in model.TS[s]], \n",
    "                doc='Tasks receiving material from state s')"
   ]
  },
  {
   "cell_type": "code",
   "execution_count": 14,
   "metadata": {},
   "outputs": [
    {
     "data": {
      "text/plain": [
       "{'S1': ['I1'], 'S2': ['I1'], 'S3': ['I2']}"
      ]
     },
     "execution_count": 14,
     "metadata": {},
     "output_type": "execute_result"
    }
   ],
   "source": [
    "map_T_bar_S = {}\n",
    "for s, i in model.S_bar_I:\n",
    "    map_T_bar_S.setdefault(s, []).append(i)\n",
    "\n",
    "map_T_bar_S"
   ]
  },
  {
   "cell_type": "code",
   "execution_count": 15,
   "metadata": {},
   "outputs": [],
   "source": [
    "model.T_barS = Set(model.States, initialize=map_T_bar_S, within=model.I)\n",
    "model.T_bar_S = Set(within=model.I * model.States, initialize=[(i, s) for s in model.States for i in model.T_barS[s]],\n",
    "                   doc='Tasks producing material in state s')\n",
    "model.C = Param(model.States, initialize=1, doc='Maximum storage capacity dedicated to state s')"
   ]
  },
  {
   "cell_type": "markdown",
   "metadata": {},
   "source": [
    "## Unit definition\n",
    "\n",
    "The set $I_j$ is the set of tasks that can be performed by unit $j$. It is the inversion of the set $K_i$."
   ]
  },
  {
   "cell_type": "code",
   "execution_count": 16,
   "metadata": {},
   "outputs": [],
   "source": [
    "map_I_J = {}\n",
    "for j, i in model.K_I:\n",
    "    map_I_J.setdefault(j, []).append(i)"
   ]
  },
  {
   "cell_type": "code",
   "execution_count": 17,
   "metadata": {},
   "outputs": [
    {
     "name": "stdout",
     "output_type": "stream",
     "text": [
      "I_J : Tasks that can be performed by unit j\n",
      "    Size=1, Index=None, Ordered=Insertion\n",
      "    Key  : Dimen : Domain     : Size : Members\n",
      "    None :     2 : I_J_domain :    3 : {('I1', 'J1'), ('I1', 'J2'), ('I2', 'J2')}\n"
     ]
    }
   ],
   "source": [
    "model.IJ = Set(model.J, initialize=map_I_J, within=model.I)\n",
    "model.I_J = Set(within=model.I * model.J, initialize=[(i, j) for j in model.J for i in model.IJ[j]],\n",
    "                doc='Tasks that can be performed by unit j')\n",
    "model.I_J.pprint()"
   ]
  },
  {
   "cell_type": "code",
   "execution_count": 18,
   "metadata": {},
   "outputs": [
    {
     "name": "stdout",
     "output_type": "stream",
     "text": [
      "{Member of IJ} : Size=2, Index=J, Ordered=Insertion\n",
      "    Key : Dimen : Domain : Size : Members\n",
      "     J2 :     1 :      I :    2 : {'I1', 'I2'}\n"
     ]
    }
   ],
   "source": [
    "model.IJ['J2'].pprint()"
   ]
  },
  {
   "cell_type": "code",
   "execution_count": 19,
   "metadata": {},
   "outputs": [],
   "source": [
    "model.V_max = Param(model.I_J, initialize=1, doc='Maximum capacity of unit j when used for performing task i')\n",
    "model.V_min = Param(model.I_J, initialize=0, doc='Minimum capacity of unit j when used for performing task i')"
   ]
  },
  {
   "cell_type": "markdown",
   "metadata": {},
   "source": [
    "# Variables"
   ]
  },
  {
   "cell_type": "code",
   "execution_count": 20,
   "metadata": {},
   "outputs": [
    {
     "name": "stdout",
     "output_type": "stream",
     "text": [
      "W : Start task k using unit j at time t\n",
      "    Size=15, Index=W_index\n",
      "    Key             : Lower : Value : Upper : Fixed : Stale : Domain\n",
      "    ('I1', 'J1', 1) :     0 :  None :     1 : False :  True : Binary\n",
      "    ('I1', 'J1', 2) :     0 :  None :     1 : False :  True : Binary\n",
      "    ('I1', 'J1', 3) :     0 :  None :     1 : False :  True : Binary\n",
      "    ('I1', 'J1', 4) :     0 :  None :     1 : False :  True : Binary\n",
      "    ('I1', 'J1', 5) :     0 :  None :     1 : False :  True : Binary\n",
      "    ('I1', 'J2', 1) :     0 :  None :     1 : False :  True : Binary\n",
      "    ('I1', 'J2', 2) :     0 :  None :     1 : False :  True : Binary\n",
      "    ('I1', 'J2', 3) :     0 :  None :     1 : False :  True : Binary\n",
      "    ('I1', 'J2', 4) :     0 :  None :     1 : False :  True : Binary\n",
      "    ('I1', 'J2', 5) :     0 :  None :     1 : False :  True : Binary\n",
      "    ('I2', 'J2', 1) :     0 :  None :     1 : False :  True : Binary\n",
      "    ('I2', 'J2', 2) :     0 :  None :     1 : False :  True : Binary\n",
      "    ('I2', 'J2', 3) :     0 :  None :     1 : False :  True : Binary\n",
      "    ('I2', 'J2', 4) :     0 :  None :     1 : False :  True : Binary\n",
      "    ('I2', 'J2', 5) :     0 :  None :     1 : False :  True : Binary\n"
     ]
    }
   ],
   "source": [
    "model.W = Var(model.I_J, model.T, doc='Start task k using unit j at time t', within=Binary)\n",
    "model.W.pprint()"
   ]
  },
  {
   "cell_type": "code",
   "execution_count": 21,
   "metadata": {},
   "outputs": [],
   "source": [
    "model.B = Var(model.I_J, model.T, doc='Amount of material which starts undergoing task k in unit j at beginning of t')\n",
    "model.S = Var(model.States, model.T, doc='Amount of material stored in state s at beginning of t')"
   ]
  },
  {
   "cell_type": "markdown",
   "metadata": {},
   "source": [
    "# Constraints"
   ]
  },
  {
   "cell_type": "markdown",
   "metadata": {},
   "source": [
    "## Allocation Constraints"
   ]
  },
  {
   "cell_type": "code",
   "execution_count": 22,
   "metadata": {},
   "outputs": [],
   "source": [
    "model.M = Param(initialize=1000, doc='Allocation constraint parameter')\n",
    "def allocation_constraints_rule(model, i, j, t):\n",
    "    lhs = sum(model.W[idash, j, tdash] for tdash in model.T for idash in model.IJ[j] \n",
    "              if tdash >= t and tdash <= t + model.p[i] - 1) - 1\n",
    "    rhs = model.M * (1 - model.W[i, j, t])\n",
    "    return lhs <= rhs\n",
    "model.allocation_constraints = Constraint(model.I_J, model.T, rule=allocation_constraints_rule)"
   ]
  },
  {
   "cell_type": "markdown",
   "metadata": {},
   "source": [
    "Note that we use the indexed set `model.IJ` to sum over tasks for fixed unit $j$."
   ]
  },
  {
   "cell_type": "markdown",
   "metadata": {},
   "source": [
    "## Capacity Limitations"
   ]
  },
  {
   "cell_type": "code",
   "execution_count": 23,
   "metadata": {},
   "outputs": [],
   "source": [
    "def capacity_limitations_rule(model, j, i, t):\n",
    "    return inequality(model.W[i, j, t] * model.V_min[i, j], model.B[i, j, t], model.B[i, j, t] <= model.W[i, j, t] * model.V_max[i, j]) \n",
    "model.capacity_limitations = Constraint(model.K_I, model.T, rule=capacity_limitations_rule)"
   ]
  },
  {
   "cell_type": "markdown",
   "metadata": {},
   "source": [
    "## Material Balances"
   ]
  },
  {
   "cell_type": "code",
   "execution_count": 24,
   "metadata": {},
   "outputs": [
    {
     "name": "stdout",
     "output_type": "stream",
     "text": [
      "T_barS : Size=3, Index=States, Ordered=Insertion\n",
      "    Key : Dimen : Domain : Size : Members\n",
      "     S1 :     1 :      I :    1 : {'I1',}\n",
      "     S2 :     1 :      I :    1 : {'I1',}\n",
      "     S3 :     1 :      I :    1 : {'I2',}\n"
     ]
    }
   ],
   "source": [
    "model.T_barS.pprint()"
   ]
  },
  {
   "cell_type": "code",
   "execution_count": 25,
   "metadata": {},
   "outputs": [],
   "source": [
    "def material_balances_rule(model, s, t):\n",
    "    if t > model.T.first():\n",
    "        rhs = model.S[s, t-1]\n",
    "        rhs += sum(model.rho_bar[s, i] * model.B[i, j, t-model.P[s, i]] \n",
    "                   for i in model.T_barS[s] for j in model.KI[i])\n",
    "        rhs -= sum(model.rho[s, i] * model.B[i, j, t] for i in model.TS[s] for j in model.KI[i])    \n",
    "        return model.S[s, t] == rhs\n",
    "    else:\n",
    "        return Constraint.Feasible\n",
    "model.material_balances = Constraint(model.States, model.T, rule=material_balances_rule)"
   ]
  },
  {
   "cell_type": "markdown",
   "metadata": {},
   "source": [
    "## Product deliveries and raw material receipts during the horizon\n",
    "\n",
    "This is a modification of the previous constraint that we ignore here."
   ]
  },
  {
   "cell_type": "markdown",
   "metadata": {},
   "source": [
    "## Temporary Unavailability of Equipment\n",
    "\n",
    "We don't need this constraint for the example."
   ]
  },
  {
   "cell_type": "markdown",
   "metadata": {},
   "source": [
    "## Limited Availability of Utilities and Man-Power\n",
    "\n",
    "We don't need this constraint for the example."
   ]
  },
  {
   "cell_type": "markdown",
   "metadata": {},
   "source": [
    "## Cleaning Equipment Items\n",
    "\n",
    "We don't need this constraint for the example."
   ]
  },
  {
   "cell_type": "markdown",
   "metadata": {},
   "source": [
    "# Objective Function\n",
    "\n",
    "The objective for the paper is the maximisation of profit."
   ]
  },
  {
   "cell_type": "code",
   "execution_count": 29,
   "metadata": {},
   "outputs": [],
   "source": [
    "def cost_rule(model):\n",
    "    cost = 1\n",
    "    return cost\n",
    "model.Cost = Param(model.States, model.T, initialize=cost_rule,\n",
    "                   doc='Unit price of material in state s at time t')"
   ]
  },
  {
   "cell_type": "code",
   "execution_count": 30,
   "metadata": {},
   "outputs": [
    {
     "name": "stdout",
     "output_type": "stream",
     "text": [
      "WARNING: Implicitly replacing the Component attribute obj (type=<class\n",
      "    'pyomo.core.base.objective.SimpleObjective'>) on block unknown with a new\n",
      "    Component (type=<class 'pyomo.core.base.objective.SimpleObjective'>). This\n",
      "    is usually indicative of a modelling error. To avoid this warning, use\n",
      "    block.del_component() and block.add_component().\n",
      "ERROR: Rule failed when generating expression for objective obj:\n",
      "    AttributeError: 'ConcreteModel' object has no attribute 'D'\n",
      "ERROR: Constructing component 'obj' from data=None failed: AttributeError:\n",
      "    'ConcreteModel' object has no attribute 'D'\n"
     ]
    },
    {
     "ename": "AttributeError",
     "evalue": "'ConcreteModel' object has no attribute 'D'",
     "output_type": "error",
     "traceback": [
      "\u001b[0;31m---------------------------------------------------------------------------\u001b[0m",
      "\u001b[0;31mAttributeError\u001b[0m                            Traceback (most recent call last)",
      "\u001b[0;32m<ipython-input-30-ae4933b6ffca>\u001b[0m in \u001b[0;36m<module>\u001b[0;34m\u001b[0m\n\u001b[1;32m      3\u001b[0m               sum(model.Cost[s, t] * model.D[s, t] for t in range(1, model.H+1)) for s in model.States)\n\u001b[1;32m      4\u001b[0m     \u001b[0;32mreturn\u001b[0m \u001b[0mvalue_products\u001b[0m\u001b[0;34m\u001b[0m\u001b[0;34m\u001b[0m\u001b[0m\n\u001b[0;32m----> 5\u001b[0;31m \u001b[0mmodel\u001b[0m\u001b[0;34m.\u001b[0m\u001b[0mobj\u001b[0m \u001b[0;34m=\u001b[0m \u001b[0mObjective\u001b[0m\u001b[0;34m(\u001b[0m\u001b[0mrule\u001b[0m\u001b[0;34m=\u001b[0m\u001b[0mmaximise_profit_rule\u001b[0m\u001b[0;34m,\u001b[0m \u001b[0mdoc\u001b[0m\u001b[0;34m=\u001b[0m\u001b[0;34m'Maximisation of Profit'\u001b[0m\u001b[0;34m)\u001b[0m\u001b[0;34m\u001b[0m\u001b[0;34m\u001b[0m\u001b[0m\n\u001b[0m",
      "\u001b[0;32m~/anaconda3/envs/LCA/lib/python3.7/site-packages/pyomo/core/base/block.py\u001b[0m in \u001b[0;36m__setattr__\u001b[0;34m(self, name, val)\u001b[0m\n\u001b[1;32m    571\u001b[0m                        type(val)))\n\u001b[1;32m    572\u001b[0m                 \u001b[0mself\u001b[0m\u001b[0;34m.\u001b[0m\u001b[0mdel_component\u001b[0m\u001b[0;34m(\u001b[0m\u001b[0mname\u001b[0m\u001b[0;34m)\u001b[0m\u001b[0;34m\u001b[0m\u001b[0;34m\u001b[0m\u001b[0m\n\u001b[0;32m--> 573\u001b[0;31m                 \u001b[0mself\u001b[0m\u001b[0;34m.\u001b[0m\u001b[0madd_component\u001b[0m\u001b[0;34m(\u001b[0m\u001b[0mname\u001b[0m\u001b[0;34m,\u001b[0m \u001b[0mval\u001b[0m\u001b[0;34m)\u001b[0m\u001b[0;34m\u001b[0m\u001b[0;34m\u001b[0m\u001b[0m\n\u001b[0m\u001b[1;32m    574\u001b[0m             \u001b[0;32melse\u001b[0m\u001b[0;34m:\u001b[0m\u001b[0;34m\u001b[0m\u001b[0;34m\u001b[0m\u001b[0m\n\u001b[1;32m    575\u001b[0m                 \u001b[0;31m#\u001b[0m\u001b[0;34m\u001b[0m\u001b[0;34m\u001b[0m\u001b[0;34m\u001b[0m\u001b[0m\n",
      "\u001b[0;32m~/anaconda3/envs/LCA/lib/python3.7/site-packages/pyomo/core/base/block.py\u001b[0m in \u001b[0;36madd_component\u001b[0;34m(self, name, val)\u001b[0m\n\u001b[1;32m   1085\u001b[0m                              _blockName, str(data))\n\u001b[1;32m   1086\u001b[0m             \u001b[0;32mtry\u001b[0m\u001b[0;34m:\u001b[0m\u001b[0;34m\u001b[0m\u001b[0;34m\u001b[0m\u001b[0m\n\u001b[0;32m-> 1087\u001b[0;31m                 \u001b[0mval\u001b[0m\u001b[0;34m.\u001b[0m\u001b[0mconstruct\u001b[0m\u001b[0;34m(\u001b[0m\u001b[0mdata\u001b[0m\u001b[0;34m)\u001b[0m\u001b[0;34m\u001b[0m\u001b[0;34m\u001b[0m\u001b[0m\n\u001b[0m\u001b[1;32m   1088\u001b[0m             \u001b[0;32mexcept\u001b[0m\u001b[0;34m:\u001b[0m\u001b[0;34m\u001b[0m\u001b[0;34m\u001b[0m\u001b[0m\n\u001b[1;32m   1089\u001b[0m                 \u001b[0merr\u001b[0m \u001b[0;34m=\u001b[0m \u001b[0msys\u001b[0m\u001b[0;34m.\u001b[0m\u001b[0mexc_info\u001b[0m\u001b[0;34m(\u001b[0m\u001b[0;34m)\u001b[0m\u001b[0;34m[\u001b[0m\u001b[0;36m1\u001b[0m\u001b[0;34m]\u001b[0m\u001b[0;34m\u001b[0m\u001b[0;34m\u001b[0m\u001b[0m\n",
      "\u001b[0;32m~/anaconda3/envs/LCA/lib/python3.7/site-packages/pyomo/core/base/objective.py\u001b[0m in \u001b[0;36mconstruct\u001b[0;34m(self, data)\u001b[0m\n\u001b[1;32m    353\u001b[0m             \u001b[0;32melse\u001b[0m\u001b[0;34m:\u001b[0m\u001b[0;34m\u001b[0m\u001b[0;34m\u001b[0m\u001b[0m\n\u001b[1;32m    354\u001b[0m                 \u001b[0;32mtry\u001b[0m\u001b[0;34m:\u001b[0m\u001b[0;34m\u001b[0m\u001b[0;34m\u001b[0m\u001b[0m\n\u001b[0;32m--> 355\u001b[0;31m                     \u001b[0mtmp\u001b[0m \u001b[0;34m=\u001b[0m \u001b[0m_init_rule\u001b[0m\u001b[0;34m(\u001b[0m\u001b[0m_self_parent\u001b[0m\u001b[0;34m)\u001b[0m\u001b[0;34m\u001b[0m\u001b[0;34m\u001b[0m\u001b[0m\n\u001b[0m\u001b[1;32m    356\u001b[0m                 \u001b[0;32mexcept\u001b[0m \u001b[0mException\u001b[0m\u001b[0;34m:\u001b[0m\u001b[0;34m\u001b[0m\u001b[0;34m\u001b[0m\u001b[0m\n\u001b[1;32m    357\u001b[0m                     \u001b[0merr\u001b[0m \u001b[0;34m=\u001b[0m \u001b[0msys\u001b[0m\u001b[0;34m.\u001b[0m\u001b[0mexc_info\u001b[0m\u001b[0;34m(\u001b[0m\u001b[0;34m)\u001b[0m\u001b[0;34m[\u001b[0m\u001b[0;36m1\u001b[0m\u001b[0;34m]\u001b[0m\u001b[0;34m\u001b[0m\u001b[0;34m\u001b[0m\u001b[0m\n",
      "\u001b[0;32m<ipython-input-30-ae4933b6ffca>\u001b[0m in \u001b[0;36mmaximise_profit_rule\u001b[0;34m(model)\u001b[0m\n\u001b[1;32m      1\u001b[0m \u001b[0;32mdef\u001b[0m \u001b[0mmaximise_profit_rule\u001b[0m\u001b[0;34m(\u001b[0m\u001b[0mmodel\u001b[0m\u001b[0;34m)\u001b[0m\u001b[0;34m:\u001b[0m\u001b[0;34m\u001b[0m\u001b[0;34m\u001b[0m\u001b[0m\n\u001b[1;32m      2\u001b[0m     value_products = sum(model.Cost[s, model.H+1] * model.S[s, model.H+1] +\n\u001b[0;32m----> 3\u001b[0;31m               sum(model.Cost[s, t] * model.D[s, t] for t in range(1, model.H+1)) for s in model.States)\n\u001b[0m\u001b[1;32m      4\u001b[0m     \u001b[0;32mreturn\u001b[0m \u001b[0mvalue_products\u001b[0m\u001b[0;34m\u001b[0m\u001b[0;34m\u001b[0m\u001b[0m\n\u001b[1;32m      5\u001b[0m \u001b[0mmodel\u001b[0m\u001b[0;34m.\u001b[0m\u001b[0mobj\u001b[0m \u001b[0;34m=\u001b[0m \u001b[0mObjective\u001b[0m\u001b[0;34m(\u001b[0m\u001b[0mrule\u001b[0m\u001b[0;34m=\u001b[0m\u001b[0mmaximise_profit_rule\u001b[0m\u001b[0;34m,\u001b[0m \u001b[0mdoc\u001b[0m\u001b[0;34m=\u001b[0m\u001b[0;34m'Maximisation of Profit'\u001b[0m\u001b[0;34m)\u001b[0m\u001b[0;34m\u001b[0m\u001b[0;34m\u001b[0m\u001b[0m\n",
      "\u001b[0;32m<ipython-input-30-ae4933b6ffca>\u001b[0m in \u001b[0;36m<genexpr>\u001b[0;34m(.0)\u001b[0m\n\u001b[1;32m      1\u001b[0m \u001b[0;32mdef\u001b[0m \u001b[0mmaximise_profit_rule\u001b[0m\u001b[0;34m(\u001b[0m\u001b[0mmodel\u001b[0m\u001b[0;34m)\u001b[0m\u001b[0;34m:\u001b[0m\u001b[0;34m\u001b[0m\u001b[0;34m\u001b[0m\u001b[0m\n\u001b[1;32m      2\u001b[0m     value_products = sum(model.Cost[s, model.H+1] * model.S[s, model.H+1] +\n\u001b[0;32m----> 3\u001b[0;31m               sum(model.Cost[s, t] * model.D[s, t] for t in range(1, model.H+1)) for s in model.States)\n\u001b[0m\u001b[1;32m      4\u001b[0m     \u001b[0;32mreturn\u001b[0m \u001b[0mvalue_products\u001b[0m\u001b[0;34m\u001b[0m\u001b[0;34m\u001b[0m\u001b[0m\n\u001b[1;32m      5\u001b[0m \u001b[0mmodel\u001b[0m\u001b[0;34m.\u001b[0m\u001b[0mobj\u001b[0m \u001b[0;34m=\u001b[0m \u001b[0mObjective\u001b[0m\u001b[0;34m(\u001b[0m\u001b[0mrule\u001b[0m\u001b[0;34m=\u001b[0m\u001b[0mmaximise_profit_rule\u001b[0m\u001b[0;34m,\u001b[0m \u001b[0mdoc\u001b[0m\u001b[0;34m=\u001b[0m\u001b[0;34m'Maximisation of Profit'\u001b[0m\u001b[0;34m)\u001b[0m\u001b[0;34m\u001b[0m\u001b[0;34m\u001b[0m\u001b[0m\n",
      "\u001b[0;32m<ipython-input-30-ae4933b6ffca>\u001b[0m in \u001b[0;36m<genexpr>\u001b[0;34m(.0)\u001b[0m\n\u001b[1;32m      1\u001b[0m \u001b[0;32mdef\u001b[0m \u001b[0mmaximise_profit_rule\u001b[0m\u001b[0;34m(\u001b[0m\u001b[0mmodel\u001b[0m\u001b[0;34m)\u001b[0m\u001b[0;34m:\u001b[0m\u001b[0;34m\u001b[0m\u001b[0;34m\u001b[0m\u001b[0m\n\u001b[1;32m      2\u001b[0m     value_products = sum(model.Cost[s, model.H+1] * model.S[s, model.H+1] +\n\u001b[0;32m----> 3\u001b[0;31m               sum(model.Cost[s, t] * model.D[s, t] for t in range(1, model.H+1)) for s in model.States)\n\u001b[0m\u001b[1;32m      4\u001b[0m     \u001b[0;32mreturn\u001b[0m \u001b[0mvalue_products\u001b[0m\u001b[0;34m\u001b[0m\u001b[0;34m\u001b[0m\u001b[0m\n\u001b[1;32m      5\u001b[0m \u001b[0mmodel\u001b[0m\u001b[0;34m.\u001b[0m\u001b[0mobj\u001b[0m \u001b[0;34m=\u001b[0m \u001b[0mObjective\u001b[0m\u001b[0;34m(\u001b[0m\u001b[0mrule\u001b[0m\u001b[0;34m=\u001b[0m\u001b[0mmaximise_profit_rule\u001b[0m\u001b[0;34m,\u001b[0m \u001b[0mdoc\u001b[0m\u001b[0;34m=\u001b[0m\u001b[0;34m'Maximisation of Profit'\u001b[0m\u001b[0;34m)\u001b[0m\u001b[0;34m\u001b[0m\u001b[0;34m\u001b[0m\u001b[0m\n",
      "\u001b[0;32m~/anaconda3/envs/LCA/lib/python3.7/site-packages/pyomo/core/base/block.py\u001b[0m in \u001b[0;36m__getattr__\u001b[0;34m(self, val)\u001b[0m\n\u001b[1;32m    522\u001b[0m         \u001b[0;31m# throw the \"normal\" AttributeError\u001b[0m\u001b[0;34m\u001b[0m\u001b[0;34m\u001b[0m\u001b[0;34m\u001b[0m\u001b[0m\n\u001b[1;32m    523\u001b[0m         raise AttributeError(\"'%s' object has no attribute '%s'\"\n\u001b[0;32m--> 524\u001b[0;31m                              % (self.__class__.__name__, val))\n\u001b[0m\u001b[1;32m    525\u001b[0m \u001b[0;34m\u001b[0m\u001b[0m\n\u001b[1;32m    526\u001b[0m     \u001b[0;32mdef\u001b[0m \u001b[0m__setattr__\u001b[0m\u001b[0;34m(\u001b[0m\u001b[0mself\u001b[0m\u001b[0;34m,\u001b[0m \u001b[0mname\u001b[0m\u001b[0;34m,\u001b[0m \u001b[0mval\u001b[0m\u001b[0;34m)\u001b[0m\u001b[0;34m:\u001b[0m\u001b[0;34m\u001b[0m\u001b[0;34m\u001b[0m\u001b[0m\n",
      "\u001b[0;31mAttributeError\u001b[0m: 'ConcreteModel' object has no attribute 'D'"
     ]
    }
   ],
   "source": [
    "def maximise_profit_rule(model):\n",
    "    value_products = sum(model.Cost[s, model.H+1] * model.S[s, model.H+1] +\n",
    "              sum(model.Cost[s, t] * model.D[s, t] for t in range(1, model.H+1)) for s in model.States)\n",
    "    return value_products\n",
    "model.obj = Objective(rule=maximise_profit_rule, doc='Maximisation of Profit')"
   ]
  }
 ],
 "metadata": {
  "kernelspec": {
   "display_name": "Python 3",
   "language": "python",
   "name": "python3"
  },
  "language_info": {
   "codemirror_mode": {
    "name": "ipython",
    "version": 3
   },
   "file_extension": ".py",
   "mimetype": "text/x-python",
   "name": "python",
   "nbconvert_exporter": "python",
   "pygments_lexer": "ipython3",
   "version": "3.7.9"
  },
  "toc": {
   "base_numbering": 1,
   "nav_menu": {},
   "number_sections": true,
   "sideBar": true,
   "skip_h1_title": false,
   "title_cell": "Table of Contents",
   "title_sidebar": "Contents",
   "toc_cell": false,
   "toc_position": {},
   "toc_section_display": true,
   "toc_window_display": true
  }
 },
 "nbformat": 4,
 "nbformat_minor": 4
}
