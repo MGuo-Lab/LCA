{
 "cells": [
  {
   "cell_type": "markdown",
   "metadata": {},
   "source": [
    "# State Task Networks\n",
    "\n",
    "This notebook implements in Pyomo the state task network described in Section 3 of Kondili, Pantelides & Sargent (1993)."
   ]
  },
  {
   "cell_type": "code",
   "execution_count": 1,
   "metadata": {},
   "outputs": [],
   "source": [
    "from pyomo.environ import *\n",
    "import itertools"
   ]
  },
  {
   "cell_type": "code",
   "execution_count": 2,
   "metadata": {},
   "outputs": [],
   "source": [
    "model = ConcreteModel()"
   ]
  },
  {
   "cell_type": "markdown",
   "metadata": {},
   "source": [
    "# Notation\n",
    "\n",
    "The time discretisation is defined by"
   ]
  },
  {
   "cell_type": "code",
   "execution_count": 3,
   "metadata": {},
   "outputs": [
    {
     "name": "stdout",
     "output_type": "stream",
     "text": [
      "T : Time Periods\n",
      "    Size=1, Index=None, Ordered=Insertion\n",
      "    Key  : Dimen : Domain : Size : Members\n",
      "    None :     1 :    Any :   12 : {0, 1, 2, 3, 4, 5, 6, 7, 8, 9, 10, 11}\n"
     ]
    }
   ],
   "source": [
    "model.H = 10\n",
    "model.T = Set(initialize=RangeSet(0, model.H + 1), doc='Time Periods')\n",
    "model.T.pprint()"
   ]
  },
  {
   "cell_type": "markdown",
   "metadata": {},
   "source": [
    "States, tasks and units are defined by"
   ]
  },
  {
   "cell_type": "code",
   "execution_count": 4,
   "metadata": {},
   "outputs": [],
   "source": [
    "model.States = Set(\n",
    "    initialize=['Feed A', 'Feed B', 'Feed C', 'Hot A', 'Int BC', 'Int AB',\n",
    "                'Impure E', 'Product 1', 'Product 2'], doc='States')\n",
    "model.I = Set(initialize=['Heating', 'Reaction 1', 'Reaction 2', 'Reaction 3', 'Separation'], doc='Tasks')\n",
    "model.J = Set(initialize=['Heater', 'Reactor 1', 'Reactor 2', 'Still'], doc='Units')"
   ]
  },
  {
   "cell_type": "markdown",
   "metadata": {},
   "source": [
    "## Task definition\n",
    "\n",
    "Task $i$ is defined by indexed sets, but we cannot initialize parameters or variables by indexed sets in Pyomo so we use an indexed set and tuples. We could just use the map directly, but it may be easier to specify the index set for the GUI. The user defines the index set and then `mola` builds the tuples."
   ]
  },
  {
   "cell_type": "code",
   "execution_count": 5,
   "metadata": {},
   "outputs": [
    {
     "name": "stdout",
     "output_type": "stream",
     "text": [
      "S_I : States that feed task i\n",
      "    Size=1, Index=None, Ordered=Insertion\n",
      "    Key  : Dimen : Domain     : Size : Members\n",
      "    None :     2 : S_I_domain :    8 : {('Feed A', 'Heating'), ('Feed B', 'Reaction 1'), ('Feed C', 'Reaction 1'), ('Hot A', 'Reaction 2'), ('Int BC', 'Reaction 2'), ('Int AB', 'Reaction 3'), ('Feed C', 'Reaction 3'), ('Impure E', 'Separation')}\n"
     ]
    }
   ],
   "source": [
    "map_S_I = {\n",
    "    'Heating': ['Feed A'],\n",
    "    'Reaction 1': ['Feed B', 'Feed C'],\n",
    "    'Reaction 2': ['Hot A', 'Int BC'],\n",
    "    'Reaction 3': ['Int AB', 'Feed C'],\n",
    "    'Separation': ['Impure E']\n",
    "}\n",
    "model.SI = Set(model.I, initialize=map_S_I, within=model.States)\n",
    "model.S_I = Set(within=model.States * model.I, initialize=[(s, i) for i in model.I for s in model.SI[i]], \n",
    "                doc='States that feed task i')\n",
    "model.S_I.pprint()"
   ]
  },
  {
   "cell_type": "code",
   "execution_count": 6,
   "metadata": {},
   "outputs": [
    {
     "name": "stdout",
     "output_type": "stream",
     "text": [
      "S_bar_I : States produced by task i\n",
      "    Size=1, Index=None, Ordered=Insertion\n",
      "    Key  : Dimen : Domain         : Size : Members\n",
      "    None :     2 : S_bar_I_domain :    7 : {('Hot A', 'Heating'), ('Int BC', 'Reaction 1'), ('Product 1', 'Reaction 2'), ('Int AB', 'Reaction 2'), ('Impure E', 'Reaction 3'), ('Product 2', 'Separation'), ('Int AB', 'Separation')}\n"
     ]
    }
   ],
   "source": [
    "map_S_bar_I = {\n",
    "    'Heating': ['Hot A'],\n",
    "    'Reaction 1': ['Int BC'],\n",
    "    'Reaction 2': ['Product 1', 'Int AB'],\n",
    "    'Reaction 3': ['Impure E'],\n",
    "    'Separation': ['Product 2', 'Int AB']\n",
    "}\n",
    "model.S_barI = Set(model.I, initialize=map_S_bar_I, within=model.States)\n",
    "model.S_bar_I = Set(within=model.States * model.I, initialize=[(s, i) for i in model.I for s in model.S_barI[i]],\n",
    "                   doc='States produced by task i')\n",
    "model.S_bar_I.pprint()"
   ]
  },
  {
   "cell_type": "code",
   "execution_count": 7,
   "metadata": {},
   "outputs": [
    {
     "name": "stdout",
     "output_type": "stream",
     "text": [
      "rho : Proportion of input of task i from state s\n",
      "    Size=8, Index=S_I, Domain=Any, Default=None, Mutable=False\n",
      "    Key                        : Value\n",
      "         ('Feed A', 'Heating') :     1\n",
      "      ('Feed B', 'Reaction 1') :   0.5\n",
      "      ('Feed C', 'Reaction 1') :   0.5\n",
      "      ('Feed C', 'Reaction 3') :   0.2\n",
      "       ('Hot A', 'Reaction 2') :   0.4\n",
      "    ('Impure E', 'Separation') :     1\n",
      "      ('Int AB', 'Reaction 3') :   0.8\n",
      "      ('Int BC', 'Reaction 2') :   0.6\n"
     ]
    }
   ],
   "source": [
    "map_rho = {\n",
    "    ('Feed A', 'Heating'): 1,\n",
    "    ('Feed B', 'Reaction 1'): 0.5,\n",
    "    ('Feed C', 'Reaction 1'): 0.5,\n",
    "    ('Hot A', 'Reaction 2'): 0.4,\n",
    "    ('Int BC', 'Reaction 2'): 0.6,\n",
    "    ('Feed C', 'Reaction 3'): 0.2,\n",
    "    ('Int AB', 'Reaction 3'): 0.8,\n",
    "    ('Impure E', 'Separation'): 1\n",
    "}\n",
    "model.rho = Param(model.S_I, initialize=map_rho, doc='Proportion of input of task i from state s')\n",
    "model.rho.pprint()"
   ]
  },
  {
   "cell_type": "code",
   "execution_count": 8,
   "metadata": {},
   "outputs": [
    {
     "name": "stdout",
     "output_type": "stream",
     "text": [
      "rho_bar : Proportion of output of task i to state s\n",
      "    Size=7, Index=S_bar_I, Domain=Any, Default=None, Mutable=False\n",
      "    Key                         : Value\n",
      "           ('Hot A', 'Heating') :     1\n",
      "     ('Impure E', 'Reaction 3') :     1\n",
      "       ('Int AB', 'Reaction 2') :   0.6\n",
      "       ('Int AB', 'Separation') :   0.1\n",
      "       ('Int BC', 'Reaction 1') :     1\n",
      "    ('Product 1', 'Reaction 2') :   0.4\n",
      "    ('Product 2', 'Separation') :   0.9\n"
     ]
    }
   ],
   "source": [
    "map_rho_bar = {\n",
    "    ('Hot A', 'Heating'): 1,\n",
    "    ('Int BC', 'Reaction 1'): 1,\n",
    "    ('Product 1', 'Reaction 2'): 0.4,\n",
    "    ('Int AB', 'Reaction 2'): 0.6,\n",
    "    ('Impure E', 'Reaction 3'): 1,\n",
    "    ('Product 2', 'Separation'): 0.9,\n",
    "    ('Int AB', 'Separation'): 0.1\n",
    "}\n",
    "model.rho_bar = Param(model.S_bar_I, initialize=map_rho_bar,\n",
    "                      doc='Proportion of output of task i to state s')\n",
    "model.rho_bar.pprint()"
   ]
  },
  {
   "cell_type": "code",
   "execution_count": 9,
   "metadata": {},
   "outputs": [
    {
     "name": "stdout",
     "output_type": "stream",
     "text": [
      "P : Processing time for the output of task i to state s\n",
      "    Size=7, Index=S_bar_I, Domain=Any, Default=None, Mutable=False\n",
      "    Key                         : Value\n",
      "           ('Hot A', 'Heating') :     1\n",
      "     ('Impure E', 'Reaction 3') :     1\n",
      "       ('Int AB', 'Reaction 2') :     2\n",
      "       ('Int AB', 'Separation') :     2\n",
      "       ('Int BC', 'Reaction 1') :     2\n",
      "    ('Product 1', 'Reaction 2') :     2\n",
      "    ('Product 2', 'Separation') :     1\n"
     ]
    }
   ],
   "source": [
    "map_P = {\n",
    "    ('Hot A', 'Heating'): 1,\n",
    "    ('Int BC', 'Reaction 1'): 2,\n",
    "    ('Product 1', 'Reaction 2'): 2,\n",
    "    ('Int AB', 'Reaction 2'): 2,\n",
    "    ('Impure E', 'Reaction 3'): 1,\n",
    "    ('Product 2', 'Separation'): 1,\n",
    "    ('Int AB', 'Separation'): 2\n",
    "}\n",
    "model.P = Param(model.S_bar_I, initialize=map_P, \n",
    "                doc='Processing time for the output of task i to state s')\n",
    "model.P.pprint()"
   ]
  },
  {
   "cell_type": "code",
   "execution_count": 10,
   "metadata": {},
   "outputs": [
    {
     "name": "stdout",
     "output_type": "stream",
     "text": [
      "p : Completion time for task i\n",
      "    Size=5, Index=I, Domain=Any, Default=None, Mutable=False\n",
      "    Key        : Value\n",
      "       Heating :     1\n",
      "    Reaction 1 :     2\n",
      "    Reaction 2 :     2\n",
      "    Reaction 3 :     1\n",
      "    Separation :     2\n"
     ]
    }
   ],
   "source": [
    "def p_rule(model, i):\n",
    "    return max(model.P[s, i] for s in model.S_barI[i])\n",
    "model.p = Param(model.I, initialize=p_rule, doc='Completion time for task i')\n",
    "model.p.pprint()"
   ]
  },
  {
   "cell_type": "code",
   "execution_count": 11,
   "metadata": {},
   "outputs": [
    {
     "name": "stdout",
     "output_type": "stream",
     "text": [
      "J : Units\n",
      "    Size=1, Index=None, Ordered=Insertion\n",
      "    Key  : Dimen : Domain : Size : Members\n",
      "    None :     1 :    Any :    4 : {'Heater', 'Reactor 1', 'Reactor 2', 'Still'}\n"
     ]
    }
   ],
   "source": [
    "model.J.pprint()"
   ]
  },
  {
   "cell_type": "code",
   "execution_count": 12,
   "metadata": {},
   "outputs": [
    {
     "name": "stdout",
     "output_type": "stream",
     "text": [
      "K_I : Units capable of performing task i\n",
      "    Size=1, Index=None, Ordered=Insertion\n",
      "    Key  : Dimen : Domain     : Size : Members\n",
      "    None :     2 : K_I_domain :    8 : {('Heater', 'Heating'), ('Reactor 1', 'Reaction 1'), ('Reactor 2', 'Reaction 1'), ('Reactor 1', 'Reaction 2'), ('Reactor 2', 'Reaction 2'), ('Reactor 1', 'Reaction 3'), ('Reactor 2', 'Reaction 3'), ('Still', 'Separation')}\n"
     ]
    }
   ],
   "source": [
    "map_K_I = {\n",
    "    'Heating': ['Heater'],\n",
    "    'Reaction 1': ['Reactor 1', 'Reactor 2'],\n",
    "    'Reaction 2': ['Reactor 1', 'Reactor 2'],\n",
    "    'Reaction 3': ['Reactor 1', 'Reactor 2'],\n",
    "    'Separation': ['Still']\n",
    "}\n",
    "model.KI = Set(model.I, initialize=map_K_I, within=model.J)\n",
    "model.K_I = Set(within=model.J * model.I, initialize=[(j, i) for i in model.I for j in model.KI[i]], \n",
    "                doc='Units capable of performing task i')\n",
    "model.K_I.pprint()"
   ]
  },
  {
   "cell_type": "markdown",
   "metadata": {},
   "source": [
    "## State definition\n",
    "\n",
    "The set $T_s$ is the set of tasks that receive material from state $s$. It is the inversion of the set $S_i$."
   ]
  },
  {
   "cell_type": "code",
   "execution_count": 13,
   "metadata": {},
   "outputs": [
    {
     "data": {
      "text/plain": [
       "{'Feed A': ['Heating'],\n",
       " 'Feed B': ['Reaction 1'],\n",
       " 'Feed C': ['Reaction 1', 'Reaction 3'],\n",
       " 'Hot A': ['Reaction 2'],\n",
       " 'Int BC': ['Reaction 2'],\n",
       " 'Int AB': ['Reaction 3'],\n",
       " 'Impure E': ['Separation']}"
      ]
     },
     "execution_count": 13,
     "metadata": {},
     "output_type": "execute_result"
    }
   ],
   "source": [
    "map_T_S = {}\n",
    "for s, i in model.S_I:\n",
    "    map_T_S.setdefault(s, []).append(i)\n",
    "\n",
    "map_T_S"
   ]
  },
  {
   "cell_type": "code",
   "execution_count": 14,
   "metadata": {},
   "outputs": [
    {
     "name": "stdout",
     "output_type": "stream",
     "text": [
      "T_S : Tasks receiving material from state s\n",
      "    Size=1, Index=None, Ordered=Insertion\n",
      "    Key  : Dimen : Domain     : Size : Members\n",
      "    None :     2 : T_S_domain :    8 : {('Heating', 'Feed A'), ('Reaction 1', 'Feed B'), ('Reaction 1', 'Feed C'), ('Reaction 3', 'Feed C'), ('Reaction 2', 'Hot A'), ('Reaction 2', 'Int BC'), ('Reaction 3', 'Int AB'), ('Separation', 'Impure E')}\n"
     ]
    }
   ],
   "source": [
    "model.TS = Set(model.States, initialize=map_T_S, within=model.I)\n",
    "model.T_S = Set(within=model.I * model.States, \n",
    "                initialize=[(i, s) for s in model.TS.keys() for i in model.TS[s]], \n",
    "                doc='Tasks receiving material from state s')\n",
    "model.T_S.pprint()"
   ]
  },
  {
   "cell_type": "code",
   "execution_count": 15,
   "metadata": {},
   "outputs": [
    {
     "data": {
      "text/plain": [
       "{'Hot A': ['Heating'],\n",
       " 'Int BC': ['Reaction 1'],\n",
       " 'Product 1': ['Reaction 2'],\n",
       " 'Int AB': ['Reaction 2', 'Separation'],\n",
       " 'Impure E': ['Reaction 3'],\n",
       " 'Product 2': ['Separation']}"
      ]
     },
     "execution_count": 15,
     "metadata": {},
     "output_type": "execute_result"
    }
   ],
   "source": [
    "map_T_bar_S = {}\n",
    "for s, i in model.S_bar_I:\n",
    "    map_T_bar_S.setdefault(s, []).append(i)\n",
    "\n",
    "map_T_bar_S"
   ]
  },
  {
   "cell_type": "code",
   "execution_count": 16,
   "metadata": {},
   "outputs": [
    {
     "name": "stdout",
     "output_type": "stream",
     "text": [
      "T_bar_S : Tasks producing material in state s\n",
      "    Size=1, Index=None, Ordered=Insertion\n",
      "    Key  : Dimen : Domain         : Size : Members\n",
      "    None :     2 : T_bar_S_domain :    7 : {('Heating', 'Hot A'), ('Reaction 1', 'Int BC'), ('Reaction 2', 'Int AB'), ('Separation', 'Int AB'), ('Reaction 3', 'Impure E'), ('Reaction 2', 'Product 1'), ('Separation', 'Product 2')}\n"
     ]
    }
   ],
   "source": [
    "model.T_barS = Set(model.States, initialize=map_T_bar_S, within=model.I)\n",
    "model.T_bar_S = Set(within=model.I * model.States, \n",
    "                    initialize=[(i, s) for s in model.T_barS for i in model.T_barS[s]],\n",
    "                    doc='Tasks producing material in state s')\n",
    "model.T_bar_S.pprint()"
   ]
  },
  {
   "cell_type": "code",
   "execution_count": 17,
   "metadata": {},
   "outputs": [
    {
     "name": "stdout",
     "output_type": "stream",
     "text": [
      "States : States\n",
      "    Size=1, Index=None, Ordered=Insertion\n",
      "    Key  : Dimen : Domain : Size : Members\n",
      "    None :     1 :    Any :    9 : {'Feed A', 'Feed B', 'Feed C', 'Hot A', 'Int BC', 'Int AB', 'Impure E', 'Product 1', 'Product 2'}\n"
     ]
    }
   ],
   "source": [
    "model.States.pprint()"
   ]
  },
  {
   "cell_type": "code",
   "execution_count": 18,
   "metadata": {},
   "outputs": [
    {
     "name": "stdout",
     "output_type": "stream",
     "text": [
      "C : Maximum storage capacity dedicated to state s\n",
      "    Size=9, Index=States, Domain=Any, Default=None, Mutable=False\n",
      "    Key       : Value\n",
      "       Feed A :   inf\n",
      "       Feed B :   inf\n",
      "       Feed C :   inf\n",
      "        Hot A :   100\n",
      "     Impure E :   100\n",
      "       Int AB :   200\n",
      "       Int BC :   150\n",
      "    Product 1 :   inf\n",
      "    Product 2 :   inf\n"
     ]
    }
   ],
   "source": [
    "map_C = {\n",
    "    'Feed A': float('inf'), 'Feed B': float('inf'), 'Feed C': float('inf'),\n",
    "    'Hot A': 100, 'Int BC': 150, 'Int AB': 200, 'Impure E': 100,\n",
    "    'Product 1': float('inf'), 'Product 2': float('inf')}\n",
    "model.C = Param(model.States, initialize=map_C, doc='Maximum storage capacity dedicated to state s')\n",
    "model.C.pprint()"
   ]
  },
  {
   "cell_type": "markdown",
   "metadata": {},
   "source": [
    "## Unit definition\n",
    "\n",
    "The set $I_j$ is the set of tasks that can be performed by unit $j$. It is the inversion of the set $K_i$."
   ]
  },
  {
   "cell_type": "code",
   "execution_count": 19,
   "metadata": {},
   "outputs": [],
   "source": [
    "map_I_J = {}\n",
    "for j, i in model.K_I:\n",
    "    map_I_J.setdefault(j, []).append(i)"
   ]
  },
  {
   "cell_type": "code",
   "execution_count": 20,
   "metadata": {},
   "outputs": [
    {
     "name": "stdout",
     "output_type": "stream",
     "text": [
      "I_J : Tasks that can be performed by unit j\n",
      "    Size=1, Index=None, Ordered=Insertion\n",
      "    Key  : Dimen : Domain     : Size : Members\n",
      "    None :     2 : I_J_domain :    8 : {('Heating', 'Heater'), ('Reaction 1', 'Reactor 1'), ('Reaction 2', 'Reactor 1'), ('Reaction 3', 'Reactor 1'), ('Reaction 1', 'Reactor 2'), ('Reaction 2', 'Reactor 2'), ('Reaction 3', 'Reactor 2'), ('Separation', 'Still')}\n"
     ]
    }
   ],
   "source": [
    "model.IJ = Set(model.J, initialize=map_I_J, within=model.I)\n",
    "model.I_J = Set(within=model.I * model.J, initialize=[(i, j) for j in model.J for i in model.IJ[j]],\n",
    "                doc='Tasks that can be performed by unit j')\n",
    "model.I_J.pprint()"
   ]
  },
  {
   "cell_type": "code",
   "execution_count": 21,
   "metadata": {},
   "outputs": [
    {
     "name": "stdout",
     "output_type": "stream",
     "text": [
      "I_J : Tasks that can be performed by unit j\n",
      "    Size=1, Index=None, Ordered=Insertion\n",
      "    Key  : Dimen : Domain     : Size : Members\n",
      "    None :     2 : I_J_domain :    8 : {('Heating', 'Heater'), ('Reaction 1', 'Reactor 1'), ('Reaction 2', 'Reactor 1'), ('Reaction 3', 'Reactor 1'), ('Reaction 1', 'Reactor 2'), ('Reaction 2', 'Reactor 2'), ('Reaction 3', 'Reactor 2'), ('Separation', 'Still')}\n"
     ]
    }
   ],
   "source": [
    "model.I_J.pprint()"
   ]
  },
  {
   "cell_type": "code",
   "execution_count": 22,
   "metadata": {},
   "outputs": [],
   "source": [
    "map_V_max = {\n",
    "    ('Heating', 'Heater'): 100,\n",
    "    ('Reaction 1', 'Reactor 1'): 80,\n",
    "    ('Reaction 2', 'Reactor 1'): 80,\n",
    "    ('Reaction 3', 'Reactor 1'): 80,\n",
    "    ('Reaction 1', 'Reactor 2'): 50,\n",
    "    ('Reaction 2', 'Reactor 2'): 50,\n",
    "    ('Reaction 3', 'Reactor 2'): 50,\n",
    "    ('Separation', 'Still'): 200\n",
    "}\n",
    "map_V_min = {\n",
    "    ('Heating', 'Heater'): 0,\n",
    "    ('Reaction 1', 'Reactor 1'): 0,\n",
    "    ('Reaction 2', 'Reactor 1'): 0,\n",
    "    ('Reaction 3', 'Reactor 1'): 0,\n",
    "    ('Reaction 1', 'Reactor 2'): 0,\n",
    "    ('Reaction 2', 'Reactor 2'): 0,\n",
    "    ('Reaction 3', 'Reactor 2'): 0,\n",
    "    ('Separation', 'Still'): 0\n",
    "}\n",
    "model.V_max = Param(model.I_J, initialize=map_V_max, \n",
    "                    doc='Maximum capacity of unit j when used for performing task i')\n",
    "model.V_min = Param(model.I_J, initialize=map_V_min, \n",
    "                    doc='Minimum capacity of unit j when used for performing task i')"
   ]
  },
  {
   "cell_type": "markdown",
   "metadata": {},
   "source": [
    "# Variables"
   ]
  },
  {
   "cell_type": "code",
   "execution_count": 23,
   "metadata": {},
   "outputs": [],
   "source": [
    "model.W = Var(model.I_J, model.T, doc='Start task k using unit j at time t', within=Binary)"
   ]
  },
  {
   "cell_type": "code",
   "execution_count": 24,
   "metadata": {},
   "outputs": [],
   "source": [
    "model.B = Var(model.I_J, model.T,\n",
    "              doc='Amount of material which starts undergoing task k in unit j at beginning of t', within=NonNegativeReals)"
   ]
  },
  {
   "cell_type": "code",
   "execution_count": 25,
   "metadata": {},
   "outputs": [
    {
     "name": "stdout",
     "output_type": "stream",
     "text": [
      "S : Amount of material stored in state s at beginning of t\n",
      "    Size=108, Index=S_index\n",
      "    Key               : Lower : Value : Upper : Fixed : Stale : Domain\n",
      "        ('Feed A', 0) :     0 :  None :  None : False :  True : NonNegativeReals\n",
      "        ('Feed A', 1) :     0 :  None :  None : False :  True : NonNegativeReals\n",
      "        ('Feed A', 2) :     0 :  None :  None : False :  True : NonNegativeReals\n",
      "        ('Feed A', 3) :     0 :  None :  None : False :  True : NonNegativeReals\n",
      "        ('Feed A', 4) :     0 :  None :  None : False :  True : NonNegativeReals\n",
      "        ('Feed A', 5) :     0 :  None :  None : False :  True : NonNegativeReals\n",
      "        ('Feed A', 6) :     0 :  None :  None : False :  True : NonNegativeReals\n",
      "        ('Feed A', 7) :     0 :  None :  None : False :  True : NonNegativeReals\n",
      "        ('Feed A', 8) :     0 :  None :  None : False :  True : NonNegativeReals\n",
      "        ('Feed A', 9) :     0 :  None :  None : False :  True : NonNegativeReals\n",
      "       ('Feed A', 10) :     0 :  None :  None : False :  True : NonNegativeReals\n",
      "       ('Feed A', 11) :     0 :  None :  None : False :  True : NonNegativeReals\n",
      "        ('Feed B', 0) :     0 :  None :  None : False :  True : NonNegativeReals\n",
      "        ('Feed B', 1) :     0 :  None :  None : False :  True : NonNegativeReals\n",
      "        ('Feed B', 2) :     0 :  None :  None : False :  True : NonNegativeReals\n",
      "        ('Feed B', 3) :     0 :  None :  None : False :  True : NonNegativeReals\n",
      "        ('Feed B', 4) :     0 :  None :  None : False :  True : NonNegativeReals\n",
      "        ('Feed B', 5) :     0 :  None :  None : False :  True : NonNegativeReals\n",
      "        ('Feed B', 6) :     0 :  None :  None : False :  True : NonNegativeReals\n",
      "        ('Feed B', 7) :     0 :  None :  None : False :  True : NonNegativeReals\n",
      "        ('Feed B', 8) :     0 :  None :  None : False :  True : NonNegativeReals\n",
      "        ('Feed B', 9) :     0 :  None :  None : False :  True : NonNegativeReals\n",
      "       ('Feed B', 10) :     0 :  None :  None : False :  True : NonNegativeReals\n",
      "       ('Feed B', 11) :     0 :  None :  None : False :  True : NonNegativeReals\n",
      "        ('Feed C', 0) :     0 :  None :  None : False :  True : NonNegativeReals\n",
      "        ('Feed C', 1) :     0 :  None :  None : False :  True : NonNegativeReals\n",
      "        ('Feed C', 2) :     0 :  None :  None : False :  True : NonNegativeReals\n",
      "        ('Feed C', 3) :     0 :  None :  None : False :  True : NonNegativeReals\n",
      "        ('Feed C', 4) :     0 :  None :  None : False :  True : NonNegativeReals\n",
      "        ('Feed C', 5) :     0 :  None :  None : False :  True : NonNegativeReals\n",
      "        ('Feed C', 6) :     0 :  None :  None : False :  True : NonNegativeReals\n",
      "        ('Feed C', 7) :     0 :  None :  None : False :  True : NonNegativeReals\n",
      "        ('Feed C', 8) :     0 :  None :  None : False :  True : NonNegativeReals\n",
      "        ('Feed C', 9) :     0 :  None :  None : False :  True : NonNegativeReals\n",
      "       ('Feed C', 10) :     0 :  None :  None : False :  True : NonNegativeReals\n",
      "       ('Feed C', 11) :     0 :  None :  None : False :  True : NonNegativeReals\n",
      "         ('Hot A', 0) :     0 :  None :  None : False :  True : NonNegativeReals\n",
      "         ('Hot A', 1) :     0 :  None :  None : False :  True : NonNegativeReals\n",
      "         ('Hot A', 2) :     0 :  None :  None : False :  True : NonNegativeReals\n",
      "         ('Hot A', 3) :     0 :  None :  None : False :  True : NonNegativeReals\n",
      "         ('Hot A', 4) :     0 :  None :  None : False :  True : NonNegativeReals\n",
      "         ('Hot A', 5) :     0 :  None :  None : False :  True : NonNegativeReals\n",
      "         ('Hot A', 6) :     0 :  None :  None : False :  True : NonNegativeReals\n",
      "         ('Hot A', 7) :     0 :  None :  None : False :  True : NonNegativeReals\n",
      "         ('Hot A', 8) :     0 :  None :  None : False :  True : NonNegativeReals\n",
      "         ('Hot A', 9) :     0 :  None :  None : False :  True : NonNegativeReals\n",
      "        ('Hot A', 10) :     0 :  None :  None : False :  True : NonNegativeReals\n",
      "        ('Hot A', 11) :     0 :  None :  None : False :  True : NonNegativeReals\n",
      "      ('Impure E', 0) :     0 :  None :  None : False :  True : NonNegativeReals\n",
      "      ('Impure E', 1) :     0 :  None :  None : False :  True : NonNegativeReals\n",
      "      ('Impure E', 2) :     0 :  None :  None : False :  True : NonNegativeReals\n",
      "      ('Impure E', 3) :     0 :  None :  None : False :  True : NonNegativeReals\n",
      "      ('Impure E', 4) :     0 :  None :  None : False :  True : NonNegativeReals\n",
      "      ('Impure E', 5) :     0 :  None :  None : False :  True : NonNegativeReals\n",
      "      ('Impure E', 6) :     0 :  None :  None : False :  True : NonNegativeReals\n",
      "      ('Impure E', 7) :     0 :  None :  None : False :  True : NonNegativeReals\n",
      "      ('Impure E', 8) :     0 :  None :  None : False :  True : NonNegativeReals\n",
      "      ('Impure E', 9) :     0 :  None :  None : False :  True : NonNegativeReals\n",
      "     ('Impure E', 10) :     0 :  None :  None : False :  True : NonNegativeReals\n",
      "     ('Impure E', 11) :     0 :  None :  None : False :  True : NonNegativeReals\n",
      "        ('Int AB', 0) :     0 :  None :  None : False :  True : NonNegativeReals\n",
      "        ('Int AB', 1) :     0 :  None :  None : False :  True : NonNegativeReals\n",
      "        ('Int AB', 2) :     0 :  None :  None : False :  True : NonNegativeReals\n",
      "        ('Int AB', 3) :     0 :  None :  None : False :  True : NonNegativeReals\n",
      "        ('Int AB', 4) :     0 :  None :  None : False :  True : NonNegativeReals\n",
      "        ('Int AB', 5) :     0 :  None :  None : False :  True : NonNegativeReals\n",
      "        ('Int AB', 6) :     0 :  None :  None : False :  True : NonNegativeReals\n",
      "        ('Int AB', 7) :     0 :  None :  None : False :  True : NonNegativeReals\n",
      "        ('Int AB', 8) :     0 :  None :  None : False :  True : NonNegativeReals\n",
      "        ('Int AB', 9) :     0 :  None :  None : False :  True : NonNegativeReals\n",
      "       ('Int AB', 10) :     0 :  None :  None : False :  True : NonNegativeReals\n",
      "       ('Int AB', 11) :     0 :  None :  None : False :  True : NonNegativeReals\n",
      "        ('Int BC', 0) :     0 :  None :  None : False :  True : NonNegativeReals\n",
      "        ('Int BC', 1) :     0 :  None :  None : False :  True : NonNegativeReals\n",
      "        ('Int BC', 2) :     0 :  None :  None : False :  True : NonNegativeReals\n",
      "        ('Int BC', 3) :     0 :  None :  None : False :  True : NonNegativeReals\n",
      "        ('Int BC', 4) :     0 :  None :  None : False :  True : NonNegativeReals\n",
      "        ('Int BC', 5) :     0 :  None :  None : False :  True : NonNegativeReals\n",
      "        ('Int BC', 6) :     0 :  None :  None : False :  True : NonNegativeReals\n",
      "        ('Int BC', 7) :     0 :  None :  None : False :  True : NonNegativeReals\n",
      "        ('Int BC', 8) :     0 :  None :  None : False :  True : NonNegativeReals\n",
      "        ('Int BC', 9) :     0 :  None :  None : False :  True : NonNegativeReals\n",
      "       ('Int BC', 10) :     0 :  None :  None : False :  True : NonNegativeReals\n",
      "       ('Int BC', 11) :     0 :  None :  None : False :  True : NonNegativeReals\n",
      "     ('Product 1', 0) :     0 :  None :  None : False :  True : NonNegativeReals\n",
      "     ('Product 1', 1) :     0 :  None :  None : False :  True : NonNegativeReals\n",
      "     ('Product 1', 2) :     0 :  None :  None : False :  True : NonNegativeReals\n",
      "     ('Product 1', 3) :     0 :  None :  None : False :  True : NonNegativeReals\n",
      "     ('Product 1', 4) :     0 :  None :  None : False :  True : NonNegativeReals\n",
      "     ('Product 1', 5) :     0 :  None :  None : False :  True : NonNegativeReals\n",
      "     ('Product 1', 6) :     0 :  None :  None : False :  True : NonNegativeReals\n",
      "     ('Product 1', 7) :     0 :  None :  None : False :  True : NonNegativeReals\n",
      "     ('Product 1', 8) :     0 :  None :  None : False :  True : NonNegativeReals\n",
      "     ('Product 1', 9) :     0 :  None :  None : False :  True : NonNegativeReals\n",
      "    ('Product 1', 10) :     0 :  None :  None : False :  True : NonNegativeReals\n",
      "    ('Product 1', 11) :     0 :  None :  None : False :  True : NonNegativeReals\n",
      "     ('Product 2', 0) :     0 :  None :  None : False :  True : NonNegativeReals\n",
      "     ('Product 2', 1) :     0 :  None :  None : False :  True : NonNegativeReals\n",
      "     ('Product 2', 2) :     0 :  None :  None : False :  True : NonNegativeReals\n",
      "     ('Product 2', 3) :     0 :  None :  None : False :  True : NonNegativeReals\n",
      "     ('Product 2', 4) :     0 :  None :  None : False :  True : NonNegativeReals\n",
      "     ('Product 2', 5) :     0 :  None :  None : False :  True : NonNegativeReals\n",
      "     ('Product 2', 6) :     0 :  None :  None : False :  True : NonNegativeReals\n",
      "     ('Product 2', 7) :     0 :  None :  None : False :  True : NonNegativeReals\n",
      "     ('Product 2', 8) :     0 :  None :  None : False :  True : NonNegativeReals\n",
      "     ('Product 2', 9) :     0 :  None :  None : False :  True : NonNegativeReals\n",
      "    ('Product 2', 10) :     0 :  None :  None : False :  True : NonNegativeReals\n",
      "    ('Product 2', 11) :     0 :  None :  None : False :  True : NonNegativeReals\n"
     ]
    }
   ],
   "source": [
    "model.S = Var(model.States, model.T, \n",
    "              doc='Amount of material stored in state s at beginning of t', within=NonNegativeReals)\n",
    "model.S.pprint()"
   ]
  },
  {
   "cell_type": "markdown",
   "metadata": {},
   "source": [
    "# Constraints"
   ]
  },
  {
   "cell_type": "markdown",
   "metadata": {},
   "source": [
    "## Allocation Constraints"
   ]
  },
  {
   "cell_type": "code",
   "execution_count": 26,
   "metadata": {},
   "outputs": [],
   "source": [
    "model.M = Param(initialize=1000, doc='Allocation constraint parameter')\n",
    "def allocation_constraints_rule(model, i, j, t):\n",
    "    lhs = sum(model.W[idash, j, tdash] for tdash in model.T for idash in model.IJ[j] \n",
    "              if tdash >= t and tdash <= t + model.p[i] - 1) - 1\n",
    "    rhs = model.M * (1 - model.W[i, j, t])\n",
    "    return lhs <= rhs\n",
    "model.allocation_constraints = Constraint(model.I_J, model.T, rule=allocation_constraints_rule)"
   ]
  },
  {
   "cell_type": "markdown",
   "metadata": {},
   "source": [
    "Note that we use the indexed set `model.IJ` to sum over tasks for fixed unit $j$."
   ]
  },
  {
   "cell_type": "markdown",
   "metadata": {},
   "source": [
    "## Capacity Limitations"
   ]
  },
  {
   "cell_type": "code",
   "execution_count": 27,
   "metadata": {},
   "outputs": [],
   "source": [
    "# def capacity_limitations_rule1(model, j, i, t):\n",
    "#     return inequality(model.W[i, j, t] * model.V_min[i, j], model.B[i, j, t], model.W[i, j, t] * model.V_max[i, j]) \n",
    "# model.capacity_limitations1 = Constraint(model.K_I, model.T, rule=capacity_limitations_rule1)\n",
    "def capacity_limitations_rule1a(model, j, i, t):\n",
    "    return model.W[i, j, t] * model.V_min[i, j] <= model.B[i, j, t]\n",
    "model.capacity_limitations1a = Constraint(model.K_I, model.T, rule=capacity_limitations_rule1a)\n",
    "def capacity_limitations_rule1b(model, j, i, t):\n",
    "    return model.B[i, j, t] <= model.W[i, j, t] * model.V_max[i, j]\n",
    "model.capacity_limitations1b = Constraint(model.K_I, model.T, rule=capacity_limitations_rule1b)"
   ]
  },
  {
   "cell_type": "code",
   "execution_count": 28,
   "metadata": {},
   "outputs": [],
   "source": [
    "# def capacity_limitations_rule2(model, s, t):\n",
    "#     return inequality(0, model.S[s, t], model.C[s]) \n",
    "# model.capacity_limitations2 = Constraint(model.States, model.T, rule=capacity_limitations_rule2)\n",
    "def capacity_limitations_rule2a(model, s, t):\n",
    "    return 0 <= model.S[s, t] \n",
    "model.capacity_limitations2a = Constraint(model.States, model.T, rule=capacity_limitations_rule2a)\n",
    "def capacity_limitations_rule2b(model, s, t):\n",
    "    return model.S[s, t] <= model.C[s] \n",
    "model.capacity_limitations2b = Constraint(model.States, model.T, rule=capacity_limitations_rule2b)"
   ]
  },
  {
   "cell_type": "markdown",
   "metadata": {},
   "source": [
    "## Material Balances"
   ]
  },
  {
   "cell_type": "code",
   "execution_count": 29,
   "metadata": {},
   "outputs": [],
   "source": [
    "model.D = Param(model.States, model.T, initialize=0,\n",
    "                   doc='Delivery of material in state s at time t')\n",
    "model.R = Param(model.States, model.T, initialize=0,\n",
    "                   doc='Receipt of material in state s at time t')"
   ]
  },
  {
   "cell_type": "code",
   "execution_count": 30,
   "metadata": {},
   "outputs": [],
   "source": [
    "def material_balances_rule(model, s, t):\n",
    "    if t > model.T.first():\n",
    "        rhs = model.S[s, t-1]\n",
    "        if s in model.T_barS.keys():\n",
    "            rhs += sum(model.rho_bar[s, i] * model.B[i, j, t-model.P[s, i]] \n",
    "                       for i in model.T_barS[s] for j in model.KI[i] if t >= model.P[s, i])\n",
    "        if s in model.T_S.keys():\n",
    "            rhs -= sum(model.rho[s, i] * model.B[i, j, t] for i in model.TS[s] for j in model.KI[i])    \n",
    "        return model.S[s, t] == rhs + model.R[s, t] - model.D[s, t]\n",
    "    else:\n",
    "        return Constraint.Feasible\n",
    "model.material_balances = Constraint(model.States, model.T, rule=material_balances_rule)"
   ]
  },
  {
   "cell_type": "markdown",
   "metadata": {},
   "source": [
    "We fix the initial states using an equality constraint."
   ]
  },
  {
   "cell_type": "code",
   "execution_count": 31,
   "metadata": {},
   "outputs": [
    {
     "name": "stdout",
     "output_type": "stream",
     "text": [
      "initial_states : Size=9, Index=States, Active=True\n",
      "    Key       : Lower : Body           : Upper : Active\n",
      "       Feed A : 100.0 :    S[Feed A,0] : 100.0 :   True\n",
      "       Feed B : 100.0 :    S[Feed B,0] : 100.0 :   True\n",
      "       Feed C : 100.0 :    S[Feed C,0] : 100.0 :   True\n",
      "        Hot A :   0.0 :     S[Hot A,0] :   0.0 :   True\n",
      "     Impure E :   0.0 :  S[Impure E,0] :   0.0 :   True\n",
      "       Int AB :   0.0 :    S[Int AB,0] :   0.0 :   True\n",
      "       Int BC :   0.0 :    S[Int BC,0] :   0.0 :   True\n",
      "    Product 1 :   0.0 : S[Product 1,0] :   0.0 :   True\n",
      "    Product 2 :   0.0 : S[Product 2,0] :   0.0 :   True\n"
     ]
    }
   ],
   "source": [
    "init_S = {\n",
    "    'Feed A': 100, 'Feed B': 100, 'Feed C': 100,\n",
    "     'Hot A': 0, 'Int BC': 0, 'Int AB': 0, 'Impure E': 0,\n",
    "     'Product 1': 0, 'Product 2': 0\n",
    "}\n",
    "def initial_state_rule(model, s):   \n",
    "        return model.S[s, 0] == init_S[s]\n",
    "\n",
    "model.initial_states = Constraint(model.States, rule=initial_state_rule)\n",
    "model.initial_states.pprint()"
   ]
  },
  {
   "cell_type": "markdown",
   "metadata": {},
   "source": [
    "## Product deliveries and raw material receipts during the horizon\n",
    "\n",
    "This modification is incorporated in the previous section."
   ]
  },
  {
   "cell_type": "markdown",
   "metadata": {},
   "source": [
    "## Temporary Unavailability of Equipment\n",
    "\n",
    "We don't need this constraint for the example."
   ]
  },
  {
   "cell_type": "markdown",
   "metadata": {},
   "source": [
    "## Limited Availability of Utilities and Man-Power\n",
    "\n",
    "We don't need this constraint for the example."
   ]
  },
  {
   "cell_type": "markdown",
   "metadata": {},
   "source": [
    "## Cleaning Equipment Items\n",
    "\n",
    "We don't need this constraint for the example."
   ]
  },
  {
   "cell_type": "markdown",
   "metadata": {},
   "source": [
    "# Objective Function\n",
    "\n",
    "The objective for the paper is the maximisation of profit."
   ]
  },
  {
   "cell_type": "code",
   "execution_count": 32,
   "metadata": {},
   "outputs": [
    {
     "name": "stdout",
     "output_type": "stream",
     "text": [
      "States : States\n",
      "    Size=1, Index=None, Ordered=Insertion\n",
      "    Key  : Dimen : Domain : Size : Members\n",
      "    None :     1 :    Any :    9 : {'Feed A', 'Feed B', 'Feed C', 'Hot A', 'Int BC', 'Int AB', 'Impure E', 'Product 1', 'Product 2'}\n"
     ]
    }
   ],
   "source": [
    "model.States.pprint()"
   ]
  },
  {
   "cell_type": "code",
   "execution_count": 33,
   "metadata": {},
   "outputs": [],
   "source": [
    "def cost_rule(model, s, t):\n",
    "    if s in ['Feed A', 'Feed B', 'Feed C']:\n",
    "        cost = 0\n",
    "    elif s in ['Hot A', 'Int BC', 'Int AB', 'Impure E']:\n",
    "        if t == model.T.last():\n",
    "            cost = -1\n",
    "        else:\n",
    "            cost = 0\n",
    "    elif s in ['Product 1', 'Product 2']:\n",
    "        cost = 10\n",
    "    return cost\n",
    "model.Cost = Param(model.States, model.T, initialize=cost_rule,\n",
    "                   doc='Unit price of material in state s at time t')"
   ]
  },
  {
   "cell_type": "code",
   "execution_count": 34,
   "metadata": {},
   "outputs": [
    {
     "name": "stdout",
     "output_type": "stream",
     "text": [
      "obj : Maximisation of Profit\n",
      "    Size=1, Index=None, Active=True\n",
      "    Key  : Active : Sense    : Expression\n",
      "    None :   True : maximize : - S[Hot A,11] - S[Int BC,11] - S[Int AB,11] - S[Impure E,11] + 10*S[Product 1,11] + 10*S[Product 2,11]\n"
     ]
    }
   ],
   "source": [
    "def profit_rule(model):\n",
    "    value_products = sum(model.Cost[s, model.H+1] * model.S[s, model.H+1] +\n",
    "              sum(model.Cost[s, t] * model.D[s, t] for t in range(1, model.H+1)) for s in model.States)\n",
    "    return value_products\n",
    "model.obj = Objective(rule=profit_rule, doc='Maximisation of Profit', sense=maximize)\n",
    "model.obj.pprint()"
   ]
  },
  {
   "cell_type": "markdown",
   "metadata": {},
   "source": [
    "# Solution"
   ]
  },
  {
   "cell_type": "code",
   "execution_count": 35,
   "metadata": {},
   "outputs": [
    {
     "name": "stdout",
     "output_type": "stream",
     "text": [
      "# ==========================================================\n",
      "# = Solver Results                                         =\n",
      "# ==========================================================\n",
      "# ----------------------------------------------------------\n",
      "#   Problem Information\n",
      "# ----------------------------------------------------------\n",
      "Problem: \n",
      "- Name: unknown\n",
      "  Lower bound: 11266.6666666667\n",
      "  Upper bound: 11266.6666666667\n",
      "  Number of objectives: 1\n",
      "  Number of constraints: 553\n",
      "  Number of variables: 301\n",
      "  Number of nonzeros: 1149\n",
      "  Sense: maximize\n",
      "# ----------------------------------------------------------\n",
      "#   Solver Information\n",
      "# ----------------------------------------------------------\n",
      "Solver: \n",
      "- Status: ok\n",
      "  Termination condition: optimal\n",
      "  Statistics: \n",
      "    Branch and bound: \n",
      "      Number of bounded subproblems: 11\n",
      "      Number of created subproblems: 11\n",
      "  Error rc: 0\n",
      "  Time: 0.024226903915405273\n",
      "# ----------------------------------------------------------\n",
      "#   Solution Information\n",
      "# ----------------------------------------------------------\n",
      "Solution: \n",
      "- number of solutions: 0\n",
      "  number of solutions displayed: 0\n"
     ]
    }
   ],
   "source": [
    "opt = SolverFactory(\"glpk\")\n",
    "results = opt.solve(model)\n",
    "results.write()"
   ]
  },
  {
   "cell_type": "code",
   "execution_count": 36,
   "metadata": {},
   "outputs": [
    {
     "name": "stdout",
     "output_type": "stream",
     "text": [
      "S : Amount of material stored in state s at beginning of t\n",
      "    Size=108, Index=S_index\n",
      "    Key               : Lower : Value            : Upper : Fixed : Stale : Domain\n",
      "        ('Feed A', 0) :     0 :            100.0 :  None : False : False : NonNegativeReals\n",
      "        ('Feed A', 1) :     0 :            100.0 :  None : False : False : NonNegativeReals\n",
      "        ('Feed A', 2) :     0 :            100.0 :  None : False : False : NonNegativeReals\n",
      "        ('Feed A', 3) :     0 :            100.0 :  None : False : False : NonNegativeReals\n",
      "        ('Feed A', 4) :     0 :            100.0 :  None : False : False : NonNegativeReals\n",
      "        ('Feed A', 5) :     0 :            100.0 :  None : False : False : NonNegativeReals\n",
      "        ('Feed A', 6) :     0 :            100.0 :  None : False : False : NonNegativeReals\n",
      "        ('Feed A', 7) :     0 :            100.0 :  None : False : False : NonNegativeReals\n",
      "        ('Feed A', 8) :     0 :            100.0 :  None : False : False : NonNegativeReals\n",
      "        ('Feed A', 9) :     0 :            100.0 :  None : False : False : NonNegativeReals\n",
      "       ('Feed A', 10) :     0 :            100.0 :  None : False : False : NonNegativeReals\n",
      "       ('Feed A', 11) :     0 :            100.0 :  None : False : False : NonNegativeReals\n",
      "        ('Feed B', 0) :     0 :            100.0 :  None : False : False : NonNegativeReals\n",
      "        ('Feed B', 1) :     0 :            100.0 :  None : False : False : NonNegativeReals\n",
      "        ('Feed B', 2) :     0 :            100.0 :  None : False : False : NonNegativeReals\n",
      "        ('Feed B', 3) :     0 :            100.0 :  None : False : False : NonNegativeReals\n",
      "        ('Feed B', 4) :     0 :            100.0 :  None : False : False : NonNegativeReals\n",
      "        ('Feed B', 5) :     0 :            100.0 :  None : False : False : NonNegativeReals\n",
      "        ('Feed B', 6) :     0 :            100.0 :  None : False : False : NonNegativeReals\n",
      "        ('Feed B', 7) :     0 :            100.0 :  None : False : False : NonNegativeReals\n",
      "        ('Feed B', 8) :     0 :            100.0 :  None : False : False : NonNegativeReals\n",
      "        ('Feed B', 9) :     0 :            100.0 :  None : False : False : NonNegativeReals\n",
      "       ('Feed B', 10) :     0 :            100.0 :  None : False : False : NonNegativeReals\n",
      "       ('Feed B', 11) :     0 :            100.0 :  None : False : False : NonNegativeReals\n",
      "        ('Feed C', 0) :     0 :            100.0 :  None : False : False : NonNegativeReals\n",
      "        ('Feed C', 1) :     0 :            100.0 :  None : False : False : NonNegativeReals\n",
      "        ('Feed C', 2) :     0 :            100.0 :  None : False : False : NonNegativeReals\n",
      "        ('Feed C', 3) :     0 :            100.0 :  None : False : False : NonNegativeReals\n",
      "        ('Feed C', 4) :     0 :            100.0 :  None : False : False : NonNegativeReals\n",
      "        ('Feed C', 5) :     0 :            100.0 :  None : False : False : NonNegativeReals\n",
      "        ('Feed C', 6) :     0 :            100.0 :  None : False : False : NonNegativeReals\n",
      "        ('Feed C', 7) :     0 :            100.0 :  None : False : False : NonNegativeReals\n",
      "        ('Feed C', 8) :     0 :            100.0 :  None : False : False : NonNegativeReals\n",
      "        ('Feed C', 9) :     0 :            100.0 :  None : False : False : NonNegativeReals\n",
      "       ('Feed C', 10) :     0 :            100.0 :  None : False : False : NonNegativeReals\n",
      "       ('Feed C', 11) :     0 :            100.0 :  None : False : False : NonNegativeReals\n",
      "         ('Hot A', 0) :     0 :              0.0 :  None : False : False : NonNegativeReals\n",
      "         ('Hot A', 1) :     0 :              0.0 :  None : False : False : NonNegativeReals\n",
      "         ('Hot A', 2) :     0 :              0.0 :  None : False : False : NonNegativeReals\n",
      "         ('Hot A', 3) :     0 :              0.0 :  None : False : False : NonNegativeReals\n",
      "         ('Hot A', 4) :     0 :              0.0 :  None : False : False : NonNegativeReals\n",
      "         ('Hot A', 5) :     0 :              0.0 :  None : False : False : NonNegativeReals\n",
      "         ('Hot A', 6) :     0 :              0.0 :  None : False : False : NonNegativeReals\n",
      "         ('Hot A', 7) :     0 :              0.0 :  None : False : False : NonNegativeReals\n",
      "         ('Hot A', 8) :     0 :              0.0 :  None : False : False : NonNegativeReals\n",
      "         ('Hot A', 9) :     0 :              0.0 :  None : False : False : NonNegativeReals\n",
      "        ('Hot A', 10) :     0 :              0.0 :  None : False : False : NonNegativeReals\n",
      "        ('Hot A', 11) :     0 :              0.0 :  None : False : False : NonNegativeReals\n",
      "      ('Impure E', 0) :     0 :              0.0 :  None : False : False : NonNegativeReals\n",
      "      ('Impure E', 1) :     0 :              0.0 :  None : False : False : NonNegativeReals\n",
      "      ('Impure E', 2) :     0 :              0.0 :  None : False : False : NonNegativeReals\n",
      "      ('Impure E', 3) :     0 :              0.0 :  None : False : False : NonNegativeReals\n",
      "      ('Impure E', 4) :     0 :              0.0 :  None : False : False : NonNegativeReals\n",
      "      ('Impure E', 5) :     0 :              0.0 :  None : False : False : NonNegativeReals\n",
      "      ('Impure E', 6) :     0 :              0.0 :  None : False : False : NonNegativeReals\n",
      "      ('Impure E', 7) :     0 :              0.0 :  None : False : False : NonNegativeReals\n",
      "      ('Impure E', 8) :     0 :              0.0 :  None : False : False : NonNegativeReals\n",
      "      ('Impure E', 9) :     0 :              0.0 :  None : False : False : NonNegativeReals\n",
      "     ('Impure E', 10) :     0 :              0.0 :  None : False : False : NonNegativeReals\n",
      "     ('Impure E', 11) :     0 :              0.0 :  None : False : False : NonNegativeReals\n",
      "        ('Int AB', 0) :     0 :              0.0 :  None : False : False : NonNegativeReals\n",
      "        ('Int AB', 1) :     0 :              0.0 :  None : False : False : NonNegativeReals\n",
      "        ('Int AB', 2) :     0 :             20.0 :  None : False : False : NonNegativeReals\n",
      "        ('Int AB', 3) :     0 :             20.0 :  None : False : False : NonNegativeReals\n",
      "        ('Int AB', 4) :     0 :             40.0 :  None : False : False : NonNegativeReals\n",
      "        ('Int AB', 5) :     0 :             40.0 :  None : False : False : NonNegativeReals\n",
      "        ('Int AB', 6) :     0 :             60.0 :  None : False : False : NonNegativeReals\n",
      "        ('Int AB', 7) :     0 :             60.0 :  None : False : False : NonNegativeReals\n",
      "        ('Int AB', 8) :     0 :            110.0 :  None : False : False : NonNegativeReals\n",
      "        ('Int AB', 9) :     0 :            110.0 :  None : False : False : NonNegativeReals\n",
      "       ('Int AB', 10) :     0 :            160.0 :  None : False : False : NonNegativeReals\n",
      "       ('Int AB', 11) :     0 :            200.0 :  None : False : False : NonNegativeReals\n",
      "        ('Int BC', 0) :     0 :              0.0 :  None : False : False : NonNegativeReals\n",
      "        ('Int BC', 1) :     0 :              0.0 :  None : False : False : NonNegativeReals\n",
      "        ('Int BC', 2) :     0 :              0.0 :  None : False : False : NonNegativeReals\n",
      "        ('Int BC', 3) :     0 :              0.0 :  None : False : False : NonNegativeReals\n",
      "        ('Int BC', 4) :     0 :              0.0 :  None : False : False : NonNegativeReals\n",
      "        ('Int BC', 5) :     0 :              0.0 :  None : False : False : NonNegativeReals\n",
      "        ('Int BC', 6) :     0 :              0.0 :  None : False : False : NonNegativeReals\n",
      "        ('Int BC', 7) :     0 :              0.0 :  None : False : False : NonNegativeReals\n",
      "        ('Int BC', 8) :     0 :              0.0 :  None : False : False : NonNegativeReals\n",
      "        ('Int BC', 9) :     0 :              0.0 :  None : False : False : NonNegativeReals\n",
      "       ('Int BC', 10) :     0 :              0.0 :  None : False : False : NonNegativeReals\n",
      "       ('Int BC', 11) :     0 :              0.0 :  None : False : False : NonNegativeReals\n",
      "     ('Product 1', 0) :     0 :              0.0 :  None : False : False : NonNegativeReals\n",
      "     ('Product 1', 1) :     0 :              0.0 :  None : False : False : NonNegativeReals\n",
      "     ('Product 1', 2) :     0 :              0.0 :  None : False : False : NonNegativeReals\n",
      "     ('Product 1', 3) :     0 :              0.0 :  None : False : False : NonNegativeReals\n",
      "     ('Product 1', 4) :     0 :              0.0 :  None : False : False : NonNegativeReals\n",
      "     ('Product 1', 5) :     0 :              0.0 :  None : False : False : NonNegativeReals\n",
      "     ('Product 1', 6) :     0 :              0.0 :  None : False : False : NonNegativeReals\n",
      "     ('Product 1', 7) :     0 :              0.0 :  None : False : False : NonNegativeReals\n",
      "     ('Product 1', 8) :     0 :             20.0 :  None : False : False : NonNegativeReals\n",
      "     ('Product 1', 9) :     0 :             20.0 :  None : False : False : NonNegativeReals\n",
      "    ('Product 1', 10) :     0 :             40.0 :  None : False : False : NonNegativeReals\n",
      "    ('Product 1', 11) :     0 : 66.6666666666667 :  None : False : False : NonNegativeReals\n",
      "     ('Product 2', 0) :     0 :              0.0 :  None : False : False : NonNegativeReals\n",
      "     ('Product 2', 1) :     0 :            180.0 :  None : False : False : NonNegativeReals\n",
      "     ('Product 2', 2) :     0 :            180.0 :  None : False : False : NonNegativeReals\n",
      "     ('Product 2', 3) :     0 :            360.0 :  None : False : False : NonNegativeReals\n",
      "     ('Product 2', 4) :     0 :            360.0 :  None : False : False : NonNegativeReals\n",
      "     ('Product 2', 5) :     0 :            540.0 :  None : False : False : NonNegativeReals\n",
      "     ('Product 2', 6) :     0 :            540.0 :  None : False : False : NonNegativeReals\n",
      "     ('Product 2', 7) :     0 :            720.0 :  None : False : False : NonNegativeReals\n",
      "     ('Product 2', 8) :     0 :            720.0 :  None : False : False : NonNegativeReals\n",
      "     ('Product 2', 9) :     0 :            900.0 :  None : False : False : NonNegativeReals\n",
      "    ('Product 2', 10) :     0 :            900.0 :  None : False : False : NonNegativeReals\n",
      "    ('Product 2', 11) :     0 :           1080.0 :  None : False : False : NonNegativeReals\n"
     ]
    }
   ],
   "source": [
    "model.S.pprint()"
   ]
  },
  {
   "cell_type": "code",
   "execution_count": 37,
   "metadata": {},
   "outputs": [
    {
     "name": "stdout",
     "output_type": "stream",
     "text": [
      "B : Amount of material which starts undergoing task k in unit j at beginning of t\n",
      "    Size=96, Index=B_index\n",
      "    Key                             : Lower : Value            : Upper : Fixed : Stale : Domain\n",
      "           ('Heating', 'Heater', 0) :     0 :              0.0 :  None : False : False : NonNegativeReals\n",
      "           ('Heating', 'Heater', 1) :     0 :              0.0 :  None : False : False : NonNegativeReals\n",
      "           ('Heating', 'Heater', 2) :     0 :              0.0 :  None : False : False : NonNegativeReals\n",
      "           ('Heating', 'Heater', 3) :     0 :              0.0 :  None : False : False : NonNegativeReals\n",
      "           ('Heating', 'Heater', 4) :     0 :              0.0 :  None : False : False : NonNegativeReals\n",
      "           ('Heating', 'Heater', 5) :     0 :              0.0 :  None : False : False : NonNegativeReals\n",
      "           ('Heating', 'Heater', 6) :     0 :              0.0 :  None : False : False : NonNegativeReals\n",
      "           ('Heating', 'Heater', 7) :     0 :              0.0 :  None : False : False : NonNegativeReals\n",
      "           ('Heating', 'Heater', 8) :     0 :              0.0 :  None : False : False : NonNegativeReals\n",
      "           ('Heating', 'Heater', 9) :     0 :              0.0 :  None : False : False : NonNegativeReals\n",
      "          ('Heating', 'Heater', 10) :     0 :              0.0 :  None : False : False : NonNegativeReals\n",
      "          ('Heating', 'Heater', 11) :     0 :              0.0 :  None : False : False : NonNegativeReals\n",
      "     ('Reaction 1', 'Reactor 1', 0) :     0 :              0.0 :  None : False : False : NonNegativeReals\n",
      "     ('Reaction 1', 'Reactor 1', 1) :     0 :              0.0 :  None : False : False : NonNegativeReals\n",
      "     ('Reaction 1', 'Reactor 1', 2) :     0 :              0.0 :  None : False : False : NonNegativeReals\n",
      "     ('Reaction 1', 'Reactor 1', 3) :     0 :              0.0 :  None : False : False : NonNegativeReals\n",
      "     ('Reaction 1', 'Reactor 1', 4) :     0 :              0.0 :  None : False : False : NonNegativeReals\n",
      "     ('Reaction 1', 'Reactor 1', 5) :     0 :              0.0 :  None : False : False : NonNegativeReals\n",
      "     ('Reaction 1', 'Reactor 1', 6) :     0 :              0.0 :  None : False : False : NonNegativeReals\n",
      "     ('Reaction 1', 'Reactor 1', 7) :     0 :              0.0 :  None : False : False : NonNegativeReals\n",
      "     ('Reaction 1', 'Reactor 1', 8) :     0 :              0.0 :  None : False : False : NonNegativeReals\n",
      "     ('Reaction 1', 'Reactor 1', 9) :     0 :              0.0 :  None : False : False : NonNegativeReals\n",
      "    ('Reaction 1', 'Reactor 1', 10) :     0 :              0.0 :  None : False : False : NonNegativeReals\n",
      "    ('Reaction 1', 'Reactor 1', 11) :     0 :              0.0 :  None : False : False : NonNegativeReals\n",
      "     ('Reaction 1', 'Reactor 2', 0) :     0 :              0.0 :  None : False : False : NonNegativeReals\n",
      "     ('Reaction 1', 'Reactor 2', 1) :     0 :              0.0 :  None : False : False : NonNegativeReals\n",
      "     ('Reaction 1', 'Reactor 2', 2) :     0 :              0.0 :  None : False : False : NonNegativeReals\n",
      "     ('Reaction 1', 'Reactor 2', 3) :     0 :              0.0 :  None : False : False : NonNegativeReals\n",
      "     ('Reaction 1', 'Reactor 2', 4) :     0 :              0.0 :  None : False : False : NonNegativeReals\n",
      "     ('Reaction 1', 'Reactor 2', 5) :     0 :              0.0 :  None : False : False : NonNegativeReals\n",
      "     ('Reaction 1', 'Reactor 2', 6) :     0 :              0.0 :  None : False : False : NonNegativeReals\n",
      "     ('Reaction 1', 'Reactor 2', 7) :     0 :              0.0 :  None : False : False : NonNegativeReals\n",
      "     ('Reaction 1', 'Reactor 2', 8) :     0 :              0.0 :  None : False : False : NonNegativeReals\n",
      "     ('Reaction 1', 'Reactor 2', 9) :     0 :              0.0 :  None : False : False : NonNegativeReals\n",
      "    ('Reaction 1', 'Reactor 2', 10) :     0 :              0.0 :  None : False : False : NonNegativeReals\n",
      "    ('Reaction 1', 'Reactor 2', 11) :     0 :              0.0 :  None : False : False : NonNegativeReals\n",
      "     ('Reaction 2', 'Reactor 1', 0) :     0 :              0.0 :  None : False : False : NonNegativeReals\n",
      "     ('Reaction 2', 'Reactor 1', 1) :     0 :              0.0 :  None : False : False : NonNegativeReals\n",
      "     ('Reaction 2', 'Reactor 1', 2) :     0 :              0.0 :  None : False : False : NonNegativeReals\n",
      "     ('Reaction 2', 'Reactor 1', 3) :     0 :              0.0 :  None : False : False : NonNegativeReals\n",
      "     ('Reaction 2', 'Reactor 1', 4) :     0 :              0.0 :  None : False : False : NonNegativeReals\n",
      "     ('Reaction 2', 'Reactor 1', 5) :     0 :              0.0 :  None : False : False : NonNegativeReals\n",
      "     ('Reaction 2', 'Reactor 1', 6) :     0 :              0.0 :  None : False : False : NonNegativeReals\n",
      "     ('Reaction 2', 'Reactor 1', 7) :     0 :              0.0 :  None : False : False : NonNegativeReals\n",
      "     ('Reaction 2', 'Reactor 1', 8) :     0 :              0.0 :  None : False : False : NonNegativeReals\n",
      "     ('Reaction 2', 'Reactor 1', 9) :     0 : 66.6666666666667 :  None : False : False : NonNegativeReals\n",
      "    ('Reaction 2', 'Reactor 1', 10) :     0 :              0.0 :  None : False : False : NonNegativeReals\n",
      "    ('Reaction 2', 'Reactor 1', 11) :     0 :              0.0 :  None : False : False : NonNegativeReals\n",
      "     ('Reaction 2', 'Reactor 2', 0) :     0 :              0.0 :  None : False : False : NonNegativeReals\n",
      "     ('Reaction 2', 'Reactor 2', 1) :     0 :              0.0 :  None : False : False : NonNegativeReals\n",
      "     ('Reaction 2', 'Reactor 2', 2) :     0 :              0.0 :  None : False : False : NonNegativeReals\n",
      "     ('Reaction 2', 'Reactor 2', 3) :     0 :              0.0 :  None : False : False : NonNegativeReals\n",
      "     ('Reaction 2', 'Reactor 2', 4) :     0 :              0.0 :  None : False : False : NonNegativeReals\n",
      "     ('Reaction 2', 'Reactor 2', 5) :     0 :              0.0 :  None : False : False : NonNegativeReals\n",
      "     ('Reaction 2', 'Reactor 2', 6) :     0 :             50.0 :  None : False : False : NonNegativeReals\n",
      "     ('Reaction 2', 'Reactor 2', 7) :     0 :              0.0 :  None : False : False : NonNegativeReals\n",
      "     ('Reaction 2', 'Reactor 2', 8) :     0 :             50.0 :  None : False : False : NonNegativeReals\n",
      "     ('Reaction 2', 'Reactor 2', 9) :     0 :              0.0 :  None : False : False : NonNegativeReals\n",
      "    ('Reaction 2', 'Reactor 2', 10) :     0 :              0.0 :  None : False : False : NonNegativeReals\n",
      "    ('Reaction 2', 'Reactor 2', 11) :     0 :              0.0 :  None : False : False : NonNegativeReals\n",
      "     ('Reaction 3', 'Reactor 1', 0) :     0 :              0.0 :  None : False : False : NonNegativeReals\n",
      "     ('Reaction 3', 'Reactor 1', 1) :     0 :              0.0 :  None : False : False : NonNegativeReals\n",
      "     ('Reaction 3', 'Reactor 1', 2) :     0 :              0.0 :  None : False : False : NonNegativeReals\n",
      "     ('Reaction 3', 'Reactor 1', 3) :     0 :              0.0 :  None : False : False : NonNegativeReals\n",
      "     ('Reaction 3', 'Reactor 1', 4) :     0 :              0.0 :  None : False : False : NonNegativeReals\n",
      "     ('Reaction 3', 'Reactor 1', 5) :     0 :              0.0 :  None : False : False : NonNegativeReals\n",
      "     ('Reaction 3', 'Reactor 1', 6) :     0 :              0.0 :  None : False : False : NonNegativeReals\n",
      "     ('Reaction 3', 'Reactor 1', 7) :     0 :              0.0 :  None : False : False : NonNegativeReals\n",
      "     ('Reaction 3', 'Reactor 1', 8) :     0 :              0.0 :  None : False : False : NonNegativeReals\n",
      "     ('Reaction 3', 'Reactor 1', 9) :     0 :              0.0 :  None : False : False : NonNegativeReals\n",
      "    ('Reaction 3', 'Reactor 1', 10) :     0 :              0.0 :  None : False : False : NonNegativeReals\n",
      "    ('Reaction 3', 'Reactor 1', 11) :     0 :              0.0 :  None : False : False : NonNegativeReals\n",
      "     ('Reaction 3', 'Reactor 2', 0) :     0 :              0.0 :  None : False : False : NonNegativeReals\n",
      "     ('Reaction 3', 'Reactor 2', 1) :     0 :              0.0 :  None : False : False : NonNegativeReals\n",
      "     ('Reaction 3', 'Reactor 2', 2) :     0 :              0.0 :  None : False : False : NonNegativeReals\n",
      "     ('Reaction 3', 'Reactor 2', 3) :     0 :              0.0 :  None : False : False : NonNegativeReals\n",
      "     ('Reaction 3', 'Reactor 2', 4) :     0 :              0.0 :  None : False : False : NonNegativeReals\n",
      "     ('Reaction 3', 'Reactor 2', 5) :     0 :              0.0 :  None : False : False : NonNegativeReals\n",
      "     ('Reaction 3', 'Reactor 2', 6) :     0 :              0.0 :  None : False : False : NonNegativeReals\n",
      "     ('Reaction 3', 'Reactor 2', 7) :     0 :              0.0 :  None : False : False : NonNegativeReals\n",
      "     ('Reaction 3', 'Reactor 2', 8) :     0 :              0.0 :  None : False : False : NonNegativeReals\n",
      "     ('Reaction 3', 'Reactor 2', 9) :     0 :              0.0 :  None : False : False : NonNegativeReals\n",
      "    ('Reaction 3', 'Reactor 2', 10) :     0 :              0.0 :  None : False : False : NonNegativeReals\n",
      "    ('Reaction 3', 'Reactor 2', 11) :     0 :              0.0 :  None : False : False : NonNegativeReals\n",
      "         ('Separation', 'Still', 0) :     0 :            200.0 :  None : False : False : NonNegativeReals\n",
      "         ('Separation', 'Still', 1) :     0 :              0.0 :  None : False : False : NonNegativeReals\n",
      "         ('Separation', 'Still', 2) :     0 :            200.0 :  None : False : False : NonNegativeReals\n",
      "         ('Separation', 'Still', 3) :     0 :              0.0 :  None : False : False : NonNegativeReals\n",
      "         ('Separation', 'Still', 4) :     0 :            200.0 :  None : False : False : NonNegativeReals\n",
      "         ('Separation', 'Still', 5) :     0 :              0.0 :  None : False : False : NonNegativeReals\n",
      "         ('Separation', 'Still', 6) :     0 :            200.0 :  None : False : False : NonNegativeReals\n",
      "         ('Separation', 'Still', 7) :     0 :              0.0 :  None : False : False : NonNegativeReals\n",
      "         ('Separation', 'Still', 8) :     0 :            200.0 :  None : False : False : NonNegativeReals\n",
      "         ('Separation', 'Still', 9) :     0 :              0.0 :  None : False : False : NonNegativeReals\n",
      "        ('Separation', 'Still', 10) :     0 :            200.0 :  None : False : False : NonNegativeReals\n",
      "        ('Separation', 'Still', 11) :     0 :              0.0 :  None : False : False : NonNegativeReals\n"
     ]
    }
   ],
   "source": [
    "model.B.pprint()"
   ]
  },
  {
   "cell_type": "code",
   "execution_count": 38,
   "metadata": {},
   "outputs": [
    {
     "name": "stdout",
     "output_type": "stream",
     "text": [
      "W : Start task k using unit j at time t\n",
      "    Size=96, Index=W_index\n",
      "    Key                             : Lower : Value : Upper : Fixed : Stale : Domain\n",
      "           ('Heating', 'Heater', 0) :     0 :   0.0 :     1 : False : False : Binary\n",
      "           ('Heating', 'Heater', 1) :     0 :   0.0 :     1 : False : False : Binary\n",
      "           ('Heating', 'Heater', 2) :     0 :   0.0 :     1 : False : False : Binary\n",
      "           ('Heating', 'Heater', 3) :     0 :   0.0 :     1 : False : False : Binary\n",
      "           ('Heating', 'Heater', 4) :     0 :   0.0 :     1 : False : False : Binary\n",
      "           ('Heating', 'Heater', 5) :     0 :   0.0 :     1 : False : False : Binary\n",
      "           ('Heating', 'Heater', 6) :     0 :   0.0 :     1 : False : False : Binary\n",
      "           ('Heating', 'Heater', 7) :     0 :   0.0 :     1 : False : False : Binary\n",
      "           ('Heating', 'Heater', 8) :     0 :   0.0 :     1 : False : False : Binary\n",
      "           ('Heating', 'Heater', 9) :     0 :   0.0 :     1 : False : False : Binary\n",
      "          ('Heating', 'Heater', 10) :     0 :   0.0 :     1 : False : False : Binary\n",
      "          ('Heating', 'Heater', 11) :     0 :   0.0 :     1 : False : False : Binary\n",
      "     ('Reaction 1', 'Reactor 1', 0) :     0 :   0.0 :     1 : False : False : Binary\n",
      "     ('Reaction 1', 'Reactor 1', 1) :     0 :   0.0 :     1 : False : False : Binary\n",
      "     ('Reaction 1', 'Reactor 1', 2) :     0 :   0.0 :     1 : False : False : Binary\n",
      "     ('Reaction 1', 'Reactor 1', 3) :     0 :   0.0 :     1 : False : False : Binary\n",
      "     ('Reaction 1', 'Reactor 1', 4) :     0 :   0.0 :     1 : False : False : Binary\n",
      "     ('Reaction 1', 'Reactor 1', 5) :     0 :   0.0 :     1 : False : False : Binary\n",
      "     ('Reaction 1', 'Reactor 1', 6) :     0 :   0.0 :     1 : False : False : Binary\n",
      "     ('Reaction 1', 'Reactor 1', 7) :     0 :   0.0 :     1 : False : False : Binary\n",
      "     ('Reaction 1', 'Reactor 1', 8) :     0 :   0.0 :     1 : False : False : Binary\n",
      "     ('Reaction 1', 'Reactor 1', 9) :     0 :   0.0 :     1 : False : False : Binary\n",
      "    ('Reaction 1', 'Reactor 1', 10) :     0 :   0.0 :     1 : False : False : Binary\n",
      "    ('Reaction 1', 'Reactor 1', 11) :     0 :   0.0 :     1 : False : False : Binary\n",
      "     ('Reaction 1', 'Reactor 2', 0) :     0 :   0.0 :     1 : False : False : Binary\n",
      "     ('Reaction 1', 'Reactor 2', 1) :     0 :   0.0 :     1 : False : False : Binary\n",
      "     ('Reaction 1', 'Reactor 2', 2) :     0 :   0.0 :     1 : False : False : Binary\n",
      "     ('Reaction 1', 'Reactor 2', 3) :     0 :   0.0 :     1 : False : False : Binary\n",
      "     ('Reaction 1', 'Reactor 2', 4) :     0 :   0.0 :     1 : False : False : Binary\n",
      "     ('Reaction 1', 'Reactor 2', 5) :     0 :   0.0 :     1 : False : False : Binary\n",
      "     ('Reaction 1', 'Reactor 2', 6) :     0 :   0.0 :     1 : False : False : Binary\n",
      "     ('Reaction 1', 'Reactor 2', 7) :     0 :   0.0 :     1 : False : False : Binary\n",
      "     ('Reaction 1', 'Reactor 2', 8) :     0 :   0.0 :     1 : False : False : Binary\n",
      "     ('Reaction 1', 'Reactor 2', 9) :     0 :   0.0 :     1 : False : False : Binary\n",
      "    ('Reaction 1', 'Reactor 2', 10) :     0 :   0.0 :     1 : False : False : Binary\n",
      "    ('Reaction 1', 'Reactor 2', 11) :     0 :   0.0 :     1 : False : False : Binary\n",
      "     ('Reaction 2', 'Reactor 1', 0) :     0 :   0.0 :     1 : False : False : Binary\n",
      "     ('Reaction 2', 'Reactor 1', 1) :     0 :   0.0 :     1 : False : False : Binary\n",
      "     ('Reaction 2', 'Reactor 1', 2) :     0 :   0.0 :     1 : False : False : Binary\n",
      "     ('Reaction 2', 'Reactor 1', 3) :     0 :   0.0 :     1 : False : False : Binary\n",
      "     ('Reaction 2', 'Reactor 1', 4) :     0 :   0.0 :     1 : False : False : Binary\n",
      "     ('Reaction 2', 'Reactor 1', 5) :     0 :   0.0 :     1 : False : False : Binary\n",
      "     ('Reaction 2', 'Reactor 1', 6) :     0 :   0.0 :     1 : False : False : Binary\n",
      "     ('Reaction 2', 'Reactor 1', 7) :     0 :   0.0 :     1 : False : False : Binary\n",
      "     ('Reaction 2', 'Reactor 1', 8) :     0 :   0.0 :     1 : False : False : Binary\n",
      "     ('Reaction 2', 'Reactor 1', 9) :     0 :   1.0 :     1 : False : False : Binary\n",
      "    ('Reaction 2', 'Reactor 1', 10) :     0 :   0.0 :     1 : False : False : Binary\n",
      "    ('Reaction 2', 'Reactor 1', 11) :     0 :   0.0 :     1 : False : False : Binary\n",
      "     ('Reaction 2', 'Reactor 2', 0) :     0 :   0.0 :     1 : False : False : Binary\n",
      "     ('Reaction 2', 'Reactor 2', 1) :     0 :   0.0 :     1 : False : False : Binary\n",
      "     ('Reaction 2', 'Reactor 2', 2) :     0 :   0.0 :     1 : False : False : Binary\n",
      "     ('Reaction 2', 'Reactor 2', 3) :     0 :   0.0 :     1 : False : False : Binary\n",
      "     ('Reaction 2', 'Reactor 2', 4) :     0 :   0.0 :     1 : False : False : Binary\n",
      "     ('Reaction 2', 'Reactor 2', 5) :     0 :   0.0 :     1 : False : False : Binary\n",
      "     ('Reaction 2', 'Reactor 2', 6) :     0 :   1.0 :     1 : False : False : Binary\n",
      "     ('Reaction 2', 'Reactor 2', 7) :     0 :   0.0 :     1 : False : False : Binary\n",
      "     ('Reaction 2', 'Reactor 2', 8) :     0 :   1.0 :     1 : False : False : Binary\n",
      "     ('Reaction 2', 'Reactor 2', 9) :     0 :   0.0 :     1 : False : False : Binary\n",
      "    ('Reaction 2', 'Reactor 2', 10) :     0 :   0.0 :     1 : False : False : Binary\n",
      "    ('Reaction 2', 'Reactor 2', 11) :     0 :   0.0 :     1 : False : False : Binary\n",
      "     ('Reaction 3', 'Reactor 1', 0) :     0 :   0.0 :     1 : False : False : Binary\n",
      "     ('Reaction 3', 'Reactor 1', 1) :     0 :   0.0 :     1 : False : False : Binary\n",
      "     ('Reaction 3', 'Reactor 1', 2) :     0 :   0.0 :     1 : False : False : Binary\n",
      "     ('Reaction 3', 'Reactor 1', 3) :     0 :   0.0 :     1 : False : False : Binary\n",
      "     ('Reaction 3', 'Reactor 1', 4) :     0 :   0.0 :     1 : False : False : Binary\n",
      "     ('Reaction 3', 'Reactor 1', 5) :     0 :   0.0 :     1 : False : False : Binary\n",
      "     ('Reaction 3', 'Reactor 1', 6) :     0 :   0.0 :     1 : False : False : Binary\n",
      "     ('Reaction 3', 'Reactor 1', 7) :     0 :   0.0 :     1 : False : False : Binary\n",
      "     ('Reaction 3', 'Reactor 1', 8) :     0 :   0.0 :     1 : False : False : Binary\n",
      "     ('Reaction 3', 'Reactor 1', 9) :     0 :   0.0 :     1 : False : False : Binary\n",
      "    ('Reaction 3', 'Reactor 1', 10) :     0 :   0.0 :     1 : False : False : Binary\n",
      "    ('Reaction 3', 'Reactor 1', 11) :     0 :   0.0 :     1 : False : False : Binary\n",
      "     ('Reaction 3', 'Reactor 2', 0) :     0 :   0.0 :     1 : False : False : Binary\n",
      "     ('Reaction 3', 'Reactor 2', 1) :     0 :   0.0 :     1 : False : False : Binary\n",
      "     ('Reaction 3', 'Reactor 2', 2) :     0 :   0.0 :     1 : False : False : Binary\n",
      "     ('Reaction 3', 'Reactor 2', 3) :     0 :   0.0 :     1 : False : False : Binary\n",
      "     ('Reaction 3', 'Reactor 2', 4) :     0 :   0.0 :     1 : False : False : Binary\n",
      "     ('Reaction 3', 'Reactor 2', 5) :     0 :   0.0 :     1 : False : False : Binary\n",
      "     ('Reaction 3', 'Reactor 2', 6) :     0 :   0.0 :     1 : False : False : Binary\n",
      "     ('Reaction 3', 'Reactor 2', 7) :     0 :   0.0 :     1 : False : False : Binary\n",
      "     ('Reaction 3', 'Reactor 2', 8) :     0 :   0.0 :     1 : False : False : Binary\n",
      "     ('Reaction 3', 'Reactor 2', 9) :     0 :   0.0 :     1 : False : False : Binary\n",
      "    ('Reaction 3', 'Reactor 2', 10) :     0 :   0.0 :     1 : False : False : Binary\n",
      "    ('Reaction 3', 'Reactor 2', 11) :     0 :   0.0 :     1 : False : False : Binary\n",
      "         ('Separation', 'Still', 0) :     0 :   1.0 :     1 : False : False : Binary\n",
      "         ('Separation', 'Still', 1) :     0 :   0.0 :     1 : False : False : Binary\n",
      "         ('Separation', 'Still', 2) :     0 :   1.0 :     1 : False : False : Binary\n",
      "         ('Separation', 'Still', 3) :     0 :   0.0 :     1 : False : False : Binary\n",
      "         ('Separation', 'Still', 4) :     0 :   1.0 :     1 : False : False : Binary\n",
      "         ('Separation', 'Still', 5) :     0 :   0.0 :     1 : False : False : Binary\n",
      "         ('Separation', 'Still', 6) :     0 :   1.0 :     1 : False : False : Binary\n",
      "         ('Separation', 'Still', 7) :     0 :   0.0 :     1 : False : False : Binary\n",
      "         ('Separation', 'Still', 8) :     0 :   1.0 :     1 : False : False : Binary\n",
      "         ('Separation', 'Still', 9) :     0 :   0.0 :     1 : False : False : Binary\n",
      "        ('Separation', 'Still', 10) :     0 :   1.0 :     1 : False : False : Binary\n",
      "        ('Separation', 'Still', 11) :     0 :   0.0 :     1 : False : False : Binary\n"
     ]
    }
   ],
   "source": [
    "model.W.pprint()"
   ]
  }
 ],
 "metadata": {
  "kernelspec": {
   "display_name": "Python 3",
   "language": "python",
   "name": "python3"
  },
  "language_info": {
   "codemirror_mode": {
    "name": "ipython",
    "version": 3
   },
   "file_extension": ".py",
   "mimetype": "text/x-python",
   "name": "python",
   "nbconvert_exporter": "python",
   "pygments_lexer": "ipython3",
   "version": "3.7.9"
  },
  "toc": {
   "base_numbering": 1,
   "nav_menu": {},
   "number_sections": true,
   "sideBar": true,
   "skip_h1_title": false,
   "title_cell": "Table of Contents",
   "title_sidebar": "Contents",
   "toc_cell": false,
   "toc_position": {
    "height": "calc(100% - 180px)",
    "left": "10px",
    "top": "150px",
    "width": "256px"
   },
   "toc_section_display": true,
   "toc_window_display": true
  }
 },
 "nbformat": 4,
 "nbformat_minor": 4
}
