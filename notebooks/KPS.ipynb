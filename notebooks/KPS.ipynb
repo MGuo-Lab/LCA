{
 "cells": [
  {
   "cell_type": "markdown",
   "metadata": {},
   "source": [
    "# State Task Networks\n",
    "\n",
    "This notebook implements in Pyomo the state task network described in Section 3 of Kondili, Pantelides & Sargent (1993).\n",
    "\n",
    "Kantor has written a state task network package that uses pyomo - see https://jckantor.github.io/STN-Scheduler/. It defines a class called `STN` with methods to make it easier to build the sets for a state task network programmatically. However, different structural models are likely to require different methods. In `mola` the `Specification` class has a single method called `populate` that can be called from a GUI. It uses a JSON file that populates the sets and parameters of an abstract pyomo model. \n",
    "\n",
    "The `STN-Scheduler` package does not use the built-in network module in `pyomo` which is a fairly recent development."
   ]
  },
  {
   "cell_type": "code",
   "execution_count": 1,
   "metadata": {},
   "outputs": [],
   "source": [
    "from pyomo.environ import *\n",
    "import itertools"
   ]
  },
  {
   "cell_type": "code",
   "execution_count": 2,
   "metadata": {},
   "outputs": [],
   "source": [
    "model = ConcreteModel()"
   ]
  },
  {
   "cell_type": "markdown",
   "metadata": {},
   "source": [
    "# Notation\n",
    "\n",
    "The time discretisation is defined by"
   ]
  },
  {
   "cell_type": "code",
   "execution_count": 3,
   "metadata": {},
   "outputs": [
    {
     "name": "stdout",
     "output_type": "stream",
     "text": [
      "T : Time Periods\n",
      "    Size=1, Index=None, Ordered=Insertion\n",
      "    Key  : Dimen : Domain : Size : Members\n",
      "    None :     1 :    Any :   11 : {0, 1, 2, 3, 4, 5, 6, 7, 8, 9, 10}\n"
     ]
    }
   ],
   "source": [
    "model.H = 10\n",
    "model.T = Set(initialize=RangeSet(0, model.H), doc='Time Periods')\n",
    "model.T.pprint()"
   ]
  },
  {
   "cell_type": "markdown",
   "metadata": {},
   "source": [
    "States, tasks and units are defined by"
   ]
  },
  {
   "cell_type": "code",
   "execution_count": 4,
   "metadata": {},
   "outputs": [],
   "source": [
    "model.States = Set(\n",
    "    initialize=['Feed A', 'Feed B', 'Feed C', 'Hot A', 'Int BC', 'Int AB',\n",
    "                'Impure E', 'Product 1', 'Product 2'], doc='States')\n",
    "model.I = Set(initialize=['Heating', 'Reaction 1', 'Reaction 2', 'Reaction 3', 'Separation'], doc='Tasks')\n",
    "model.J = Set(initialize=['Heater', 'Reactor 1', 'Reactor 2', 'Still'], doc='Units')"
   ]
  },
  {
   "cell_type": "markdown",
   "metadata": {},
   "source": [
    "## Task definition\n",
    "\n",
    "Task $i$ is defined by indexed sets, but we cannot initialize parameters or variables by indexed sets in Pyomo so we use an indexed set and tuples. We could just use the map directly, but it may be easier to specify the index set for the GUI. The user defines the index set and then `mola` builds the tuples."
   ]
  },
  {
   "cell_type": "code",
   "execution_count": 5,
   "metadata": {},
   "outputs": [
    {
     "name": "stdout",
     "output_type": "stream",
     "text": [
      "S_I : States that feed task i\n",
      "    Size=1, Index=None, Ordered=Insertion\n",
      "    Key  : Dimen : Domain     : Size : Members\n",
      "    None :     2 : S_I_domain :    8 : {('Feed A', 'Heating'), ('Feed B', 'Reaction 1'), ('Feed C', 'Reaction 1'), ('Hot A', 'Reaction 2'), ('Int BC', 'Reaction 2'), ('Int AB', 'Reaction 3'), ('Feed C', 'Reaction 3'), ('Impure E', 'Separation')}\n"
     ]
    }
   ],
   "source": [
    "map_S_I = {\n",
    "    'Heating': ['Feed A'],\n",
    "    'Reaction 1': ['Feed B', 'Feed C'],\n",
    "    'Reaction 2': ['Hot A', 'Int BC'],\n",
    "    'Reaction 3': ['Int AB', 'Feed C'],\n",
    "    'Separation': ['Impure E']\n",
    "}\n",
    "model.SI = Set(model.I, initialize=map_S_I, within=model.States)\n",
    "model.S_I = Set(within=model.States * model.I, initialize=[(s, i) for i in model.I for s in model.SI[i]], \n",
    "                doc='States that feed task i')\n",
    "model.S_I.pprint()"
   ]
  },
  {
   "cell_type": "code",
   "execution_count": 6,
   "metadata": {},
   "outputs": [
    {
     "name": "stdout",
     "output_type": "stream",
     "text": [
      "S_bar_I : States produced by task i\n",
      "    Size=1, Index=None, Ordered=Insertion\n",
      "    Key  : Dimen : Domain         : Size : Members\n",
      "    None :     2 : S_bar_I_domain :    7 : {('Hot A', 'Heating'), ('Int BC', 'Reaction 1'), ('Product 1', 'Reaction 2'), ('Int AB', 'Reaction 2'), ('Impure E', 'Reaction 3'), ('Product 2', 'Separation'), ('Int AB', 'Separation')}\n"
     ]
    }
   ],
   "source": [
    "map_S_bar_I = {\n",
    "    'Heating': ['Hot A'],\n",
    "    'Reaction 1': ['Int BC'],\n",
    "    'Reaction 2': ['Product 1', 'Int AB'],\n",
    "    'Reaction 3': ['Impure E'],\n",
    "    'Separation': ['Product 2', 'Int AB']\n",
    "}\n",
    "model.S_barI = Set(model.I, initialize=map_S_bar_I, within=model.States)\n",
    "model.S_bar_I = Set(within=model.States * model.I, initialize=[(s, i) for i in model.I for s in model.S_barI[i]],\n",
    "                   doc='States produced by task i')\n",
    "model.S_bar_I.pprint()"
   ]
  },
  {
   "cell_type": "code",
   "execution_count": 7,
   "metadata": {},
   "outputs": [
    {
     "name": "stdout",
     "output_type": "stream",
     "text": [
      "rho : Proportion of input of task i from state s\n",
      "    Size=8, Index=S_I, Domain=Any, Default=None, Mutable=False\n",
      "    Key                        : Value\n",
      "         ('Feed A', 'Heating') :     1\n",
      "      ('Feed B', 'Reaction 1') :   0.5\n",
      "      ('Feed C', 'Reaction 1') :   0.5\n",
      "      ('Feed C', 'Reaction 3') :   0.2\n",
      "       ('Hot A', 'Reaction 2') :   0.4\n",
      "    ('Impure E', 'Separation') :     1\n",
      "      ('Int AB', 'Reaction 3') :   0.8\n",
      "      ('Int BC', 'Reaction 2') :   0.6\n"
     ]
    }
   ],
   "source": [
    "map_rho = {\n",
    "    ('Feed A', 'Heating'): 1,\n",
    "    ('Feed B', 'Reaction 1'): 0.5,\n",
    "    ('Feed C', 'Reaction 1'): 0.5,\n",
    "    ('Hot A', 'Reaction 2'): 0.4,\n",
    "    ('Int BC', 'Reaction 2'): 0.6,\n",
    "    ('Feed C', 'Reaction 3'): 0.2,\n",
    "    ('Int AB', 'Reaction 3'): 0.8,\n",
    "    ('Impure E', 'Separation'): 1\n",
    "}\n",
    "model.rho = Param(model.S_I, initialize=map_rho, doc='Proportion of input of task i from state s')\n",
    "model.rho.pprint()"
   ]
  },
  {
   "cell_type": "code",
   "execution_count": 8,
   "metadata": {},
   "outputs": [
    {
     "name": "stdout",
     "output_type": "stream",
     "text": [
      "rho_bar : Proportion of output of task i to state s\n",
      "    Size=7, Index=S_bar_I, Domain=Any, Default=None, Mutable=False\n",
      "    Key                         : Value\n",
      "           ('Hot A', 'Heating') :     1\n",
      "     ('Impure E', 'Reaction 3') :     1\n",
      "       ('Int AB', 'Reaction 2') :   0.6\n",
      "       ('Int AB', 'Separation') :   0.1\n",
      "       ('Int BC', 'Reaction 1') :     1\n",
      "    ('Product 1', 'Reaction 2') :   0.4\n",
      "    ('Product 2', 'Separation') :   0.9\n"
     ]
    }
   ],
   "source": [
    "map_rho_bar = {\n",
    "    ('Hot A', 'Heating'): 1,\n",
    "    ('Int BC', 'Reaction 1'): 1,\n",
    "    ('Product 1', 'Reaction 2'): 0.4,\n",
    "    ('Int AB', 'Reaction 2'): 0.6,\n",
    "    ('Impure E', 'Reaction 3'): 1,\n",
    "    ('Product 2', 'Separation'): 0.9,\n",
    "    ('Int AB', 'Separation'): 0.1\n",
    "}\n",
    "model.rho_bar = Param(model.S_bar_I, initialize=map_rho_bar,\n",
    "                      doc='Proportion of output of task i to state s')\n",
    "model.rho_bar.pprint()"
   ]
  },
  {
   "cell_type": "code",
   "execution_count": 9,
   "metadata": {},
   "outputs": [
    {
     "name": "stdout",
     "output_type": "stream",
     "text": [
      "P : Processing time for the output of task i to state s\n",
      "    Size=7, Index=S_bar_I, Domain=Any, Default=None, Mutable=False\n",
      "    Key                         : Value\n",
      "           ('Hot A', 'Heating') :     1\n",
      "     ('Impure E', 'Reaction 3') :     1\n",
      "       ('Int AB', 'Reaction 2') :     2\n",
      "       ('Int AB', 'Separation') :     2\n",
      "       ('Int BC', 'Reaction 1') :     2\n",
      "    ('Product 1', 'Reaction 2') :     2\n",
      "    ('Product 2', 'Separation') :     1\n"
     ]
    }
   ],
   "source": [
    "map_P = {\n",
    "    ('Hot A', 'Heating'): 1,\n",
    "    ('Int BC', 'Reaction 1'): 2,\n",
    "    ('Product 1', 'Reaction 2'): 2,\n",
    "    ('Int AB', 'Reaction 2'): 2,\n",
    "    ('Impure E', 'Reaction 3'): 1,\n",
    "    ('Product 2', 'Separation'): 1,\n",
    "    ('Int AB', 'Separation'): 2\n",
    "}\n",
    "model.P = Param(model.S_bar_I, initialize=map_P, \n",
    "                doc='Processing time for the output of task i to state s')\n",
    "model.P.pprint()"
   ]
  },
  {
   "cell_type": "code",
   "execution_count": 10,
   "metadata": {},
   "outputs": [
    {
     "name": "stdout",
     "output_type": "stream",
     "text": [
      "p : Completion time for task i\n",
      "    Size=5, Index=I, Domain=Any, Default=None, Mutable=False\n",
      "    Key        : Value\n",
      "       Heating :     1\n",
      "    Reaction 1 :     2\n",
      "    Reaction 2 :     2\n",
      "    Reaction 3 :     1\n",
      "    Separation :     2\n"
     ]
    }
   ],
   "source": [
    "def p_rule(model, i):\n",
    "    return max(model.P[s, i] for s in model.S_barI[i])\n",
    "model.p = Param(model.I, initialize=p_rule, doc='Completion time for task i')\n",
    "model.p.pprint()"
   ]
  },
  {
   "cell_type": "code",
   "execution_count": 11,
   "metadata": {},
   "outputs": [
    {
     "name": "stdout",
     "output_type": "stream",
     "text": [
      "K_I : Units capable of performing task i\n",
      "    Size=1, Index=None, Ordered=Insertion\n",
      "    Key  : Dimen : Domain     : Size : Members\n",
      "    None :     2 : K_I_domain :    8 : {('Heater', 'Heating'), ('Reactor 1', 'Reaction 1'), ('Reactor 2', 'Reaction 1'), ('Reactor 1', 'Reaction 2'), ('Reactor 2', 'Reaction 2'), ('Reactor 1', 'Reaction 3'), ('Reactor 2', 'Reaction 3'), ('Still', 'Separation')}\n"
     ]
    }
   ],
   "source": [
    "map_K_I = {\n",
    "    'Heating': ['Heater'],\n",
    "    'Reaction 1': ['Reactor 1', 'Reactor 2'],\n",
    "    'Reaction 2': ['Reactor 1', 'Reactor 2'],\n",
    "    'Reaction 3': ['Reactor 1', 'Reactor 2'],\n",
    "    'Separation': ['Still']\n",
    "}\n",
    "model.KI = Set(model.I, initialize=map_K_I, within=model.J)\n",
    "model.K_I = Set(within=model.J * model.I, initialize=[(j, i) for i in model.I for j in model.KI[i]], \n",
    "                doc='Units capable of performing task i')\n",
    "model.K_I.pprint()"
   ]
  },
  {
   "cell_type": "markdown",
   "metadata": {},
   "source": [
    "## State definition\n",
    "\n",
    "The set $T_s$ is the set of tasks that receive material from state $s$. It is the inversion of the set $S_i$."
   ]
  },
  {
   "cell_type": "code",
   "execution_count": 12,
   "metadata": {},
   "outputs": [
    {
     "data": {
      "text/plain": [
       "{'Feed A': ['Heating'],\n",
       " 'Feed B': ['Reaction 1'],\n",
       " 'Feed C': ['Reaction 1', 'Reaction 3'],\n",
       " 'Hot A': ['Reaction 2'],\n",
       " 'Int BC': ['Reaction 2'],\n",
       " 'Int AB': ['Reaction 3'],\n",
       " 'Impure E': ['Separation']}"
      ]
     },
     "execution_count": 12,
     "metadata": {},
     "output_type": "execute_result"
    }
   ],
   "source": [
    "map_T_S = {}\n",
    "for s, i in model.S_I:\n",
    "    map_T_S.setdefault(s, []).append(i)\n",
    "\n",
    "map_T_S"
   ]
  },
  {
   "cell_type": "markdown",
   "metadata": {},
   "source": [
    "The `setdefault` method for a dict ensures that we append to an empty list if the state does not yet exist in `map_T_S`. "
   ]
  },
  {
   "cell_type": "code",
   "execution_count": 13,
   "metadata": {},
   "outputs": [
    {
     "name": "stdout",
     "output_type": "stream",
     "text": [
      "T_S : Tasks receiving material from state s\n",
      "    Size=1, Index=None, Ordered=Insertion\n",
      "    Key  : Dimen : Domain     : Size : Members\n",
      "    None :     2 : T_S_domain :    8 : {('Heating', 'Feed A'), ('Reaction 1', 'Feed B'), ('Reaction 1', 'Feed C'), ('Reaction 3', 'Feed C'), ('Reaction 2', 'Hot A'), ('Reaction 2', 'Int BC'), ('Reaction 3', 'Int AB'), ('Separation', 'Impure E')}\n"
     ]
    }
   ],
   "source": [
    "model.TS = Set(model.States, initialize=map_T_S, within=model.I)\n",
    "model.T_S = Set(within=model.I * model.States, \n",
    "                initialize=[(i, s) for s in model.TS.keys() for i in model.TS[s]], \n",
    "                doc='Tasks receiving material from state s')\n",
    "model.T_S.pprint()"
   ]
  },
  {
   "cell_type": "markdown",
   "metadata": {},
   "source": [
    "The set $\\bar{T}_s$ is the set of tasks that produce material in state $s$."
   ]
  },
  {
   "cell_type": "code",
   "execution_count": 14,
   "metadata": {},
   "outputs": [
    {
     "data": {
      "text/plain": [
       "{'Hot A': ['Heating'],\n",
       " 'Int BC': ['Reaction 1'],\n",
       " 'Product 1': ['Reaction 2'],\n",
       " 'Int AB': ['Reaction 2', 'Separation'],\n",
       " 'Impure E': ['Reaction 3'],\n",
       " 'Product 2': ['Separation']}"
      ]
     },
     "execution_count": 14,
     "metadata": {},
     "output_type": "execute_result"
    }
   ],
   "source": [
    "map_T_bar_S = {}\n",
    "for s, i in model.S_bar_I:\n",
    "    map_T_bar_S.setdefault(s, []).append(i)\n",
    "\n",
    "map_T_bar_S"
   ]
  },
  {
   "cell_type": "code",
   "execution_count": 15,
   "metadata": {},
   "outputs": [
    {
     "name": "stdout",
     "output_type": "stream",
     "text": [
      "T_bar_S : Tasks producing material in state s\n",
      "    Size=1, Index=None, Ordered=Insertion\n",
      "    Key  : Dimen : Domain         : Size : Members\n",
      "    None :     2 : T_bar_S_domain :    7 : {('Heating', 'Hot A'), ('Reaction 1', 'Int BC'), ('Reaction 2', 'Int AB'), ('Separation', 'Int AB'), ('Reaction 3', 'Impure E'), ('Reaction 2', 'Product 1'), ('Separation', 'Product 2')}\n"
     ]
    }
   ],
   "source": [
    "model.T_barS = Set(model.States, initialize=map_T_bar_S, within=model.I)\n",
    "model.T_bar_S = Set(within=model.I * model.States, \n",
    "                    initialize=[(i, s) for s in model.T_barS for i in model.T_barS[s]],\n",
    "                    doc='Tasks producing material in state s')\n",
    "model.T_bar_S.pprint()"
   ]
  },
  {
   "cell_type": "code",
   "execution_count": 16,
   "metadata": {},
   "outputs": [
    {
     "name": "stdout",
     "output_type": "stream",
     "text": [
      "C : Maximum storage capacity dedicated to state s\n",
      "    Size=9, Index=States, Domain=Any, Default=None, Mutable=False\n",
      "    Key       : Value\n",
      "       Feed A :   inf\n",
      "       Feed B :   inf\n",
      "       Feed C :   inf\n",
      "        Hot A :   100\n",
      "     Impure E :   100\n",
      "       Int AB :   200\n",
      "       Int BC :   150\n",
      "    Product 1 :   inf\n",
      "    Product 2 :   inf\n"
     ]
    }
   ],
   "source": [
    "map_C = {\n",
    "    'Feed A': float('inf'), 'Feed B': float('inf'), 'Feed C': float('inf'),\n",
    "    'Hot A': 100, 'Int BC': 150, 'Int AB': 200, 'Impure E': 100,\n",
    "    'Product 1': float('inf'), 'Product 2': float('inf')}\n",
    "model.C = Param(model.States, initialize=map_C, doc='Maximum storage capacity dedicated to state s')\n",
    "model.C.pprint()"
   ]
  },
  {
   "cell_type": "markdown",
   "metadata": {},
   "source": [
    "## Unit definition\n",
    "\n",
    "The set $I_j$ is the set of tasks that can be performed by unit $j$. It is the inversion of the set $K_i$."
   ]
  },
  {
   "cell_type": "code",
   "execution_count": 17,
   "metadata": {},
   "outputs": [],
   "source": [
    "map_I_J = {}\n",
    "for j, i in model.K_I:\n",
    "    map_I_J.setdefault(j, []).append(i)"
   ]
  },
  {
   "cell_type": "code",
   "execution_count": 18,
   "metadata": {},
   "outputs": [
    {
     "name": "stdout",
     "output_type": "stream",
     "text": [
      "I_J : Tasks that can be performed by unit j\n",
      "    Size=1, Index=None, Ordered=Insertion\n",
      "    Key  : Dimen : Domain     : Size : Members\n",
      "    None :     2 : I_J_domain :    8 : {('Heating', 'Heater'), ('Reaction 1', 'Reactor 1'), ('Reaction 2', 'Reactor 1'), ('Reaction 3', 'Reactor 1'), ('Reaction 1', 'Reactor 2'), ('Reaction 2', 'Reactor 2'), ('Reaction 3', 'Reactor 2'), ('Separation', 'Still')}\n"
     ]
    }
   ],
   "source": [
    "model.IJ = Set(model.J, initialize=map_I_J, within=model.I)\n",
    "model.I_J = Set(within=model.I * model.J, initialize=[(i, j) for j in model.J for i in model.IJ[j]],\n",
    "                doc='Tasks that can be performed by unit j')\n",
    "model.I_J.pprint()"
   ]
  },
  {
   "cell_type": "code",
   "execution_count": 19,
   "metadata": {},
   "outputs": [
    {
     "name": "stdout",
     "output_type": "stream",
     "text": [
      "I_J : Tasks that can be performed by unit j\n",
      "    Size=1, Index=None, Ordered=Insertion\n",
      "    Key  : Dimen : Domain     : Size : Members\n",
      "    None :     2 : I_J_domain :    8 : {('Heating', 'Heater'), ('Reaction 1', 'Reactor 1'), ('Reaction 2', 'Reactor 1'), ('Reaction 3', 'Reactor 1'), ('Reaction 1', 'Reactor 2'), ('Reaction 2', 'Reactor 2'), ('Reaction 3', 'Reactor 2'), ('Separation', 'Still')}\n"
     ]
    }
   ],
   "source": [
    "model.I_J.pprint()"
   ]
  },
  {
   "cell_type": "code",
   "execution_count": 20,
   "metadata": {},
   "outputs": [],
   "source": [
    "map_V_max = {\n",
    "    ('Heating', 'Heater'): 100,\n",
    "    ('Reaction 1', 'Reactor 1'): 80,\n",
    "    ('Reaction 2', 'Reactor 1'): 80,\n",
    "    ('Reaction 3', 'Reactor 1'): 80,\n",
    "    ('Reaction 1', 'Reactor 2'): 50,\n",
    "    ('Reaction 2', 'Reactor 2'): 50,\n",
    "    ('Reaction 3', 'Reactor 2'): 50,\n",
    "    ('Separation', 'Still'): 200\n",
    "}\n",
    "map_V_min = {\n",
    "    ('Heating', 'Heater'): 0,\n",
    "    ('Reaction 1', 'Reactor 1'): 0,\n",
    "    ('Reaction 2', 'Reactor 1'): 0,\n",
    "    ('Reaction 3', 'Reactor 1'): 0,\n",
    "    ('Reaction 1', 'Reactor 2'): 0,\n",
    "    ('Reaction 2', 'Reactor 2'): 0,\n",
    "    ('Reaction 3', 'Reactor 2'): 0,\n",
    "    ('Separation', 'Still'): 0\n",
    "}\n",
    "model.V_max = Param(model.I_J, initialize=map_V_max, \n",
    "                    doc='Maximum capacity of unit j when used for performing task i')\n",
    "model.V_min = Param(model.I_J, initialize=map_V_min, \n",
    "                    doc='Minimum capacity of unit j when used for performing task i')"
   ]
  },
  {
   "cell_type": "markdown",
   "metadata": {},
   "source": [
    "# Variables"
   ]
  },
  {
   "cell_type": "code",
   "execution_count": 21,
   "metadata": {},
   "outputs": [],
   "source": [
    "model.W = Var(model.I_J, model.T, doc='Start task k using unit j at time t', within=Binary)"
   ]
  },
  {
   "cell_type": "code",
   "execution_count": 22,
   "metadata": {},
   "outputs": [],
   "source": [
    "model.B = Var(model.I_J, model.T,\n",
    "              doc='Amount of material which starts undergoing task i in unit j at beginning of t', within=NonNegativeReals)"
   ]
  },
  {
   "cell_type": "code",
   "execution_count": 23,
   "metadata": {},
   "outputs": [],
   "source": [
    "model.S = Var(model.States, model.T, \n",
    "              doc='Amount of material stored in state s at beginning of t', within=NonNegativeReals)"
   ]
  },
  {
   "cell_type": "code",
   "execution_count": 24,
   "metadata": {},
   "outputs": [],
   "source": [
    "model.Q = Var(model.J, model.T, doc='Amount of material in unit j at the beginning of time t', within=NonNegativeReals)"
   ]
  },
  {
   "cell_type": "markdown",
   "metadata": {},
   "source": [
    "# Constraints"
   ]
  },
  {
   "cell_type": "markdown",
   "metadata": {},
   "source": [
    "## Allocation Constraints"
   ]
  },
  {
   "cell_type": "code",
   "execution_count": 25,
   "metadata": {},
   "outputs": [],
   "source": [
    "model.M = Param(initialize=40, doc='Allocation constraint parameter')\n",
    "def allocation_constraints_rule(model, i, j, t):\n",
    "    lhs = sum(model.W[idash, j, tdash] for tdash in model.T for idash in model.IJ[j] \n",
    "              if tdash >= t and tdash <= t + model.p[i] - 1) - 1\n",
    "    rhs = model.M * (1 - model.W[i, j, t])\n",
    "    return lhs <= rhs\n",
    "model.allocation_constraints = Constraint(model.I_J, model.T, rule=allocation_constraints_rule)"
   ]
  },
  {
   "cell_type": "code",
   "execution_count": 26,
   "metadata": {},
   "outputs": [
    {
     "name": "stdout",
     "output_type": "stream",
     "text": [
      "{Member of allocation_constraints} : Size=88, Index=allocation_constraints_index, Active=True\n",
      "    Key                        : Lower : Body                                                                               : Upper : Active\n",
      "    ('Separation', 'Still', 0) :  -Inf : W[Separation,Still,0] + W[Separation,Still,1] - 1 - 40*(1 - W[Separation,Still,0]) :   0.0 :   True\n"
     ]
    }
   ],
   "source": [
    "model.allocation_constraints['Separation', 'Still', 0].pprint()"
   ]
  },
  {
   "cell_type": "markdown",
   "metadata": {},
   "source": [
    "Note that we use the indexed set `model.IJ` to sum over tasks for fixed unit $j$."
   ]
  },
  {
   "cell_type": "markdown",
   "metadata": {},
   "source": [
    "## Capacity Limitations\n",
    "\n",
    "Why can't we use the `inequality` function here? It leads to an uninitialied NumericValue error when running the optimisation. The function is not well documented. It might be that it can only be used with a parameter in the lower or upper argument and the error is only shown at optimisation.\n",
    "\n",
    "I have used two inequality constraints instead."
   ]
  },
  {
   "cell_type": "code",
   "execution_count": 27,
   "metadata": {},
   "outputs": [],
   "source": [
    "# def capacity_limitations_rule1(model, j, i, t):\n",
    "#     return inequality(model.W[i, j, t] * model.V_min[i, j], model.B[i, j, t], model.W[i, j, t] * model.V_max[i, j]) \n",
    "# model.capacity_limitations1 = Constraint(model.K_I, model.T, rule=capacity_limitations_rule1)\n",
    "def capacity_limitations_rule1a(model, j, i, t):\n",
    "    return model.W[i, j, t] * model.V_min[i, j] <= model.B[i, j, t]\n",
    "model.capacity_limitations1a = Constraint(model.K_I, model.T, rule=capacity_limitations_rule1a)\n",
    "def capacity_limitations_rule1b(model, j, i, t):\n",
    "    return model.B[i, j, t] <= model.W[i, j, t] * model.V_max[i, j]\n",
    "model.capacity_limitations1b = Constraint(model.K_I, model.T, rule=capacity_limitations_rule1b)"
   ]
  },
  {
   "cell_type": "markdown",
   "metadata": {},
   "source": [
    "We can use `inequality` here because `model.C` is a parameter."
   ]
  },
  {
   "cell_type": "code",
   "execution_count": 28,
   "metadata": {},
   "outputs": [],
   "source": [
    "def capacity_limitations_rule2(model, s, t):\n",
    "    return inequality(0, model.S[s, t], model.C[s]) \n",
    "model.capacity_limitations2 = Constraint(model.States, model.T, rule=capacity_limitations_rule2)\n",
    "# def capacity_limitations_rule2a(model, s, t):\n",
    "#     return 0 <= model.S[s, t] \n",
    "# model.capacity_limitations2a = Constraint(model.States, model.T, rule=capacity_limitations_rule2a)\n",
    "# def capacity_limitations_rule2b(model, s, t):\n",
    "#     return model.S[s, t] <= model.C[s] \n",
    "# model.capacity_limitations2b = Constraint(model.States, model.T, rule=capacity_limitations_rule2b)"
   ]
  },
  {
   "cell_type": "markdown",
   "metadata": {},
   "source": [
    "## Unit Mass Balances\n",
    "\n",
    "This is an additional constraint added by Kantor in his implementation."
   ]
  },
  {
   "cell_type": "code",
   "execution_count": 29,
   "metadata": {},
   "outputs": [],
   "source": [
    "def unit_balances_rule(model, j, t):\n",
    "    if t == model.T.first():\n",
    "        rhs = 0\n",
    "    else:\n",
    "        rhs = model.Q[j, t - 1]\n",
    "    rhs += sum(model.B[i, j, t] for i in model.IJ[j])\n",
    "    for i in model.IJ[j]:\n",
    "        for s in model.S_barI[i]:\n",
    "            if t >= model.P[s, i]:\n",
    "                rhs -= model.rho_bar[s, i] * model.B[i, j, t-model.P[s, i]] \n",
    "    return model.Q[j, t] == rhs\n",
    "model.unit_balances = Constraint(model.J, model.T, rule=unit_balances_rule)"
   ]
  },
  {
   "cell_type": "code",
   "execution_count": 30,
   "metadata": {},
   "outputs": [],
   "source": [
    "def terminal_unit_rule(model, j):\n",
    "    return model.Q[j, model.H] == 0\n",
    "    \n",
    "model.terminal_unit = Constraint(model.J, rule=terminal_unit_rule)"
   ]
  },
  {
   "cell_type": "markdown",
   "metadata": {},
   "source": [
    "## Material Balances"
   ]
  },
  {
   "cell_type": "code",
   "execution_count": 31,
   "metadata": {},
   "outputs": [],
   "source": [
    "model.D = Param(model.States, model.T, initialize=0,\n",
    "                   doc='Delivery of material in state s at time t')\n",
    "model.R = Param(model.States, model.T, initialize=0,\n",
    "                   doc='Receipt of material in state s at time t')"
   ]
  },
  {
   "cell_type": "markdown",
   "metadata": {},
   "source": [
    "We fix the initial states using an equality constraint in the material balance equation."
   ]
  },
  {
   "cell_type": "code",
   "execution_count": 32,
   "metadata": {},
   "outputs": [],
   "source": [
    "import numpy as np\n",
    "init_S = {\n",
    "    'Feed A': 200, 'Feed B': 200, 'Feed C': 200,\n",
    "     'Hot A': 0, 'Int BC': 0, 'Int AB': 0, 'Impure E': 0,\n",
    "     'Product 1': 0, 'Product 2': 0\n",
    "}"
   ]
  },
  {
   "cell_type": "code",
   "execution_count": 33,
   "metadata": {},
   "outputs": [],
   "source": [
    "def material_balances_rule(model, s, t):\n",
    "    if t == model.T.first():\n",
    "        rhs = init_S[s]\n",
    "    else:\n",
    "        rhs = model.S[s, t-1]\n",
    "    if s in model.T_barS.keys():\n",
    "        for i in model.T_barS[s]:\n",
    "            rhs += model.rho_bar[s, i] * sum(model.B[i, j, t-model.P[s, i]] \n",
    "                   for j in model.KI[i] if t >= model.P[s, i])\n",
    "    if s in model.TS.keys():\n",
    "        for i in model.TS[s]:\n",
    "            rhs -= model.rho[s, i] * sum(model.B[i, j, t] for j in model.KI[i])    \n",
    "    return model.S[s, t] == rhs + model.R[s, t] - model.D[s, t]\n",
    "model.material_balances = Constraint(model.States, model.T, rule=material_balances_rule)"
   ]
  },
  {
   "cell_type": "markdown",
   "metadata": {},
   "source": [
    "## Product deliveries and raw material receipts during the horizon\n",
    "\n",
    "This modification is incorporated in the previous section."
   ]
  },
  {
   "cell_type": "markdown",
   "metadata": {},
   "source": [
    "## Temporary Unavailability of Equipment\n",
    "\n",
    "We don't need this constraint for the example."
   ]
  },
  {
   "cell_type": "markdown",
   "metadata": {},
   "source": [
    "## Limited Availability of Utilities and Man-Power\n",
    "\n",
    "We don't need this constraint for the example."
   ]
  },
  {
   "cell_type": "markdown",
   "metadata": {},
   "source": [
    "## Cleaning Equipment Items\n",
    "\n",
    "We don't need this constraint for the example."
   ]
  },
  {
   "cell_type": "markdown",
   "metadata": {},
   "source": [
    "    def construct_konidili_solution_enforce(self):\n",
    "        \"\"\" The nominal model with the data of Kondili's paper has several optimizers. The following\n",
    "        constraints force the exact same solution as in the paper (the objective is unaffected)\n",
    "        :return: list of cvx.Constraint\n",
    "        \"\"\"\n",
    "        constraint_kondili = []\n",
    "        constraint_kondili.append( [self.y_ijt[0,0,1] == 52] )\n",
    "        constraint_kondili.append( [self.y_ijt[1,1,0] == 80] )\n",
    "        return constraint_kondili"
   ]
  },
  {
   "cell_type": "markdown",
   "metadata": {},
   "source": [
    "# Objective Function\n",
    "\n",
    "The objective for the paper is the maximisation of profit."
   ]
  },
  {
   "cell_type": "code",
   "execution_count": 34,
   "metadata": {},
   "outputs": [
    {
     "name": "stdout",
     "output_type": "stream",
     "text": [
      "States : States\n",
      "    Size=1, Index=None, Ordered=Insertion\n",
      "    Key  : Dimen : Domain : Size : Members\n",
      "    None :     1 :    Any :    9 : {'Feed A', 'Feed B', 'Feed C', 'Hot A', 'Int BC', 'Int AB', 'Impure E', 'Product 1', 'Product 2'}\n"
     ]
    }
   ],
   "source": [
    "model.States.pprint()"
   ]
  },
  {
   "cell_type": "code",
   "execution_count": 35,
   "metadata": {},
   "outputs": [],
   "source": [
    "def cost_rule(model, s, t):\n",
    "    if s in ['Feed A', 'Feed B', 'Feed C']:\n",
    "        cost = 0\n",
    "    elif s in ['Hot A', 'Int BC', 'Int AB', 'Impure E']:\n",
    "        cost = -1\n",
    "    elif s in ['Product 1', 'Product 2']:\n",
    "        cost = 10\n",
    "    return cost\n",
    "model.Cost = Param(model.States, model.T, initialize=cost_rule,\n",
    "                   doc='Unit price of material in state s at time t')"
   ]
  },
  {
   "cell_type": "code",
   "execution_count": 36,
   "metadata": {},
   "outputs": [
    {
     "name": "stdout",
     "output_type": "stream",
     "text": [
      "obj : Maximisation of Profit\n",
      "    Size=1, Index=None, Active=True\n",
      "    Key  : Active : Sense    : Expression\n",
      "    None :   True : maximize : - S[Hot A,10] - S[Int BC,10] - S[Int AB,10] - S[Impure E,10] + 10*S[Product 1,10] + 10*S[Product 2,10]\n"
     ]
    }
   ],
   "source": [
    "def profit_rule(model):\n",
    "    value_products = sum(model.Cost[s, model.H] * model.S[s, model.H] +\n",
    "              sum(model.Cost[s, t] * model.D[s, t] for t in model.T if t < model.H) for s in model.States)\n",
    "    return value_products\n",
    "model.obj = Objective(rule=profit_rule, doc='Maximisation of Profit', sense=maximize)\n",
    "model.obj.pprint()"
   ]
  },
  {
   "cell_type": "markdown",
   "metadata": {},
   "source": [
    "# Solution"
   ]
  },
  {
   "cell_type": "code",
   "execution_count": 37,
   "metadata": {},
   "outputs": [
    {
     "name": "stdout",
     "output_type": "stream",
     "text": [
      "# ==========================================================\n",
      "# = Solver Results                                         =\n",
      "# ==========================================================\n",
      "# ----------------------------------------------------------\n",
      "#   Problem Information\n",
      "# ----------------------------------------------------------\n",
      "Problem: \n",
      "- Name: unknown\n",
      "  Lower bound: 2744.375\n",
      "  Upper bound: 2744.375\n",
      "  Number of objectives: 1\n",
      "  Number of constraints: 555\n",
      "  Number of variables: 320\n",
      "  Number of nonzeros: 1465\n",
      "  Sense: maximize\n",
      "# ----------------------------------------------------------\n",
      "#   Solver Information\n",
      "# ----------------------------------------------------------\n",
      "Solver: \n",
      "- Status: ok\n",
      "  Termination condition: optimal\n",
      "  Statistics: \n",
      "    Branch and bound: \n",
      "      Number of bounded subproblems: 12497\n",
      "      Number of created subproblems: 12497\n",
      "  Error rc: 0\n",
      "  Time: 11.993349552154541\n",
      "# ----------------------------------------------------------\n",
      "#   Solution Information\n",
      "# ----------------------------------------------------------\n",
      "Solution: \n",
      "- number of solutions: 0\n",
      "  number of solutions displayed: 0\n"
     ]
    }
   ],
   "source": [
    "opt = SolverFactory(\"glpk\")\n",
    "results = opt.solve(model)\n",
    "results.write()"
   ]
  },
  {
   "cell_type": "code",
   "execution_count": 38,
   "metadata": {},
   "outputs": [],
   "source": [
    "import plotnine as pn\n",
    "import mola.output as mo\n",
    "import pandas as pd\n",
    "import numpy as np"
   ]
  },
  {
   "cell_type": "code",
   "execution_count": 39,
   "metadata": {},
   "outputs": [
    {
     "data": {
      "image/png": "[encoded data removed]",
      "text/plain": [
       "<Figure size 640x480 with 5 Axes>"
      ]
     },
     "metadata": {},
     "output_type": "display_data"
    },
    {
     "data": {
      "text/plain": [
       "<ggplot: (8778252803957)>"
      ]
     },
     "execution_count": 39,
     "metadata": {},
     "output_type": "execute_result"
    }
   ],
   "source": [
    "W_df = mo.get_entity(model.W)\n",
    "(pn.ggplot(W_df, pn.aes('T', 'W')) + pn.ggtitle(model.W.doc) +\n",
    " pn.geom_step(pn.aes(color='J'), direction='hv') +\n",
    " pn.facet_grid('I~'))"
   ]
  },
  {
   "cell_type": "code",
   "execution_count": 40,
   "metadata": {},
   "outputs": [
    {
     "data": {
      "image/png": "[encoded data removed]",
      "text/plain": [
       "<Figure size 640x480 with 5 Axes>"
      ]
     },
     "metadata": {},
     "output_type": "display_data"
    },
    {
     "data": {
      "text/plain": [
       "<ggplot: (8778244848689)>"
      ]
     },
     "execution_count": 40,
     "metadata": {},
     "output_type": "execute_result"
    }
   ],
   "source": [
    "B_df = mo.get_entity(model.B)\n",
    "(pn.ggplot(B_df, pn.aes('T', 'B')) + pn.ggtitle(model.B.doc) +\n",
    " pn.geom_step(pn.aes(color='J'), direction='hv') +\n",
    " pn.facet_grid('I~'))"
   ]
  },
  {
   "cell_type": "code",
   "execution_count": 41,
   "metadata": {},
   "outputs": [
    {
     "data": {
      "image/png": "[encoded data removed]",
      "text/plain": [
       "<Figure size 640x480 with 9 Axes>"
      ]
     },
     "metadata": {},
     "output_type": "display_data"
    },
    {
     "data": {
      "text/plain": [
       "<ggplot: (8778244689889)>"
      ]
     },
     "execution_count": 41,
     "metadata": {},
     "output_type": "execute_result"
    }
   ],
   "source": [
    "S_df = mo.get_entity(model.S)\n",
    "(pn.ggplot(S_df, pn.aes('T', 'S')) + pn.ggtitle(model.S.doc) +\n",
    " pn.geom_step(pn.aes(color='States'), direction='hv') +\n",
    " pn.facet_wrap('States'))"
   ]
  },
  {
   "cell_type": "code",
   "execution_count": 42,
   "metadata": {},
   "outputs": [
    {
     "data": {
      "text/plain": [
       "2744.375"
      ]
     },
     "execution_count": 42,
     "metadata": {},
     "output_type": "execute_result"
    }
   ],
   "source": [
    "value(model.obj)"
   ]
  },
  {
   "cell_type": "markdown",
   "metadata": {},
   "source": [
    "This is value of the objective in Kondelili et al. (1993). The amount of products produced at the end of the time horizon are also the same."
   ]
  },
  {
   "cell_type": "code",
   "execution_count": 61,
   "metadata": {},
   "outputs": [
    {
     "name": "stdout",
     "output_type": "stream",
     "text": [
      "136.0 147.375\n"
     ]
    }
   ],
   "source": [
    "print(value(model.S['Product 1', 10]), value(model.S['Product 2', 10]))"
   ]
  },
  {
   "cell_type": "markdown",
   "metadata": {},
   "source": [
    "# Abstract State Task Model"
   ]
  },
  {
   "cell_type": "code",
   "execution_count": 43,
   "metadata": {},
   "outputs": [],
   "source": [
    "import pyomo.network as pn\n",
    "pa_model = ConcreteModel()"
   ]
  },
  {
   "cell_type": "code",
   "execution_count": 44,
   "metadata": {},
   "outputs": [],
   "source": [
    "from mola.specification5 import Specification\n",
    "import pyomo.environ as pe\n",
    "class KondiliExampleSpecification(Specification):\n",
    "    \"\"\"\n",
    "    A Mola Specification class containing an abstract model to solve the simplest example problem\n",
    "    described in Kondili, Pantelides & Sargent (1993).\n",
    "    \"\"\"\n",
    "    name = \"Kondili et al. Specification\"\n",
    "    user_defined_sets = {\n",
    "        'States': {'doc': 'States'},\n",
    "        'I': {'doc': 'Tasks'},\n",
    "        'J': {'doc': 'Units'},\n",
    "    }\n",
    "    user_defined_indexed_sets = {\n",
    "        'SI': {'index': ['I'], 'doc': 'States that feed task i', 'within': ['States']},\n",
    "        'S_barI': {'index': ['I'], 'doc': 'States produced by task i', 'within': ['States']},\n",
    "        'KI': {'index': ['I'], 'doc': 'Units capable of performing task i', 'within': ['J']},\n",
    "        'TS': {'index': ['States'], 'doc': 'Tasks receiving material from state s', 'within': ['I']},\n",
    "    }\n",
    "    user_defined_parameters = {\n",
    "        'H': {'doc': 'Time horizon'},\n",
    "        'C': {'index': ['States'], 'doc': 'Maximum storage capacity dedicated to state s'},\n",
    "        'M': {'doc': 'Allocation constraint parameter'},\n",
    "        'P': {'index': ['States', 'I'], 'doc': 'Processing time for the output of task i to state s'},\n",
    "#        'rho': {'index': ['S_I'], 'doc': 'Proportion of input of task i from state s'},\n",
    "        'rho_bar': {'index': ['States', 'I'], 'doc': 'Proportion of output of task i to state s'},\n",
    "    }\n",
    "    # db parameters need to be constructed explicitly\n",
    "    controllers = {\"Standard\": \"StandardController\"}\n",
    "    default_settings = {\n",
    "    }\n",
    "\n",
    "    def __init__(self):\n",
    "\n",
    "        # setup abstract model\n",
    "        abstract_model = self.abstract_model = pe.AbstractModel()\n",
    "\n",
    "        # user-defined sets\n",
    "        for s, d in self.user_defined_sets.items():\n",
    "            abstract_model.add_component(s, pe.Set(doc=d['doc']))\n",
    "            \n",
    "        # user-defined indexed sets\n",
    "        for s, val in self.user_defined_indexed_sets.items():\n",
    "            idx = [abstract_model.component(i) for i in val['index']]\n",
    "            abstract_model.add_component(s, pe.Set(*idx, doc=val['doc'], \n",
    "                                                   within=abstract_model.component(val['within'][0])))\n",
    "            \n",
    "        # built in model sets\n",
    "        abstract_model.T = Set(doc='Time Periods')\n",
    "        abstract_model.T_S = Set(within=abstract_model.I * abstract_model.States, \n",
    "                                 doc='Tasks receiving material from state s')\n",
    "        abstract_model.T_barS = Set(within=abstract_model.I * abstract_model.States, \n",
    "                                    doc='Tasks receiving material from state s')\n",
    "        abstract_model.IJ = Set(model.J, within=abstract_model.I)\n",
    "        abstract_model.I_J = Set(within=abstract_model.I * abstract_model.J, \n",
    "                                 doc='Tasks that can be performed by unit j')\n",
    "        abstract_model.K_I = Set(within=abstract_model.J * abstract_model.I, \n",
    "                                 doc='Units capable of performing task i')\n",
    "        abstract_model.S_I = Set(within=abstract_model.States * abstract_model.I,\n",
    "                                 doc='States that feed task i')\n",
    "        abstract_model.S_bar_I = Set(within=abstract_model.States * abstract_model.I,\n",
    "                                 doc='States produced by task i')\n",
    "\n",
    "        # user-defined parameters\n",
    "        for param, val in self.user_defined_parameters.items():\n",
    "            print(param)\n",
    "            if 'index' in val:\n",
    "                idx = [abstract_model.component(i) for i in val['index']]\n",
    "                abstract_model.add_component(param, pe.Param(*idx, doc=val['doc'], within=pe.Reals))\n",
    "            else:\n",
    "                abstract_model.add_component(param, pe.Param(doc=val['doc'], within=pe.Reals))\n",
    "                \n",
    "        def p_rule(model, i):\n",
    "            return max(model.P[s, i] for s in model.S_barI[i])\n",
    "        abstract_model.p = Param(abstract_model.I, initialize=p_rule, doc='Completion time for task i')\n",
    "\n",
    "        \n",
    "        # variables\n",
    "        abstract_model.W = Var(abstract_model.I_J, abstract_model.T, \n",
    "                               doc='Start task k using unit j at time t', within=Binary)\n",
    "\n",
    "        abstract_model.B = Var(abstract_model.I_J, abstract_model.T, \n",
    "                               doc='Amount of material which starts undergoing task i in unit j at beginning of t',\n",
    "                               within=NonNegativeReals)\n",
    "\n",
    "        abstract_model.S = Var(abstract_model.States, abstract_model.T, \n",
    "                               doc='Amount of material stored in state s at beginning of t', \n",
    "                               within=NonNegativeReals)\n",
    "\n",
    "        abstract_model.Q = Var(abstract_model.J, abstract_model.T, \n",
    "                               doc='Amount of material in unit j at the beginning of time t', \n",
    "                               within=NonNegativeReals)\n",
    "\n",
    "        # objective\n",
    "        def cost_rule(model, s, t):\n",
    "            if s in ['Feed A', 'Feed B', 'Feed C']:\n",
    "                cost = 0.0\n",
    "            elif s in ['Hot A', 'Int BC', 'Int AB', 'Impure E']:\n",
    "                cost = -1.0\n",
    "            elif s in ['Product 1', 'Product 2']:\n",
    "                cost = 10.0\n",
    "            return cost\n",
    "        abstract_model.Cost = Param(abstract_model.States, abstract_model.T, initialize=cost_rule,\n",
    "                                    doc='Unit price of material in state s at time t')\n",
    "\n",
    "        abstract_model.D = Param(abstract_model.States, abstract_model.T, default=0,\n",
    "                                 doc='Delivery of material in state s at time t')\n",
    "        abstract_model.R = Param(abstract_model.States, abstract_model.T, default=0,\n",
    "                                  doc='Receipt of material in state s at time t')\n",
    "        def profit_rule(model):\n",
    "            value_products = sum(model.Cost[s, model.H] * model.S[s, model.H] +\n",
    "                             sum(model.Cost[s, t] * model.D[s, t] for t in model.T if t < model.H) \n",
    "                             for s in model.States)\n",
    "            return value_products\n",
    "        abstract_model.obj = Objective(rule=profit_rule, doc='Maximisation of Profit', sense=maximize)\n",
    "\n",
    "\n",
    "        # constraints\n",
    "        \n",
    "        def allocation_constraints_rule(model, i, j, t):\n",
    "            lhs = sum(model.W[idash, j, tdash] for tdash in model.T for idash in model.IJ[j] \n",
    "                      if tdash >= t and tdash <= t + model.p[i] - 1) - 1\n",
    "            rhs = model.M * (1 - model.W[i, j, t])\n",
    "            return lhs <= rhs\n",
    "        abstract_model.allocation_constraints = Constraint(abstract_model.I_J, abstract_model.T, \n",
    "                                                           rule=allocation_constraints_rule)\n",
    "\n",
    "        def capacity_limitations_rule1a(model, j, i, t):\n",
    "            return model.W[i, j, t] * model.V_min[i, j] <= model.B[i, j, t]\n",
    "        abstract_model.capacity_limitations1a = Constraint(abstract_model.K_I, abstract_model.T, \n",
    "                                                           rule=capacity_limitations_rule1a)\n",
    "        def capacity_limitations_rule1b(model, j, i, t):\n",
    "            return model.B[i, j, t] <= model.W[i, j, t] * model.V_max[i, j]\n",
    "        abstract_model.capacity_limitations1b = Constraint(abstract_model.K_I, abstract_model.T, \n",
    "                                                           rule=capacity_limitations_rule1b)\n",
    "\n",
    "        def capacity_limitations_rule2(model, s, t):\n",
    "            return inequality(0, model.S[s, t], model.C[s]) \n",
    "        abstract_model.capacity_limitations2 = Constraint(abstract_model.States, abstract_model.T, \n",
    "                                                          rule=capacity_limitations_rule2)\n",
    "\n",
    "        def unit_balances_rule(model, j, t):\n",
    "            if t == model.T.first():\n",
    "                rhs = 0\n",
    "            else:\n",
    "                rhs = model.Q[j, t - 1]\n",
    "            rhs += sum(model.B[i, j, t] for i in model.IJ[j])\n",
    "            for i in model.IJ[j]:\n",
    "                for s in model.S_barI[i]:\n",
    "                    if t >= model.P[s, i]:\n",
    "                        rhs -= model.rho_bar[s, i] * model.B[i, j, t-model.P[s, i]] \n",
    "            return model.Q[j, t] == rhs\n",
    "        abstract_model.unit_balances = Constraint(abstract_model.J, abstract_model.T, rule=unit_balances_rule)\n",
    "\n",
    "        def terminal_unit_rule(model, j):\n",
    "            return model.Q[j, model.H] == 0\n",
    "        abstract_model.terminal_unit = Constraint(abstract_model.J, rule=terminal_unit_rule)\n",
    "\n",
    "        def material_balances_rule(model, s, t):\n",
    "            if t == model.T.first():\n",
    "                rhs = init_S[s]\n",
    "            else:\n",
    "                rhs = model.S[s, t-1]\n",
    "            if s in model.T_barS.keys():\n",
    "                for i in model.T_barS[s]:\n",
    "                    rhs += model.rho_bar[s, i] * sum(model.B[i, j, t-model.P[s, i]] \n",
    "                           for j in model.KI[i] if t >= model.P[s, i])\n",
    "            if s in model.TS.keys():\n",
    "                for i in model.TS[s]:\n",
    "                    rhs -= model.rho[s, i] * sum(model.B[i, j, t] for j in model.KI[i])    \n",
    "            return model.S[s, t] == rhs + model.R[s, t] - model.D[s, t]\n",
    "        abstract_model.material_balances = Constraint(abstract_model.States, model.T, rule=material_balances_rule)\n",
    "\n",
    "\n",
    "    def populate(self, json_files=None):\n",
    "\n",
    "        olca_dp = pyod.DataPortal()\n",
    "\n",
    "        # user data\n",
    "        for json_file in json_files:\n",
    "            if json_file:\n",
    "                olca_dp.load(filename=json_file)\n",
    "                \n",
    "        # built-in sets\n",
    "        map_I_J = {}\n",
    "        for i, units in olca_dp.data('KI').items():\n",
    "            for j in units:\n",
    "                map_I_J.setdefault(j, []).append(i)\n",
    "        olca_dp.__setitem__('IJ', map_I_J)\n",
    "        olca_dp.__setitem__('I_J', [(i, j) for j in olca_dp.data('J') for i in map_I_J[j]])\n",
    "        \n",
    "        # built-in parameters\n",
    "        olca_dp.__setitem__('T', range(0, int(olca_dp.data('H'))+1))\n",
    "        \n",
    "        # use DataPortal to build concrete instance\n",
    "        model_instance = self.abstract_model.create_instance(olca_dp)\n",
    "\n",
    "        return model_instance\n",
    "\n",
    "    def get_default_sets(self, d=None):\n",
    "        user_sets = {\n",
    "            'States': [],\n",
    "            'I': [],\n",
    "            'J': [],\n",
    "        }\n",
    "        if d is not None:\n",
    "            user_sets.update(d)\n",
    "\n",
    "        return user_sets\n",
    "\n",
    "    def get_default_indexed_sets(self, user_sets, d=None):\n",
    "        user_indexed_sets = {\n",
    "            'SI': [{'index': [i], 'members': []} for i in user_sets['I']],\n",
    "            'S_barI': [{'index': [i], 'members': []} for i in user_sets['I']],\n",
    "            'KI': [{'index': [i], 'members': []} for i in user_sets['I']],\n",
    "            'TS': [{'index': [s], 'members': []} for s in user_sets['States']],\n",
    "        }\n",
    "        if d is not None:\n",
    "            user_indexed_sets.update(d)\n",
    "\n",
    "        return user_indexed_sets\n",
    "    \n",
    "    def get_default_parameters(self, user_sets):\n",
    "#         map_I_J = {}\n",
    "#         for i, units in indexed_user_sets['KI'].items():\n",
    "#             for j in units:\n",
    "#                 map_I_J.setdefault(j, []).append(i)\n",
    "        user_params = {\n",
    "            'C': [{'index': [s], 'value': 0} for s in user_sets['States']],\n",
    "            'H': 10.0,\n",
    "            'M': 40.0,\n",
    "            'P': [{'index': [sb, i], 'value': 0} for i in user_sets['I'] for sb in user_sets['S_barI'][i]],\n",
    "            'rho_bar': [{'index': [sb, i], 'value': 0} for i in user_sets['I'] for sb in user_sets['S_barI'][i]],\n",
    "        }\n",
    "\n",
    "        return user_params\n"
   ]
  },
  {
   "cell_type": "code",
   "execution_count": 45,
   "metadata": {},
   "outputs": [
    {
     "name": "stdout",
     "output_type": "stream",
     "text": [
      "H\n",
      "C\n",
      "M\n",
      "P\n",
      "rho_bar\n"
     ]
    }
   ],
   "source": [
    "spec = KondiliExampleSpecification()"
   ]
  },
  {
   "cell_type": "code",
   "execution_count": 46,
   "metadata": {},
   "outputs": [
    {
     "data": {
      "text/plain": [
       "{'I': ['Heating', 'Reaction 1', 'Reaction 2', 'Reaction 3', 'Separation'],\n",
       " 'J': ['Heater', 'Reactor 1', 'Reactor 2', 'Still'],\n",
       " 'States': ['Feed A',\n",
       "  'Feed B',\n",
       "  'Feed C',\n",
       "  'Hot A',\n",
       "  'Int BC',\n",
       "  'Int AB',\n",
       "  'Impure E',\n",
       "  'Product 1',\n",
       "  'Product 2']}"
      ]
     },
     "execution_count": 46,
     "metadata": {},
     "output_type": "execute_result"
    }
   ],
   "source": [
    "import json\n",
    "sets = {'I': list(model.I), 'J': list(model.J), 'States':list(model.States)}\n",
    "sets_json_file = 'Configuration/Kondili_sets.json'\n",
    "with open(sets_json_file, 'w') as fp:\n",
    "    json.dump(sets, fp, indent=4)\n",
    "sets"
   ]
  },
  {
   "cell_type": "code",
   "execution_count": 47,
   "metadata": {},
   "outputs": [
    {
     "data": {
      "text/plain": [
       "{'I': ['Heating', 'Reaction 1', 'Reaction 2', 'Reaction 3', 'Separation'],\n",
       " 'J': ['Heater', 'Reactor 1', 'Reactor 2', 'Still'],\n",
       " 'States': ['Feed A',\n",
       "  'Feed B',\n",
       "  'Feed C',\n",
       "  'Hot A',\n",
       "  'Int BC',\n",
       "  'Int AB',\n",
       "  'Impure E',\n",
       "  'Product 1',\n",
       "  'Product 2'],\n",
       " 'KI': {'Heating': ['Heater'],\n",
       "  'Reaction 1': ['Reactor 1', 'Reactor 2'],\n",
       "  'Reaction 2': ['Reactor 1', 'Reactor 2'],\n",
       "  'Reaction 3': ['Reactor 1', 'Reactor 2'],\n",
       "  'Separation': ['Still']},\n",
       " 'S_barI': {'Heating': ['Hot A'],\n",
       "  'Reaction 1': ['Int BC'],\n",
       "  'Reaction 2': ['Product 1', 'Int AB'],\n",
       "  'Reaction 3': ['Impure E'],\n",
       "  'Separation': ['Product 2', 'Int AB']}}"
      ]
     },
     "execution_count": 47,
     "metadata": {},
     "output_type": "execute_result"
    }
   ],
   "source": [
    "indexed_sets = {'KI': map_K_I, 'S_barI': map_S_bar_I}\n",
    "indexed_sets_json_file = 'Configuration/Kondili_indexed_sets.json'\n",
    "with open(indexed_sets_json_file, 'w') as fp:\n",
    "    json.dump(indexed_sets, fp, indent=4)\n",
    "sets.update(indexed_sets)\n",
    "sets"
   ]
  },
  {
   "cell_type": "code",
   "execution_count": 48,
   "metadata": {},
   "outputs": [
    {
     "name": "stdout",
     "output_type": "stream",
     "text": [
      "rho_bar : Proportion of output of task i to state s\n",
      "    Size=7, Index=S_bar_I, Domain=Any, Default=None, Mutable=False\n",
      "    Key                         : Value\n",
      "           ('Hot A', 'Heating') :     1\n",
      "     ('Impure E', 'Reaction 3') :     1\n",
      "       ('Int AB', 'Reaction 2') :   0.6\n",
      "       ('Int AB', 'Separation') :   0.1\n",
      "       ('Int BC', 'Reaction 1') :     1\n",
      "    ('Product 1', 'Reaction 2') :   0.4\n",
      "    ('Product 2', 'Separation') :   0.9\n"
     ]
    }
   ],
   "source": [
    "model.P['Hot A', 'Heating']\n",
    "model.rho_bar.pprint()"
   ]
  },
  {
   "cell_type": "code",
   "execution_count": 49,
   "metadata": {},
   "outputs": [
    {
     "data": {
      "text/plain": [
       "{'C': [{'index': ['Feed A'], 'value': 0},\n",
       "  {'index': ['Feed B'], 'value': 0},\n",
       "  {'index': ['Feed C'], 'value': 0},\n",
       "  {'index': ['Hot A'], 'value': 0},\n",
       "  {'index': ['Int BC'], 'value': 0},\n",
       "  {'index': ['Int AB'], 'value': 0},\n",
       "  {'index': ['Impure E'], 'value': 0},\n",
       "  {'index': ['Product 1'], 'value': 0},\n",
       "  {'index': ['Product 2'], 'value': 0}],\n",
       " 'H': 10.0,\n",
       " 'M': 40.0,\n",
       " 'P': [{'index': ['Hot A', 'Heating'], 'value': 1},\n",
       "  {'index': ['Int BC', 'Reaction 1'], 'value': 2},\n",
       "  {'index': ['Product 1', 'Reaction 2'], 'value': 2},\n",
       "  {'index': ['Int AB', 'Reaction 2'], 'value': 2},\n",
       "  {'index': ['Impure E', 'Reaction 3'], 'value': 1},\n",
       "  {'index': ['Product 2', 'Separation'], 'value': 1},\n",
       "  {'index': ['Int AB', 'Separation'], 'value': 2}],\n",
       " 'rho_bar': [{'index': ['Hot A', 'Heating'], 'value': 0},\n",
       "  {'index': ['Int BC', 'Reaction 1'], 'value': 0},\n",
       "  {'index': ['Product 1', 'Reaction 2'], 'value': 0},\n",
       "  {'index': ['Int AB', 'Reaction 2'], 'value': 0},\n",
       "  {'index': ['Impure E', 'Reaction 3'], 'value': 0},\n",
       "  {'index': ['Product 2', 'Separation'], 'value': 0},\n",
       "  {'index': ['Int AB', 'Separation'], 'value': 0}]}"
      ]
     },
     "execution_count": 49,
     "metadata": {},
     "output_type": "execute_result"
    }
   ],
   "source": [
    "p = spec.get_default_parameters(sets)\n",
    "for item in p['P']:\n",
    "    item['value'] = model.P[item['index'][0], item['index'][1]]\n",
    "p"
   ]
  },
  {
   "cell_type": "code",
   "execution_count": 50,
   "metadata": {},
   "outputs": [
    {
     "name": "stdout",
     "output_type": "stream",
     "text": [
      "Maximum storage capacity dedicated to state s\n",
      "Time horizon\n",
      "Allocation constraint parameter\n",
      "Processing time for the output of task i to state s\n",
      "Proportion of output of task i to state s\n"
     ]
    }
   ],
   "source": [
    "import mola.build as mb\n",
    "import mola.utils as mu\n",
    "from importlib import reload\n",
    "reload(mb)\n",
    "parameters = mb.build_parameters(sets, p, spec, index_value=True)"
   ]
  },
  {
   "cell_type": "code",
   "execution_count": 51,
   "metadata": {},
   "outputs": [],
   "source": [
    "parameters_json_file = 'Configuration/Kondili_parameters.json'\n",
    "with open(parameters_json_file, 'w') as fp: json.dump(parameters, fp, indent=4)"
   ]
  },
  {
   "cell_type": "code",
   "execution_count": 52,
   "metadata": {},
   "outputs": [],
   "source": [
    "import pyomo.dataportal as pyod\n",
    "model2 = spec.populate([sets_json_file, indexed_sets_json_file, parameters_json_file])"
   ]
  },
  {
   "cell_type": "code",
   "execution_count": 53,
   "metadata": {},
   "outputs": [
    {
     "name": "stdout",
     "output_type": "stream",
     "text": [
      "TS : Tasks receiving material from state s\n",
      "    Size=0, Index=States, Ordered=Insertion\n",
      "    Key : Dimen : Domain : Size : Members\n"
     ]
    }
   ],
   "source": [
    "model2.TS.pprint()"
   ]
  },
  {
   "cell_type": "markdown",
   "metadata": {},
   "source": [
    "# Ports and Arcs\n",
    "\n",
    "We try and solve the same problem using `pyomo` Ports and Arcs to represent the tasks, states, and their relationships. Can we get pyomo to generate the evolution of state equations as equality constraints?"
   ]
  },
  {
   "cell_type": "code",
   "execution_count": 54,
   "metadata": {},
   "outputs": [],
   "source": [
    "test_model = AbstractModel()\n",
    "dp = DataPortal()\n",
    "test_model.I = Set()\n",
    "test_model.J = Set()\n",
    "test_model.KI = Set(test_model.I, within=test_model.component(\"J\"))\n",
    "dp.load(filename=sets_json_file)\n",
    "dp.load(filename=indexed_sets_json_file)"
   ]
  },
  {
   "cell_type": "code",
   "execution_count": 55,
   "metadata": {},
   "outputs": [
    {
     "name": "stdout",
     "output_type": "stream",
     "text": [
      "KI : Size=5, Index=I, Ordered=Insertion\n",
      "    Key        : Dimen : Domain : Size : Members\n",
      "       Heating :     1 :      J :    1 : {'Heater',}\n",
      "    Reaction 1 :     1 :      J :    2 : {'Reactor 1', 'Reactor 2'}\n",
      "    Reaction 2 :     1 :      J :    2 : {'Reactor 1', 'Reactor 2'}\n",
      "    Reaction 3 :     1 :      J :    2 : {'Reactor 1', 'Reactor 2'}\n",
      "    Separation :     1 :      J :    1 : {'Still',}\n"
     ]
    }
   ],
   "source": [
    "test_model_instance = test_model.create_instance(dp)\n",
    "test_model_instance.KI.pprint()"
   ]
  },
  {
   "cell_type": "code",
   "execution_count": 56,
   "metadata": {},
   "outputs": [
    {
     "data": {
      "text/plain": [
       "['Hot A', 'Int BC', 'Int AB', 'Impure E', 'Product 1', 'Product 2']"
      ]
     },
     "execution_count": 56,
     "metadata": {},
     "output_type": "execute_result"
    }
   ],
   "source": [
    "list(iter(model.T_barS.keys()))"
   ]
  }
 ],
 "metadata": {
  "kernelspec": {
   "display_name": "Python 3",
   "language": "python",
   "name": "python3"
  },
  "language_info": {
   "codemirror_mode": {
    "name": "ipython",
    "version": 3
   },
   "file_extension": ".py",
   "mimetype": "text/x-python",
   "name": "python",
   "nbconvert_exporter": "python",
   "pygments_lexer": "ipython3",
   "version": "3.7.9"
  },
  "toc": {
   "base_numbering": 1,
   "nav_menu": {},
   "number_sections": true,
   "sideBar": true,
   "skip_h1_title": false,
   "title_cell": "Table of Contents",
   "title_sidebar": "Contents",
   "toc_cell": false,
   "toc_position": {
    "height": "calc(100% - 180px)",
    "left": "10px",
    "top": "150px",
    "width": "256px"
   },
   "toc_section_display": true,
   "toc_window_display": true
  }
 },
 "nbformat": 4,
 "nbformat_minor": 4
}
