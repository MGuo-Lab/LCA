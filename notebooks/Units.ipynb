{
 "cells": [
  {
   "cell_type": "markdown",
   "metadata": {},
   "source": [
    "# Mola implementation"
   ]
  },
  {
   "cell_type": "code",
   "execution_count": 1,
   "metadata": {},
   "outputs": [],
   "source": [
    "import mola.build as mb\n",
    "from pyomo.environ import *\n",
    "from pyomo.environ import units as pu\n",
    "config = mb.get_config('../config/Lemon_Toy_Model.json')\n",
    "model = mb.build_instance(config)\n",
    "opt = SolverFactory(\"glpk\")\n",
    "model.obj.deactivate()\n",
    "model.obj2.deactivate()\n",
    "model.obj1.activate()\n",
    "results = opt.solve(model)"
   ]
  },
  {
   "cell_type": "code",
   "execution_count": 2,
   "metadata": {},
   "outputs": [
    {
     "name": "stdout",
     "output_type": "stream",
     "text": [
      "km"
     ]
    }
   ],
   "source": [
    "d_units = pu.get_units(model.d['64867712-23c4-3be5-a50e-3631e74571a6', '9891d347-28f8-434d-896a-84a19a4c68a6', 'k1', 't1'])\n",
    "d_units.pprint()"
   ]
  },
  {
   "cell_type": "code",
   "execution_count": 3,
   "metadata": {},
   "outputs": [
    {
     "name": "stdout",
     "output_type": "stream",
     "text": [
      "Specific_Transport_Flow : Specific Transport Flow\n",
      "    Size=9, Index=Specific_Transport_Flow_index\n",
      "    Key                                                                                          : Lower : Value            : Upper : Fixed : Stale : Domain\n",
      "    ('090f56b8-6a83-48c1-ae26-234d04771e53', '13e79207-71e6-36c9-be76-716700ea1e81', 'k1', 't1') :     0 :              0.0 :  None : False : False : NonNegativeReals\n",
      "    ('090f56b8-6a83-48c1-ae26-234d04771e53', '3886c7a5-bb83-41d8-9b20-41c0df9742ce', 'k1', 't1') :     0 :              0.0 :  None : False : False : NonNegativeReals\n",
      "    ('090f56b8-6a83-48c1-ae26-234d04771e53', 'b0d5d6ec-77f4-3213-b613-2391089d5f96', 'k1', 't1') :     0 :              0.0 :  None : False : False : NonNegativeReals\n",
      "    ('0ace02fa-eca5-482d-a829-c18e46a52db4', '13e79207-71e6-36c9-be76-716700ea1e81', 'k1', 't1') :     0 :              0.0 :  None : False : False : NonNegativeReals\n",
      "    ('0ace02fa-eca5-482d-a829-c18e46a52db4', '3886c7a5-bb83-41d8-9b20-41c0df9742ce', 'k1', 't1') :     0 :              0.0 :  None : False : False : NonNegativeReals\n",
      "    ('0ace02fa-eca5-482d-a829-c18e46a52db4', 'b0d5d6ec-77f4-3213-b613-2391089d5f96', 'k1', 't1') :     0 :              0.0 :  None : False : False : NonNegativeReals\n",
      "    ('2741cea8-327f-4e0f-9401-b10858dc68f8', '13e79207-71e6-36c9-be76-716700ea1e81', 'k1', 't1') :     0 :              0.0 :  None : False : False : NonNegativeReals\n",
      "    ('2741cea8-327f-4e0f-9401-b10858dc68f8', '3886c7a5-bb83-41d8-9b20-41c0df9742ce', 'k1', 't1') :     0 : 1283.83415511887 :  None : False : False : NonNegativeReals\n",
      "    ('2741cea8-327f-4e0f-9401-b10858dc68f8', 'b0d5d6ec-77f4-3213-b613-2391089d5f96', 'k1', 't1') :     0 :              0.0 :  None : False : False : NonNegativeReals\n"
     ]
    }
   ],
   "source": [
    "t = model.Specific_Transport_Flow\n",
    "t.pprint()"
   ]
  },
  {
   "cell_type": "markdown",
   "metadata": {},
   "source": [
    "Units of transport flow depend on the transport process."
   ]
  },
  {
   "cell_type": "code",
   "execution_count": 4,
   "metadata": {},
   "outputs": [
    {
     "name": "stdout",
     "output_type": "stream",
     "text": [
      "P_t"
     ]
    }
   ],
   "source": [
    "pu.get_units(t).pprint()"
   ]
  },
  {
   "cell_type": "code",
   "execution_count": 5,
   "metadata": {},
   "outputs": [
    {
     "name": "stdout",
     "output_type": "stream",
     "text": [
      "{Member of Specific_Transport_Flow} : Specific Transport Flow\n",
      "    Size=9, Index=Specific_Transport_Flow_index\n",
      "    Key                                                                                          : Lower : Value : Upper : Fixed : Stale : Domain\n",
      "    ('090f56b8-6a83-48c1-ae26-234d04771e53', '13e79207-71e6-36c9-be76-716700ea1e81', 'k1', 't1') :     0 :   0.0 :  None : False : False : NonNegativeReals\n"
     ]
    }
   ],
   "source": [
    "t0 = t['090f56b8-6a83-48c1-ae26-234d04771e53', '13e79207-71e6-36c9-be76-716700ea1e81', 'k1', 't1']\n",
    "t0.pprint()"
   ]
  },
  {
   "cell_type": "code",
   "execution_count": 6,
   "metadata": {},
   "outputs": [],
   "source": [
    "import mola.dataview as dv\n",
    "import mola.dataimport as di\n",
    "conn = di.get_sqlite_connection()\n",
    "lookup = dv.LookupTables(conn)"
   ]
  },
  {
   "cell_type": "markdown",
   "metadata": {},
   "source": [
    "This uses the product flow of the process even if the flow in the table does not correspond to that product flow."
   ]
  },
  {
   "cell_type": "code",
   "execution_count": 7,
   "metadata": {},
   "outputs": [
    {
     "name": "stdout",
     "output_type": "stream",
     "text": [
      "SELECT \"TBL_PROCESSES\".\"REF_ID\" \"P_t\",\"TBL_UNITS\".\"NAME\" \"Units\" FROM (SELECT \"F_OWNER\",\"F_FLOW\",\"F_UNIT\",\"RESULTING_AMOUNT_VALUE\" FROM \"TBL_EXCHANGES\" WHERE \"F_OWNER\" IN (SELECT \"ID\" FROM \"TBL_PROCESSES\" WHERE \"REF_ID\" IN ('13e79207-71e6-36c9-be76-716700ea1e81','b0d5d6ec-77f4-3213-b613-2391089d5f96','3886c7a5-bb83-41d8-9b20-41c0df9742ce','13e79207-71e6-36c9-be76-716700ea1e81','b0d5d6ec-77f4-3213-b613-2391089d5f96','3886c7a5-bb83-41d8-9b20-41c0df9742ce','13e79207-71e6-36c9-be76-716700ea1e81','b0d5d6ec-77f4-3213-b613-2391089d5f96','3886c7a5-bb83-41d8-9b20-41c0df9742ce'))) \"sq0\" LEFT JOIN \"TBL_FLOWS\" ON \"TBL_FLOWS\".\"ID\"=\"sq0\".\"F_FLOW\" LEFT JOIN \"TBL_PROCESSES\" ON \"TBL_PROCESSES\".\"ID\"=\"sq0\".\"F_OWNER\" LEFT JOIN \"TBL_UNITS\" ON \"TBL_UNITS\".\"ID\"=\"sq0\".\"F_UNIT\" WHERE \"TBL_FLOWS\".\"FlOW_TYPE\"='PRODUCT_FLOW'\n"
     ]
    },
    {
     "data": {
      "text/html": [
       "<div>\n",
       "<style scoped>\n",
       "    .dataframe tbody tr th:only-of-type {\n",
       "        vertical-align: middle;\n",
       "    }\n",
       "\n",
       "    .dataframe tbody tr th {\n",
       "        vertical-align: top;\n",
       "    }\n",
       "\n",
       "    .dataframe thead th {\n",
       "        text-align: right;\n",
       "    }\n",
       "</style>\n",
       "<table border=\"1\" class=\"dataframe\">\n",
       "  <thead>\n",
       "    <tr style=\"text-align: right;\">\n",
       "      <th></th>\n",
       "      <th>Specific_Transport_Flow</th>\n",
       "      <th>Units</th>\n",
       "      <th>F_t</th>\n",
       "      <th>P_t</th>\n",
       "    </tr>\n",
       "  </thead>\n",
       "  <tbody>\n",
       "    <tr>\n",
       "      <th>0</th>\n",
       "      <td>0.000000</td>\n",
       "      <td>t*km</td>\n",
       "      <td>transport, freight, light commercial vehicle</td>\n",
       "      <td>transport, freight, light commercial vehicle |...</td>\n",
       "    </tr>\n",
       "    <tr>\n",
       "      <th>1</th>\n",
       "      <td>0.000000</td>\n",
       "      <td>t*km</td>\n",
       "      <td>transport, freight, light commercial vehicle</td>\n",
       "      <td>transport, freight train, diesel | transport, ...</td>\n",
       "    </tr>\n",
       "    <tr>\n",
       "      <th>2</th>\n",
       "      <td>0.000000</td>\n",
       "      <td>t*km</td>\n",
       "      <td>transport, freight, light commercial vehicle</td>\n",
       "      <td>transport, freight, sea, container ship | tran...</td>\n",
       "    </tr>\n",
       "    <tr>\n",
       "      <th>3</th>\n",
       "      <td>0.000000</td>\n",
       "      <td>t*km</td>\n",
       "      <td>transport, freight train</td>\n",
       "      <td>transport, freight, light commercial vehicle |...</td>\n",
       "    </tr>\n",
       "    <tr>\n",
       "      <th>4</th>\n",
       "      <td>0.000000</td>\n",
       "      <td>t*km</td>\n",
       "      <td>transport, freight train</td>\n",
       "      <td>transport, freight train, diesel | transport, ...</td>\n",
       "    </tr>\n",
       "    <tr>\n",
       "      <th>5</th>\n",
       "      <td>0.000000</td>\n",
       "      <td>t*km</td>\n",
       "      <td>transport, freight train</td>\n",
       "      <td>transport, freight, sea, container ship | tran...</td>\n",
       "    </tr>\n",
       "    <tr>\n",
       "      <th>6</th>\n",
       "      <td>0.000000</td>\n",
       "      <td>t*km</td>\n",
       "      <td>transport, freight, sea, container ship</td>\n",
       "      <td>transport, freight, light commercial vehicle |...</td>\n",
       "    </tr>\n",
       "    <tr>\n",
       "      <th>7</th>\n",
       "      <td>0.000000</td>\n",
       "      <td>t*km</td>\n",
       "      <td>transport, freight, sea, container ship</td>\n",
       "      <td>transport, freight train, diesel | transport, ...</td>\n",
       "    </tr>\n",
       "    <tr>\n",
       "      <th>8</th>\n",
       "      <td>1283.834155</td>\n",
       "      <td>t*km</td>\n",
       "      <td>transport, freight, sea, container ship</td>\n",
       "      <td>transport, freight, sea, container ship | tran...</td>\n",
       "    </tr>\n",
       "  </tbody>\n",
       "</table>\n",
       "</div>"
      ],
      "text/plain": [
       "   Specific_Transport_Flow Units  \\\n",
       "0                 0.000000  t*km   \n",
       "1                 0.000000  t*km   \n",
       "2                 0.000000  t*km   \n",
       "3                 0.000000  t*km   \n",
       "4                 0.000000  t*km   \n",
       "5                 0.000000  t*km   \n",
       "6                 0.000000  t*km   \n",
       "7                 0.000000  t*km   \n",
       "8              1283.834155  t*km   \n",
       "\n",
       "                                            F_t  \\\n",
       "0  transport, freight, light commercial vehicle   \n",
       "1  transport, freight, light commercial vehicle   \n",
       "2  transport, freight, light commercial vehicle   \n",
       "3                      transport, freight train   \n",
       "4                      transport, freight train   \n",
       "5                      transport, freight train   \n",
       "6       transport, freight, sea, container ship   \n",
       "7       transport, freight, sea, container ship   \n",
       "8       transport, freight, sea, container ship   \n",
       "\n",
       "                                                 P_t  \n",
       "0  transport, freight, light commercial vehicle |...  \n",
       "1  transport, freight train, diesel | transport, ...  \n",
       "2  transport, freight, sea, container ship | tran...  \n",
       "3  transport, freight, light commercial vehicle |...  \n",
       "4  transport, freight train, diesel | transport, ...  \n",
       "5  transport, freight, sea, container ship | tran...  \n",
       "6  transport, freight, light commercial vehicle |...  \n",
       "7  transport, freight train, diesel | transport, ...  \n",
       "8  transport, freight, sea, container ship | tran...  "
      ]
     },
     "execution_count": 7,
     "metadata": {},
     "output_type": "execute_result"
    }
   ],
   "source": [
    "import mola.output as mo\n",
    "mo.get_entity(t, lookup, units=True)"
   ]
  },
  {
   "cell_type": "markdown",
   "metadata": {},
   "source": [
    "Current explicit unit conversion factor from kg km to t km."
   ]
  },
  {
   "cell_type": "code",
   "execution_count": 8,
   "metadata": {},
   "outputs": [
    {
     "name": "stdout",
     "output_type": "stream",
     "text": [
      "U : Conversion factor for material flow units in transport flow units\n",
      "    Size=3, Index=U_index, Domain=Reals, Default=None, Mutable=True\n",
      "    Key                                                                              : Value\n",
      "    ('9891d347-28f8-434d-896a-84a19a4c68a6', '090f56b8-6a83-48c1-ae26-234d04771e53') : 0.001\n",
      "    ('9891d347-28f8-434d-896a-84a19a4c68a6', '0ace02fa-eca5-482d-a829-c18e46a52db4') : 0.001\n",
      "    ('9891d347-28f8-434d-896a-84a19a4c68a6', '2741cea8-327f-4e0f-9401-b10858dc68f8') : 0.001\n"
     ]
    }
   ],
   "source": [
    "model.U.pprint()"
   ]
  },
  {
   "cell_type": "markdown",
   "metadata": {},
   "source": [
    "Can we get the conversion factor implicitly using pyomo unit conversion?"
   ]
  },
  {
   "cell_type": "code",
   "execution_count": 9,
   "metadata": {},
   "outputs": [
    {
     "name": "stdout",
     "output_type": "stream",
     "text": [
      "SELECT \"TBL_PROCESSES\".\"REF_ID\" \"P\",\"TBL_UNITS\".\"NAME\" \"Units\" FROM (SELECT \"F_OWNER\",\"F_FLOW\",\"F_UNIT\",\"RESULTING_AMOUNT_VALUE\" FROM \"TBL_EXCHANGES\" WHERE \"F_OWNER\" IN (SELECT \"ID\" FROM \"TBL_PROCESSES\" WHERE \"REF_ID\" IN ('13e79207-71e6-36c9-be76-716700ea1e81','b0d5d6ec-77f4-3213-b613-2391089d5f96','3886c7a5-bb83-41d8-9b20-41c0df9742ce'))) \"sq0\" LEFT JOIN \"TBL_FLOWS\" ON \"TBL_FLOWS\".\"ID\"=\"sq0\".\"F_FLOW\" LEFT JOIN \"TBL_PROCESSES\" ON \"TBL_PROCESSES\".\"ID\"=\"sq0\".\"F_OWNER\" LEFT JOIN \"TBL_UNITS\" ON \"TBL_UNITS\".\"ID\"=\"sq0\".\"F_UNIT\" WHERE \"TBL_FLOWS\".\"FlOW_TYPE\"='PRODUCT_FLOW'\n"
     ]
    },
    {
     "data": {
      "text/html": [
       "<div>\n",
       "<style scoped>\n",
       "    .dataframe tbody tr th:only-of-type {\n",
       "        vertical-align: middle;\n",
       "    }\n",
       "\n",
       "    .dataframe tbody tr th {\n",
       "        vertical-align: top;\n",
       "    }\n",
       "\n",
       "    .dataframe thead th {\n",
       "        text-align: right;\n",
       "    }\n",
       "</style>\n",
       "<table border=\"1\" class=\"dataframe\">\n",
       "  <thead>\n",
       "    <tr style=\"text-align: right;\">\n",
       "      <th></th>\n",
       "      <th>Units</th>\n",
       "    </tr>\n",
       "    <tr>\n",
       "      <th>P</th>\n",
       "      <th></th>\n",
       "    </tr>\n",
       "  </thead>\n",
       "  <tbody>\n",
       "    <tr>\n",
       "      <th>b0d5d6ec-77f4-3213-b613-2391089d5f96</th>\n",
       "      <td>t*km</td>\n",
       "    </tr>\n",
       "    <tr>\n",
       "      <th>3886c7a5-bb83-41d8-9b20-41c0df9742ce</th>\n",
       "      <td>t*km</td>\n",
       "    </tr>\n",
       "    <tr>\n",
       "      <th>13e79207-71e6-36c9-be76-716700ea1e81</th>\n",
       "      <td>t*km</td>\n",
       "    </tr>\n",
       "  </tbody>\n",
       "</table>\n",
       "</div>"
      ],
      "text/plain": [
       "                                     Units\n",
       "P                                         \n",
       "b0d5d6ec-77f4-3213-b613-2391089d5f96  t*km\n",
       "3886c7a5-bb83-41d8-9b20-41c0df9742ce  t*km\n",
       "13e79207-71e6-36c9-be76-716700ea1e81  t*km"
      ]
     },
     "execution_count": 9,
     "metadata": {},
     "output_type": "execute_result"
    }
   ],
   "source": [
    "P_t = list(model.P_t)\n",
    "dv.get_process_product_flow_units(conn, P_t)"
   ]
  },
  {
   "cell_type": "code",
   "execution_count": 10,
   "metadata": {},
   "outputs": [
    {
     "ename": "AttributeError",
     "evalue": "module 'mola.build' has no attribute 'map_reference_units'",
     "output_type": "error",
     "traceback": [
      "\u001b[0;31m---------------------------------------------------------------------------\u001b[0m",
      "\u001b[0;31mAttributeError\u001b[0m                            Traceback (most recent call last)",
      "\u001b[0;32m<ipython-input-10-d790a8ef6ac6>\u001b[0m in \u001b[0;36m<module>\u001b[0;34m\u001b[0m\n\u001b[0;32m----> 1\u001b[0;31m \u001b[0munit_map\u001b[0m \u001b[0;34m=\u001b[0m \u001b[0mmb\u001b[0m\u001b[0;34m.\u001b[0m\u001b[0mmap_reference_units\u001b[0m\u001b[0;34m(\u001b[0m\u001b[0;34m)\u001b[0m\u001b[0;34m\u001b[0m\u001b[0;34m\u001b[0m\u001b[0m\n\u001b[0m\u001b[1;32m      2\u001b[0m \u001b[0munit_map\u001b[0m\u001b[0;34m\u001b[0m\u001b[0;34m\u001b[0m\u001b[0m\n",
      "\u001b[0;31mAttributeError\u001b[0m: module 'mola.build' has no attribute 'map_reference_units'"
     ]
    }
   ],
   "source": [
    "unit_map = mb.map_reference_units()\n",
    "unit_map"
   ]
  },
  {
   "cell_type": "markdown",
   "metadata": {},
   "source": [
    "If we specifiy the specific transport flow with units kg km then this does not correspond to the units of the transport flow in openLCA. In the transport constraint we need to multiply the transport expression inside the summation by"
   ]
  },
  {
   "cell_type": "code",
   "execution_count": null,
   "metadata": {},
   "outputs": [],
   "source": [
    "pu.convert_value(1, from_units=unit_map['kg']*pu.km, to_units=unit_map['t*km'])"
   ]
  },
  {
   "cell_type": "markdown",
   "metadata": {},
   "source": [
    "# DataPortal and Units"
   ]
  },
  {
   "cell_type": "code",
   "execution_count": null,
   "metadata": {},
   "outputs": [],
   "source": [
    "model = AbstractModel()\n",
    "data = DataPortal()\n",
    "model.A = Set(initialize=['A1','A2','A3'])\n",
    "model.y = Param(model.A)\n",
    "data.load(filename='Y.tab', param=model.y)\n",
    "instance = model.create_instance(data)"
   ]
  },
  {
   "cell_type": "code",
   "execution_count": null,
   "metadata": {},
   "outputs": [],
   "source": [
    "instance.y.pprint()"
   ]
  },
  {
   "cell_type": "code",
   "execution_count": null,
   "metadata": {},
   "outputs": [],
   "source": [
    "instance.p = Param(instance.A, initialize={'A1':'kg', 'A2':'tonne km', 'A3': 'tonne'}, within=Character)\n",
    "instance.p.pprint()"
   ]
  },
  {
   "cell_type": "code",
   "execution_count": null,
   "metadata": {},
   "outputs": [],
   "source": [
    "type(instance.p['A1'])"
   ]
  },
  {
   "cell_type": "code",
   "execution_count": null,
   "metadata": {},
   "outputs": [],
   "source": []
  }
 ],
 "metadata": {
  "kernelspec": {
   "display_name": "Python 3",
   "language": "python",
   "name": "python3"
  },
  "language_info": {
   "codemirror_mode": {
    "name": "ipython",
    "version": 3
   },
   "file_extension": ".py",
   "mimetype": "text/x-python",
   "name": "python",
   "nbconvert_exporter": "python",
   "pygments_lexer": "ipython3",
   "version": "3.7.9"
  },
  "toc": {
   "base_numbering": 1,
   "nav_menu": {},
   "number_sections": true,
   "sideBar": true,
   "skip_h1_title": false,
   "title_cell": "Table of Contents",
   "title_sidebar": "Contents",
   "toc_cell": false,
   "toc_position": {},
   "toc_section_display": true,
   "toc_window_display": false
  }
 },
 "nbformat": 4,
 "nbformat_minor": 4
}
