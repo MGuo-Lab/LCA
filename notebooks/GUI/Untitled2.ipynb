{
 "cells": [
  {
   "cell_type": "code",
   "execution_count": null,
   "metadata": {},
   "outputs": [],
   "source": [
    "from Tkinter import *\n",
    "\n",
    "def printData(firstName, lastName):\n",
    "    print(firstName)\n",
    "    print(lastName)\n",
    "    root.destroy()\n",
    "\n",
    "def get_input():\n",
    "\n",
    "    firstName = entry1.get()\n",
    "    lastName = entry2.get()\n",
    "    printData(firstName, lastName)\n",
    "\n",
    "\n",
    "root = Tk()\n",
    "#Label 1\n",
    "label1 = Label(root,text = 'First Name')\n",
    "label1.pack()\n",
    "label1.config(justify = CENTER)\n",
    "\n",
    "entry1 = Entry(root, width = 30)\n",
    "entry1.pack()\n",
    "\n",
    "label3 = Label(root, text=\"Last Name\")\n",
    "label3.pack()\n",
    "label1.config(justify = CENTER)\n",
    "\n",
    "entry2 = Entry(root, width = 30)\n",
    "entry2.pack()\n",
    "\n",
    "button1 = Button(root, text = 'submit')\n",
    "button1.pack() \n",
    "button1.config(command = get_input)\n",
    "\n",
    "root.mainloop()"
   ]
  }
 ],
 "metadata": {
  "kernelspec": {
   "display_name": "Python 3",
   "language": "python",
   "name": "python3"
  },
  "language_info": {
   "codemirror_mode": {
    "name": "ipython",
    "version": 3
   },
   "file_extension": ".py",
   "mimetype": "text/x-python",
   "name": "python",
   "nbconvert_exporter": "python",
   "pygments_lexer": "ipython3",
   "version": "3.7.3"
  },
  "toc": {
   "base_numbering": 1,
   "nav_menu": {},
   "number_sections": true,
   "sideBar": true,
   "skip_h1_title": false,
   "title_cell": "Table of Contents",
   "title_sidebar": "Contents",
   "toc_cell": false,
   "toc_position": {},
   "toc_section_display": true,
   "toc_window_display": false
  }
 },
 "nbformat": 4,
 "nbformat_minor": 4
}
