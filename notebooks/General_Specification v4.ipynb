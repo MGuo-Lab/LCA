{
 "cells": [
  {
   "cell_type": "markdown",
   "metadata": {},
   "source": [
    "# Translation of specification"
   ]
  },
  {
   "cell_type": "markdown",
   "metadata": {},
   "source": [
    "These are notes on how we translate a specification of an optimisation problem for MOLA into an abstract Pyomo model that one can subsequently make concrete."
   ]
  },
  {
   "cell_type": "markdown",
   "metadata": {},
   "source": [
    "\n",
    "\n",
    "# Specification"
   ]
  },
  {
   "cell_type": "markdown",
   "metadata": {},
   "source": [
    "This is the version 4 of the LP specification."
   ]
  },
  {
   "cell_type": "markdown",
   "metadata": {},
   "source": [
    "## Indices and sets\n",
    "\n",
    "The index is a label that identifies an element in a set. For simplicity, we shall use the index to refer to the element that it indexes."
   ]
  },
  {
   "cell_type": "markdown",
   "metadata": {},
   "source": [
    "* $af \\in AF$ is an index for an openLCA product flow imported from an openLCA database. This includes new flows that are defined by the user for the optimisation problem.\n",
    "* $f\\in F$ is an index for a user-defined flow.\n",
    "* $f_m \\in F_m \\subset F$ is an index for a user-defined material flow (e.g. energy, material) to be considered in the optimisation problem.\n",
    "* $f_s \\in F_s \\subset F$ is an index for an user-defined service flow (e.g. energy storage, transport) to be considered in the optimisation problem.\n",
    "* $f_{t} \\in F_{t} \\subset F$ is an index for transport service flow i.e. transport mode \\{road, train freight, air etc\\}.\n",
    "* $l\\in L$ location defined by Latitude and Longitude.\n",
    "* $e \\in E$ is an elementary flow index for elementary flows imported from an openLCA database. A system process in the openLCA database is by definition broken down into a set of these elementary flows.\n",
    "* $ap \\in AP$ is an index for a process in the set of all processes contained in an openLCA database. This include user-defined processes specifically designed for the optimisation tool.\n",
    "* $p\\in P\\subset AP$ is a process index for processes that make up the optimisation problem.\n",
    "* $t \\in T$ is the time interval by time discretization $\\{t_1, t_2, t_3, t_4 \\ldots t_n\\}$.\n",
    "* $k \\in K$ a task index $k$ in the set of all task indices $K$.\n",
    "* $d \\in D$ an index for a demand $d$ in the set of demand indices $D$. \n",
    "* $akpi \\in AKPI$ is an indexes for all key performance indicators $KPI$ in an openLCA database. This includes key performance indicators defined by the user of the optimisation tool that must be added to the openLCA database.\n",
    "* $kpi \\in KPI\\subset AKPI$ is an index that identifies those performance indicators that the user wish to use in the optimisation problem."
   ]
  },
  {
   "cell_type": "markdown",
   "metadata": {},
   "source": [
    "## Parameters"
   ]
  },
  {
   "cell_type": "markdown",
   "metadata": {},
   "source": [
    "### User-defined"
   ]
  },
  {
   "cell_type": "markdown",
   "metadata": {},
   "source": [
    "* $C_{f_m, k, d, t}$ Conversion factor for material flows to generate per unit of demand product/services $d$ at task $s$, time $t$. If not defined default value is 0.\n",
    "\n",
    "* $D_{d,k,t}$ Demand for final product/service $d$ for task $k$ at time $t$; If not defined, default value is 0.\n",
    "\n",
    "* $D_{d,k}^{total}$ Total demand for final product/service over the whole optimisation time period over multiple tasks.\n",
    "\n",
    "* $L_{f_m, f_s}$ Binary factor to link services flows to material flows e.g. energy storage, material storage, transport; If not defined, default value is 0.\n",
    "\n",
    "* $X_{k, t}$ Longitude for where the material flow $f_m$ is transported in task $k$.\n",
    "\n",
    "* $Y_{k, t}$ Latitude for where the material flow $f_m$ is transported in the task $k$.\n",
    "\n",
    "* $d_{p,f_m, k, t}$ Total travel distance between process $p$ (where material flow $f_m$ is produced) and task $k$ (where material flow $f_m$ is transported to) at time $t$\n",
    "\n",
    "$$\n",
    "d_{p,f_m,k,t}=M(X_{k,t},Y_{k,t},X_{p, f_m}^I,Y^I_{p, f_m})\n",
    "$$\n",
    "\n",
    "where $M$ is a function that measures this distance e.g. Haversine - see http://www.movable-type.co.uk/scripts/latlong.html\n",
    "\n",
    "\n",
    "* $\\phi_{f, p, t}$ Cost co-efficient for material, service and transport flows $f$ produced by $p$ at time t.\n"
   ]
  },
  {
   "cell_type": "markdown",
   "metadata": {},
   "source": [
    "### Imported from openLCA and model initialisation\n",
    "\n",
    "* $Ef_{akpi, e}$ Environmental impact characterisation factor for elementary flow $e$ and performance indicator $akpi$.\n",
    "\n",
    "* $EF_{e, f, p}$ Elementary flow $e$ to link with product flow $f$ through process $p$.\n",
    "\n",
    "* $EI_{akpi, f, ap}$ Calculated environmental impact for product flow $𝑓$ through process $ap$ and performance indicator $kpi$.\n",
    "\n",
    "* $X^I_{p,f_m}$ Longitude from the location table given in a process for material flow $f_m$.\n",
    "\n",
    "* $Y^I_{p,f_m}$ Latitude from the location table given in the process for material flow $f_m$."
   ]
  },
  {
   "cell_type": "markdown",
   "metadata": {},
   "source": [
    "### Continuous variables\n"
   ]
  },
  {
   "cell_type": "markdown",
   "metadata": {},
   "source": [
    "* $Obj_{kpi}$ Objective functions for the user-defined KPIs.\n",
    "* $Flow_{f_m, p,k, t}$ is the flow of material $f_m$ produced by process $p$ to task $k$ at time $t$.\n",
    "* $S_{f_s, k, t}$ is the temporary storage of service input flow $f_s$ at task $k$ and time $t$. **Perhaps call it $Service$ like $Flow$.**\n",
    "* $SF_{f_s, p, k, t}$ Specific service flow (e.g. storage) through process $p$ in task $k$ at time $t$.\n",
    "* $f_{f_m, p, f_t, k, t}$ Specific material and transport flow which is total quantity of materials $f_m$ produced in process $p$ transported through transport mode $f_t$ at task $k$ and time interval $t$ (unit: kg).\n",
    "* $T_{f_t,k,t}$ Transport flow which is quantity times distance of all materials transported through the transport mode $f_t$ at task $k$ and time interval $t$ (unit: kg km).\n",
    "* $t_{f_t,p,k,t}$ Specific transport flow which is quantity times distance of all materials transported through the transport mode $f_t$ and by process $p$ at task $k$ and time interval $t$ (unit: kg km)."
   ]
  },
  {
   "cell_type": "markdown",
   "metadata": {},
   "source": [
    "## Objective function"
   ]
  },
  {
   "cell_type": "markdown",
   "metadata": {},
   "source": [
    "Our objective is to minimise the environmental impact of elementary flows and the economic cost derived from a network of processes.\n",
    "\n",
    "Consequently, the objective is for a fixed impact category $kpi$"
   ]
  },
  {
   "cell_type": "markdown",
   "metadata": {},
   "source": [
    "$$\n",
    "\\min_D Obj_{kpi}\n",
    "$$\n",
    "\n",
    "and\n",
    "\n",
    "$$\n",
    "\\min_D Obj_{cost}\n",
    "$$\n",
    "\n",
    "where the decision variables are defined by the set \n",
    "\n",
    "$$\n",
    "D=\\cup_{F,P,K,T}\\{SF_{f_s, p, k, t}, f_{f_m,p,f_t,k,t}, t_{f_t, p, k, t}\\}\n",
    "$$\n",
    "\n",
    "and represent the specific service flows, the specific material flows using a mode of transport, and the specific transport flows."
   ]
  },
  {
   "cell_type": "markdown",
   "metadata": {},
   "source": [
    "The environmental impact is the sum of the environmental impacts arising from material, service flows, and transport flows:"
   ]
  },
  {
   "cell_type": "markdown",
   "metadata": {},
   "source": [
    "$$\n",
    "Obj_{kpi} = \\sum_{f_m, p_m, k, t} Flow_{f_m, p_m, k, t}EI_{kpi, f_m, p_m} + \n",
    "\\sum_{f_s, p_s, k ,t} SF_{f_s, p_s, k, t}EI_{kpi, f_s, p_s} +\n",
    "\\sum_{f_t, p_t, k, t}t_{f_t, p_t, k, t}EI_{kpi,f_t,p_t}.\n",
    "$$"
   ]
  },
  {
   "cell_type": "markdown",
   "metadata": {},
   "source": [
    "The economic impact is the sum of the economic impacts arising from material, service and transport flows:"
   ]
  },
  {
   "cell_type": "markdown",
   "metadata": {},
   "source": [
    "$$\n",
    "Obj_{cost} = \\sum_{f_m, p_m, k, t} Flow_{f_m, p_m, k, t}\\phi_{f_m, p_m, t} +\n",
    "\\sum_{f_s, p_s, k, t} SF_{f_s, p_s, k, t}\\phi_{f_s, p_s, t} +\n",
    "\\sum_{f_t, p_t, k, t}t_{f_t, p_t, k, t}\\phi_{f_t, p_t, t}\n",
    "$$"
   ]
  },
  {
   "cell_type": "markdown",
   "metadata": {},
   "source": [
    "Here the environmental impact of flow $f\\in F$ measured by impact factor $kpi$ is "
   ]
  },
  {
   "cell_type": "markdown",
   "metadata": {},
   "source": [
    "$$\n",
    "EI_{kpi, f, p} = \\sum_e Ef_{kpi, e}EF_{e, f, p}\n",
    "$$\n",
    "\n",
    "where the flow $f$ is the product flow for the process $p\\in P$. Here $Ef_{kpi, e}$ denotes the impact factor indexed by impact category $kpi$ and environmental flow $e$ and $EF_{e, f, p}$ is the quantity of elementary flow generated by the product flow $f$ by process $p$. If $f\\in F_m\\cup F_s\\cup F_t$ then the breakdown of flow into elementary flow amounts $EF_{e, f, p}$ must be calculated in openLCA by constructing a *system process*, which is then imported into the optimisation tool. Otherwise the flow is a product flow from an existing system process in openLCA so there already is a breakdown.\n"
   ]
  },
  {
   "cell_type": "markdown",
   "metadata": {},
   "source": [
    "## Constraints"
   ]
  },
  {
   "cell_type": "markdown",
   "metadata": {},
   "source": [
    "The binary parameter $L_{f_m, f_s}$ determines the linkage between storage service flow $S_{f_s, k,t}$ and the material \n",
    "storage flow $S_{f_m, k, t}$ at task $k$ and time $t$:\n",
    "\n",
    "$$\n",
    "S_{f_s,k,t} = \\sum_{f_m} L_{f_m, f_s}S_{f_m, k, t},\n",
    "$$\n",
    "\n",
    "where $L_{f_m, f_s}$ is a binary parameter than links the service flow $f_s$ to the material flow $f_m$  in task $k$ at time $t$.\n",
    "\n",
    "The service flow $S_{f_s, k,t}$ is the sum of the process specific service flows $SF_{f_m, p, k, t}$:\n",
    "\n",
    "$$\n",
    "S_{f_s,k,t} = \\sum_{f_m, p_m} SF_{f_m, p_m, k, t},\\quad \\text{needs an $f_s$ here?}\n",
    "$$\n",
    "\n",
    "For any material flow $f_m$ produced by $p$, the total quantity $Flow_{f_m,p,k,t}$ is dependent on the quantity of $f_m$ transported through transport mode $f_t$ at task $k$ and time interval $t$, which is denoted by $f_{f_m,p_m,f_t,k,t}$. \n",
    "\n",
    "$$\n",
    "Flow_{f_m,p_m,k,t}=\\sum_{f_t} f_{f_m,p_m,f_t,k,t}\n",
    "$$\n",
    "\n",
    "The transport flow $T_{f_t,k,t}$ is defined by the quantity of $f_m$ transported via transport mode $f_t$ at task $k$ and time interval $t$ and the transport distance for shipping $f_m$ from initial production location $(X^I_{p,f_m},Y^I_{p,f_m})$ to final task location $X_{k,t}, Y_{k,t}$.\n",
    "\n",
    "$$\n",
    "T_{f_t, k, t} = \\sum_{f_m, p_m} f_{f_m, p_m, f_t, k, t}d_{p, f_m, k, t}\n",
    "$$\n",
    "\n",
    "The transport flow is also the sum of the specific transport flows denoted by $t_{f_t, p_t, k, t}$:\n",
    "\n",
    "$$\n",
    "T_{f_t, k, t} = \\sum_{p_t} t_{f_t, p_t, k, t}\n",
    "$$\n",
    "\n",
    "The sum of material flows over each production process and the conversion of temporary storage to material flow must satisfy demand\n",
    "\n",
    "$$\n",
    "\\sum_{f_m, p} (Flow_{f_m, p, k, t} - S_{f_m, k, t} + S_{f_m, k, t-1})C_{f_m, k, d, t} \\geq D_{d,k,t}\n",
    "$$\n",
    "\n",
    "The total material flow minus final storage must satisfy the total demand over the time horizon so\n",
    "\n",
    "$$\n",
    "\\sum_{f_m,p,t} Flow_{f_m, p, k, t}C_{f_m, k, d, t}  \\geq D_{d,k}^{total}.\n",
    "$$\n",
    "\n",
    "Finally, we require\n",
    "\n",
    "$$\n",
    "SF_{f_s, k, t} \\geq 0,\n",
    "$$\n",
    "\n",
    "$$\n",
    "f_{f_m, p, f_t, k, t} \\geq 0,\n",
    "$$\n",
    "\n",
    "$$\n",
    "t_{f_t, p, k, t} \\geq 0.\n",
    "$$\n"
   ]
  },
  {
   "cell_type": "markdown",
   "metadata": {},
   "source": [
    "# Abstract Pyomo Model\n",
    "\n",
    "The specification is translated into an abstract pyomo model."
   ]
  },
  {
   "cell_type": "code",
   "execution_count": 1,
   "metadata": {},
   "outputs": [],
   "source": [
    "from importlib import reload\n",
    "import pandas as pd\n",
    "from pyomo.environ import *\n",
    "abstract_model = AbstractModel()"
   ]
  },
  {
   "cell_type": "markdown",
   "metadata": {},
   "source": [
    "## Indices and sets"
   ]
  },
  {
   "cell_type": "markdown",
   "metadata": {},
   "source": [
    "There is no instantiation of objects in the abstract model just placeholders for data. Some of the data must be supplied by the user via a GUI or programmatically and some must come from a data source."
   ]
  },
  {
   "cell_type": "markdown",
   "metadata": {},
   "source": [
    "### User-defined\n",
    "\n",
    "The user needs to specify these sets."
   ]
  },
  {
   "cell_type": "code",
   "execution_count": 2,
   "metadata": {},
   "outputs": [],
   "source": [
    "abstract_model.F_m = Set(doc='Material flows to optimise')\n",
    "abstract_model.F_s = Set(doc='Service flows to optimise')\n",
    "abstract_model.F_t = Set(doc='Transport flows to optimise')\n",
    "abstract_model.F = abstract_model.F_m | abstract_model.F_t | abstract_model.F_s\n",
    "abstract_model.P = Set(doc='Processes in the optimisation problem')\n",
    "abstract_model.T = Set(doc='Time intervals')\n",
    "abstract_model.K = Set(doc='Tasks')\n",
    "abstract_model.D = Set(doc='Demands')\n",
    "abstract_model.KPI = Set(doc='Performance indicators for optimisation problem')"
   ]
  },
  {
   "cell_type": "markdown",
   "metadata": {},
   "source": [
    "A DataPortal can be used to load user configuration from a JSON file to persist user configuration. There is a method in the Specification class that constructs an example user data set"
   ]
  },
  {
   "cell_type": "markdown",
   "metadata": {},
   "source": [
    "### OpenLCA data\n",
    "\n",
    "These sets are populated by reference ids from an openLCA database."
   ]
  },
  {
   "cell_type": "code",
   "execution_count": 3,
   "metadata": {},
   "outputs": [],
   "source": [
    "abstract_model.AF = Set(doc='All flows in openLCA database')\n",
    "abstract_model.E = Set(doc='Elementary Flows in OpenLCA database')\n",
    "abstract_model.AP = Set(doc='All processes from in OpenLCA database')\n",
    "abstract_model.AKPI = Set(doc='All key performance indicators in an openLCA database')"
   ]
  },
  {
   "cell_type": "markdown",
   "metadata": {},
   "source": [
    "To generate a new model instance the user first needs to specify an openLCA database. This will these sets so that the user can make choices. \n",
    "\n",
    "We show how a pyomo DataPortal can be used to populate the sets from an example database."
   ]
  },
  {
   "cell_type": "code",
   "execution_count": 4,
   "metadata": {},
   "outputs": [],
   "source": [
    "olca_dp = DataPortal()\n",
    "db_file = '/mnt/disk1/data/openlca/sqlite/system/CSV_juice_ecoinvent_36_apos_lci_20200206_20201029-102818.sqlite'\n",
    "olca_dp.load(filename=db_file, using='sqlite3', query=\"SELECT REF_ID FROM TBL_FLOWS\", set=abstract_model.AF)\n",
    "olca_dp.load(filename=db_file, using='sqlite3', query=\"SELECT REF_ID FROM TBL_FLOWS WHERE FLOW_TYPE='ELEMENTARY_FLOW'\", set=abstract_model.E)\n",
    "olca_dp.load(filename=db_file, using='sqlite3', query=\"SELECT REF_ID FROM TBL_PROCESSES\", set=abstract_model.AP)\n",
    "olca_dp.load(filename=db_file, using='sqlite3', query=\"SELECT REF_ID FROM TBL_IMPACT_CATEGORIES\", set=abstract_model.AKPI)\n",
    "model_instance = abstract_model.create_instance(olca_dp)"
   ]
  },
  {
   "cell_type": "markdown",
   "metadata": {},
   "source": [
    "We shall also need flow/process names and categories and other data which is not part of the abstract model. This supplementary data is obtained using a query builder. For example, the following function builds a lookup table for mapping reference ids to names. The table for processes is shown and it contains the location of the process."
   ]
  },
  {
   "cell_type": "code",
   "execution_count": 5,
   "metadata": {},
   "outputs": [
    {
     "name": "stdout",
     "output_type": "stream",
     "text": [
      "SELECT \"REF_ID\",\"NAME\" FROM \"TBL_FLOWS\"\n",
      "SELECT \"REF_ID\",\"NAME\" FROM \"TBL_CATEGORIES\"\n",
      "SELECT \"TBL_PROCESSES\".\"REF_ID\" \"REF_ID\",\"TBL_PROCESSES\".\"NAME\" \"PROCESS_NAME\",\"TBL_LOCATIONS\".\"NAME\" \"LOCATION_NAME\" FROM \"TBL_PROCESSES\" LEFT JOIN \"TBL_LOCATIONS\" ON CAST(\"TBL_PROCESSES\".\"F_LOCATION\" AS INT)=\"TBL_LOCATIONS\".\"ID\"\n",
      "SELECT \"REF_ID\",\"NAME\" FROM \"TBL_FLOWS\" WHERE \"FLOW_TYPE\"='PRODUCT_FLOW'\n",
      "SELECT \"TBL_IMPACT_METHODS\".\"NAME\" \"method_NAME\",\"TBL_IMPACT_CATEGORIES\".\"REF_ID\" \"category_REF_ID\",\"TBL_IMPACT_CATEGORIES\".\"NAME\" \"category_NAME\" FROM \"TBL_IMPACT_CATEGORIES\" LEFT JOIN \"TBL_IMPACT_METHODS\" ON \"TBL_IMPACT_CATEGORIES\".\"F_IMPACT_METHOD\"=\"TBL_IMPACT_METHODS\".\"ID\"\n"
     ]
    },
    {
     "data": {
      "text/html": [
       "<div>\n",
       "<style scoped>\n",
       "    .dataframe tbody tr th:only-of-type {\n",
       "        vertical-align: middle;\n",
       "    }\n",
       "\n",
       "    .dataframe tbody tr th {\n",
       "        vertical-align: top;\n",
       "    }\n",
       "\n",
       "    .dataframe thead th {\n",
       "        text-align: right;\n",
       "    }\n",
       "</style>\n",
       "<table border=\"1\" class=\"dataframe\">\n",
       "  <thead>\n",
       "    <tr style=\"text-align: right;\">\n",
       "      <th></th>\n",
       "      <th>PROCESS_NAME</th>\n",
       "      <th>LOCATION_NAME</th>\n",
       "    </tr>\n",
       "    <tr>\n",
       "      <th>REF_ID</th>\n",
       "      <th></th>\n",
       "      <th></th>\n",
       "    </tr>\n",
       "  </thead>\n",
       "  <tbody>\n",
       "    <tr>\n",
       "      <th>59e8d600-0acc-465d-8e6f-e092f03b1e52</th>\n",
       "      <td>market for waste polyethylene terephthalate | ...</td>\n",
       "      <td>Lithuania</td>\n",
       "    </tr>\n",
       "    <tr>\n",
       "      <th>956ebeef-370e-34bb-ac83-11a10bba21d1</th>\n",
       "      <td>ethylvinylacetate production, foil | ethylviny...</td>\n",
       "      <td>Rest-of-World</td>\n",
       "    </tr>\n",
       "    <tr>\n",
       "      <th>90695e4b-05f9-3f41-b03d-93bef747469a</th>\n",
       "      <td>Mannheim process | sodium sulfate, anhydrite |...</td>\n",
       "      <td>Europe</td>\n",
       "    </tr>\n",
       "    <tr>\n",
       "      <th>a1e42a9d-2e86-351b-a803-49a2392eb820</th>\n",
       "      <td>Mannheim process | hydrochloric acid, without ...</td>\n",
       "      <td>Europe</td>\n",
       "    </tr>\n",
       "    <tr>\n",
       "      <th>c9291945-f81f-3790-9a65-888287c32128</th>\n",
       "      <td>aluminium oxide factory construction | alumini...</td>\n",
       "      <td>Europe</td>\n",
       "    </tr>\n",
       "    <tr>\n",
       "      <th>...</th>\n",
       "      <td>...</td>\n",
       "      <td>...</td>\n",
       "    </tr>\n",
       "    <tr>\n",
       "      <th>f0aa9cd8-5773-39a3-9d19-fa80dc06b9fd</th>\n",
       "      <td>treatment of blast furnace gas, in power plant...</td>\n",
       "      <td>China, Yunnan (云南)</td>\n",
       "    </tr>\n",
       "    <tr>\n",
       "      <th>0c784bc1-9789-44e9-ba08-3653c3fe1ae1</th>\n",
       "      <td>tap water production, conventional treatment |...</td>\n",
       "      <td>Peru</td>\n",
       "    </tr>\n",
       "    <tr>\n",
       "      <th>0a003052-1eb1-3140-b7a4-2fc080c4d5e5</th>\n",
       "      <td>electricity production, photovoltaic, 3kWp sla...</td>\n",
       "      <td>SERC Reliability Corporation</td>\n",
       "    </tr>\n",
       "    <tr>\n",
       "      <th>48b9f68d-cb46-4fdd-a20b-95b5df78dfdf</th>\n",
       "      <td>Process Z</td>\n",
       "      <td>None</td>\n",
       "    </tr>\n",
       "    <tr>\n",
       "      <th>741c84aa-46ec-44eb-ba64-7b1a5e552b74</th>\n",
       "      <td>Process Z - LCI</td>\n",
       "      <td>None</td>\n",
       "    </tr>\n",
       "  </tbody>\n",
       "</table>\n",
       "<p>18268 rows × 2 columns</p>\n",
       "</div>"
      ],
      "text/plain": [
       "                                                                           PROCESS_NAME  \\\n",
       "REF_ID                                                                                    \n",
       "59e8d600-0acc-465d-8e6f-e092f03b1e52  market for waste polyethylene terephthalate | ...   \n",
       "956ebeef-370e-34bb-ac83-11a10bba21d1  ethylvinylacetate production, foil | ethylviny...   \n",
       "90695e4b-05f9-3f41-b03d-93bef747469a  Mannheim process | sodium sulfate, anhydrite |...   \n",
       "a1e42a9d-2e86-351b-a803-49a2392eb820  Mannheim process | hydrochloric acid, without ...   \n",
       "c9291945-f81f-3790-9a65-888287c32128  aluminium oxide factory construction | alumini...   \n",
       "...                                                                                 ...   \n",
       "f0aa9cd8-5773-39a3-9d19-fa80dc06b9fd  treatment of blast furnace gas, in power plant...   \n",
       "0c784bc1-9789-44e9-ba08-3653c3fe1ae1  tap water production, conventional treatment |...   \n",
       "0a003052-1eb1-3140-b7a4-2fc080c4d5e5  electricity production, photovoltaic, 3kWp sla...   \n",
       "48b9f68d-cb46-4fdd-a20b-95b5df78dfdf                                          Process Z   \n",
       "741c84aa-46ec-44eb-ba64-7b1a5e552b74                                    Process Z - LCI   \n",
       "\n",
       "                                                     LOCATION_NAME  \n",
       "REF_ID                                                              \n",
       "59e8d600-0acc-465d-8e6f-e092f03b1e52                     Lithuania  \n",
       "956ebeef-370e-34bb-ac83-11a10bba21d1                 Rest-of-World  \n",
       "90695e4b-05f9-3f41-b03d-93bef747469a                        Europe  \n",
       "a1e42a9d-2e86-351b-a803-49a2392eb820                        Europe  \n",
       "c9291945-f81f-3790-9a65-888287c32128                        Europe  \n",
       "...                                                            ...  \n",
       "f0aa9cd8-5773-39a3-9d19-fa80dc06b9fd            China, Yunnan (云南)  \n",
       "0c784bc1-9789-44e9-ba08-3653c3fe1ae1                          Peru  \n",
       "0a003052-1eb1-3140-b7a4-2fc080c4d5e5  SERC Reliability Corporation  \n",
       "48b9f68d-cb46-4fdd-a20b-95b5df78dfdf                          None  \n",
       "741c84aa-46ec-44eb-ba64-7b1a5e552b74                          None  \n",
       "\n",
       "[18268 rows x 2 columns]"
      ]
     },
     "execution_count": 5,
     "metadata": {},
     "output_type": "execute_result"
    }
   ],
   "source": [
    "import mola.dataimport as di\n",
    "import mola.dataview as dv\n",
    "dbconn = di.get_sqlite_connection()\n",
    "lookup = dv.get_lookup_tables(dbconn)\n",
    "lookup['processes']"
   ]
  },
  {
   "cell_type": "markdown",
   "metadata": {},
   "source": [
    "## Parameters"
   ]
  },
  {
   "cell_type": "markdown",
   "metadata": {},
   "source": [
    "### User-defined\n",
    "\n",
    "These parameters must be specified by the user. Unlike sets, the user need to supply values or use functionality in the tool to\n",
    "populate these parameters."
   ]
  },
  {
   "cell_type": "code",
   "execution_count": 6,
   "metadata": {},
   "outputs": [],
   "source": [
    "abstract_model.C = Param(abstract_model.F_m, abstract_model.K, abstract_model.D, abstract_model.T,\n",
    "                         doc='Conversion factor for material flows')\n",
    "abstract_model.Demand = Param(abstract_model.D, abstract_model.K, abstract_model.T)\n",
    "abstract_model.Total_Demand = Param(abstract_model.D, abstract_model.K)\n",
    "abstract_model.L = Param(abstract_model.F_m, abstract_model.F_t)\n",
    "abstract_model.X = Param(abstract_model.K, abstract_model.T)\n",
    "abstract_model.Y = Param(abstract_model.K, abstract_model.T)\n",
    "abstract_model.d = Param(abstract_model.P, abstract_model.F_m, abstract_model.K, abstract_model.T)\n",
    "abstract_model.phi = Param(abstract_model.F, abstract_model.P, abstract_model.T)"
   ]
  },
  {
   "cell_type": "markdown",
   "metadata": {},
   "source": [
    "### OpenLCA data\n",
    "\n",
    "We cannot just load these parameters when the database is specified because they depend on user input. They are completed in the model build phase after the user supplies the relevant sets."
   ]
  },
  {
   "cell_type": "code",
   "execution_count": 7,
   "metadata": {},
   "outputs": [],
   "source": [
    "abstract_model.Ef = Param(abstract_model.KPI, abstract_model.E)\n",
    "abstract_model.EF = Param(abstract_model.E, abstract_model.F, abstract_model.P)\n",
    "def ei_rule(model, kpi, f, p):\n",
    "    return sum(model.Ef[kpi, e]*model.EF[e, f, p] for e in model.E)\n",
    "abstract_model.EI = Param(abstract_model.KPI, abstract_model.F, abstract_model.P, rule=ei_rule)\n",
    "abstract_model.XI = Param(abstract_model.P, abstract_model.F_m)\n",
    "abstract_model.YI = Param(abstract_model.P, abstract_model.F_m)"
   ]
  },
  {
   "cell_type": "markdown",
   "metadata": {},
   "source": [
    "## Variables\n",
    "\n",
    "These are defined in the abstract model to correspond to the specification, but we are likely to use linked sets to decrease the amount of redundancy."
   ]
  },
  {
   "cell_type": "code",
   "execution_count": 8,
   "metadata": {},
   "outputs": [],
   "source": [
    "abstract_model.Flow = Var(abstract_model.F_m, abstract_model.P, abstract_model.K, abstract_model.T)\n",
    "abstract_model.Storage = Var(abstract_model.F_s, abstract_model.K, abstract_model.T)\n",
    "abstract_model.Service_Flow = Var(abstract_model.F_s, abstract_model.P, abstract_model.K, abstract_model.T)\n",
    "abstract_model.Specific_Material_Transport_Flow = Var(abstract_model.F_m, abstract_model.P, abstract_model.F_t, \n",
    "                                             abstract_model.K, abstract_model.T)\n",
    "abstract_model.Transport_Flow = Var(abstract_model.F_t, abstract_model.K, abstract_model.T)\n",
    "abstract_model.Specific_Transport_Flow = Var(abstract_model.F_t, abstract_model.P, abstract_model.K, abstract_model.T)"
   ]
  },
  {
   "cell_type": "markdown",
   "metadata": {},
   "source": [
    "## Objective"
   ]
  },
  {
   "cell_type": "markdown",
   "metadata": {},
   "source": [
    "There are two types of objective in the abstract model. They are constructed at build time. The user needs to supply weights for each objective."
   ]
  },
  {
   "cell_type": "code",
   "execution_count": 9,
   "metadata": {},
   "outputs": [
    {
     "name": "stdout",
     "output_type": "stream",
     "text": [
      "obj1 : Size=0, Index=KPI, Active=True\n",
      "    Not constructed\n",
      "obj2 : Size=0, Index=None, Active=True\n",
      "    Not constructed\n"
     ]
    }
   ],
   "source": [
    "def environment_objective_rule(model, kpi):\n",
    "    return sum(model.Flow[fm, p, k, t]*model.EI[kpi, fm, p]\n",
    "               for fm in model.F_m for p in model.P for k in model.K for t in model.T) + \\\n",
    "            sum(model.Service_Flow[fs, p, k, t] * model.EI[kpi, fs, p]\n",
    "                for fs in model.F_s for p in model.P for k in model.K for t in model.T) + \\\n",
    "            sum(model.Specific_Transport_Flow[ft, p, k, t] * model.EI[kpi, ft, p]\n",
    "                for ft in model.F_t for p in model.P for k in model.K for t in model.T)\n",
    "\n",
    "def cost_objective_rule(model):\n",
    "    return sum(model.Flow[fm, p, k, t]*model.phi[fm, p, t]\n",
    "               for fm in model.F_m for p in model.P for k in model.K for t in model.T) + \\\n",
    "            sum(model.Service_Flow[fs, p, k, t] * model.phi[fs, p, t]\n",
    "                for fs in model.F_s for p in model.P for k in model.K for t in model.T) + \\\n",
    "            sum(model.Specific_Transport_Flow[ft, p, k, t] * model.phi[ft, p, t]\n",
    "                for ft in model.F_t for p in model.P for k in model.K for t in model.T)\n",
    "\n",
    "abstract_model.obj1 = Objective(abstract_model.KPI, rule=environment_objective_rule)\n",
    "abstract_model.obj2 = Objective(rule=cost_objective_rule)\n",
    "abstract_model.obj1.pprint()\n",
    "abstract_model.obj2.pprint()"
   ]
  },
  {
   "cell_type": "markdown",
   "metadata": {},
   "source": [
    "## Constraints\n",
    "\n",
    "The constraints are determined at build time from information supplied by the user. One of the abstract constraints is shown below."
   ]
  },
  {
   "cell_type": "code",
   "execution_count": 10,
   "metadata": {},
   "outputs": [
    {
     "name": "stdout",
     "output_type": "stream",
     "text": [
      "total_demand_constraint : Size=0, Index=total_demand_constraint_index, Active=True\n",
      "    Not constructed\n"
     ]
    }
   ],
   "source": [
    "def flow_demand_rule(model, d, k):\n",
    "    total_demand = sum(\n",
    "        model.Flow[fm, pm, k, t] * model.C[fm, k, d, t] for fm in model.F_m for pm in model.P for t in model.T)\n",
    "    return total_demand >= model.Total_Demand[d, k]\n",
    "abstract_model.total_demand_constraint = Constraint(\n",
    "    abstract_model.D, abstract_model.K, rule=flow_demand_rule)\n",
    "abstract_model.total_demand_constraint.pprint()"
   ]
  },
  {
   "cell_type": "markdown",
   "metadata": {},
   "source": [
    "# User interface\n",
    "\n",
    "The mola specification module contains a class called ScheduleSpecification that contains the above abstract model. Indices to variables and parameters also define sets in pyomo."
   ]
  },
  {
   "cell_type": "code",
   "execution_count": 11,
   "metadata": {},
   "outputs": [
    {
     "ename": "ModuleNotFoundError",
     "evalue": "No module named 'mola.specification'",
     "output_type": "error",
     "traceback": [
      "\u001b[0;31m---------------------------------------------------------------------------\u001b[0m",
      "\u001b[0;31mModuleNotFoundError\u001b[0m                       Traceback (most recent call last)",
      "\u001b[0;32m<ipython-input-11-fc5992de7a70>\u001b[0m in \u001b[0;36m<module>\u001b[0;34m\u001b[0m\n\u001b[0;32m----> 1\u001b[0;31m \u001b[0;32mimport\u001b[0m \u001b[0mmola\u001b[0m\u001b[0;34m.\u001b[0m\u001b[0mspecification\u001b[0m \u001b[0;32mas\u001b[0m \u001b[0mms\u001b[0m\u001b[0;34m\u001b[0m\u001b[0;34m\u001b[0m\u001b[0m\n\u001b[0m\u001b[1;32m      2\u001b[0m \u001b[0mspec\u001b[0m \u001b[0;34m=\u001b[0m \u001b[0mms\u001b[0m\u001b[0;34m.\u001b[0m\u001b[0mScheduleSpecification\u001b[0m\u001b[0;34m(\u001b[0m\u001b[0;34m)\u001b[0m\u001b[0;34m\u001b[0m\u001b[0;34m\u001b[0m\u001b[0m\n\u001b[1;32m      3\u001b[0m \u001b[0mspec\u001b[0m\u001b[0;34m.\u001b[0m\u001b[0mabstract_model\u001b[0m\u001b[0;34m.\u001b[0m\u001b[0mpprint\u001b[0m\u001b[0;34m(\u001b[0m\u001b[0;34m)\u001b[0m\u001b[0;34m\u001b[0m\u001b[0;34m\u001b[0m\u001b[0m\n",
      "\u001b[0;31mModuleNotFoundError\u001b[0m: No module named 'mola.specification'"
     ]
    }
   ],
   "source": [
    "import mola.specification4 as ms\n",
    "spec = ms.ScheduleSpecification()\n",
    "spec.abstract_model.pprint()"
   ]
  },
  {
   "cell_type": "markdown",
   "metadata": {},
   "source": [
    "The module contains a function to generate lookup tables that we can use to build a user interface. For example, we can\n",
    "populate a widget with all material flows and then ask a user to select a subset."
   ]
  },
  {
   "cell_type": "code",
   "execution_count": null,
   "metadata": {},
   "outputs": [],
   "source": [
    "import mola.dataview as dv\n",
    "import mola.dataimport as di\n",
    "conn = di.get_sqlite_connection()\n",
    "lookup = dv.get_lookup_tables(conn)"
   ]
  },
  {
   "cell_type": "markdown",
   "metadata": {},
   "source": [
    "## Sets \n",
    "\n",
    "The mola.widget module contains a function to generate the notebook widget."
   ]
  },
  {
   "cell_type": "code",
   "execution_count": null,
   "metadata": {},
   "outputs": [],
   "source": [
    "import mola.widgets as mw\n",
    "fw = mw.get_set(lookup['flows'])"
   ]
  },
  {
   "cell_type": "markdown",
   "metadata": {},
   "source": [
    "If the user selects flows then they are assigned to $F_m$ otherwise defaults are used."
   ]
  },
  {
   "cell_type": "code",
   "execution_count": null,
   "metadata": {},
   "outputs": [],
   "source": [
    "if len(fw.df) > 0:\n",
    "    F_m = fw.df.index.to_list()\n",
    "else:\n",
    "    F_m = ['f1', 'f2']\n",
    "F_m"
   ]
  },
  {
   "cell_type": "markdown",
   "metadata": {},
   "source": [
    "We can then ask for the impact category. You can search on method and category."
   ]
  },
  {
   "cell_type": "code",
   "execution_count": null,
   "metadata": {},
   "outputs": [],
   "source": [
    "ic = mw.get_set(lookup['impact_categories'])"
   ]
  },
  {
   "cell_type": "markdown",
   "metadata": {},
   "source": [
    "Again, the $KPI$ set is defined or a default selected."
   ]
  },
  {
   "cell_type": "code",
   "execution_count": null,
   "metadata": {},
   "outputs": [],
   "source": [
    "if len(ic.df) > 0:\n",
    "    KPI = ic.df.index.to_list()\n",
    "else:\n",
    "    KPI = ['061b7db5-4f56-3368-bf50-9ff0fcc8dd1f']\n",
    "KPI"
   ]
  },
  {
   "cell_type": "markdown",
   "metadata": {},
   "source": [
    "## Dummy data"
   ]
  },
  {
   "cell_type": "markdown",
   "metadata": {},
   "source": [
    "We need some dummy data to do a complete instantiation of the abstract model. The Specificaton class has a method to return a suitable set of data. The model parameters are dependent on the sets that the user defines so the parameters need to be consistent. \n",
    "\n",
    "In practice, we want to persist the model so we store user data in a JSON file. The dummy data is shown below."
   ]
  },
  {
   "cell_type": "code",
   "execution_count": null,
   "metadata": {},
   "outputs": [],
   "source": [
    "import json\n",
    "user_data = spec.get_dummy_data({'F_m': F_m})\n",
    "json_file = 'user_data.json' \n",
    "with open(json_file, 'w') as fp:\n",
    "    json.dump(user_data, fp)\n",
    "user_data"
   ]
  },
  {
   "cell_type": "markdown",
   "metadata": {},
   "source": [
    "## Parameters\n",
    "\n",
    "Given the dummy set data, we can ask for parameter values from the user. For example, we can request the `Total Demand` which depends on the sets $D$ and $K$."
   ]
  },
  {
   "cell_type": "code",
   "execution_count": null,
   "metadata": {},
   "outputs": [],
   "source": [
    "import qgrid\n",
    "param_dfr = spec.get_param_dfr('user_data.json')\n",
    "unnested_param_dfr = ms.unnest(param_dfr, ['Index', 'Value'])\n",
    "param_qg = qgrid.show_grid(unnested_param_dfr, grid_options={'maxVisibleRows': 10})\n",
    "param_qg"
   ]
  },
  {
   "cell_type": "code",
   "execution_count": null,
   "metadata": {},
   "outputs": [],
   "source": [
    "dfr = param_qg.get_changed_df()[['Param', 'Index', 'Value']]\n",
    "dfr.set_index('Param').to_dict('split')\n",
    "def x(l):\n",
    "    return {'index': l[0], 'value':l[1]}\n",
    "updated_parameters_dict = dfr.groupby('Param')[['Index','Value']].apply(lambda g: list(map(x, g.values.tolist()))).to_dict()\n",
    "updated_parameters_dict"
   ]
  },
  {
   "cell_type": "markdown",
   "metadata": {},
   "source": [
    "We need to return the data to the JSON file."
   ]
  },
  {
   "cell_type": "code",
   "execution_count": null,
   "metadata": {},
   "outputs": [],
   "source": [
    "with open(json_file) as fp:\n",
    "    json_data = json.load(fp)\n",
    "json_data.update(updated_parameters_dict)\n",
    "with open(json_file, 'w') as fp:\n",
    "    json.dump(json_data, fp)\n",
    "json_data"
   ]
  },
  {
   "cell_type": "markdown",
   "metadata": {},
   "source": [
    "\n",
    "# Build Phase\n",
    "\n",
    "In this phase we add data to the abstract model so generate a concrete model instance. The `populate` method in the Specification class uses a database and a JSON file and returns the concrete model. "
   ]
  },
  {
   "cell_type": "code",
   "execution_count": null,
   "metadata": {},
   "outputs": [],
   "source": [
    "db_file = '/mnt/disk1/data/openlca/sqlite/system/CSV_juice_ecoinvent_36_apos_lci_20200206_20201029-102818.sqlite'\n",
    "model_instance = spec.populate(db_file, json_file)\n",
    "model_instance.pprint()"
   ]
  },
  {
   "cell_type": "markdown",
   "metadata": {},
   "source": [
    "## Sets \n",
    "We can examine the contents of the populated sets in the model instance."
   ]
  },
  {
   "cell_type": "code",
   "execution_count": null,
   "metadata": {},
   "outputs": [],
   "source": [
    "sets_dfr = pd.DataFrame(\n",
    "    ([v.name, v.doc, len(v)] for v in model_instance.component_objects(Set, active=True)),\n",
    "    columns=['Set', 'Description', 'Number of elements']\n",
    ")\n",
    "sets_dfr"
   ]
  },
  {
   "cell_type": "markdown",
   "metadata": {},
   "source": [
    "## Parameters\n",
    "\n",
    "The built model parameters are shown below. these reflect the dummy data set that we are using as well as any user configuration."
   ]
  },
  {
   "cell_type": "code",
   "execution_count": null,
   "metadata": {},
   "outputs": [],
   "source": [
    "import qgrid\n",
    "param_dfr = pd.DataFrame(\n",
    "    ([o.name, o.doc, len(o), [index for index in o], [value(o[index]) for index in o]] for o in model_instance.component_objects(Param, active=True)),\n",
    "    columns=['Param', 'Description', 'Number of elements', 'Dimension', 'Value']\n",
    ")\n",
    "qgrid.show_grid(param_dfr)"
   ]
  },
  {
   "cell_type": "markdown",
   "metadata": {},
   "source": [
    "## Constraints\n",
    "\n",
    "We can also see the concrete constraints."
   ]
  },
  {
   "cell_type": "code",
   "execution_count": null,
   "metadata": {},
   "outputs": [],
   "source": [
    "import qgrid\n",
    "dfr = pd.DataFrame(\n",
    "    ([v.name, v.expr] for v in model_instance.component_data_objects(Constraint, active=True)),\n",
    "    columns=['Constraint', 'Expression']\n",
    ")\n",
    "qgrid.show_grid(dfr)"
   ]
  },
  {
   "cell_type": "markdown",
   "metadata": {},
   "source": [
    "## Objectives\n",
    "\n",
    "We can also see the concrete objectives. These will need to be either activated or weight summed before solution before\n",
    "solution because pyomo only supports a single objective function."
   ]
  },
  {
   "cell_type": "code",
   "execution_count": null,
   "metadata": {},
   "outputs": [],
   "source": [
    "dfr = pd.DataFrame(\n",
    "    ([v.name, v.expr] for v in model_instance.component_data_objects(Objective, active=True)),\n",
    "    columns=['Objective', 'Expression']\n",
    ")\n",
    "\n",
    "qgrid.show_grid(dfr)"
   ]
  },
  {
   "cell_type": "markdown",
   "metadata": {},
   "source": [
    "We activate the first objective."
   ]
  },
  {
   "cell_type": "code",
   "execution_count": null,
   "metadata": {},
   "outputs": [],
   "source": [
    "model_instance.obj2.deactivate()\n",
    "model_instance.obj1.activate()"
   ]
  },
  {
   "cell_type": "markdown",
   "metadata": {},
   "source": [
    "# Apply Solver"
   ]
  },
  {
   "cell_type": "code",
   "execution_count": null,
   "metadata": {},
   "outputs": [],
   "source": [
    "opt = SolverFactory(\"glpk\")\n",
    "results = opt.solve(model_instance)\n",
    "results.write()"
   ]
  },
  {
   "cell_type": "code",
   "execution_count": null,
   "metadata": {},
   "outputs": [],
   "source": []
  }
 ],
 "metadata": {
  "kernelspec": {
   "display_name": "Python 3",
   "language": "python",
   "name": "python3"
  },
  "language_info": {
   "codemirror_mode": {
    "name": "ipython",
    "version": 3
   },
   "file_extension": ".py",
   "mimetype": "text/x-python",
   "name": "python",
   "nbconvert_exporter": "python",
   "pygments_lexer": "ipython3",
   "version": "3.7.3"
  },
  "toc": {
   "base_numbering": 1,
   "nav_menu": {},
   "number_sections": true,
   "sideBar": true,
   "skip_h1_title": false,
   "title_cell": "Table of Contents",
   "title_sidebar": "Contents",
   "toc_cell": false,
   "toc_position": {
    "height": "calc(100% - 180px)",
    "left": "10px",
    "top": "150px",
    "width": "284.444px"
   },
   "toc_section_display": true,
   "toc_window_display": true
  },
  "varInspector": {
   "cols": {
    "lenName": 16,
    "lenType": 16,
    "lenVar": 40
   },
   "kernels_config": {
    "python": {
     "delete_cmd_postfix": "",
     "delete_cmd_prefix": "del ",
     "library": "var_list.py",
     "varRefreshCmd": "print(var_dic_list())"
    },
    "r": {
     "delete_cmd_postfix": ") ",
     "delete_cmd_prefix": "rm(",
     "library": "var_list.r",
     "varRefreshCmd": "cat(var_dic_list()) "
    }
   },
   "types_to_exclude": [
    "module",
    "function",
    "builtin_function_or_method",
    "instance",
    "_Feature"
   ],
   "window_display": false
  }
 },
 "nbformat": 4,
 "nbformat_minor": 4
}
