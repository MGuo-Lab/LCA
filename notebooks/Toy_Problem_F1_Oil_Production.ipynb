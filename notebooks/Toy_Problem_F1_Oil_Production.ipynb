{
 "cells": [
  {
   "cell_type": "markdown",
   "metadata": {},
   "source": [
    "# Oil Production Toy Problems\n",
    "\n",
    "These problems illustrate the use of oil production cost data in the openLCA database and the construction of more complex optimisation problems using openLCA data.\n",
    "\n",
    "# Problem Statement\n",
    "\n",
    "An oil company wishes to find the cheapest region to extract 10000 tonnes of crude oil from onshore oil plants in the Middle East, Russia or Africa and then transport the oil to a refinery by sea tanker. The distance from the extraction site to the refinery in each region is given in the table below.\n",
    "\n",
    "Region | Distance / km\n",
    "-- | --\n",
    "Middle East | 200\n",
    "Russia | 600\n",
    "Africa | 400\n",
    "\n",
    "## Assumptions\n",
    "\n",
    "* We ignore the environmental impact of extraction, transport and building the refinery.\n",
    "* We ignore the cost of building the refinery initially."
   ]
  },
  {
   "cell_type": "markdown",
   "metadata": {},
   "source": [
    "# Analysis"
   ]
  },
  {
   "cell_type": "markdown",
   "metadata": {},
   "source": [
    "First we find the three crude oil production processes in the openLCA database."
   ]
  },
  {
   "cell_type": "code",
   "execution_count": 1,
   "metadata": {},
   "outputs": [],
   "source": [
    "import mola.dataimport as di\n",
    "import mola.dataview as dv\n",
    "conn = di.get_sqlite_connection()"
   ]
  },
  {
   "cell_type": "code",
   "execution_count": 2,
   "metadata": {},
   "outputs": [
    {
     "name": "stdout",
     "output_type": "stream",
     "text": [
      "SELECT \"TBL_PROCESSES\".\"ID\",\"TBL_PROCESSES\".\"REF_ID\",\"TBL_PROCESSES\".\"NAME\",\"TBL_PROCESSES\".\"PROCESS_TYPE\",\"TBL_LOCATIONS\".\"NAME\" \"LOCATION\",\"TBL_PROCESSES\".\"F_QUANTITATIVE_REFERENCE\" FROM \"TBL_PROCESSES\" LEFT JOIN \"TBL_LOCATIONS\" ON CAST(\"TBL_PROCESSES\".\"F_LOCATION\" AS INT)=\"TBL_LOCATIONS\".\"ID\" WHERE \"TBL_PROCESSES\".\"NAME\" LIKE 'petroleum production, onshore%'\n"
     ]
    },
    {
     "data": {
      "text/html": [
       "<div>\n",
       "<style scoped>\n",
       "    .dataframe tbody tr th:only-of-type {\n",
       "        vertical-align: middle;\n",
       "    }\n",
       "\n",
       "    .dataframe tbody tr th {\n",
       "        vertical-align: top;\n",
       "    }\n",
       "\n",
       "    .dataframe thead th {\n",
       "        text-align: right;\n",
       "    }\n",
       "</style>\n",
       "<table border=\"1\" class=\"dataframe\">\n",
       "  <thead>\n",
       "    <tr style=\"text-align: right;\">\n",
       "      <th></th>\n",
       "      <th>ID</th>\n",
       "      <th>REF_ID</th>\n",
       "      <th>NAME</th>\n",
       "      <th>PROCESS_TYPE</th>\n",
       "      <th>LOCATION</th>\n",
       "      <th>F_QUANTITATIVE_REFERENCE</th>\n",
       "    </tr>\n",
       "  </thead>\n",
       "  <tbody>\n",
       "    <tr>\n",
       "      <th>0</th>\n",
       "      <td>7076520</td>\n",
       "      <td>81d22f90-89fc-3f04-845e-97615867d8f9</td>\n",
       "      <td>petroleum production, onshore | petroleum | AP...</td>\n",
       "      <td>LCI_RESULT</td>\n",
       "      <td>Russian Federation</td>\n",
       "      <td>7076522</td>\n",
       "    </tr>\n",
       "    <tr>\n",
       "      <th>1</th>\n",
       "      <td>10012499</td>\n",
       "      <td>2c08823a-4575-30ba-bf61-36e2fd4d56e6</td>\n",
       "      <td>petroleum production, onshore | petroleum | AP...</td>\n",
       "      <td>LCI_RESULT</td>\n",
       "      <td>Rest-of-World</td>\n",
       "      <td>10012501</td>\n",
       "    </tr>\n",
       "    <tr>\n",
       "      <th>2</th>\n",
       "      <td>15742513</td>\n",
       "      <td>c1827905-bfad-3fa1-b00b-1303f970ae92</td>\n",
       "      <td>petroleum production, onshore | petroleum | AP...</td>\n",
       "      <td>LCI_RESULT</td>\n",
       "      <td>Middle East</td>\n",
       "      <td>15742515</td>\n",
       "    </tr>\n",
       "    <tr>\n",
       "      <th>3</th>\n",
       "      <td>29432025</td>\n",
       "      <td>cd177b7d-e908-3e69-b40c-4827b4abaa4d</td>\n",
       "      <td>petroleum production, onshore | petroleum | AP...</td>\n",
       "      <td>LCI_RESULT</td>\n",
       "      <td>Africa</td>\n",
       "      <td>29432027</td>\n",
       "    </tr>\n",
       "  </tbody>\n",
       "</table>\n",
       "</div>"
      ],
      "text/plain": [
       "         ID                                REF_ID  \\\n",
       "0   7076520  81d22f90-89fc-3f04-845e-97615867d8f9   \n",
       "1  10012499  2c08823a-4575-30ba-bf61-36e2fd4d56e6   \n",
       "2  15742513  c1827905-bfad-3fa1-b00b-1303f970ae92   \n",
       "3  29432025  cd177b7d-e908-3e69-b40c-4827b4abaa4d   \n",
       "\n",
       "                                                NAME PROCESS_TYPE  \\\n",
       "0  petroleum production, onshore | petroleum | AP...   LCI_RESULT   \n",
       "1  petroleum production, onshore | petroleum | AP...   LCI_RESULT   \n",
       "2  petroleum production, onshore | petroleum | AP...   LCI_RESULT   \n",
       "3  petroleum production, onshore | petroleum | AP...   LCI_RESULT   \n",
       "\n",
       "             LOCATION  F_QUANTITATIVE_REFERENCE  \n",
       "0  Russian Federation                   7076522  \n",
       "1       Rest-of-World                  10012501  \n",
       "2         Middle East                  15742515  \n",
       "3              Africa                  29432027  "
      ]
     },
     "execution_count": 2,
     "metadata": {},
     "output_type": "execute_result"
    }
   ],
   "source": [
    "oil_production_dfr = dv.get_processes(conn, name=['petroleum production, onshore%'])\n",
    "oil_production_dfr"
   ]
  },
  {
   "cell_type": "markdown",
   "metadata": {},
   "source": [
    "We can explicitly find the cost of producing oil at the three locations using the following `mola` function."
   ]
  },
  {
   "cell_type": "code",
   "execution_count": 3,
   "metadata": {},
   "outputs": [
    {
     "name": "stdout",
     "output_type": "stream",
     "text": [
      "SELECT \"TBL_PROCESSES\".\"REF_ID\" \"PROCESS_REF_ID\",\"TBL_PROCESSES\".\"NAME\" \"PROCESS_NAME\",\"TBL_LOCATIONS\".\"NAME\" \"LOCATION\",\"TBL_FLOWS\".\"REF_ID\" \"FLOW_REF_ID\",\"TBL_FLOWS\".\"NAME\" \"FLOW_NAME\",\"sq0\".\"COST_VALUE\",\"TBL_CURRENCIES\".\"NAME\" \"CURRENCY\",\"TBL_UNITS\".\"NAME\" \"UNITS\" FROM (SELECT \"F_OWNER\",\"COST_VALUE\",\"F_CURRENCY\",\"F_FLOW\",\"F_UNIT\",\"RESULTING_AMOUNT_VALUE\" FROM \"TBL_EXCHANGES\" WHERE \"F_OWNER\" IN (SELECT \"ID\" FROM \"TBL_PROCESSES\" WHERE \"REF_ID\" IN ('81d22f90-89fc-3f04-845e-97615867d8f9','c1827905-bfad-3fa1-b00b-1303f970ae92','cd177b7d-e908-3e69-b40c-4827b4abaa4d'))) \"sq0\" LEFT JOIN \"TBL_FLOWS\" ON \"TBL_FLOWS\".\"ID\"=\"sq0\".\"F_FLOW\" LEFT JOIN \"TBL_PROCESSES\" ON \"TBL_PROCESSES\".\"ID\"=\"sq0\".\"F_OWNER\" LEFT JOIN \"TBL_LOCATIONS\" ON CAST(\"TBL_PROCESSES\".\"F_LOCATION\" AS INT)=\"TBL_LOCATIONS\".\"ID\" LEFT JOIN \"TBL_UNITS\" ON \"TBL_UNITS\".\"ID\"=\"sq0\".\"F_UNIT\" LEFT JOIN \"TBL_CURRENCIES\" ON \"TBL_CURRENCIES\".\"ID\"=\"sq0\".\"F_CURRENCY\" WHERE \"TBL_FLOWS\".\"FlOW_TYPE\"='PRODUCT_FLOW'\n"
     ]
    },
    {
     "data": {
      "text/html": [
       "<div>\n",
       "<style scoped>\n",
       "    .dataframe tbody tr th:only-of-type {\n",
       "        vertical-align: middle;\n",
       "    }\n",
       "\n",
       "    .dataframe tbody tr th {\n",
       "        vertical-align: top;\n",
       "    }\n",
       "\n",
       "    .dataframe thead th {\n",
       "        text-align: right;\n",
       "    }\n",
       "</style>\n",
       "<table border=\"1\" class=\"dataframe\">\n",
       "  <thead>\n",
       "    <tr style=\"text-align: right;\">\n",
       "      <th></th>\n",
       "      <th>PROCESS_REF_ID</th>\n",
       "      <th>PROCESS_NAME</th>\n",
       "      <th>LOCATION</th>\n",
       "      <th>FLOW_REF_ID</th>\n",
       "      <th>FLOW_NAME</th>\n",
       "      <th>COST_VALUE</th>\n",
       "      <th>CURRENCY</th>\n",
       "      <th>UNITS</th>\n",
       "    </tr>\n",
       "  </thead>\n",
       "  <tbody>\n",
       "    <tr>\n",
       "      <th>0</th>\n",
       "      <td>81d22f90-89fc-3f04-845e-97615867d8f9</td>\n",
       "      <td>petroleum production, onshore | petroleum | AP...</td>\n",
       "      <td>Russian Federation</td>\n",
       "      <td>e6aad2de-0b1b-49c3-a0c4-797ba34d87e5</td>\n",
       "      <td>petroleum</td>\n",
       "      <td>0.192</td>\n",
       "      <td>Euro</td>\n",
       "      <td>kg</td>\n",
       "    </tr>\n",
       "    <tr>\n",
       "      <th>1</th>\n",
       "      <td>c1827905-bfad-3fa1-b00b-1303f970ae92</td>\n",
       "      <td>petroleum production, onshore | petroleum | AP...</td>\n",
       "      <td>Middle East</td>\n",
       "      <td>e6aad2de-0b1b-49c3-a0c4-797ba34d87e5</td>\n",
       "      <td>petroleum</td>\n",
       "      <td>0.192</td>\n",
       "      <td>Euro</td>\n",
       "      <td>kg</td>\n",
       "    </tr>\n",
       "    <tr>\n",
       "      <th>2</th>\n",
       "      <td>cd177b7d-e908-3e69-b40c-4827b4abaa4d</td>\n",
       "      <td>petroleum production, onshore | petroleum | AP...</td>\n",
       "      <td>Africa</td>\n",
       "      <td>e6aad2de-0b1b-49c3-a0c4-797ba34d87e5</td>\n",
       "      <td>petroleum</td>\n",
       "      <td>0.192</td>\n",
       "      <td>Euro</td>\n",
       "      <td>kg</td>\n",
       "    </tr>\n",
       "  </tbody>\n",
       "</table>\n",
       "</div>"
      ],
      "text/plain": [
       "                         PROCESS_REF_ID  \\\n",
       "0  81d22f90-89fc-3f04-845e-97615867d8f9   \n",
       "1  c1827905-bfad-3fa1-b00b-1303f970ae92   \n",
       "2  cd177b7d-e908-3e69-b40c-4827b4abaa4d   \n",
       "\n",
       "                                        PROCESS_NAME            LOCATION  \\\n",
       "0  petroleum production, onshore | petroleum | AP...  Russian Federation   \n",
       "1  petroleum production, onshore | petroleum | AP...         Middle East   \n",
       "2  petroleum production, onshore | petroleum | AP...              Africa   \n",
       "\n",
       "                            FLOW_REF_ID  FLOW_NAME  COST_VALUE CURRENCY UNITS  \n",
       "0  e6aad2de-0b1b-49c3-a0c4-797ba34d87e5  petroleum       0.192     Euro    kg  \n",
       "1  e6aad2de-0b1b-49c3-a0c4-797ba34d87e5  petroleum       0.192     Euro    kg  \n",
       "2  e6aad2de-0b1b-49c3-a0c4-797ba34d87e5  petroleum       0.192     Euro    kg  "
      ]
     },
     "execution_count": 3,
     "metadata": {},
     "output_type": "execute_result"
    }
   ],
   "source": [
    "production_ref_id = [\n",
    "    '81d22f90-89fc-3f04-845e-97615867d8f9',\n",
    "    'c1827905-bfad-3fa1-b00b-1303f970ae92',\n",
    "    'cd177b7d-e908-3e69-b40c-4827b4abaa4d'\n",
    "]\n",
    "dv.get_process_product_flow_costs(conn, process_ref_ids=production_ref_id)"
   ]
  },
  {
   "cell_type": "markdown",
   "metadata": {},
   "source": [
    "OpenLCA reports the cost is the same in each country so it would appear to be an assumption. The same pattern is seen for costs for other processes in openLCA when one looks across location.\n",
    "\n",
    "In openLCA there is only only one global transport process for petroleum by sea tanker. We obtain the transport process from the database below."
   ]
  },
  {
   "cell_type": "code",
   "execution_count": 4,
   "metadata": {},
   "outputs": [
    {
     "name": "stdout",
     "output_type": "stream",
     "text": [
      "SELECT \"TBL_PROCESSES\".\"ID\",\"TBL_PROCESSES\".\"REF_ID\",\"TBL_PROCESSES\".\"NAME\",\"TBL_PROCESSES\".\"PROCESS_TYPE\",\"TBL_LOCATIONS\".\"NAME\" \"LOCATION\",\"TBL_PROCESSES\".\"F_QUANTITATIVE_REFERENCE\" FROM \"TBL_PROCESSES\" LEFT JOIN \"TBL_LOCATIONS\" ON CAST(\"TBL_PROCESSES\".\"F_LOCATION\" AS INT)=\"TBL_LOCATIONS\".\"ID\" WHERE \"TBL_PROCESSES\".\"NAME\" LIKE 'transport, freight, sea, tanker for petroleum %'\n"
     ]
    },
    {
     "data": {
      "text/html": [
       "<div>\n",
       "<style scoped>\n",
       "    .dataframe tbody tr th:only-of-type {\n",
       "        vertical-align: middle;\n",
       "    }\n",
       "\n",
       "    .dataframe tbody tr th {\n",
       "        vertical-align: top;\n",
       "    }\n",
       "\n",
       "    .dataframe thead th {\n",
       "        text-align: right;\n",
       "    }\n",
       "</style>\n",
       "<table border=\"1\" class=\"dataframe\">\n",
       "  <thead>\n",
       "    <tr style=\"text-align: right;\">\n",
       "      <th></th>\n",
       "      <th>ID</th>\n",
       "      <th>REF_ID</th>\n",
       "      <th>NAME</th>\n",
       "      <th>PROCESS_TYPE</th>\n",
       "      <th>LOCATION</th>\n",
       "      <th>F_QUANTITATIVE_REFERENCE</th>\n",
       "    </tr>\n",
       "  </thead>\n",
       "  <tbody>\n",
       "    <tr>\n",
       "      <th>0</th>\n",
       "      <td>33780409</td>\n",
       "      <td>8d82d02e-f52f-41f9-aa10-ae607746b04e</td>\n",
       "      <td>transport, freight, sea, tanker for petroleum ...</td>\n",
       "      <td>LCI_RESULT</td>\n",
       "      <td>Global</td>\n",
       "      <td>33780411</td>\n",
       "    </tr>\n",
       "  </tbody>\n",
       "</table>\n",
       "</div>"
      ],
      "text/plain": [
       "         ID                                REF_ID  \\\n",
       "0  33780409  8d82d02e-f52f-41f9-aa10-ae607746b04e   \n",
       "\n",
       "                                                NAME PROCESS_TYPE LOCATION  \\\n",
       "0  transport, freight, sea, tanker for petroleum ...   LCI_RESULT   Global   \n",
       "\n",
       "   F_QUANTITATIVE_REFERENCE  \n",
       "0                  33780411  "
      ]
     },
     "execution_count": 4,
     "metadata": {},
     "output_type": "execute_result"
    }
   ],
   "source": [
    "oil_transport_dfr = dv.get_processes(conn, name=['transport, freight, sea, tanker for petroleum %'])\n",
    "oil_transport_dfr"
   ]
  },
  {
   "cell_type": "code",
   "execution_count": 5,
   "metadata": {},
   "outputs": [
    {
     "name": "stdout",
     "output_type": "stream",
     "text": [
      "SELECT \"TBL_PROCESSES\".\"REF_ID\" \"PROCESS_REF_ID\",\"TBL_PROCESSES\".\"NAME\" \"PROCESS_NAME\",\"TBL_LOCATIONS\".\"NAME\" \"LOCATION\",\"TBL_FLOWS\".\"REF_ID\" \"FLOW_REF_ID\",\"TBL_FLOWS\".\"NAME\" \"FLOW_NAME\",\"sq0\".\"COST_VALUE\",\"TBL_CURRENCIES\".\"NAME\" \"CURRENCY\",\"TBL_UNITS\".\"NAME\" \"UNITS\" FROM (SELECT \"F_OWNER\",\"COST_VALUE\",\"F_CURRENCY\",\"F_FLOW\",\"F_UNIT\",\"RESULTING_AMOUNT_VALUE\" FROM \"TBL_EXCHANGES\" WHERE \"F_OWNER\" IN (SELECT \"ID\" FROM \"TBL_PROCESSES\" WHERE \"REF_ID\" IN ('8d82d02e-f52f-41f9-aa10-ae607746b04e'))) \"sq0\" LEFT JOIN \"TBL_FLOWS\" ON \"TBL_FLOWS\".\"ID\"=\"sq0\".\"F_FLOW\" LEFT JOIN \"TBL_PROCESSES\" ON \"TBL_PROCESSES\".\"ID\"=\"sq0\".\"F_OWNER\" LEFT JOIN \"TBL_LOCATIONS\" ON CAST(\"TBL_PROCESSES\".\"F_LOCATION\" AS INT)=\"TBL_LOCATIONS\".\"ID\" LEFT JOIN \"TBL_UNITS\" ON \"TBL_UNITS\".\"ID\"=\"sq0\".\"F_UNIT\" LEFT JOIN \"TBL_CURRENCIES\" ON \"TBL_CURRENCIES\".\"ID\"=\"sq0\".\"F_CURRENCY\" WHERE \"TBL_FLOWS\".\"FlOW_TYPE\"='PRODUCT_FLOW'\n"
     ]
    },
    {
     "data": {
      "text/html": [
       "<div>\n",
       "<style scoped>\n",
       "    .dataframe tbody tr th:only-of-type {\n",
       "        vertical-align: middle;\n",
       "    }\n",
       "\n",
       "    .dataframe tbody tr th {\n",
       "        vertical-align: top;\n",
       "    }\n",
       "\n",
       "    .dataframe thead th {\n",
       "        text-align: right;\n",
       "    }\n",
       "</style>\n",
       "<table border=\"1\" class=\"dataframe\">\n",
       "  <thead>\n",
       "    <tr style=\"text-align: right;\">\n",
       "      <th></th>\n",
       "      <th>PROCESS_REF_ID</th>\n",
       "      <th>PROCESS_NAME</th>\n",
       "      <th>LOCATION</th>\n",
       "      <th>FLOW_REF_ID</th>\n",
       "      <th>FLOW_NAME</th>\n",
       "      <th>COST_VALUE</th>\n",
       "      <th>CURRENCY</th>\n",
       "      <th>UNITS</th>\n",
       "    </tr>\n",
       "  </thead>\n",
       "  <tbody>\n",
       "    <tr>\n",
       "      <th>0</th>\n",
       "      <td>8d82d02e-f52f-41f9-aa10-ae607746b04e</td>\n",
       "      <td>transport, freight, sea, tanker for petroleum ...</td>\n",
       "      <td>Global</td>\n",
       "      <td>774bc814-70cf-4389-8bf8-e6435174c72e</td>\n",
       "      <td>transport, freight, sea, tanker for petroleum</td>\n",
       "      <td>0.000314</td>\n",
       "      <td>Euro</td>\n",
       "      <td>t*km</td>\n",
       "    </tr>\n",
       "  </tbody>\n",
       "</table>\n",
       "</div>"
      ],
      "text/plain": [
       "                         PROCESS_REF_ID  \\\n",
       "0  8d82d02e-f52f-41f9-aa10-ae607746b04e   \n",
       "\n",
       "                                        PROCESS_NAME LOCATION  \\\n",
       "0  transport, freight, sea, tanker for petroleum ...   Global   \n",
       "\n",
       "                            FLOW_REF_ID  \\\n",
       "0  774bc814-70cf-4389-8bf8-e6435174c72e   \n",
       "\n",
       "                                       FLOW_NAME  COST_VALUE CURRENCY UNITS  \n",
       "0  transport, freight, sea, tanker for petroleum    0.000314     Euro  t*km  "
      ]
     },
     "execution_count": 5,
     "metadata": {},
     "output_type": "execute_result"
    }
   ],
   "source": [
    "transport_ref_id = [\n",
    "    '8d82d02e-f52f-41f9-aa10-ae607746b04e'\n",
    "]\n",
    "dv.get_process_product_flow_costs(conn, process_ref_ids=transport_ref_id)"
   ]
  },
  {
   "cell_type": "markdown",
   "metadata": {},
   "source": [
    "The optimal region is the Middle East, since the cost of production is the same according to openLCA in each region and the Middle East has the shortest distance to the refinery."
   ]
  },
  {
   "cell_type": "markdown",
   "metadata": {},
   "source": [
    "## Sets and Parameters"
   ]
  },
  {
   "cell_type": "markdown",
   "metadata": {},
   "source": [
    "In this section we build the sets and parameters for `mola`. First we load the specification."
   ]
  },
  {
   "cell_type": "code",
   "execution_count": 6,
   "metadata": {},
   "outputs": [],
   "source": [
    "import mola.specification5 as ms\n",
    "from importlib import reload\n",
    "spec = ms.ScheduleSpecification()"
   ]
  },
  {
   "cell_type": "markdown",
   "metadata": {},
   "source": [
    "Then we set up a configuration file for the sets."
   ]
  },
  {
   "cell_type": "code",
   "execution_count": 7,
   "metadata": {},
   "outputs": [
    {
     "name": "stdout",
     "output_type": "stream",
     "text": [
      "Model sets saved\n"
     ]
    },
    {
     "data": {
      "text/plain": [
       "{'F_m': ['e6aad2de-0b1b-49c3-a0c4-797ba34d87e5'],\n",
       " 'F_s': [],\n",
       " 'F_t': ['774bc814-70cf-4389-8bf8-e6435174c72e'],\n",
       " 'D': ['d1'],\n",
       " 'T': ['t1'],\n",
       " 'K': ['t1'],\n",
       " 'P_m': ['81d22f90-89fc-3f04-845e-97615867d8f9',\n",
       "  'c1827905-bfad-3fa1-b00b-1303f970ae92',\n",
       "  'cd177b7d-e908-3e69-b40c-4827b4abaa4d'],\n",
       " 'P_t': ['8d82d02e-f52f-41f9-aa10-ae607746b04e'],\n",
       " 'P_s': [],\n",
       " 'KPI': [],\n",
       " 'OBJ': ['environment', 'cost'],\n",
       " 'F': [],\n",
       " 'P': []}"
      ]
     },
     "execution_count": 7,
     "metadata": {},
     "output_type": "execute_result"
    }
   ],
   "source": [
    "import mola.input as mi\n",
    "cost_set_file_name = 'Configuration/cost_set_data.json'\n",
    "user_sets = mi.get_model_user_sets(spec, cost_set_file_name)\n",
    "user_sets"
   ]
  },
  {
   "cell_type": "code",
   "execution_count": 8,
   "metadata": {},
   "outputs": [],
   "source": [
    "import mola.dataview as dv\n",
    "import mola.dataimport as di\n",
    "import pandas as pd\n",
    "from pyomo.environ import *\n",
    "conn = di.get_sqlite_connection()\n",
    "lookup = dv.LookupTables(conn)"
   ]
  },
  {
   "cell_type": "markdown",
   "metadata": {},
   "source": [
    "We show a widget that loads and saves the user configuration of sets in a tabbed interface. Existing user configuration data is loaded if there is saved model data file."
   ]
  },
  {
   "cell_type": "code",
   "execution_count": 9,
   "metadata": {},
   "outputs": [
    {
     "data": {
      "application/vnd.jupyter.widget-view+json": {
       "model_id": "6c6c55ae435a4437ad4eb221561d3ef9",
       "version_major": 2,
       "version_minor": 0
      },
      "text/plain": [
       "VBox(children=(Button(description='Save configuration', style=ButtonStyle()), Tab(children=(AppLayout(children…"
      ]
     },
     "metadata": {},
     "output_type": "display_data"
    }
   ],
   "source": [
    "import mola.widgets as mw\n",
    "lookups = {'F_m': lookup.get('flows'), 'P_m': lookup.get('processes'), 'F_t': lookup.get('flows'), \n",
    "           'P_t': lookup.get('processes'), 'F_s': lookup.get('flows'), \n",
    "           'P_s': lookup.get('processes'), 'KPI': lookup.get('KPI')}\n",
    "vbox, tab = mw.get_sets(spec, lookups, cost_set_file_name)\n",
    "vbox"
   ]
  },
  {
   "cell_type": "markdown",
   "metadata": {},
   "source": [
    "Below, we load the sets defined from the JSON file and incorporate any non-user defined sets."
   ]
  },
  {
   "cell_type": "code",
   "execution_count": 10,
   "metadata": {},
   "outputs": [
    {
     "name": "stdout",
     "output_type": "stream",
     "text": [
      "Model sets saved\n"
     ]
    },
    {
     "data": {
      "text/plain": [
       "{'F_m': ['e6aad2de-0b1b-49c3-a0c4-797ba34d87e5'],\n",
       " 'F_s': [],\n",
       " 'F_t': ['774bc814-70cf-4389-8bf8-e6435174c72e'],\n",
       " 'D': ['d1'],\n",
       " 'T': ['t1'],\n",
       " 'K': ['t1'],\n",
       " 'P_m': ['81d22f90-89fc-3f04-845e-97615867d8f9',\n",
       "  'c1827905-bfad-3fa1-b00b-1303f970ae92',\n",
       "  'cd177b7d-e908-3e69-b40c-4827b4abaa4d'],\n",
       " 'P_t': ['8d82d02e-f52f-41f9-aa10-ae607746b04e'],\n",
       " 'P_s': [],\n",
       " 'KPI': [],\n",
       " 'OBJ': ['environment', 'cost'],\n",
       " 'F': [],\n",
       " 'P': []}"
      ]
     },
     "execution_count": 10,
     "metadata": {},
     "output_type": "execute_result"
    }
   ],
   "source": [
    "set_data = mi.get_model_user_sets(spec, cost_set_file_name)\n",
    "set_data"
   ]
  },
  {
   "cell_type": "markdown",
   "metadata": {},
   "source": [
    "The parameters are defined using the widget below."
   ]
  },
  {
   "cell_type": "code",
   "execution_count": 11,
   "metadata": {},
   "outputs": [
    {
     "data": {
      "application/vnd.jupyter.widget-view+json": {
       "model_id": "d1c59ed227f8494ba531eeb4b1650922",
       "version_major": 2,
       "version_minor": 0
      },
      "text/plain": [
       "VBox(children=(Box(children=(Button(description='Save configuration', style=ButtonStyle()),)), QgridWidget(gri…"
      ]
     },
     "metadata": {},
     "output_type": "display_data"
    }
   ],
   "source": [
    "import qgrid\n",
    "cost_parameters_file_name = 'Configuration/cost_parameters_data.json'\n",
    "param_dfr, param_dict = mi.get_model_user_parameters(spec, set_data, cost_parameters_file_name)\n",
    "mw.get_parameters(param_dfr, cost_parameters_file_name)"
   ]
  },
  {
   "cell_type": "markdown",
   "metadata": {},
   "source": [
    "## Model build\n",
    "\n",
    "To build the model we need to retrieve the cost of each flow from the database. This is done using the `populate` method\n",
    "of the `Specification` object."
   ]
  },
  {
   "cell_type": "code",
   "execution_count": 12,
   "metadata": {},
   "outputs": [
    {
     "name": "stdout",
     "output_type": "stream",
     "text": [
      "ERROR: Constructing component 'UM' from\n",
      "    data={'81d22f90-89fc-3f04-845e-97615867d8f9': 'kg',\n",
      "    'c1827905-bfad-3fa1-b00b-1303f970ae92': 'kg',\n",
      "    'cd177b7d-e908-3e69-b40c-4827b4abaa4d': 'kg'} failed:\n",
      "        RuntimeError: Failed to set value for param=UM,\n",
      "        index=81d22f90-89fc-3f04-845e-97615867d8f9, value=kg.\n",
      "    \tsource error message=\"Index '81d22f90-89fc-3f04-845e-97615867d8f9' is not\n",
      "    \tvalid for indexed component 'UM'\"\n"
     ]
    },
    {
     "ename": "RuntimeError",
     "evalue": "Failed to set value for param=UM, index=81d22f90-89fc-3f04-845e-97615867d8f9, value=kg.\n\tsource error message=\"Index '81d22f90-89fc-3f04-845e-97615867d8f9' is not valid for indexed component 'UM'\"",
     "output_type": "error",
     "traceback": [
      "\u001b[0;31m---------------------------------------------------------------------------\u001b[0m",
      "\u001b[0;31mKeyError\u001b[0m                                  Traceback (most recent call last)",
      "\u001b[0;32m~/anaconda3/envs/LCA/lib/python3.7/site-packages/pyomo/core/base/param.py\u001b[0m in \u001b[0;36mconstruct\u001b[0;34m(self, data)\u001b[0m\n\u001b[1;32m    907\u001b[0m                     self._setitem_when_not_present(\n\u001b[0;32m--> 908\u001b[0;31m                         self._validate_index(key), val)\n\u001b[0m\u001b[1;32m    909\u001b[0m             \u001b[0;32mexcept\u001b[0m \u001b[0mException\u001b[0m\u001b[0;34m:\u001b[0m\u001b[0;34m\u001b[0m\u001b[0;34m\u001b[0m\u001b[0m\n",
      "\u001b[0;32m~/anaconda3/envs/LCA/lib/python3.7/site-packages/pyomo/core/base/indexed_component.py\u001b[0m in \u001b[0;36m_validate_index\u001b[0;34m(self, idx)\u001b[0m\n\u001b[1;32m    562\u001b[0m             \u001b[0;34m\"Index '%s' is not valid for indexed component '%s'\"\u001b[0m\u001b[0;34m\u001b[0m\u001b[0;34m\u001b[0m\u001b[0m\n\u001b[0;32m--> 563\u001b[0;31m             % ( idx, self.name, ))\n\u001b[0m\u001b[1;32m    564\u001b[0m \u001b[0;34m\u001b[0m\u001b[0m\n",
      "\u001b[0;31mKeyError\u001b[0m: \"Index '81d22f90-89fc-3f04-845e-97615867d8f9' is not valid for indexed component 'UM'\"",
      "\nDuring handling of the above exception, another exception occurred:\n",
      "\u001b[0;31mRuntimeError\u001b[0m                              Traceback (most recent call last)",
      "\u001b[0;32m<ipython-input-12-94d0c4c99863>\u001b[0m in \u001b[0;36m<module>\u001b[0;34m\u001b[0m\n\u001b[1;32m      1\u001b[0m \u001b[0mjson_files\u001b[0m \u001b[0;34m=\u001b[0m \u001b[0;34m[\u001b[0m\u001b[0mcost_set_file_name\u001b[0m\u001b[0;34m,\u001b[0m \u001b[0mcost_parameters_file_name\u001b[0m\u001b[0;34m]\u001b[0m\u001b[0;34m\u001b[0m\u001b[0;34m\u001b[0m\u001b[0m\n\u001b[0;32m----> 2\u001b[0;31m \u001b[0mmodel_instance\u001b[0m \u001b[0;34m=\u001b[0m \u001b[0mspec\u001b[0m\u001b[0;34m.\u001b[0m\u001b[0mpopulate\u001b[0m\u001b[0;34m(\u001b[0m\u001b[0mjson_files\u001b[0m\u001b[0;34m)\u001b[0m\u001b[0;34m\u001b[0m\u001b[0;34m\u001b[0m\u001b[0m\n\u001b[0m",
      "\u001b[0;32m/mnt/disk1/work/code/Python/LCA/notebooks/mola/specification5.py\u001b[0m in \u001b[0;36mpopulate\u001b[0;34m(self, json_files, elementary_flow_ref_ids, db_file)\u001b[0m\n\u001b[1;32m    609\u001b[0m \u001b[0;34m\u001b[0m\u001b[0m\n\u001b[1;32m    610\u001b[0m         \u001b[0;31m# use DataPortal to build concrete instance\u001b[0m\u001b[0;34m\u001b[0m\u001b[0;34m\u001b[0m\u001b[0;34m\u001b[0m\u001b[0m\n\u001b[0;32m--> 611\u001b[0;31m         \u001b[0mmodel_instance\u001b[0m \u001b[0;34m=\u001b[0m \u001b[0mself\u001b[0m\u001b[0;34m.\u001b[0m\u001b[0mabstract_model\u001b[0m\u001b[0;34m.\u001b[0m\u001b[0mcreate_instance\u001b[0m\u001b[0;34m(\u001b[0m\u001b[0molca_dp\u001b[0m\u001b[0;34m)\u001b[0m\u001b[0;34m\u001b[0m\u001b[0;34m\u001b[0m\u001b[0m\n\u001b[0m\u001b[1;32m    612\u001b[0m \u001b[0;34m\u001b[0m\u001b[0m\n\u001b[1;32m    613\u001b[0m         \u001b[0;32mreturn\u001b[0m \u001b[0mmodel_instance\u001b[0m\u001b[0;34m\u001b[0m\u001b[0;34m\u001b[0m\u001b[0m\n",
      "\u001b[0;32m~/anaconda3/envs/LCA/lib/python3.7/site-packages/pyomo/core/base/PyomoModel.py\u001b[0m in \u001b[0;36mcreate_instance\u001b[0;34m(self, filename, data, name, namespace, namespaces, profile_memory, report_timing, **kwds)\u001b[0m\n\u001b[1;32m    722\u001b[0m         instance.load( data,\n\u001b[1;32m    723\u001b[0m                        \u001b[0mnamespaces\u001b[0m\u001b[0;34m=\u001b[0m\u001b[0m_namespaces\u001b[0m\u001b[0;34m,\u001b[0m\u001b[0;34m\u001b[0m\u001b[0;34m\u001b[0m\u001b[0m\n\u001b[0;32m--> 724\u001b[0;31m                        profile_memory=profile_memory )\n\u001b[0m\u001b[1;32m    725\u001b[0m \u001b[0;34m\u001b[0m\u001b[0m\n\u001b[1;32m    726\u001b[0m         \u001b[0;31m#\u001b[0m\u001b[0;34m\u001b[0m\u001b[0;34m\u001b[0m\u001b[0;34m\u001b[0m\u001b[0m\n",
      "\u001b[0;32m~/anaconda3/envs/LCA/lib/python3.7/site-packages/pyomo/core/base/PyomoModel.py\u001b[0m in \u001b[0;36mload\u001b[0;34m(self, arg, namespaces, profile_memory, report_timing)\u001b[0m\n\u001b[1;32m    779\u001b[0m         self._load_model_data(dp,\n\u001b[1;32m    780\u001b[0m                               \u001b[0mnamespaces\u001b[0m\u001b[0;34m,\u001b[0m\u001b[0;34m\u001b[0m\u001b[0;34m\u001b[0m\u001b[0m\n\u001b[0;32m--> 781\u001b[0;31m                               profile_memory=profile_memory)\n\u001b[0m\u001b[1;32m    782\u001b[0m \u001b[0;34m\u001b[0m\u001b[0m\n\u001b[1;32m    783\u001b[0m \u001b[0;34m\u001b[0m\u001b[0m\n",
      "\u001b[0;32m~/anaconda3/envs/LCA/lib/python3.7/site-packages/pyomo/core/base/PyomoModel.py\u001b[0m in \u001b[0;36m_load_model_data\u001b[0;34m(self, modeldata, namespaces, **kwds)\u001b[0m\n\u001b[1;32m    830\u001b[0m                     \u001b[0;32mcontinue\u001b[0m\u001b[0;34m\u001b[0m\u001b[0;34m\u001b[0m\u001b[0m\n\u001b[1;32m    831\u001b[0m \u001b[0;34m\u001b[0m\u001b[0m\n\u001b[0;32m--> 832\u001b[0;31m                 \u001b[0mself\u001b[0m\u001b[0;34m.\u001b[0m\u001b[0m_initialize_component\u001b[0m\u001b[0;34m(\u001b[0m\u001b[0mmodeldata\u001b[0m\u001b[0;34m,\u001b[0m \u001b[0mnamespaces\u001b[0m\u001b[0;34m,\u001b[0m \u001b[0mcomponent_name\u001b[0m\u001b[0;34m,\u001b[0m \u001b[0mprofile_memory\u001b[0m\u001b[0;34m)\u001b[0m\u001b[0;34m\u001b[0m\u001b[0;34m\u001b[0m\u001b[0m\n\u001b[0m\u001b[1;32m    833\u001b[0m                 \u001b[0;32mif\u001b[0m \u001b[0;32mFalse\u001b[0m\u001b[0;34m:\u001b[0m\u001b[0;34m\u001b[0m\u001b[0;34m\u001b[0m\u001b[0m\n\u001b[1;32m    834\u001b[0m                     \u001b[0mtotal_time\u001b[0m \u001b[0;34m=\u001b[0m \u001b[0mtime\u001b[0m\u001b[0;34m.\u001b[0m\u001b[0mtime\u001b[0m\u001b[0;34m(\u001b[0m\u001b[0;34m)\u001b[0m \u001b[0;34m-\u001b[0m \u001b[0mstart_time\u001b[0m\u001b[0;34m\u001b[0m\u001b[0;34m\u001b[0m\u001b[0m\n",
      "\u001b[0;32m~/anaconda3/envs/LCA/lib/python3.7/site-packages/pyomo/core/base/PyomoModel.py\u001b[0m in \u001b[0;36m_initialize_component\u001b[0;34m(self, modeldata, namespaces, component_name, profile_memory)\u001b[0m\n\u001b[1;32m    881\u001b[0m                           declaration.name, _blockName, str(data) )\n\u001b[1;32m    882\u001b[0m         \u001b[0;32mtry\u001b[0m\u001b[0;34m:\u001b[0m\u001b[0;34m\u001b[0m\u001b[0;34m\u001b[0m\u001b[0m\n\u001b[0;32m--> 883\u001b[0;31m             \u001b[0mdeclaration\u001b[0m\u001b[0;34m.\u001b[0m\u001b[0mconstruct\u001b[0m\u001b[0;34m(\u001b[0m\u001b[0mdata\u001b[0m\u001b[0;34m)\u001b[0m\u001b[0;34m\u001b[0m\u001b[0;34m\u001b[0m\u001b[0m\n\u001b[0m\u001b[1;32m    884\u001b[0m         \u001b[0;32mexcept\u001b[0m\u001b[0;34m:\u001b[0m\u001b[0;34m\u001b[0m\u001b[0;34m\u001b[0m\u001b[0m\n\u001b[1;32m    885\u001b[0m             \u001b[0merr\u001b[0m \u001b[0;34m=\u001b[0m \u001b[0msys\u001b[0m\u001b[0;34m.\u001b[0m\u001b[0mexc_info\u001b[0m\u001b[0;34m(\u001b[0m\u001b[0;34m)\u001b[0m\u001b[0;34m[\u001b[0m\u001b[0;36m1\u001b[0m\u001b[0;34m]\u001b[0m\u001b[0;34m\u001b[0m\u001b[0;34m\u001b[0m\u001b[0m\n",
      "\u001b[0;32m~/anaconda3/envs/LCA/lib/python3.7/site-packages/pyomo/core/base/param.py\u001b[0m in \u001b[0;36mconstruct\u001b[0;34m(self, data)\u001b[0m\n\u001b[1;32m    918\u001b[0m                         \u001b[0;34m\"Failed to set value for param=%s, index=%s, value=%s.\"\u001b[0m\u001b[0;34m\u001b[0m\u001b[0;34m\u001b[0m\u001b[0m\n\u001b[1;32m    919\u001b[0m                         \u001b[0;34m\"\\n\\tsource error message=%s\"\u001b[0m\u001b[0;34m\u001b[0m\u001b[0;34m\u001b[0m\u001b[0m\n\u001b[0;32m--> 920\u001b[0;31m                         % (self.name, str(key), str(val), str(msg)) )\n\u001b[0m\u001b[1;32m    921\u001b[0m         \u001b[0;31m#\u001b[0m\u001b[0;34m\u001b[0m\u001b[0;34m\u001b[0m\u001b[0;34m\u001b[0m\u001b[0m\n\u001b[1;32m    922\u001b[0m         \u001b[0;31m# Flag that things are fully constructed now (and changing an\u001b[0m\u001b[0;34m\u001b[0m\u001b[0;34m\u001b[0m\u001b[0;34m\u001b[0m\u001b[0m\n",
      "\u001b[0;31mRuntimeError\u001b[0m: Failed to set value for param=UM, index=81d22f90-89fc-3f04-845e-97615867d8f9, value=kg.\n\tsource error message=\"Index '81d22f90-89fc-3f04-845e-97615867d8f9' is not valid for indexed component 'UM'\""
     ]
    }
   ],
   "source": [
    "json_files = [cost_set_file_name, cost_parameters_file_name]\n",
    "model_instance = spec.populate(json_files)"
   ]
  },
  {
   "cell_type": "markdown",
   "metadata": {},
   "source": [
    "We can see that the cost data for the product flows has been loaded from the openLCA database."
   ]
  },
  {
   "cell_type": "code",
   "execution_count": null,
   "metadata": {},
   "outputs": [],
   "source": [
    "model_instance.phi.pprint()"
   ]
  },
  {
   "cell_type": "markdown",
   "metadata": {},
   "source": [
    "# Solution\n",
    "\n",
    "We deactivate environment and combined objectives."
   ]
  },
  {
   "cell_type": "code",
   "execution_count": null,
   "metadata": {},
   "outputs": [],
   "source": [
    "model_instance.obj1.deactivate()\n",
    "model_instance.obj2.activate()\n",
    "model_instance.obj.deactivate()"
   ]
  },
  {
   "cell_type": "code",
   "execution_count": null,
   "metadata": {},
   "outputs": [],
   "source": [
    "opt = SolverFactory(\"glpk\")\n",
    "results = opt.solve(model_instance)\n",
    "results.write()"
   ]
  },
  {
   "cell_type": "code",
   "execution_count": null,
   "metadata": {},
   "outputs": [],
   "source": [
    "import mola.output as mo\n",
    "pd.set_option('display.max_colwidth', 1000)\n",
    "mo.get_entity(model_instance.Flow, lookup, drop=True, units=['P_m'])"
   ]
  },
  {
   "cell_type": "code",
   "execution_count": null,
   "metadata": {},
   "outputs": [],
   "source": [
    "mo.get_entity(model_instance.Specific_Material_Transport_Flow, lookup, drop=True, units=['P_m'])"
   ]
  },
  {
   "cell_type": "code",
   "execution_count": null,
   "metadata": {},
   "outputs": [],
   "source": [
    "mo.get_entity(model_instance.Specific_Transport_Flow, lookup, drop=True, units=['P_t'])"
   ]
  }
 ],
 "metadata": {
  "kernelspec": {
   "display_name": "Python 3",
   "language": "python",
   "name": "python3"
  },
  "language_info": {
   "codemirror_mode": {
    "name": "ipython",
    "version": 3
   },
   "file_extension": ".py",
   "mimetype": "text/x-python",
   "name": "python",
   "nbconvert_exporter": "python",
   "pygments_lexer": "ipython3",
   "version": "3.7.9"
  },
  "toc": {
   "base_numbering": 1,
   "nav_menu": {},
   "number_sections": true,
   "sideBar": true,
   "skip_h1_title": false,
   "title_cell": "Table of Contents",
   "title_sidebar": "Contents",
   "toc_cell": false,
   "toc_position": {
    "height": "calc(100% - 180px)",
    "left": "10px",
    "top": "150px",
    "width": "284.438px"
   },
   "toc_section_display": true,
   "toc_window_display": true
  },
  "varInspector": {
   "cols": {
    "lenName": 16,
    "lenType": 16,
    "lenVar": 40
   },
   "kernels_config": {
    "python": {
     "delete_cmd_postfix": "",
     "delete_cmd_prefix": "del ",
     "library": "var_list.py",
     "varRefreshCmd": "print(var_dic_list())"
    },
    "r": {
     "delete_cmd_postfix": ") ",
     "delete_cmd_prefix": "rm(",
     "library": "var_list.r",
     "varRefreshCmd": "cat(var_dic_list()) "
    }
   },
   "types_to_exclude": [
    "module",
    "function",
    "builtin_function_or_method",
    "instance",
    "_Feature"
   ],
   "window_display": false
  }
 },
 "nbformat": 4,
 "nbformat_minor": 4
}
