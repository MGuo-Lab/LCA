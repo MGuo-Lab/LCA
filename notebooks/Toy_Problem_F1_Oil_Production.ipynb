{
 "cells": [
  {
   "cell_type": "markdown",
   "metadata": {},
   "source": [
    "# Oil Production Toy Problems\n",
    "\n",
    "These problems illustrate the use of oil production cost data in the openLCA database and the construction of more complex optimisation problems using openLCA data.\n",
    "\n",
    "# Problem Statement\n",
    "\n",
    "An oil company wishes to find the cheapest region to extract 10000 tonnes of crude oil from onshore oil plants in the Middle East, Russia or Africa and then transport the oil to a nearby refinery by sea tanker. The distance from the extraction site to the refinery in each region is given in the table below.\n",
    "\n",
    "Region | Distance / km\n",
    "-- | --\n",
    "Middle East | 200\n",
    "Russia | 600\n",
    "Africa | 400\n",
    "\n",
    "## Assumptions\n",
    "\n",
    "* We ignore the environmental impact of extraction, transport and building the refinery.\n",
    "* We ignore the cost of building the refinery."
   ]
  },
  {
   "cell_type": "markdown",
   "metadata": {},
   "source": [
    "# Analysis"
   ]
  },
  {
   "cell_type": "markdown",
   "metadata": {},
   "source": [
    "First we find the three crude oil production processes in the openLCA database."
   ]
  },
  {
   "cell_type": "code",
   "execution_count": 1,
   "metadata": {},
   "outputs": [],
   "source": [
    "import mola\n",
    "import mola.dataimport as di\n",
    "import mola.dataview as dv\n",
    "conn = di.get_sqlite_connection()\n",
    "mola.set_option('show.SQL', False)"
   ]
  },
  {
   "cell_type": "code",
   "execution_count": 2,
   "metadata": {},
   "outputs": [
    {
     "name": "stdout",
     "output_type": "stream",
     "text": [
      "SELECT \"TBL_PROCESSES\".\"ID\",\"TBL_PROCESSES\".\"REF_ID\",\"TBL_PROCESSES\".\"NAME\",\"TBL_PROCESSES\".\"PROCESS_TYPE\",\"TBL_LOCATIONS\".\"NAME\" \"LOCATION\",\"TBL_PROCESSES\".\"F_QUANTITATIVE_REFERENCE\" FROM \"TBL_PROCESSES\" LEFT JOIN \"TBL_LOCATIONS\" ON CAST(\"TBL_PROCESSES\".\"F_LOCATION\" AS INT)=\"TBL_LOCATIONS\".\"ID\" WHERE \"TBL_PROCESSES\".\"NAME\" LIKE 'petroleum production, onshore%'\n"
     ]
    },
    {
     "data": {
      "text/html": [
       "<div>\n",
       "<style scoped>\n",
       "    .dataframe tbody tr th:only-of-type {\n",
       "        vertical-align: middle;\n",
       "    }\n",
       "\n",
       "    .dataframe tbody tr th {\n",
       "        vertical-align: top;\n",
       "    }\n",
       "\n",
       "    .dataframe thead th {\n",
       "        text-align: right;\n",
       "    }\n",
       "</style>\n",
       "<table border=\"1\" class=\"dataframe\">\n",
       "  <thead>\n",
       "    <tr style=\"text-align: right;\">\n",
       "      <th></th>\n",
       "      <th>ID</th>\n",
       "      <th>REF_ID</th>\n",
       "      <th>NAME</th>\n",
       "      <th>PROCESS_TYPE</th>\n",
       "      <th>LOCATION</th>\n",
       "      <th>F_QUANTITATIVE_REFERENCE</th>\n",
       "    </tr>\n",
       "  </thead>\n",
       "  <tbody>\n",
       "    <tr>\n",
       "      <th>0</th>\n",
       "      <td>7076520</td>\n",
       "      <td>81d22f90-89fc-3f04-845e-97615867d8f9</td>\n",
       "      <td>petroleum production, onshore | petroleum | AP...</td>\n",
       "      <td>LCI_RESULT</td>\n",
       "      <td>Russian Federation</td>\n",
       "      <td>7076522</td>\n",
       "    </tr>\n",
       "    <tr>\n",
       "      <th>1</th>\n",
       "      <td>10012499</td>\n",
       "      <td>2c08823a-4575-30ba-bf61-36e2fd4d56e6</td>\n",
       "      <td>petroleum production, onshore | petroleum | AP...</td>\n",
       "      <td>LCI_RESULT</td>\n",
       "      <td>Rest-of-World</td>\n",
       "      <td>10012501</td>\n",
       "    </tr>\n",
       "    <tr>\n",
       "      <th>2</th>\n",
       "      <td>15742513</td>\n",
       "      <td>c1827905-bfad-3fa1-b00b-1303f970ae92</td>\n",
       "      <td>petroleum production, onshore | petroleum | AP...</td>\n",
       "      <td>LCI_RESULT</td>\n",
       "      <td>Middle East</td>\n",
       "      <td>15742515</td>\n",
       "    </tr>\n",
       "    <tr>\n",
       "      <th>3</th>\n",
       "      <td>29432025</td>\n",
       "      <td>cd177b7d-e908-3e69-b40c-4827b4abaa4d</td>\n",
       "      <td>petroleum production, onshore | petroleum | AP...</td>\n",
       "      <td>LCI_RESULT</td>\n",
       "      <td>Africa</td>\n",
       "      <td>29432027</td>\n",
       "    </tr>\n",
       "  </tbody>\n",
       "</table>\n",
       "</div>"
      ],
      "text/plain": [
       "         ID                                REF_ID  \\\n",
       "0   7076520  81d22f90-89fc-3f04-845e-97615867d8f9   \n",
       "1  10012499  2c08823a-4575-30ba-bf61-36e2fd4d56e6   \n",
       "2  15742513  c1827905-bfad-3fa1-b00b-1303f970ae92   \n",
       "3  29432025  cd177b7d-e908-3e69-b40c-4827b4abaa4d   \n",
       "\n",
       "                                                NAME PROCESS_TYPE  \\\n",
       "0  petroleum production, onshore | petroleum | AP...   LCI_RESULT   \n",
       "1  petroleum production, onshore | petroleum | AP...   LCI_RESULT   \n",
       "2  petroleum production, onshore | petroleum | AP...   LCI_RESULT   \n",
       "3  petroleum production, onshore | petroleum | AP...   LCI_RESULT   \n",
       "\n",
       "             LOCATION  F_QUANTITATIVE_REFERENCE  \n",
       "0  Russian Federation                   7076522  \n",
       "1       Rest-of-World                  10012501  \n",
       "2         Middle East                  15742515  \n",
       "3              Africa                  29432027  "
      ]
     },
     "execution_count": 2,
     "metadata": {},
     "output_type": "execute_result"
    }
   ],
   "source": [
    "oil_production_dfr = dv.get_processes(conn, name=['petroleum production, onshore%'])\n",
    "oil_production_dfr"
   ]
  },
  {
   "cell_type": "markdown",
   "metadata": {},
   "source": [
    "We can explicitly find the cost of producing oil at the three locations using the following `mola` function."
   ]
  },
  {
   "cell_type": "code",
   "execution_count": 3,
   "metadata": {},
   "outputs": [
    {
     "data": {
      "text/html": [
       "<div>\n",
       "<style scoped>\n",
       "    .dataframe tbody tr th:only-of-type {\n",
       "        vertical-align: middle;\n",
       "    }\n",
       "\n",
       "    .dataframe tbody tr th {\n",
       "        vertical-align: top;\n",
       "    }\n",
       "\n",
       "    .dataframe thead th {\n",
       "        text-align: right;\n",
       "    }\n",
       "</style>\n",
       "<table border=\"1\" class=\"dataframe\">\n",
       "  <thead>\n",
       "    <tr style=\"text-align: right;\">\n",
       "      <th></th>\n",
       "      <th>PROCESS_REF_ID</th>\n",
       "      <th>PROCESS_NAME</th>\n",
       "      <th>LOCATION</th>\n",
       "      <th>FLOW_REF_ID</th>\n",
       "      <th>FLOW_NAME</th>\n",
       "      <th>COST_VALUE</th>\n",
       "      <th>CURRENCY</th>\n",
       "      <th>UNITS</th>\n",
       "    </tr>\n",
       "  </thead>\n",
       "  <tbody>\n",
       "    <tr>\n",
       "      <th>0</th>\n",
       "      <td>81d22f90-89fc-3f04-845e-97615867d8f9</td>\n",
       "      <td>petroleum production, onshore | petroleum | AP...</td>\n",
       "      <td>Russian Federation</td>\n",
       "      <td>e6aad2de-0b1b-49c3-a0c4-797ba34d87e5</td>\n",
       "      <td>petroleum</td>\n",
       "      <td>0.192</td>\n",
       "      <td>Euro</td>\n",
       "      <td>kg</td>\n",
       "    </tr>\n",
       "    <tr>\n",
       "      <th>1</th>\n",
       "      <td>c1827905-bfad-3fa1-b00b-1303f970ae92</td>\n",
       "      <td>petroleum production, onshore | petroleum | AP...</td>\n",
       "      <td>Middle East</td>\n",
       "      <td>e6aad2de-0b1b-49c3-a0c4-797ba34d87e5</td>\n",
       "      <td>petroleum</td>\n",
       "      <td>0.192</td>\n",
       "      <td>Euro</td>\n",
       "      <td>kg</td>\n",
       "    </tr>\n",
       "    <tr>\n",
       "      <th>2</th>\n",
       "      <td>cd177b7d-e908-3e69-b40c-4827b4abaa4d</td>\n",
       "      <td>petroleum production, onshore | petroleum | AP...</td>\n",
       "      <td>Africa</td>\n",
       "      <td>e6aad2de-0b1b-49c3-a0c4-797ba34d87e5</td>\n",
       "      <td>petroleum</td>\n",
       "      <td>0.192</td>\n",
       "      <td>Euro</td>\n",
       "      <td>kg</td>\n",
       "    </tr>\n",
       "  </tbody>\n",
       "</table>\n",
       "</div>"
      ],
      "text/plain": [
       "                         PROCESS_REF_ID  \\\n",
       "0  81d22f90-89fc-3f04-845e-97615867d8f9   \n",
       "1  c1827905-bfad-3fa1-b00b-1303f970ae92   \n",
       "2  cd177b7d-e908-3e69-b40c-4827b4abaa4d   \n",
       "\n",
       "                                        PROCESS_NAME            LOCATION  \\\n",
       "0  petroleum production, onshore | petroleum | AP...  Russian Federation   \n",
       "1  petroleum production, onshore | petroleum | AP...         Middle East   \n",
       "2  petroleum production, onshore | petroleum | AP...              Africa   \n",
       "\n",
       "                            FLOW_REF_ID  FLOW_NAME  COST_VALUE CURRENCY UNITS  \n",
       "0  e6aad2de-0b1b-49c3-a0c4-797ba34d87e5  petroleum       0.192     Euro    kg  \n",
       "1  e6aad2de-0b1b-49c3-a0c4-797ba34d87e5  petroleum       0.192     Euro    kg  \n",
       "2  e6aad2de-0b1b-49c3-a0c4-797ba34d87e5  petroleum       0.192     Euro    kg  "
      ]
     },
     "execution_count": 3,
     "metadata": {},
     "output_type": "execute_result"
    }
   ],
   "source": [
    "production_ref_id = [\n",
    "    '81d22f90-89fc-3f04-845e-97615867d8f9',\n",
    "    'c1827905-bfad-3fa1-b00b-1303f970ae92',\n",
    "    'cd177b7d-e908-3e69-b40c-4827b4abaa4d'\n",
    "]\n",
    "dv.get_process_product_flow_costs(conn, process_ref_ids=production_ref_id)"
   ]
  },
  {
   "cell_type": "markdown",
   "metadata": {},
   "source": [
    "OpenLCA reports the cost is the same in each country so it would appear to be an assumption. The same pattern is seen for costs for other processes in openLCA when one looks across location.\n",
    "\n",
    "In openLCA there is only only one global transport process for petroleum by sea tanker. We obtain the transport process from the database below."
   ]
  },
  {
   "cell_type": "code",
   "execution_count": 4,
   "metadata": {},
   "outputs": [
    {
     "name": "stdout",
     "output_type": "stream",
     "text": [
      "SELECT \"TBL_PROCESSES\".\"ID\",\"TBL_PROCESSES\".\"REF_ID\",\"TBL_PROCESSES\".\"NAME\",\"TBL_PROCESSES\".\"PROCESS_TYPE\",\"TBL_LOCATIONS\".\"NAME\" \"LOCATION\",\"TBL_PROCESSES\".\"F_QUANTITATIVE_REFERENCE\" FROM \"TBL_PROCESSES\" LEFT JOIN \"TBL_LOCATIONS\" ON CAST(\"TBL_PROCESSES\".\"F_LOCATION\" AS INT)=\"TBL_LOCATIONS\".\"ID\" WHERE \"TBL_PROCESSES\".\"NAME\" LIKE 'transport, freight, sea, tanker for petroleum %'\n"
     ]
    },
    {
     "data": {
      "text/html": [
       "<div>\n",
       "<style scoped>\n",
       "    .dataframe tbody tr th:only-of-type {\n",
       "        vertical-align: middle;\n",
       "    }\n",
       "\n",
       "    .dataframe tbody tr th {\n",
       "        vertical-align: top;\n",
       "    }\n",
       "\n",
       "    .dataframe thead th {\n",
       "        text-align: right;\n",
       "    }\n",
       "</style>\n",
       "<table border=\"1\" class=\"dataframe\">\n",
       "  <thead>\n",
       "    <tr style=\"text-align: right;\">\n",
       "      <th></th>\n",
       "      <th>ID</th>\n",
       "      <th>REF_ID</th>\n",
       "      <th>NAME</th>\n",
       "      <th>PROCESS_TYPE</th>\n",
       "      <th>LOCATION</th>\n",
       "      <th>F_QUANTITATIVE_REFERENCE</th>\n",
       "    </tr>\n",
       "  </thead>\n",
       "  <tbody>\n",
       "    <tr>\n",
       "      <th>0</th>\n",
       "      <td>33780409</td>\n",
       "      <td>8d82d02e-f52f-41f9-aa10-ae607746b04e</td>\n",
       "      <td>transport, freight, sea, tanker for petroleum ...</td>\n",
       "      <td>LCI_RESULT</td>\n",
       "      <td>Global</td>\n",
       "      <td>33780411</td>\n",
       "    </tr>\n",
       "  </tbody>\n",
       "</table>\n",
       "</div>"
      ],
      "text/plain": [
       "         ID                                REF_ID  \\\n",
       "0  33780409  8d82d02e-f52f-41f9-aa10-ae607746b04e   \n",
       "\n",
       "                                                NAME PROCESS_TYPE LOCATION  \\\n",
       "0  transport, freight, sea, tanker for petroleum ...   LCI_RESULT   Global   \n",
       "\n",
       "   F_QUANTITATIVE_REFERENCE  \n",
       "0                  33780411  "
      ]
     },
     "execution_count": 4,
     "metadata": {},
     "output_type": "execute_result"
    }
   ],
   "source": [
    "oil_transport_dfr = dv.get_processes(conn, name=['transport, freight, sea, tanker for petroleum %'])\n",
    "oil_transport_dfr"
   ]
  },
  {
   "cell_type": "code",
   "execution_count": 5,
   "metadata": {},
   "outputs": [
    {
     "data": {
      "text/html": [
       "<div>\n",
       "<style scoped>\n",
       "    .dataframe tbody tr th:only-of-type {\n",
       "        vertical-align: middle;\n",
       "    }\n",
       "\n",
       "    .dataframe tbody tr th {\n",
       "        vertical-align: top;\n",
       "    }\n",
       "\n",
       "    .dataframe thead th {\n",
       "        text-align: right;\n",
       "    }\n",
       "</style>\n",
       "<table border=\"1\" class=\"dataframe\">\n",
       "  <thead>\n",
       "    <tr style=\"text-align: right;\">\n",
       "      <th></th>\n",
       "      <th>PROCESS_REF_ID</th>\n",
       "      <th>PROCESS_NAME</th>\n",
       "      <th>LOCATION</th>\n",
       "      <th>FLOW_REF_ID</th>\n",
       "      <th>FLOW_NAME</th>\n",
       "      <th>COST_VALUE</th>\n",
       "      <th>CURRENCY</th>\n",
       "      <th>UNITS</th>\n",
       "    </tr>\n",
       "  </thead>\n",
       "  <tbody>\n",
       "    <tr>\n",
       "      <th>0</th>\n",
       "      <td>8d82d02e-f52f-41f9-aa10-ae607746b04e</td>\n",
       "      <td>transport, freight, sea, tanker for petroleum ...</td>\n",
       "      <td>Global</td>\n",
       "      <td>774bc814-70cf-4389-8bf8-e6435174c72e</td>\n",
       "      <td>transport, freight, sea, tanker for petroleum</td>\n",
       "      <td>0.000314</td>\n",
       "      <td>Euro</td>\n",
       "      <td>t*km</td>\n",
       "    </tr>\n",
       "  </tbody>\n",
       "</table>\n",
       "</div>"
      ],
      "text/plain": [
       "                         PROCESS_REF_ID  \\\n",
       "0  8d82d02e-f52f-41f9-aa10-ae607746b04e   \n",
       "\n",
       "                                        PROCESS_NAME LOCATION  \\\n",
       "0  transport, freight, sea, tanker for petroleum ...   Global   \n",
       "\n",
       "                            FLOW_REF_ID  \\\n",
       "0  774bc814-70cf-4389-8bf8-e6435174c72e   \n",
       "\n",
       "                                       FLOW_NAME  COST_VALUE CURRENCY UNITS  \n",
       "0  transport, freight, sea, tanker for petroleum    0.000314     Euro  t*km  "
      ]
     },
     "execution_count": 5,
     "metadata": {},
     "output_type": "execute_result"
    }
   ],
   "source": [
    "transport_ref_id = [\n",
    "    '8d82d02e-f52f-41f9-aa10-ae607746b04e'\n",
    "]\n",
    "dv.get_process_product_flow_costs(conn, process_ref_ids=transport_ref_id)"
   ]
  },
  {
   "cell_type": "markdown",
   "metadata": {},
   "source": [
    "The optimal region is the Middle East, since the cost of production is the same according to openLCA in each region and the Middle East has the shortest distance to the refinery. Notice that the cost of extraction of a tonne of oil (192 Euros) is far larger than the cost of transporting it over 1000km by sea (0.314 Euros)."
   ]
  },
  {
   "cell_type": "markdown",
   "metadata": {},
   "source": [
    "## Sets and Parameters"
   ]
  },
  {
   "cell_type": "markdown",
   "metadata": {},
   "source": [
    "In this section we build the sets and parameters for `mola`. First we load the specification."
   ]
  },
  {
   "cell_type": "code",
   "execution_count": 6,
   "metadata": {},
   "outputs": [],
   "source": [
    "import mola.specification5 as ms\n",
    "from importlib import reload\n",
    "spec = ms.GeneralSpecification()"
   ]
  },
  {
   "cell_type": "markdown",
   "metadata": {},
   "source": [
    "Then we set up a configuration file for the sets."
   ]
  },
  {
   "cell_type": "code",
   "execution_count": 7,
   "metadata": {},
   "outputs": [
    {
     "name": "stdout",
     "output_type": "stream",
     "text": [
      "Model sets saved\n"
     ]
    },
    {
     "data": {
      "text/plain": [
       "{'F_m': ['e6aad2de-0b1b-49c3-a0c4-797ba34d87e5'],\n",
       " 'F_s': [],\n",
       " 'F_t': ['774bc814-70cf-4389-8bf8-e6435174c72e'],\n",
       " 'D': ['d1'],\n",
       " 'T': ['t1'],\n",
       " 'K': ['k1'],\n",
       " 'P_m': ['81d22f90-89fc-3f04-845e-97615867d8f9',\n",
       "  'c1827905-bfad-3fa1-b00b-1303f970ae92',\n",
       "  'cd177b7d-e908-3e69-b40c-4827b4abaa4d'],\n",
       " 'P_t': ['8d82d02e-f52f-41f9-aa10-ae607746b04e'],\n",
       " 'P_s': [],\n",
       " 'KPI': [],\n",
       " 'OBJ': ['environment', 'cost'],\n",
       " 'F': [],\n",
       " 'P': []}"
      ]
     },
     "execution_count": 7,
     "metadata": {},
     "output_type": "execute_result"
    }
   ],
   "source": [
    "import mola.input as mi\n",
    "cost_set_file_name = 'Configuration/cost_set_data.json'\n",
    "user_sets = mi.get_model_user_sets(spec, cost_set_file_name)\n",
    "user_sets"
   ]
  },
  {
   "cell_type": "code",
   "execution_count": 8,
   "metadata": {},
   "outputs": [],
   "source": [
    "import mola.dataview as dv\n",
    "import mola.dataimport as di\n",
    "import pandas as pd\n",
    "from pyomo.environ import *\n",
    "conn = di.get_sqlite_connection()\n",
    "lookup = dv.LookupTables(conn)"
   ]
  },
  {
   "cell_type": "markdown",
   "metadata": {},
   "source": [
    "We show a widget that loads and saves the user configuration of sets in a tabbed interface. Existing user configuration data is loaded if there is saved model data file."
   ]
  },
  {
   "cell_type": "code",
   "execution_count": 9,
   "metadata": {},
   "outputs": [
    {
     "data": {
      "application/vnd.jupyter.widget-view+json": {
       "model_id": "7413118657434a22934b7a25cc279718",
       "version_major": 2,
       "version_minor": 0
      },
      "text/plain": [
       "VBox(children=(Button(description='Save configuration', style=ButtonStyle()), Tab(children=(AppLayout(children…"
      ]
     },
     "metadata": {},
     "output_type": "display_data"
    }
   ],
   "source": [
    "import mola.widgets as mw\n",
    "lookups = {'F_m': lookup.get('flows'), 'P_m': lookup.get('processes'), 'F_t': lookup.get('flows'), \n",
    "           'P_t': lookup.get('processes'), 'F_s': lookup.get('flows'), \n",
    "           'P_s': lookup.get('processes'), 'KPI': lookup.get('KPI')}\n",
    "vbox, tab = mw.get_sets(spec, lookups, cost_set_file_name)\n",
    "vbox"
   ]
  },
  {
   "cell_type": "markdown",
   "metadata": {},
   "source": [
    "Below, we load the sets defined from the JSON file and incorporate any non-user defined sets."
   ]
  },
  {
   "cell_type": "code",
   "execution_count": 10,
   "metadata": {},
   "outputs": [
    {
     "name": "stdout",
     "output_type": "stream",
     "text": [
      "Model sets saved\n"
     ]
    },
    {
     "data": {
      "text/plain": [
       "{'F_m': ['e6aad2de-0b1b-49c3-a0c4-797ba34d87e5'],\n",
       " 'F_s': [],\n",
       " 'F_t': ['774bc814-70cf-4389-8bf8-e6435174c72e'],\n",
       " 'D': ['d1'],\n",
       " 'T': ['t1'],\n",
       " 'K': ['k1'],\n",
       " 'P_m': ['81d22f90-89fc-3f04-845e-97615867d8f9',\n",
       "  'c1827905-bfad-3fa1-b00b-1303f970ae92',\n",
       "  'cd177b7d-e908-3e69-b40c-4827b4abaa4d'],\n",
       " 'P_t': ['8d82d02e-f52f-41f9-aa10-ae607746b04e'],\n",
       " 'P_s': [],\n",
       " 'KPI': [],\n",
       " 'OBJ': ['environment', 'cost'],\n",
       " 'F': [],\n",
       " 'P': []}"
      ]
     },
     "execution_count": 10,
     "metadata": {},
     "output_type": "execute_result"
    }
   ],
   "source": [
    "set_data = mi.get_model_user_sets(spec, cost_set_file_name)\n",
    "set_data"
   ]
  },
  {
   "cell_type": "markdown",
   "metadata": {},
   "source": [
    "The parameters are defined using the widget below."
   ]
  },
  {
   "cell_type": "code",
   "execution_count": 11,
   "metadata": {},
   "outputs": [
    {
     "data": {
      "application/vnd.jupyter.widget-view+json": {
       "model_id": "cd110a0f177b467bbba3ec8b3ba58dbb",
       "version_major": 2,
       "version_minor": 0
      },
      "text/plain": [
       "VBox(children=(Box(children=(Button(description='Save configuration', style=ButtonStyle()),)), QgridWidget(gri…"
      ]
     },
     "metadata": {},
     "output_type": "display_data"
    }
   ],
   "source": [
    "import qgrid\n",
    "cost_parameters_file_name = 'Configuration/cost_parameters_data.json'\n",
    "param_dfr, param_dict = mi.get_model_user_parameters(spec, set_data, cost_parameters_file_name)\n",
    "mw.get_parameters(param_dfr, cost_parameters_file_name)"
   ]
  },
  {
   "cell_type": "markdown",
   "metadata": {},
   "source": [
    "## Model build\n",
    "\n",
    "To build the model we need to retrieve the cost of each flow from the database. This is done using the `populate` method\n",
    "of the `Specification` object."
   ]
  },
  {
   "cell_type": "code",
   "execution_count": 12,
   "metadata": {},
   "outputs": [],
   "source": [
    "json_files = [cost_set_file_name, cost_parameters_file_name]\n",
    "model_instance = spec.populate(json_files)"
   ]
  },
  {
   "cell_type": "markdown",
   "metadata": {},
   "source": [
    "We can see that the cost data for the product flows has been loaded from the openLCA database."
   ]
  },
  {
   "cell_type": "code",
   "execution_count": 13,
   "metadata": {},
   "outputs": [
    {
     "name": "stdout",
     "output_type": "stream",
     "text": [
      "phi : Size=8, Index=phi_index, Domain=Any, Default=0, Mutable=False\n",
      "    Key                                                                                    : Value\n",
      "    ('774bc814-70cf-4389-8bf8-e6435174c72e', '8d82d02e-f52f-41f9-aa10-ae607746b04e', 't1') : 0.000313973464772506\n",
      "    ('e6aad2de-0b1b-49c3-a0c4-797ba34d87e5', '81d22f90-89fc-3f04-845e-97615867d8f9', 't1') :                0.192\n",
      "    ('e6aad2de-0b1b-49c3-a0c4-797ba34d87e5', 'c1827905-bfad-3fa1-b00b-1303f970ae92', 't1') :                0.192\n",
      "    ('e6aad2de-0b1b-49c3-a0c4-797ba34d87e5', 'cd177b7d-e908-3e69-b40c-4827b4abaa4d', 't1') :                0.192\n"
     ]
    }
   ],
   "source": [
    "model_instance.phi.pprint()"
   ]
  },
  {
   "cell_type": "markdown",
   "metadata": {},
   "source": [
    "# Solution\n",
    "\n",
    "We deactivate environment and combined objectives."
   ]
  },
  {
   "cell_type": "code",
   "execution_count": 14,
   "metadata": {},
   "outputs": [],
   "source": [
    "model_instance.Environmental_Impact.deactivate()\n",
    "model_instance.Cost.activate()\n",
    "model_instance.Environmental_Cost_Impact.deactivate()"
   ]
  },
  {
   "cell_type": "code",
   "execution_count": 15,
   "metadata": {},
   "outputs": [
    {
     "name": "stdout",
     "output_type": "stream",
     "text": [
      "# ==========================================================\n",
      "# = Solver Results                                         =\n",
      "# ==========================================================\n",
      "# ----------------------------------------------------------\n",
      "#   Problem Information\n",
      "# ----------------------------------------------------------\n",
      "Problem: \n",
      "- Name: unknown\n",
      "  Lower bound: 1920627.94692954\n",
      "  Upper bound: 1920627.94692954\n",
      "  Number of objectives: 1\n",
      "  Number of constraints: 8\n",
      "  Number of variables: 9\n",
      "  Number of nonzeros: 18\n",
      "  Sense: minimize\n",
      "# ----------------------------------------------------------\n",
      "#   Solver Information\n",
      "# ----------------------------------------------------------\n",
      "Solver: \n",
      "- Status: ok\n",
      "  Termination condition: optimal\n",
      "  Statistics: \n",
      "    Branch and bound: \n",
      "      Number of bounded subproblems: 1\n",
      "      Number of created subproblems: 1\n",
      "  Error rc: 0\n",
      "  Time: 0.019832372665405273\n",
      "# ----------------------------------------------------------\n",
      "#   Solution Information\n",
      "# ----------------------------------------------------------\n",
      "Solution: \n",
      "- number of solutions: 0\n",
      "  number of solutions displayed: 0\n"
     ]
    }
   ],
   "source": [
    "opt = SolverFactory(\"glpk\")\n",
    "results = opt.solve(model_instance)\n",
    "results.write()"
   ]
  },
  {
   "cell_type": "code",
   "execution_count": 16,
   "metadata": {},
   "outputs": [
    {
     "data": {
      "text/html": [
       "<div>\n",
       "<style scoped>\n",
       "    .dataframe tbody tr th:only-of-type {\n",
       "        vertical-align: middle;\n",
       "    }\n",
       "\n",
       "    .dataframe tbody tr th {\n",
       "        vertical-align: top;\n",
       "    }\n",
       "\n",
       "    .dataframe thead th {\n",
       "        text-align: right;\n",
       "    }\n",
       "</style>\n",
       "<table border=\"1\" class=\"dataframe\">\n",
       "  <thead>\n",
       "    <tr style=\"text-align: right;\">\n",
       "      <th></th>\n",
       "      <th>Flow</th>\n",
       "      <th>Units</th>\n",
       "      <th>F_m</th>\n",
       "      <th>P_m</th>\n",
       "      <th>K</th>\n",
       "      <th>T</th>\n",
       "    </tr>\n",
       "  </thead>\n",
       "  <tbody>\n",
       "    <tr>\n",
       "      <th>0</th>\n",
       "      <td>0.0</td>\n",
       "      <td>kg</td>\n",
       "      <td>petroleum</td>\n",
       "      <td>petroleum production, onshore | petroleum | APOS, S | Russian Federation</td>\n",
       "      <td>k1</td>\n",
       "      <td>t1</td>\n",
       "    </tr>\n",
       "    <tr>\n",
       "      <th>1</th>\n",
       "      <td>10000000.0</td>\n",
       "      <td>kg</td>\n",
       "      <td>petroleum</td>\n",
       "      <td>petroleum production, onshore | petroleum | APOS, S | Middle East</td>\n",
       "      <td>k1</td>\n",
       "      <td>t1</td>\n",
       "    </tr>\n",
       "    <tr>\n",
       "      <th>2</th>\n",
       "      <td>0.0</td>\n",
       "      <td>kg</td>\n",
       "      <td>petroleum</td>\n",
       "      <td>petroleum production, onshore | petroleum | APOS, S | Africa</td>\n",
       "      <td>k1</td>\n",
       "      <td>t1</td>\n",
       "    </tr>\n",
       "  </tbody>\n",
       "</table>\n",
       "</div>"
      ],
      "text/plain": [
       "         Flow Units        F_m  \\\n",
       "0         0.0    kg  petroleum   \n",
       "1  10000000.0    kg  petroleum   \n",
       "2         0.0    kg  petroleum   \n",
       "\n",
       "                                                                        P_m  \\\n",
       "0  petroleum production, onshore | petroleum | APOS, S | Russian Federation   \n",
       "1         petroleum production, onshore | petroleum | APOS, S | Middle East   \n",
       "2              petroleum production, onshore | petroleum | APOS, S | Africa   \n",
       "\n",
       "    K   T  \n",
       "0  k1  t1  \n",
       "1  k1  t1  \n",
       "2  k1  t1  "
      ]
     },
     "execution_count": 16,
     "metadata": {},
     "output_type": "execute_result"
    }
   ],
   "source": [
    "import mola.output as mo\n",
    "pd.set_option('display.max_colwidth', 1000)\n",
    "mo.get_entity(model_instance.Flow, lookup, units=['P_m'])"
   ]
  },
  {
   "cell_type": "code",
   "execution_count": 17,
   "metadata": {},
   "outputs": [
    {
     "data": {
      "text/html": [
       "<div>\n",
       "<style scoped>\n",
       "    .dataframe tbody tr th:only-of-type {\n",
       "        vertical-align: middle;\n",
       "    }\n",
       "\n",
       "    .dataframe tbody tr th {\n",
       "        vertical-align: top;\n",
       "    }\n",
       "\n",
       "    .dataframe thead th {\n",
       "        text-align: right;\n",
       "    }\n",
       "</style>\n",
       "<table border=\"1\" class=\"dataframe\">\n",
       "  <thead>\n",
       "    <tr style=\"text-align: right;\">\n",
       "      <th></th>\n",
       "      <th>Specific_Material_Transport_Flow</th>\n",
       "      <th>Units</th>\n",
       "      <th>F_m</th>\n",
       "      <th>P_m</th>\n",
       "      <th>F_t</th>\n",
       "      <th>P_t</th>\n",
       "      <th>K</th>\n",
       "      <th>T</th>\n",
       "    </tr>\n",
       "  </thead>\n",
       "  <tbody>\n",
       "    <tr>\n",
       "      <th>0</th>\n",
       "      <td>-0.0</td>\n",
       "      <td>kg</td>\n",
       "      <td>petroleum</td>\n",
       "      <td>petroleum production, onshore | petroleum | APOS, S | Russian Federation</td>\n",
       "      <td>transport, freight, sea, tanker for petroleum</td>\n",
       "      <td>transport, freight, sea, tanker for petroleum | transport, freight, sea, tanker for petroleum | APOS, S | Global</td>\n",
       "      <td>k1</td>\n",
       "      <td>t1</td>\n",
       "    </tr>\n",
       "    <tr>\n",
       "      <th>1</th>\n",
       "      <td>10000000.0</td>\n",
       "      <td>kg</td>\n",
       "      <td>petroleum</td>\n",
       "      <td>petroleum production, onshore | petroleum | APOS, S | Middle East</td>\n",
       "      <td>transport, freight, sea, tanker for petroleum</td>\n",
       "      <td>transport, freight, sea, tanker for petroleum | transport, freight, sea, tanker for petroleum | APOS, S | Global</td>\n",
       "      <td>k1</td>\n",
       "      <td>t1</td>\n",
       "    </tr>\n",
       "    <tr>\n",
       "      <th>2</th>\n",
       "      <td>-0.0</td>\n",
       "      <td>kg</td>\n",
       "      <td>petroleum</td>\n",
       "      <td>petroleum production, onshore | petroleum | APOS, S | Africa</td>\n",
       "      <td>transport, freight, sea, tanker for petroleum</td>\n",
       "      <td>transport, freight, sea, tanker for petroleum | transport, freight, sea, tanker for petroleum | APOS, S | Global</td>\n",
       "      <td>k1</td>\n",
       "      <td>t1</td>\n",
       "    </tr>\n",
       "  </tbody>\n",
       "</table>\n",
       "</div>"
      ],
      "text/plain": [
       "   Specific_Material_Transport_Flow Units        F_m  \\\n",
       "0                              -0.0    kg  petroleum   \n",
       "1                        10000000.0    kg  petroleum   \n",
       "2                              -0.0    kg  petroleum   \n",
       "\n",
       "                                                                        P_m  \\\n",
       "0  petroleum production, onshore | petroleum | APOS, S | Russian Federation   \n",
       "1         petroleum production, onshore | petroleum | APOS, S | Middle East   \n",
       "2              petroleum production, onshore | petroleum | APOS, S | Africa   \n",
       "\n",
       "                                             F_t  \\\n",
       "0  transport, freight, sea, tanker for petroleum   \n",
       "1  transport, freight, sea, tanker for petroleum   \n",
       "2  transport, freight, sea, tanker for petroleum   \n",
       "\n",
       "                                                                                                                P_t  \\\n",
       "0  transport, freight, sea, tanker for petroleum | transport, freight, sea, tanker for petroleum | APOS, S | Global   \n",
       "1  transport, freight, sea, tanker for petroleum | transport, freight, sea, tanker for petroleum | APOS, S | Global   \n",
       "2  transport, freight, sea, tanker for petroleum | transport, freight, sea, tanker for petroleum | APOS, S | Global   \n",
       "\n",
       "    K   T  \n",
       "0  k1  t1  \n",
       "1  k1  t1  \n",
       "2  k1  t1  "
      ]
     },
     "execution_count": 17,
     "metadata": {},
     "output_type": "execute_result"
    }
   ],
   "source": [
    "mo.get_entity(model_instance.Specific_Material_Transport_Flow, lookup, units=['P_m'])"
   ]
  },
  {
   "cell_type": "code",
   "execution_count": 18,
   "metadata": {},
   "outputs": [
    {
     "data": {
      "text/html": [
       "<div>\n",
       "<style scoped>\n",
       "    .dataframe tbody tr th:only-of-type {\n",
       "        vertical-align: middle;\n",
       "    }\n",
       "\n",
       "    .dataframe tbody tr th {\n",
       "        vertical-align: top;\n",
       "    }\n",
       "\n",
       "    .dataframe thead th {\n",
       "        text-align: right;\n",
       "    }\n",
       "</style>\n",
       "<table border=\"1\" class=\"dataframe\">\n",
       "  <thead>\n",
       "    <tr style=\"text-align: right;\">\n",
       "      <th></th>\n",
       "      <th>Specific_Transport_Flow</th>\n",
       "      <th>Units</th>\n",
       "      <th>F_t</th>\n",
       "      <th>P_t</th>\n",
       "      <th>K</th>\n",
       "      <th>T</th>\n",
       "    </tr>\n",
       "  </thead>\n",
       "  <tbody>\n",
       "    <tr>\n",
       "      <th>0</th>\n",
       "      <td>2000000.0</td>\n",
       "      <td>t*km</td>\n",
       "      <td>transport, freight, sea, tanker for petroleum</td>\n",
       "      <td>transport, freight, sea, tanker for petroleum | transport, freight, sea, tanker for petroleum | APOS, S | Global</td>\n",
       "      <td>k1</td>\n",
       "      <td>t1</td>\n",
       "    </tr>\n",
       "  </tbody>\n",
       "</table>\n",
       "</div>"
      ],
      "text/plain": [
       "   Specific_Transport_Flow Units  \\\n",
       "0                2000000.0  t*km   \n",
       "\n",
       "                                             F_t  \\\n",
       "0  transport, freight, sea, tanker for petroleum   \n",
       "\n",
       "                                                                                                                P_t  \\\n",
       "0  transport, freight, sea, tanker for petroleum | transport, freight, sea, tanker for petroleum | APOS, S | Global   \n",
       "\n",
       "    K   T  \n",
       "0  k1  t1  "
      ]
     },
     "execution_count": 18,
     "metadata": {},
     "output_type": "execute_result"
    }
   ],
   "source": [
    "mo.get_entity(model_instance.Specific_Transport_Flow, lookup, units=True)"
   ]
  },
  {
   "cell_type": "code",
   "execution_count": 19,
   "metadata": {},
   "outputs": [
    {
     "data": {
      "text/html": [
       "<div>\n",
       "<style scoped>\n",
       "    .dataframe tbody tr th:only-of-type {\n",
       "        vertical-align: middle;\n",
       "    }\n",
       "\n",
       "    .dataframe tbody tr th {\n",
       "        vertical-align: top;\n",
       "    }\n",
       "\n",
       "    .dataframe thead th {\n",
       "        text-align: right;\n",
       "    }\n",
       "</style>\n",
       "<table border=\"1\" class=\"dataframe\">\n",
       "  <thead>\n",
       "    <tr style=\"text-align: right;\">\n",
       "      <th></th>\n",
       "      <th>Objective</th>\n",
       "    </tr>\n",
       "  </thead>\n",
       "  <tbody>\n",
       "    <tr>\n",
       "      <th>0</th>\n",
       "      <td>1.920628e+06</td>\n",
       "    </tr>\n",
       "  </tbody>\n",
       "</table>\n",
       "</div>"
      ],
      "text/plain": [
       "      Objective\n",
       "0  1.920628e+06"
      ]
     },
     "execution_count": 19,
     "metadata": {},
     "output_type": "execute_result"
    }
   ],
   "source": [
    "mo.get_entity(model_instance.Cost)"
   ]
  },
  {
   "cell_type": "markdown",
   "metadata": {},
   "source": [
    "# Environment Impact and Cost\n",
    "\n",
    "In this section we consider both the environment impact and the cost of extracting and transporting the oil.\n",
    "\n",
    "We augment the cost sets by choosing the ReCiPe Midpoint method and the fossil depletion category."
   ]
  },
  {
   "cell_type": "code",
   "execution_count": 20,
   "metadata": {},
   "outputs": [
    {
     "data": {
      "application/vnd.jupyter.widget-view+json": {
       "model_id": "893648b2044a4cfd84fd97fa9ed97a6f",
       "version_major": 2,
       "version_minor": 0
      },
      "text/plain": [
       "VBox(children=(Button(description='Save configuration', style=ButtonStyle()), Tab(children=(AppLayout(children…"
      ]
     },
     "metadata": {},
     "output_type": "display_data"
    }
   ],
   "source": [
    "env_set_file_name = 'Configuration/env_set_data.json'\n",
    "vbox, tab = mw.get_sets(spec, lookups, env_set_file_name)\n",
    "vbox"
   ]
  },
  {
   "cell_type": "markdown",
   "metadata": {},
   "source": [
    "We set both objective weights to one meaning that we value 1 kg Oil Eq. as much as 1 Euro."
   ]
  },
  {
   "cell_type": "code",
   "execution_count": 21,
   "metadata": {},
   "outputs": [
    {
     "name": "stdout",
     "output_type": "stream",
     "text": [
      "Model sets saved\n"
     ]
    },
    {
     "data": {
      "text/plain": [
       "{'F_m': ['e6aad2de-0b1b-49c3-a0c4-797ba34d87e5'],\n",
       " 'F_s': [],\n",
       " 'F_t': ['774bc814-70cf-4389-8bf8-e6435174c72e'],\n",
       " 'D': ['d1'],\n",
       " 'T': ['t1'],\n",
       " 'K': ['k1'],\n",
       " 'P_m': ['81d22f90-89fc-3f04-845e-97615867d8f9',\n",
       "  'c1827905-bfad-3fa1-b00b-1303f970ae92',\n",
       "  'cd177b7d-e908-3e69-b40c-4827b4abaa4d'],\n",
       " 'P_t': ['8d82d02e-f52f-41f9-aa10-ae607746b04e'],\n",
       " 'P_s': [],\n",
       " 'KPI': ['bf42d8f0-23fc-32f3-b159-f79bfccfec28'],\n",
       " 'OBJ': ['environment', 'cost'],\n",
       " 'F': [],\n",
       " 'P': []}"
      ]
     },
     "execution_count": 21,
     "metadata": {},
     "output_type": "execute_result"
    }
   ],
   "source": [
    "env_parameters_file_name = 'Configuration/env_parameters_data.json'\n",
    "env_set_data = mi.get_model_user_sets(spec, env_set_file_name)\n",
    "env_set_data"
   ]
  },
  {
   "cell_type": "code",
   "execution_count": 22,
   "metadata": {},
   "outputs": [
    {
     "data": {
      "application/vnd.jupyter.widget-view+json": {
       "model_id": "6cf5e29f9e2b4eafad50f578ac6b77e8",
       "version_major": 2,
       "version_minor": 0
      },
      "text/plain": [
       "VBox(children=(Box(children=(Button(description='Save configuration', style=ButtonStyle()),)), QgridWidget(gri…"
      ]
     },
     "metadata": {},
     "output_type": "display_data"
    }
   ],
   "source": [
    "param_dfr, param_dict = mi.get_model_user_parameters(spec, env_set_data, env_parameters_file_name)\n",
    "mw.get_parameters(param_dfr, env_parameters_file_name)"
   ]
  },
  {
   "cell_type": "markdown",
   "metadata": {},
   "source": [
    "Then we rebuild the model."
   ]
  },
  {
   "cell_type": "code",
   "execution_count": 23,
   "metadata": {},
   "outputs": [],
   "source": [
    "json_files = [env_set_file_name, env_parameters_file_name]\n",
    "model_instance2 = spec.populate(json_files)"
   ]
  },
  {
   "cell_type": "markdown",
   "metadata": {},
   "source": [
    "First we activate the environmental and cost objectives in the model instance and solve."
   ]
  },
  {
   "cell_type": "code",
   "execution_count": 24,
   "metadata": {},
   "outputs": [
    {
     "name": "stdout",
     "output_type": "stream",
     "text": [
      "# ==========================================================\n",
      "# = Solver Results                                         =\n",
      "# ==========================================================\n",
      "# ----------------------------------------------------------\n",
      "#   Problem Information\n",
      "# ----------------------------------------------------------\n",
      "Problem: \n",
      "- Name: unknown\n",
      "  Lower bound: 12688000.1655666\n",
      "  Upper bound: 12688000.1655666\n",
      "  Number of objectives: 1\n",
      "  Number of constraints: 8\n",
      "  Number of variables: 9\n",
      "  Number of nonzeros: 18\n",
      "  Sense: minimize\n",
      "# ----------------------------------------------------------\n",
      "#   Solver Information\n",
      "# ----------------------------------------------------------\n",
      "Solver: \n",
      "- Status: ok\n",
      "  Termination condition: optimal\n",
      "  Statistics: \n",
      "    Branch and bound: \n",
      "      Number of bounded subproblems: 1\n",
      "      Number of created subproblems: 1\n",
      "  Error rc: 0\n",
      "  Time: 0.02035355567932129\n",
      "# ----------------------------------------------------------\n",
      "#   Solution Information\n",
      "# ----------------------------------------------------------\n",
      "Solution: \n",
      "- number of solutions: 0\n",
      "  number of solutions displayed: 0\n"
     ]
    }
   ],
   "source": [
    "model_instance2.Environmental_Impact.deactivate()\n",
    "model_instance2.Cost.deactivate()\n",
    "model_instance2.Environmental_Cost_Impact.activate()\n",
    "results = opt.solve(model_instance2)\n",
    "results.write()"
   ]
  },
  {
   "cell_type": "code",
   "execution_count": 25,
   "metadata": {},
   "outputs": [
    {
     "data": {
      "text/html": [
       "<div>\n",
       "<style scoped>\n",
       "    .dataframe tbody tr th:only-of-type {\n",
       "        vertical-align: middle;\n",
       "    }\n",
       "\n",
       "    .dataframe tbody tr th {\n",
       "        vertical-align: top;\n",
       "    }\n",
       "\n",
       "    .dataframe thead th {\n",
       "        text-align: right;\n",
       "    }\n",
       "</style>\n",
       "<table border=\"1\" class=\"dataframe\">\n",
       "  <thead>\n",
       "    <tr style=\"text-align: right;\">\n",
       "      <th></th>\n",
       "      <th>Flow</th>\n",
       "      <th>Units</th>\n",
       "      <th>F_m</th>\n",
       "      <th>P_m</th>\n",
       "      <th>K</th>\n",
       "      <th>T</th>\n",
       "    </tr>\n",
       "  </thead>\n",
       "  <tbody>\n",
       "    <tr>\n",
       "      <th>0</th>\n",
       "      <td>0.0</td>\n",
       "      <td>kg</td>\n",
       "      <td>petroleum</td>\n",
       "      <td>petroleum production, onshore | petroleum | APOS, S | Russian Federation</td>\n",
       "      <td>k1</td>\n",
       "      <td>t1</td>\n",
       "    </tr>\n",
       "    <tr>\n",
       "      <th>1</th>\n",
       "      <td>10000000.0</td>\n",
       "      <td>kg</td>\n",
       "      <td>petroleum</td>\n",
       "      <td>petroleum production, onshore | petroleum | APOS, S | Middle East</td>\n",
       "      <td>k1</td>\n",
       "      <td>t1</td>\n",
       "    </tr>\n",
       "    <tr>\n",
       "      <th>2</th>\n",
       "      <td>0.0</td>\n",
       "      <td>kg</td>\n",
       "      <td>petroleum</td>\n",
       "      <td>petroleum production, onshore | petroleum | APOS, S | Africa</td>\n",
       "      <td>k1</td>\n",
       "      <td>t1</td>\n",
       "    </tr>\n",
       "  </tbody>\n",
       "</table>\n",
       "</div>"
      ],
      "text/plain": [
       "         Flow Units        F_m  \\\n",
       "0         0.0    kg  petroleum   \n",
       "1  10000000.0    kg  petroleum   \n",
       "2         0.0    kg  petroleum   \n",
       "\n",
       "                                                                        P_m  \\\n",
       "0  petroleum production, onshore | petroleum | APOS, S | Russian Federation   \n",
       "1         petroleum production, onshore | petroleum | APOS, S | Middle East   \n",
       "2              petroleum production, onshore | petroleum | APOS, S | Africa   \n",
       "\n",
       "    K   T  \n",
       "0  k1  t1  \n",
       "1  k1  t1  \n",
       "2  k1  t1  "
      ]
     },
     "execution_count": 25,
     "metadata": {},
     "output_type": "execute_result"
    }
   ],
   "source": [
    "mo.get_entity(model_instance.Flow, lookup, units=True)"
   ]
  },
  {
   "cell_type": "code",
   "execution_count": 26,
   "metadata": {},
   "outputs": [
    {
     "data": {
      "text/html": [
       "<div>\n",
       "<style scoped>\n",
       "    .dataframe tbody tr th:only-of-type {\n",
       "        vertical-align: middle;\n",
       "    }\n",
       "\n",
       "    .dataframe tbody tr th {\n",
       "        vertical-align: top;\n",
       "    }\n",
       "\n",
       "    .dataframe thead th {\n",
       "        text-align: right;\n",
       "    }\n",
       "</style>\n",
       "<table border=\"1\" class=\"dataframe\">\n",
       "  <thead>\n",
       "    <tr style=\"text-align: right;\">\n",
       "      <th></th>\n",
       "      <th>Specific_Material_Transport_Flow</th>\n",
       "      <th>Units</th>\n",
       "      <th>F_m</th>\n",
       "      <th>P_m</th>\n",
       "      <th>F_t</th>\n",
       "      <th>P_t</th>\n",
       "      <th>K</th>\n",
       "      <th>T</th>\n",
       "    </tr>\n",
       "  </thead>\n",
       "  <tbody>\n",
       "    <tr>\n",
       "      <th>0</th>\n",
       "      <td>-0.0</td>\n",
       "      <td>kg</td>\n",
       "      <td>petroleum</td>\n",
       "      <td>petroleum production, onshore | petroleum | APOS, S | Russian Federation</td>\n",
       "      <td>transport, freight, sea, tanker for petroleum</td>\n",
       "      <td>transport, freight, sea, tanker for petroleum | transport, freight, sea, tanker for petroleum | APOS, S | Global</td>\n",
       "      <td>k1</td>\n",
       "      <td>t1</td>\n",
       "    </tr>\n",
       "    <tr>\n",
       "      <th>1</th>\n",
       "      <td>10000000.0</td>\n",
       "      <td>kg</td>\n",
       "      <td>petroleum</td>\n",
       "      <td>petroleum production, onshore | petroleum | APOS, S | Middle East</td>\n",
       "      <td>transport, freight, sea, tanker for petroleum</td>\n",
       "      <td>transport, freight, sea, tanker for petroleum | transport, freight, sea, tanker for petroleum | APOS, S | Global</td>\n",
       "      <td>k1</td>\n",
       "      <td>t1</td>\n",
       "    </tr>\n",
       "    <tr>\n",
       "      <th>2</th>\n",
       "      <td>-0.0</td>\n",
       "      <td>kg</td>\n",
       "      <td>petroleum</td>\n",
       "      <td>petroleum production, onshore | petroleum | APOS, S | Africa</td>\n",
       "      <td>transport, freight, sea, tanker for petroleum</td>\n",
       "      <td>transport, freight, sea, tanker for petroleum | transport, freight, sea, tanker for petroleum | APOS, S | Global</td>\n",
       "      <td>k1</td>\n",
       "      <td>t1</td>\n",
       "    </tr>\n",
       "  </tbody>\n",
       "</table>\n",
       "</div>"
      ],
      "text/plain": [
       "   Specific_Material_Transport_Flow Units        F_m  \\\n",
       "0                              -0.0    kg  petroleum   \n",
       "1                        10000000.0    kg  petroleum   \n",
       "2                              -0.0    kg  petroleum   \n",
       "\n",
       "                                                                        P_m  \\\n",
       "0  petroleum production, onshore | petroleum | APOS, S | Russian Federation   \n",
       "1         petroleum production, onshore | petroleum | APOS, S | Middle East   \n",
       "2              petroleum production, onshore | petroleum | APOS, S | Africa   \n",
       "\n",
       "                                             F_t  \\\n",
       "0  transport, freight, sea, tanker for petroleum   \n",
       "1  transport, freight, sea, tanker for petroleum   \n",
       "2  transport, freight, sea, tanker for petroleum   \n",
       "\n",
       "                                                                                                                P_t  \\\n",
       "0  transport, freight, sea, tanker for petroleum | transport, freight, sea, tanker for petroleum | APOS, S | Global   \n",
       "1  transport, freight, sea, tanker for petroleum | transport, freight, sea, tanker for petroleum | APOS, S | Global   \n",
       "2  transport, freight, sea, tanker for petroleum | transport, freight, sea, tanker for petroleum | APOS, S | Global   \n",
       "\n",
       "    K   T  \n",
       "0  k1  t1  \n",
       "1  k1  t1  \n",
       "2  k1  t1  "
      ]
     },
     "execution_count": 26,
     "metadata": {},
     "output_type": "execute_result"
    }
   ],
   "source": [
    "mo.get_entity(model_instance2.Specific_Material_Transport_Flow, lookup, units=True)"
   ]
  },
  {
   "cell_type": "code",
   "execution_count": 27,
   "metadata": {},
   "outputs": [
    {
     "data": {
      "text/html": [
       "<div>\n",
       "<style scoped>\n",
       "    .dataframe tbody tr th:only-of-type {\n",
       "        vertical-align: middle;\n",
       "    }\n",
       "\n",
       "    .dataframe tbody tr th {\n",
       "        vertical-align: top;\n",
       "    }\n",
       "\n",
       "    .dataframe thead th {\n",
       "        text-align: right;\n",
       "    }\n",
       "</style>\n",
       "<table border=\"1\" class=\"dataframe\">\n",
       "  <thead>\n",
       "    <tr style=\"text-align: right;\">\n",
       "      <th></th>\n",
       "      <th>Specific_Transport_Flow</th>\n",
       "      <th>Units</th>\n",
       "      <th>F_t</th>\n",
       "      <th>P_t</th>\n",
       "      <th>K</th>\n",
       "      <th>T</th>\n",
       "    </tr>\n",
       "  </thead>\n",
       "  <tbody>\n",
       "    <tr>\n",
       "      <th>0</th>\n",
       "      <td>2000000.0</td>\n",
       "      <td>t*km</td>\n",
       "      <td>transport, freight, sea, tanker for petroleum</td>\n",
       "      <td>transport, freight, sea, tanker for petroleum | transport, freight, sea, tanker for petroleum | APOS, S | Global</td>\n",
       "      <td>k1</td>\n",
       "      <td>t1</td>\n",
       "    </tr>\n",
       "  </tbody>\n",
       "</table>\n",
       "</div>"
      ],
      "text/plain": [
       "   Specific_Transport_Flow Units  \\\n",
       "0                2000000.0  t*km   \n",
       "\n",
       "                                             F_t  \\\n",
       "0  transport, freight, sea, tanker for petroleum   \n",
       "\n",
       "                                                                                                                P_t  \\\n",
       "0  transport, freight, sea, tanker for petroleum | transport, freight, sea, tanker for petroleum | APOS, S | Global   \n",
       "\n",
       "    K   T  \n",
       "0  k1  t1  "
      ]
     },
     "execution_count": 27,
     "metadata": {},
     "output_type": "execute_result"
    }
   ],
   "source": [
    "mo.get_entity(model_instance2.Specific_Transport_Flow, lookup, units=True)"
   ]
  },
  {
   "cell_type": "code",
   "execution_count": 28,
   "metadata": {},
   "outputs": [
    {
     "data": {
      "text/html": [
       "<div>\n",
       "<style scoped>\n",
       "    .dataframe tbody tr th:only-of-type {\n",
       "        vertical-align: middle;\n",
       "    }\n",
       "\n",
       "    .dataframe tbody tr th {\n",
       "        vertical-align: top;\n",
       "    }\n",
       "\n",
       "    .dataframe thead th {\n",
       "        text-align: right;\n",
       "    }\n",
       "</style>\n",
       "<table border=\"1\" class=\"dataframe\">\n",
       "  <thead>\n",
       "    <tr style=\"text-align: right;\">\n",
       "      <th></th>\n",
       "      <th>Objective</th>\n",
       "    </tr>\n",
       "  </thead>\n",
       "  <tbody>\n",
       "    <tr>\n",
       "      <th>0</th>\n",
       "      <td>1.268800e+07</td>\n",
       "    </tr>\n",
       "  </tbody>\n",
       "</table>\n",
       "</div>"
      ],
      "text/plain": [
       "      Objective\n",
       "0  1.268800e+07"
      ]
     },
     "execution_count": 28,
     "metadata": {},
     "output_type": "execute_result"
    }
   ],
   "source": [
    "mo.get_entity(model_instance2.Environmental_Cost_Impact, lookup, units=True)"
   ]
  },
  {
   "cell_type": "markdown",
   "metadata": {},
   "source": [
    "We confirm that the sum of the environmental and cost objectives is equal to the overall wieghted objective below."
   ]
  },
  {
   "cell_type": "code",
   "execution_count": 29,
   "metadata": {},
   "outputs": [
    {
     "name": "stdout",
     "output_type": "stream",
     "text": [
      "12688000.165566565\n",
      "12688000.165566565\n"
     ]
    }
   ],
   "source": [
    "print(value(model_instance2.Environmental_Impact['bf42d8f0-23fc-32f3-b159-f79bfccfec28']) + value(model_instance2.Cost))\n",
    "print(value(model_instance2.Environmental_Cost_Impact))"
   ]
  },
  {
   "cell_type": "markdown",
   "metadata": {},
   "source": [
    "# Oil Refinery\n",
    "\n",
    "In this section we add an oil refinery to the problem as a separate task. To start with we set this problem up with a total demand. Subsequently, we connect the oil production task to this task and remove the total demand parameter from the production problem.\n",
    "\n",
    "## Problem Statement\n",
    "\n",
    "An oil company wishes to find the cheapest means to transport 5000 tonnes of diesel from an oil refinery by using either freight train or sea tanker to a manufacturing plant. The distance from the refinery to the manufacturing plant is 500km.\n",
    "\n",
    "### Assumptions\n",
    "\n",
    "* We suppose we can use the Rest-of-World diesel production process from openLCA in this problem. Its product flow is 1kg of diesel oil. \n",
    "* The refinery uses 4kg of crude oil to produce 1kg of diesel. "
   ]
  },
  {
   "cell_type": "markdown",
   "metadata": {},
   "source": [
    "## Sets and Parameters"
   ]
  },
  {
   "cell_type": "code",
   "execution_count": 30,
   "metadata": {},
   "outputs": [
    {
     "data": {
      "application/vnd.jupyter.widget-view+json": {
       "model_id": "1cd97da8ba1d498daee70c66f16ac1a7",
       "version_major": 2,
       "version_minor": 0
      },
      "text/plain": [
       "VBox(children=(Button(description='Save configuration', style=ButtonStyle()), Tab(children=(AppLayout(children…"
      ]
     },
     "metadata": {},
     "output_type": "display_data"
    }
   ],
   "source": [
    "refinery_set_file_name = 'Configuration/refinery_set_data.json'\n",
    "vbox, tab = mw.get_sets(spec, lookups, refinery_set_file_name)\n",
    "vbox"
   ]
  },
  {
   "cell_type": "code",
   "execution_count": 31,
   "metadata": {},
   "outputs": [
    {
     "name": "stdout",
     "output_type": "stream",
     "text": [
      "Model sets saved\n"
     ]
    },
    {
     "data": {
      "text/plain": [
       "{'F_m': ['e6aad2de-0b1b-49c3-a0c4-797ba34d87e5',\n",
       "  '291fc06d-1b3e-4077-aabb-346b588ed24b'],\n",
       " 'F_s': [],\n",
       " 'F_t': ['774bc814-70cf-4389-8bf8-e6435174c72e',\n",
       "  '0ace02fa-eca5-482d-a829-c18e46a52db4'],\n",
       " 'D': ['d1'],\n",
       " 'T': ['t1'],\n",
       " 'K': ['k1', 'k2'],\n",
       " 'P_m': ['81d22f90-89fc-3f04-845e-97615867d8f9',\n",
       "  'c1827905-bfad-3fa1-b00b-1303f970ae92',\n",
       "  'cd177b7d-e908-3e69-b40c-4827b4abaa4d',\n",
       "  '5d9ef634-f3ca-4ec5-8315-4c07d736b4ce'],\n",
       " 'P_t': ['8d82d02e-f52f-41f9-aa10-ae607746b04e',\n",
       "  'f615ae37-fa6d-4a47-958c-23234c986400'],\n",
       " 'P_s': [],\n",
       " 'KPI': ['bf42d8f0-23fc-32f3-b159-f79bfccfec28'],\n",
       " 'OBJ': ['environment', 'cost'],\n",
       " 'F': [],\n",
       " 'P': []}"
      ]
     },
     "execution_count": 31,
     "metadata": {},
     "output_type": "execute_result"
    }
   ],
   "source": [
    "refinery_parameters_file_name = 'Configuration/refinery_parameters_data.json'\n",
    "refinery_set_data = mi.get_model_user_sets(spec, refinery_set_file_name)\n",
    "refinery_set_data"
   ]
  },
  {
   "cell_type": "code",
   "execution_count": 32,
   "metadata": {},
   "outputs": [
    {
     "data": {
      "application/vnd.jupyter.widget-view+json": {
       "model_id": "91b01b60dd744894aaf1f715e93cc22d",
       "version_major": 2,
       "version_minor": 0
      },
      "text/plain": [
       "VBox(children=(Box(children=(Button(description='Save configuration', style=ButtonStyle()),)), QgridWidget(gri…"
      ]
     },
     "metadata": {},
     "output_type": "display_data"
    }
   ],
   "source": [
    "param_dfr, param_dict = mi.get_model_user_parameters(spec, refinery_set_data, refinery_parameters_file_name)\n",
    "mw.get_parameters(param_dfr, refinery_parameters_file_name)"
   ]
  },
  {
   "cell_type": "code",
   "execution_count": 33,
   "metadata": {},
   "outputs": [],
   "source": [
    "json_files = [refinery_set_file_name, refinery_parameters_file_name]\n",
    "model_instance3 = spec.populate(json_files)"
   ]
  },
  {
   "cell_type": "code",
   "execution_count": 34,
   "metadata": {},
   "outputs": [
    {
     "name": "stdout",
     "output_type": "stream",
     "text": [
      "# ==========================================================\n",
      "# = Solver Results                                         =\n",
      "# ==========================================================\n",
      "# ----------------------------------------------------------\n",
      "#   Problem Information\n",
      "# ----------------------------------------------------------\n",
      "Problem: \n",
      "- Name: unknown\n",
      "  Lower bound: 1850784.93366193\n",
      "  Upper bound: 1850784.93366193\n",
      "  Number of objectives: 1\n",
      "  Number of constraints: 31\n",
      "  Number of variables: 37\n",
      "  Number of nonzeros: 50\n",
      "  Sense: minimize\n",
      "# ----------------------------------------------------------\n",
      "#   Solver Information\n",
      "# ----------------------------------------------------------\n",
      "Solver: \n",
      "- Status: ok\n",
      "  Termination condition: optimal\n",
      "  Statistics: \n",
      "    Branch and bound: \n",
      "      Number of bounded subproblems: 1\n",
      "      Number of created subproblems: 1\n",
      "  Error rc: 0\n",
      "  Time: 0.020902395248413086\n",
      "# ----------------------------------------------------------\n",
      "#   Solution Information\n",
      "# ----------------------------------------------------------\n",
      "Solution: \n",
      "- number of solutions: 0\n",
      "  number of solutions displayed: 0\n"
     ]
    }
   ],
   "source": [
    "model_instance3.Environmental_Impact.deactivate()\n",
    "model_instance3.Cost.activate()\n",
    "model_instance3.Environmental_Cost_Impact.deactivate()\n",
    "results = opt.solve(model_instance3)\n",
    "results.write()"
   ]
  },
  {
   "cell_type": "code",
   "execution_count": 35,
   "metadata": {},
   "outputs": [
    {
     "data": {
      "text/html": [
       "<div>\n",
       "<style scoped>\n",
       "    .dataframe tbody tr th:only-of-type {\n",
       "        vertical-align: middle;\n",
       "    }\n",
       "\n",
       "    .dataframe tbody tr th {\n",
       "        vertical-align: top;\n",
       "    }\n",
       "\n",
       "    .dataframe thead th {\n",
       "        text-align: right;\n",
       "    }\n",
       "</style>\n",
       "<table border=\"1\" class=\"dataframe\">\n",
       "  <thead>\n",
       "    <tr style=\"text-align: right;\">\n",
       "      <th></th>\n",
       "      <th>Flow</th>\n",
       "      <th>Units</th>\n",
       "      <th>F_m</th>\n",
       "      <th>P_m</th>\n",
       "      <th>K</th>\n",
       "      <th>T</th>\n",
       "    </tr>\n",
       "  </thead>\n",
       "  <tbody>\n",
       "    <tr>\n",
       "      <th>15</th>\n",
       "      <td>5000000.0</td>\n",
       "      <td>kg</td>\n",
       "      <td>diesel</td>\n",
       "      <td>diesel production, petroleum refinery operation | diesel | APOS, S | Rest-of-World</td>\n",
       "      <td>k2</td>\n",
       "      <td>t1</td>\n",
       "    </tr>\n",
       "  </tbody>\n",
       "</table>\n",
       "</div>"
      ],
      "text/plain": [
       "         Flow Units     F_m  \\\n",
       "15  5000000.0    kg  diesel   \n",
       "\n",
       "                                                                                   P_m  \\\n",
       "15  diesel production, petroleum refinery operation | diesel | APOS, S | Rest-of-World   \n",
       "\n",
       "     K   T  \n",
       "15  k2  t1  "
      ]
     },
     "execution_count": 35,
     "metadata": {},
     "output_type": "execute_result"
    }
   ],
   "source": [
    "mo.get_entity(model_instance3.Flow, lookup, units=True, non_zero=True)"
   ]
  },
  {
   "cell_type": "code",
   "execution_count": 36,
   "metadata": {},
   "outputs": [
    {
     "data": {
      "text/html": [
       "<div>\n",
       "<style scoped>\n",
       "    .dataframe tbody tr th:only-of-type {\n",
       "        vertical-align: middle;\n",
       "    }\n",
       "\n",
       "    .dataframe tbody tr th {\n",
       "        vertical-align: top;\n",
       "    }\n",
       "\n",
       "    .dataframe thead th {\n",
       "        text-align: right;\n",
       "    }\n",
       "</style>\n",
       "<table border=\"1\" class=\"dataframe\">\n",
       "  <thead>\n",
       "    <tr style=\"text-align: right;\">\n",
       "      <th></th>\n",
       "      <th>Specific_Material_Transport_Flow</th>\n",
       "      <th>Units</th>\n",
       "      <th>F_m</th>\n",
       "      <th>P_m</th>\n",
       "      <th>F_t</th>\n",
       "      <th>P_t</th>\n",
       "      <th>K</th>\n",
       "    </tr>\n",
       "  </thead>\n",
       "  <tbody>\n",
       "    <tr>\n",
       "      <th>7</th>\n",
       "      <td>5000000.0</td>\n",
       "      <td>kg</td>\n",
       "      <td>diesel</td>\n",
       "      <td>diesel production, petroleum refinery operation | diesel | APOS, S | Rest-of-World</td>\n",
       "      <td>transport, freight, sea, tanker for petroleum</td>\n",
       "      <td>transport, freight, sea, tanker for petroleum | transport, freight, sea, tanker for petroleum | APOS, S | Global</td>\n",
       "      <td>k2</td>\n",
       "    </tr>\n",
       "  </tbody>\n",
       "</table>\n",
       "</div>"
      ],
      "text/plain": [
       "   Specific_Material_Transport_Flow Units     F_m  \\\n",
       "7                         5000000.0    kg  diesel   \n",
       "\n",
       "                                                                                  P_m  \\\n",
       "7  diesel production, petroleum refinery operation | diesel | APOS, S | Rest-of-World   \n",
       "\n",
       "                                             F_t  \\\n",
       "7  transport, freight, sea, tanker for petroleum   \n",
       "\n",
       "                                                                                                                P_t  \\\n",
       "7  transport, freight, sea, tanker for petroleum | transport, freight, sea, tanker for petroleum | APOS, S | Global   \n",
       "\n",
       "    K  \n",
       "7  k2  "
      ]
     },
     "execution_count": 36,
     "metadata": {},
     "output_type": "execute_result"
    }
   ],
   "source": [
    "mo.get_entity(model_instance3.Specific_Material_Transport_Flow, lookup, units=True, non_zero=True, distinct_levels=True)"
   ]
  },
  {
   "cell_type": "code",
   "execution_count": 37,
   "metadata": {},
   "outputs": [
    {
     "data": {
      "text/html": [
       "<div>\n",
       "<style scoped>\n",
       "    .dataframe tbody tr th:only-of-type {\n",
       "        vertical-align: middle;\n",
       "    }\n",
       "\n",
       "    .dataframe tbody tr th {\n",
       "        vertical-align: top;\n",
       "    }\n",
       "\n",
       "    .dataframe thead th {\n",
       "        text-align: right;\n",
       "    }\n",
       "</style>\n",
       "<table border=\"1\" class=\"dataframe\">\n",
       "  <thead>\n",
       "    <tr style=\"text-align: right;\">\n",
       "      <th></th>\n",
       "      <th>Specific_Transport_Flow</th>\n",
       "      <th>Units</th>\n",
       "      <th>F_t</th>\n",
       "      <th>P_t</th>\n",
       "      <th>K</th>\n",
       "    </tr>\n",
       "  </thead>\n",
       "  <tbody>\n",
       "    <tr>\n",
       "      <th>1</th>\n",
       "      <td>2500000.0</td>\n",
       "      <td>t*km</td>\n",
       "      <td>transport, freight, sea, tanker for petroleum</td>\n",
       "      <td>transport, freight, sea, tanker for petroleum | transport, freight, sea, tanker for petroleum | APOS, S | Global</td>\n",
       "      <td>k2</td>\n",
       "    </tr>\n",
       "  </tbody>\n",
       "</table>\n",
       "</div>"
      ],
      "text/plain": [
       "   Specific_Transport_Flow Units  \\\n",
       "1                2500000.0  t*km   \n",
       "\n",
       "                                             F_t  \\\n",
       "1  transport, freight, sea, tanker for petroleum   \n",
       "\n",
       "                                                                                                                P_t  \\\n",
       "1  transport, freight, sea, tanker for petroleum | transport, freight, sea, tanker for petroleum | APOS, S | Global   \n",
       "\n",
       "    K  \n",
       "1  k2  "
      ]
     },
     "execution_count": 37,
     "metadata": {},
     "output_type": "execute_result"
    }
   ],
   "source": [
    "mo.get_entity(model_instance3.Specific_Transport_Flow, lookup, units=True, non_zero=True, distinct_levels=True)"
   ]
  },
  {
   "cell_type": "markdown",
   "metadata": {},
   "source": [
    "# Connecting Tasks\n",
    "\n",
    "We connect the task of oil extraction and transport, and the task of oil refinement to diesel and then transport to a manufacturer together. \n",
    "\n",
    "We modify the sets and parameters in memory and then write out the resulting JSON files to disk. First we copy the sets and parameters."
   ]
  },
  {
   "cell_type": "code",
   "execution_count": 38,
   "metadata": {},
   "outputs": [
    {
     "data": {
      "text/plain": [
       "[{'index': ['d1', 'k1'], 'value': 0.0},\n",
       " {'index': ['d1', 'k2'], 'value': 5000.0}]"
      ]
     },
     "execution_count": 38,
     "metadata": {},
     "output_type": "execute_result"
    }
   ],
   "source": [
    "import json\n",
    "multitask_sets_data = refinery_set_data.copy()\n",
    "with open(refinery_parameters_file_name) as fp:\n",
    "    multitask_parameters_data = json.load(fp)\n",
    "multitask_parameters_data['Total_Demand']"
   ]
  },
  {
   "cell_type": "markdown",
   "metadata": {},
   "source": [
    "We want to connect the transport of petroleum in the three regions by sea tanker in task $k_1$ to the material flow of diesel in task $k_2$. Thus we need to add one of the following constraints\n",
    "\n",
    "$$\n",
    "f_{f_{\\text{petroleum}}, p_{\\text{RUS_petroleum}}, f_{\\text{sea tanker}}, p_{\\text{sea tanker}}, k_1, t_1} + \n",
    "f_{f_{\\text{petroleum}}, p_{\\text{ME_petroleum}}, f_{\\text{sea tanker}}, p_{\\text{sea tanker}}, k_1, t_1} +\n",
    "f_{f_{\\text{petroleum}}, p_{\\text{AF_petroleum}}, f_{\\text{sea tanker}}, p_{\\text{sea tanker}}, k_1, t_1}\n",
    "\\geq 4 Flow_{f_{\\text{diesel}}, p_{\\text{diesel}}, k_2, t_1}\n",
    "$$\n",
    "\n",
    "\n",
    "$$\n",
    "Flow_{f_{\\text{petroleum}}, p_{\\text{RUS_petroleum}}, k_1, t_1} +\n",
    "Flow_{f_{\\text{petroleum}}, p_{\\text{ME_petroleum}}, k_1, t_1} +\n",
    "Flow_{f_{\\text{petroleum}}, p_{\\text{AF_petroleum}}, k_1, t_1} +\n",
    "\\geq 4 Flow_{f_{\\text{diesel}}, p_{\\text{diesel}}, k_2, t_1}\n",
    "$$"
   ]
  },
  {
   "cell_type": "code",
   "execution_count": 39,
   "metadata": {},
   "outputs": [
    {
     "data": {
      "text/html": [
       "<div>\n",
       "<style scoped>\n",
       "    .dataframe tbody tr th:only-of-type {\n",
       "        vertical-align: middle;\n",
       "    }\n",
       "\n",
       "    .dataframe tbody tr th {\n",
       "        vertical-align: top;\n",
       "    }\n",
       "\n",
       "    .dataframe thead th {\n",
       "        text-align: right;\n",
       "    }\n",
       "</style>\n",
       "<table border=\"1\" class=\"dataframe\">\n",
       "  <thead>\n",
       "    <tr style=\"text-align: right;\">\n",
       "      <th></th>\n",
       "      <th>PROCESS_NAME</th>\n",
       "      <th>LOCATION_NAME</th>\n",
       "    </tr>\n",
       "    <tr>\n",
       "      <th>P_t</th>\n",
       "      <th></th>\n",
       "      <th></th>\n",
       "    </tr>\n",
       "  </thead>\n",
       "  <tbody>\n",
       "    <tr>\n",
       "      <th>81d22f90-89fc-3f04-845e-97615867d8f9</th>\n",
       "      <td>petroleum production, onshore | petroleum | APOS, S</td>\n",
       "      <td>Russian Federation</td>\n",
       "    </tr>\n",
       "    <tr>\n",
       "      <th>c1827905-bfad-3fa1-b00b-1303f970ae92</th>\n",
       "      <td>petroleum production, onshore | petroleum | APOS, S</td>\n",
       "      <td>Middle East</td>\n",
       "    </tr>\n",
       "    <tr>\n",
       "      <th>cd177b7d-e908-3e69-b40c-4827b4abaa4d</th>\n",
       "      <td>petroleum production, onshore | petroleum | APOS, S</td>\n",
       "      <td>Africa</td>\n",
       "    </tr>\n",
       "    <tr>\n",
       "      <th>5d9ef634-f3ca-4ec5-8315-4c07d736b4ce</th>\n",
       "      <td>diesel production, petroleum refinery operation | diesel | APOS, S</td>\n",
       "      <td>Rest-of-World</td>\n",
       "    </tr>\n",
       "  </tbody>\n",
       "</table>\n",
       "</div>"
      ],
      "text/plain": [
       "                                                                                            PROCESS_NAME  \\\n",
       "P_t                                                                                                        \n",
       "81d22f90-89fc-3f04-845e-97615867d8f9                 petroleum production, onshore | petroleum | APOS, S   \n",
       "c1827905-bfad-3fa1-b00b-1303f970ae92                 petroleum production, onshore | petroleum | APOS, S   \n",
       "cd177b7d-e908-3e69-b40c-4827b4abaa4d                 petroleum production, onshore | petroleum | APOS, S   \n",
       "5d9ef634-f3ca-4ec5-8315-4c07d736b4ce  diesel production, petroleum refinery operation | diesel | APOS, S   \n",
       "\n",
       "                                           LOCATION_NAME  \n",
       "P_t                                                       \n",
       "81d22f90-89fc-3f04-845e-97615867d8f9  Russian Federation  \n",
       "c1827905-bfad-3fa1-b00b-1303f970ae92         Middle East  \n",
       "cd177b7d-e908-3e69-b40c-4827b4abaa4d              Africa  \n",
       "5d9ef634-f3ca-4ec5-8315-4c07d736b4ce       Rest-of-World  "
      ]
     },
     "execution_count": 39,
     "metadata": {},
     "output_type": "execute_result"
    }
   ],
   "source": [
    "lookup.get('P_m', list(model_instance3.P_m))"
   ]
  },
  {
   "cell_type": "code",
   "execution_count": 40,
   "metadata": {},
   "outputs": [],
   "source": [
    "f_pet = 'e6aad2de-0b1b-49c3-a0c4-797ba34d87e5'\n",
    "p_RUS = '81d22f90-89fc-3f04-845e-97615867d8f9'\n",
    "p_ME = 'c1827905-bfad-3fa1-b00b-1303f970ae92'\n",
    "p_AF = 'cd177b7d-e908-3e69-b40c-4827b4abaa4d'\n",
    "f_st = '774bc814-70cf-4389-8bf8-e6435174c72e'\n",
    "p_st = '8d82d02e-f52f-41f9-aa10-ae607746b04e'\n",
    "f_die = '291fc06d-1b3e-4077-aabb-346b588ed24b'\n",
    "p_die = '5d9ef634-f3ca-4ec5-8315-4c07d736b4ce'"
   ]
  },
  {
   "cell_type": "markdown",
   "metadata": {},
   "source": [
    "Clear the task link coefficients."
   ]
  },
  {
   "cell_type": "code",
   "execution_count": 41,
   "metadata": {},
   "outputs": [],
   "source": [
    "for item in multitask_parameters_data['calA']:\n",
    "    item['value'] = 0\n",
    "for item in multitask_parameters_data['calB']:\n",
    "    item['value'] = 0\n",
    "for item in multitask_parameters_data['calC']:\n",
    "    item['value'] = 0"
   ]
  },
  {
   "cell_type": "code",
   "execution_count": 42,
   "metadata": {},
   "outputs": [],
   "source": [
    "for item in multitask_parameters_data['calC']:\n",
    "    if item['index'][0:5] in [[f_pet, p_RUS, f_st, p_st, 'k1'], [f_pet, p_ME, f_st, p_st, 'k1'], [f_pet, p_AF, f_st, p_st, 'k1']]:\n",
    "        item['value'] = 1   \n",
    "# for item in multitask_parameters_data['calA']:\n",
    "#     if item['index'][0:3] in [[f_pet, p_RUS, 'k1'], [f_pet, p_ME, 'k1'], [f_pet, p_AF, 'k1']]:\n",
    "#         item['value'] = 1   "
   ]
  },
  {
   "cell_type": "code",
   "execution_count": 43,
   "metadata": {},
   "outputs": [],
   "source": [
    "for item in multitask_parameters_data['calA']:\n",
    "    if item['index'][0:3] == [f_die, p_die, 'k2']:\n",
    "        item['value'] = 4"
   ]
  },
  {
   "cell_type": "markdown",
   "metadata": {},
   "source": [
    "The non-zero coefficients in the task link constraint are shown below."
   ]
  },
  {
   "cell_type": "code",
   "execution_count": 44,
   "metadata": {},
   "outputs": [
    {
     "name": "stdout",
     "output_type": "stream",
     "text": [
      "calC['e6aad2de-0b1b-49c3-a0c4-797ba34d87e5', '81d22f90-89fc-3f04-845e-97615867d8f9', '774bc814-70cf-4389-8bf8-e6435174c72e', '8d82d02e-f52f-41f9-aa10-ae607746b04e', 'k1', 't1'] = 1\n",
      "calC['e6aad2de-0b1b-49c3-a0c4-797ba34d87e5', 'c1827905-bfad-3fa1-b00b-1303f970ae92', '774bc814-70cf-4389-8bf8-e6435174c72e', '8d82d02e-f52f-41f9-aa10-ae607746b04e', 'k1', 't1'] = 1\n",
      "calC['e6aad2de-0b1b-49c3-a0c4-797ba34d87e5', 'cd177b7d-e908-3e69-b40c-4827b4abaa4d', '774bc814-70cf-4389-8bf8-e6435174c72e', '8d82d02e-f52f-41f9-aa10-ae607746b04e', 'k1', 't1'] = 1\n",
      "calA['291fc06d-1b3e-4077-aabb-346b588ed24b', '5d9ef634-f3ca-4ec5-8315-4c07d736b4ce', 'k2', 't1'] = 4\n"
     ]
    }
   ],
   "source": [
    "for item in multitask_parameters_data['calC']:\n",
    "    if item['value']:\n",
    "        print('calC', item['index'], ' = ', item['value'], sep='')\n",
    "for item in multitask_parameters_data['calA']:\n",
    "    if item['value']:\n",
    "        print('calA', item['index'], ' = ', item['value'], sep='')"
   ]
  },
  {
   "cell_type": "markdown",
   "metadata": {},
   "source": [
    "We save these new parameters to JSON files."
   ]
  },
  {
   "cell_type": "code",
   "execution_count": 45,
   "metadata": {},
   "outputs": [],
   "source": [
    "tasks_set_file_name = 'Configuration/tasks_set_data.json'\n",
    "with open(tasks_set_file_name, 'w') as fp:\n",
    "    json.dump(multitask_sets_data, fp, indent=4)\n",
    "tasks_parameter_file_name = 'Configuration/tasks_parameter_data.json'\n",
    "with open(tasks_parameter_file_name, 'w') as fp:\n",
    "    json.dump(multitask_parameters_data, fp, indent=4)"
   ]
  },
  {
   "cell_type": "markdown",
   "metadata": {},
   "source": [
    "Next we rebuild the model."
   ]
  },
  {
   "cell_type": "code",
   "execution_count": 46,
   "metadata": {},
   "outputs": [],
   "source": [
    "json_files = [tasks_set_file_name, tasks_parameter_file_name]\n",
    "model_instance4 = spec.populate(json_files)"
   ]
  },
  {
   "cell_type": "markdown",
   "metadata": {},
   "source": [
    "A simple task chain constraints is built into the abstract model. Its concrete form is shown below."
   ]
  },
  {
   "cell_type": "code",
   "execution_count": 47,
   "metadata": {},
   "outputs": [
    {
     "name": "stdout",
     "output_type": "stream",
     "text": [
      "task_chain_constraint : Size=1, Index=task_chain_constraint_index, Active=True\n",
      "    Key          : Lower : Body                                                                                                                                                                                                                                                                                                                                                                                                                                                                                                                                                                                                                                                                              : Upper : Active\n",
      "    ('k2', 't1') :  -Inf : Specific_Material_Transport_Flow[e6aad2de-0b1b-49c3-a0c4-797ba34d87e5,81d22f90-89fc-3f04-845e-97615867d8f9,774bc814-70cf-4389-8bf8-e6435174c72e,8d82d02e-f52f-41f9-aa10-ae607746b04e,k1,t1] + Specific_Material_Transport_Flow[e6aad2de-0b1b-49c3-a0c4-797ba34d87e5,c1827905-bfad-3fa1-b00b-1303f970ae92,774bc814-70cf-4389-8bf8-e6435174c72e,8d82d02e-f52f-41f9-aa10-ae607746b04e,k1,t1] + Specific_Material_Transport_Flow[e6aad2de-0b1b-49c3-a0c4-797ba34d87e5,cd177b7d-e908-3e69-b40c-4827b4abaa4d,774bc814-70cf-4389-8bf8-e6435174c72e,8d82d02e-f52f-41f9-aa10-ae607746b04e,k1,t1] - 4*Flow[291fc06d-1b3e-4077-aabb-346b588ed24b,5d9ef634-f3ca-4ec5-8315-4c07d736b4ce,k2,t1] :   0.0 :   True\n"
     ]
    }
   ],
   "source": [
    "model_instance4.task_chain_constraint.activate()\n",
    "model_instance4.task_chain_constraint.pprint()"
   ]
  },
  {
   "cell_type": "code",
   "execution_count": 48,
   "metadata": {},
   "outputs": [
    {
     "name": "stdout",
     "output_type": "stream",
     "text": [
      "# ==========================================================\n",
      "# = Solver Results                                         =\n",
      "# ==========================================================\n",
      "# ----------------------------------------------------------\n",
      "#   Problem Information\n",
      "# ----------------------------------------------------------\n",
      "Problem: \n",
      "- Name: unknown\n",
      "  Lower bound: 1850784.93366193\n",
      "  Upper bound: 1850784.93366193\n",
      "  Number of objectives: 1\n",
      "  Number of constraints: 32\n",
      "  Number of variables: 37\n",
      "  Number of nonzeros: 54\n",
      "  Sense: minimize\n",
      "# ----------------------------------------------------------\n",
      "#   Solver Information\n",
      "# ----------------------------------------------------------\n",
      "Solver: \n",
      "- Status: ok\n",
      "  Termination condition: optimal\n",
      "  Statistics: \n",
      "    Branch and bound: \n",
      "      Number of bounded subproblems: 1\n",
      "      Number of created subproblems: 1\n",
      "  Error rc: 0\n",
      "  Time: 0.021797895431518555\n",
      "# ----------------------------------------------------------\n",
      "#   Solution Information\n",
      "# ----------------------------------------------------------\n",
      "Solution: \n",
      "- number of solutions: 0\n",
      "  number of solutions displayed: 0\n"
     ]
    }
   ],
   "source": [
    "model_instance4.Environmental_Impact.deactivate()\n",
    "model_instance4.Cost.activate()\n",
    "model_instance4.Environmental_Cost_Impact.deactivate()\n",
    "results = opt.solve(model_instance4)\n",
    "results.write()"
   ]
  },
  {
   "cell_type": "code",
   "execution_count": 49,
   "metadata": {},
   "outputs": [
    {
     "data": {
      "text/html": [
       "<div>\n",
       "<style scoped>\n",
       "    .dataframe tbody tr th:only-of-type {\n",
       "        vertical-align: middle;\n",
       "    }\n",
       "\n",
       "    .dataframe tbody tr th {\n",
       "        vertical-align: top;\n",
       "    }\n",
       "\n",
       "    .dataframe thead th {\n",
       "        text-align: right;\n",
       "    }\n",
       "</style>\n",
       "<table border=\"1\" class=\"dataframe\">\n",
       "  <thead>\n",
       "    <tr style=\"text-align: right;\">\n",
       "      <th></th>\n",
       "      <th>Flow</th>\n",
       "      <th>Units</th>\n",
       "      <th>F_m</th>\n",
       "      <th>P_m</th>\n",
       "      <th>K</th>\n",
       "      <th>T</th>\n",
       "    </tr>\n",
       "  </thead>\n",
       "  <tbody>\n",
       "    <tr>\n",
       "      <th>15</th>\n",
       "      <td>5000000.0</td>\n",
       "      <td>kg</td>\n",
       "      <td>diesel</td>\n",
       "      <td>diesel production, petroleum refinery operation | diesel | APOS, S | Rest-of-World</td>\n",
       "      <td>k2</td>\n",
       "      <td>t1</td>\n",
       "    </tr>\n",
       "  </tbody>\n",
       "</table>\n",
       "</div>"
      ],
      "text/plain": [
       "         Flow Units     F_m  \\\n",
       "15  5000000.0    kg  diesel   \n",
       "\n",
       "                                                                                   P_m  \\\n",
       "15  diesel production, petroleum refinery operation | diesel | APOS, S | Rest-of-World   \n",
       "\n",
       "     K   T  \n",
       "15  k2  t1  "
      ]
     },
     "execution_count": 49,
     "metadata": {},
     "output_type": "execute_result"
    }
   ],
   "source": [
    "mo.get_entity(model_instance4.Flow, lookup, units=True, non_zero=True)"
   ]
  },
  {
   "cell_type": "code",
   "execution_count": 50,
   "metadata": {},
   "outputs": [
    {
     "data": {
      "text/html": [
       "<div>\n",
       "<style scoped>\n",
       "    .dataframe tbody tr th:only-of-type {\n",
       "        vertical-align: middle;\n",
       "    }\n",
       "\n",
       "    .dataframe tbody tr th {\n",
       "        vertical-align: top;\n",
       "    }\n",
       "\n",
       "    .dataframe thead th {\n",
       "        text-align: right;\n",
       "    }\n",
       "</style>\n",
       "<table border=\"1\" class=\"dataframe\">\n",
       "  <thead>\n",
       "    <tr style=\"text-align: right;\">\n",
       "      <th></th>\n",
       "      <th>Specific_Material_Transport_Flow</th>\n",
       "      <th>Units</th>\n",
       "      <th>F_m</th>\n",
       "      <th>P_m</th>\n",
       "      <th>F_t</th>\n",
       "      <th>P_t</th>\n",
       "      <th>K</th>\n",
       "    </tr>\n",
       "  </thead>\n",
       "  <tbody>\n",
       "    <tr>\n",
       "      <th>7</th>\n",
       "      <td>5000000.0</td>\n",
       "      <td>kg</td>\n",
       "      <td>diesel</td>\n",
       "      <td>diesel production, petroleum refinery operation | diesel | APOS, S | Rest-of-World</td>\n",
       "      <td>transport, freight, sea, tanker for petroleum</td>\n",
       "      <td>transport, freight, sea, tanker for petroleum | transport, freight, sea, tanker for petroleum | APOS, S | Global</td>\n",
       "      <td>k2</td>\n",
       "    </tr>\n",
       "  </tbody>\n",
       "</table>\n",
       "</div>"
      ],
      "text/plain": [
       "   Specific_Material_Transport_Flow Units     F_m  \\\n",
       "7                         5000000.0    kg  diesel   \n",
       "\n",
       "                                                                                  P_m  \\\n",
       "7  diesel production, petroleum refinery operation | diesel | APOS, S | Rest-of-World   \n",
       "\n",
       "                                             F_t  \\\n",
       "7  transport, freight, sea, tanker for petroleum   \n",
       "\n",
       "                                                                                                                P_t  \\\n",
       "7  transport, freight, sea, tanker for petroleum | transport, freight, sea, tanker for petroleum | APOS, S | Global   \n",
       "\n",
       "    K  \n",
       "7  k2  "
      ]
     },
     "execution_count": 50,
     "metadata": {},
     "output_type": "execute_result"
    }
   ],
   "source": [
    "mo.get_entity(model_instance4.Specific_Material_Transport_Flow, lookup, units=True, non_zero=True, distinct_levels=True)"
   ]
  },
  {
   "cell_type": "code",
   "execution_count": 51,
   "metadata": {},
   "outputs": [
    {
     "data": {
      "text/html": [
       "<div>\n",
       "<style scoped>\n",
       "    .dataframe tbody tr th:only-of-type {\n",
       "        vertical-align: middle;\n",
       "    }\n",
       "\n",
       "    .dataframe tbody tr th {\n",
       "        vertical-align: top;\n",
       "    }\n",
       "\n",
       "    .dataframe thead th {\n",
       "        text-align: right;\n",
       "    }\n",
       "</style>\n",
       "<table border=\"1\" class=\"dataframe\">\n",
       "  <thead>\n",
       "    <tr style=\"text-align: right;\">\n",
       "      <th></th>\n",
       "      <th>Specific_Transport_Flow</th>\n",
       "      <th>Units</th>\n",
       "      <th>F_t</th>\n",
       "      <th>P_t</th>\n",
       "      <th>K</th>\n",
       "    </tr>\n",
       "  </thead>\n",
       "  <tbody>\n",
       "    <tr>\n",
       "      <th>1</th>\n",
       "      <td>2500000.0</td>\n",
       "      <td>t*km</td>\n",
       "      <td>transport, freight, sea, tanker for petroleum</td>\n",
       "      <td>transport, freight, sea, tanker for petroleum | transport, freight, sea, tanker for petroleum | APOS, S | Global</td>\n",
       "      <td>k2</td>\n",
       "    </tr>\n",
       "  </tbody>\n",
       "</table>\n",
       "</div>"
      ],
      "text/plain": [
       "   Specific_Transport_Flow Units  \\\n",
       "1                2500000.0  t*km   \n",
       "\n",
       "                                             F_t  \\\n",
       "1  transport, freight, sea, tanker for petroleum   \n",
       "\n",
       "                                                                                                                P_t  \\\n",
       "1  transport, freight, sea, tanker for petroleum | transport, freight, sea, tanker for petroleum | APOS, S | Global   \n",
       "\n",
       "    K  \n",
       "1  k2  "
      ]
     },
     "execution_count": 51,
     "metadata": {},
     "output_type": "execute_result"
    }
   ],
   "source": [
    "mo.get_entity(model_instance4.Specific_Transport_Flow, lookup, units=True, non_zero=True, distinct_levels=True)"
   ]
  },
  {
   "cell_type": "code",
   "execution_count": 52,
   "metadata": {},
   "outputs": [
    {
     "data": {
      "text/plain": [
       "1850784.9336619312"
      ]
     },
     "execution_count": 52,
     "metadata": {},
     "output_type": "execute_result"
    }
   ],
   "source": [
    "value(model_instance4.Cost)"
   ]
  },
  {
   "cell_type": "markdown",
   "metadata": {},
   "source": [
    "# Task implementation in Mola\n",
    "\n",
    "We can implement tasks in `Mola` using Pyomo nodes and arcs in the `pyomo.network` package. The advantage is that we can allow the user to decide how to link tasks together rather than specify different forms of constraint in the abstract model. We can also build the front-end around higher level constructs and avoid the user having to specify a large numbers of parameters.\n",
    "\n",
    "First we deactivate the explicit task link constraint and re-run the optimisation."
   ]
  },
  {
   "cell_type": "code",
   "execution_count": 53,
   "metadata": {},
   "outputs": [
    {
     "name": "stdout",
     "output_type": "stream",
     "text": [
      "# ==========================================================\n",
      "# = Solver Results                                         =\n",
      "# ==========================================================\n",
      "# ----------------------------------------------------------\n",
      "#   Problem Information\n",
      "# ----------------------------------------------------------\n",
      "Problem: \n",
      "- Name: unknown\n",
      "  Lower bound: 1850784.93366193\n",
      "  Upper bound: 1850784.93366193\n",
      "  Number of objectives: 1\n",
      "  Number of constraints: 31\n",
      "  Number of variables: 37\n",
      "  Number of nonzeros: 50\n",
      "  Sense: minimize\n",
      "# ----------------------------------------------------------\n",
      "#   Solver Information\n",
      "# ----------------------------------------------------------\n",
      "Solver: \n",
      "- Status: ok\n",
      "  Termination condition: optimal\n",
      "  Statistics: \n",
      "    Branch and bound: \n",
      "      Number of bounded subproblems: 1\n",
      "      Number of created subproblems: 1\n",
      "  Error rc: 0\n",
      "  Time: 0.021445274353027344\n",
      "# ----------------------------------------------------------\n",
      "#   Solution Information\n",
      "# ----------------------------------------------------------\n",
      "Solution: \n",
      "- number of solutions: 0\n",
      "  number of solutions displayed: 0\n"
     ]
    },
    {
     "data": {
      "text/html": [
       "<div>\n",
       "<style scoped>\n",
       "    .dataframe tbody tr th:only-of-type {\n",
       "        vertical-align: middle;\n",
       "    }\n",
       "\n",
       "    .dataframe tbody tr th {\n",
       "        vertical-align: top;\n",
       "    }\n",
       "\n",
       "    .dataframe thead th {\n",
       "        text-align: right;\n",
       "    }\n",
       "</style>\n",
       "<table border=\"1\" class=\"dataframe\">\n",
       "  <thead>\n",
       "    <tr style=\"text-align: right;\">\n",
       "      <th></th>\n",
       "      <th>Flow</th>\n",
       "      <th>Units</th>\n",
       "      <th>F_m</th>\n",
       "      <th>P_m</th>\n",
       "      <th>K</th>\n",
       "    </tr>\n",
       "  </thead>\n",
       "  <tbody>\n",
       "    <tr>\n",
       "      <th>15</th>\n",
       "      <td>5000000.0</td>\n",
       "      <td>kg</td>\n",
       "      <td>diesel</td>\n",
       "      <td>diesel production, petroleum refinery operation | diesel | APOS, S | Rest-of-World</td>\n",
       "      <td>k2</td>\n",
       "    </tr>\n",
       "  </tbody>\n",
       "</table>\n",
       "</div>"
      ],
      "text/plain": [
       "         Flow Units     F_m  \\\n",
       "15  5000000.0    kg  diesel   \n",
       "\n",
       "                                                                                   P_m  \\\n",
       "15  diesel production, petroleum refinery operation | diesel | APOS, S | Rest-of-World   \n",
       "\n",
       "     K  \n",
       "15  k2  "
      ]
     },
     "execution_count": 53,
     "metadata": {},
     "output_type": "execute_result"
    }
   ],
   "source": [
    "model_instance4.task_chain_constraint.deactivate()\n",
    "results = opt.solve(model_instance4)\n",
    "results.write()\n",
    "mo.get_entity(model_instance4.Flow, lookup, units=True, non_zero=True, distinct_levels=True)"
   ]
  },
  {
   "cell_type": "markdown",
   "metadata": {},
   "source": [
    "Pyomo can generate the constraints given the nodes and arcs. We can also add expressions to the ports to deal with flow conversion between tasks."
   ]
  },
  {
   "cell_type": "code",
   "execution_count": 54,
   "metadata": {},
   "outputs": [],
   "source": [
    "from pyomo.network import *"
   ]
  },
  {
   "cell_type": "markdown",
   "metadata": {},
   "source": [
    "We create a port for each task $k$."
   ]
  },
  {
   "cell_type": "code",
   "execution_count": 57,
   "metadata": {},
   "outputs": [],
   "source": [
    "def test_port_rule(model, k, t):\n",
    "    d = {}\n",
    "    d['flow'] = sum(model.calA[fm, pm, k, t] * model.Flow[fm, pm, k, t] for fm in model.F_m\n",
    "                    for pm in model.P_m)\n",
    "    d['flow'] += sum(model.calC[fm, pm, ft, pt, k, t] * \n",
    "                     model.Specific_Material_Transport_Flow[fm, pm, ft, pt, k, t] for fm in model.F_m\n",
    "                     for pm in model.P_m for ft in model.F_t for pt in model.P_t) \n",
    "    return d\n",
    "model_instance4.test_port = Port(model_instance4.K, model_instance4.T, rule=test_port_rule)"
   ]
  },
  {
   "cell_type": "markdown",
   "metadata": {},
   "source": [
    "A pyomo arc links the two ports together."
   ]
  },
  {
   "cell_type": "code",
   "execution_count": 58,
   "metadata": {},
   "outputs": [],
   "source": [
    "model_instance4.arc = Arc(source=model_instance4.test_port['k1', 't1'], \n",
    "                          destination=model_instance4.test_port['k2', 't1']) # directed"
   ]
  },
  {
   "cell_type": "markdown",
   "metadata": {},
   "source": [
    "Expanding the arc generates an equality constraint between the flow variables."
   ]
  },
  {
   "cell_type": "code",
   "execution_count": 59,
   "metadata": {},
   "outputs": [],
   "source": [
    "TransformationFactory(\"network.expand_arcs\").apply_to(model_instance4)"
   ]
  },
  {
   "cell_type": "markdown",
   "metadata": {},
   "source": [
    "The constraint is generated in a pyomo `block` called `arc_expanded`."
   ]
  },
  {
   "cell_type": "code",
   "execution_count": 60,
   "metadata": {},
   "outputs": [
    {
     "name": "stdout",
     "output_type": "stream",
     "text": [
      "arc_expanded : Size=1, Index=None, Active=True\n",
      "    1 Constraint Declarations\n",
      "        flow_equality : Size=1, Index=None, Active=True\n",
      "            Key  : Lower : Body                                                                                                                                                                                                                                                                                                                                                                                                                                                                                                                                                                                                                                                                              : Upper : Active\n",
      "            None :   0.0 : Specific_Material_Transport_Flow[e6aad2de-0b1b-49c3-a0c4-797ba34d87e5,81d22f90-89fc-3f04-845e-97615867d8f9,774bc814-70cf-4389-8bf8-e6435174c72e,8d82d02e-f52f-41f9-aa10-ae607746b04e,k1,t1] + Specific_Material_Transport_Flow[e6aad2de-0b1b-49c3-a0c4-797ba34d87e5,c1827905-bfad-3fa1-b00b-1303f970ae92,774bc814-70cf-4389-8bf8-e6435174c72e,8d82d02e-f52f-41f9-aa10-ae607746b04e,k1,t1] + Specific_Material_Transport_Flow[e6aad2de-0b1b-49c3-a0c4-797ba34d87e5,cd177b7d-e908-3e69-b40c-4827b4abaa4d,774bc814-70cf-4389-8bf8-e6435174c72e,8d82d02e-f52f-41f9-aa10-ae607746b04e,k1,t1] - 4*Flow[291fc06d-1b3e-4077-aabb-346b588ed24b,5d9ef634-f3ca-4ec5-8315-4c07d736b4ce,k2,t1] :   0.0 :   True\n",
      "\n",
      "    1 Declarations: flow_equality\n"
     ]
    }
   ],
   "source": [
    "model_instance4.arc_expanded.pprint()"
   ]
  },
  {
   "cell_type": "markdown",
   "metadata": {},
   "source": [
    "We can re-run the optimisation and obtain the same results as before."
   ]
  },
  {
   "cell_type": "code",
   "execution_count": 61,
   "metadata": {},
   "outputs": [
    {
     "name": "stdout",
     "output_type": "stream",
     "text": [
      "# ==========================================================\n",
      "# = Solver Results                                         =\n",
      "# ==========================================================\n",
      "# ----------------------------------------------------------\n",
      "#   Problem Information\n",
      "# ----------------------------------------------------------\n",
      "Problem: \n",
      "- Name: unknown\n",
      "  Lower bound: 5692040.82752102\n",
      "  Upper bound: 5692040.82752102\n",
      "  Number of objectives: 1\n",
      "  Number of constraints: 32\n",
      "  Number of variables: 37\n",
      "  Number of nonzeros: 54\n",
      "  Sense: minimize\n",
      "# ----------------------------------------------------------\n",
      "#   Solver Information\n",
      "# ----------------------------------------------------------\n",
      "Solver: \n",
      "- Status: ok\n",
      "  Termination condition: optimal\n",
      "  Statistics: \n",
      "    Branch and bound: \n",
      "      Number of bounded subproblems: 1\n",
      "      Number of created subproblems: 1\n",
      "  Error rc: 0\n",
      "  Time: 0.023131370544433594\n",
      "# ----------------------------------------------------------\n",
      "#   Solution Information\n",
      "# ----------------------------------------------------------\n",
      "Solution: \n",
      "- number of solutions: 0\n",
      "  number of solutions displayed: 0\n"
     ]
    },
    {
     "data": {
      "text/html": [
       "<div>\n",
       "<style scoped>\n",
       "    .dataframe tbody tr th:only-of-type {\n",
       "        vertical-align: middle;\n",
       "    }\n",
       "\n",
       "    .dataframe tbody tr th {\n",
       "        vertical-align: top;\n",
       "    }\n",
       "\n",
       "    .dataframe thead th {\n",
       "        text-align: right;\n",
       "    }\n",
       "</style>\n",
       "<table border=\"1\" class=\"dataframe\">\n",
       "  <thead>\n",
       "    <tr style=\"text-align: right;\">\n",
       "      <th></th>\n",
       "      <th>Flow</th>\n",
       "      <th>Units</th>\n",
       "      <th>F_m</th>\n",
       "      <th>P_m</th>\n",
       "      <th>K</th>\n",
       "    </tr>\n",
       "  </thead>\n",
       "  <tbody>\n",
       "    <tr>\n",
       "      <th>2</th>\n",
       "      <td>20000000.0</td>\n",
       "      <td>kg</td>\n",
       "      <td>petroleum</td>\n",
       "      <td>petroleum production, onshore | petroleum | APOS, S | Middle East</td>\n",
       "      <td>k1</td>\n",
       "    </tr>\n",
       "    <tr>\n",
       "      <th>15</th>\n",
       "      <td>5000000.0</td>\n",
       "      <td>kg</td>\n",
       "      <td>diesel</td>\n",
       "      <td>diesel production, petroleum refinery operation | diesel | APOS, S | Rest-of-World</td>\n",
       "      <td>k2</td>\n",
       "    </tr>\n",
       "  </tbody>\n",
       "</table>\n",
       "</div>"
      ],
      "text/plain": [
       "          Flow Units        F_m  \\\n",
       "2   20000000.0    kg  petroleum   \n",
       "15   5000000.0    kg     diesel   \n",
       "\n",
       "                                                                                   P_m  \\\n",
       "2                    petroleum production, onshore | petroleum | APOS, S | Middle East   \n",
       "15  diesel production, petroleum refinery operation | diesel | APOS, S | Rest-of-World   \n",
       "\n",
       "     K  \n",
       "2   k1  \n",
       "15  k2  "
      ]
     },
     "execution_count": 61,
     "metadata": {},
     "output_type": "execute_result"
    }
   ],
   "source": [
    "results = opt.solve(model_instance4)\n",
    "results.write()\n",
    "mo.get_entity(model_instance4.Flow, lookup, units=True, non_zero=True, distinct_levels=True)"
   ]
  },
  {
   "cell_type": "code",
   "execution_count": 62,
   "metadata": {},
   "outputs": [
    {
     "data": {
      "text/plain": [
       "5692040.8275210215"
      ]
     },
     "execution_count": 62,
     "metadata": {},
     "output_type": "execute_result"
    }
   ],
   "source": [
    "value(model_instance4.Cost)"
   ]
  },
  {
   "cell_type": "markdown",
   "metadata": {},
   "source": [
    "# Specification of Tasks\n",
    "\n",
    "In this problem we solve the multi-task optimisation again, but this time use the built-in infrastructure for Ports and Arcs built into the `GeneralSpecification`."
   ]
  },
  {
   "cell_type": "code",
   "execution_count": 63,
   "metadata": {},
   "outputs": [
    {
     "name": "stdout",
     "output_type": "stream",
     "text": [
      "port : Size=2, Index=port_index\n",
      "    Key          : Name : Size : Variable\n",
      "    ('k1', 't1') : flow :    1 : Specific_Material_Transport_Flow[e6aad2de-0b1b-49c3-a0c4-797ba34d87e5,81d22f90-89fc-3f04-845e-97615867d8f9,774bc814-70cf-4389-8bf8-e6435174c72e,8d82d02e-f52f-41f9-aa10-ae607746b04e,k1,t1] + Specific_Material_Transport_Flow[e6aad2de-0b1b-49c3-a0c4-797ba34d87e5,c1827905-bfad-3fa1-b00b-1303f970ae92,774bc814-70cf-4389-8bf8-e6435174c72e,8d82d02e-f52f-41f9-aa10-ae607746b04e,k1,t1] + Specific_Material_Transport_Flow[e6aad2de-0b1b-49c3-a0c4-797ba34d87e5,cd177b7d-e908-3e69-b40c-4827b4abaa4d,774bc814-70cf-4389-8bf8-e6435174c72e,8d82d02e-f52f-41f9-aa10-ae607746b04e,k1,t1]\n",
      "    ('k2', 't1') : flow :    1 : 4*Flow[291fc06d-1b3e-4077-aabb-346b588ed24b,5d9ef634-f3ca-4ec5-8315-4c07d736b4ce,k2,t1]\n"
     ]
    }
   ],
   "source": [
    "model_instance5 = spec.populate(json_files)\n",
    "model_instance5.port.pprint()"
   ]
  },
  {
   "cell_type": "code",
   "execution_count": null,
   "metadata": {},
   "outputs": [],
   "source": []
  }
 ],
 "metadata": {
  "kernelspec": {
   "display_name": "Python 3",
   "language": "python",
   "name": "python3"
  },
  "language_info": {
   "codemirror_mode": {
    "name": "ipython",
    "version": 3
   },
   "file_extension": ".py",
   "mimetype": "text/x-python",
   "name": "python",
   "nbconvert_exporter": "python",
   "pygments_lexer": "ipython3",
   "version": "3.7.9"
  },
  "toc": {
   "base_numbering": 1,
   "nav_menu": {},
   "number_sections": true,
   "sideBar": true,
   "skip_h1_title": false,
   "title_cell": "Table of Contents",
   "title_sidebar": "Contents",
   "toc_cell": false,
   "toc_position": {
    "height": "calc(100% - 180px)",
    "left": "10px",
    "top": "150px",
    "width": "246.962px"
   },
   "toc_section_display": true,
   "toc_window_display": true
  },
  "varInspector": {
   "cols": {
    "lenName": 16,
    "lenType": 16,
    "lenVar": 40
   },
   "kernels_config": {
    "python": {
     "delete_cmd_postfix": "",
     "delete_cmd_prefix": "del ",
     "library": "var_list.py",
     "varRefreshCmd": "print(var_dic_list())"
    },
    "r": {
     "delete_cmd_postfix": ") ",
     "delete_cmd_prefix": "rm(",
     "library": "var_list.r",
     "varRefreshCmd": "cat(var_dic_list()) "
    }
   },
   "types_to_exclude": [
    "module",
    "function",
    "builtin_function_or_method",
    "instance",
    "_Feature"
   ],
   "window_display": false
  }
 },
 "nbformat": 4,
 "nbformat_minor": 4
}
