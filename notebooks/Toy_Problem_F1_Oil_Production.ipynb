{
 "cells": [
  {
   "cell_type": "markdown",
   "metadata": {},
   "source": [
    "# Oil Production Toy Problems\n",
    "\n",
    "These problems illustrate the use of oil production cost data in the openLCA database and the construction of more complex optimisation problems using openLCA data.\n",
    "\n",
    "# Problem Statement\n",
    "\n",
    "An oil company wishes to find the cheapest region to extract 10000 tonnes of crude oil from onshore oil plants in the Middle East, Russia or Africa and then transport the oil to a refinery by sea tanker. The distance from the extraction site to the refinery in each region is given in the table below.\n",
    "\n",
    "Region | Distance / km\n",
    "-- | --\n",
    "Middle East | 200\n",
    "Russia | 600\n",
    "Africa | 400\n",
    "\n",
    "## Assumptions\n",
    "\n",
    "* We ignore the environmental impact of extraction, transport and building the refinery.\n",
    "* We ignore the cost of building the refinery initially."
   ]
  },
  {
   "cell_type": "markdown",
   "metadata": {},
   "source": [
    "# Analysis"
   ]
  },
  {
   "cell_type": "markdown",
   "metadata": {},
   "source": [
    "First we find the three crude oil production processes in the openLCA database."
   ]
  },
  {
   "cell_type": "code",
   "execution_count": 1,
   "metadata": {},
   "outputs": [],
   "source": [
    "import mola\n",
    "import mola.dataimport as di\n",
    "import mola.dataview as dv\n",
    "conn = di.get_sqlite_connection()\n",
    "mola.set_option('show.SQL', False)"
   ]
  },
  {
   "cell_type": "code",
   "execution_count": 2,
   "metadata": {},
   "outputs": [
    {
     "name": "stdout",
     "output_type": "stream",
     "text": [
      "SELECT \"TBL_PROCESSES\".\"ID\",\"TBL_PROCESSES\".\"REF_ID\",\"TBL_PROCESSES\".\"NAME\",\"TBL_PROCESSES\".\"PROCESS_TYPE\",\"TBL_LOCATIONS\".\"NAME\" \"LOCATION\",\"TBL_PROCESSES\".\"F_QUANTITATIVE_REFERENCE\" FROM \"TBL_PROCESSES\" LEFT JOIN \"TBL_LOCATIONS\" ON CAST(\"TBL_PROCESSES\".\"F_LOCATION\" AS INT)=\"TBL_LOCATIONS\".\"ID\" WHERE \"TBL_PROCESSES\".\"NAME\" LIKE 'petroleum production, onshore%'\n"
     ]
    },
    {
     "data": {
      "text/html": [
       "<div>\n",
       "<style scoped>\n",
       "    .dataframe tbody tr th:only-of-type {\n",
       "        vertical-align: middle;\n",
       "    }\n",
       "\n",
       "    .dataframe tbody tr th {\n",
       "        vertical-align: top;\n",
       "    }\n",
       "\n",
       "    .dataframe thead th {\n",
       "        text-align: right;\n",
       "    }\n",
       "</style>\n",
       "<table border=\"1\" class=\"dataframe\">\n",
       "  <thead>\n",
       "    <tr style=\"text-align: right;\">\n",
       "      <th></th>\n",
       "      <th>ID</th>\n",
       "      <th>REF_ID</th>\n",
       "      <th>NAME</th>\n",
       "      <th>PROCESS_TYPE</th>\n",
       "      <th>LOCATION</th>\n",
       "      <th>F_QUANTITATIVE_REFERENCE</th>\n",
       "    </tr>\n",
       "  </thead>\n",
       "  <tbody>\n",
       "    <tr>\n",
       "      <th>0</th>\n",
       "      <td>7076520</td>\n",
       "      <td>81d22f90-89fc-3f04-845e-97615867d8f9</td>\n",
       "      <td>petroleum production, onshore | petroleum | AP...</td>\n",
       "      <td>LCI_RESULT</td>\n",
       "      <td>Russian Federation</td>\n",
       "      <td>7076522</td>\n",
       "    </tr>\n",
       "    <tr>\n",
       "      <th>1</th>\n",
       "      <td>10012499</td>\n",
       "      <td>2c08823a-4575-30ba-bf61-36e2fd4d56e6</td>\n",
       "      <td>petroleum production, onshore | petroleum | AP...</td>\n",
       "      <td>LCI_RESULT</td>\n",
       "      <td>Rest-of-World</td>\n",
       "      <td>10012501</td>\n",
       "    </tr>\n",
       "    <tr>\n",
       "      <th>2</th>\n",
       "      <td>15742513</td>\n",
       "      <td>c1827905-bfad-3fa1-b00b-1303f970ae92</td>\n",
       "      <td>petroleum production, onshore | petroleum | AP...</td>\n",
       "      <td>LCI_RESULT</td>\n",
       "      <td>Middle East</td>\n",
       "      <td>15742515</td>\n",
       "    </tr>\n",
       "    <tr>\n",
       "      <th>3</th>\n",
       "      <td>29432025</td>\n",
       "      <td>cd177b7d-e908-3e69-b40c-4827b4abaa4d</td>\n",
       "      <td>petroleum production, onshore | petroleum | AP...</td>\n",
       "      <td>LCI_RESULT</td>\n",
       "      <td>Africa</td>\n",
       "      <td>29432027</td>\n",
       "    </tr>\n",
       "  </tbody>\n",
       "</table>\n",
       "</div>"
      ],
      "text/plain": [
       "         ID                                REF_ID  \\\n",
       "0   7076520  81d22f90-89fc-3f04-845e-97615867d8f9   \n",
       "1  10012499  2c08823a-4575-30ba-bf61-36e2fd4d56e6   \n",
       "2  15742513  c1827905-bfad-3fa1-b00b-1303f970ae92   \n",
       "3  29432025  cd177b7d-e908-3e69-b40c-4827b4abaa4d   \n",
       "\n",
       "                                                NAME PROCESS_TYPE  \\\n",
       "0  petroleum production, onshore | petroleum | AP...   LCI_RESULT   \n",
       "1  petroleum production, onshore | petroleum | AP...   LCI_RESULT   \n",
       "2  petroleum production, onshore | petroleum | AP...   LCI_RESULT   \n",
       "3  petroleum production, onshore | petroleum | AP...   LCI_RESULT   \n",
       "\n",
       "             LOCATION  F_QUANTITATIVE_REFERENCE  \n",
       "0  Russian Federation                   7076522  \n",
       "1       Rest-of-World                  10012501  \n",
       "2         Middle East                  15742515  \n",
       "3              Africa                  29432027  "
      ]
     },
     "execution_count": 2,
     "metadata": {},
     "output_type": "execute_result"
    }
   ],
   "source": [
    "oil_production_dfr = dv.get_processes(conn, name=['petroleum production, onshore%'])\n",
    "oil_production_dfr"
   ]
  },
  {
   "cell_type": "markdown",
   "metadata": {},
   "source": [
    "We can explicitly find the cost of producing oil at the three locations using the following `mola` function."
   ]
  },
  {
   "cell_type": "code",
   "execution_count": 3,
   "metadata": {},
   "outputs": [
    {
     "data": {
      "text/html": [
       "<div>\n",
       "<style scoped>\n",
       "    .dataframe tbody tr th:only-of-type {\n",
       "        vertical-align: middle;\n",
       "    }\n",
       "\n",
       "    .dataframe tbody tr th {\n",
       "        vertical-align: top;\n",
       "    }\n",
       "\n",
       "    .dataframe thead th {\n",
       "        text-align: right;\n",
       "    }\n",
       "</style>\n",
       "<table border=\"1\" class=\"dataframe\">\n",
       "  <thead>\n",
       "    <tr style=\"text-align: right;\">\n",
       "      <th></th>\n",
       "      <th>PROCESS_REF_ID</th>\n",
       "      <th>PROCESS_NAME</th>\n",
       "      <th>LOCATION</th>\n",
       "      <th>FLOW_REF_ID</th>\n",
       "      <th>FLOW_NAME</th>\n",
       "      <th>COST_VALUE</th>\n",
       "      <th>CURRENCY</th>\n",
       "      <th>UNITS</th>\n",
       "    </tr>\n",
       "  </thead>\n",
       "  <tbody>\n",
       "    <tr>\n",
       "      <th>0</th>\n",
       "      <td>81d22f90-89fc-3f04-845e-97615867d8f9</td>\n",
       "      <td>petroleum production, onshore | petroleum | AP...</td>\n",
       "      <td>Russian Federation</td>\n",
       "      <td>e6aad2de-0b1b-49c3-a0c4-797ba34d87e5</td>\n",
       "      <td>petroleum</td>\n",
       "      <td>0.192</td>\n",
       "      <td>Euro</td>\n",
       "      <td>kg</td>\n",
       "    </tr>\n",
       "    <tr>\n",
       "      <th>1</th>\n",
       "      <td>c1827905-bfad-3fa1-b00b-1303f970ae92</td>\n",
       "      <td>petroleum production, onshore | petroleum | AP...</td>\n",
       "      <td>Middle East</td>\n",
       "      <td>e6aad2de-0b1b-49c3-a0c4-797ba34d87e5</td>\n",
       "      <td>petroleum</td>\n",
       "      <td>0.192</td>\n",
       "      <td>Euro</td>\n",
       "      <td>kg</td>\n",
       "    </tr>\n",
       "    <tr>\n",
       "      <th>2</th>\n",
       "      <td>cd177b7d-e908-3e69-b40c-4827b4abaa4d</td>\n",
       "      <td>petroleum production, onshore | petroleum | AP...</td>\n",
       "      <td>Africa</td>\n",
       "      <td>e6aad2de-0b1b-49c3-a0c4-797ba34d87e5</td>\n",
       "      <td>petroleum</td>\n",
       "      <td>0.192</td>\n",
       "      <td>Euro</td>\n",
       "      <td>kg</td>\n",
       "    </tr>\n",
       "  </tbody>\n",
       "</table>\n",
       "</div>"
      ],
      "text/plain": [
       "                         PROCESS_REF_ID  \\\n",
       "0  81d22f90-89fc-3f04-845e-97615867d8f9   \n",
       "1  c1827905-bfad-3fa1-b00b-1303f970ae92   \n",
       "2  cd177b7d-e908-3e69-b40c-4827b4abaa4d   \n",
       "\n",
       "                                        PROCESS_NAME            LOCATION  \\\n",
       "0  petroleum production, onshore | petroleum | AP...  Russian Federation   \n",
       "1  petroleum production, onshore | petroleum | AP...         Middle East   \n",
       "2  petroleum production, onshore | petroleum | AP...              Africa   \n",
       "\n",
       "                            FLOW_REF_ID  FLOW_NAME  COST_VALUE CURRENCY UNITS  \n",
       "0  e6aad2de-0b1b-49c3-a0c4-797ba34d87e5  petroleum       0.192     Euro    kg  \n",
       "1  e6aad2de-0b1b-49c3-a0c4-797ba34d87e5  petroleum       0.192     Euro    kg  \n",
       "2  e6aad2de-0b1b-49c3-a0c4-797ba34d87e5  petroleum       0.192     Euro    kg  "
      ]
     },
     "execution_count": 3,
     "metadata": {},
     "output_type": "execute_result"
    }
   ],
   "source": [
    "production_ref_id = [\n",
    "    '81d22f90-89fc-3f04-845e-97615867d8f9',\n",
    "    'c1827905-bfad-3fa1-b00b-1303f970ae92',\n",
    "    'cd177b7d-e908-3e69-b40c-4827b4abaa4d'\n",
    "]\n",
    "dv.get_process_product_flow_costs(conn, process_ref_ids=production_ref_id)"
   ]
  },
  {
   "cell_type": "markdown",
   "metadata": {},
   "source": [
    "OpenLCA reports the cost is the same in each country so it would appear to be an assumption. The same pattern is seen for costs for other processes in openLCA when one looks across location.\n",
    "\n",
    "In openLCA there is only only one global transport process for petroleum by sea tanker. We obtain the transport process from the database below."
   ]
  },
  {
   "cell_type": "code",
   "execution_count": 4,
   "metadata": {},
   "outputs": [
    {
     "name": "stdout",
     "output_type": "stream",
     "text": [
      "SELECT \"TBL_PROCESSES\".\"ID\",\"TBL_PROCESSES\".\"REF_ID\",\"TBL_PROCESSES\".\"NAME\",\"TBL_PROCESSES\".\"PROCESS_TYPE\",\"TBL_LOCATIONS\".\"NAME\" \"LOCATION\",\"TBL_PROCESSES\".\"F_QUANTITATIVE_REFERENCE\" FROM \"TBL_PROCESSES\" LEFT JOIN \"TBL_LOCATIONS\" ON CAST(\"TBL_PROCESSES\".\"F_LOCATION\" AS INT)=\"TBL_LOCATIONS\".\"ID\" WHERE \"TBL_PROCESSES\".\"NAME\" LIKE 'transport, freight, sea, tanker for petroleum %'\n"
     ]
    },
    {
     "data": {
      "text/html": [
       "<div>\n",
       "<style scoped>\n",
       "    .dataframe tbody tr th:only-of-type {\n",
       "        vertical-align: middle;\n",
       "    }\n",
       "\n",
       "    .dataframe tbody tr th {\n",
       "        vertical-align: top;\n",
       "    }\n",
       "\n",
       "    .dataframe thead th {\n",
       "        text-align: right;\n",
       "    }\n",
       "</style>\n",
       "<table border=\"1\" class=\"dataframe\">\n",
       "  <thead>\n",
       "    <tr style=\"text-align: right;\">\n",
       "      <th></th>\n",
       "      <th>ID</th>\n",
       "      <th>REF_ID</th>\n",
       "      <th>NAME</th>\n",
       "      <th>PROCESS_TYPE</th>\n",
       "      <th>LOCATION</th>\n",
       "      <th>F_QUANTITATIVE_REFERENCE</th>\n",
       "    </tr>\n",
       "  </thead>\n",
       "  <tbody>\n",
       "    <tr>\n",
       "      <th>0</th>\n",
       "      <td>33780409</td>\n",
       "      <td>8d82d02e-f52f-41f9-aa10-ae607746b04e</td>\n",
       "      <td>transport, freight, sea, tanker for petroleum ...</td>\n",
       "      <td>LCI_RESULT</td>\n",
       "      <td>Global</td>\n",
       "      <td>33780411</td>\n",
       "    </tr>\n",
       "  </tbody>\n",
       "</table>\n",
       "</div>"
      ],
      "text/plain": [
       "         ID                                REF_ID  \\\n",
       "0  33780409  8d82d02e-f52f-41f9-aa10-ae607746b04e   \n",
       "\n",
       "                                                NAME PROCESS_TYPE LOCATION  \\\n",
       "0  transport, freight, sea, tanker for petroleum ...   LCI_RESULT   Global   \n",
       "\n",
       "   F_QUANTITATIVE_REFERENCE  \n",
       "0                  33780411  "
      ]
     },
     "execution_count": 4,
     "metadata": {},
     "output_type": "execute_result"
    }
   ],
   "source": [
    "oil_transport_dfr = dv.get_processes(conn, name=['transport, freight, sea, tanker for petroleum %'])\n",
    "oil_transport_dfr"
   ]
  },
  {
   "cell_type": "code",
   "execution_count": 5,
   "metadata": {},
   "outputs": [
    {
     "data": {
      "text/html": [
       "<div>\n",
       "<style scoped>\n",
       "    .dataframe tbody tr th:only-of-type {\n",
       "        vertical-align: middle;\n",
       "    }\n",
       "\n",
       "    .dataframe tbody tr th {\n",
       "        vertical-align: top;\n",
       "    }\n",
       "\n",
       "    .dataframe thead th {\n",
       "        text-align: right;\n",
       "    }\n",
       "</style>\n",
       "<table border=\"1\" class=\"dataframe\">\n",
       "  <thead>\n",
       "    <tr style=\"text-align: right;\">\n",
       "      <th></th>\n",
       "      <th>PROCESS_REF_ID</th>\n",
       "      <th>PROCESS_NAME</th>\n",
       "      <th>LOCATION</th>\n",
       "      <th>FLOW_REF_ID</th>\n",
       "      <th>FLOW_NAME</th>\n",
       "      <th>COST_VALUE</th>\n",
       "      <th>CURRENCY</th>\n",
       "      <th>UNITS</th>\n",
       "    </tr>\n",
       "  </thead>\n",
       "  <tbody>\n",
       "    <tr>\n",
       "      <th>0</th>\n",
       "      <td>8d82d02e-f52f-41f9-aa10-ae607746b04e</td>\n",
       "      <td>transport, freight, sea, tanker for petroleum ...</td>\n",
       "      <td>Global</td>\n",
       "      <td>774bc814-70cf-4389-8bf8-e6435174c72e</td>\n",
       "      <td>transport, freight, sea, tanker for petroleum</td>\n",
       "      <td>0.000314</td>\n",
       "      <td>Euro</td>\n",
       "      <td>t*km</td>\n",
       "    </tr>\n",
       "  </tbody>\n",
       "</table>\n",
       "</div>"
      ],
      "text/plain": [
       "                         PROCESS_REF_ID  \\\n",
       "0  8d82d02e-f52f-41f9-aa10-ae607746b04e   \n",
       "\n",
       "                                        PROCESS_NAME LOCATION  \\\n",
       "0  transport, freight, sea, tanker for petroleum ...   Global   \n",
       "\n",
       "                            FLOW_REF_ID  \\\n",
       "0  774bc814-70cf-4389-8bf8-e6435174c72e   \n",
       "\n",
       "                                       FLOW_NAME  COST_VALUE CURRENCY UNITS  \n",
       "0  transport, freight, sea, tanker for petroleum    0.000314     Euro  t*km  "
      ]
     },
     "execution_count": 5,
     "metadata": {},
     "output_type": "execute_result"
    }
   ],
   "source": [
    "transport_ref_id = [\n",
    "    '8d82d02e-f52f-41f9-aa10-ae607746b04e'\n",
    "]\n",
    "dv.get_process_product_flow_costs(conn, process_ref_ids=transport_ref_id)"
   ]
  },
  {
   "cell_type": "markdown",
   "metadata": {},
   "source": [
    "The optimal region is the Middle East, since the cost of production is the same according to openLCA in each region and the Middle East has the shortest distance to the refinery."
   ]
  },
  {
   "cell_type": "markdown",
   "metadata": {},
   "source": [
    "## Sets and Parameters"
   ]
  },
  {
   "cell_type": "markdown",
   "metadata": {},
   "source": [
    "In this section we build the sets and parameters for `mola`. First we load the specification."
   ]
  },
  {
   "cell_type": "code",
   "execution_count": 6,
   "metadata": {},
   "outputs": [],
   "source": [
    "import mola.specification5 as ms\n",
    "from importlib import reload\n",
    "spec = ms.ScheduleSpecification()"
   ]
  },
  {
   "cell_type": "markdown",
   "metadata": {},
   "source": [
    "Then we set up a configuration file for the sets."
   ]
  },
  {
   "cell_type": "code",
   "execution_count": 7,
   "metadata": {},
   "outputs": [
    {
     "name": "stdout",
     "output_type": "stream",
     "text": [
      "Model sets saved\n"
     ]
    },
    {
     "data": {
      "text/plain": [
       "{'F_m': ['e6aad2de-0b1b-49c3-a0c4-797ba34d87e5'],\n",
       " 'F_s': [],\n",
       " 'F_t': ['774bc814-70cf-4389-8bf8-e6435174c72e'],\n",
       " 'D': ['d1'],\n",
       " 'T': ['t1'],\n",
       " 'K': ['t1'],\n",
       " 'P_m': ['81d22f90-89fc-3f04-845e-97615867d8f9',\n",
       "  'c1827905-bfad-3fa1-b00b-1303f970ae92',\n",
       "  'cd177b7d-e908-3e69-b40c-4827b4abaa4d'],\n",
       " 'P_t': ['8d82d02e-f52f-41f9-aa10-ae607746b04e'],\n",
       " 'P_s': [],\n",
       " 'KPI': [],\n",
       " 'OBJ': ['environment', 'cost'],\n",
       " 'F': [],\n",
       " 'P': []}"
      ]
     },
     "execution_count": 7,
     "metadata": {},
     "output_type": "execute_result"
    }
   ],
   "source": [
    "import mola.input as mi\n",
    "cost_set_file_name = 'Configuration/cost_set_data.json'\n",
    "user_sets = mi.get_model_user_sets(spec, cost_set_file_name)\n",
    "user_sets"
   ]
  },
  {
   "cell_type": "code",
   "execution_count": 8,
   "metadata": {},
   "outputs": [],
   "source": [
    "import mola.dataview as dv\n",
    "import mola.dataimport as di\n",
    "import pandas as pd\n",
    "from pyomo.environ import *\n",
    "conn = di.get_sqlite_connection()\n",
    "lookup = dv.LookupTables(conn)"
   ]
  },
  {
   "cell_type": "markdown",
   "metadata": {},
   "source": [
    "We show a widget that loads and saves the user configuration of sets in a tabbed interface. Existing user configuration data is loaded if there is saved model data file."
   ]
  },
  {
   "cell_type": "code",
   "execution_count": 9,
   "metadata": {},
   "outputs": [
    {
     "data": {
      "application/vnd.jupyter.widget-view+json": {
       "model_id": "92b7f6359efe466fb70bdcb6e288973b",
       "version_major": 2,
       "version_minor": 0
      },
      "text/plain": [
       "VBox(children=(Button(description='Save configuration', style=ButtonStyle()), Tab(children=(AppLayout(children…"
      ]
     },
     "metadata": {},
     "output_type": "display_data"
    }
   ],
   "source": [
    "import mola.widgets as mw\n",
    "lookups = {'F_m': lookup.get('flows'), 'P_m': lookup.get('processes'), 'F_t': lookup.get('flows'), \n",
    "           'P_t': lookup.get('processes'), 'F_s': lookup.get('flows'), \n",
    "           'P_s': lookup.get('processes'), 'KPI': lookup.get('KPI')}\n",
    "vbox, tab = mw.get_sets(spec, lookups, cost_set_file_name)\n",
    "vbox"
   ]
  },
  {
   "cell_type": "markdown",
   "metadata": {},
   "source": [
    "Below, we load the sets defined from the JSON file and incorporate any non-user defined sets."
   ]
  },
  {
   "cell_type": "code",
   "execution_count": 10,
   "metadata": {},
   "outputs": [
    {
     "name": "stdout",
     "output_type": "stream",
     "text": [
      "Model sets saved\n"
     ]
    },
    {
     "data": {
      "text/plain": [
       "{'F_m': ['e6aad2de-0b1b-49c3-a0c4-797ba34d87e5'],\n",
       " 'F_s': [],\n",
       " 'F_t': ['774bc814-70cf-4389-8bf8-e6435174c72e'],\n",
       " 'D': ['d1'],\n",
       " 'T': ['t1'],\n",
       " 'K': ['t1'],\n",
       " 'P_m': ['81d22f90-89fc-3f04-845e-97615867d8f9',\n",
       "  'c1827905-bfad-3fa1-b00b-1303f970ae92',\n",
       "  'cd177b7d-e908-3e69-b40c-4827b4abaa4d'],\n",
       " 'P_t': ['8d82d02e-f52f-41f9-aa10-ae607746b04e'],\n",
       " 'P_s': [],\n",
       " 'KPI': [],\n",
       " 'OBJ': ['environment', 'cost'],\n",
       " 'F': [],\n",
       " 'P': []}"
      ]
     },
     "execution_count": 10,
     "metadata": {},
     "output_type": "execute_result"
    }
   ],
   "source": [
    "set_data = mi.get_model_user_sets(spec, cost_set_file_name)\n",
    "set_data"
   ]
  },
  {
   "cell_type": "markdown",
   "metadata": {},
   "source": [
    "The parameters are defined using the widget below."
   ]
  },
  {
   "cell_type": "code",
   "execution_count": 11,
   "metadata": {},
   "outputs": [
    {
     "data": {
      "application/vnd.jupyter.widget-view+json": {
       "model_id": "d6be26008f014baf9ed0bd1d81f23bd5",
       "version_major": 2,
       "version_minor": 0
      },
      "text/plain": [
       "VBox(children=(Box(children=(Button(description='Save configuration', style=ButtonStyle()),)), QgridWidget(gri…"
      ]
     },
     "metadata": {},
     "output_type": "display_data"
    }
   ],
   "source": [
    "import qgrid\n",
    "cost_parameters_file_name = 'Configuration/cost_parameters_data.json'\n",
    "param_dfr, param_dict = mi.get_model_user_parameters(spec, set_data, cost_parameters_file_name)\n",
    "mw.get_parameters(param_dfr, cost_parameters_file_name)"
   ]
  },
  {
   "cell_type": "markdown",
   "metadata": {},
   "source": [
    "## Model build\n",
    "\n",
    "To build the model we need to retrieve the cost of each flow from the database. This is done using the `populate` method\n",
    "of the `Specification` object."
   ]
  },
  {
   "cell_type": "code",
   "execution_count": 12,
   "metadata": {},
   "outputs": [],
   "source": [
    "json_files = [cost_set_file_name, cost_parameters_file_name]\n",
    "model_instance = spec.populate(json_files)"
   ]
  },
  {
   "cell_type": "markdown",
   "metadata": {},
   "source": [
    "We can see that the cost data for the product flows has been loaded from the openLCA database."
   ]
  },
  {
   "cell_type": "code",
   "execution_count": 13,
   "metadata": {},
   "outputs": [
    {
     "name": "stdout",
     "output_type": "stream",
     "text": [
      "phi : Size=8, Index=phi_index, Domain=Any, Default=0, Mutable=False\n",
      "    Key                                                                                    : Value\n",
      "    ('774bc814-70cf-4389-8bf8-e6435174c72e', '8d82d02e-f52f-41f9-aa10-ae607746b04e', 't1') : 0.000313973464772506\n",
      "    ('e6aad2de-0b1b-49c3-a0c4-797ba34d87e5', '81d22f90-89fc-3f04-845e-97615867d8f9', 't1') :                0.192\n",
      "    ('e6aad2de-0b1b-49c3-a0c4-797ba34d87e5', 'c1827905-bfad-3fa1-b00b-1303f970ae92', 't1') :                0.192\n",
      "    ('e6aad2de-0b1b-49c3-a0c4-797ba34d87e5', 'cd177b7d-e908-3e69-b40c-4827b4abaa4d', 't1') :                0.192\n"
     ]
    }
   ],
   "source": [
    "model_instance.phi.pprint()"
   ]
  },
  {
   "cell_type": "markdown",
   "metadata": {},
   "source": [
    "# Solution\n",
    "\n",
    "We deactivate environment and combined objectives."
   ]
  },
  {
   "cell_type": "code",
   "execution_count": 14,
   "metadata": {},
   "outputs": [],
   "source": [
    "model_instance.obj1.deactivate()\n",
    "model_instance.obj2.activate()\n",
    "model_instance.obj.deactivate()"
   ]
  },
  {
   "cell_type": "code",
   "execution_count": 15,
   "metadata": {},
   "outputs": [
    {
     "name": "stdout",
     "output_type": "stream",
     "text": [
      "# ==========================================================\n",
      "# = Solver Results                                         =\n",
      "# ==========================================================\n",
      "# ----------------------------------------------------------\n",
      "#   Problem Information\n",
      "# ----------------------------------------------------------\n",
      "Problem: \n",
      "- Name: unknown\n",
      "  Lower bound: 1920627.94692954\n",
      "  Upper bound: 1920627.94692954\n",
      "  Number of objectives: 1\n",
      "  Number of constraints: 8\n",
      "  Number of variables: 9\n",
      "  Number of nonzeros: 18\n",
      "  Sense: minimize\n",
      "# ----------------------------------------------------------\n",
      "#   Solver Information\n",
      "# ----------------------------------------------------------\n",
      "Solver: \n",
      "- Status: ok\n",
      "  Termination condition: optimal\n",
      "  Statistics: \n",
      "    Branch and bound: \n",
      "      Number of bounded subproblems: 1\n",
      "      Number of created subproblems: 1\n",
      "  Error rc: 0\n",
      "  Time: 0.02094244956970215\n",
      "# ----------------------------------------------------------\n",
      "#   Solution Information\n",
      "# ----------------------------------------------------------\n",
      "Solution: \n",
      "- number of solutions: 0\n",
      "  number of solutions displayed: 0\n"
     ]
    }
   ],
   "source": [
    "opt = SolverFactory(\"glpk\")\n",
    "results = opt.solve(model_instance)\n",
    "results.write()"
   ]
  },
  {
   "cell_type": "code",
   "execution_count": 16,
   "metadata": {},
   "outputs": [
    {
     "data": {
      "text/html": [
       "<div>\n",
       "<style scoped>\n",
       "    .dataframe tbody tr th:only-of-type {\n",
       "        vertical-align: middle;\n",
       "    }\n",
       "\n",
       "    .dataframe tbody tr th {\n",
       "        vertical-align: top;\n",
       "    }\n",
       "\n",
       "    .dataframe thead th {\n",
       "        text-align: right;\n",
       "    }\n",
       "</style>\n",
       "<table border=\"1\" class=\"dataframe\">\n",
       "  <thead>\n",
       "    <tr style=\"text-align: right;\">\n",
       "      <th></th>\n",
       "      <th>Flow</th>\n",
       "      <th>Units</th>\n",
       "      <th>F_m</th>\n",
       "      <th>P_m</th>\n",
       "    </tr>\n",
       "  </thead>\n",
       "  <tbody>\n",
       "    <tr>\n",
       "      <th>0</th>\n",
       "      <td>0.0</td>\n",
       "      <td>kg</td>\n",
       "      <td>petroleum</td>\n",
       "      <td>petroleum production, onshore | petroleum | APOS, S | Russian Federation</td>\n",
       "    </tr>\n",
       "    <tr>\n",
       "      <th>1</th>\n",
       "      <td>10000000.0</td>\n",
       "      <td>kg</td>\n",
       "      <td>petroleum</td>\n",
       "      <td>petroleum production, onshore | petroleum | APOS, S | Middle East</td>\n",
       "    </tr>\n",
       "    <tr>\n",
       "      <th>2</th>\n",
       "      <td>0.0</td>\n",
       "      <td>kg</td>\n",
       "      <td>petroleum</td>\n",
       "      <td>petroleum production, onshore | petroleum | APOS, S | Africa</td>\n",
       "    </tr>\n",
       "  </tbody>\n",
       "</table>\n",
       "</div>"
      ],
      "text/plain": [
       "         Flow Units        F_m  \\\n",
       "0         0.0    kg  petroleum   \n",
       "1  10000000.0    kg  petroleum   \n",
       "2         0.0    kg  petroleum   \n",
       "\n",
       "                                                                        P_m  \n",
       "0  petroleum production, onshore | petroleum | APOS, S | Russian Federation  \n",
       "1         petroleum production, onshore | petroleum | APOS, S | Middle East  \n",
       "2              petroleum production, onshore | petroleum | APOS, S | Africa  "
      ]
     },
     "execution_count": 16,
     "metadata": {},
     "output_type": "execute_result"
    }
   ],
   "source": [
    "import mola.output as mo\n",
    "pd.set_option('display.max_colwidth', 1000)\n",
    "mo.get_entity(model_instance.Flow, lookup, units=['P_m'])"
   ]
  },
  {
   "cell_type": "code",
   "execution_count": 17,
   "metadata": {},
   "outputs": [
    {
     "data": {
      "text/html": [
       "<div>\n",
       "<style scoped>\n",
       "    .dataframe tbody tr th:only-of-type {\n",
       "        vertical-align: middle;\n",
       "    }\n",
       "\n",
       "    .dataframe tbody tr th {\n",
       "        vertical-align: top;\n",
       "    }\n",
       "\n",
       "    .dataframe thead th {\n",
       "        text-align: right;\n",
       "    }\n",
       "</style>\n",
       "<table border=\"1\" class=\"dataframe\">\n",
       "  <thead>\n",
       "    <tr style=\"text-align: right;\">\n",
       "      <th></th>\n",
       "      <th>Specific_Material_Transport_Flow</th>\n",
       "      <th>Units</th>\n",
       "      <th>F_m</th>\n",
       "      <th>P_m</th>\n",
       "      <th>F_t</th>\n",
       "      <th>P_t</th>\n",
       "    </tr>\n",
       "  </thead>\n",
       "  <tbody>\n",
       "    <tr>\n",
       "      <th>0</th>\n",
       "      <td>-0.0</td>\n",
       "      <td>kg</td>\n",
       "      <td>petroleum</td>\n",
       "      <td>petroleum production, onshore | petroleum | APOS, S | Russian Federation</td>\n",
       "      <td>transport, freight, sea, tanker for petroleum</td>\n",
       "      <td>transport, freight, sea, tanker for petroleum | transport, freight, sea, tanker for petroleum | APOS, S | Global</td>\n",
       "    </tr>\n",
       "    <tr>\n",
       "      <th>1</th>\n",
       "      <td>10000000.0</td>\n",
       "      <td>kg</td>\n",
       "      <td>petroleum</td>\n",
       "      <td>petroleum production, onshore | petroleum | APOS, S | Middle East</td>\n",
       "      <td>transport, freight, sea, tanker for petroleum</td>\n",
       "      <td>transport, freight, sea, tanker for petroleum | transport, freight, sea, tanker for petroleum | APOS, S | Global</td>\n",
       "    </tr>\n",
       "    <tr>\n",
       "      <th>2</th>\n",
       "      <td>-0.0</td>\n",
       "      <td>kg</td>\n",
       "      <td>petroleum</td>\n",
       "      <td>petroleum production, onshore | petroleum | APOS, S | Africa</td>\n",
       "      <td>transport, freight, sea, tanker for petroleum</td>\n",
       "      <td>transport, freight, sea, tanker for petroleum | transport, freight, sea, tanker for petroleum | APOS, S | Global</td>\n",
       "    </tr>\n",
       "  </tbody>\n",
       "</table>\n",
       "</div>"
      ],
      "text/plain": [
       "   Specific_Material_Transport_Flow Units        F_m  \\\n",
       "0                              -0.0    kg  petroleum   \n",
       "1                        10000000.0    kg  petroleum   \n",
       "2                              -0.0    kg  petroleum   \n",
       "\n",
       "                                                                        P_m  \\\n",
       "0  petroleum production, onshore | petroleum | APOS, S | Russian Federation   \n",
       "1         petroleum production, onshore | petroleum | APOS, S | Middle East   \n",
       "2              petroleum production, onshore | petroleum | APOS, S | Africa   \n",
       "\n",
       "                                             F_t  \\\n",
       "0  transport, freight, sea, tanker for petroleum   \n",
       "1  transport, freight, sea, tanker for petroleum   \n",
       "2  transport, freight, sea, tanker for petroleum   \n",
       "\n",
       "                                                                                                                P_t  \n",
       "0  transport, freight, sea, tanker for petroleum | transport, freight, sea, tanker for petroleum | APOS, S | Global  \n",
       "1  transport, freight, sea, tanker for petroleum | transport, freight, sea, tanker for petroleum | APOS, S | Global  \n",
       "2  transport, freight, sea, tanker for petroleum | transport, freight, sea, tanker for petroleum | APOS, S | Global  "
      ]
     },
     "execution_count": 17,
     "metadata": {},
     "output_type": "execute_result"
    }
   ],
   "source": [
    "mo.get_entity(model_instance.Specific_Material_Transport_Flow, lookup, units=['P_m'])"
   ]
  },
  {
   "cell_type": "code",
   "execution_count": 18,
   "metadata": {},
   "outputs": [
    {
     "data": {
      "text/html": [
       "<div>\n",
       "<style scoped>\n",
       "    .dataframe tbody tr th:only-of-type {\n",
       "        vertical-align: middle;\n",
       "    }\n",
       "\n",
       "    .dataframe tbody tr th {\n",
       "        vertical-align: top;\n",
       "    }\n",
       "\n",
       "    .dataframe thead th {\n",
       "        text-align: right;\n",
       "    }\n",
       "</style>\n",
       "<table border=\"1\" class=\"dataframe\">\n",
       "  <thead>\n",
       "    <tr style=\"text-align: right;\">\n",
       "      <th></th>\n",
       "      <th>Specific_Transport_Flow</th>\n",
       "      <th>Units</th>\n",
       "      <th>F_t</th>\n",
       "      <th>P_t</th>\n",
       "    </tr>\n",
       "  </thead>\n",
       "  <tbody>\n",
       "    <tr>\n",
       "      <th>0</th>\n",
       "      <td>2000000.0</td>\n",
       "      <td>t*km</td>\n",
       "      <td>transport, freight, sea, tanker for petroleum</td>\n",
       "      <td>transport, freight, sea, tanker for petroleum | transport, freight, sea, tanker for petroleum | APOS, S | Global</td>\n",
       "    </tr>\n",
       "  </tbody>\n",
       "</table>\n",
       "</div>"
      ],
      "text/plain": [
       "   Specific_Transport_Flow Units  \\\n",
       "0                2000000.0  t*km   \n",
       "\n",
       "                                             F_t  \\\n",
       "0  transport, freight, sea, tanker for petroleum   \n",
       "\n",
       "                                                                                                                P_t  \n",
       "0  transport, freight, sea, tanker for petroleum | transport, freight, sea, tanker for petroleum | APOS, S | Global  "
      ]
     },
     "execution_count": 18,
     "metadata": {},
     "output_type": "execute_result"
    }
   ],
   "source": [
    "mo.get_entity(model_instance.Specific_Transport_Flow, lookup, units=['P_t'])"
   ]
  },
  {
   "cell_type": "code",
   "execution_count": 19,
   "metadata": {},
   "outputs": [
    {
     "name": "stdout",
     "output_type": "stream",
     "text": [
      "obj2 : Size=1, Index=None, Active=True\n",
      "    Key  : Active : Sense    : Expression\n",
      "    None :   True : minimize : 0.192*Flow[e6aad2de-0b1b-49c3-a0c4-797ba34d87e5,81d22f90-89fc-3f04-845e-97615867d8f9,t1,t1] + 0.192*Flow[e6aad2de-0b1b-49c3-a0c4-797ba34d87e5,c1827905-bfad-3fa1-b00b-1303f970ae92,t1,t1] + 0.192*Flow[e6aad2de-0b1b-49c3-a0c4-797ba34d87e5,cd177b7d-e908-3e69-b40c-4827b4abaa4d,t1,t1] + 0.000313973464772506*Specific_Transport_Flow[774bc814-70cf-4389-8bf8-e6435174c72e,8d82d02e-f52f-41f9-aa10-ae607746b04e,t1,t1]\n"
     ]
    },
    {
     "data": {
      "text/plain": [
       "1920627.946929545"
      ]
     },
     "execution_count": 19,
     "metadata": {},
     "output_type": "execute_result"
    }
   ],
   "source": [
    "model_instance.obj2.pprint()\n",
    "value(model_instance.obj2)"
   ]
  },
  {
   "cell_type": "markdown",
   "metadata": {},
   "source": [
    "# Environment Impact and Cost\n",
    "\n",
    "In this section we consider both the environment impact and the cost of extracting and transporting the oil.\n",
    "\n",
    "We augment the cost sets by choosing the ReCiPe Midpoint method and the fossil depletion category."
   ]
  },
  {
   "cell_type": "code",
   "execution_count": 20,
   "metadata": {},
   "outputs": [
    {
     "data": {
      "application/vnd.jupyter.widget-view+json": {
       "model_id": "8777daf05fd742c6ac0e4050efdb06dc",
       "version_major": 2,
       "version_minor": 0
      },
      "text/plain": [
       "VBox(children=(Button(description='Save configuration', style=ButtonStyle()), Tab(children=(AppLayout(children…"
      ]
     },
     "metadata": {},
     "output_type": "display_data"
    }
   ],
   "source": [
    "env_set_file_name = 'Configuration/env_set_data.json'\n",
    "vbox, tab = mw.get_sets(spec, lookups, env_set_file_name)\n",
    "vbox"
   ]
  },
  {
   "cell_type": "markdown",
   "metadata": {},
   "source": [
    "We set both objective weights to one meaning that we value 1 kg Oil Eq. as much as 1 Euro."
   ]
  },
  {
   "cell_type": "code",
   "execution_count": 21,
   "metadata": {},
   "outputs": [
    {
     "name": "stdout",
     "output_type": "stream",
     "text": [
      "Model sets saved\n"
     ]
    },
    {
     "data": {
      "text/plain": [
       "{'F_m': ['e6aad2de-0b1b-49c3-a0c4-797ba34d87e5'],\n",
       " 'F_s': [],\n",
       " 'F_t': ['774bc814-70cf-4389-8bf8-e6435174c72e'],\n",
       " 'D': ['d1'],\n",
       " 'T': ['t1'],\n",
       " 'K': ['t1'],\n",
       " 'P_m': ['81d22f90-89fc-3f04-845e-97615867d8f9',\n",
       "  'c1827905-bfad-3fa1-b00b-1303f970ae92',\n",
       "  'cd177b7d-e908-3e69-b40c-4827b4abaa4d'],\n",
       " 'P_t': ['8d82d02e-f52f-41f9-aa10-ae607746b04e'],\n",
       " 'P_s': [],\n",
       " 'KPI': ['bf42d8f0-23fc-32f3-b159-f79bfccfec28'],\n",
       " 'OBJ': ['environment', 'cost'],\n",
       " 'F': [],\n",
       " 'P': []}"
      ]
     },
     "execution_count": 21,
     "metadata": {},
     "output_type": "execute_result"
    }
   ],
   "source": [
    "env_parameters_file_name = 'Configuration/env_parameters_data.json'\n",
    "env_set_data = mi.get_model_user_sets(spec, env_set_file_name)\n",
    "env_set_data"
   ]
  },
  {
   "cell_type": "code",
   "execution_count": 22,
   "metadata": {},
   "outputs": [
    {
     "data": {
      "application/vnd.jupyter.widget-view+json": {
       "model_id": "4df95840e3894b878f1d622b7237a500",
       "version_major": 2,
       "version_minor": 0
      },
      "text/plain": [
       "VBox(children=(Box(children=(Button(description='Save configuration', style=ButtonStyle()),)), QgridWidget(gri…"
      ]
     },
     "metadata": {},
     "output_type": "display_data"
    }
   ],
   "source": [
    "param_dfr, param_dict = mi.get_model_user_parameters(spec, env_set_data, env_parameters_file_name)\n",
    "mw.get_parameters(param_dfr, env_parameters_file_name)"
   ]
  },
  {
   "cell_type": "markdown",
   "metadata": {},
   "source": [
    "Then we rebuild the model."
   ]
  },
  {
   "cell_type": "code",
   "execution_count": 23,
   "metadata": {},
   "outputs": [],
   "source": [
    "json_files = [env_set_file_name, env_parameters_file_name]\n",
    "model_instance2 = spec.populate(json_files)"
   ]
  },
  {
   "cell_type": "markdown",
   "metadata": {},
   "source": [
    "First we activate the environmental and cost objectives in the model instance and solve."
   ]
  },
  {
   "cell_type": "code",
   "execution_count": 24,
   "metadata": {},
   "outputs": [
    {
     "name": "stdout",
     "output_type": "stream",
     "text": [
      "# ==========================================================\n",
      "# = Solver Results                                         =\n",
      "# ==========================================================\n",
      "# ----------------------------------------------------------\n",
      "#   Problem Information\n",
      "# ----------------------------------------------------------\n",
      "Problem: \n",
      "- Name: unknown\n",
      "  Lower bound: 12688000.1655666\n",
      "  Upper bound: 12688000.1655666\n",
      "  Number of objectives: 1\n",
      "  Number of constraints: 8\n",
      "  Number of variables: 9\n",
      "  Number of nonzeros: 18\n",
      "  Sense: minimize\n",
      "# ----------------------------------------------------------\n",
      "#   Solver Information\n",
      "# ----------------------------------------------------------\n",
      "Solver: \n",
      "- Status: ok\n",
      "  Termination condition: optimal\n",
      "  Statistics: \n",
      "    Branch and bound: \n",
      "      Number of bounded subproblems: 1\n",
      "      Number of created subproblems: 1\n",
      "  Error rc: 0\n",
      "  Time: 0.022379159927368164\n",
      "# ----------------------------------------------------------\n",
      "#   Solution Information\n",
      "# ----------------------------------------------------------\n",
      "Solution: \n",
      "- number of solutions: 0\n",
      "  number of solutions displayed: 0\n"
     ]
    }
   ],
   "source": [
    "model_instance2.obj1.deactivate()\n",
    "model_instance2.obj2.deactivate()\n",
    "model_instance2.obj.activate()\n",
    "results = opt.solve(model_instance2)\n",
    "results.write()"
   ]
  },
  {
   "cell_type": "code",
   "execution_count": 25,
   "metadata": {},
   "outputs": [
    {
     "data": {
      "text/html": [
       "<div>\n",
       "<style scoped>\n",
       "    .dataframe tbody tr th:only-of-type {\n",
       "        vertical-align: middle;\n",
       "    }\n",
       "\n",
       "    .dataframe tbody tr th {\n",
       "        vertical-align: top;\n",
       "    }\n",
       "\n",
       "    .dataframe thead th {\n",
       "        text-align: right;\n",
       "    }\n",
       "</style>\n",
       "<table border=\"1\" class=\"dataframe\">\n",
       "  <thead>\n",
       "    <tr style=\"text-align: right;\">\n",
       "      <th></th>\n",
       "      <th>Flow</th>\n",
       "      <th>Units</th>\n",
       "      <th>F_m</th>\n",
       "      <th>P_m</th>\n",
       "    </tr>\n",
       "  </thead>\n",
       "  <tbody>\n",
       "    <tr>\n",
       "      <th>0</th>\n",
       "      <td>0.0</td>\n",
       "      <td>kg</td>\n",
       "      <td>petroleum</td>\n",
       "      <td>petroleum production, onshore | petroleum | APOS, S | Russian Federation</td>\n",
       "    </tr>\n",
       "    <tr>\n",
       "      <th>1</th>\n",
       "      <td>10000000.0</td>\n",
       "      <td>kg</td>\n",
       "      <td>petroleum</td>\n",
       "      <td>petroleum production, onshore | petroleum | APOS, S | Middle East</td>\n",
       "    </tr>\n",
       "    <tr>\n",
       "      <th>2</th>\n",
       "      <td>0.0</td>\n",
       "      <td>kg</td>\n",
       "      <td>petroleum</td>\n",
       "      <td>petroleum production, onshore | petroleum | APOS, S | Africa</td>\n",
       "    </tr>\n",
       "  </tbody>\n",
       "</table>\n",
       "</div>"
      ],
      "text/plain": [
       "         Flow Units        F_m  \\\n",
       "0         0.0    kg  petroleum   \n",
       "1  10000000.0    kg  petroleum   \n",
       "2         0.0    kg  petroleum   \n",
       "\n",
       "                                                                        P_m  \n",
       "0  petroleum production, onshore | petroleum | APOS, S | Russian Federation  \n",
       "1         petroleum production, onshore | petroleum | APOS, S | Middle East  \n",
       "2              petroleum production, onshore | petroleum | APOS, S | Africa  "
      ]
     },
     "execution_count": 25,
     "metadata": {},
     "output_type": "execute_result"
    }
   ],
   "source": [
    "mo.get_entity(model_instance.Flow, lookup, units=True)"
   ]
  },
  {
   "cell_type": "code",
   "execution_count": 26,
   "metadata": {},
   "outputs": [
    {
     "data": {
      "text/html": [
       "<div>\n",
       "<style scoped>\n",
       "    .dataframe tbody tr th:only-of-type {\n",
       "        vertical-align: middle;\n",
       "    }\n",
       "\n",
       "    .dataframe tbody tr th {\n",
       "        vertical-align: top;\n",
       "    }\n",
       "\n",
       "    .dataframe thead th {\n",
       "        text-align: right;\n",
       "    }\n",
       "</style>\n",
       "<table border=\"1\" class=\"dataframe\">\n",
       "  <thead>\n",
       "    <tr style=\"text-align: right;\">\n",
       "      <th></th>\n",
       "      <th>Specific_Material_Transport_Flow</th>\n",
       "      <th>Units</th>\n",
       "      <th>F_m</th>\n",
       "      <th>P_m</th>\n",
       "      <th>F_t</th>\n",
       "      <th>P_t</th>\n",
       "    </tr>\n",
       "  </thead>\n",
       "  <tbody>\n",
       "    <tr>\n",
       "      <th>0</th>\n",
       "      <td>-0.0</td>\n",
       "      <td>kg</td>\n",
       "      <td>petroleum</td>\n",
       "      <td>petroleum production, onshore | petroleum | APOS, S | Russian Federation</td>\n",
       "      <td>transport, freight, sea, tanker for petroleum</td>\n",
       "      <td>transport, freight, sea, tanker for petroleum | transport, freight, sea, tanker for petroleum | APOS, S | Global</td>\n",
       "    </tr>\n",
       "    <tr>\n",
       "      <th>1</th>\n",
       "      <td>10000000.0</td>\n",
       "      <td>kg</td>\n",
       "      <td>petroleum</td>\n",
       "      <td>petroleum production, onshore | petroleum | APOS, S | Middle East</td>\n",
       "      <td>transport, freight, sea, tanker for petroleum</td>\n",
       "      <td>transport, freight, sea, tanker for petroleum | transport, freight, sea, tanker for petroleum | APOS, S | Global</td>\n",
       "    </tr>\n",
       "    <tr>\n",
       "      <th>2</th>\n",
       "      <td>-0.0</td>\n",
       "      <td>kg</td>\n",
       "      <td>petroleum</td>\n",
       "      <td>petroleum production, onshore | petroleum | APOS, S | Africa</td>\n",
       "      <td>transport, freight, sea, tanker for petroleum</td>\n",
       "      <td>transport, freight, sea, tanker for petroleum | transport, freight, sea, tanker for petroleum | APOS, S | Global</td>\n",
       "    </tr>\n",
       "  </tbody>\n",
       "</table>\n",
       "</div>"
      ],
      "text/plain": [
       "   Specific_Material_Transport_Flow Units        F_m  \\\n",
       "0                              -0.0    kg  petroleum   \n",
       "1                        10000000.0    kg  petroleum   \n",
       "2                              -0.0    kg  petroleum   \n",
       "\n",
       "                                                                        P_m  \\\n",
       "0  petroleum production, onshore | petroleum | APOS, S | Russian Federation   \n",
       "1         petroleum production, onshore | petroleum | APOS, S | Middle East   \n",
       "2              petroleum production, onshore | petroleum | APOS, S | Africa   \n",
       "\n",
       "                                             F_t  \\\n",
       "0  transport, freight, sea, tanker for petroleum   \n",
       "1  transport, freight, sea, tanker for petroleum   \n",
       "2  transport, freight, sea, tanker for petroleum   \n",
       "\n",
       "                                                                                                                P_t  \n",
       "0  transport, freight, sea, tanker for petroleum | transport, freight, sea, tanker for petroleum | APOS, S | Global  \n",
       "1  transport, freight, sea, tanker for petroleum | transport, freight, sea, tanker for petroleum | APOS, S | Global  \n",
       "2  transport, freight, sea, tanker for petroleum | transport, freight, sea, tanker for petroleum | APOS, S | Global  "
      ]
     },
     "execution_count": 26,
     "metadata": {},
     "output_type": "execute_result"
    }
   ],
   "source": [
    "mo.get_entity(model_instance2.Specific_Material_Transport_Flow, lookup, units=True)"
   ]
  },
  {
   "cell_type": "code",
   "execution_count": 27,
   "metadata": {},
   "outputs": [
    {
     "data": {
      "text/html": [
       "<div>\n",
       "<style scoped>\n",
       "    .dataframe tbody tr th:only-of-type {\n",
       "        vertical-align: middle;\n",
       "    }\n",
       "\n",
       "    .dataframe tbody tr th {\n",
       "        vertical-align: top;\n",
       "    }\n",
       "\n",
       "    .dataframe thead th {\n",
       "        text-align: right;\n",
       "    }\n",
       "</style>\n",
       "<table border=\"1\" class=\"dataframe\">\n",
       "  <thead>\n",
       "    <tr style=\"text-align: right;\">\n",
       "      <th></th>\n",
       "      <th>Specific_Transport_Flow</th>\n",
       "      <th>Units</th>\n",
       "      <th>F_t</th>\n",
       "      <th>P_t</th>\n",
       "    </tr>\n",
       "  </thead>\n",
       "  <tbody>\n",
       "    <tr>\n",
       "      <th>0</th>\n",
       "      <td>2000000.0</td>\n",
       "      <td>t*km</td>\n",
       "      <td>transport, freight, sea, tanker for petroleum</td>\n",
       "      <td>transport, freight, sea, tanker for petroleum | transport, freight, sea, tanker for petroleum | APOS, S | Global</td>\n",
       "    </tr>\n",
       "  </tbody>\n",
       "</table>\n",
       "</div>"
      ],
      "text/plain": [
       "   Specific_Transport_Flow Units  \\\n",
       "0                2000000.0  t*km   \n",
       "\n",
       "                                             F_t  \\\n",
       "0  transport, freight, sea, tanker for petroleum   \n",
       "\n",
       "                                                                                                                P_t  \n",
       "0  transport, freight, sea, tanker for petroleum | transport, freight, sea, tanker for petroleum | APOS, S | Global  "
      ]
     },
     "execution_count": 27,
     "metadata": {},
     "output_type": "execute_result"
    }
   ],
   "source": [
    "mo.get_entity(model_instance2.Specific_Transport_Flow, lookup, units=True)"
   ]
  },
  {
   "cell_type": "code",
   "execution_count": 28,
   "metadata": {},
   "outputs": [
    {
     "name": "stdout",
     "output_type": "stream",
     "text": [
      "{Member of obj} : Size=1, Index=KPI, Active=True\n",
      "    Key                                  : Active : Sense    : Expression\n",
      "    bf42d8f0-23fc-32f3-b159-f79bfccfec28 :   True : minimize : 1.2465446689611002*Flow[e6aad2de-0b1b-49c3-a0c4-797ba34d87e5,81d22f90-89fc-3f04-845e-97615867d8f9,t1,t1] + 1.0763621196391002*Flow[e6aad2de-0b1b-49c3-a0c4-797ba34d87e5,c1827905-bfad-3fa1-b00b-1303f970ae92,t1,t1] + 1.1559145794208001*Flow[e6aad2de-0b1b-49c3-a0c4-797ba34d87e5,cd177b7d-e908-3e69-b40c-4827b4abaa4d,t1,t1] + 0.00187551112301*Specific_Transport_Flow[774bc814-70cf-4389-8bf8-e6435174c72e,8d82d02e-f52f-41f9-aa10-ae607746b04e,t1,t1] + 0.192*Flow[e6aad2de-0b1b-49c3-a0c4-797ba34d87e5,81d22f90-89fc-3f04-845e-97615867d8f9,t1,t1] + 0.192*Flow[e6aad2de-0b1b-49c3-a0c4-797ba34d87e5,c1827905-bfad-3fa1-b00b-1303f970ae92,t1,t1] + 0.192*Flow[e6aad2de-0b1b-49c3-a0c4-797ba34d87e5,cd177b7d-e908-3e69-b40c-4827b4abaa4d,t1,t1] + 0.000313973464772506*Specific_Transport_Flow[774bc814-70cf-4389-8bf8-e6435174c72e,8d82d02e-f52f-41f9-aa10-ae607746b04e,t1,t1]\n"
     ]
    }
   ],
   "source": [
    "model_instance2.obj['bf42d8f0-23fc-32f3-b159-f79bfccfec28'].pprint()"
   ]
  },
  {
   "cell_type": "code",
   "execution_count": 29,
   "metadata": {},
   "outputs": [
    {
     "name": "stdout",
     "output_type": "stream",
     "text": [
      "12688000.165566565\n",
      "12688000.165566565\n"
     ]
    }
   ],
   "source": [
    "print(value(model_instance2.obj1['bf42d8f0-23fc-32f3-b159-f79bfccfec28']) + value(model_instance2.obj2))\n",
    "print(value(model_instance2.obj['bf42d8f0-23fc-32f3-b159-f79bfccfec28']))"
   ]
  }
 ],
 "metadata": {
  "kernelspec": {
   "display_name": "Python 3",
   "language": "python",
   "name": "python3"
  },
  "language_info": {
   "codemirror_mode": {
    "name": "ipython",
    "version": 3
   },
   "file_extension": ".py",
   "mimetype": "text/x-python",
   "name": "python",
   "nbconvert_exporter": "python",
   "pygments_lexer": "ipython3",
   "version": "3.7.9"
  },
  "toc": {
   "base_numbering": 1,
   "nav_menu": {},
   "number_sections": true,
   "sideBar": true,
   "skip_h1_title": false,
   "title_cell": "Table of Contents",
   "title_sidebar": "Contents",
   "toc_cell": false,
   "toc_position": {
    "height": "calc(100% - 180px)",
    "left": "10px",
    "top": "150px",
    "width": "284.438px"
   },
   "toc_section_display": true,
   "toc_window_display": true
  },
  "varInspector": {
   "cols": {
    "lenName": 16,
    "lenType": 16,
    "lenVar": 40
   },
   "kernels_config": {
    "python": {
     "delete_cmd_postfix": "",
     "delete_cmd_prefix": "del ",
     "library": "var_list.py",
     "varRefreshCmd": "print(var_dic_list())"
    },
    "r": {
     "delete_cmd_postfix": ") ",
     "delete_cmd_prefix": "rm(",
     "library": "var_list.r",
     "varRefreshCmd": "cat(var_dic_list()) "
    }
   },
   "types_to_exclude": [
    "module",
    "function",
    "builtin_function_or_method",
    "instance",
    "_Feature"
   ],
   "window_display": false
  }
 },
 "nbformat": 4,
 "nbformat_minor": 4
}
